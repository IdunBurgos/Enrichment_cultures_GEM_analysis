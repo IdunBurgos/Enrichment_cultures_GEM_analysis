{
 "cells": [
  {
   "cell_type": "markdown",
   "id": "eb8b9c7e-852b-4973-8778-f584a76b6c23",
   "metadata": {},
   "source": [
    "## Compounds produced by commmunity"
   ]
  },
  {
   "cell_type": "code",
   "execution_count": 1,
   "id": "e891a9b8-f145-4444-9ea9-426c14ca4611",
   "metadata": {},
   "outputs": [],
   "source": [
    "import pandas as pd\n",
    "import reframed\n",
    "import os\n",
    "import json\n",
    "import sys\n",
    "\n",
    "sys.path.append('../functions')\n",
    "\n",
    "import translation_dicts\n",
    "import general_functions as general_func"
   ]
  },
  {
   "cell_type": "code",
   "execution_count": 2,
   "id": "cc03d769-2657-46bf-be0f-f89cc7c359a6",
   "metadata": {},
   "outputs": [],
   "source": [
    "compounds_dict, source_dict,substrate_dict, gas_sheet_dict, community_dict = translation_dicts.translation_dicts()"
   ]
  },
  {
   "cell_type": "code",
   "execution_count": 3,
   "id": "899eef8a-7c93-46e5-8ab6-e82279071a79",
   "metadata": {},
   "outputs": [
    {
     "data": {
      "text/plain": [
       "{'Aceticacid(mg/L)': 'ac',\n",
       " 'Ethanol(mg/L)': 'etoh',\n",
       " 'Propionicacid(mg/L)': 'ppa',\n",
       " 'Butyricacid(mg/L)': 'but',\n",
       " 'Lacticacid(mg/L)': 'lac__L',\n",
       " 'Formicacid(mg/L)': 'for',\n",
       " 'Valericacid(mg/L)': 'pta',\n",
       " '1-Propanol(mg/L)': 'ppoh',\n",
       " 'Isovalericacid(mg/L)': '3mb',\n",
       " 'Caproicacid(mg/L)': 'hxa',\n",
       " 'Isobutyricacid(mg/L)': 'ibt',\n",
       " 'Levulinicacid': '4oxptn',\n",
       " 'Hydrogen': 'h2',\n",
       " 'CO2': 'co2'}"
      ]
     },
     "execution_count": 3,
     "metadata": {},
     "output_type": "execute_result"
    }
   ],
   "source": [
    "compounds_dict['Isovalericacid(mg/L)'] = '3mb'\n",
    "compounds_dict['Hydrogen'] = 'h2'\n",
    "compounds_dict['CO2'] = 'co2'\n",
    "compounds_dict"
   ]
  },
  {
   "cell_type": "code",
   "execution_count": 4,
   "id": "619dfd7c-96ed-40e9-a396-4f488e4a668b",
   "metadata": {},
   "outputs": [
    {
     "data": {
      "text/plain": [
       "{'Aceticacid(mg/L)': ['ac'],\n",
       " 'Ethanol(mg/L)': ['etoh'],\n",
       " 'Propionicacid(mg/L)': ['ppa'],\n",
       " 'Butyricacid(mg/L)': ['but'],\n",
       " 'Lacticacid(mg/L)': ['lac__L'],\n",
       " 'Formicacid(mg/L)': ['for'],\n",
       " 'Valericacid(mg/L)': ['pta'],\n",
       " '1-Propanol(mg/L)': ['ppoh'],\n",
       " 'Isovalericacid(mg/L)': ['3mb', '3mb', 'ival'],\n",
       " 'Caproicacid(mg/L)': ['caproic', 'hxa'],\n",
       " 'Isobutyricacid(mg/L)': ['isobuta', 'ibt', '2mpa'],\n",
       " 'Levulinicacid': ['4opa', '4oxptn'],\n",
       " 'Hydrogen': ['h2'],\n",
       " 'CO2': ['co2']}"
      ]
     },
     "execution_count": 4,
     "metadata": {},
     "output_type": "execute_result"
    }
   ],
   "source": [
    "compounds_dict_list = {name:[id_] for name,id_ in compounds_dict.items()}\n",
    "\n",
    "compounds_dict_list[\"Isobutyricacid(mg/L)\"] = ['isobuta','ibt','2mpa']\n",
    "compounds_dict_list[\"Isovalericacid(mg/L)\"] = ['3mb','3mb','ival']\n",
    "compounds_dict_list['Caproicacid(mg/L)'] = ['caproic','hxa']\n",
    "compounds_dict_list[\"Levulinicacid\"] = ['4opa','4oxptn']\n",
    "\n",
    "compounds_dict_list['Hydrogen'] = ['h2']\n",
    "compounds_dict_list['CO2'] = ['co2']\n",
    "compounds_dict_list"
   ]
  },
  {
   "cell_type": "markdown",
   "id": "adbfc7d8-2bc7-4dd9-8c6d-762ba65d3a80",
   "metadata": {},
   "source": [
    "### Make overview of all compounds measured the enrichment cultures\n",
    "\n",
    "The strategy for defining if the compound is produced or not is:\n",
    "- Assuming that positive concertation==the compound is produced by the community"
   ]
  },
  {
   "cell_type": "raw",
   "id": "4b84458b-bbfd-48d8-a3fe-7cf82daaec72",
   "metadata": {},
   "source": [
    "community_production = {}\n",
    "\n",
    "# For each source \n",
    "for name, id_source in source_dict.items():\n",
    "    \n",
    "    # Read and process excel sheet\n",
    "    ## Get the Excel sheet specifically for the source\n",
    "    data_df = pd.read_excel(\"../input/files_from_fairdomhub/enrichment_cultures _data.xlsx\",sheet_name=name)\n",
    "    data_df.dropna(how='all', axis='columns',inplace=True)\n",
    "    \n",
    "    data_df = data_df.iloc[:,1:-1]\n",
    "    data_df.set_index(\"Sample name \",inplace=True)\n",
    "    data_df.columns = [col.replace(\" \",\"\") for col in data_df.columns]\n",
    "    \n",
    "    # For each substrate\n",
    "    for name_sub,id_sub in substrate_dict.items():\n",
    "        community_id = id_source+\"_\"+id_sub\n",
    "                \n",
    "        if community_id==\"M_A\": # Marshland on Avicel is not a combination in our experiments.\n",
    "            continue\n",
    "        \n",
    "        community_production[community_id]={}\n",
    "        data_df_sub_max = data_df[data_df.index.str.contains(community_id)].max()\n",
    "        \n",
    "        # For each compound in our analysis\n",
    "        for compound in compounds_dict.keys():\n",
    "            if compound not in data_df_sub_max.index:\n",
    "                print(community_id)\n",
    "                print(compound + \" not in columns\")\n",
    "                continue\n",
    "            \n",
    "            # If max concentration is higher than 0 -> assume that it is produced by a community member\n",
    "            if data_df_sub_max[compound]>0:\n",
    "                community_production[community_id][\"R_EX_\"+compounds_dict[compound]+\"_e\"]=1\n",
    "                \n",
    "        # These gasses where observed for all enrichment cultures. (for gasses CH4 is not included because it is not a part of the bacterial universal model)\n",
    "        community_production[community_id][\"R_EX_h2_e\"]=1\n",
    "        community_production[community_id][\"R_EX_co2_e\"]=1"
   ]
  },
  {
   "cell_type": "code",
   "execution_count": 5,
   "id": "f388e9da-a191-4295-881f-16203405172c",
   "metadata": {},
   "outputs": [
    {
     "name": "stdout",
     "output_type": "stream",
     "text": [
      "M_X\n",
      "Hydrogen not in columns\n",
      "M_X\n",
      "CO2 not in columns\n",
      "M_P\n",
      "Hydrogen not in columns\n",
      "M_P\n",
      "CO2 not in columns\n",
      "CD_X\n",
      "Hydrogen not in columns\n",
      "CD_X\n",
      "CO2 not in columns\n",
      "CD_A\n",
      "Hydrogen not in columns\n",
      "CD_A\n",
      "CO2 not in columns\n",
      "CD_P\n",
      "Hydrogen not in columns\n",
      "CD_P\n",
      "CO2 not in columns\n",
      "CM_X\n",
      "Hydrogen not in columns\n",
      "CM_X\n",
      "CO2 not in columns\n",
      "CM_A\n",
      "Hydrogen not in columns\n",
      "CM_A\n",
      "CO2 not in columns\n",
      "CM_P\n",
      "Hydrogen not in columns\n",
      "CM_P\n",
      "CO2 not in columns\n"
     ]
    }
   ],
   "source": [
    "community_production_names = {}\n",
    "\n",
    "# For each source \n",
    "for name, id_source in source_dict.items():\n",
    "    \n",
    "    # Read and process excel sheet\n",
    "    ## Get the Excel sheet specifically for the source\n",
    "    data_df = pd.read_excel(\"../input/files_from_fairdomhub/enrichment_cultures _data.xlsx\",sheet_name=name)\n",
    "    data_df.dropna(how='all', axis='columns',inplace=True)\n",
    "    \n",
    "    data_df = data_df.iloc[:,1:-1]\n",
    "    data_df.set_index(\"Sample name \",inplace=True)\n",
    "    data_df.columns = [col.replace(\" \",\"\") for col in data_df.columns]\n",
    "    \n",
    "    # For each substrate\n",
    "    for name_sub,id_sub in substrate_dict.items():\n",
    "        community_id = id_source+\"_\"+id_sub\n",
    "                \n",
    "        if community_id==\"M_A\": # Marshland on Avicel is not a combination in our experiments.\n",
    "            continue\n",
    "        \n",
    "        community_production_names[community_id]={}\n",
    "        data_df_sub_max = data_df[data_df.index.str.contains(community_id)].max()\n",
    "        \n",
    "        # For each compound in our analysis\n",
    "        for compound in compounds_dict.keys():\n",
    "            if compound not in data_df_sub_max.index:\n",
    "                print(community_id)\n",
    "                print(compound + \" not in columns\")\n",
    "                continue\n",
    "            \n",
    "            # If max concentration is higher than 0 -> assume that it is produced by a community member\n",
    "            if data_df_sub_max[compound]>0:\n",
    "                community_production_names[community_id][compound]=1\n",
    "                \n",
    "        # These gasses where observed for all enrichment cultures. (for gasses CH4 is not included because it is not a part of the bacterial universal model)\n",
    "        community_production_names[community_id][\"Hydrogen\"]=1\n",
    "        community_production_names[community_id][\"CO2\"]=1"
   ]
  },
  {
   "cell_type": "code",
   "execution_count": 6,
   "id": "ca685523-2038-461a-be5e-626c0159ec86",
   "metadata": {},
   "outputs": [
    {
     "data": {
      "text/plain": [
       "{'M_X': {'Aceticacid(mg/L)': 1,\n",
       "  'Ethanol(mg/L)': 1,\n",
       "  'Propionicacid(mg/L)': 1,\n",
       "  'Butyricacid(mg/L)': 1,\n",
       "  'Formicacid(mg/L)': 1,\n",
       "  '1-Propanol(mg/L)': 1,\n",
       "  'Isovalericacid(mg/L)': 1,\n",
       "  'Caproicacid(mg/L)': 1,\n",
       "  'Isobutyricacid(mg/L)': 1,\n",
       "  'Hydrogen': 1,\n",
       "  'CO2': 1},\n",
       " 'M_P': {'Aceticacid(mg/L)': 1,\n",
       "  'Ethanol(mg/L)': 1,\n",
       "  'Butyricacid(mg/L)': 1,\n",
       "  'Formicacid(mg/L)': 1,\n",
       "  '1-Propanol(mg/L)': 1,\n",
       "  'Caproicacid(mg/L)': 1,\n",
       "  'Hydrogen': 1,\n",
       "  'CO2': 1},\n",
       " 'CD_X': {'Aceticacid(mg/L)': 1,\n",
       "  'Ethanol(mg/L)': 1,\n",
       "  'Propionicacid(mg/L)': 1,\n",
       "  'Butyricacid(mg/L)': 1,\n",
       "  'Lacticacid(mg/L)': 1,\n",
       "  'Formicacid(mg/L)': 1,\n",
       "  'Valericacid(mg/L)': 1,\n",
       "  '1-Propanol(mg/L)': 1,\n",
       "  'Caproicacid(mg/L)': 1,\n",
       "  'Isobutyricacid(mg/L)': 1,\n",
       "  'Levulinicacid': 1,\n",
       "  'Hydrogen': 1,\n",
       "  'CO2': 1},\n",
       " 'CD_A': {'Aceticacid(mg/L)': 1,\n",
       "  'Ethanol(mg/L)': 1,\n",
       "  'Propionicacid(mg/L)': 1,\n",
       "  'Butyricacid(mg/L)': 1,\n",
       "  'Lacticacid(mg/L)': 1,\n",
       "  '1-Propanol(mg/L)': 1,\n",
       "  'Isovalericacid(mg/L)': 1,\n",
       "  'Hydrogen': 1,\n",
       "  'CO2': 1},\n",
       " 'CD_P': {'Aceticacid(mg/L)': 1,\n",
       "  'Ethanol(mg/L)': 1,\n",
       "  'Propionicacid(mg/L)': 1,\n",
       "  'Butyricacid(mg/L)': 1,\n",
       "  'Valericacid(mg/L)': 1,\n",
       "  '1-Propanol(mg/L)': 1,\n",
       "  'Isovalericacid(mg/L)': 1,\n",
       "  'Levulinicacid': 1,\n",
       "  'Hydrogen': 1,\n",
       "  'CO2': 1},\n",
       " 'CM_X': {'Aceticacid(mg/L)': 1,\n",
       "  'Ethanol(mg/L)': 1,\n",
       "  'Propionicacid(mg/L)': 1,\n",
       "  'Butyricacid(mg/L)': 1,\n",
       "  'Lacticacid(mg/L)': 1,\n",
       "  'Formicacid(mg/L)': 1,\n",
       "  'Levulinicacid': 1,\n",
       "  'Hydrogen': 1,\n",
       "  'CO2': 1},\n",
       " 'CM_A': {'Aceticacid(mg/L)': 1,\n",
       "  'Propionicacid(mg/L)': 1,\n",
       "  'Valericacid(mg/L)': 1,\n",
       "  'Isovalericacid(mg/L)': 1,\n",
       "  'Caproicacid(mg/L)': 1,\n",
       "  'Isobutyricacid(mg/L)': 1,\n",
       "  'Levulinicacid': 1,\n",
       "  'Hydrogen': 1,\n",
       "  'CO2': 1},\n",
       " 'CM_P': {'Aceticacid(mg/L)': 1,\n",
       "  'Ethanol(mg/L)': 1,\n",
       "  'Propionicacid(mg/L)': 1,\n",
       "  'Butyricacid(mg/L)': 1,\n",
       "  'Valericacid(mg/L)': 1,\n",
       "  '1-Propanol(mg/L)': 1,\n",
       "  'Isovalericacid(mg/L)': 1,\n",
       "  'Caproicacid(mg/L)': 1,\n",
       "  'Isobutyricacid(mg/L)': 1,\n",
       "  'Levulinicacid': 1,\n",
       "  'Hydrogen': 1,\n",
       "  'CO2': 1}}"
      ]
     },
     "execution_count": 6,
     "metadata": {},
     "output_type": "execute_result"
    }
   ],
   "source": [
    "community_production_names"
   ]
  },
  {
   "cell_type": "code",
   "execution_count": 8,
   "id": "79798928-65a4-47ab-9a9f-8f136dd019b5",
   "metadata": {},
   "outputs": [
    {
     "data": {
      "text/plain": [
       "{'Aceticacid(mg/L)': ['ac'],\n",
       " 'Ethanol(mg/L)': ['etoh'],\n",
       " 'Propionicacid(mg/L)': ['ppa'],\n",
       " 'Butyricacid(mg/L)': ['but'],\n",
       " 'Lacticacid(mg/L)': ['lac__L'],\n",
       " 'Formicacid(mg/L)': ['for'],\n",
       " 'Valericacid(mg/L)': ['pta'],\n",
       " '1-Propanol(mg/L)': ['ppoh'],\n",
       " 'Isovalericacid(mg/L)': ['3mb', '3mb', 'ival'],\n",
       " 'Caproicacid(mg/L)': ['caproic', 'hxa'],\n",
       " 'Isobutyricacid(mg/L)': ['isobuta', 'ibt', '2mpa'],\n",
       " 'Levulinicacid': ['4opa', '4oxptn'],\n",
       " 'Hydrogen': ['h2'],\n",
       " 'CO2': ['co2']}"
      ]
     },
     "execution_count": 8,
     "metadata": {},
     "output_type": "execute_result"
    }
   ],
   "source": [
    "compounds_dict_list"
   ]
  },
  {
   "cell_type": "markdown",
   "id": "32842efa-d33f-47d3-ba40-832fa1fd2c0f",
   "metadata": {},
   "source": [
    "### Save data "
   ]
  },
  {
   "cell_type": "code",
   "execution_count": 15,
   "id": "f369ab7e-70eb-4153-a925-4d3842febb42",
   "metadata": {},
   "outputs": [],
   "source": [
    "with open(\"../output/community_production.json\", \"w\") as outfile: \n",
    "    json.dump(community_production, outfile)"
   ]
  },
  {
   "cell_type": "code",
   "execution_count": 16,
   "id": "c2342b11-35ff-458f-b7db-661c09b2644e",
   "metadata": {},
   "outputs": [],
   "source": [
    "with open(\"../output/community_production_names.json\", \"w\") as outfile: \n",
    "    json.dump(community_production_names, outfile)"
   ]
  },
  {
   "cell_type": "code",
   "execution_count": 17,
   "id": "f75d4555-fe97-4889-b9f7-a56def0bfc7b",
   "metadata": {},
   "outputs": [],
   "source": [
    "with open(\"../output/compounds_dict_list.json\", \"w\") as outfile: \n",
    "    json.dump(compounds_dict_list, outfile)"
   ]
  },
  {
   "cell_type": "code",
   "execution_count": 18,
   "id": "140896de-cb33-418d-b165-3c7cdc993b4a",
   "metadata": {},
   "outputs": [],
   "source": [
    "with open(\"../output/compounds_dict.json\", \"w\") as outfile: \n",
    "    json.dump(compounds_dict, outfile)"
   ]
  },
  {
   "cell_type": "code",
   "execution_count": null,
   "id": "8276e4c7-8449-4b73-bede-b8bc7fbc31e2",
   "metadata": {},
   "outputs": [],
   "source": []
  }
 ],
 "metadata": {
  "kernelspec": {
   "display_name": "MAGs_RecAndAn2",
   "language": "python",
   "name": "mags_recandan2"
  },
  "language_info": {
   "codemirror_mode": {
    "name": "ipython",
    "version": 3
   },
   "file_extension": ".py",
   "mimetype": "text/x-python",
   "name": "python",
   "nbconvert_exporter": "python",
   "pygments_lexer": "ipython3",
   "version": "3.9.13"
  }
 },
 "nbformat": 4,
 "nbformat_minor": 5
}

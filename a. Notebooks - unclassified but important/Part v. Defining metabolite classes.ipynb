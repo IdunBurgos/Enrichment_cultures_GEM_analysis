{
 "cells": [
  {
   "cell_type": "code",
   "execution_count": null,
   "id": "b15e7b1f-6fe2-4235-ab91-47cc67c3e8aa",
   "metadata": {},
   "outputs": [],
   "source": []
  },
  {
   "cell_type": "code",
   "execution_count": 1,
   "id": "3b0038b7-b9b9-457a-8706-048913ba1544",
   "metadata": {},
   "outputs": [],
   "source": [
    "from libchebipy._chebi_entity import ChebiEntity\n",
    "import os\n",
    "import json\n",
    "\n",
    "import reframed\n",
    "import pandas as pd\n",
    "import numpy as np\n",
    "\n",
    "import collections"
   ]
  },
  {
   "cell_type": "markdown",
   "id": "7e984d9b-423e-4be1-84b5-769d9681a37a",
   "metadata": {},
   "source": [
    "### Load models"
   ]
  },
  {
   "cell_type": "code",
   "execution_count": 2,
   "id": "5310d84b-f51c-4df7-aab6-cb2d9c38ea75",
   "metadata": {
    "scrolled": true,
    "tags": []
   },
   "outputs": [
    {
     "name": "stdout",
     "output_type": "stream",
     "text": [
      "CH9-bin.8.xml\n",
      "CH7-bin.24.xml\n",
      "CH7-bin.18.xml\n",
      "CH15-bin.7.xml\n",
      "CH13-bin.10.xml\n",
      "CH13-bin.0.xml\n",
      "CH1-bin.4.xml\n",
      "CH1-bin.5.xml\n",
      "CH13-bin.1.xml\n",
      "CH13-bin.11.xml\n",
      "CH15-bin.6.xml\n",
      "CH7-bin.2.xml\n",
      "CH7-bin.25.xml\n",
      "CH15-bin.4.xml\n",
      "CH15-bin.18.xml\n",
      "CH13-bin.13.xml\n",
      "CH1-bin.10.xml\n",
      "CH1-bin.7.xml\n",
      "CH1-bin.6.xml\n",
      "CH13-bin.2.xml\n",
      "CH13-bin.12.xml\n",
      "CH15-bin.5.xml\n",
      "CH7-bin.1.xml\n",
      "CH15-bin.1.xml\n",
      "CH13-bin.16.xml\n",
      "CH13-bin.6.xml\n",
      "CH1-bin.2.xml\n",
      "CH1-bin.3.xml\n",
      "CH13-bin.17.xml\n",
      "CH15-bin.0.xml\n",
      "CH15-bin.20.xml\n",
      "CH7-bin.4.xml\n",
      "CH7-bin.23.xml\n",
      "CH7-bin.21.xml\n",
      "CH7-bin.6.xml\n",
      "CH15-bin.22.xml\n",
      "CH15-bin.2.xml\n",
      "CH1-bin.1.xml\n",
      "CH1-bin.0.xml\n",
      "CH13-bin.4.xml\n",
      "CH13-bin.14.xml\n",
      "CH15-bin.3.xml\n",
      "CH15-bin.23.xml\n",
      "CH7-bin.20.xml\n",
      "CH8-bin.8.xml\n",
      "CH8-bin.9.xml\n",
      "CH8-bin.27.xml\n",
      "CH8-bin.25.xml\n",
      "CH14-bin.4.xml\n",
      "CH8-bin.20.xml\n",
      "CH14-bin.1.xml\n",
      "CH8-bin.21.xml\n",
      "CH14-bin.2.xml\n",
      "CH8-bin.22.xml\n",
      "CH8-bin.0.xml\n",
      "CH8-bin.12.xml\n",
      "CH8-bin.2.xml\n",
      "CH8-bin.11.xml\n",
      "CH8-bin.29.xml\n",
      "CH8-bin.7.xml\n",
      "CH8-bin.6.xml\n",
      "CH3-bin.2.xml\n",
      "CH8-bin.14.xml\n",
      "CH8-bin.16.xml\n",
      "CH3-bin.0.xml\n",
      "CH8-bin.4.xml\n",
      "CH8-bin.5.xml\n",
      "CH3-bin.1.xml\n",
      "CH8-bin.17.xml\n",
      "CH7-bin.11.xml\n",
      "CH9-bin.1.xml\n",
      "CH15-bin.12.xml\n",
      "CH13-bin.19.xml\n",
      "CH13-bin.25.xml\n",
      "CH13-bin.8.xml\n",
      "CH13-bin.24.xml\n",
      "CH15-bin.13.xml\n",
      "CH9-bin.0.xml\n",
      "CH7-bin.12.xml\n",
      "CH9-bin.2.xml\n",
      "CH7-bin.9.xml\n",
      "CH15-bin.11.xml\n",
      "CH15-bin.10.xml\n",
      "CH7-bin.8.xml\n",
      "CH7-bin.13.xml\n",
      "CH7-bin.17.xml\n",
      "CH15-bin.8.xml\n",
      "CH13-bin.22.xml\n",
      "CH7-bin.16.xml\n",
      "CH9-bin.6.xml\n",
      "CH9-bin.4.xml\n",
      "CH7-bin.14.xml\n",
      "CH15-bin.17.xml\n",
      "CH13-bin.20.xml\n",
      "CH1-bin.8.xml\n",
      "CH1-bin.9.xml\n",
      "CH13-bin.21.xml\n",
      "CH15-bin.16.xml\n",
      "CH7-bin.15.xml\n",
      "CH9-bin.5.xml\n"
     ]
    }
   ],
   "source": [
    "directory = os.fsencode(\"output/GEMs/\")\n",
    "\n",
    "GEMs_dict = {}\n",
    "for file in os.listdir(directory):\n",
    "    filename = os.fsdecode(file)\n",
    "    if filename.endswith(\".xml\"): \n",
    "        print(filename)\n",
    "        GEMs_dict[filename[:-4]]= reframed.load_cbmodel(\"output/GEMs/\"+filename)\n",
    "        continue\n",
    "    else:\n",
    "        continue"
   ]
  },
  {
   "cell_type": "markdown",
   "id": "c01f3c51-b103-4f7f-a0cf-d0a1058877ed",
   "metadata": {},
   "source": [
    "### Find the best way to map exchange to classes"
   ]
  },
  {
   "cell_type": "markdown",
   "id": "cd92b3b0-8303-43a9-86f4-25166b53d77f",
   "metadata": {},
   "source": [
    "#### Get Chebi ids associated with extracellular metabolites"
   ]
  },
  {
   "cell_type": "code",
   "execution_count": 15,
   "id": "5d9fffa0-570b-40d2-8cf4-f20a56565e37",
   "metadata": {},
   "outputs": [],
   "source": [
    "chebi_ids = {}\n",
    "chebi_frac = {}\n",
    "for key,model in GEMs_dict.items():\n",
    "    \n",
    "    ex_met = []\n",
    "    chebi_ids[key]={}\n",
    "    chebi_in_met = []\n",
    "    for met in model.metabolites:\n",
    "\n",
    "        if model.metabolites[met].compartment==\"C_e\":\n",
    "            ex_met.append(met)\n",
    "            if \"chebi\" in model.metabolites[met].metadata.keys():\n",
    "                chebi_in_met.append(met)\n",
    "                chebi_ids[key][met]=model.metabolites[met].metadata[\"chebi\"]\n",
    "            else:\n",
    "                chebi_ids[key][met]=None\n",
    "    \n",
    "    chebi_frac[key]=len(chebi_in_met)/len(ex_met)"
   ]
  },
  {
   "cell_type": "code",
   "execution_count": 16,
   "id": "f9d29a56-978f-424c-81f5-7e44f3741990",
   "metadata": {},
   "outputs": [
    {
     "data": {
      "text/plain": [
       "0.6823529411764706"
      ]
     },
     "execution_count": 16,
     "metadata": {},
     "output_type": "execute_result"
    }
   ],
   "source": [
    "pd.Series(chebi_frac).min()"
   ]
  },
  {
   "cell_type": "code",
   "execution_count": 17,
   "id": "74d0f3c4-eae4-44f6-9e55-4abe2463cd12",
   "metadata": {},
   "outputs": [
    {
     "data": {
      "text/plain": [
       "0.7844137022915882"
      ]
     },
     "execution_count": 17,
     "metadata": {},
     "output_type": "execute_result"
    }
   ],
   "source": [
    "pd.Series(chebi_frac).mean()"
   ]
  },
  {
   "cell_type": "code",
   "execution_count": 18,
   "id": "6d188728-d717-42d8-a0a2-3912816a5b09",
   "metadata": {},
   "outputs": [
    {
     "data": {
      "text/plain": [
       "0.8881987577639752"
      ]
     },
     "execution_count": 18,
     "metadata": {},
     "output_type": "execute_result"
    }
   ],
   "source": [
    "pd.Series(chebi_frac).max()"
   ]
  },
  {
   "cell_type": "markdown",
   "id": "573ed240-9b7f-4c95-87ca-2fe10412312a",
   "metadata": {},
   "source": [
    "**Find all chebi ids for the exchange reactions in all models (this also includes the ones that do not have chebi_id)**"
   ]
  },
  {
   "cell_type": "code",
   "execution_count": 19,
   "id": "0e426d39-3982-4a73-8cf7-c970ea0c3d47",
   "metadata": {},
   "outputs": [],
   "source": [
    "super_dict = collections.defaultdict(set)\n",
    "for d in chebi_ids.values():\n",
    "    for k, v in d.items():  \n",
    "        super_dict[k]=v"
   ]
  },
  {
   "cell_type": "code",
   "execution_count": 20,
   "id": "2b70907d-772b-4f20-b2e8-3b30411ddc47",
   "metadata": {},
   "outputs": [
    {
     "data": {
      "text/plain": [
       "546"
      ]
     },
     "execution_count": 20,
     "metadata": {},
     "output_type": "execute_result"
    }
   ],
   "source": [
    "all_mets = [met[2:-2] for met in super_dict.keys()]\n",
    "len(all_mets)"
   ]
  },
  {
   "cell_type": "markdown",
   "id": "cfd40f5c-d0c9-4d1f-bdab-fd649166b6a9",
   "metadata": {},
   "source": [
    "#### Get KEGG ids associated with extracellular metabolites"
   ]
  },
  {
   "cell_type": "code",
   "execution_count": 21,
   "id": "a784e6e2-d445-42b8-9348-0dc606eb7c00",
   "metadata": {},
   "outputs": [],
   "source": [
    "kegg_frac = {}\n",
    "for key,model in GEMs_dict.items():\n",
    "    \n",
    "    ex_met = []\n",
    "    kegg_in_met = []\n",
    "    for met in model.metabolites:\n",
    "\n",
    "        if model.metabolites[met].compartment==\"C_e\":\n",
    "            ex_met.append(met)\n",
    "            if \"kegg.compound\" in model.metabolites[met].metadata.keys():\n",
    "                kegg_in_met.append(met)\n",
    "    \n",
    "    kegg_frac[key]=len(kegg_in_met)/len(ex_met)"
   ]
  },
  {
   "cell_type": "code",
   "execution_count": 22,
   "id": "1713bb9f-53f9-4a2d-985c-a9496f0b5b91",
   "metadata": {},
   "outputs": [
    {
     "data": {
      "text/plain": [
       "0.6235294117647059"
      ]
     },
     "execution_count": 22,
     "metadata": {},
     "output_type": "execute_result"
    }
   ],
   "source": [
    "pd.Series(kegg_frac).min()"
   ]
  },
  {
   "cell_type": "code",
   "execution_count": 23,
   "id": "5d146a1d-3659-4374-9caf-55994887eaf6",
   "metadata": {},
   "outputs": [
    {
     "data": {
      "text/plain": [
       "0.74751105074859"
      ]
     },
     "execution_count": 23,
     "metadata": {},
     "output_type": "execute_result"
    }
   ],
   "source": [
    "pd.Series(kegg_frac).mean()"
   ]
  },
  {
   "cell_type": "code",
   "execution_count": 24,
   "id": "0bc764c0-44a3-468e-94e0-137ff2cec3fc",
   "metadata": {},
   "outputs": [
    {
     "data": {
      "text/plain": [
       "0.8726114649681529"
      ]
     },
     "execution_count": 24,
     "metadata": {},
     "output_type": "execute_result"
    }
   ],
   "source": [
    "pd.Series(kegg_frac).max()"
   ]
  },
  {
   "cell_type": "markdown",
   "id": "7d261cd3-1b16-467e-85ee-fd0d1a091bbf",
   "metadata": {},
   "source": [
    "#### HMDB"
   ]
  },
  {
   "cell_type": "code",
   "execution_count": 25,
   "id": "0636d32e-71f8-4e11-8638-b2f8d45d7a5f",
   "metadata": {},
   "outputs": [
    {
     "data": {
      "text/html": [
       "<div>\n",
       "<style scoped>\n",
       "    .dataframe tbody tr th:only-of-type {\n",
       "        vertical-align: middle;\n",
       "    }\n",
       "\n",
       "    .dataframe tbody tr th {\n",
       "        vertical-align: top;\n",
       "    }\n",
       "\n",
       "    .dataframe thead th {\n",
       "        text-align: right;\n",
       "    }\n",
       "</style>\n",
       "<table border=\"1\" class=\"dataframe\">\n",
       "  <thead>\n",
       "    <tr style=\"text-align: right;\">\n",
       "      <th></th>\n",
       "      <th>bigg</th>\n",
       "      <th>name</th>\n",
       "      <th>super_class</th>\n",
       "      <th>class</th>\n",
       "      <th>sub_class</th>\n",
       "    </tr>\n",
       "  </thead>\n",
       "  <tbody>\n",
       "    <tr>\n",
       "      <th>0</th>\n",
       "      <td>thm</td>\n",
       "      <td>Thiamine</td>\n",
       "      <td>Organoheterocyclic compounds</td>\n",
       "      <td>Diazines</td>\n",
       "      <td>Pyrimidines and pyrimidine derivatives</td>\n",
       "    </tr>\n",
       "    <tr>\n",
       "      <th>1</th>\n",
       "      <td>26dap__M</td>\n",
       "      <td>Meso-2,6-Diaminoheptanedioate</td>\n",
       "      <td>Organic acids and derivatives</td>\n",
       "      <td>Carboxylic acids and derivatives</td>\n",
       "      <td>Amino acids, peptides, and analogues</td>\n",
       "    </tr>\n",
       "    <tr>\n",
       "      <th>2</th>\n",
       "      <td>3cmp</td>\n",
       "      <td>3 CMP</td>\n",
       "      <td>Nucleosides, nucleotides, and analogues</td>\n",
       "      <td>Ribonucleoside 3'-phosphates</td>\n",
       "      <td>Ribonucleoside 3'-phosphates</td>\n",
       "    </tr>\n",
       "    <tr>\n",
       "      <th>3</th>\n",
       "      <td>5mtr</td>\n",
       "      <td>5-Methylthio-D-ribose</td>\n",
       "      <td>Organooxygen compounds</td>\n",
       "      <td>Carbohydrates and carbohydrate conjugates</td>\n",
       "      <td>Sugar acids and derivatives</td>\n",
       "    </tr>\n",
       "    <tr>\n",
       "      <th>4</th>\n",
       "      <td>chols</td>\n",
       "      <td>Choline sulfate</td>\n",
       "      <td>Homogeneous non-metal compounds</td>\n",
       "      <td>Non-metal oxoanionic compounds</td>\n",
       "      <td>Non-metal sulfates</td>\n",
       "    </tr>\n",
       "    <tr>\n",
       "      <th>...</th>\n",
       "      <td>...</td>\n",
       "      <td>...</td>\n",
       "      <td>...</td>\n",
       "      <td>...</td>\n",
       "      <td>...</td>\n",
       "    </tr>\n",
       "    <tr>\n",
       "      <th>1611</th>\n",
       "      <td>xylnact__D</td>\n",
       "      <td>D-Xylono-1,5-lactone</td>\n",
       "      <td>Organoheterocyclic compounds</td>\n",
       "      <td>Lactones</td>\n",
       "      <td>Delta valerolactones</td>\n",
       "    </tr>\n",
       "    <tr>\n",
       "      <th>1612</th>\n",
       "      <td>xylu__D</td>\n",
       "      <td>D-Xylulose</td>\n",
       "      <td>Organooxygen compounds</td>\n",
       "      <td>Carbohydrates and carbohydrate conjugates</td>\n",
       "      <td>Monosaccharides</td>\n",
       "    </tr>\n",
       "    <tr>\n",
       "      <th>1613</th>\n",
       "      <td>xylu__L</td>\n",
       "      <td>L-Threo-2-pentulose</td>\n",
       "      <td>Organic oxygen compounds</td>\n",
       "      <td>Organooxygen compounds</td>\n",
       "      <td>Carbohydrates and carbohydrate conjugates</td>\n",
       "    </tr>\n",
       "    <tr>\n",
       "      <th>1614</th>\n",
       "      <td>zeax</td>\n",
       "      <td>Zeaxanthin</td>\n",
       "      <td>Lipids and lipid-like molecules</td>\n",
       "      <td>Prenol lipids</td>\n",
       "      <td>Tetraterpenoids</td>\n",
       "    </tr>\n",
       "    <tr>\n",
       "      <th>1615</th>\n",
       "      <td>zym_int2</td>\n",
       "      <td>Zymosterol intermediate 2</td>\n",
       "      <td>Lipids and lipid-like molecules</td>\n",
       "      <td>Steroids and steroid derivatives</td>\n",
       "      <td>Cholestane steroids</td>\n",
       "    </tr>\n",
       "  </tbody>\n",
       "</table>\n",
       "<p>1616 rows × 5 columns</p>\n",
       "</div>"
      ],
      "text/plain": [
       "            bigg                           name  \\\n",
       "0            thm                       Thiamine   \n",
       "1       26dap__M  Meso-2,6-Diaminoheptanedioate   \n",
       "2           3cmp                          3 CMP   \n",
       "3           5mtr          5-Methylthio-D-ribose   \n",
       "4          chols                Choline sulfate   \n",
       "...          ...                            ...   \n",
       "1611  xylnact__D           D-Xylono-1,5-lactone   \n",
       "1612     xylu__D                     D-Xylulose   \n",
       "1613     xylu__L            L-Threo-2-pentulose   \n",
       "1614        zeax                     Zeaxanthin   \n",
       "1615    zym_int2      Zymosterol intermediate 2   \n",
       "\n",
       "                                  super_class  \\\n",
       "0                Organoheterocyclic compounds   \n",
       "1               Organic acids and derivatives   \n",
       "2     Nucleosides, nucleotides, and analogues   \n",
       "3                      Organooxygen compounds   \n",
       "4             Homogeneous non-metal compounds   \n",
       "...                                       ...   \n",
       "1611             Organoheterocyclic compounds   \n",
       "1612                   Organooxygen compounds   \n",
       "1613                 Organic oxygen compounds   \n",
       "1614          Lipids and lipid-like molecules   \n",
       "1615          Lipids and lipid-like molecules   \n",
       "\n",
       "                                          class  \\\n",
       "0                                      Diazines   \n",
       "1              Carboxylic acids and derivatives   \n",
       "2                  Ribonucleoside 3'-phosphates   \n",
       "3     Carbohydrates and carbohydrate conjugates   \n",
       "4                Non-metal oxoanionic compounds   \n",
       "...                                         ...   \n",
       "1611                                   Lactones   \n",
       "1612  Carbohydrates and carbohydrate conjugates   \n",
       "1613                     Organooxygen compounds   \n",
       "1614                              Prenol lipids   \n",
       "1615           Steroids and steroid derivatives   \n",
       "\n",
       "                                      sub_class  \n",
       "0        Pyrimidines and pyrimidine derivatives  \n",
       "1          Amino acids, peptides, and analogues  \n",
       "2                  Ribonucleoside 3'-phosphates  \n",
       "3                   Sugar acids and derivatives  \n",
       "4                            Non-metal sulfates  \n",
       "...                                         ...  \n",
       "1611                       Delta valerolactones  \n",
       "1612                            Monosaccharides  \n",
       "1613  Carbohydrates and carbohydrate conjugates  \n",
       "1614                            Tetraterpenoids  \n",
       "1615                        Cholestane steroids  \n",
       "\n",
       "[1616 rows x 5 columns]"
      ]
     },
     "execution_count": 25,
     "metadata": {},
     "output_type": "execute_result"
    }
   ],
   "source": [
    "HMDB_classes = pd.read_csv(\"input/bigg_classes.tsv\",sep=\"\\t\")\n",
    "HMDB_classes"
   ]
  },
  {
   "cell_type": "code",
   "execution_count": 26,
   "id": "3a1931e6-1bf4-4031-a9ad-bce87115452a",
   "metadata": {},
   "outputs": [
    {
     "data": {
      "text/html": [
       "<div>\n",
       "<style scoped>\n",
       "    .dataframe tbody tr th:only-of-type {\n",
       "        vertical-align: middle;\n",
       "    }\n",
       "\n",
       "    .dataframe tbody tr th {\n",
       "        vertical-align: top;\n",
       "    }\n",
       "\n",
       "    .dataframe thead th {\n",
       "        text-align: right;\n",
       "    }\n",
       "</style>\n",
       "<table border=\"1\" class=\"dataframe\">\n",
       "  <thead>\n",
       "    <tr style=\"text-align: right;\">\n",
       "      <th></th>\n",
       "      <th>bigg</th>\n",
       "      <th>name</th>\n",
       "      <th>super_class</th>\n",
       "      <th>class</th>\n",
       "      <th>sub_class</th>\n",
       "    </tr>\n",
       "  </thead>\n",
       "  <tbody>\n",
       "    <tr>\n",
       "      <th>0</th>\n",
       "      <td>thm</td>\n",
       "      <td>Thiamine</td>\n",
       "      <td>Organoheterocyclic compounds</td>\n",
       "      <td>Diazines</td>\n",
       "      <td>Pyrimidines and pyrimidine derivatives</td>\n",
       "    </tr>\n",
       "    <tr>\n",
       "      <th>1</th>\n",
       "      <td>26dap__M</td>\n",
       "      <td>Meso-2,6-Diaminoheptanedioate</td>\n",
       "      <td>Organic acids and derivatives</td>\n",
       "      <td>Carboxylic acids and derivatives</td>\n",
       "      <td>Amino acids, peptides, and analogues</td>\n",
       "    </tr>\n",
       "    <tr>\n",
       "      <th>2</th>\n",
       "      <td>3cmp</td>\n",
       "      <td>3 CMP</td>\n",
       "      <td>Nucleosides, nucleotides, and analogues</td>\n",
       "      <td>Ribonucleoside 3'-phosphates</td>\n",
       "      <td>Ribonucleoside 3'-phosphates</td>\n",
       "    </tr>\n",
       "    <tr>\n",
       "      <th>4</th>\n",
       "      <td>chols</td>\n",
       "      <td>Choline sulfate</td>\n",
       "      <td>Homogeneous non-metal compounds</td>\n",
       "      <td>Non-metal oxoanionic compounds</td>\n",
       "      <td>Non-metal sulfates</td>\n",
       "    </tr>\n",
       "    <tr>\n",
       "      <th>5</th>\n",
       "      <td>citr__L</td>\n",
       "      <td>L-Citrulline</td>\n",
       "      <td>Organic acids and derivatives</td>\n",
       "      <td>Carboxylic acids and derivatives</td>\n",
       "      <td>Amino acids, peptides, and analogues</td>\n",
       "    </tr>\n",
       "    <tr>\n",
       "      <th>...</th>\n",
       "      <td>...</td>\n",
       "      <td>...</td>\n",
       "      <td>...</td>\n",
       "      <td>...</td>\n",
       "      <td>...</td>\n",
       "    </tr>\n",
       "    <tr>\n",
       "      <th>1606</th>\n",
       "      <td>xtsn</td>\n",
       "      <td>Xanthosine</td>\n",
       "      <td>Nucleosides, nucleotides, and analogues</td>\n",
       "      <td>Purine nucleosides</td>\n",
       "      <td>NaN</td>\n",
       "    </tr>\n",
       "    <tr>\n",
       "      <th>1608</th>\n",
       "      <td>xyl__D</td>\n",
       "      <td>D-Xylose</td>\n",
       "      <td>Organic oxygen compounds</td>\n",
       "      <td>Organooxygen compounds</td>\n",
       "      <td>Carbohydrates and carbohydrate conjugates</td>\n",
       "    </tr>\n",
       "    <tr>\n",
       "      <th>1609</th>\n",
       "      <td>xyl__D</td>\n",
       "      <td>Aldehydo-D-xylose</td>\n",
       "      <td>Organic oxygen compounds</td>\n",
       "      <td>Organooxygen compounds</td>\n",
       "      <td>Carbohydrates and carbohydrate conjugates</td>\n",
       "    </tr>\n",
       "    <tr>\n",
       "      <th>1610</th>\n",
       "      <td>xylb</td>\n",
       "      <td>Xylobiose</td>\n",
       "      <td>Organic oxygen compounds</td>\n",
       "      <td>Organooxygen compounds</td>\n",
       "      <td>Carbohydrates and carbohydrate conjugates</td>\n",
       "    </tr>\n",
       "    <tr>\n",
       "      <th>1613</th>\n",
       "      <td>xylu__L</td>\n",
       "      <td>L-Threo-2-pentulose</td>\n",
       "      <td>Organic oxygen compounds</td>\n",
       "      <td>Organooxygen compounds</td>\n",
       "      <td>Carbohydrates and carbohydrate conjugates</td>\n",
       "    </tr>\n",
       "  </tbody>\n",
       "</table>\n",
       "<p>326 rows × 5 columns</p>\n",
       "</div>"
      ],
      "text/plain": [
       "          bigg                           name  \\\n",
       "0          thm                       Thiamine   \n",
       "1     26dap__M  Meso-2,6-Diaminoheptanedioate   \n",
       "2         3cmp                          3 CMP   \n",
       "4        chols                Choline sulfate   \n",
       "5      citr__L                   L-Citrulline   \n",
       "...        ...                            ...   \n",
       "1606      xtsn                     Xanthosine   \n",
       "1608    xyl__D                       D-Xylose   \n",
       "1609    xyl__D              Aldehydo-D-xylose   \n",
       "1610      xylb                      Xylobiose   \n",
       "1613   xylu__L            L-Threo-2-pentulose   \n",
       "\n",
       "                                  super_class  \\\n",
       "0                Organoheterocyclic compounds   \n",
       "1               Organic acids and derivatives   \n",
       "2     Nucleosides, nucleotides, and analogues   \n",
       "4             Homogeneous non-metal compounds   \n",
       "5               Organic acids and derivatives   \n",
       "...                                       ...   \n",
       "1606  Nucleosides, nucleotides, and analogues   \n",
       "1608                 Organic oxygen compounds   \n",
       "1609                 Organic oxygen compounds   \n",
       "1610                 Organic oxygen compounds   \n",
       "1613                 Organic oxygen compounds   \n",
       "\n",
       "                                 class  \\\n",
       "0                             Diazines   \n",
       "1     Carboxylic acids and derivatives   \n",
       "2         Ribonucleoside 3'-phosphates   \n",
       "4       Non-metal oxoanionic compounds   \n",
       "5     Carboxylic acids and derivatives   \n",
       "...                                ...   \n",
       "1606                Purine nucleosides   \n",
       "1608            Organooxygen compounds   \n",
       "1609            Organooxygen compounds   \n",
       "1610            Organooxygen compounds   \n",
       "1613            Organooxygen compounds   \n",
       "\n",
       "                                      sub_class  \n",
       "0        Pyrimidines and pyrimidine derivatives  \n",
       "1          Amino acids, peptides, and analogues  \n",
       "2                  Ribonucleoside 3'-phosphates  \n",
       "4                            Non-metal sulfates  \n",
       "5          Amino acids, peptides, and analogues  \n",
       "...                                         ...  \n",
       "1606                                        NaN  \n",
       "1608  Carbohydrates and carbohydrate conjugates  \n",
       "1609  Carbohydrates and carbohydrate conjugates  \n",
       "1610  Carbohydrates and carbohydrate conjugates  \n",
       "1613  Carbohydrates and carbohydrate conjugates  \n",
       "\n",
       "[326 rows x 5 columns]"
      ]
     },
     "execution_count": 26,
     "metadata": {},
     "output_type": "execute_result"
    }
   ],
   "source": [
    "HMDB_classes[HMDB_classes[\"bigg\"].isin(all_mets)]"
   ]
  },
  {
   "cell_type": "code",
   "execution_count": 27,
   "id": "9629d2ad-e957-4533-a3ec-3b724a09c7ec",
   "metadata": {},
   "outputs": [
    {
     "data": {
      "text/plain": [
       "0          Pyrimidines and pyrimidine derivatives\n",
       "1            Amino acids, peptides, and analogues\n",
       "2                    Ribonucleoside 3'-phosphates\n",
       "4                              Non-metal sulfates\n",
       "5            Amino acids, peptides, and analogues\n",
       "                          ...                    \n",
       "1604               Purines and purine derivatives\n",
       "1608    Carbohydrates and carbohydrate conjugates\n",
       "1609    Carbohydrates and carbohydrate conjugates\n",
       "1610    Carbohydrates and carbohydrate conjugates\n",
       "1613    Carbohydrates and carbohydrate conjugates\n",
       "Name: sub_class, Length: 294, dtype: object"
      ]
     },
     "execution_count": 27,
     "metadata": {},
     "output_type": "execute_result"
    }
   ],
   "source": [
    "HMDB_classes[HMDB_classes[\"bigg\"].isin(all_mets)][\"sub_class\"].dropna()"
   ]
  },
  {
   "cell_type": "markdown",
   "id": "e268971b-734b-4291-9fc4-bd37c654fef8",
   "metadata": {
    "tags": []
   },
   "source": [
    "## Define substrate classes based on ChEBI\n",
    "\n",
    "It's necessary to define some classes from CHEBI that we are interested in. \n",
    "\n",
    "\n",
    "Strategy:\n",
    "\n",
    "- Define main classes. NB: Some compounds might fit into several classes\n",
    "    - Define a hierarchy to avoid placing some compounds in a general class\n",
    "    - Put the "
   ]
  },
  {
   "cell_type": "code",
   "execution_count": 273,
   "id": "3d88f0c9-19bd-46a7-9f95-d32905f4f656",
   "metadata": {},
   "outputs": [],
   "source": [
    "really_bigg_classes = collections.OrderedDict({## Really Bigg classes\n",
    "                \"organonitrogen compounds\":{\n",
    "                    \"CHEBI:35352\":\"organonitrogen compound\"},\n",
    "                \"organosulfur compounds\":{\n",
    "                    \"CHEBI:33261\":\"organosulfur compound\"}, # from thiol CHEBI:29256\n",
    "                \"organophosphorus compounds\":{\n",
    "                    \"CHEBI:25710\":\"organophosphorus compound\"},\n",
    "                \"carboxylic acids and anions\":{\n",
    "                    \"CHEBI:29067\":\"carboxylic acid anion\",\n",
    "                    \"CHEBI:33575\":\"carboxylic acid\"},\n",
    "                \"carbohydrate derivatives\":{\n",
    "                    \"CHEBI:63299\":\"carbohydrate derivative\"}\n",
    "    })\n",
    "bigg_classes = collections.OrderedDict({\n",
    "                ## Bigg classes\n",
    "                \"alcohols and aldehydes\":{\n",
    "                    \"CHEBI:15734\": \"primary alcohol\",\n",
    "                    \"CHEBI:35681\":\"secondary alcohol\",\n",
    "                    \"CHEBI:17478\":\"aldehyde\"},\n",
    "                \"phospholipids\":{\n",
    "                    \"CHEBI:16247\":\"phospholipid\"},\n",
    "                \"oligosaccharides\":{\n",
    "                    \"CHEBI:50699\":\"oligosaccharide (undefined)\"},\n",
    "                #\"cofactors\":{} #\"CHEBI:5975\":\"iron chelate\"\n",
    "})\n",
    "main_classes = collections.OrderedDict({\n",
    "                \"amino acids and derivatives\":{\n",
    "                    \"CHEBI:37022\":\"amino-acid anion\",\n",
    "                    \"CHEBI:33709\":\"amino acid\",\n",
    "                    \"CHEBI:83821\":\"amino acid derivative\"\n",
    "},\n",
    "                \"oligopeptides\":{                    \n",
    "                    \"CHEBI:25676\":\"oligopeptide\"},\n",
    "    \n",
    "                \"fatty acids\":{\n",
    "                    \"CHEBI:58954\":\"straight-chain saturated fatty acid anion\",\n",
    "                    \"CHEBI:58956\":\"branched-chain saturated fatty acid anion\"},\n",
    "\n",
    "\n",
    "                \"carboxylic acids and anions\":{\n",
    "                    \"CHEBI:33576\":\"sulfur-containing carboxylic acid\"}, #From M_sulfac_e\n",
    "\n",
    "                ## Carbohydrates\n",
    "                \"simple sugars\":{\n",
    "                    \"CHEBI:35381\":\"monosaccharide\",\n",
    "                    \"CHEBI:36233\": \"disaccharide\"},\n",
    "                \"carbohydrate derivatives\":{\n",
    "                    \"CHEBI:23639\":\"deoxy sugar\",\n",
    "                    \"CHEBI:33720\":\"carbohydrate acid\",# From M_galctn__L_e \n",
    "                },\n",
    "                \"oligosaccharides\":{\n",
    "                    \"CHEBI:22590\":\"arabinan\",\n",
    "                    \"CHEBI:37163\":\"glucan (undefined)\"},\n",
    "                \"nucleosides and derivatives\":{\n",
    "                    \"CHEBI:18282\":\"nucleobase\", # From ura\n",
    "                    \"CHEBI:33838\":\"nucleoside\",\n",
    "                    \"CHEBI:26401\":\"purines\",\n",
    "                    \"CHEBI:39447\":\"pyrimidines\",\n",
    "                    \"CHEBI:25608\":\"nucleoside phosphate\"},\n",
    "                    #\"CHEBI:35241\":\"nucleotide-sugar\",\n",
    "                \"B-vitamins and cofactors\":{\n",
    "                   \"CHEBI:75769\": \"B vitamin\",                    \n",
    "                    \"CHEBI:23357\":\"cofactor\",\n",
    "                    \"CHEBI:33892\":\"iron coordination entity\"},\n",
    "                \"minerals and atoms\":{\n",
    "                    \"CHEBI:24835\":\"inorganic ion\",\n",
    "                    \"CHEBI:25585\": \"nonmetal atom\"},\n",
    "                \"gasses\":{\n",
    "                    \"CHEBI:138675\":\"gas molecular entity\"},\n",
    "                \"urea and urea derivatives\":{\n",
    "                    \"CHEBI:47857\":\"ureas\",\n",
    "                    \"CHEBI:16199\":\"urea\"},\n",
    "    \n",
    "                \"aromatic compounds\":{\n",
    "                    \"CHEBI:33853\":\"phenols\",\n",
    "                    \"CHEBI:27338\": \"xylene\",\n",
    "                    \"CHEBI:27024\":\"toluenes\"}, # From M_tol_e\n",
    "                \"other\":{\n",
    "                    \"CHEBI:26191\":\"polyol\",\n",
    "                    \"CHEBI:23217\": \"cholines\",\n",
    "                    \"CHEBI:24828\": \"indoles\",\n",
    "                    \"CHEBI:26188\":\"polyketide\"} # Based on ttrcyc\n",
    "\n",
    "               })"
   ]
  },
  {
   "cell_type": "markdown",
   "id": "e11569e7-2f4d-4b49-8124-9482052e6072",
   "metadata": {},
   "source": [
    "**Recursive function to find first parent matching with main classes**"
   ]
  },
  {
   "cell_type": "code",
   "execution_count": 274,
   "id": "377216ca-17d3-4cb7-b805-ed27b981c22e",
   "metadata": {},
   "outputs": [],
   "source": [
    "def find_main_class(chebi_id, main_classes):\n",
    "    # If chebi_id is the id of a  main class -> return value\n",
    "    if chebi_id in main_classes:\n",
    "        return chebi_id  \n",
    "\n",
    "    entity = ChebiEntity(chebi_id)\n",
    "    parents = [rel.get_target_chebi_id() for rel in entity.get_outgoings() if rel.get_type() == \"is_a\"]\n",
    "    \n",
    "    # If we have reached the end of the graph\n",
    "    if len(parents)==0:\n",
    "        return None\n",
    "    \n",
    "    \n",
    "    for parent in parents:\n",
    "        result = find_main_class(parent, main_classes)  \n",
    "        if result is not None:\n",
    "            return result  \n",
    "\n",
    "    return None"
   ]
  },
  {
   "cell_type": "code",
   "execution_count": 275,
   "id": "4ec68251-4c25-4fed-8538-4be089be3738",
   "metadata": {},
   "outputs": [],
   "source": [
    "met_chebi_dict = {} # previously called main_class_dict\n",
    "\n",
    "for main_class_dict_nested in [main_classes,bigg_classes,really_bigg_classes]:\n",
    "    main_class_dict = collections.OrderedDict()\n",
    "    for d in main_class_dict_nested.values():\n",
    "        for k, v in d.items():  \n",
    "            main_class_dict[k]=v\n",
    "    \n",
    "    for met_id,chebi_list in super_dict.items():\n",
    "        if chebi_list is None:\n",
    "            continue\n",
    "        \n",
    "        if met_id in met_chebi_dict.keys():\n",
    "            continue\n",
    "\n",
    "        for chebi_id in chebi_list:\n",
    "            main_class = find_main_class(chebi_id,main_class_dict.keys())\n",
    "            if main_class is not None:\n",
    "                met_chebi_dict[met_id]=main_class\n",
    "                break"
   ]
  },
  {
   "cell_type": "code",
   "execution_count": 276,
   "id": "4672387d-3c39-487a-a649-b6bddb4685e5",
   "metadata": {},
   "outputs": [
    {
     "data": {
      "text/plain": [
       "367"
      ]
     },
     "execution_count": 276,
     "metadata": {},
     "output_type": "execute_result"
    }
   ],
   "source": [
    "len(met_chebi_dict)"
   ]
  },
  {
   "cell_type": "code",
   "execution_count": 277,
   "id": "8deb8a46-4c3b-4964-a00c-52152c0cc9cc",
   "metadata": {},
   "outputs": [
    {
     "data": {
      "text/plain": [
       "CHEBI:24835     39\n",
       "CHEBI:33709     29\n",
       "CHEBI:29067     25\n",
       "CHEBI:33720     22\n",
       "CHEBI:25608     22\n",
       "CHEBI:63299     16\n",
       "CHEBI:35381     15\n",
       "CHEBI:26191     13\n",
       "CHEBI:33838     13\n",
       "CHEBI:25710     12\n",
       "CHEBI:83821     12\n",
       "CHEBI:33853     11\n",
       "CHEBI:35352     11\n",
       "CHEBI:25676     11\n",
       "CHEBI:33261     10\n",
       "CHEBI:17478      8\n",
       "CHEBI:36233      8\n",
       "CHEBI:37022      7\n",
       "CHEBI:50699      7\n",
       "CHEBI:33575      6\n",
       "CHEBI:33892      6\n",
       "CHEBI:39447      6\n",
       "CHEBI:15734      6\n",
       "CHEBI:75769      5\n",
       "CHEBI:23639      5\n",
       "CHEBI:58954      5\n",
       "CHEBI:26401      5\n",
       "CHEBI:35681      5\n",
       "CHEBI:16247      3\n",
       "CHEBI:47857      3\n",
       "CHEBI:24828      3\n",
       "CHEBI:33576      3\n",
       "CHEBI:23217      2\n",
       "CHEBI:138675     2\n",
       "CHEBI:27338      2\n",
       "CHEBI:26188      2\n",
       "CHEBI:37163      2\n",
       "CHEBI:58956      2\n",
       "CHEBI:27024      1\n",
       "CHEBI:22590      1\n",
       "CHEBI:25585      1\n",
       "Name: count, dtype: int64"
      ]
     },
     "execution_count": 277,
     "metadata": {},
     "output_type": "execute_result"
    }
   ],
   "source": [
    "pd.Series(met_chebi_dict).value_counts()"
   ]
  },
  {
   "cell_type": "code",
   "execution_count": 278,
   "id": "ac1059d0-9644-43f9-9e20-8cef3a146e41",
   "metadata": {},
   "outputs": [
    {
     "data": {
      "text/plain": [
       "M_ocdcea_e    CHEBI:33575\n",
       "M_succ_e      CHEBI:33575\n",
       "M_hdca_e      CHEBI:33575\n",
       "M_acon_C_e    CHEBI:33575\n",
       "M_tcb_e       CHEBI:33575\n",
       "M_cinnm_e     CHEBI:33575\n",
       "dtype: object"
      ]
     },
     "execution_count": 278,
     "metadata": {},
     "output_type": "execute_result"
    }
   ],
   "source": [
    "met_chebi_df = pd.Series(met_chebi_dict)\n",
    "\n",
    "met_chebi_df[met_chebi_df==\"CHEBI:33575\"]"
   ]
  },
  {
   "cell_type": "markdown",
   "id": "882b15c4-6b21-4df1-83dd-5f5f08a99ca5",
   "metadata": {},
   "source": [
    "#### Define class chebi ids for new metabolites"
   ]
  },
  {
   "cell_type": "code",
   "execution_count": 279,
   "id": "80a8bf99-4f11-4094-a57e-bd48f0f6b419",
   "metadata": {},
   "outputs": [],
   "source": [
    "iIB746 = reframed.load_cbmodel(\"/Users/idunmariaburgos/universal_model_extension/input/curated_models_newId/iIB746.xml\")"
   ]
  },
  {
   "cell_type": "code",
   "execution_count": 280,
   "id": "d6f92de3-7775-400a-957e-749669de378e",
   "metadata": {},
   "outputs": [],
   "source": [
    "model_specific_data = pd.read_csv(\"/Users/idunmariaburgos/universal_model_extension/output/model_specific_data.csv\")\n",
    "\n",
    "model_specific_data_iIB746 = model_specific_data[model_specific_data.model ==\"iIB746\"]"
   ]
  },
  {
   "cell_type": "code",
   "execution_count": 281,
   "id": "e3bc9444-753a-4bac-9fe8-80e1153cba1c",
   "metadata": {},
   "outputs": [],
   "source": [
    "xylo_gluc = [rxn for rxn in model_specific_data_iIB746[model_specific_data_iIB746.reaction.str.contains(\"EX\")].reaction.values if \"Q\" in rxn]\n",
    "ara_xyl = [rxn for rxn in model_specific_data_iIB746[model_specific_data_iIB746.reaction.str.contains(\"EX\")].reaction.values if \"A\" in rxn]\n",
    "cellulose = [rxn for rxn in iIB746.get_exchange_reactions() if \"cell\" in rxn]\n",
    "xylan = [rxn for rxn in iIB746.get_exchange_reactions() if \"xyla\" in rxn]\n",
    "\n",
    "new_classes_rxns = {\"CHEBI:18233\":xylo_gluc,\"CHEBI:28427\":ara_xyl,\"CHEBI:3523\":cellulose,\"CHEBI:60938\":xylan}\n",
    "\n",
    "new_classes = {\"oligosaccharides\":{\"CHEBI:60938\":\"glucuronoxylan\",\"CHEBI:28427\":\"arabinoxylan\",\"CHEBI:18233\":\"xyloglucan\",\"CHEBI:3523\":\"cellodextrin\"}}"
   ]
  },
  {
   "cell_type": "code",
   "execution_count": 282,
   "id": "af03aece-3c1d-45ea-80be-ecfa877ecb71",
   "metadata": {},
   "outputs": [],
   "source": [
    "for chebi_id,rxns in new_classes_rxns.items():\n",
    "    for rxn in rxns:\n",
    "        met_id = rxn.replace(\"R_EX_\",\"M_\")\n",
    "        met_id = met_id.replace(\"EX_\",\"M_\")\n",
    "        met_chebi_dict[met_id]=chebi_id"
   ]
  },
  {
   "cell_type": "code",
   "execution_count": 283,
   "id": "fae61730-2321-4393-bdd5-bee80cc96479",
   "metadata": {
    "tags": []
   },
   "outputs": [
    {
     "data": {
      "text/plain": [
       "382"
      ]
     },
     "execution_count": 283,
     "metadata": {},
     "output_type": "execute_result"
    }
   ],
   "source": [
    "len(met_chebi_dict.keys())"
   ]
  },
  {
   "cell_type": "code",
   "execution_count": 284,
   "id": "c71d87df-647b-4ebc-a3c3-940b32036b74",
   "metadata": {},
   "outputs": [
    {
     "data": {
      "text/plain": [
       "546"
      ]
     },
     "execution_count": 284,
     "metadata": {},
     "output_type": "execute_result"
    }
   ],
   "source": [
    "len(super_dict.keys())"
   ]
  },
  {
   "cell_type": "code",
   "execution_count": 285,
   "id": "b68a2be7-e6b4-4a6c-8e18-9db5f360be82",
   "metadata": {},
   "outputs": [
    {
     "data": {
      "text/plain": [
       "164"
      ]
     },
     "execution_count": 285,
     "metadata": {},
     "output_type": "execute_result"
    }
   ],
   "source": [
    "len(super_dict.keys())-len(met_chebi_dict.keys())"
   ]
  },
  {
   "cell_type": "markdown",
   "id": "e396aa5f-e045-41fe-9a9f-844034ddeaa0",
   "metadata": {},
   "source": [
    "#### Combine data as dataframe"
   ]
  },
  {
   "cell_type": "markdown",
   "id": "95dde512-6e10-45c6-99c6-b78bf956f89e",
   "metadata": {},
   "source": [
    "**First we need a dict to map chebi id to class and the self defined super class**"
   ]
  },
  {
   "cell_type": "code",
   "execution_count": 286,
   "id": "66fdf806-e5af-48f7-809d-b4c134a4e9d8",
   "metadata": {},
   "outputs": [],
   "source": [
    "chebi_classes = collections.defaultdict(set)\n",
    "\n",
    "for class_dict in [bigg_classes,really_bigg_classes,main_classes,new_classes]:\n",
    "    for met_super_class_name,sub_class_dict in class_dict.items():\n",
    "        \n",
    "        for chebi_id, chebi_class_name in sub_class_dict.items():  \n",
    "\n",
    "            chebi_classes[chebi_id]={\"chebi class\":chebi_class_name,\"self defined super class\":met_super_class_name}"
   ]
  },
  {
   "cell_type": "markdown",
   "id": "8fea44ee-175f-4106-8f7d-f5f83265c74a",
   "metadata": {},
   "source": [
    "**Make a df for all the metabolites we were able to classify**"
   ]
  },
  {
   "cell_type": "code",
   "execution_count": 287,
   "id": "54999f0b-8524-411e-bbbd-5cb666119693",
   "metadata": {},
   "outputs": [
    {
     "data": {
      "text/html": [
       "<div>\n",
       "<style scoped>\n",
       "    .dataframe tbody tr th:only-of-type {\n",
       "        vertical-align: middle;\n",
       "    }\n",
       "\n",
       "    .dataframe tbody tr th {\n",
       "        vertical-align: top;\n",
       "    }\n",
       "\n",
       "    .dataframe thead th {\n",
       "        text-align: right;\n",
       "    }\n",
       "</style>\n",
       "<table border=\"1\" class=\"dataframe\">\n",
       "  <thead>\n",
       "    <tr style=\"text-align: right;\">\n",
       "      <th></th>\n",
       "      <th>chebi id</th>\n",
       "    </tr>\n",
       "  </thead>\n",
       "  <tbody>\n",
       "    <tr>\n",
       "      <th>M_12ppd__R_e</th>\n",
       "      <td>CHEBI:26191</td>\n",
       "    </tr>\n",
       "    <tr>\n",
       "      <th>M_25dkglcn_e</th>\n",
       "      <td>CHEBI:33720</td>\n",
       "    </tr>\n",
       "    <tr>\n",
       "      <th>M_26dap__M_e</th>\n",
       "      <td>CHEBI:33709</td>\n",
       "    </tr>\n",
       "    <tr>\n",
       "      <th>M_2hxmp_e</th>\n",
       "      <td>CHEBI:33853</td>\n",
       "    </tr>\n",
       "    <tr>\n",
       "      <th>M_3cmp_e</th>\n",
       "      <td>CHEBI:25608</td>\n",
       "    </tr>\n",
       "    <tr>\n",
       "      <th>...</th>\n",
       "      <td>...</td>\n",
       "    </tr>\n",
       "    <tr>\n",
       "      <th>M_cell5_e</th>\n",
       "      <td>CHEBI:3523</td>\n",
       "    </tr>\n",
       "    <tr>\n",
       "      <th>M_cell4_e</th>\n",
       "      <td>CHEBI:3523</td>\n",
       "    </tr>\n",
       "    <tr>\n",
       "      <th>M_cell3_e</th>\n",
       "      <td>CHEBI:3523</td>\n",
       "    </tr>\n",
       "    <tr>\n",
       "      <th>M_xylan4_e</th>\n",
       "      <td>CHEBI:60938</td>\n",
       "    </tr>\n",
       "    <tr>\n",
       "      <th>M_xylan8_e</th>\n",
       "      <td>CHEBI:60938</td>\n",
       "    </tr>\n",
       "  </tbody>\n",
       "</table>\n",
       "<p>382 rows × 1 columns</p>\n",
       "</div>"
      ],
      "text/plain": [
       "                 chebi id\n",
       "M_12ppd__R_e  CHEBI:26191\n",
       "M_25dkglcn_e  CHEBI:33720\n",
       "M_26dap__M_e  CHEBI:33709\n",
       "M_2hxmp_e     CHEBI:33853\n",
       "M_3cmp_e      CHEBI:25608\n",
       "...                   ...\n",
       "M_cell5_e      CHEBI:3523\n",
       "M_cell4_e      CHEBI:3523\n",
       "M_cell3_e      CHEBI:3523\n",
       "M_xylan4_e    CHEBI:60938\n",
       "M_xylan8_e    CHEBI:60938\n",
       "\n",
       "[382 rows x 1 columns]"
      ]
     },
     "execution_count": 287,
     "metadata": {},
     "output_type": "execute_result"
    }
   ],
   "source": [
    "met_chebi_df = pd.DataFrame(met_chebi_dict.values(),index=met_chebi_dict.keys())\n",
    "met_chebi_df.columns=[\"chebi id\"]\n",
    "met_chebi_df"
   ]
  },
  {
   "cell_type": "markdown",
   "id": "20baf64b-9609-45e3-b64b-f1fec527a081",
   "metadata": {},
   "source": [
    "**Combine data**"
   ]
  },
  {
   "cell_type": "code",
   "execution_count": 288,
   "id": "84d2c4e8-2944-455a-a625-f4a5e3000323",
   "metadata": {},
   "outputs": [],
   "source": [
    "met_chebi_df[\"chebi class\"]=met_chebi_df[\"chebi id\"].map(lambda x:chebi_classes[x][\"chebi class\"])\n",
    "met_chebi_df[\"self defined super class\"]=met_chebi_df[\"chebi id\"].map(lambda x:chebi_classes[x][\"self defined super class\"])"
   ]
  },
  {
   "cell_type": "code",
   "execution_count": 289,
   "id": "62dcfe2a-54e7-4c68-a612-cf61d263066c",
   "metadata": {},
   "outputs": [
    {
     "data": {
      "text/html": [
       "<div>\n",
       "<style scoped>\n",
       "    .dataframe tbody tr th:only-of-type {\n",
       "        vertical-align: middle;\n",
       "    }\n",
       "\n",
       "    .dataframe tbody tr th {\n",
       "        vertical-align: top;\n",
       "    }\n",
       "\n",
       "    .dataframe thead th {\n",
       "        text-align: right;\n",
       "    }\n",
       "</style>\n",
       "<table border=\"1\" class=\"dataframe\">\n",
       "  <thead>\n",
       "    <tr style=\"text-align: right;\">\n",
       "      <th></th>\n",
       "      <th>chebi id</th>\n",
       "      <th>chebi class</th>\n",
       "      <th>self defined super class</th>\n",
       "    </tr>\n",
       "  </thead>\n",
       "  <tbody>\n",
       "    <tr>\n",
       "      <th>M_12ppd__R_e</th>\n",
       "      <td>CHEBI:26191</td>\n",
       "      <td>polyol</td>\n",
       "      <td>other</td>\n",
       "    </tr>\n",
       "    <tr>\n",
       "      <th>M_25dkglcn_e</th>\n",
       "      <td>CHEBI:33720</td>\n",
       "      <td>carbohydrate acid</td>\n",
       "      <td>carbohydrate derivatives</td>\n",
       "    </tr>\n",
       "    <tr>\n",
       "      <th>M_26dap__M_e</th>\n",
       "      <td>CHEBI:33709</td>\n",
       "      <td>amino acid</td>\n",
       "      <td>amino acids and derivatives</td>\n",
       "    </tr>\n",
       "    <tr>\n",
       "      <th>M_2hxmp_e</th>\n",
       "      <td>CHEBI:33853</td>\n",
       "      <td>phenols</td>\n",
       "      <td>aromatic compounds</td>\n",
       "    </tr>\n",
       "    <tr>\n",
       "      <th>M_3cmp_e</th>\n",
       "      <td>CHEBI:25608</td>\n",
       "      <td>nucleoside phosphate</td>\n",
       "      <td>nucleosides and derivatives</td>\n",
       "    </tr>\n",
       "    <tr>\n",
       "      <th>...</th>\n",
       "      <td>...</td>\n",
       "      <td>...</td>\n",
       "      <td>...</td>\n",
       "    </tr>\n",
       "    <tr>\n",
       "      <th>M_cell5_e</th>\n",
       "      <td>CHEBI:3523</td>\n",
       "      <td>cellodextrin</td>\n",
       "      <td>oligosaccharides</td>\n",
       "    </tr>\n",
       "    <tr>\n",
       "      <th>M_cell4_e</th>\n",
       "      <td>CHEBI:3523</td>\n",
       "      <td>cellodextrin</td>\n",
       "      <td>oligosaccharides</td>\n",
       "    </tr>\n",
       "    <tr>\n",
       "      <th>M_cell3_e</th>\n",
       "      <td>CHEBI:3523</td>\n",
       "      <td>cellodextrin</td>\n",
       "      <td>oligosaccharides</td>\n",
       "    </tr>\n",
       "    <tr>\n",
       "      <th>M_xylan4_e</th>\n",
       "      <td>CHEBI:60938</td>\n",
       "      <td>glucuronoxylan</td>\n",
       "      <td>oligosaccharides</td>\n",
       "    </tr>\n",
       "    <tr>\n",
       "      <th>M_xylan8_e</th>\n",
       "      <td>CHEBI:60938</td>\n",
       "      <td>glucuronoxylan</td>\n",
       "      <td>oligosaccharides</td>\n",
       "    </tr>\n",
       "  </tbody>\n",
       "</table>\n",
       "<p>382 rows × 3 columns</p>\n",
       "</div>"
      ],
      "text/plain": [
       "                 chebi id           chebi class     self defined super class\n",
       "M_12ppd__R_e  CHEBI:26191                polyol                        other\n",
       "M_25dkglcn_e  CHEBI:33720     carbohydrate acid     carbohydrate derivatives\n",
       "M_26dap__M_e  CHEBI:33709            amino acid  amino acids and derivatives\n",
       "M_2hxmp_e     CHEBI:33853               phenols           aromatic compounds\n",
       "M_3cmp_e      CHEBI:25608  nucleoside phosphate  nucleosides and derivatives\n",
       "...                   ...                   ...                          ...\n",
       "M_cell5_e      CHEBI:3523          cellodextrin             oligosaccharides\n",
       "M_cell4_e      CHEBI:3523          cellodextrin             oligosaccharides\n",
       "M_cell3_e      CHEBI:3523          cellodextrin             oligosaccharides\n",
       "M_xylan4_e    CHEBI:60938        glucuronoxylan             oligosaccharides\n",
       "M_xylan8_e    CHEBI:60938        glucuronoxylan             oligosaccharides\n",
       "\n",
       "[382 rows x 3 columns]"
      ]
     },
     "execution_count": 289,
     "metadata": {},
     "output_type": "execute_result"
    }
   ],
   "source": [
    "met_chebi_df"
   ]
  },
  {
   "cell_type": "code",
   "execution_count": 290,
   "id": "71a7c383-5a4d-492b-a793-6ac735403af0",
   "metadata": {},
   "outputs": [
    {
     "data": {
      "text/plain": [
       "array(['other', 'carbohydrate derivatives', 'amino acids and derivatives',\n",
       "       'aromatic compounds', 'nucleosides and derivatives',\n",
       "       'oligosaccharides', 'oligopeptides', 'simple sugars',\n",
       "       'urea and urea derivatives', 'minerals and atoms', 'gasses',\n",
       "       'B-vitamins and cofactors', 'fatty acids',\n",
       "       'carboxylic acids and anions', 'alcohols and aldehydes',\n",
       "       'phospholipids', 'organonitrogen compounds',\n",
       "       'organophosphorus compounds', 'organosulfur compounds'],\n",
       "      dtype=object)"
      ]
     },
     "execution_count": 290,
     "metadata": {},
     "output_type": "execute_result"
    }
   ],
   "source": [
    "met_chebi_df[\"self defined super class\"].unique()"
   ]
  },
  {
   "cell_type": "code",
   "execution_count": 291,
   "id": "7d7cd1a4-b282-4a00-af6f-581074bdfaf5",
   "metadata": {},
   "outputs": [
    {
     "data": {
      "text/plain": [
       "self defined super class\n",
       "amino acids and derivatives    48\n",
       "nucleosides and derivatives    46\n",
       "carbohydrate derivatives       43\n",
       "minerals and atoms             40\n",
       "carboxylic acids and anions    34\n",
       "oligosaccharides               26\n",
       "simple sugars                  22\n",
       "other                          20\n",
       "alcohols and aldehydes         19\n",
       "aromatic compounds             14\n",
       "organophosphorus compounds     12\n",
       "oligopeptides                  11\n",
       "B-vitamins and cofactors       11\n",
       "organonitrogen compounds       11\n",
       "organosulfur compounds         10\n",
       "fatty acids                     7\n",
       "urea and urea derivatives       3\n",
       "phospholipids                   3\n",
       "gasses                          2\n",
       "Name: count, dtype: int64"
      ]
     },
     "execution_count": 291,
     "metadata": {},
     "output_type": "execute_result"
    }
   ],
   "source": [
    "met_chebi_df[\"self defined super class\"].value_counts()"
   ]
  },
  {
   "cell_type": "code",
   "execution_count": 292,
   "id": "1c5c04e8-0ad7-4618-a6fb-ac5ecf72ec31",
   "metadata": {
    "tags": []
   },
   "outputs": [
    {
     "data": {
      "text/html": [
       "<div>\n",
       "<style scoped>\n",
       "    .dataframe tbody tr th:only-of-type {\n",
       "        vertical-align: middle;\n",
       "    }\n",
       "\n",
       "    .dataframe tbody tr th {\n",
       "        vertical-align: top;\n",
       "    }\n",
       "\n",
       "    .dataframe thead th {\n",
       "        text-align: right;\n",
       "    }\n",
       "</style>\n",
       "<table border=\"1\" class=\"dataframe\">\n",
       "  <thead>\n",
       "    <tr style=\"text-align: right;\">\n",
       "      <th></th>\n",
       "      <th>chebi id</th>\n",
       "      <th>chebi class</th>\n",
       "      <th>self defined super class</th>\n",
       "    </tr>\n",
       "  </thead>\n",
       "  <tbody>\n",
       "    <tr>\n",
       "      <th>M_lipoate_e</th>\n",
       "      <td>CHEBI:33576</td>\n",
       "      <td>sulfur-containing carboxylic acid</td>\n",
       "      <td>carboxylic acids and anions</td>\n",
       "    </tr>\n",
       "    <tr>\n",
       "      <th>M_sulfac_e</th>\n",
       "      <td>CHEBI:33576</td>\n",
       "      <td>sulfur-containing carboxylic acid</td>\n",
       "      <td>carboxylic acids and anions</td>\n",
       "    </tr>\n",
       "    <tr>\n",
       "      <th>M_sula_e</th>\n",
       "      <td>CHEBI:33576</td>\n",
       "      <td>sulfur-containing carboxylic acid</td>\n",
       "      <td>carboxylic acids and anions</td>\n",
       "    </tr>\n",
       "    <tr>\n",
       "      <th>M_2obut_e</th>\n",
       "      <td>CHEBI:29067</td>\n",
       "      <td>carboxylic acid anion</td>\n",
       "      <td>carboxylic acids and anions</td>\n",
       "    </tr>\n",
       "    <tr>\n",
       "      <th>M_ac_e</th>\n",
       "      <td>CHEBI:29067</td>\n",
       "      <td>carboxylic acid anion</td>\n",
       "      <td>carboxylic acids and anions</td>\n",
       "    </tr>\n",
       "    <tr>\n",
       "      <th>M_acnam_e</th>\n",
       "      <td>CHEBI:29067</td>\n",
       "      <td>carboxylic acid anion</td>\n",
       "      <td>carboxylic acids and anions</td>\n",
       "    </tr>\n",
       "    <tr>\n",
       "      <th>M_bz_e</th>\n",
       "      <td>CHEBI:29067</td>\n",
       "      <td>carboxylic acid anion</td>\n",
       "      <td>carboxylic acids and anions</td>\n",
       "    </tr>\n",
       "    <tr>\n",
       "      <th>M_fum_e</th>\n",
       "      <td>CHEBI:29067</td>\n",
       "      <td>carboxylic acid anion</td>\n",
       "      <td>carboxylic acids and anions</td>\n",
       "    </tr>\n",
       "    <tr>\n",
       "      <th>M_mal__L_e</th>\n",
       "      <td>CHEBI:29067</td>\n",
       "      <td>carboxylic acid anion</td>\n",
       "      <td>carboxylic acids and anions</td>\n",
       "    </tr>\n",
       "    <tr>\n",
       "      <th>M_man6pglyc_e</th>\n",
       "      <td>CHEBI:29067</td>\n",
       "      <td>carboxylic acid anion</td>\n",
       "      <td>carboxylic acids and anions</td>\n",
       "    </tr>\n",
       "    <tr>\n",
       "      <th>M_ocdcea_e</th>\n",
       "      <td>CHEBI:33575</td>\n",
       "      <td>carboxylic acid</td>\n",
       "      <td>carboxylic acids and anions</td>\n",
       "    </tr>\n",
       "    <tr>\n",
       "      <th>M_pac_e</th>\n",
       "      <td>CHEBI:29067</td>\n",
       "      <td>carboxylic acid anion</td>\n",
       "      <td>carboxylic acids and anions</td>\n",
       "    </tr>\n",
       "    <tr>\n",
       "      <th>M_quin_e</th>\n",
       "      <td>CHEBI:29067</td>\n",
       "      <td>carboxylic acid anion</td>\n",
       "      <td>carboxylic acids and anions</td>\n",
       "    </tr>\n",
       "    <tr>\n",
       "      <th>M_succ_e</th>\n",
       "      <td>CHEBI:33575</td>\n",
       "      <td>carboxylic acid</td>\n",
       "      <td>carboxylic acids and anions</td>\n",
       "    </tr>\n",
       "    <tr>\n",
       "      <th>M_acac_e</th>\n",
       "      <td>CHEBI:29067</td>\n",
       "      <td>carboxylic acid anion</td>\n",
       "      <td>carboxylic acids and anions</td>\n",
       "    </tr>\n",
       "    <tr>\n",
       "      <th>M_cit_e</th>\n",
       "      <td>CHEBI:29067</td>\n",
       "      <td>carboxylic acid anion</td>\n",
       "      <td>carboxylic acids and anions</td>\n",
       "    </tr>\n",
       "    <tr>\n",
       "      <th>M_for_e</th>\n",
       "      <td>CHEBI:29067</td>\n",
       "      <td>carboxylic acid anion</td>\n",
       "      <td>carboxylic acids and anions</td>\n",
       "    </tr>\n",
       "    <tr>\n",
       "      <th>M_hdca_e</th>\n",
       "      <td>CHEBI:33575</td>\n",
       "      <td>carboxylic acid</td>\n",
       "      <td>carboxylic acids and anions</td>\n",
       "    </tr>\n",
       "    <tr>\n",
       "      <th>M_pime_e</th>\n",
       "      <td>CHEBI:29067</td>\n",
       "      <td>carboxylic acid anion</td>\n",
       "      <td>carboxylic acids and anions</td>\n",
       "    </tr>\n",
       "    <tr>\n",
       "      <th>M_lac__D_e</th>\n",
       "      <td>CHEBI:29067</td>\n",
       "      <td>carboxylic acid anion</td>\n",
       "      <td>carboxylic acids and anions</td>\n",
       "    </tr>\n",
       "    <tr>\n",
       "      <th>M_acon_C_e</th>\n",
       "      <td>CHEBI:33575</td>\n",
       "      <td>carboxylic acid</td>\n",
       "      <td>carboxylic acids and anions</td>\n",
       "    </tr>\n",
       "    <tr>\n",
       "      <th>M_mal__D_e</th>\n",
       "      <td>CHEBI:29067</td>\n",
       "      <td>carboxylic acid anion</td>\n",
       "      <td>carboxylic acids and anions</td>\n",
       "    </tr>\n",
       "    <tr>\n",
       "      <th>M_lac__L_e</th>\n",
       "      <td>CHEBI:29067</td>\n",
       "      <td>carboxylic acid anion</td>\n",
       "      <td>carboxylic acids and anions</td>\n",
       "    </tr>\n",
       "    <tr>\n",
       "      <th>M_akg_e</th>\n",
       "      <td>CHEBI:29067</td>\n",
       "      <td>carboxylic acid anion</td>\n",
       "      <td>carboxylic acids and anions</td>\n",
       "    </tr>\n",
       "    <tr>\n",
       "      <th>M_oaa_e</th>\n",
       "      <td>CHEBI:29067</td>\n",
       "      <td>carboxylic acid anion</td>\n",
       "      <td>carboxylic acids and anions</td>\n",
       "    </tr>\n",
       "    <tr>\n",
       "      <th>M_oxa_e</th>\n",
       "      <td>CHEBI:29067</td>\n",
       "      <td>carboxylic acid anion</td>\n",
       "      <td>carboxylic acids and anions</td>\n",
       "    </tr>\n",
       "    <tr>\n",
       "      <th>M_skm_e</th>\n",
       "      <td>CHEBI:29067</td>\n",
       "      <td>carboxylic acid anion</td>\n",
       "      <td>carboxylic acids and anions</td>\n",
       "    </tr>\n",
       "    <tr>\n",
       "      <th>M_lnlc_e</th>\n",
       "      <td>CHEBI:29067</td>\n",
       "      <td>carboxylic acid anion</td>\n",
       "      <td>carboxylic acids and anions</td>\n",
       "    </tr>\n",
       "    <tr>\n",
       "      <th>M_tcb_e</th>\n",
       "      <td>CHEBI:33575</td>\n",
       "      <td>carboxylic acid</td>\n",
       "      <td>carboxylic acids and anions</td>\n",
       "    </tr>\n",
       "    <tr>\n",
       "      <th>M_3oxoadp_e</th>\n",
       "      <td>CHEBI:29067</td>\n",
       "      <td>carboxylic acid anion</td>\n",
       "      <td>carboxylic acids and anions</td>\n",
       "    </tr>\n",
       "    <tr>\n",
       "      <th>M_cinnm_e</th>\n",
       "      <td>CHEBI:33575</td>\n",
       "      <td>carboxylic acid</td>\n",
       "      <td>carboxylic acids and anions</td>\n",
       "    </tr>\n",
       "    <tr>\n",
       "      <th>M_glutar_e</th>\n",
       "      <td>CHEBI:29067</td>\n",
       "      <td>carboxylic acid anion</td>\n",
       "      <td>carboxylic acids and anions</td>\n",
       "    </tr>\n",
       "    <tr>\n",
       "      <th>M_pyr_e</th>\n",
       "      <td>CHEBI:29067</td>\n",
       "      <td>carboxylic acid anion</td>\n",
       "      <td>carboxylic acids and anions</td>\n",
       "    </tr>\n",
       "    <tr>\n",
       "      <th>M_chor_e</th>\n",
       "      <td>CHEBI:29067</td>\n",
       "      <td>carboxylic acid anion</td>\n",
       "      <td>carboxylic acids and anions</td>\n",
       "    </tr>\n",
       "  </tbody>\n",
       "</table>\n",
       "</div>"
      ],
      "text/plain": [
       "                  chebi id                        chebi class  \\\n",
       "M_lipoate_e    CHEBI:33576  sulfur-containing carboxylic acid   \n",
       "M_sulfac_e     CHEBI:33576  sulfur-containing carboxylic acid   \n",
       "M_sula_e       CHEBI:33576  sulfur-containing carboxylic acid   \n",
       "M_2obut_e      CHEBI:29067              carboxylic acid anion   \n",
       "M_ac_e         CHEBI:29067              carboxylic acid anion   \n",
       "M_acnam_e      CHEBI:29067              carboxylic acid anion   \n",
       "M_bz_e         CHEBI:29067              carboxylic acid anion   \n",
       "M_fum_e        CHEBI:29067              carboxylic acid anion   \n",
       "M_mal__L_e     CHEBI:29067              carboxylic acid anion   \n",
       "M_man6pglyc_e  CHEBI:29067              carboxylic acid anion   \n",
       "M_ocdcea_e     CHEBI:33575                    carboxylic acid   \n",
       "M_pac_e        CHEBI:29067              carboxylic acid anion   \n",
       "M_quin_e       CHEBI:29067              carboxylic acid anion   \n",
       "M_succ_e       CHEBI:33575                    carboxylic acid   \n",
       "M_acac_e       CHEBI:29067              carboxylic acid anion   \n",
       "M_cit_e        CHEBI:29067              carboxylic acid anion   \n",
       "M_for_e        CHEBI:29067              carboxylic acid anion   \n",
       "M_hdca_e       CHEBI:33575                    carboxylic acid   \n",
       "M_pime_e       CHEBI:29067              carboxylic acid anion   \n",
       "M_lac__D_e     CHEBI:29067              carboxylic acid anion   \n",
       "M_acon_C_e     CHEBI:33575                    carboxylic acid   \n",
       "M_mal__D_e     CHEBI:29067              carboxylic acid anion   \n",
       "M_lac__L_e     CHEBI:29067              carboxylic acid anion   \n",
       "M_akg_e        CHEBI:29067              carboxylic acid anion   \n",
       "M_oaa_e        CHEBI:29067              carboxylic acid anion   \n",
       "M_oxa_e        CHEBI:29067              carboxylic acid anion   \n",
       "M_skm_e        CHEBI:29067              carboxylic acid anion   \n",
       "M_lnlc_e       CHEBI:29067              carboxylic acid anion   \n",
       "M_tcb_e        CHEBI:33575                    carboxylic acid   \n",
       "M_3oxoadp_e    CHEBI:29067              carboxylic acid anion   \n",
       "M_cinnm_e      CHEBI:33575                    carboxylic acid   \n",
       "M_glutar_e     CHEBI:29067              carboxylic acid anion   \n",
       "M_pyr_e        CHEBI:29067              carboxylic acid anion   \n",
       "M_chor_e       CHEBI:29067              carboxylic acid anion   \n",
       "\n",
       "                  self defined super class  \n",
       "M_lipoate_e    carboxylic acids and anions  \n",
       "M_sulfac_e     carboxylic acids and anions  \n",
       "M_sula_e       carboxylic acids and anions  \n",
       "M_2obut_e      carboxylic acids and anions  \n",
       "M_ac_e         carboxylic acids and anions  \n",
       "M_acnam_e      carboxylic acids and anions  \n",
       "M_bz_e         carboxylic acids and anions  \n",
       "M_fum_e        carboxylic acids and anions  \n",
       "M_mal__L_e     carboxylic acids and anions  \n",
       "M_man6pglyc_e  carboxylic acids and anions  \n",
       "M_ocdcea_e     carboxylic acids and anions  \n",
       "M_pac_e        carboxylic acids and anions  \n",
       "M_quin_e       carboxylic acids and anions  \n",
       "M_succ_e       carboxylic acids and anions  \n",
       "M_acac_e       carboxylic acids and anions  \n",
       "M_cit_e        carboxylic acids and anions  \n",
       "M_for_e        carboxylic acids and anions  \n",
       "M_hdca_e       carboxylic acids and anions  \n",
       "M_pime_e       carboxylic acids and anions  \n",
       "M_lac__D_e     carboxylic acids and anions  \n",
       "M_acon_C_e     carboxylic acids and anions  \n",
       "M_mal__D_e     carboxylic acids and anions  \n",
       "M_lac__L_e     carboxylic acids and anions  \n",
       "M_akg_e        carboxylic acids and anions  \n",
       "M_oaa_e        carboxylic acids and anions  \n",
       "M_oxa_e        carboxylic acids and anions  \n",
       "M_skm_e        carboxylic acids and anions  \n",
       "M_lnlc_e       carboxylic acids and anions  \n",
       "M_tcb_e        carboxylic acids and anions  \n",
       "M_3oxoadp_e    carboxylic acids and anions  \n",
       "M_cinnm_e      carboxylic acids and anions  \n",
       "M_glutar_e     carboxylic acids and anions  \n",
       "M_pyr_e        carboxylic acids and anions  \n",
       "M_chor_e       carboxylic acids and anions  "
      ]
     },
     "execution_count": 292,
     "metadata": {},
     "output_type": "execute_result"
    }
   ],
   "source": [
    "met_chebi_df[met_chebi_df[\"self defined super class\"]==\"carboxylic acids and anions\"]"
   ]
  },
  {
   "cell_type": "markdown",
   "id": "1dc0d020-1834-42a5-9f51-1e48898155a6",
   "metadata": {},
   "source": [
    "### Save data"
   ]
  },
  {
   "cell_type": "code",
   "execution_count": 293,
   "id": "6be0e20a-f2e5-4639-acd9-4e84c57d9e5c",
   "metadata": {},
   "outputs": [],
   "source": [
    "met_chebi_df.to_csv(\"output/met_chebi_class.tsv\",sep=\"\\t\")"
   ]
  },
  {
   "cell_type": "code",
   "execution_count": null,
   "id": "4a6082e2-7892-4949-91db-35e4cc32afec",
   "metadata": {},
   "outputs": [],
   "source": []
  }
 ],
 "metadata": {
  "kernelspec": {
   "display_name": "MAGs_RecAndAn2",
   "language": "python",
   "name": "mags_recandan2"
  },
  "language_info": {
   "codemirror_mode": {
    "name": "ipython",
    "version": 3
   },
   "file_extension": ".py",
   "mimetype": "text/x-python",
   "name": "python",
   "nbconvert_exporter": "python",
   "pygments_lexer": "ipython3",
   "version": "3.9.13"
  }
 },
 "nbformat": 4,
 "nbformat_minor": 5
}

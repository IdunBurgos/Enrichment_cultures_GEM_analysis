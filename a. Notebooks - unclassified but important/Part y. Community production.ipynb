{
 "cells": [
  {
   "cell_type": "markdown",
   "id": "eb8b9c7e-852b-4973-8778-f584a76b6c23",
   "metadata": {},
   "source": [
    "## Compounds produced by commmunity"
   ]
  },
  {
   "cell_type": "code",
   "execution_count": 4,
   "id": "e891a9b8-f145-4444-9ea9-426c14ca4611",
   "metadata": {},
   "outputs": [],
   "source": [
    "import pandas as pd\n",
    "import reframed\n",
    "import os\n",
    "import json\n",
    "import sys\n",
    "\n",
    "sys.path.append('../functions')\n",
    "\n",
    "import translation_dicts\n",
    "import general_functions as general_func"
   ]
  },
  {
   "cell_type": "code",
   "execution_count": 5,
   "id": "cc03d769-2657-46bf-be0f-f89cc7c359a6",
   "metadata": {},
   "outputs": [],
   "source": [
    "compounds_dict, source_dict,substrate_dict, gas_sheet_dict, community_dict = translation_dicts.translation_dicts()"
   ]
  },
  {
   "cell_type": "markdown",
   "id": "adbfc7d8-2bc7-4dd9-8c6d-762ba65d3a80",
   "metadata": {},
   "source": [
    "### Make overview of all compounds measured the enrichment cultures\n",
    "\n",
    "The strategy for defining if the compound is produced or not is:\n",
    "- Assuming that positive concertation==the compound is produced by the community"
   ]
  },
  {
   "cell_type": "code",
   "execution_count": 6,
   "id": "4d444a3b-0588-4175-a53a-90ffab0382fb",
   "metadata": {},
   "outputs": [],
   "source": [
    "community_production = {}\n",
    "\n",
    "# For each source \n",
    "for name, id_source in source_dict.items():\n",
    "    \n",
    "    # Read and process excel sheet\n",
    "    ## Get the Excel sheet specifically for the source\n",
    "    data_df = pd.read_excel(\"../input/files_from_fairdomhub/enrichment_cultures _data.xlsx\",sheet_name=name)\n",
    "    data_df.dropna(how='all', axis='columns',inplace=True)\n",
    "    \n",
    "    data_df = data_df.iloc[:,1:-1]\n",
    "    data_df.set_index(\"Sample name \",inplace=True)\n",
    "    data_df.columns = [col.replace(\" \",\"\") for col in data_df.columns]\n",
    "    \n",
    "    # For each substrate\n",
    "    for name_sub,id_sub in substrate_dict.items():\n",
    "        community_id = id_source+\"_\"+id_sub\n",
    "                \n",
    "        if community_id==\"M_A\": # Marshland on Avicel is not a combination in our experiments.\n",
    "            continue\n",
    "        \n",
    "        community_production[community_id]={}\n",
    "        data_df_sub_max = data_df[data_df.index.str.contains(community_id)].max()\n",
    "        \n",
    "        # For each compound in our analysis\n",
    "        for compound in compounds_dict.keys():\n",
    "            if compound not in data_df_sub_max.index:\n",
    "                print(community_id)\n",
    "                print(compound + \" not in columns\")\n",
    "                continue\n",
    "            \n",
    "            # If max concentration is higher than 0 -> assume that it is produced by a community member\n",
    "            if data_df_sub_max[compound]>0:\n",
    "                community_production[community_id][\"R_EX_\"+compounds_dict[compound]+\"_e\"]=1\n",
    "                \n",
    "        # These gasses where observed for all enrichment cultures. (for gasses CH4 is not included because it is not a part of the bacterial universal model)\n",
    "        community_production[community_id][\"R_EX_h2_e\"]=1\n",
    "        community_production[community_id][\"R_EX_co2_e\"]=1"
   ]
  },
  {
   "cell_type": "markdown",
   "id": "32842efa-d33f-47d3-ba40-832fa1fd2c0f",
   "metadata": {},
   "source": [
    "### Save data "
   ]
  },
  {
   "cell_type": "code",
   "execution_count": 7,
   "id": "f369ab7e-70eb-4153-a925-4d3842febb42",
   "metadata": {},
   "outputs": [],
   "source": [
    "with open(\"../output/community_production.json\", \"w\") as outfile: \n",
    "    json.dump(community_production, outfile)"
   ]
  },
  {
   "cell_type": "code",
   "execution_count": null,
   "id": "c2342b11-35ff-458f-b7db-661c09b2644e",
   "metadata": {},
   "outputs": [],
   "source": []
  }
 ],
 "metadata": {
  "kernelspec": {
   "display_name": "MAGs_RecAndAn2",
   "language": "python",
   "name": "mags_recandan2"
  },
  "language_info": {
   "codemirror_mode": {
    "name": "ipython",
    "version": 3
   },
   "file_extension": ".py",
   "mimetype": "text/x-python",
   "name": "python",
   "nbconvert_exporter": "python",
   "pygments_lexer": "ipython3",
   "version": "3.9.13"
  }
 },
 "nbformat": 4,
 "nbformat_minor": 5
}

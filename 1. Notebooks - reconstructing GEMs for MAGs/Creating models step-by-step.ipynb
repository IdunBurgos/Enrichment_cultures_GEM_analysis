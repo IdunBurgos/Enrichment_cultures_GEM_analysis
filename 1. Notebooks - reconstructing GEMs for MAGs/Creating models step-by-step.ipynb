{
 "cells": [
  {
   "cell_type": "code",
   "execution_count": 1,
   "id": "fac02344-8377-4ecc-8e9c-16f1c1bc4a5f",
   "metadata": {},
   "outputs": [],
   "source": [
    "from libchebipy._chebi_entity import ChebiEntity\n",
    "from Bio import Entrez, SeqIO\n",
    "import pandas as pd\n",
    "import reframed\n",
    "import os\n",
    "import json\n",
    "import numpy as np\n",
    "import collections\n",
    "import sys\n",
    "import seaborn as sns\n",
    "import copy\n",
    "import subprocess\n",
    "#import matplotlib.pyplot as plt\n",
    "\n",
    "from reframed.io.sbml import parse_gpr_rule\n",
    "\n",
    "sys.path.append('../functions')\n",
    "\n",
    "import translation_dicts\n",
    "import general_functions as general_func\n",
    "import EGC as EGC\n",
    "import MAG_environments"
   ]
  },
  {
   "cell_type": "markdown",
   "id": "b1f1725e-b9cb-4b97-a785-ccc9a3353263",
   "metadata": {},
   "source": [
    "### Prepare data "
   ]
  },
  {
   "cell_type": "code",
   "execution_count": 2,
   "id": "ddf0173d-5c21-4dac-9776-98293a752d1a",
   "metadata": {},
   "outputs": [
    {
     "name": "stdout",
     "output_type": "stream",
     "text": [
      "**CONVERT FROM GENBANK TO FASTA**\n",
      "\t Converting and saving...\n",
      "**DEFINING METABOLITE CLASSES**\n",
      "\t Get chebi IDs from model metadata\n",
      "\t Assign compound class\n",
      "\t Save data\n",
      "**CREATE MAG-COMMUNITY ASSOCIATION**\n",
      "\t Save data\n",
      "**COMPOUNDS PRODUCED EXPERIMENTALLY BY COMMUNITY**\n",
      "\t Save data\n"
     ]
    }
   ],
   "source": [
    "%run -i \"../a. Notebooks - unclassified but important/python_scripts/Part u. Processing MAG data - From genbank to fasta.py\"\n",
    "\n",
    "%run -i \"../a. Notebooks - unclassified but important/python_scripts/Part v. Defining metabolite classes.py\"\n",
    "\n",
    "%run -i \"../a. Notebooks - unclassified but important/python_scripts/Part x. MAG-community association.py\"\n",
    "\n",
    "%run -i \"../a. Notebooks - unclassified but important/python_scripts/Part y. Community production.py\"\n"
   ]
  },
  {
   "cell_type": "markdown",
   "id": "cc8a80c9-fb21-4515-b3bf-2965a8d28608",
   "metadata": {},
   "source": [
    "## Create models without constraints"
   ]
  },
  {
   "cell_type": "raw",
   "id": "b86f3f50-5ebb-4242-b738-fe36c431693e",
   "metadata": {
    "jupyter": {
     "outputs_hidden": true
    },
    "tags": []
   },
   "source": [
    "subprocess.run('bash -c \"source activate MAGs_RecAndAn2; ./bash_scripts/make_GEMs2.sh\"', shell=True)\n"
   ]
  },
  {
   "cell_type": "markdown",
   "id": "a545e63a-ce2b-4f6e-adc6-c001bcfe81ac",
   "metadata": {},
   "source": [
    "## Create constraints"
   ]
  },
  {
   "cell_type": "code",
   "execution_count": 8,
   "id": "b09861f5-7ff6-4ad9-b046-d502f1dfde5e",
   "metadata": {},
   "outputs": [],
   "source": [
    "compounds_dict, source_dict,substrate_dict, gas_sheet_dict, community_dict = translation_dicts.translation_dicts()\n",
    "all_Mags_for_paper_analysis = general_func.read_allmags_data()\n",
    "MAG2community_id = pd.read_csv(\"../output/MAG2community_id.tsv\",sep=\"\\t\",header=None,index_col=0)\n",
    "\n",
    "with open(\"../output/relevant_MAGs_99.txt\") as text_file:\n",
    "    relevant_MAGs = text_file.read().split(\"\\n\")\n",
    "relevant_MAGs = [string.replace(\"\\t\",\"\") for string in relevant_MAGs]\n",
    "\n",
    "with open(\"../output/community_production_names.json\") as text_file:\n",
    "    community_production_names = json.load(text_file)\n",
    "\n",
    "with open(\"../output/compounds_dict_list.json\") as text_file: \n",
    "    compounds_dict_list = json.load(text_file)\n",
    "\n",
    "with open(\"../output/compounds_dict.json\") as text_file: \n",
    "    compounds_dict = json.load(text_file)"
   ]
  },
  {
   "cell_type": "code",
   "execution_count": 9,
   "id": "e0f86d39-c0a8-45f8-9aca-c13b520bf8b2",
   "metadata": {
    "scrolled": true,
    "tags": []
   },
   "outputs": [],
   "source": [
    "directory = os.fsencode(\"../output/GEMs/GEMs_no_constraints/\")\n",
    "GEMs_dict = {}\n",
    "for file in os.listdir(directory):\n",
    "    \n",
    "    filename = os.fsdecode(file)\n",
    "    if filename.endswith(\".xml\"): \n",
    "        GEMs_dict[filename[:-4]]= reframed.load_cbmodel(\"../output/GEMs/GEMs_no_constraints/\"+filename)"
   ]
  },
  {
   "cell_type": "markdown",
   "id": "068891ce-8ab8-4bb6-a4af-cbfc8753a991",
   "metadata": {},
   "source": [
    "##### Defining soft constraints\n",
    "\n",
    "- Excluding elements that can already be produced by a community member in complete media\n",
    "- Focus on 99% most abundant species"
   ]
  },
  {
   "cell_type": "markdown",
   "id": "c0fad6f1-9108-4f49-827a-ee544376630e",
   "metadata": {},
   "source": [
    "##### Find the producers (from the 99% most abundant species)"
   ]
  },
  {
   "cell_type": "code",
   "execution_count": 10,
   "id": "cf2d3880-dc38-45a7-b0e4-e97e33bb3675",
   "metadata": {
    "tags": []
   },
   "outputs": [
    {
     "name": "stdout",
     "output_type": "stream",
     "text": [
      "Set parameter Username\n",
      "Academic license - for non-commercial use only - expires 2025-03-14\n"
     ]
    }
   ],
   "source": [
    "## Find the community they belong to\n",
    "MAG2community_id_most_abundant = MAG2community_id[MAG2community_id.index.isin(relevant_MAGs)]\n",
    "enrich_groups_top = MAG2community_id_most_abundant.groupby(1).groups# top 99\n",
    "\n",
    "## Find producers in COMPLETE media and growth=0\n",
    "\n",
    "# For each community set the default production to False\n",
    "comm_producers_top = {community_id:{MAG:{compound:False for compound in compounds.keys()} for MAG in enrich_groups_top[community_id]} for community_id,compounds in community_production_names.items()}\n",
    "for community_id,MAGs in enrich_groups_top.items():\n",
    "    for MAG in MAGs:\n",
    "        model = GEMs_dict[MAG].copy()\n",
    "        \n",
    "        complete_env = reframed.Environment.from_model(model)      \n",
    "        \n",
    "        for compound in community_production_names[community_id].keys():\n",
    "            mets = compounds_dict_list[compound]\n",
    "\n",
    "            ex_rxns = [\"R_EX_\"+met+\"_e\" for met in mets if \"R_EX_\"+met+\"_e\" in model.get_exchange_reactions()]\n",
    "            \n",
    "            if len(ex_rxns)==0:\n",
    "                continue\n",
    "            \n",
    "            sol = reframed.FVA(model,constraints=complete_env,reactions=ex_rxns)\n",
    "            total_prod = sum([value[1] for value in sol.values()])\n",
    "            comm_producers_top[community_id][MAG][compound] = total_prod>1e-6"
   ]
  },
  {
   "cell_type": "code",
   "execution_count": 11,
   "id": "c21cd2e6-ba78-4143-82cb-792d0cd00200",
   "metadata": {},
   "outputs": [],
   "source": [
    "dfs_community_count_top = {community_id:pd.DataFrame(producers_dict).sum(axis=1).rename(\"top99%\") for community_id,producers_dict in comm_producers_top.items()}"
   ]
  },
  {
   "cell_type": "markdown",
   "id": "c5eab0f0-ca04-4204-99d8-27d9acd0d245",
   "metadata": {},
   "source": [
    "##### Define soft constraints"
   ]
  },
  {
   "cell_type": "code",
   "execution_count": 12,
   "id": "0a32ae2e-e173-414d-b8de-fde849975de1",
   "metadata": {},
   "outputs": [],
   "source": [
    "soft_constraints_new = {}\n",
    "\n",
    "for community_id,producers_df in dfs_community_count_top.items():\n",
    "    # Find compounds not produced\n",
    "    not_produced = producers_df[producers_df==0].index\n",
    "    \n",
    "    soft_constraints_new[community_id]={}\n",
    "    \n",
    "    for compound in not_produced:\n",
    "        soft_constraints_new[community_id][\"R_EX_\"+compounds_dict[compound]+\"_e\"]=1"
   ]
  },
  {
   "cell_type": "markdown",
   "id": "b8f86f3c-26a2-4dd9-9f66-50f4c88e0f8b",
   "metadata": {},
   "source": [
    "##### Media for gapfilling during reconstruction\n",
    "\n",
    "We know that some of these compounds are produced when a specific electron donor is present. "
   ]
  },
  {
   "cell_type": "code",
   "execution_count": 13,
   "id": "c05a738d-75ed-4414-b5fd-5a0e05c8a41c",
   "metadata": {},
   "outputs": [],
   "source": [
    "media_db = pd.read_csv(\"https://raw.githubusercontent.com/cdanielmachado/carveme/master/carveme/data/input/media_db.tsv\",sep=\"\\t\")\n",
    "\n",
    "lb_02 = media_db[media_db.medium==\"LB[-O2]\"].copy()\n",
    "lb_02.medium = lb_02.medium.map(lambda x:x.replace(\"LB[-O2]\",\"LB_extend\"))\n",
    "lb_02.loc[-1] = [\"LB_extend\", \"Additional elements for MCCA production\", \"lac__L\",\"L-Lactate\"] \n",
    "lb_02.loc[-1] = [\"LB_extend\", \"Additional elements for MCCA production\", \"etoh\",\"Ethanol\"] \n",
    "lb_02.loc[-1] = [\"LB_extend\", \"Additional elements for MCCA production\", \"ac\",\"Acetate\"] \n",
    "lb_02.loc[-1] = [\"LB_extend\", \"Additional elements for MCCA production\", \"ppa\",\"Propionate (n-C3:0)\"] \n",
    "lb_02.loc[-1] = [\"LB_extend\", \"Additional elements for MCCA production\", \"xyl__D\",\"D-Xylose\"] \n",
    "lb_02.loc[-1] = [\"LB_extend\", \"Additional elements for MCCA production\", \"lcts\",\"Lactose\"] \n",
    "\n",
    "lb_02.reset_index(drop=True,inplace=True)"
   ]
  },
  {
   "cell_type": "markdown",
   "id": "9c2c8797-fbfc-4dd0-853f-82f7ea77f577",
   "metadata": {},
   "source": [
    "##### Save data"
   ]
  },
  {
   "cell_type": "code",
   "execution_count": 14,
   "id": "303c1525-a5da-4b95-b781-e222371a2410",
   "metadata": {},
   "outputs": [],
   "source": [
    "for community_id, dict_ in soft_constraints_new.items():\n",
    "    pd.DataFrame(pd.Series(dict_)).to_csv(\"./output/SC_\"+community_id+\".tsv\",\n",
    "                                          sep=\"\\t\",\n",
    "                                          header=False,\n",
    "                                          index_label=False)"
   ]
  },
  {
   "cell_type": "raw",
   "id": "9805305f-500b-429a-a298-d588c322f495",
   "metadata": {},
   "source": [
    "lb_02.to_csv(\"./output/SC_media_db.tsv\",\n",
    "                                         sep=\"\\t\",\n",
    "                                         index_label=False)"
   ]
  },
  {
   "cell_type": "markdown",
   "id": "73d7372c-cf47-42d1-8975-5fe76348bd77",
   "metadata": {},
   "source": [
    "##### Check that everything is as it should be"
   ]
  },
  {
   "cell_type": "code",
   "execution_count": 15,
   "id": "4c296b55-ea50-4d21-870c-234fe8568bc0",
   "metadata": {
    "tags": []
   },
   "outputs": [],
   "source": [
    "for community_id, dict_ in soft_constraints_new.items():\n",
    "    SC_media_test_old = pd.read_csv(\"../output/soft_constraints/SC_\"+community_id+\".tsv\",\n",
    "                                          sep=\"\\t\",\n",
    "                                          header=None)\n",
    "    SC_media_test_new = pd.DataFrame(pd.Series(dict_)).reset_index()\n",
    "    SC_media_test_new.columns=[0,1]\n",
    "    assert  SC_media_test_old[SC_media_test_old==SC_media_test_new].shape==SC_media_test_old.shape\n",
    "    assert  SC_media_test_old[SC_media_test_old==SC_media_test_new].shape==SC_media_test_new.shape"
   ]
  },
  {
   "cell_type": "code",
   "execution_count": 16,
   "id": "2628f322-1c23-4c3a-8938-2ef5d58cde04",
   "metadata": {
    "tags": []
   },
   "outputs": [],
   "source": [
    "old_lb_02 = pd.read_csv(\"../output/soft_constraints/SC_media_db.tsv\",\n",
    "                                         sep=\"\\t\")\n",
    "\n",
    "assert old_lb_02.shape==old_lb_02[old_lb_02==lb_02].shape\n",
    "assert lb_02.shape==old_lb_02[old_lb_02==lb_02].shape"
   ]
  },
  {
   "cell_type": "markdown",
   "id": "4fc8c42a-9ba2-4951-9d93-d1be44a894a7",
   "metadata": {},
   "source": [
    "## Create models with constraints"
   ]
  },
  {
   "cell_type": "raw",
   "id": "d4c662e7-3dd8-4ac8-9827-f132246ca250",
   "metadata": {
    "jupyter": {
     "outputs_hidden": true
    },
    "tags": []
   },
   "source": [
    "subprocess.run('bash -c \"source activate MAGs_RecAndAn2; ./bash_scripts/make_GEMs_soft_constraints.sh 0.1\", shell=True)\n"
   ]
  },
  {
   "cell_type": "markdown",
   "id": "b5102ce8-e516-4adb-9fac-b3c98ba4f965",
   "metadata": {},
   "source": [
    "## Select models"
   ]
  },
  {
   "cell_type": "markdown",
   "id": "6f47cea5-de99-472e-8440-d323f2a1ad50",
   "metadata": {
    "tags": []
   },
   "source": [
    "We have different sets of reconstructed models.\n",
    "\n",
    "- **no_constr**: no soft constraints included. This is the ideal, but not all metabolites were produced.\n",
    "- **constr0_1, constr0_5**: Will likely add reactions needed to support the phenotype, but it is a biased approach. May overpredict the amount of models carrying the ability. \n",
    "\n",
    "\n",
    "Strategy\n",
    "\n",
    "1. Find the difference between the models\n",
    "2. **Selection**: The models that required the least amount of changes (symmetric difference) to acquire the desired phenotype.\n",
    "\n"
   ]
  },
  {
   "cell_type": "code",
   "execution_count": 17,
   "id": "4b975281-399a-461d-8ad4-1786ea618a56",
   "metadata": {},
   "outputs": [],
   "source": [
    "compounds_dict, source_dict,substrate_dict, gas_sheet_dict, community_dict = translation_dicts.translation_dicts()"
   ]
  },
  {
   "cell_type": "code",
   "execution_count": 18,
   "id": "4f02f3d0-d377-437e-aaa3-c978b6b27240",
   "metadata": {},
   "outputs": [],
   "source": [
    "relevant_MAGs.remove('CH15-bin.15')"
   ]
  },
  {
   "cell_type": "markdown",
   "id": "855ebc8d-a1a2-4682-9991-b62b5010c6bc",
   "metadata": {},
   "source": [
    "**Load models made without soft constraints**"
   ]
  },
  {
   "cell_type": "code",
   "execution_count": 19,
   "id": "99828ba6-6836-4279-881b-17622d0206f1",
   "metadata": {
    "scrolled": true,
    "tags": []
   },
   "outputs": [],
   "source": [
    "directory = os.fsencode(\"../output/GEMs/GEMs_no_constraints/\")\n",
    "\n",
    "GEMs_dict = {\"no_constr\":{}}\n",
    "for file in os.listdir(directory):\n",
    "    \n",
    "    filename = os.fsdecode(file)\n",
    "    if filename.endswith(\".xml\"): \n",
    "        GEMs_dict[\"no_constr\"][filename[:-4]]= reframed.load_cbmodel(\"../output/GEMs/GEMs_no_constraints/\"+filename)\n"
   ]
  },
  {
   "cell_type": "markdown",
   "id": "fc0582fd-f5dd-4ce7-b43f-1be34f1c9262",
   "metadata": {},
   "source": [
    "**Load models made with soft constraints**"
   ]
  },
  {
   "cell_type": "code",
   "execution_count": 20,
   "id": "16b4ec60-10cd-4382-b0c6-76aad183aa14",
   "metadata": {
    "scrolled": true,
    "tags": []
   },
   "outputs": [],
   "source": [
    "directories = {\n",
    "               \"constr0_1\":\"../output/GEMs/GEMs_intermediate/GEMs_soft_constraints_score_0.1/\"\n",
    "              }\n",
    "\n",
    "for id_,directory_str in directories.items():\n",
    "    directory = os.fsencode(\"../output/GEMs/GEMs_intermediate/GEMs_soft_constraints_score_0.1/\")\n",
    "\n",
    "    GEMs_dict[id_] = {}\n",
    "    for file in os.listdir(directory):\n",
    "\n",
    "        filename = os.fsdecode(file)\n",
    "        if filename.endswith(\".xml\"): \n",
    "            GEMs_dict[id_][filename[:-4]]= reframed.load_cbmodel(directory_str+filename)\n"
   ]
  },
  {
   "cell_type": "markdown",
   "id": "03605753-ca3a-4d76-8e67-dcbb49a6d2bc",
   "metadata": {
    "tags": []
   },
   "source": [
    "#### Find difference between models made with different reconstruction parameters\n",
    "\n",
    "- new_rxns_count = number of new reactions\n",
    "- symmetric_diff = number of lost reactions + number of new reactions "
   ]
  },
  {
   "cell_type": "code",
   "execution_count": 21,
   "id": "cdb95cca-e0c2-4a1a-ac70-11ece9a3783c",
   "metadata": {},
   "outputs": [],
   "source": [
    "difference_dict ={}\n",
    "    \n",
    "for constr_status in directories.keys():\n",
    "\n",
    "    difference_dict[constr_status] = {}\n",
    "\n",
    "    difference_dict[constr_status][\"new_rxns_count\"] = {}\n",
    "    difference_dict[constr_status][\"symmetric_diff\"] = {}\n",
    "\n",
    "    for MAG in relevant_MAGs:\n",
    "        model_const = GEMs_dict[constr_status][MAG]\n",
    "        model_no_constr = GEMs_dict[\"no_constr\"][MAG]\n",
    "\n",
    "        # number of new reactions in new model\n",
    "        difference_dict[constr_status][\"new_rxns_count\"][MAG]=len(set(model_const.reactions)-set(model_no_constr.reactions))\n",
    "        # reaction symmetric difference\n",
    "        difference_dict[constr_status][\"symmetric_diff\"][MAG]=len(set(model_const.reactions).symmetric_difference(set(model_no_constr.reactions)))"
   ]
  },
  {
   "cell_type": "code",
   "execution_count": 22,
   "id": "587da67c-70ed-4455-a0c0-930471046945",
   "metadata": {},
   "outputs": [],
   "source": [
    "diff_df = pd.DataFrame.from_dict({(constr_status,diff_type):difference_dict[constr_status][diff_type] \n",
    "                        for constr_status in difference_dict.keys() \n",
    "                        for diff_type in difference_dict[constr_status].keys()})"
   ]
  },
  {
   "cell_type": "markdown",
   "id": "2d0c7ffb-34ec-4307-9460-90b39cc6d0c1",
   "metadata": {},
   "source": [
    "#### Select models: The best candidates to fulfill the community metabolic phenotype \n",
    "\n",
    "Here we focus on the most promising sets of reconstructed models. For this we chose:\n",
    "\n",
    "- **constr0_1**: low soft constraint score will likely lead to addition of fewer reactions\n",
    "- **no_constr**: no soft constraints included. This is the ideal, but not all metabolites were produced.\n",
    "\n",
    "\n",
    "**Selection criteria**: The models that required the least amount of changes (symmetric difference) to acquire the desired phenotype."
   ]
  },
  {
   "cell_type": "code",
   "execution_count": 23,
   "id": "fb92074a-24ba-4be1-82d7-8326eedf0868",
   "metadata": {},
   "outputs": [],
   "source": [
    "# change this if you want to study something different.\n",
    "soft_constraint_selected = \"constr0_1\""
   ]
  },
  {
   "cell_type": "code",
   "execution_count": 24,
   "id": "cee161c1-7698-47d9-8ed0-2b5e333ee8f2",
   "metadata": {
    "tags": []
   },
   "outputs": [],
   "source": [
    "# NB: This function does NOT confirm that the metabolite is produced.\n",
    "def best_candidate(SC_rxns,MAGs,diff_df_select):\n",
    "    \"\"\"\n",
    "    Input:\n",
    "    SC_rxns - list of exchanged metabolites of community (exchange reactions)\n",
    "    MAGs - list of MAGs in this community\n",
    "    diff_df_select - dataframe with increase in rxns and symmetric difference\n",
    "    \"\"\"\n",
    "    \n",
    "    rxn_candidates ={}\n",
    "    \n",
    "    # For each exchanged compound find the candidate with lowest score in symmetric_diff\n",
    "    for rxn in SC_rxns:\n",
    "        rxn_candidates[rxn]={\"MAG\":None,\"symmetric_diff\":1000} # Default\n",
    "        \n",
    "        # For each community member\n",
    "        for MAG in MAGs:\n",
    "            \n",
    "            # If reaction is not in model it is not a candidate\n",
    "            if rxn not in GEMs_dict[soft_constraint_selected][MAG].reactions:\n",
    "                continue\n",
    "                \n",
    "            symmetric_diff = diff_df_select.loc[MAG,\"symmetric_diff\"]  \n",
    "            \n",
    "            # If the symmetric difference is smaller than for the previous candidate\n",
    "            if symmetric_diff<rxn_candidates[rxn][\"symmetric_diff\"]:\n",
    "                rxn_candidates[rxn][\"MAG\"]=MAG\n",
    "                rxn_candidates[rxn][\"symmetric_diff\"]=symmetric_diff\n",
    "                \n",
    "    return rxn_candidates"
   ]
  },
  {
   "cell_type": "markdown",
   "id": "57aa6a0e-5512-4e50-9c6b-60bc53a86046",
   "metadata": {},
   "source": [
    "**Find best candidates**\n",
    "\n",
    "Based on the fact that we expect certain compounds produced, which models created with soft constraints are the best candidates? Through this code we select just one model for each community and compound produced.\n"
   ]
  },
  {
   "cell_type": "code",
   "execution_count": 25,
   "id": "e0d3792e-6d0b-4351-b500-d6f33cecd771",
   "metadata": {
    "scrolled": true,
    "tags": []
   },
   "outputs": [],
   "source": [
    "diff_df_select = diff_df.xs(soft_constraint_selected,axis=1)\n",
    "\n",
    "# A new key,value pair for the genome-scale metabolic models from 'soft_constraint_selected' or 'no_costr'\n",
    "GEMs_dict[\"adapt\"]={}\n",
    "\n",
    "# An overview of the origin of the models in GEMs_dict[\"adapt\"]={}\n",
    "GEMs_adapt = {}\n",
    "\n",
    "rxn_candidates_all = {}\n",
    "\n",
    "# For each community \n",
    "for community_name, community_id in community_dict.items():\n",
    "    # Find community members\n",
    "    MAGs = MAG2community_id[MAG2community_id[1]==community_id].index.values\n",
    "    MAGs = [MAG for MAG in MAGs if MAG in relevant_MAGs] # Only look at 99% best ones.\n",
    "    \n",
    "    # Find the exchange reactions representing produced compounds by this community\n",
    "    soft_constraints = pd.read_csv(f\"../output/soft_constraints/SC_{community_id}.tsv\", header=None, sep=\"\\t\")\n",
    "    SC_rxns = soft_constraints[0].values\n",
    "    \n",
    "    # Find best candidate in community for producing each compound\n",
    "    rxn_candidates = best_candidate(SC_rxns,MAGs,diff_df_select) \n",
    "    rxn_candidates_all[community_id]=rxn_candidates\n",
    "            \n",
    "    # Create GEMs adapt\n",
    "    MAGs_best_candidates = set([candidate_dict[\"MAG\"] for rxn,candidate_dict in rxn_candidates.items()])\n",
    "    \n",
    "    for MAG in MAGs:\n",
    "        \n",
    "        if MAG in MAGs_best_candidates:\n",
    "            GEMs_dict[\"adapt\"][MAG]=GEMs_dict[soft_constraint_selected][MAG].copy()\n",
    "            GEMs_adapt[MAG] = soft_constraint_selected\n",
    "        else:\n",
    "            GEMs_dict[\"adapt\"][MAG]=GEMs_dict[\"no_constr\"][MAG].copy()\n",
    "            GEMs_adapt[MAG] = \"no_constr\"\n"
   ]
  },
  {
   "cell_type": "markdown",
   "id": "35219e8a-6ed1-4559-9b32-99cf479b151e",
   "metadata": {},
   "source": [
    "Some candidates are quite different from the original model. Here the symmetric diff shows how many reactions are different between the community members. "
   ]
  },
  {
   "cell_type": "code",
   "execution_count": 26,
   "id": "a1bea766-ecd6-463b-b688-db369ba599f5",
   "metadata": {},
   "outputs": [],
   "source": [
    "best_candidates = pd.DataFrame.from_dict({(community_id,rxn):rxn_candidates_all[community_id][rxn]  \n",
    "                                          for community_id in rxn_candidates_all.keys() \n",
    "                                          for rxn in rxn_candidates_all[community_id].keys()}).transpose()"
   ]
  },
  {
   "cell_type": "markdown",
   "id": "5abe6826-b706-4dd2-84d6-a4910d58f624",
   "metadata": {},
   "source": [
    "##### Save data"
   ]
  },
  {
   "cell_type": "code",
   "execution_count": 27,
   "id": "66ffd7e4-e864-4dd0-b171-c91b363bdec7",
   "metadata": {},
   "outputs": [],
   "source": [
    "GEMs_adapt[\"CH15-bin.15\"]=\"no_constr\""
   ]
  },
  {
   "cell_type": "code",
   "execution_count": 28,
   "id": "936e420d-6f0b-435e-82d0-293183b03401",
   "metadata": {},
   "outputs": [],
   "source": [
    "with open(\"./output/GEMs_adapt/GEMs_adapt.json\", \"w\") as outfile: \n",
    "    json.dump(GEMs_adapt, outfile)"
   ]
  },
  {
   "cell_type": "markdown",
   "id": "5ba2dbdc-89ee-4cf0-8137-9bc0543c3b1e",
   "metadata": {
    "tags": []
   },
   "source": [
    "##### Save models"
   ]
  },
  {
   "cell_type": "code",
   "execution_count": 29,
   "id": "7d67e3fd-ac6e-48af-9156-2f1543fa83ea",
   "metadata": {},
   "outputs": [],
   "source": [
    "GEMs_dict[\"adapt\"][\"CH15-bin.15\"] = GEMs_dict[\"no_constr\"][\"CH15-bin.15\"].copy()"
   ]
  },
  {
   "cell_type": "code",
   "execution_count": 30,
   "id": "86853731-c91a-47d6-a2db-e9c6a08ae207",
   "metadata": {},
   "outputs": [],
   "source": [
    "for MAG,model in GEMs_dict[\"adapt\"].items():\n",
    "    reframed.save_cbmodel(model,\"./output/GEMs_adapt/\"+MAG+\".xml\")"
   ]
  },
  {
   "cell_type": "markdown",
   "id": "963739ab-6151-45b6-a637-bb39067cfaf3",
   "metadata": {},
   "source": [
    "##### Check that they are the same"
   ]
  },
  {
   "cell_type": "code",
   "execution_count": 31,
   "id": "9c370ea7-a511-4503-97ee-62889ac8a52a",
   "metadata": {
    "scrolled": true,
    "tags": []
   },
   "outputs": [
    {
     "name": "stdout",
     "output_type": "stream",
     "text": [
      "CH7-bin.18\n",
      "CH15-bin.7\n",
      "CH13-bin.0\n",
      "CH1-bin.4\n",
      "CH13-bin.1\n",
      "CH13-bin.11\n",
      "CH15-bin.6\n",
      "CH7-bin.2\n",
      "CH13-bin.13\n",
      "CH1-bin.10\n",
      "CH1-bin.6\n",
      "CH13-bin.2\n",
      "CH13-bin.12\n",
      "CH15-bin.5\n",
      "CH7-bin.1\n",
      "CH15-bin.1\n",
      "CH1-bin.3\n",
      "CH13-bin.17\n",
      "CH15-bin.0\n",
      "CH7-bin.4\n",
      "CH7-bin.23\n",
      "CH7-bin.6\n",
      "CH15-bin.22\n",
      "CH15-bin.2\n",
      "CH1-bin.1\n",
      "CH13-bin.4\n",
      "CH13-bin.14\n",
      "CH15-bin.23\n",
      "CH7-bin.20\n",
      "CH8-bin.8\n",
      "CH8-bin.9\n",
      "CH8-bin.25\n",
      "CH14-bin.4\n",
      "CH14-bin.1\n",
      "CH8-bin.21\n",
      "CH14-bin.2\n",
      "CH8-bin.22\n",
      "CH8-bin.2\n",
      "CH8-bin.29\n",
      "CH8-bin.7\n",
      "CH8-bin.6\n",
      "CH3-bin.2\n",
      "CH8-bin.14\n",
      "CH8-bin.16\n",
      "CH3-bin.0\n",
      "CH8-bin.5\n",
      "CH3-bin.1\n",
      "CH8-bin.17\n",
      "CH7-bin.11\n",
      "CH9-bin.1\n",
      "CH15-bin.12\n",
      "CH13-bin.25\n",
      "CH15-bin.13\n",
      "CH9-bin.0\n",
      "CH7-bin.12\n",
      "CH9-bin.2\n",
      "CH7-bin.9\n",
      "CH15-bin.10\n",
      "CH7-bin.8\n",
      "CH7-bin.13\n",
      "CH7-bin.17\n",
      "CH15-bin.8\n",
      "CH15-bin.15\n",
      "CH7-bin.16\n",
      "CH9-bin.6\n",
      "CH9-bin.4\n",
      "CH15-bin.17\n",
      "CH1-bin.8\n",
      "CH1-bin.9\n",
      "CH15-bin.16\n",
      "CH7-bin.15\n",
      "CH9-bin.5\n"
     ]
    }
   ],
   "source": [
    "GEMs_adapt_old = {}\n",
    "\n",
    "directory = os.fsencode(\"../output/GEMs/GEMs_intermediate/GEMs_adapt/\")\n",
    "for file in os.listdir(directory):\n",
    "    \n",
    "    filename = os.fsdecode(file)\n",
    "    print(filename[:-4])\n",
    "    \n",
    "    if filename.endswith(\".xml\"): \n",
    "        GEMs_adapt_old[filename[:-4]]= reframed.load_cbmodel(\"../output/GEMs/GEMs_intermediate/GEMs_adapt/\"+filename)\n",
    "        assert set(GEMs_adapt_old[filename[:-4]].reactions) == set(GEMs_dict[\"adapt\"][filename[:-4]].reactions)\n",
    "        "
   ]
  },
  {
   "cell_type": "markdown",
   "id": "a0eca701-04b8-4402-a96a-6736d822e8ae",
   "metadata": {},
   "source": [
    "### Find transporters"
   ]
  },
  {
   "cell_type": "code",
   "execution_count": null,
   "id": "e2873c9e-37e5-47d6-ad68-894c58783cef",
   "metadata": {},
   "outputs": [],
   "source": []
  },
  {
   "cell_type": "code",
   "execution_count": null,
   "id": "4fed6b0d-d28b-463a-9d73-7608e09f22db",
   "metadata": {},
   "outputs": [],
   "source": []
  },
  {
   "cell_type": "markdown",
   "id": "a75b1063-6780-4e7f-893c-de9bbde27145",
   "metadata": {},
   "source": [
    "### Fixing acetate transporters"
   ]
  },
  {
   "cell_type": "code",
   "execution_count": 83,
   "id": "026a19de-2eb2-47ab-a748-0685b2b00e87",
   "metadata": {},
   "outputs": [],
   "source": [
    "with open(\"../output/relevant_MAGs_99.txt\") as text_file:\n",
    "    relevant_MAGs = text_file.read().split(\"\\n\")\n",
    "\n",
    "relevant_MAGs = [string.replace(\"\\t\",\"\") for string in relevant_MAGs]\n"
   ]
  },
  {
   "cell_type": "markdown",
   "id": "96b075f9-cb92-4cd1-b5fa-8668c8971126",
   "metadata": {},
   "source": [
    "##### Load models"
   ]
  },
  {
   "cell_type": "code",
   "execution_count": 84,
   "id": "23ed26d1-85ce-488c-97ef-45204ab6f9ca",
   "metadata": {
    "scrolled": true,
    "tags": []
   },
   "outputs": [],
   "source": [
    "GEMs_dict = {}\n",
    "\n",
    "directory = os.fsencode(\"../output/GEMs/GEMs_intermediate/GEMs_adapt/\")\n",
    "\n",
    "for file in os.listdir(directory):\n",
    "    filename = os.fsdecode(file)\n",
    "    \n",
    "    if filename.endswith(\".xml\") and filename[:-4] in relevant_MAGs:\n",
    "        GEMs_dict[filename[:-4]]= reframed.load_cbmodel(\"../output/GEMs/GEMs_intermediate/GEMs_adapt/\"+filename)\n"
   ]
  },
  {
   "cell_type": "markdown",
   "id": "e52075ed-83c7-44cc-b622-530ff0285812",
   "metadata": {
    "tags": []
   },
   "source": [
    "##### Find acetate producers/consumers\n",
    "\n",
    "Find which models has GPRs for producing acetate through phosphotransacetylase(R_PTAr) and acetate kinase (R_ACKr)"
   ]
  },
  {
   "cell_type": "code",
   "execution_count": 86,
   "id": "e4dc6204-4fbf-4ee3-8ac2-745b7899ff11",
   "metadata": {},
   "outputs": [],
   "source": [
    "has_enzymes_for_acetate = {}\n",
    "for MAG in GEMs_dict.keys():\n",
    "    \n",
    "    has_enzyme = []\n",
    "    if \"R_ACKr\" in GEMs_dict[MAG].reactions:\n",
    "        if GEMs_dict[MAG].reactions[\"R_ACKr\"].gpr!=None:\n",
    "            has_enzyme.append(\"R_ACKr\")\n",
    "    if \"R_PTAr\" in GEMs_dict[MAG].reactions:\n",
    "        \n",
    "        if GEMs_dict[MAG].reactions[\"R_PTAr\"].gpr!=None:\n",
    "            has_enzyme.append(\"R_PTAr\")\n",
    "    \n",
    "    has_enzymes_for_acetate[MAG]= len(has_enzyme)==2\n",
    "\n",
    "has_enzymes_for_acetate_MAGs = list(pd.Series(has_enzymes_for_acetate)[pd.Series(has_enzymes_for_acetate)].index)"
   ]
  },
  {
   "cell_type": "markdown",
   "id": "11c5b3dd-e135-4e5d-b576-0ee0ba8a1b79",
   "metadata": {},
   "source": [
    "##### Find hits on the ACt2r protein from the TCDB database"
   ]
  },
  {
   "cell_type": "code",
   "execution_count": 88,
   "id": "859010f0-f085-4a93-94ad-43367f0336a4",
   "metadata": {},
   "outputs": [],
   "source": [
    "ACt2r_MAGs = []\n",
    "\n",
    "ACt2r_MAGs_data = []\n",
    "for filename in os.listdir(\"transporters/\"):\n",
    "    \n",
    "    if filename.endswith(\".tsv\"):\n",
    "\n",
    "        transport= pd.read_csv(\"transporters/\"+filename,sep=\"\\t\",header=None)\n",
    "        transport.columns = [\"query acc.ver\", \"subject acc.ver\", \"% identity\", \"alignment length\", \"mismatches\", \"gap opens\", \"q. start\", \"q. end\", \"s. start\", \"s. end\", \"evalue\", \"bit score\"]\n",
    "        transport.reset_index(inplace=True)\n",
    "        \n",
    "        if transport.shape[0]>1:\n",
    "            \n",
    "            transport.sort_values(by=\"evalue\",ascending=True,inplace=True)\n",
    "            transport.reset_index(inplace=True)\n",
    "            \n",
    "            query = transport.loc[0,\"query acc.ver\"]\n",
    "            gene = transport.loc[0,\"subject acc.ver\"]\n",
    "            best_evalue = transport.loc[0,\"evalue\"]\n",
    "            bit_score = transport.loc[0,\"bit score\"]\n",
    "            \n",
    "            if best_evalue<1e-5 and bit_score>20:\n",
    "                if \"2.A.1.13.1\" in query:\n",
    "                    ACt2r_MAGs.append(filename[:-4])\n",
    "                    \n",
    "                    ACt2r_MAGs_data.append((filename[:-4],gene,best_evalue,bit_score,\"2.A.1.13.1\"))\n",
    "\n",
    "                elif \"2.A.21.7.3\" in query: \n",
    "                    ACt2r_MAGs.append(filename[:-4])\n",
    "                    ACt2r_MAGs_data.append((filename[:-4],gene,best_evalue,bit_score,\"2.A.21.7.3\"))\n",
    "\n",
    "\n",
    "ACt2r_MAGs_df = pd.DataFrame(ACt2r_MAGs_data,columns=[\"MAG\",\"gene\",\"evalue\",\"bit_score\",\"TCDB_id\"]).sort_values(\"evalue\")\n",
    "ACt2r_MAGs_df.set_index(\"MAG\",inplace=True)"
   ]
  },
  {
   "cell_type": "markdown",
   "id": "6dcfbd4d-b0b8-4c36-8658-615c07a5d095",
   "metadata": {},
   "source": [
    "##### Add acetate transport\n",
    "\n",
    "Two different conditions.\n",
    "\n",
    "1. The MAG has a hit in the TCDB database -> add reversible reaction\n",
    "2. The MAG has a hit for the enzymes in acetate production -> add only producing reaction"
   ]
  },
  {
   "cell_type": "code",
   "execution_count": 89,
   "id": "fdfc8452-3650-4a58-9452-df03d2b51a0d",
   "metadata": {},
   "outputs": [],
   "source": [
    "GEMs_dict2 = {}\n",
    "\n",
    "for MAG,model in GEMs_dict.items():\n",
    "    model_copy = model.copy()\n",
    "    \n",
    "    if \"R_Acabc\" in model_copy.reactions.keys(): \n",
    "        model_copy.remove_reaction(\"R_Acabc\")\n",
    "      \n",
    "    if \"R_ACt2r\" in model_copy.reactions.keys():\n",
    "        model_copy.remove_reaction(\"R_ACt2r\")\n",
    "        \n",
    "    if MAG in ACt2r_MAGs_df.index.values:\n",
    "        model_copy.add_reaction_from_str(\"R_ACt2r: M_ac_c + M_h_c --> M_ac_e + M_h_e\")\n",
    "        model_copy.reversible=True\n",
    "        model_copy.lb=-1000\n",
    "        \n",
    "        GPR = parse_gpr_rule(ACt2r_MAGs_df.loc[MAG,\"gene\"])\n",
    "        model_copy.set_gpr_association(\"R_ACt2r\",GPR)\n",
    "        \n",
    "        \n",
    "    elif has_enzymes_for_acetate_MAGs:\n",
    "        model_copy.add_reaction_from_str(\"R_ACt2r: M_ac_c + M_h_c --> M_ac_e + M_h_e\")\n",
    "        \n",
    "    GEMs_dict2[MAG]=model_copy"
   ]
  },
  {
   "cell_type": "code",
   "execution_count": 91,
   "id": "50b27f26-84ed-4f1f-8e56-80054a2d54ad",
   "metadata": {
    "scrolled": true,
    "tags": []
   },
   "outputs": [
    {
     "name": "stdout",
     "output_type": "stream",
     "text": [
      "CH7-bin.18\n",
      "\u001b[92mThere are NO energy producing cycles in the model\u001b[0m\n",
      "CH15-bin.7\n",
      "\u001b[92mThere are NO energy producing cycles in the model\u001b[0m\n",
      "CH13-bin.0\n",
      "\u001b[92mThere are NO energy producing cycles in the model\u001b[0m\n",
      "CH1-bin.4\n",
      "\u001b[92mThere are NO energy producing cycles in the model\u001b[0m\n",
      "CH13-bin.1\n",
      "\u001b[92mThere are NO energy producing cycles in the model\u001b[0m\n",
      "CH13-bin.11\n",
      "\u001b[92mThere are NO energy producing cycles in the model\u001b[0m\n",
      "CH15-bin.6\n",
      "\u001b[92mThere are NO energy producing cycles in the model\u001b[0m\n",
      "CH7-bin.2\n",
      "\u001b[92mThere are NO energy producing cycles in the model\u001b[0m\n",
      "CH13-bin.13\n",
      "\u001b[92mThere are NO energy producing cycles in the model\u001b[0m\n",
      "CH1-bin.10\n",
      "\u001b[92mThere are NO energy producing cycles in the model\u001b[0m\n",
      "CH1-bin.6\n",
      "\u001b[92mThere are NO energy producing cycles in the model\u001b[0m\n",
      "CH13-bin.2\n",
      "\u001b[92mThere are NO energy producing cycles in the model\u001b[0m\n",
      "CH13-bin.12\n",
      "\u001b[92mThere are NO energy producing cycles in the model\u001b[0m\n",
      "CH15-bin.5\n",
      "\u001b[92mThere are NO energy producing cycles in the model\u001b[0m\n",
      "CH7-bin.1\n",
      "\u001b[92mThere are NO energy producing cycles in the model\u001b[0m\n",
      "CH15-bin.1\n",
      "\u001b[92mThere are NO energy producing cycles in the model\u001b[0m\n",
      "CH1-bin.3\n",
      "\u001b[92mThere are NO energy producing cycles in the model\u001b[0m\n",
      "CH13-bin.17\n",
      "\u001b[92mThere are NO energy producing cycles in the model\u001b[0m\n",
      "CH15-bin.0\n",
      "\u001b[92mThere are NO energy producing cycles in the model\u001b[0m\n",
      "CH7-bin.4\n",
      "\u001b[92mThere are NO energy producing cycles in the model\u001b[0m\n",
      "CH7-bin.23\n",
      "\u001b[92mThere are NO energy producing cycles in the model\u001b[0m\n",
      "CH7-bin.6\n",
      "\u001b[92mThere are NO energy producing cycles in the model\u001b[0m\n",
      "CH15-bin.22\n",
      "\u001b[92mThere are NO energy producing cycles in the model\u001b[0m\n",
      "CH15-bin.2\n",
      "\u001b[92mThere are NO energy producing cycles in the model\u001b[0m\n",
      "CH1-bin.1\n",
      "\u001b[92mThere are NO energy producing cycles in the model\u001b[0m\n",
      "CH13-bin.4\n",
      "\u001b[92mThere are NO energy producing cycles in the model\u001b[0m\n",
      "CH13-bin.14\n",
      "\u001b[92mThere are NO energy producing cycles in the model\u001b[0m\n",
      "CH15-bin.23\n",
      "\u001b[92mThere are NO energy producing cycles in the model\u001b[0m\n",
      "CH7-bin.20\n",
      "\u001b[92mThere are NO energy producing cycles in the model\u001b[0m\n",
      "CH8-bin.8\n",
      "\u001b[92mThere are NO energy producing cycles in the model\u001b[0m\n",
      "CH8-bin.9\n",
      "\u001b[92mThere are NO energy producing cycles in the model\u001b[0m\n",
      "CH8-bin.25\n",
      "\u001b[92mThere are NO energy producing cycles in the model\u001b[0m\n",
      "CH14-bin.4\n",
      "\u001b[92mThere are NO energy producing cycles in the model\u001b[0m\n",
      "CH14-bin.1\n",
      "\u001b[92mThere are NO energy producing cycles in the model\u001b[0m\n",
      "CH8-bin.21\n",
      "\u001b[92mThere are NO energy producing cycles in the model\u001b[0m\n",
      "CH14-bin.2\n",
      "\u001b[92mThere are NO energy producing cycles in the model\u001b[0m\n",
      "CH8-bin.22\n",
      "\u001b[92mThere are NO energy producing cycles in the model\u001b[0m\n",
      "CH8-bin.2\n",
      "\u001b[92mThere are NO energy producing cycles in the model\u001b[0m\n",
      "CH8-bin.29\n",
      "\u001b[92mThere are NO energy producing cycles in the model\u001b[0m\n",
      "CH8-bin.7\n",
      "\u001b[92mThere are NO energy producing cycles in the model\u001b[0m\n",
      "CH8-bin.6\n",
      "\u001b[92mThere are NO energy producing cycles in the model\u001b[0m\n",
      "CH3-bin.2\n",
      "\u001b[92mThere are NO energy producing cycles in the model\u001b[0m\n",
      "CH8-bin.14\n",
      "\u001b[92mThere are NO energy producing cycles in the model\u001b[0m\n",
      "CH8-bin.16\n",
      "\u001b[92mThere are NO energy producing cycles in the model\u001b[0m\n",
      "CH3-bin.0\n",
      "\u001b[92mThere are NO energy producing cycles in the model\u001b[0m\n",
      "CH8-bin.5\n",
      "\u001b[92mThere are NO energy producing cycles in the model\u001b[0m\n",
      "CH3-bin.1\n",
      "\u001b[92mThere are NO energy producing cycles in the model\u001b[0m\n",
      "CH8-bin.17\n",
      "\u001b[92mThere are NO energy producing cycles in the model\u001b[0m\n",
      "CH7-bin.11\n",
      "\u001b[92mThere are NO energy producing cycles in the model\u001b[0m\n",
      "CH9-bin.1\n",
      "\u001b[92mThere are NO energy producing cycles in the model\u001b[0m\n",
      "CH15-bin.12\n",
      "\u001b[92mThere are NO energy producing cycles in the model\u001b[0m\n",
      "CH13-bin.25\n",
      "\u001b[92mThere are NO energy producing cycles in the model\u001b[0m\n",
      "CH15-bin.13\n",
      "\u001b[92mThere are NO energy producing cycles in the model\u001b[0m\n",
      "CH9-bin.0\n",
      "\u001b[92mThere are NO energy producing cycles in the model\u001b[0m\n",
      "CH7-bin.12\n",
      "\u001b[92mThere are NO energy producing cycles in the model\u001b[0m\n",
      "CH9-bin.2\n",
      "\u001b[92mThere are NO energy producing cycles in the model\u001b[0m\n",
      "CH7-bin.9\n",
      "\u001b[92mThere are NO energy producing cycles in the model\u001b[0m\n",
      "CH15-bin.10\n",
      "\u001b[92mThere are NO energy producing cycles in the model\u001b[0m\n",
      "CH7-bin.8\n",
      "\u001b[92mThere are NO energy producing cycles in the model\u001b[0m\n",
      "CH7-bin.13\n",
      "\u001b[92mThere are NO energy producing cycles in the model\u001b[0m\n",
      "CH7-bin.17\n",
      "\u001b[92mThere are NO energy producing cycles in the model\u001b[0m\n",
      "CH15-bin.8\n",
      "\u001b[92mThere are NO energy producing cycles in the model\u001b[0m\n",
      "CH15-bin.15\n",
      "\u001b[92mThere are NO energy producing cycles in the model\u001b[0m\n",
      "CH7-bin.16\n",
      "\u001b[92mThere are NO energy producing cycles in the model\u001b[0m\n",
      "CH9-bin.6\n",
      "\u001b[92mThere are NO energy producing cycles in the model\u001b[0m\n",
      "CH9-bin.4\n",
      "\u001b[92mThere are NO energy producing cycles in the model\u001b[0m\n",
      "CH15-bin.17\n",
      "\u001b[92mThere are NO energy producing cycles in the model\u001b[0m\n",
      "CH1-bin.8\n",
      "\u001b[92mThere are NO energy producing cycles in the model\u001b[0m\n",
      "CH1-bin.9\n",
      "\u001b[92mThere are NO energy producing cycles in the model\u001b[0m\n",
      "CH15-bin.16\n",
      "\u001b[92mThere are NO energy producing cycles in the model\u001b[0m\n",
      "CH7-bin.15\n",
      "\u001b[92mThere are NO energy producing cycles in the model\u001b[0m\n",
      "CH9-bin.5\n",
      "\u001b[92mThere are NO energy producing cycles in the model\u001b[0m\n"
     ]
    }
   ],
   "source": [
    "for MAG,model in GEMs_dict2.items():\n",
    "    print(MAG)\n",
    "    EGC.EGC_identifier(model,print_results=False)"
   ]
  },
  {
   "cell_type": "markdown",
   "id": "e88915ff-53c9-4fcd-bf88-77a12bc4e9a0",
   "metadata": {},
   "source": [
    "### Removing oxygen related reactions"
   ]
  },
  {
   "cell_type": "code",
   "execution_count": 93,
   "id": "625e5c37-3b9c-43b4-87d4-81801dde7725",
   "metadata": {
    "tags": []
   },
   "outputs": [],
   "source": [
    "GEMs_dict3 = {}\n",
    "for MAG, model in GEMs_dict2.items():\n",
    "    if \"M_o2_e\" not in model.metabolites:\n",
    "        continue\n",
    "        \n",
    "    model_copy = model.copy()\n",
    "    model_copy.remove_reactions(model_copy.get_metabolite_reactions(\"M_o2_e\"))\n",
    "    model_copy.remove_metabolite(\"M_o2_e\")\n",
    "    model_copy.remove_reaction(\"R_EX_o2_e\")\n",
    "    \n",
    "    GEMs_dict3[MAG]=model_copy"
   ]
  },
  {
   "cell_type": "markdown",
   "id": "aeb8e247-e345-424d-a294-697473c7c07a",
   "metadata": {
    "tags": []
   },
   "source": [
    "##### Save models"
   ]
  },
  {
   "cell_type": "markdown",
   "id": "c49e0081-023c-4644-b305-2bb4713cae1f",
   "metadata": {},
   "source": [
    "for MAG,model in GEMs_dict3.items():\n",
    "    model.update()\n",
    "    reframed.save_cbmodel(model,\"../output/GEMs/GEMs_intermediate/GEMs_ACt2r/\"+MAG+\".xml\")"
   ]
  },
  {
   "cell_type": "code",
   "execution_count": 96,
   "id": "aa0dc2da-c80d-44bd-96a7-ee84aab8fe2d",
   "metadata": {
    "tags": []
   },
   "outputs": [],
   "source": [
    "directory = os.fsencode(\"../output/GEMs/GEMs_intermediate/GEMs_ACt2r/\")\n",
    "for file in os.listdir(directory):\n",
    "    \n",
    "    filename = os.fsdecode(file)\n",
    "    if filename.endswith(\".xml\"): \n",
    "        model_old = reframed.load_cbmodel(\"../output/GEMs/GEMs_intermediate/GEMs_ACt2r/\"+filename)\n",
    "        \n",
    "        assert set(model_old.reactions)==set(GEMs_dict3[filename[:-4]].reactions)"
   ]
  },
  {
   "cell_type": "markdown",
   "id": "d27647c0-7090-4624-9330-ba2c345b6ff4",
   "metadata": {
    "tags": []
   },
   "source": [
    "## Gap-filling with media - creating media "
   ]
  },
  {
   "cell_type": "markdown",
   "id": "44c65593-a977-4915-9c8a-13caf846d1a7",
   "metadata": {
    "tags": []
   },
   "source": [
    "This part builds on the reconstruction with soft constraints. The models selected from that process are further used here. \n",
    "\n",
    "\n",
    "Strategy:\n",
    "- **Make media based on..**\n",
    "    - **product prediction of models able to grow**\n",
    "    - **Filter by CHEBI class**"
   ]
  },
  {
   "cell_type": "code",
   "execution_count": 102,
   "id": "eaa80935-6762-4403-a4fc-ac477058bcde",
   "metadata": {},
   "outputs": [],
   "source": [
    "compounds_dict, source_dict,substrate_dict, gas_sheet_dict, community_dict = translation_dicts.translation_dicts()"
   ]
  },
  {
   "cell_type": "code",
   "execution_count": 115,
   "id": "38f70e41-e817-4817-a119-ef1a0b5c63f0",
   "metadata": {},
   "outputs": [],
   "source": [
    "all_mags_paper = general_func.read_allmags_data()"
   ]
  },
  {
   "cell_type": "markdown",
   "id": "27c4b514-868d-4cb6-9338-476d44845fdf",
   "metadata": {},
   "source": [
    "##### Load models made without soft constraints"
   ]
  },
  {
   "cell_type": "code",
   "execution_count": 97,
   "id": "edcd195c-b745-4d82-8ec0-273d0cdccdd1",
   "metadata": {
    "scrolled": true,
    "tags": []
   },
   "outputs": [],
   "source": [
    "GEMs_dict = GEMs_dict3"
   ]
  },
  {
   "cell_type": "markdown",
   "id": "3be906cb-d047-4c6b-95e6-ea8a8c1790d4",
   "metadata": {
    "tags": []
   },
   "source": [
    "##### Define environment"
   ]
  },
  {
   "cell_type": "code",
   "execution_count": 101,
   "id": "15cfb05b-a8fc-4d48-9ba5-23ddd5f153ea",
   "metadata": {},
   "outputs": [],
   "source": [
    "syncon_environments = MAG_environments.community_syncon_environments()"
   ]
  },
  {
   "cell_type": "markdown",
   "id": "b0b9cf67-67c8-480f-9f2e-12b5bcc7f050",
   "metadata": {},
   "source": [
    "#### Modify Environment to support community growth"
   ]
  },
  {
   "cell_type": "markdown",
   "id": "5a5ed12d-3c1f-43c4-aa0e-adae2d440faf",
   "metadata": {
    "tags": []
   },
   "source": [
    "##### FBA growth predictions"
   ]
  },
  {
   "cell_type": "code",
   "execution_count": 111,
   "id": "9b55e803-cffd-462a-827d-7131de75cf90",
   "metadata": {},
   "outputs": [],
   "source": [
    "MAG2community_id.columns=[\"community_id\"]\n",
    "\n",
    "community_groups = MAG2community_id.groupby(by=\"community_id\").groups"
   ]
  },
  {
   "cell_type": "code",
   "execution_count": 112,
   "id": "f54c9eae-fb36-4380-aac3-26cd6f5bd4f1",
   "metadata": {
    "scrolled": true,
    "tags": []
   },
   "outputs": [],
   "source": [
    "FBA_growth = {}\n",
    "for community_id, MAGs in community_groups.items(): \n",
    "    FBA_growth[community_id]={}\n",
    "    for MAG in MAGs:\n",
    "        if MAG in relevant_MAGs:\n",
    "            model = GEMs_dict[MAG]\n",
    "            syncon_environments[community_id].apply(model,inplace=True,exclusive=True,warning=False)\n",
    "            sol = reframed.FBA(model)\n",
    "\n",
    "            if sol is None:\n",
    "                FBA_growth[community_id][MAG]=None\n",
    "            else:\n",
    "                FBA_growth[community_id][MAG]=sol"
   ]
  },
  {
   "cell_type": "code",
   "execution_count": 113,
   "id": "58bf602a-5e32-4df9-b4fd-fe1c89a9a4d9",
   "metadata": {},
   "outputs": [],
   "source": [
    "# Add the source and substrate to this data\n",
    "growth_community_df = pd.concat([MAG2community_id,pd.Series({GEM:sol.fobj for community_id,GEM_sol_dict in FBA_growth.items() for GEM,sol in GEM_sol_dict.items()})],axis=1)\n",
    "# Change from float to False or positive\n",
    "growth_community_df[\"Grows\"] = growth_community_df[0].map(lambda x:x>1e-6)\n",
    "# Drop the growth float column\n",
    "growth_community_df.drop(0,axis=1,inplace=True)"
   ]
  },
  {
   "cell_type": "markdown",
   "id": "bc876288-8c20-4e81-8cfe-cc37c054ef2e",
   "metadata": {},
   "source": [
    "**When considering top 99 of members all but Cow_Manure on xylan have a growing community member**"
   ]
  },
  {
   "cell_type": "code",
   "execution_count": 119,
   "id": "cfe61edc-c72d-44ef-a04e-cc18f5d176dd",
   "metadata": {},
   "outputs": [],
   "source": [
    "MAG_can_grow = growth_community_df[growth_community_df.Grows].index"
   ]
  },
  {
   "cell_type": "markdown",
   "id": "8dea7398-fb23-4c65-8b2a-55675066d290",
   "metadata": {
    "tags": []
   },
   "source": [
    "##### FVA prediction of bacteria that can survive in the media at obj_frac=0\n",
    "\n",
    "1. Find compounds produced by growing community members\n",
    "2. Filter by CHEBI class"
   ]
  },
  {
   "cell_type": "markdown",
   "id": "b69fb659-c8c3-406b-9e58-0ba49d1d2f7a",
   "metadata": {},
   "source": [
    "Run FVA for exchange reactions of growing community members"
   ]
  },
  {
   "cell_type": "code",
   "execution_count": 120,
   "id": "0ce9c4bb-d118-4283-841a-5f974e48e0ef",
   "metadata": {
    "scrolled": true,
    "tags": []
   },
   "outputs": [],
   "source": [
    "FVA_production = {}\n",
    "\n",
    "for community_id, MAGs in community_groups.items(): \n",
    "    \n",
    "    FVA_production[community_id]={}\n",
    "    \n",
    "    for MAG in MAGs:\n",
    "        \n",
    "        # If MAG is among the ones who cannot grow -> continue\n",
    "        if MAG not in MAG_can_grow:\n",
    "            continue\n",
    "        model = GEMs_dict[MAG]\n",
    "        \n",
    "        # Apply medium\n",
    "        syncon_environments[community_id].apply(model,inplace=True,exclusive=True,warning=False)\n",
    "        # Find FVA solution and obj_frac=0\n",
    "        FVA_production[community_id][MAG] = reframed.FVA(model,reactions=model.get_exchange_reactions(),obj_frac=0.0)\n",
    "        "
   ]
  },
  {
   "cell_type": "markdown",
   "id": "d932c570-ea07-404b-950e-c49ac0640cfa",
   "metadata": {},
   "source": [
    "**Find compounds that are being produced**"
   ]
  },
  {
   "cell_type": "code",
   "execution_count": 121,
   "id": "52a69d0a-6c1f-4624-b66c-f44db87c63cc",
   "metadata": {},
   "outputs": [],
   "source": [
    "FVA_production_copy = FVA_production.copy()\n",
    "FVA_production_copy = {community:{MAG:[rxn for rxn,sol in FVA_production_copy[community][MAG].items() if sol[1]>1e-6] for MAG in FVA_production_copy[community].keys()}\n",
    "                       for community in FVA_production_copy.keys()}"
   ]
  },
  {
   "cell_type": "markdown",
   "id": "cf9a8e45-c976-4e5b-b9fb-93f27abc1c2c",
   "metadata": {},
   "source": [
    "**Combine the results from each community member into community level**"
   ]
  },
  {
   "cell_type": "code",
   "execution_count": 122,
   "id": "8756d9d9-5dbb-447d-b106-646a3aa7cc5c",
   "metadata": {
    "tags": []
   },
   "outputs": [],
   "source": [
    "community_prod = {community_name:[] for community_name in FVA_production_copy.keys()}\n",
    "\n",
    "for community_name,mag_prod in FVA_production_copy.items():\n",
    "    for MAG,rxns in mag_prod.items():\n",
    "        community_prod[community_name].extend(rxns)\n",
    "    \n",
    "    community_prod[community_name] = list(set(community_prod[community_name]))"
   ]
  },
  {
   "cell_type": "markdown",
   "id": "c94eeef2-ef6a-430e-87ae-72b0245402c9",
   "metadata": {},
   "source": [
    "#### Filter by chebi_class"
   ]
  },
  {
   "cell_type": "code",
   "execution_count": 123,
   "id": "89c8f710-54e7-4828-a64d-c505283c1440",
   "metadata": {},
   "outputs": [],
   "source": [
    "# Some compounds are not interesting for us when it comes to exchange\n",
    "ignore_classes = [\"other\",\"inorganic ions and atoms\",\"oligopeptide\",\"simple sugars\",\"cellodextrin\",\"carbohydrate derivative\",\"carbohydrate acid\",\"oligosaccharides\"]"
   ]
  },
  {
   "cell_type": "code",
   "execution_count": 124,
   "id": "b5776d80-f52c-4db7-99aa-f1fa7cd8fa4e",
   "metadata": {
    "tags": []
   },
   "outputs": [],
   "source": [
    "met_chebi_class = pd.read_csv(\"../output/met_chebi_class.tsv\",sep=\"\\t\",index_col=0)\n",
    "\n",
    "met_chebi_class_reduced = met_chebi_class[~met_chebi_class[\"self defined super class\"].isin(ignore_classes)].copy()\n",
    "\n",
    "\n",
    "met_chebi_class_reduced.loc[\"M_glc__D_e\"]= met_chebi_class.loc[\"M_glc__D_e\"]\n",
    "met_chebi_class_reduced.loc[\"M_xyl__D_e\"]= met_chebi_class.loc[\"M_xyl__D_e\"]\n"
   ]
  },
  {
   "cell_type": "code",
   "execution_count": 126,
   "id": "dd76dc7c-ba8a-4f7d-99a4-63fcccf93257",
   "metadata": {
    "tags": []
   },
   "outputs": [],
   "source": [
    "met_chebi_class_dict = met_chebi_class_reduced[\"chebi class\"].to_dict()"
   ]
  },
  {
   "cell_type": "code",
   "execution_count": 127,
   "id": "3c7f6ba7-32b1-4350-9058-3e6a854d980e",
   "metadata": {
    "tags": []
   },
   "outputs": [],
   "source": [
    "community_prod_dfs= {community_name: pd.DataFrame({\"rxns\":[rxn for rxn in rxns if \"M_\"+rxn[5:] in met_chebi_class_dict.keys() ],\n",
    "                                                   \"chebi_class\":[met_chebi_class_dict[\"M_\"+rxn[5:]] for rxn in rxns if \"M_\"+rxn[5:] in met_chebi_class_dict.keys() ]})\n",
    "                                                  for community_name,rxns in community_prod.items()}"
   ]
  },
  {
   "cell_type": "markdown",
   "id": "5439c5e9-d250-47ff-8abf-f0941dc6dc6f",
   "metadata": {},
   "source": [
    "##### Make new environments"
   ]
  },
  {
   "cell_type": "code",
   "execution_count": 130,
   "id": "3a24c577-cf01-4827-806a-67065cee2696",
   "metadata": {},
   "outputs": [],
   "source": [
    "model_uni = reframed.load_cbmodel(\"../input/universe_bacteria.xml\")"
   ]
  },
  {
   "cell_type": "code",
   "execution_count": 131,
   "id": "81f92d8f-370a-4e9a-a2a4-c0e894ed49bc",
   "metadata": {},
   "outputs": [],
   "source": [
    "substrate_dict = {'X': 'Xylan', 'A': 'Avicel', 'P': 'PASC'}\n",
    "source_dict = {'M':'Marshland soil','CD':'Compost and Digestate', 'CM':'Cow manure'}"
   ]
  },
  {
   "cell_type": "code",
   "execution_count": 132,
   "id": "061a9ea1-081e-412b-bd30-db5049a611fe",
   "metadata": {},
   "outputs": [],
   "source": [
    "syncon_media = {}\n",
    "for community_id in MAG2community_id.community_id.unique():\n",
    "    \n",
    "    # Mets from original syncon environment\n",
    "    mets_syncon = [rxn[5:-2] for rxn in syncon_environments[community_id].keys()]\n",
    "    \n",
    "    # Mets produced by the community members\n",
    "    mets_produced = [rxn[5:-2] for rxn in community_prod_dfs[community_id].rxns.values]\n",
    "    mets_syncon.extend(mets_produced)\n",
    "\n",
    "    syncon_media[community_id]=set(mets_syncon)"
   ]
  },
  {
   "cell_type": "code",
   "execution_count": 133,
   "id": "4e879fa6-3356-4ba4-b291-52de35eb46b1",
   "metadata": {},
   "outputs": [],
   "source": [
    "media_dfs = []\n",
    "\n",
    "for community_id,compounds in syncon_media.items():\n",
    "    media_id_list = community_id.split(\"_\")\n",
    "\n",
    "    source = media_id_list[0]\n",
    "    substrate = media_id_list[1]\n",
    "\n",
    "    # NB! Some of the compounds they used are not in the universal model!\n",
    "    compounds = [met for met in compounds if \"M_\"+met+\"_e\" in model_uni.metabolites]\n",
    "    compounds_names = [model_uni.metabolites[\"M_\"+met+\"_e\"].name for met in compounds]\n",
    "    \n",
    "    media_df = pd.DataFrame({\"medium\":[community_id for met in compounds],\n",
    "               \"description\": [\"Media + produced compounds in \"+source_dict[source]+\" on \" +substrate_dict[substrate] for met in compounds],\n",
    "               \"compound\":compounds,\n",
    "               \"name\":compounds_names})\n",
    "    media_dfs.append(media_df)"
   ]
  },
  {
   "cell_type": "markdown",
   "id": "47d37121-4249-43d9-8571-b7523356a380",
   "metadata": {},
   "source": [
    "media_total_df.to_csv(\"../output/gapfill_media/gapfill_media.tsv\",sep=\"\\t\",index=None)"
   ]
  },
  {
   "cell_type": "markdown",
   "id": "34895481-9799-42ad-951d-e858f73eba18",
   "metadata": {},
   "source": [
    "##### Check that everything is as expected"
   ]
  },
  {
   "cell_type": "code",
   "execution_count": 153,
   "id": "ceb2a9af-6605-4ef8-a738-e0b6272ec5b4",
   "metadata": {},
   "outputs": [],
   "source": [
    "media_total_df_old = pd.read_csv(\"../output/gapfill_media/gapfill_media.tsv\",sep=\"\\t\")\n",
    "media_total_df = pd.concat(media_dfs).reset_index(drop=True)"
   ]
  },
  {
   "cell_type": "code",
   "execution_count": 154,
   "id": "ebe87aca-727d-431e-99b2-8dbaa5ba7a5b",
   "metadata": {},
   "outputs": [
    {
     "name": "stdout",
     "output_type": "stream",
     "text": [
      "CD_A\n",
      "CD_P\n",
      "CD_X\n",
      "CM_A\n",
      "CM_P\n",
      "CM_X\n",
      "M_P\n",
      "M_X\n"
     ]
    }
   ],
   "source": [
    "for community_id in media_total_df.medium.unique():\n",
    "    print(community_id)\n",
    "    assert set(media_total_df[media_total_df.medium==community_id].compound.values)==set(media_total_df_old[media_total_df_old.medium==community_id].compound.values)\n",
    "    "
   ]
  },
  {
   "cell_type": "markdown",
   "id": "585af52d-7e21-4a0a-948c-1203362daa56",
   "metadata": {},
   "source": [
    "## Gapfill models"
   ]
  },
  {
   "cell_type": "raw",
   "id": "1c9b2f9a-642e-481f-9aba-162e6beb85e1",
   "metadata": {
    "jupyter": {
     "outputs_hidden": true
    },
    "tags": []
   },
   "source": [
    "subprocess.run('bash -c \"source activate MAGs_RecAndAn2; ./bash_scripts/gapfill_GEMs_media.sh\", shell=True)\n"
   ]
  },
  {
   "cell_type": "code",
   "execution_count": null,
   "id": "bb276ad7-3967-4b11-8a57-1219dcf3ed0f",
   "metadata": {},
   "outputs": [],
   "source": []
  }
 ],
 "metadata": {
  "kernelspec": {
   "display_name": "MAGs_RecAndAn2",
   "language": "python",
   "name": "mags_recandan2"
  },
  "language_info": {
   "codemirror_mode": {
    "name": "ipython",
    "version": 3
   },
   "file_extension": ".py",
   "mimetype": "text/x-python",
   "name": "python",
   "nbconvert_exporter": "python",
   "pygments_lexer": "ipython3",
   "version": "3.9.13"
  }
 },
 "nbformat": 4,
 "nbformat_minor": 5
}

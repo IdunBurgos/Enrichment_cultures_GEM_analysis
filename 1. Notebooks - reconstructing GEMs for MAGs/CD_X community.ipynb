{
 "cells": [
  {
   "cell_type": "markdown",
   "id": "a00f122d-32ff-40b4-9b2c-e6958ff37b14",
   "metadata": {},
   "source": [
    "# Studying members of the CD_X community"
   ]
  },
  {
   "cell_type": "code",
   "execution_count": 439,
   "id": "f6ae03c1-099a-4463-b88f-b11cc492f0bb",
   "metadata": {},
   "outputs": [],
   "source": [
    "import reframed\n",
    "import pandas as pd\n",
    "\n",
    "import copy\n",
    "sys.path.append(\"../functions/\")\n",
    "import EGC"
   ]
  },
  {
   "cell_type": "code",
   "execution_count": 381,
   "id": "61c50800-4761-4f70-926c-f8c3be6b1a06",
   "metadata": {},
   "outputs": [],
   "source": [
    "model_uni = reframed.load_cbmodel(\"../input/universe_bacteria.xml\")"
   ]
  },
  {
   "cell_type": "markdown",
   "id": "112b36d6-ba63-47f1-a1bb-ebc90caab12f",
   "metadata": {},
   "source": [
    "## Caproiciproducens CH14-bin.0"
   ]
  },
  {
   "cell_type": "markdown",
   "id": "9685c5d4-67ca-4201-8bff-c09b041acf44",
   "metadata": {},
   "source": [
    "### Model before Rnf addition"
   ]
  },
  {
   "cell_type": "code",
   "execution_count": 382,
   "id": "18e9d299-49f3-4ce1-836f-75ca36f22028",
   "metadata": {
    "tags": []
   },
   "outputs": [],
   "source": [
    "model = reframed.load_cbmodel(\"../output/Caproicproducens_CH14_bin_0/CH14-bin.0_acetate.xml\")\n",
    "\n",
    "media_db = pd.read_csv(\"https://raw.githubusercontent.com/cdanielmachado/carveme/master/carveme/data/input/media_db.tsv\",sep=\"\\t\")"
   ]
  },
  {
   "cell_type": "code",
   "execution_count": 383,
   "id": "6feafc5d-2745-43b2-811c-0aa12304a6e7",
   "metadata": {},
   "outputs": [
    {
     "data": {
      "text/plain": [
       "{'R_Growth': 1.0}"
      ]
     },
     "execution_count": 383,
     "metadata": {},
     "output_type": "execute_result"
    }
   ],
   "source": [
    "model.get_objective()"
   ]
  },
  {
   "cell_type": "markdown",
   "id": "92bbd0a8-264c-492f-87d8-af944e3fab6d",
   "metadata": {},
   "source": [
    "#### Model grows on LB medium"
   ]
  },
  {
   "cell_type": "code",
   "execution_count": 384,
   "id": "20b5d1d6-75bc-4daa-98c9-74129f109c00",
   "metadata": {},
   "outputs": [
    {
     "data": {
      "text/plain": [
       "(-10.0, inf)"
      ]
     },
     "execution_count": 384,
     "metadata": {},
     "output_type": "execute_result"
    }
   ],
   "source": [
    "LB_env = reframed.Environment.from_compounds(media_db[media_db.medium==\"LB[-O2]\"].compound.values)\n",
    "LB_env.pop(\"R_EX_glc__D_e\")"
   ]
  },
  {
   "cell_type": "code",
   "execution_count": 385,
   "id": "e5e7faa0-46ba-4d51-8516-8136d6901087",
   "metadata": {},
   "outputs": [],
   "source": [
    "sol = reframed.pFBA(model)\n",
    "lb_media_min_growth = sol.values[\"R_Growth\"]\n",
    "lb_media_but_prod = sol.values[\"R_EX_but_e\"]"
   ]
  },
  {
   "cell_type": "code",
   "execution_count": 386,
   "id": "ec4e0ce9-7d04-48b8-b1de-c25368fde7d6",
   "metadata": {},
   "outputs": [
    {
     "data": {
      "text/plain": [
       "51.23134538636119"
      ]
     },
     "execution_count": 386,
     "metadata": {},
     "output_type": "execute_result"
    }
   ],
   "source": [
    "lb_media_min_growth"
   ]
  },
  {
   "cell_type": "code",
   "execution_count": 387,
   "id": "dcd5cc48-649b-4e3e-9890-58cc06d5ec73",
   "metadata": {},
   "outputs": [
    {
     "data": {
      "text/plain": [
       "0.0"
      ]
     },
     "execution_count": 387,
     "metadata": {},
     "output_type": "execute_result"
    }
   ],
   "source": [
    "lb_media_but_prod"
   ]
  },
  {
   "cell_type": "markdown",
   "id": "22107009-dae2-457f-b26e-7631894df60a",
   "metadata": {},
   "source": [
    "**LB medium with different carbon sources**"
   ]
  },
  {
   "cell_type": "code",
   "execution_count": 388,
   "id": "90dcc4f6-1646-47c5-80b6-b4352e417ece",
   "metadata": {},
   "outputs": [],
   "source": [
    "carbon_sources = [\"glc__D\",\"xyl__D\",\"lac__L\",\"etoh\",\"glyc\",\"glyald\",\"gcald\"]"
   ]
  },
  {
   "cell_type": "code",
   "execution_count": 389,
   "id": "fc8e7648-7334-4df3-8890-3c9b4b48c2f3",
   "metadata": {},
   "outputs": [],
   "source": [
    "results_lb = {}\n",
    "\n",
    "for met in carbon_sources:\n",
    "    results_lb[met]={}\n",
    "    \n",
    "    LB_env_cp = LB_env.copy()\n",
    "    LB_env_cp[\"R_EX_\"+met+\"_e\"]=(-10,0)\n",
    "    LB_env_cp.apply(model,warning=False,inplace=True)\n",
    "\n",
    "    sol = reframed.pFBA(model)\n",
    "    results_lb[met][\"growth increase %\"]=(sol.values[\"R_Growth\"]/lb_media_min_growth)*100\n",
    "    results_lb[met][\"but. prod. mmol/g*h\"]=sol.values[\"R_EX_but_e\"]"
   ]
  },
  {
   "cell_type": "code",
   "execution_count": 390,
   "id": "69782539-1e32-4964-8f6f-d1b05235a4b5",
   "metadata": {},
   "outputs": [
    {
     "data": {
      "text/html": [
       "<div>\n",
       "<style scoped>\n",
       "    .dataframe tbody tr th:only-of-type {\n",
       "        vertical-align: middle;\n",
       "    }\n",
       "\n",
       "    .dataframe tbody tr th {\n",
       "        vertical-align: top;\n",
       "    }\n",
       "\n",
       "    .dataframe thead th {\n",
       "        text-align: right;\n",
       "    }\n",
       "</style>\n",
       "<table border=\"1\" class=\"dataframe\">\n",
       "  <thead>\n",
       "    <tr style=\"text-align: right;\">\n",
       "      <th></th>\n",
       "      <th>growth increase %</th>\n",
       "      <th>but. prod. mmol/g*h</th>\n",
       "    </tr>\n",
       "  </thead>\n",
       "  <tbody>\n",
       "    <tr>\n",
       "      <th>glc__D</th>\n",
       "      <td>2.393139</td>\n",
       "      <td>4.625224</td>\n",
       "    </tr>\n",
       "    <tr>\n",
       "      <th>xyl__D</th>\n",
       "      <td>2.139643</td>\n",
       "      <td>4.135294</td>\n",
       "    </tr>\n",
       "    <tr>\n",
       "      <th>lac__L</th>\n",
       "      <td>1.586974</td>\n",
       "      <td>3.067148</td>\n",
       "    </tr>\n",
       "    <tr>\n",
       "      <th>etoh</th>\n",
       "      <td>1.413816</td>\n",
       "      <td>2.732484</td>\n",
       "    </tr>\n",
       "    <tr>\n",
       "      <th>glyc</th>\n",
       "      <td>1.914511</td>\n",
       "      <td>3.700179</td>\n",
       "    </tr>\n",
       "    <tr>\n",
       "      <th>glyald</th>\n",
       "      <td>1.914511</td>\n",
       "      <td>3.700179</td>\n",
       "    </tr>\n",
       "    <tr>\n",
       "      <th>gcald</th>\n",
       "      <td>1.704447</td>\n",
       "      <td>3.294188</td>\n",
       "    </tr>\n",
       "  </tbody>\n",
       "</table>\n",
       "</div>"
      ],
      "text/plain": [
       "        growth increase %  but. prod. mmol/g*h\n",
       "glc__D           2.393139             4.625224\n",
       "xyl__D           2.139643             4.135294\n",
       "lac__L           1.586974             3.067148\n",
       "etoh             1.413816             2.732484\n",
       "glyc             1.914511             3.700179\n",
       "glyald           1.914511             3.700179\n",
       "gcald            1.704447             3.294188"
      ]
     },
     "execution_count": 390,
     "metadata": {},
     "output_type": "execute_result"
    }
   ],
   "source": [
    "pd.DataFrame(results_lb).T"
   ]
  },
  {
   "cell_type": "markdown",
   "id": "d183b0af-a426-4c0c-87ad-d65df6e566e4",
   "metadata": {
    "tags": []
   },
   "source": [
    "#### Model cannot grow on M9"
   ]
  },
  {
   "cell_type": "code",
   "execution_count": 391,
   "id": "ba77b905-8ae6-4f29-b7ad-303c1cfbf173",
   "metadata": {},
   "outputs": [
    {
     "name": "stdout",
     "output_type": "stream",
     "text": [
      "\n"
     ]
    }
   ],
   "source": [
    "M9_env = reframed.Environment.from_compounds(media_db[media_db.medium==\"M9[-O2]\"].compound.values)\n",
    "\n",
    "M9_env.apply(model,warning=False,inplace=True)\n",
    "\n",
    "reframed.pFBA(model).show_values(pattern=\"R_EX_\",sort=True,abstol=1e-2)"
   ]
  },
  {
   "cell_type": "markdown",
   "id": "b0d16d36-cdc7-4955-a99c-a395fb547dbf",
   "metadata": {},
   "source": [
    "#### Model grows on gapfill medium"
   ]
  },
  {
   "cell_type": "code",
   "execution_count": 392,
   "id": "e56358f6-1237-4fd0-8b87-db63a77b59ae",
   "metadata": {},
   "outputs": [],
   "source": [
    "gapfill_media = pd.read_csv(\"../output/gapfill_media/gapfill_media.tsv\",sep=\"\\t\")"
   ]
  },
  {
   "cell_type": "code",
   "execution_count": 393,
   "id": "8213ad83-9904-4d10-ac7d-7275aecc6c2d",
   "metadata": {},
   "outputs": [
    {
     "data": {
      "text/plain": [
       "0.7361855110924663"
      ]
     },
     "execution_count": 393,
     "metadata": {},
     "output_type": "execute_result"
    }
   ],
   "source": [
    "gapfill_env = reframed.Environment.from_compounds(gapfill_media[gapfill_media.medium==\"CD_X\"].compound.values)\n",
    "gapfill_env.apply(model,warning=False,inplace=True)\n",
    "reframed.pFBA(model).values[\"R_Growth\"]"
   ]
  },
  {
   "cell_type": "markdown",
   "id": "29f8e349-8145-4b8c-bf32-e80b32ed9011",
   "metadata": {},
   "source": [
    "#### Model grows on SynCon1 medium"
   ]
  },
  {
   "cell_type": "code",
   "execution_count": 394,
   "id": "a168ec67-140a-44ff-b7a5-c4f8aba88a75",
   "metadata": {},
   "outputs": [],
   "source": [
    "media_db_constrained = pd.read_csv(\"../output/steadiercom_sample_0.1.3/media_db_constrained.tsv\",sep=\"\\t\")\n",
    "\n",
    "constrained_medium_env = reframed.Environment.from_compounds(media_db_constrained[media_db_constrained.medium==\"SC2_X\"].compound.values)\n",
    "\n",
    "SC1_X = media_db_constrained[media_db_constrained.medium==\"SC1_X\"].copy()\n",
    "bound_dict = SC1_X[[\"compound\",\"bound\"]].set_index(\"compound\",drop=True)[\"bound\"].to_dict()\n",
    "\n",
    "for met, bound in bound_dict.items():\n",
    "    constrained_medium_env[\"R_EX_\"+met+\"_e\"]=(-bound,1000)"
   ]
  },
  {
   "cell_type": "code",
   "execution_count": 395,
   "id": "cd94d192-fe3f-41f2-bf42-f59ca27955c2",
   "metadata": {},
   "outputs": [
    {
     "data": {
      "text/plain": [
       "9.314899704799626e-05"
      ]
     },
     "execution_count": 395,
     "metadata": {},
     "output_type": "execute_result"
    }
   ],
   "source": [
    "constrained_medium_env.apply(model,warning=False,inplace=True)\n",
    "sol = reframed.pFBA(model)\n",
    "sol.values[\"R_Growth\"]"
   ]
  },
  {
   "cell_type": "markdown",
   "id": "2fe572c5-2d3b-45f5-9ce9-e705b75f797c",
   "metadata": {},
   "source": [
    "## Comparing different models and production potential"
   ]
  },
  {
   "cell_type": "code",
   "execution_count": 482,
   "id": "de86c7a3-5df6-458e-adf2-72e45a1ff3a2",
   "metadata": {},
   "outputs": [],
   "source": [
    "import seaborn as sns\n",
    "def plot_production(model,RNF=True):\n",
    "\n",
    "    constrained_medium_env.apply(model,warning=False,inplace=True)\n",
    "    sol = reframed.pFBA(model)\n",
    "    sol.values[\"R_Growth\"]\n",
    "\n",
    "    SC1_media_min_growth = sol.values[\"R_Growth\"]\n",
    "    SC1_media_but_prod = sol.values[\"R_EX_but_e\"]\n",
    "    SC1_media_hxa_prod = sol.values[\"R_EX_hxa_e\"]\n",
    "    SC1_media_R_BCD1= sol.values[\"R_BCD1\"]\n",
    "    SC1_media_R_ATPS4rpp = sol.values[\"R_ATPS4rpp\"]\n",
    "\n",
    "    default_prod = {\"SC1_media_min_growth\":SC1_media_min_growth,\n",
    "                    \"SC1_media_but_prod\":SC1_media_but_prod,\n",
    "                    \"SC1_media_hxa_prod\":SC1_media_hxa_prod,\n",
    "                    \"SC1_media_R_BCD1\":SC1_media_R_BCD1,\n",
    "                    \"SC1_media_R_ATPS4rpp\":SC1_media_R_ATPS4rpp}\n",
    "\n",
    "    if RNF:\n",
    "        SC1_media_R_RnfH2_2 = sol.values[\"R_RnfH2_2\"]\n",
    "        default_prod[\"SC1_media_R_RnfH2_2\"]=SC1_media_R_RnfH2_2\n",
    "\n",
    "    print(pd.Series(default_prod))\n",
    "\n",
    "    results_SC1 = {}\n",
    "\n",
    "    for met in carbon_sources:\n",
    "        results_SC1[met]={}\n",
    "\n",
    "        constrained_medium_env_cp = constrained_medium_env.copy()\n",
    "        constrained_medium_env_cp[\"R_EX_\"+met+\"_e\"]=(-10,0)\n",
    "        constrained_medium_env_cp.apply(model,warning=False,inplace=True)\n",
    "\n",
    "        sol = reframed.pFBA(model)\n",
    "        print(sol.values[\"R_EX_hxa_e\"])\n",
    "        sol_fva = reframed.FVA(model,obj_frac=1,reactions=[\"R_EX_ac_e\",\"R_EX_hxa_e\",\"R_EX_but_e\",\"R_EX_hxa_e\"])\n",
    "        sol_fva_0_9 = reframed.FVA(model,obj_frac=0.9,reactions=[\"R_EX_ac_e\",\"R_EX_hxa_e\",\"R_EX_but_e\",\"R_EX_hxa_e\"])\n",
    "\n",
    "        results_SC1[met][\"pFBA growth frac\"]=(sol.values[\"R_Growth\"]/SC1_media_min_growth) \n",
    "        results_SC1[met][\"BCD1 prod. (mmol/g*h)\"]=sol.values[\"R_BCD1\"]\n",
    "        if RNF:\n",
    "            results_SC1[met][\"RnfH2_2 prod. (mmol/g*h)\"]=sol.values[\"R_RnfH2_2\"]\n",
    "            \n",
    "        results_SC1[met][\"ATPS4rpp prod. (mmol/g*h)\"]=sol.values[\"R_ATPS4rpp\"]\n",
    "        results_SC1[met][\"pFBA but.prod. (mmol/g*h)\"]=sol.values[\"R_EX_but_e\"]\n",
    "        results_SC1[met][\"pFBA hxa. prod. (mmol/g*h)\"]=sol.values[\"R_EX_hxa_e\"]\n",
    "        results_SC1[met][\"FVA max hxa. prod. (mmol/g*h), obj_frac=1\"]=sol_fva[\"R_EX_hxa_e\"][1]\n",
    "        results_SC1[met][\"FVA max hxa. prod. (mmol/g*h), obj_frac=0.9\"]=sol_fva_0_9[\"R_EX_hxa_e\"][1]\n",
    "\n",
    "\n",
    "    results_SC1_df = pd.DataFrame(results_SC1).T\n",
    "\n",
    "    met2name = {met:model_uni.metabolites[\"M_\"+met+\"_e\"].name for met in carbon_sources}\n",
    "    results_SC1_df.index = results_SC1_df.index.map(lambda x:met2name[x])\n",
    "    results_SC1_df\n",
    "\n",
    "\n",
    "\n",
    "    ax = sns.heatmap(results_SC1_df, vmin=-3, vmax=3,\n",
    "                     cmap=\"PiYG\", xticklabels=True, yticklabels=True)"
   ]
  },
  {
   "cell_type": "code",
   "execution_count": 483,
   "id": "2b18355e-3891-406b-b446-15db7226301d",
   "metadata": {},
   "outputs": [
    {
     "name": "stdout",
     "output_type": "stream",
     "text": [
      "SC1_media_min_growth    0.000093\n",
      "SC1_media_but_prod      0.000000\n",
      "SC1_media_hxa_prod      0.000000\n",
      "SC1_media_R_BCD1        0.000000\n",
      "SC1_media_R_ATPS4rpp    0.000239\n",
      "dtype: float64\n",
      "0.0\n",
      "0.0\n",
      "0.0\n",
      "0.0\n",
      "0.0\n",
      "0.0\n",
      "0.0\n"
     ]
    },
    {
     "data": {
      "image/png": "[encoded data removed]",
      "text/plain": [
       "<Figure size 640x480 with 2 Axes>"
      ]
     },
     "metadata": {},
     "output_type": "display_data"
    }
   ],
   "source": [
    "plot_production(model,RNF=False)"
   ]
  },
  {
   "cell_type": "markdown",
   "id": "818b817c-c3d6-4fb9-87ca-1904134aa7eb",
   "metadata": {
    "tags": []
   },
   "source": [
    "### Testing model after adding Rnf and other manipulations"
   ]
  },
  {
   "cell_type": "code",
   "execution_count": 484,
   "id": "e519519a-f7b0-4236-bc41-0cd38bc7b107",
   "metadata": {},
   "outputs": [],
   "source": [
    "model_new = reframed.load_cbmodel(\"../output/GEMs/GEMs_final/CH14-bin.0.xml\")\n"
   ]
  },
  {
   "cell_type": "code",
   "execution_count": 485,
   "id": "61d83d7b-59ba-447c-bff4-87d0fb83d59a",
   "metadata": {},
   "outputs": [
    {
     "name": "stdout",
     "output_type": "stream",
     "text": [
      "SC1_media_min_growth    0.000107\n",
      "SC1_media_but_prod      0.001179\n",
      "SC1_media_hxa_prod      0.000000\n",
      "SC1_media_R_BCD1        0.001179\n",
      "SC1_media_R_ATPS4rpp    0.002442\n",
      "SC1_media_R_RnfH2_2     0.009768\n",
      "dtype: float64\n",
      "0.0\n",
      "0.0\n",
      "0.0\n",
      "0.0\n",
      "0.0\n",
      "0.0\n",
      "0.0\n"
     ]
    },
    {
     "data": {
      "image/png": "[encoded data removed]",
      "text/plain": [
       "<Figure size 640x480 with 2 Axes>"
      ]
     },
     "metadata": {},
     "output_type": "display_data"
    }
   ],
   "source": [
    "plot_production(model_new,RNF=True)"
   ]
  },
  {
   "cell_type": "markdown",
   "id": "11c01254-643b-44ac-849a-fb20c309c3f7",
   "metadata": {},
   "source": [
    "### Without Rnf"
   ]
  },
  {
   "cell_type": "code",
   "execution_count": 486,
   "id": "41cc9ace-ddc6-42b1-be69-b863b66d3dbb",
   "metadata": {},
   "outputs": [
    {
     "name": "stdout",
     "output_type": "stream",
     "text": [
      "SC1_media_min_growth    0.000093\n",
      "SC1_media_but_prod      0.000000\n",
      "SC1_media_hxa_prod      0.000000\n",
      "SC1_media_R_BCD1        0.000000\n",
      "SC1_media_R_ATPS4rpp    0.000239\n",
      "SC1_media_R_RnfH2_2     0.000000\n",
      "dtype: float64\n",
      "0.0\n",
      "0.0\n",
      "0.0\n",
      "0.0\n",
      "0.0\n",
      "0.0\n",
      "0.0\n"
     ]
    },
    {
     "data": {
      "image/png": "[encoded data removed]",
      "text/plain": [
       "<Figure size 640x480 with 2 Axes>"
      ]
     },
     "metadata": {},
     "output_type": "display_data"
    }
   ],
   "source": [
    "model_new.reactions.R_RnfH2_2.lb=0\n",
    "model_new.reactions.R_RnfH2_2.ub=0\n",
    "\n",
    "\n",
    "plot_production(model_new,RNF=True)"
   ]
  },
  {
   "cell_type": "markdown",
   "id": "7cb025cd-a6bf-4019-98a0-a6742b2c5d9a",
   "metadata": {},
   "source": [
    "**Manipulated model that should be able to consume ethanol, but it's not doing it**"
   ]
  },
  {
   "cell_type": "code",
   "execution_count": 512,
   "id": "ee0f8f70-fc29-4fdc-819e-4729b627559f",
   "metadata": {},
   "outputs": [
    {
     "data": {
      "text/html": [
       "<div>\n",
       "<style scoped>\n",
       "    .dataframe tbody tr th:only-of-type {\n",
       "        vertical-align: middle;\n",
       "    }\n",
       "\n",
       "    .dataframe tbody tr th {\n",
       "        vertical-align: top;\n",
       "    }\n",
       "\n",
       "    .dataframe thead th {\n",
       "        text-align: right;\n",
       "    }\n",
       "</style>\n",
       "<table border=\"1\" class=\"dataframe\">\n",
       "  <thead>\n",
       "    <tr style=\"text-align: right;\">\n",
       "      <th></th>\n",
       "      <th>reaction</th>\n",
       "      <th>GPR</th>\n",
       "      <th>score</th>\n",
       "      <th>normalized_score</th>\n",
       "    </tr>\n",
       "  </thead>\n",
       "  <tbody>\n",
       "  </tbody>\n",
       "</table>\n",
       "</div>"
      ],
      "text/plain": [
       "Empty DataFrame\n",
       "Columns: [reaction, GPR, score, normalized_score]\n",
       "Index: []"
      ]
     },
     "execution_count": 512,
     "metadata": {},
     "output_type": "execute_result"
    }
   ],
   "source": [
    "reaction_scores = pd.read_csv(\"../output/Caproicproducens_CH14_bin_0/model_results_detailed/CH14_bin_0_no_constraints_reaction_scores.tsv\",sep=\"\\t\")\n",
    "\n",
    "reaction_scores[reaction_scores.reaction==\"R_ACALD\"]"
   ]
  },
  {
   "cell_type": "code",
   "execution_count": 513,
   "id": "bd4091dc-a2b8-4962-a8d1-c30f05dfaa0b",
   "metadata": {},
   "outputs": [
    {
     "data": {
      "text/html": [
       "<div>\n",
       "<style scoped>\n",
       "    .dataframe tbody tr th:only-of-type {\n",
       "        vertical-align: middle;\n",
       "    }\n",
       "\n",
       "    .dataframe tbody tr th {\n",
       "        vertical-align: top;\n",
       "    }\n",
       "\n",
       "    .dataframe thead th {\n",
       "        text-align: right;\n",
       "    }\n",
       "</style>\n",
       "<table border=\"1\" class=\"dataframe\">\n",
       "  <thead>\n",
       "    <tr style=\"text-align: right;\">\n",
       "      <th></th>\n",
       "      <th>reaction</th>\n",
       "      <th>GPR</th>\n",
       "      <th>score</th>\n",
       "      <th>normalized_score</th>\n",
       "    </tr>\n",
       "  </thead>\n",
       "  <tbody>\n",
       "    <tr>\n",
       "      <th>420</th>\n",
       "      <td>R_ETOHtrpp</td>\n",
       "      <td>spontaneous</td>\n",
       "      <td>0.0</td>\n",
       "      <td>0.0</td>\n",
       "    </tr>\n",
       "  </tbody>\n",
       "</table>\n",
       "</div>"
      ],
      "text/plain": [
       "       reaction          GPR  score  normalized_score\n",
       "420  R_ETOHtrpp  spontaneous    0.0               0.0"
      ]
     },
     "execution_count": 513,
     "metadata": {},
     "output_type": "execute_result"
    }
   ],
   "source": [
    "reaction_scores[reaction_scores.reaction.str.contains(\"R_ETOH\")]"
   ]
  },
  {
   "cell_type": "code",
   "execution_count": 514,
   "id": "d35305f0-9aa0-4a46-a44b-0c0bae4ed4ea",
   "metadata": {},
   "outputs": [],
   "source": [
    "model_new = reframed.load_cbmodel(\"../output/GEMs/GEMs_final/CH14-bin.0.xml\")\n",
    "\n",
    "model_new_copy = model_new.copy()"
   ]
  },
  {
   "cell_type": "code",
   "execution_count": 515,
   "id": "e2458d60-33f4-4edb-8429-6e6be925573b",
   "metadata": {},
   "outputs": [],
   "source": [
    "model_new_copy.add_metabolite(copy.copy(model_uni.metabolites.M_etoh_e))\n",
    "model_new_copy.add_reaction(copy.copy(model_uni.reactions.R_ETOHt))\n",
    "model_new_copy.add_reaction(copy.copy(model_uni.reactions.R_EX_etoh_e))\n"
   ]
  },
  {
   "cell_type": "code",
   "execution_count": 516,
   "id": "e6c8afd6-0475-45cd-ad8a-8a1df9c0d954",
   "metadata": {},
   "outputs": [],
   "source": [
    "model_new_copy.add_reaction(copy.copy(model_uni.reactions.R_ACALD))\n"
   ]
  },
  {
   "cell_type": "code",
   "execution_count": 521,
   "id": "042c2e76-22aa-4386-b099-7e60f80a3fd3",
   "metadata": {},
   "outputs": [
    {
     "name": "stdout",
     "output_type": "stream",
     "text": [
      "0.0007538848227437075\n",
      "R_EX_etoh_e  -0.150237\n",
      "R_EX_so4_e   -0.0213168\n",
      "R_EX_cys__L_e -0.01\n",
      "R_EX_nh4_e    0.00156088\n",
      "R_EX_h2s_e    0.0311279\n",
      "R_EX_hxa_e    0.0340565\n",
      "R_EX_h_e      0.0358226\n",
      "R_EX_ac_e     0.0467146\n",
      "R_EX_h2_e     0.068113\n",
      "R_EX_h2o_e    0.0839861\n"
     ]
    }
   ],
   "source": [
    "constrained_medium_env_cp = constrained_medium_env.copy()\n",
    "constrained_medium_env_cp[\"R_EX_etoh_e\"]=(-10,0)\n",
    "\n",
    "\n",
    "constrained_medium_env_cp.apply(model_new_copy,warning=False,inplace=True)\n",
    "sol = reframed.pFBA(model_new_copy)\n",
    "print(sol.values[\"R_Growth\"])\n",
    "sol.show_values(pattern=\"R_EX_\",sort=True,abstol=1e-3)"
   ]
  },
  {
   "cell_type": "code",
   "execution_count": 527,
   "id": "a1f49059-c43c-4fdd-8189-842b20cb257a",
   "metadata": {},
   "outputs": [
    {
     "name": "stdout",
     "output_type": "stream",
     "text": [
      "M_hxcoa_c     0.0340565\n"
     ]
    }
   ],
   "source": [
    "sol.show_metabolite_turnover(model_new,\"M_hxcoa_c\")"
   ]
  },
  {
   "cell_type": "code",
   "execution_count": 531,
   "id": "883e0c23-0f2d-47df-8fbc-9e8fe1e7e3c9",
   "metadata": {},
   "outputs": [
    {
     "name": "stdout",
     "output_type": "stream",
     "text": [
      "[ --> o ] R_BCD3        0.068113 \tM_hx2coa_c + 2.0 M_nadh_c + 2.0 M_fdxo_2_2_c <-> M_hxcoa_c + 2.0 M_nad_c + 2.0 M_fdxrd_c\n",
      "[ --> o ] R_BCD1        0.068113 \tM_b2coa_c + 2.0 M_nadh_c + 2.0 M_fdxo_2_2_c <-> M_btcoa_c + 2.0 M_nad_c + 2.0 M_fdxrd_c\n",
      "[ <-- o ] R_FNRR3_1    -0.136226 \t2.0 M_fdxo_2_2_c + M_h2_c <-> 2.0 M_fdxrd_c + 2.0 M_h_c\n"
     ]
    }
   ],
   "source": [
    "sol.show_metabolite_balance(\"M_fdxrd_c\",model_new,equations=True)"
   ]
  },
  {
   "cell_type": "code",
   "execution_count": 520,
   "id": "72d9636b-ec47-418a-bb7f-60a26f052436",
   "metadata": {},
   "outputs": [
    {
     "name": "stdout",
     "output_type": "stream",
     "text": [
      "0.08057991722761601\n",
      "R_EX_lac__L_e -10\n",
      "R_EX_h_e     -4.35479\n",
      "R_EX_so4_e   -1.52316\n",
      "R_EX_nh4_e   -0.892025\n",
      "R_EX_pi_e    -0.0794593\n",
      "R_EX_k_e     -0.0157286\n",
      "R_EX_cys__L_e -0.01\n",
      "R_EX_but_e    0.914658\n",
      "R_EX_h2o_e    1.40318\n",
      "R_EX_h2s_e    1.51298\n",
      "R_EX_ac_e     6.96546\n",
      "R_EX_co2_e    9.0037\n",
      "R_EX_h2_e     9.85403\n"
     ]
    }
   ],
   "source": [
    "constrained_medium_env_cp = constrained_medium_env.copy()\n",
    "constrained_medium_env_cp[\"R_EX_lac__L_e\"]=(-10,0)\n",
    "\n",
    "\n",
    "constrained_medium_env_cp.apply(model_new_copy,warning=False,inplace=True)\n",
    "sol = reframed.pFBA(model_new_copy)\n",
    "print(sol.values[\"R_Growth\"])\n",
    "sol.show_values(pattern=\"R_EX_\",sort=True,abstol=1e-3)"
   ]
  },
  {
   "cell_type": "code",
   "execution_count": 518,
   "id": "b4068ad8-d3d6-4a1a-a035-5df0e87cf7e3",
   "metadata": {},
   "outputs": [
    {
     "name": "stdout",
     "output_type": "stream",
     "text": [
      "\u001b[92mThere are NO energy producing cycles in the model\u001b[0m\n"
     ]
    },
    {
     "data": {
      "text/plain": [
       "{}"
      ]
     },
     "execution_count": 518,
     "metadata": {},
     "output_type": "execute_result"
    }
   ],
   "source": [
    "EGC.EGC_identifier(model_new_copy,print_results=False)"
   ]
  },
  {
   "cell_type": "code",
   "execution_count": 519,
   "id": "10878a23-d2e2-4cff-b96f-9bd3022c54e3",
   "metadata": {},
   "outputs": [
    {
     "data": {
      "text/plain": [
       "{'R_EX_etoh_e': [-10.0, -0.12045410853135344],\n",
       " 'R_ETOHt': [0.12045410853135306, 10.0],\n",
       " 'R_ALCD2x': [0.12045410853135344, 10.0],\n",
       " 'R_ACALD': [0.12045410853135344, 9.999999999999927]}"
      ]
     },
     "execution_count": 519,
     "metadata": {},
     "output_type": "execute_result"
    }
   ],
   "source": [
    "reframed.FVA(model_new_copy,reactions=[\"R_EX_etoh_e\",\"R_ETOHt\",\"R_ALCD2x\",\"R_ACALD\"],obj_frac=1)"
   ]
  },
  {
   "cell_type": "code",
   "execution_count": 495,
   "id": "b91f4377-e4a2-47dd-b20d-441066521993",
   "metadata": {},
   "outputs": [
    {
     "name": "stdout",
     "output_type": "stream",
     "text": [
      "SC1_media_min_growth    0.000107\n",
      "SC1_media_but_prod      0.001179\n",
      "SC1_media_hxa_prod      0.000000\n",
      "SC1_media_R_BCD1        0.001179\n",
      "SC1_media_R_ATPS4rpp    0.002442\n",
      "SC1_media_R_RnfH2_2     0.009768\n",
      "dtype: float64\n",
      "0.0\n",
      "0.0\n",
      "0.0\n",
      "0.03405648609617796\n",
      "0.0\n",
      "0.0\n",
      "0.0\n"
     ]
    },
    {
     "data": {
      "image/png": "[encoded data removed]",
      "text/plain": [
       "<Figure size 640x480 with 2 Axes>"
      ]
     },
     "metadata": {},
     "output_type": "display_data"
    }
   ],
   "source": [
    "plot_production(model_new_copy,RNF=True)"
   ]
  },
  {
   "cell_type": "markdown",
   "id": "1ac76174-a529-4d1f-9a8d-d39a20b524f6",
   "metadata": {},
   "source": [
    "##### Save model"
   ]
  },
  {
   "cell_type": "code",
   "execution_count": 507,
   "id": "cf0ca0f1-dc9c-4c46-b3ad-a9502da98563",
   "metadata": {},
   "outputs": [],
   "source": [
    "model_new = reframed.load_cbmodel(\"../output/GEMs/GEMs_final/CH14-bin.0.xml\")"
   ]
  },
  {
   "cell_type": "code",
   "execution_count": 508,
   "id": "902b4501-70fc-4076-9bb4-6869e5d360df",
   "metadata": {},
   "outputs": [],
   "source": [
    "reframed.save_cbmodel(model_new,\"../output/GEMs_CD_X/CH14-bin.0.xml\")"
   ]
  },
  {
   "cell_type": "markdown",
   "id": "0a8ff21f-2a3d-4bcb-9896-a81dc666fd44",
   "metadata": {},
   "source": [
    "## CH14-bin.1 (Lacrimispora)"
   ]
  },
  {
   "cell_type": "code",
   "execution_count": 357,
   "id": "f7f45595-1165-40a6-a6aa-9d6527a0db65",
   "metadata": {},
   "outputs": [],
   "source": [
    "model_lac = reframed.load_cbmodel(\"../output/GEMs/GEMs_final/CH14-bin.1.xml\")"
   ]
  },
  {
   "cell_type": "code",
   "execution_count": 358,
   "id": "da13db20-f2f9-4f67-81f8-8a9a97e41726",
   "metadata": {},
   "outputs": [],
   "source": [
    "constrained_medium_env.apply(model_lac,warning=False,inplace=True)\n",
    "sol = reframed.pFBA(model_lac)\n",
    "\n",
    "SC1_media_min_growth = sol.values[\"R_Growth\"]\n",
    "SC1_media_but_prod = sol.values[\"R_EX_but_e\"]\n"
   ]
  },
  {
   "cell_type": "code",
   "execution_count": 359,
   "id": "ecda9f0b-2e7c-49a9-873c-56d47291d80d",
   "metadata": {},
   "outputs": [
    {
     "data": {
      "text/plain": [
       "0.026112947575043"
      ]
     },
     "execution_count": 359,
     "metadata": {},
     "output_type": "execute_result"
    }
   ],
   "source": [
    "SC1_media_min_growth"
   ]
  },
  {
   "cell_type": "code",
   "execution_count": 360,
   "id": "dc398998-61cf-4f15-9a53-508690c4a0fc",
   "metadata": {},
   "outputs": [
    {
     "data": {
      "text/plain": [
       "0.0"
      ]
     },
     "execution_count": 360,
     "metadata": {},
     "output_type": "execute_result"
    }
   ],
   "source": [
    "SC1_media_but_prod"
   ]
  },
  {
   "cell_type": "code",
   "execution_count": 361,
   "id": "3fdc7c9a-bd02-414c-8d4c-66c1360dbb06",
   "metadata": {},
   "outputs": [],
   "source": [
    "results_SC1 = {}\n",
    "\n",
    "for met in carbon_sources:\n",
    "    results_SC1[met]={}\n",
    "    \n",
    "    constrained_medium_env_cp = constrained_medium_env.copy()\n",
    "    constrained_medium_env_cp[\"R_EX_\"+met+\"_e\"]=(-10,0)\n",
    "    constrained_medium_env_cp.apply(model_lac,warning=False,inplace=True)\n",
    "\n",
    "    sol = reframed.pFBA(model_lac)\n",
    "    sol_fva = reframed.FVA(model_lac,obj_frac=1,reactions=[\"R_EX_ac_e\",\"R_EX_but_e\"])\n",
    "    sol_fva_0_9 = reframed.FVA(model_lac,obj_frac=0.9,reactions=[\"R_EX_ac_e\",\"R_EX_but_e\"])\n",
    "    \n",
    "    results_SC1[met][\"pFBA growth increase frac\"]=(sol.values[\"R_Growth\"]/SC1_media_min_growth)\n",
    "    results_SC1[met][\"pFBA but. prod. (mmol/g*h)\"]=sol.values[\"R_EX_but_e\"] if sol.values[\"R_EX_but_e\"]>1e-6 else 0\n",
    "    results_SC1[met][\"FVA max but. prod. (mmol/g*h), obj_frac=1\"]=sol_fva[\"R_EX_but_e\"][1]\n",
    "    results_SC1[met][\"FVA max but. prod. (mmol/g*h), obj_frac=0.9\"]=sol_fva_0_9[\"R_EX_but_e\"][1]\n",
    "    "
   ]
  },
  {
   "cell_type": "code",
   "execution_count": 362,
   "id": "c3aef8d6-465c-4e5d-9083-5c95c6d78810",
   "metadata": {},
   "outputs": [
    {
     "data": {
      "text/html": [
       "<div>\n",
       "<style scoped>\n",
       "    .dataframe tbody tr th:only-of-type {\n",
       "        vertical-align: middle;\n",
       "    }\n",
       "\n",
       "    .dataframe tbody tr th {\n",
       "        vertical-align: top;\n",
       "    }\n",
       "\n",
       "    .dataframe thead th {\n",
       "        text-align: right;\n",
       "    }\n",
       "</style>\n",
       "<table border=\"1\" class=\"dataframe\">\n",
       "  <thead>\n",
       "    <tr style=\"text-align: right;\">\n",
       "      <th></th>\n",
       "      <th>pFBA growth increase frac</th>\n",
       "      <th>pFBA but. prod. (mmol/g*h)</th>\n",
       "      <th>FVA max but. prod. (mmol/g*h), obj_frac=1</th>\n",
       "      <th>FVA max but. prod. (mmol/g*h), obj_frac=0.9</th>\n",
       "    </tr>\n",
       "  </thead>\n",
       "  <tbody>\n",
       "    <tr>\n",
       "      <th>glc__D</th>\n",
       "      <td>13.707722</td>\n",
       "      <td>0.0</td>\n",
       "      <td>-0.000000</td>\n",
       "      <td>0.958838</td>\n",
       "    </tr>\n",
       "    <tr>\n",
       "      <th>xyl__D</th>\n",
       "      <td>11.589769</td>\n",
       "      <td>0.0</td>\n",
       "      <td>-0.000000</td>\n",
       "      <td>0.810689</td>\n",
       "    </tr>\n",
       "    <tr>\n",
       "      <th>lac__L</th>\n",
       "      <td>1.000000</td>\n",
       "      <td>0.0</td>\n",
       "      <td>-0.000000</td>\n",
       "      <td>0.069915</td>\n",
       "    </tr>\n",
       "    <tr>\n",
       "      <th>etoh</th>\n",
       "      <td>3.752930</td>\n",
       "      <td>0.0</td>\n",
       "      <td>-0.000000</td>\n",
       "      <td>0.161333</td>\n",
       "    </tr>\n",
       "    <tr>\n",
       "      <th>glyc</th>\n",
       "      <td>7.353861</td>\n",
       "      <td>0.0</td>\n",
       "      <td>-0.000000</td>\n",
       "      <td>0.514393</td>\n",
       "    </tr>\n",
       "    <tr>\n",
       "      <th>glyald</th>\n",
       "      <td>7.353861</td>\n",
       "      <td>0.0</td>\n",
       "      <td>-0.000000</td>\n",
       "      <td>0.514393</td>\n",
       "    </tr>\n",
       "    <tr>\n",
       "      <th>gcald</th>\n",
       "      <td>0.000000</td>\n",
       "      <td>0.0</td>\n",
       "      <td>0.693932</td>\n",
       "      <td>0.693932</td>\n",
       "    </tr>\n",
       "  </tbody>\n",
       "</table>\n",
       "</div>"
      ],
      "text/plain": [
       "        pFBA growth increase frac  pFBA but. prod. (mmol/g*h)  \\\n",
       "glc__D                  13.707722                         0.0   \n",
       "xyl__D                  11.589769                         0.0   \n",
       "lac__L                   1.000000                         0.0   \n",
       "etoh                     3.752930                         0.0   \n",
       "glyc                     7.353861                         0.0   \n",
       "glyald                   7.353861                         0.0   \n",
       "gcald                    0.000000                         0.0   \n",
       "\n",
       "        FVA max but. prod. (mmol/g*h), obj_frac=1  \\\n",
       "glc__D                                  -0.000000   \n",
       "xyl__D                                  -0.000000   \n",
       "lac__L                                  -0.000000   \n",
       "etoh                                    -0.000000   \n",
       "glyc                                    -0.000000   \n",
       "glyald                                  -0.000000   \n",
       "gcald                                    0.693932   \n",
       "\n",
       "        FVA max but. prod. (mmol/g*h), obj_frac=0.9  \n",
       "glc__D                                     0.958838  \n",
       "xyl__D                                     0.810689  \n",
       "lac__L                                     0.069915  \n",
       "etoh                                       0.161333  \n",
       "glyc                                       0.514393  \n",
       "glyald                                     0.514393  \n",
       "gcald                                      0.693932  "
      ]
     },
     "execution_count": 362,
     "metadata": {},
     "output_type": "execute_result"
    }
   ],
   "source": [
    "pd.DataFrame(results_SC1).T"
   ]
  },
  {
   "cell_type": "code",
   "execution_count": 363,
   "id": "0efc3f7f-6577-489d-b98e-1211032747a1",
   "metadata": {},
   "outputs": [
    {
     "name": "stdout",
     "output_type": "stream",
     "text": [
      "0.026112947575043\n",
      "R_EX_h2o_e   -0.676629\n",
      "R_EX_nh4_e   -0.316847\n",
      "R_EX_xylan4_e -0.0923077\n",
      "R_EX_so4_e   -0.0486008\n",
      "R_EX_xylan8_e -0.0461538\n",
      "R_EX_pi_e    -0.0257498\n",
      "R_EX_cys__L_e -0.01\n",
      "R_EX_k_e     -0.00509706\n",
      "R_EX_mg2_e   -0.00022653\n",
      "R_EX_fe3_e   -0.00020389\n",
      "R_EX_fe2_e   -0.000175348\n",
      "R_EX_ca2_e   -0.000135918\n",
      "R_EX_cl_e    -0.000135918\n",
      "R_EX_nac_e   -5.94853e-05\n",
      "R_EX_cu2_e   -1.85141e-05\n",
      "R_EX_mn2_e   -1.8044e-05\n",
      "R_EX_pnto__R_e -1.50411e-05\n",
      "R_EX_zn2_e   -8.90452e-06\n",
      "R_EX_cobalt2_e -2.61129e-06\n",
      "R_EX_thm_e    0.00863221\n",
      "R_EX_4hba_e   0.00863803\n",
      "R_EX_gcald_e  0.0086555\n",
      "R_EX_h2s_e    0.043424\n",
      "R_EX_h_e      1.16369\n",
      "R_EX_ac_e     1.1637\n",
      "R_EX_co2_e    1.20761\n",
      "R_EX_h2_e     1.75254\n"
     ]
    }
   ],
   "source": [
    "constrained_medium_env.apply(model_lac,warning=False,inplace=True)\n",
    "sol = reframed.pFBA(model_lac)\n",
    "print(sol.values[\"R_Growth\"])\n",
    "sol.show_values(pattern=\"R_EX_\",sort=True)#abstol=1e-3)"
   ]
  },
  {
   "cell_type": "code",
   "execution_count": 364,
   "id": "7f7d859e-4690-4b96-8403-bf8c1b8cd308",
   "metadata": {},
   "outputs": [
    {
     "data": {
      "text/plain": [
       "{'R_EX_etoh_e': [0.0, -0.0]}"
      ]
     },
     "execution_count": 364,
     "metadata": {},
     "output_type": "execute_result"
    }
   ],
   "source": [
    "reframed.FVA(model=model_lac,reactions=[\"R_EX_etoh_e\"],obj_frac=1)"
   ]
  },
  {
   "cell_type": "code",
   "execution_count": 365,
   "id": "6138a4bb-69ce-421d-bd20-f4cabdbe64ea",
   "metadata": {},
   "outputs": [
    {
     "data": {
      "text/plain": [
       "{'R_EX_etoh_e': [0.0, 0.3146193496712376]}"
      ]
     },
     "execution_count": 365,
     "metadata": {},
     "output_type": "execute_result"
    }
   ],
   "source": [
    "reframed.FVA(model=model_lac,reactions=[\"R_EX_etoh_e\"],obj_frac=0.9)"
   ]
  },
  {
   "cell_type": "code",
   "execution_count": 366,
   "id": "0ceb1591-da99-4e7b-80b3-4622c7fe96c2",
   "metadata": {},
   "outputs": [
    {
     "data": {
      "text/plain": [
       "{'R_EX_glyald_e': [0.0, -0.0]}"
      ]
     },
     "execution_count": 366,
     "metadata": {},
     "output_type": "execute_result"
    }
   ],
   "source": [
    "reframed.FVA(model=model_lac,reactions=[\"R_EX_glyald_e\"],obj_frac=1)"
   ]
  },
  {
   "cell_type": "code",
   "execution_count": 367,
   "id": "fc591110-76b8-4150-a269-d2c4df87082c",
   "metadata": {},
   "outputs": [
    {
     "data": {
      "text/plain": [
       "{'R_EX_glyald_e': [0.0, 0.10487311655708181]}"
      ]
     },
     "execution_count": 367,
     "metadata": {},
     "output_type": "execute_result"
    }
   ],
   "source": [
    "reframed.FVA(model=model_lac,reactions=[\"R_EX_glyald_e\"],obj_frac=0.9)"
   ]
  },
  {
   "cell_type": "code",
   "execution_count": 368,
   "id": "9d49fcc3-bb0b-42f1-9c76-710c6793bd5e",
   "metadata": {},
   "outputs": [
    {
     "data": {
      "text/plain": [
       "{'R_EX_gua_e': [0.0, -0.0]}"
      ]
     },
     "execution_count": 368,
     "metadata": {},
     "output_type": "execute_result"
    }
   ],
   "source": [
    "reframed.FVA(model=model_lac,reactions=[\"R_EX_gua_e\"],obj_frac=1)"
   ]
  },
  {
   "cell_type": "code",
   "execution_count": 369,
   "id": "f6ed94c0-3491-4347-a5a2-8989ee27d7fb",
   "metadata": {},
   "outputs": [
    {
     "data": {
      "text/plain": [
       "{'R_EX_gua_e': [0.0, 0.016591278627310205]}"
      ]
     },
     "execution_count": 369,
     "metadata": {},
     "output_type": "execute_result"
    }
   ],
   "source": [
    "reframed.FVA(model=model_lac,reactions=[\"R_EX_gua_e\"],obj_frac=0.9)"
   ]
  },
  {
   "cell_type": "code",
   "execution_count": 370,
   "id": "e7adb458-fd21-4604-823f-a5a112faa357",
   "metadata": {},
   "outputs": [
    {
     "data": {
      "text/plain": [
       "{'R_BCD1': [-inf, 0.0699154110380552]}"
      ]
     },
     "execution_count": 370,
     "metadata": {},
     "output_type": "execute_result"
    }
   ],
   "source": [
    "reframed.FVA(model=model_lac,reactions=[\"R_BCD1\"],obj_frac=0.9)"
   ]
  },
  {
   "cell_type": "markdown",
   "id": "45dbe9f8-feaf-47a5-8047-ca971e06ddf2",
   "metadata": {},
   "source": [
    "## CH14-bin.2 (Robinsoniella) - Wood-Ljungdal pathway"
   ]
  },
  {
   "cell_type": "code",
   "execution_count": null,
   "id": "c7bc453b-6f80-486c-a727-2371d3bd1a43",
   "metadata": {},
   "outputs": [],
   "source": [
    "model_rob = reframed.load_cbmodel(\"../output/GEMs/GEMs_final/CH14-bin.2.xml\")"
   ]
  },
  {
   "cell_type": "code",
   "execution_count": null,
   "id": "ad6aed53-63c1-4eda-8cf4-bdf3302ee7dc",
   "metadata": {},
   "outputs": [],
   "source": [
    "constrained_medium_env[\"R_EX_ura_e\"]=(-1000,0)\n",
    "constrained_medium_env.apply(model_rob,warning=False,inplace=True)\n",
    "\n",
    "sol = reframed.pFBA(model_rob)\n",
    "\n",
    "SC1_media_min_growth = sol.values[\"R_Growth\"]\n",
    "SC1_media_but_prod = sol.values[\"R_EX_but_e\"]\n"
   ]
  },
  {
   "cell_type": "code",
   "execution_count": null,
   "id": "434ed7f8-1797-4dba-b5d7-e9e77b0efd3b",
   "metadata": {},
   "outputs": [
    {
     "data": {
      "text/plain": [
       "0.01256818491884212"
      ]
     },
     "execution_count": 244,
     "metadata": {},
     "output_type": "execute_result"
    }
   ],
   "source": [
    "SC1_media_min_growth"
   ]
  },
  {
   "cell_type": "code",
   "execution_count": null,
   "id": "f764893e-98f5-4480-b0df-9f22b0992a09",
   "metadata": {},
   "outputs": [
    {
     "data": {
      "text/plain": [
       "0.0"
      ]
     },
     "execution_count": 245,
     "metadata": {},
     "output_type": "execute_result"
    }
   ],
   "source": [
    "SC1_media_but_prod"
   ]
  },
  {
   "cell_type": "code",
   "execution_count": null,
   "id": "a2f6baae-eaa0-4e1c-9449-25a4bd7a4dbf",
   "metadata": {},
   "outputs": [],
   "source": [
    "results_SC1 = {}\n",
    "\n",
    "for met in carbon_sources:\n",
    "    results_SC1[met]={}\n",
    "    \n",
    "    constrained_medium_env_cp = constrained_medium_env.copy()\n",
    "    constrained_medium_env_cp[\"R_EX_\"+met+\"_e\"]=(-10,0)\n",
    "    constrained_medium_env_cp.apply(model_rob,warning=False,inplace=True)\n",
    "\n",
    "    sol = reframed.pFBA(model_rob)\n",
    "    sol_fva = reframed.FVA(model_rob,obj_frac=1,reactions=[\"R_EX_ac_e\",\"R_EX_but_e\",\"R_EX_hxa_e\"])\n",
    "    sol_fva_0_9 = reframed.FVA(model_rob,obj_frac=0.9,reactions=[\"R_EX_ac_e\",\"R_EX_but_e\",\"R_EX_hxa_e\"])\n",
    "    \n",
    "    results_SC1[met][\"pFBA growth increase %\"]=(sol.values[\"R_Growth\"]/SC1_media_min_growth -1)*100\n",
    "    results_SC1[met][\"pFBA but. prod. (mmol/g*h)\"]=sol.values[\"R_EX_but_e\"] if sol.values[\"R_EX_but_e\"]>1e-6 else 0\n",
    "    results_SC1[met][\"FVA max but. prod. (mmol/g*h), obj_frac=1\"]=sol_fva[\"R_EX_but_e\"][1]\n",
    "    results_SC1[met][\"FVA max but. prod. (mmol/g*h), obj_frac=0.9\"]=sol_fva_0_9[\"R_EX_but_e\"][1]\n",
    "    \n",
    "    results_SC1[met][\"pFBA growth increase %\"]=(sol.values[\"R_Growth\"]/SC1_media_min_growth -1)*100\n",
    "    results_SC1[met][\"pFBA hxa. prod. (mmol/g*h)\"]=sol.values[\"R_EX_hxa_e\"] if sol.values[\"R_EX_hxa_e\"]>1e-6 else 0\n",
    "    results_SC1[met][\"FVA max hxa. prod. (mmol/g*h), obj_frac=1\"]=sol_fva[\"R_EX_hxa_e\"][1]\n",
    "    results_SC1[met][\"FVA max hxa. prod. (mmol/g*h), obj_frac=0.9\"]=sol_fva_0_9[\"R_EX_hxa_e\"][1]\n",
    "    "
   ]
  },
  {
   "cell_type": "code",
   "execution_count": null,
   "id": "4344de5f-a32a-4015-8962-f57720a0b66c",
   "metadata": {},
   "outputs": [
    {
     "data": {
      "text/html": [
       "<div>\n",
       "<style scoped>\n",
       "    .dataframe tbody tr th:only-of-type {\n",
       "        vertical-align: middle;\n",
       "    }\n",
       "\n",
       "    .dataframe tbody tr th {\n",
       "        vertical-align: top;\n",
       "    }\n",
       "\n",
       "    .dataframe thead th {\n",
       "        text-align: right;\n",
       "    }\n",
       "</style>\n",
       "<table border=\"1\" class=\"dataframe\">\n",
       "  <thead>\n",
       "    <tr style=\"text-align: right;\">\n",
       "      <th></th>\n",
       "      <th>pFBA growth increase %</th>\n",
       "      <th>pFBA but. prod. (mmol/g*h)</th>\n",
       "      <th>FVA max but. prod. (mmol/g*h), obj_frac=1</th>\n",
       "      <th>FVA max but. prod. (mmol/g*h), obj_frac=0.9</th>\n",
       "      <th>pFBA hxa. prod. (mmol/g*h)</th>\n",
       "      <th>FVA max hxa. prod. (mmol/g*h), obj_frac=1</th>\n",
       "      <th>FVA max hxa. prod. (mmol/g*h), obj_frac=0.9</th>\n",
       "    </tr>\n",
       "  </thead>\n",
       "  <tbody>\n",
       "    <tr>\n",
       "      <th>glc__D</th>\n",
       "      <td>2586.892431</td>\n",
       "      <td>0.0</td>\n",
       "      <td>8.952838e-13</td>\n",
       "      <td>3.137782</td>\n",
       "      <td>0.0</td>\n",
       "      <td>-0.0</td>\n",
       "      <td>-0.0</td>\n",
       "    </tr>\n",
       "    <tr>\n",
       "      <th>xyl__D</th>\n",
       "      <td>2155.870726</td>\n",
       "      <td>0.0</td>\n",
       "      <td>-0.000000e+00</td>\n",
       "      <td>2.636379</td>\n",
       "      <td>0.0</td>\n",
       "      <td>-0.0</td>\n",
       "      <td>-0.0</td>\n",
       "    </tr>\n",
       "    <tr>\n",
       "      <th>lac__L</th>\n",
       "      <td>0.000000</td>\n",
       "      <td>0.0</td>\n",
       "      <td>-0.000000e+00</td>\n",
       "      <td>0.126030</td>\n",
       "      <td>0.0</td>\n",
       "      <td>-0.0</td>\n",
       "      <td>-0.0</td>\n",
       "    </tr>\n",
       "    <tr>\n",
       "      <th>etoh</th>\n",
       "      <td>0.000000</td>\n",
       "      <td>0.0</td>\n",
       "      <td>-0.000000e+00</td>\n",
       "      <td>0.126030</td>\n",
       "      <td>0.0</td>\n",
       "      <td>-0.0</td>\n",
       "      <td>-0.0</td>\n",
       "    </tr>\n",
       "    <tr>\n",
       "      <th>glyc</th>\n",
       "      <td>0.000000</td>\n",
       "      <td>0.0</td>\n",
       "      <td>-0.000000e+00</td>\n",
       "      <td>0.126030</td>\n",
       "      <td>0.0</td>\n",
       "      <td>-0.0</td>\n",
       "      <td>-0.0</td>\n",
       "    </tr>\n",
       "    <tr>\n",
       "      <th>glyald</th>\n",
       "      <td>0.000000</td>\n",
       "      <td>0.0</td>\n",
       "      <td>-0.000000e+00</td>\n",
       "      <td>0.126030</td>\n",
       "      <td>0.0</td>\n",
       "      <td>-0.0</td>\n",
       "      <td>-0.0</td>\n",
       "    </tr>\n",
       "    <tr>\n",
       "      <th>gcald</th>\n",
       "      <td>0.003959</td>\n",
       "      <td>0.0</td>\n",
       "      <td>-0.000000e+00</td>\n",
       "      <td>0.126031</td>\n",
       "      <td>0.0</td>\n",
       "      <td>-0.0</td>\n",
       "      <td>-0.0</td>\n",
       "    </tr>\n",
       "  </tbody>\n",
       "</table>\n",
       "</div>"
      ],
      "text/plain": [
       "        pFBA growth increase %  pFBA but. prod. (mmol/g*h)  \\\n",
       "glc__D             2586.892431                         0.0   \n",
       "xyl__D             2155.870726                         0.0   \n",
       "lac__L                0.000000                         0.0   \n",
       "etoh                  0.000000                         0.0   \n",
       "glyc                  0.000000                         0.0   \n",
       "glyald                0.000000                         0.0   \n",
       "gcald                 0.003959                         0.0   \n",
       "\n",
       "        FVA max but. prod. (mmol/g*h), obj_frac=1  \\\n",
       "glc__D                               8.952838e-13   \n",
       "xyl__D                              -0.000000e+00   \n",
       "lac__L                              -0.000000e+00   \n",
       "etoh                                -0.000000e+00   \n",
       "glyc                                -0.000000e+00   \n",
       "glyald                              -0.000000e+00   \n",
       "gcald                               -0.000000e+00   \n",
       "\n",
       "        FVA max but. prod. (mmol/g*h), obj_frac=0.9  \\\n",
       "glc__D                                     3.137782   \n",
       "xyl__D                                     2.636379   \n",
       "lac__L                                     0.126030   \n",
       "etoh                                       0.126030   \n",
       "glyc                                       0.126030   \n",
       "glyald                                     0.126030   \n",
       "gcald                                      0.126031   \n",
       "\n",
       "        pFBA hxa. prod. (mmol/g*h)  FVA max hxa. prod. (mmol/g*h), obj_frac=1  \\\n",
       "glc__D                         0.0                                       -0.0   \n",
       "xyl__D                         0.0                                       -0.0   \n",
       "lac__L                         0.0                                       -0.0   \n",
       "etoh                           0.0                                       -0.0   \n",
       "glyc                           0.0                                       -0.0   \n",
       "glyald                         0.0                                       -0.0   \n",
       "gcald                          0.0                                       -0.0   \n",
       "\n",
       "        FVA max hxa. prod. (mmol/g*h), obj_frac=0.9  \n",
       "glc__D                                         -0.0  \n",
       "xyl__D                                         -0.0  \n",
       "lac__L                                         -0.0  \n",
       "etoh                                           -0.0  \n",
       "glyc                                           -0.0  \n",
       "glyald                                         -0.0  \n",
       "gcald                                          -0.0  "
      ]
     },
     "execution_count": 247,
     "metadata": {},
     "output_type": "execute_result"
    }
   ],
   "source": [
    "pd.DataFrame(results_SC1).T"
   ]
  },
  {
   "cell_type": "markdown",
   "id": "a4abe2a6-f01f-438d-92f3-0eab87a0c0c1",
   "metadata": {},
   "source": [
    "#### Found in Maria's analysis"
   ]
  },
  {
   "cell_type": "markdown",
   "id": "bb58e7f3-79bd-4d6f-b766-09fb77e39635",
   "metadata": {},
   "source": [
    "**(Not in BIGG!) acetyl-CoA decarbonylase/synthase complex [EC:2.3.1.-] [RN:R10243]**"
   ]
  },
  {
   "cell_type": "code",
   "execution_count": 248,
   "id": "d675b1d0-3df0-4d2c-b147-c8f8f86b5532",
   "metadata": {},
   "outputs": [
    {
     "data": {
      "text/plain": [
       "5,6,7,8-Tetrahydrofolate"
      ]
     },
     "execution_count": 248,
     "metadata": {},
     "output_type": "execute_result"
    }
   ],
   "source": [
    "model_rob.metabolites.M_thf_c"
   ]
  },
  {
   "cell_type": "markdown",
   "id": "93cc57ce-27b7-478c-85a0-955494e65df4",
   "metadata": {},
   "source": [
    "**carbon-monoxide dehydrogenase [EC:1.2.7.4] [RN:R07157] (https://www.metanetx.org/equa_info/MNXR149765)**"
   ]
  },
  {
   "cell_type": "code",
   "execution_count": 249,
   "id": "4b99e82b-330d-4a25-88ea-f679d1c69408",
   "metadata": {},
   "outputs": [
    {
     "data": {
      "text/plain": [
       "R_COCO2_1: M_co_c + M_h2o_c + 2.0 M_fdxo_2_2_c <-> M_co2_c + 2.0 M_fdxrd_c + 2.0 M_h_c"
      ]
     },
     "execution_count": 249,
     "metadata": {},
     "output_type": "execute_result"
    }
   ],
   "source": [
    "model_rob.reactions.R_COCO2_1"
   ]
  },
  {
   "cell_type": "markdown",
   "id": "ece614f8-794c-4f1b-9f05-e8ceb0fb7c86",
   "metadata": {},
   "source": [
    "**methylenetetrahydrofolate reductase (NADPH) [EC:1.5.1.20] [RN:R07168]**"
   ]
  },
  {
   "cell_type": "code",
   "execution_count": 250,
   "id": "17377dcc-d126-45bf-b9e9-fe96bcd69120",
   "metadata": {},
   "outputs": [
    {
     "data": {
      "text/plain": [
       "R_MTHFR2: 2.0 M_h_c + M_mlthf_c + M_nadh_c --> M_5mthf_c + M_nad_c"
      ]
     },
     "execution_count": 250,
     "metadata": {},
     "output_type": "execute_result"
    }
   ],
   "source": [
    "model_rob.reactions.R_MTHFR2"
   ]
  },
  {
   "cell_type": "markdown",
   "id": "55ba68d1-2e27-44c6-b97b-1585b27f37dd",
   "metadata": {},
   "source": [
    "**(Not found in bigg!) acetyl-CoA synthase [EC:2.3.1.169] [RN:R08433]**"
   ]
  },
  {
   "cell_type": "markdown",
   "id": "45bbd6fa-b4a9-4224-9382-d66058251024",
   "metadata": {},
   "source": [
    "**(not found in bigg!) 5-methyltetrahydrofolate corrinoid/iron sulfur protein methyltransferase [EC:2.1.1.258] [RN:R02289]**"
   ]
  },
  {
   "cell_type": "markdown",
   "id": "cfae16b7-87fe-42f1-b950-b2a06f2d09c7",
   "metadata": {},
   "source": [
    "#### Not found in Maria's analysis"
   ]
  },
  {
   "cell_type": "markdown",
   "id": "509986d9-2e24-4422-b856-14bc256f145c",
   "metadata": {},
   "source": [
    "**methylenetetrahydrofolate dehydrogenase (NADP+) / methenyltetrahydrofolate cyclohydrolase [EC:1.5.1.5 3.5.4.9] [RN:R01655 R01220]**"
   ]
  },
  {
   "cell_type": "code",
   "execution_count": 251,
   "id": "9bb24c61-d6ee-443b-b61d-6a0cd17237a5",
   "metadata": {},
   "outputs": [
    {
     "data": {
      "text/plain": [
       "R_MTHFD: M_mlthf_c + M_nadp_c <-> M_methf_c + M_nadph_c"
      ]
     },
     "execution_count": 251,
     "metadata": {},
     "output_type": "execute_result"
    }
   ],
   "source": [
    "model_rob.reactions.R_MTHFD"
   ]
  },
  {
   "cell_type": "code",
   "execution_count": 252,
   "id": "421e038b-1313-4459-8438-c0acd6fe1d96",
   "metadata": {},
   "outputs": [
    {
     "data": {
      "text/plain": [
       "G_gene4537"
      ]
     },
     "execution_count": 252,
     "metadata": {},
     "output_type": "execute_result"
    }
   ],
   "source": [
    "model_rob.reactions.R_MTHFD.gpr"
   ]
  },
  {
   "cell_type": "markdown",
   "id": "0bc91b68-c196-43ff-a5ab-8ab027602d79",
   "metadata": {},
   "source": [
    "**formate--tetrahydrofolate ligase [EC:6.3.4.3] [RN:R00943]**"
   ]
  },
  {
   "cell_type": "code",
   "execution_count": 253,
   "id": "c3348267-48a2-4d3f-a5d0-c1c6ec2fd342",
   "metadata": {},
   "outputs": [
    {
     "data": {
      "text/plain": [
       "False"
      ]
     },
     "execution_count": 253,
     "metadata": {},
     "output_type": "execute_result"
    }
   ],
   "source": [
    "\"R_FTHFLi\" in model_rob.reactions"
   ]
  },
  {
   "cell_type": "markdown",
   "id": "420abaf4-6a54-40e7-b5bd-212cbe7206ec",
   "metadata": {},
   "source": [
    "**formate dehydrogenase [EC:1.17.1.10] [RN:R00134]  (Bigg eq: http://bigg.ucsd.edu/universal/reactions/FDH and http://bigg.ucsd.edu/universal/reactions/FDH6r)**"
   ]
  },
  {
   "cell_type": "code",
   "execution_count": 254,
   "id": "3f9bb144-561c-41a0-b7c0-ec25882aabc8",
   "metadata": {},
   "outputs": [
    {
     "data": {
      "text/plain": [
       "False"
      ]
     },
     "execution_count": 254,
     "metadata": {},
     "output_type": "execute_result"
    }
   ],
   "source": [
    "\"R_FDH\" in model_rob.reactions"
   ]
  },
  {
   "cell_type": "code",
   "execution_count": 255,
   "id": "321f5baa-4197-4848-b6df-0161a35fa198",
   "metadata": {},
   "outputs": [
    {
     "data": {
      "text/plain": [
       "False"
      ]
     },
     "execution_count": 255,
     "metadata": {},
     "output_type": "execute_result"
    }
   ],
   "source": [
    "\"R_FDH6r\" in model_rob.reactions"
   ]
  },
  {
   "cell_type": "code",
   "execution_count": 256,
   "id": "53ed9609-13c9-4ebe-a0e5-2db15e113fd2",
   "metadata": {},
   "outputs": [
    {
     "data": {
      "text/plain": [
       "['R_COCO2_1']"
      ]
     },
     "execution_count": 256,
     "metadata": {},
     "output_type": "execute_result"
    }
   ],
   "source": [
    "model_rob.get_metabolite_consumers(\"M_co_c\")"
   ]
  },
  {
   "cell_type": "code",
   "execution_count": 257,
   "id": "c77faa02-cd9b-453c-b77d-5988b8ffbf35",
   "metadata": {},
   "outputs": [
    {
     "data": {
      "text/plain": [
       "['R_Cotpp']"
      ]
     },
     "execution_count": 257,
     "metadata": {},
     "output_type": "execute_result"
    }
   ],
   "source": [
    "model_rob.get_metabolite_producers(\"M_co_c\")"
   ]
  },
  {
   "cell_type": "markdown",
   "id": "bdcc11ae-318e-4520-8185-b13e1787b7a7",
   "metadata": {
    "tags": []
   },
   "source": [
    "## CH14-bin.4 (Desulfovibrio) - "
   ]
  },
  {
   "cell_type": "code",
   "execution_count": 288,
   "id": "f944756e-67cd-4c63-aa1e-500b73bdc1b1",
   "metadata": {},
   "outputs": [],
   "source": [
    "model_de = reframed.load_cbmodel(\"../output/GEMs/GEMs_final/CH14-bin.4.xml\")"
   ]
  },
  {
   "cell_type": "code",
   "execution_count": 289,
   "id": "d8152b72-6dca-4e98-bba0-2d06b5ad43a7",
   "metadata": {},
   "outputs": [
    {
     "data": {
      "text/plain": [
       "['R_ARApts', 'R_XYLabc', 'R_XYLt', 'R_EX_xyl__D_e']"
      ]
     },
     "execution_count": 289,
     "metadata": {},
     "output_type": "execute_result"
    }
   ],
   "source": [
    "model_de.get_metabolite_reactions(\"M_xyl__D_e\")"
   ]
  },
  {
   "cell_type": "code",
   "execution_count": 290,
   "id": "c5eb56f5-fa36-48da-a1ba-81df49b8795b",
   "metadata": {},
   "outputs": [
    {
     "data": {
      "text/plain": [
       "R_XYLabc: M_atp_c + M_h2o_c + M_xyl__D_e --> M_adp_c + M_h_c + M_pi_c + M_xyl__D_c"
      ]
     },
     "execution_count": 290,
     "metadata": {},
     "output_type": "execute_result"
    }
   ],
   "source": [
    "model_de.reactions.R_XYLabc"
   ]
  },
  {
   "cell_type": "code",
   "execution_count": 291,
   "id": "164e56b8-18bf-400a-a1e6-83ab4d5da78e",
   "metadata": {},
   "outputs": [
    {
     "data": {
      "text/plain": [
       "G_gene1712"
      ]
     },
     "execution_count": 291,
     "metadata": {},
     "output_type": "execute_result"
    }
   ],
   "source": [
    "model_de.reactions.R_XYLabc.gpr"
   ]
  },
  {
   "cell_type": "code",
   "execution_count": 292,
   "id": "c32080bc-f4e5-4259-a6d6-e99c6712729a",
   "metadata": {},
   "outputs": [
    {
     "data": {
      "text/plain": [
       "R_XYLt: M_xyl__D_e <-> M_xyl__D_c"
      ]
     },
     "execution_count": 292,
     "metadata": {},
     "output_type": "execute_result"
    }
   ],
   "source": [
    "model_de.reactions.R_XYLt"
   ]
  },
  {
   "cell_type": "code",
   "execution_count": 293,
   "id": "f149cc63-1b0d-473d-a097-8a57e68215d7",
   "metadata": {},
   "outputs": [],
   "source": [
    "model_de.reactions.R_XYLt.gpr"
   ]
  },
  {
   "cell_type": "code",
   "execution_count": 294,
   "id": "c844b4aa-8ab3-43b5-a059-518ba3c142aa",
   "metadata": {},
   "outputs": [
    {
     "data": {
      "text/plain": [
       "['R_XYLabc', 'R_XYLt']"
      ]
     },
     "execution_count": 294,
     "metadata": {},
     "output_type": "execute_result"
    }
   ],
   "source": [
    "model_de.get_metabolite_reactions(\"M_xyl__D_c\")"
   ]
  },
  {
   "cell_type": "code",
   "execution_count": 295,
   "id": "aba3902b-6634-4b9c-b69a-77c1f51b0065",
   "metadata": {},
   "outputs": [
    {
     "data": {
      "text/plain": [
       "R_ARApts: M_pep_c + M_xyl__D_e --> M_pyr_c + M_xu5p__D_c"
      ]
     },
     "execution_count": 295,
     "metadata": {},
     "output_type": "execute_result"
    }
   ],
   "source": [
    "model_de.reactions.R_ARApts"
   ]
  },
  {
   "cell_type": "code",
   "execution_count": 275,
   "id": "104afbe9-fc79-42f5-88dc-af1670c80223",
   "metadata": {},
   "outputs": [],
   "source": [
    "model_de.reactions.R_ARApts.gpr"
   ]
  },
  {
   "cell_type": "code",
   "execution_count": 296,
   "id": "ac02b651-406c-4776-8673-ad00536d3d25",
   "metadata": {},
   "outputs": [],
   "source": [
    "model_de = reframed.load_cbmodel(\"../output/GEMs/GEMs_final_desulfo/CH14-bin.4.xml\")"
   ]
  },
  {
   "cell_type": "code",
   "execution_count": 297,
   "id": "d6d47d7d-d8af-4b47-a828-7a0d4e55d3a9",
   "metadata": {},
   "outputs": [],
   "source": [
    "reframed.save_cbmodel(model_de,\"../output/GEMs_CD_X/CH14-bin.4.xml\")"
   ]
  },
  {
   "cell_type": "code",
   "execution_count": null,
   "id": "57b26268-2463-45ac-961b-dc7225ea1c14",
   "metadata": {},
   "outputs": [],
   "source": []
  },
  {
   "cell_type": "code",
   "execution_count": 281,
   "id": "d0c7aae5-b8ed-430f-9465-4b5d4a03063e",
   "metadata": {},
   "outputs": [
    {
     "data": {
      "text/html": [
       "<div>\n",
       "<style scoped>\n",
       "    .dataframe tbody tr th:only-of-type {\n",
       "        vertical-align: middle;\n",
       "    }\n",
       "\n",
       "    .dataframe tbody tr th {\n",
       "        vertical-align: top;\n",
       "    }\n",
       "\n",
       "    .dataframe thead th {\n",
       "        text-align: right;\n",
       "    }\n",
       "</style>\n",
       "<table border=\"1\" class=\"dataframe\">\n",
       "  <thead>\n",
       "    <tr style=\"text-align: right;\">\n",
       "      <th></th>\n",
       "      <th>0</th>\n",
       "      <th>1</th>\n",
       "      <th>2</th>\n",
       "    </tr>\n",
       "  </thead>\n",
       "  <tbody>\n",
       "    <tr>\n",
       "      <th>0</th>\n",
       "      <td>CD_X</td>\n",
       "      <td>CH14-bin.1</td>\n",
       "      <td>0.547073</td>\n",
       "    </tr>\n",
       "    <tr>\n",
       "      <th>1</th>\n",
       "      <td>CD_X</td>\n",
       "      <td>CH14-bin.2</td>\n",
       "      <td>0.188311</td>\n",
       "    </tr>\n",
       "    <tr>\n",
       "      <th>2</th>\n",
       "      <td>CD_X</td>\n",
       "      <td>CH14-bin.4</td>\n",
       "      <td>0.027418</td>\n",
       "    </tr>\n",
       "    <tr>\n",
       "      <th>3</th>\n",
       "      <td>CD_X</td>\n",
       "      <td>CH14-bin.0</td>\n",
       "      <td>0.156175</td>\n",
       "    </tr>\n",
       "    <tr>\n",
       "      <th>4</th>\n",
       "      <td>CM_X</td>\n",
       "      <td>CH9-bin.0</td>\n",
       "      <td>0.704519</td>\n",
       "    </tr>\n",
       "    <tr>\n",
       "      <th>5</th>\n",
       "      <td>CM_X</td>\n",
       "      <td>CH9-bin.6</td>\n",
       "      <td>0.096620</td>\n",
       "    </tr>\n",
       "    <tr>\n",
       "      <th>6</th>\n",
       "      <td>CM_X</td>\n",
       "      <td>CH9-bin.5</td>\n",
       "      <td>0.031183</td>\n",
       "    </tr>\n",
       "    <tr>\n",
       "      <th>7</th>\n",
       "      <td>CM_X</td>\n",
       "      <td>CH9-bin.1</td>\n",
       "      <td>0.022605</td>\n",
       "    </tr>\n",
       "    <tr>\n",
       "      <th>8</th>\n",
       "      <td>CM_X</td>\n",
       "      <td>CH9-bin.2</td>\n",
       "      <td>0.020385</td>\n",
       "    </tr>\n",
       "    <tr>\n",
       "      <th>9</th>\n",
       "      <td>CM_X</td>\n",
       "      <td>CH9-bin.4</td>\n",
       "      <td>0.019066</td>\n",
       "    </tr>\n",
       "    <tr>\n",
       "      <th>10</th>\n",
       "      <td>M_X</td>\n",
       "      <td>CH3-bin.2</td>\n",
       "      <td>0.741534</td>\n",
       "    </tr>\n",
       "    <tr>\n",
       "      <th>11</th>\n",
       "      <td>M_X</td>\n",
       "      <td>CH3-bin.1</td>\n",
       "      <td>0.214189</td>\n",
       "    </tr>\n",
       "    <tr>\n",
       "      <th>12</th>\n",
       "      <td>M_X</td>\n",
       "      <td>CH3-bin.0</td>\n",
       "      <td>0.015248</td>\n",
       "    </tr>\n",
       "  </tbody>\n",
       "</table>\n",
       "</div>"
      ],
      "text/plain": [
       "       0           1         2\n",
       "0   CD_X  CH14-bin.1  0.547073\n",
       "1   CD_X  CH14-bin.2  0.188311\n",
       "2   CD_X  CH14-bin.4  0.027418\n",
       "3   CD_X  CH14-bin.0  0.156175\n",
       "4   CM_X   CH9-bin.0  0.704519\n",
       "5   CM_X   CH9-bin.6  0.096620\n",
       "6   CM_X   CH9-bin.5  0.031183\n",
       "7   CM_X   CH9-bin.1  0.022605\n",
       "8   CM_X   CH9-bin.2  0.020385\n",
       "9   CM_X   CH9-bin.4  0.019066\n",
       "10   M_X   CH3-bin.2  0.741534\n",
       "11   M_X   CH3-bin.1  0.214189\n",
       "12   M_X   CH3-bin.0  0.015248"
      ]
     },
     "execution_count": 281,
     "metadata": {},
     "output_type": "execute_result"
    }
   ],
   "source": [
    "communities_99_SC1_X = pd.read_csv(\"../output/steadiercom_sample_0.1.3/communities_99_SC1_X.tsv\",sep=\"\\t\",header=None)\n",
    "communities_99_SC1_X"
   ]
  },
  {
   "cell_type": "code",
   "execution_count": 282,
   "id": "7028e33f-2d46-41ee-b62a-a0c20e1c1735",
   "metadata": {},
   "outputs": [
    {
     "data": {
      "text/html": [
       "<div>\n",
       "<style scoped>\n",
       "    .dataframe tbody tr th:only-of-type {\n",
       "        vertical-align: middle;\n",
       "    }\n",
       "\n",
       "    .dataframe tbody tr th {\n",
       "        vertical-align: top;\n",
       "    }\n",
       "\n",
       "    .dataframe thead th {\n",
       "        text-align: right;\n",
       "    }\n",
       "</style>\n",
       "<table border=\"1\" class=\"dataframe\">\n",
       "  <thead>\n",
       "    <tr style=\"text-align: right;\">\n",
       "      <th></th>\n",
       "      <th>0</th>\n",
       "      <th>1</th>\n",
       "      <th>2</th>\n",
       "    </tr>\n",
       "  </thead>\n",
       "  <tbody>\n",
       "    <tr>\n",
       "      <th>0</th>\n",
       "      <td>CD_X</td>\n",
       "      <td>CH14-bin.1</td>\n",
       "      <td>0.547073</td>\n",
       "    </tr>\n",
       "    <tr>\n",
       "      <th>1</th>\n",
       "      <td>CD_X</td>\n",
       "      <td>CH14-bin.2</td>\n",
       "      <td>0.188311</td>\n",
       "    </tr>\n",
       "    <tr>\n",
       "      <th>2</th>\n",
       "      <td>CD_X</td>\n",
       "      <td>CH14-bin.4</td>\n",
       "      <td>0.027418</td>\n",
       "    </tr>\n",
       "    <tr>\n",
       "      <th>3</th>\n",
       "      <td>CD_X</td>\n",
       "      <td>CH14-bin.0</td>\n",
       "      <td>0.156175</td>\n",
       "    </tr>\n",
       "  </tbody>\n",
       "</table>\n",
       "</div>"
      ],
      "text/plain": [
       "      0           1         2\n",
       "0  CD_X  CH14-bin.1  0.547073\n",
       "1  CD_X  CH14-bin.2  0.188311\n",
       "2  CD_X  CH14-bin.4  0.027418\n",
       "3  CD_X  CH14-bin.0  0.156175"
      ]
     },
     "execution_count": 282,
     "metadata": {},
     "output_type": "execute_result"
    }
   ],
   "source": [
    "communities_99_CD_X = communities_99_SC1_X[communities_99_SC1_X[0]==\"CD_X\"]\n",
    "communities_99_CD_X"
   ]
  },
  {
   "cell_type": "code",
   "execution_count": 298,
   "id": "9b42e4bb-4d23-4b55-882b-6b89449b6539",
   "metadata": {},
   "outputs": [],
   "source": [
    "communities_99_CD_X.to_csv(\"../output/GEMs_CD_X/communities_99_CD_X.tsv\",sep=\"\\t\",header=None,index=None)"
   ]
  },
  {
   "cell_type": "code",
   "execution_count": null,
   "id": "a5b27db9-657d-43dd-aa14-7a114c891921",
   "metadata": {},
   "outputs": [],
   "source": []
  }
 ],
 "metadata": {
  "kernelspec": {
   "display_name": "MAGs_RecAndAn2",
   "language": "python",
   "name": "mags_recandan2"
  },
  "language_info": {
   "codemirror_mode": {
    "name": "ipython",
    "version": 3
   },
   "file_extension": ".py",
   "mimetype": "text/x-python",
   "name": "python",
   "nbconvert_exporter": "python",
   "pygments_lexer": "ipython3",
   "version": "3.9.13"
  }
 },
 "nbformat": 4,
 "nbformat_minor": 5
}

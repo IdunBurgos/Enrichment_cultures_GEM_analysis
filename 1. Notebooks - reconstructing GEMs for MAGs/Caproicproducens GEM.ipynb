{
 "cells": [
  {
   "cell_type": "markdown",
   "id": "4b6e141b-42f0-440f-b747-ae13d732141c",
   "metadata": {},
   "source": [
    "## Caproicproducens"
   ]
  },
  {
   "cell_type": "code",
   "execution_count": 163,
   "id": "75f721a0-0954-4a48-8fca-1bb4bc37c296",
   "metadata": {},
   "outputs": [],
   "source": [
    "from Bio import Entrez, SeqIO\n",
    "import pandas as pd\n",
    "import os\n",
    "\n",
    "import reframed\n",
    "import pandas as pd\n",
    "import copy\n",
    "\n",
    "import sys \n",
    "sys.path.append(\"../functions/\")\n",
    "import EGC"
   ]
  },
  {
   "cell_type": "markdown",
   "id": "d3b73a1a-77be-41ca-9681-d2c9eb5a8cab",
   "metadata": {},
   "source": [
    "### Find ORFs and translate sequences -> fasta file"
   ]
  },
  {
   "cell_type": "code",
   "execution_count": 2,
   "id": "53d7888a-5e38-42d9-a16f-d6679f3c3c8a",
   "metadata": {},
   "outputs": [],
   "source": [
    "table = 11\n",
    "min_pro_len = 100\n",
    "\n",
    "# https://biopython.org/DIST/docs/tutorial/Tutorial.html#sec443\n",
    "\n",
    "def find_orfs_with_trans(seq, trans_table, min_protein_length):\n",
    "    answer = []\n",
    "    seq_len = len(seq)\n",
    "    for strand, nuc in [(+1, seq), (-1, seq.reverse_complement())]:\n",
    "        for frame in range(3):\n",
    "            trans = nuc[frame:].translate(trans_table)\n",
    "            trans_len = len(trans)\n",
    "            aa_start = 0\n",
    "            aa_end = 0\n",
    "            while aa_start < trans_len:\n",
    "                aa_end = trans.find(\"*\", aa_start)\n",
    "                if aa_end == -1:\n",
    "                    aa_end = trans_len\n",
    "                if aa_end - aa_start >= min_protein_length:\n",
    "                    if strand == 1:\n",
    "                        start = frame + aa_start * 3\n",
    "                        end = min(seq_len, frame + aa_end * 3 + 3)\n",
    "                    else:\n",
    "                        start = seq_len - frame - aa_end * 3 - 3\n",
    "                        end = seq_len - frame - aa_start * 3\n",
    "                    answer.append((start, end, strand, trans[aa_start:aa_end]))\n",
    "                aa_start = aa_end + 1\n",
    "    answer.sort()\n",
    "    return answer"
   ]
  },
  {
   "cell_type": "code",
   "execution_count": 3,
   "id": "4209f2e1-751f-4f1c-b2b0-6d921ae4fa10",
   "metadata": {},
   "outputs": [
    {
     "name": "stderr",
     "output_type": "stream",
     "text": [
      "/Users/idunmariaburgos/opt/anaconda3/envs/MAGs_RecAndAn2/lib/python3.9/site-packages/Bio/Seq.py:2880: BiopythonWarning: Partial codon, len(sequence) not a multiple of three. Explicitly trim the sequence or add trailing N before translation. This may become an error in future.\n",
      "  warnings.warn(\n"
     ]
    }
   ],
   "source": [
    "all_recs = []\n",
    "i = 1\n",
    "\n",
    "ofile = open(\"../output/Caproicproducens_CH14_bin_0/CH14-bin.0.faa\",\"w\")     \n",
    "for record in SeqIO.parse(\"../input/CH14-bin.0.fa\",\"fasta\"):\n",
    "    orf_list = find_orfs_with_trans(record.seq, table, min_pro_len)\n",
    "    \n",
    "    for start, end, strand, pro in orf_list:\n",
    "        ofile.write(\">\"+\"gene\"+str(i)+\"\\n\"+str(pro)+\"\\n\")\n",
    "        i +=1\n",
    "ofile.close()"
   ]
  },
  {
   "cell_type": "markdown",
   "id": "8c3bbb63-e7be-493e-a9a8-7bf7690427eb",
   "metadata": {},
   "source": [
    "### Acetate transport\n",
    "\n",
    "\n",
    "- 3.A.1.120.5 - abc\n",
    "- 1.A.14.2.2 - acetate uptake\n",
    "- 2.A.23.1.10 - uptake\n",
    "- 2.A.6.2.9 - abc\n",
    "- 2.A.96.1.11 - uptake\n",
    "\n",
    "\n",
    "- 2.A.1.13.1 - proton linked efflux/influx\n",
    "- 2.A.1.6.11 - Acetate/haloacid transporter (no mechanism)\n",
    "- 2.A.102.4.13 - acetate transporter\n",
    "- 2.A.21.7.3 - Pyruvate/acetate/propionate: H+ symporter\n",
    "- 2.A.96.1.4 - acetate permease"
   ]
  },
  {
   "cell_type": "code",
   "execution_count": 4,
   "id": "215d093a-6638-45e7-9f5d-f68cf8011443",
   "metadata": {},
   "outputs": [],
   "source": [
    "from io import TextIOWrapper\n",
    "from Bio import SeqIO \n",
    "from urllib.request import urlopen\n",
    "import re"
   ]
  },
  {
   "cell_type": "code",
   "execution_count": 5,
   "id": "d5aa341c-1761-4199-aa04-c43e72904a7e",
   "metadata": {},
   "outputs": [],
   "source": [
    "possible_transporters = pd.read_excel(\"/Users/idunmariaburgos/Documents/Work/Project/chain elongation/Clostridia BL3 and BL4/possible_transporters_tcdb.xlsx\",sheet_name=\"overview\")\n",
    "\n",
    "possible_transporters_regex = \"|\".join(possible_transporters[\"Acetate\"].values)"
   ]
  },
  {
   "cell_type": "markdown",
   "id": "62d78a8d-b05c-41aa-a80b-b492c11bcb3c",
   "metadata": {},
   "source": [
    "**Filter data from tcdb**"
   ]
  },
  {
   "cell_type": "code",
   "execution_count": 6,
   "id": "30267139-0b25-4846-9976-f1152db589fc",
   "metadata": {},
   "outputs": [],
   "source": [
    "handle = TextIOWrapper(urlopen(\"https://www.tcdb.org/public/tcdb\"))\n",
    "recs = list(SeqIO.parse(handle, 'fasta'))\n",
    "handle.close()"
   ]
  },
  {
   "cell_type": "code",
   "execution_count": 7,
   "id": "f38035b0-f618-4153-8ff3-6b5d112bee19",
   "metadata": {},
   "outputs": [],
   "source": [
    "ofile = open(\"../output/Caproicproducens_CH14_bin_0/transporters.faa\",\"w\")\n",
    "\n",
    "for rec in recs:\n",
    "    id_ = str(rec.id)\n",
    "    \n",
    "    if re.search(possible_transporters_regex, id_):\n",
    "        \n",
    "        \n",
    "        sequence = str(rec.seq)\n",
    "        \n",
    "        ofile.write(\">\"+id_+\"\\n\"+sequence+\"\\n\")\n",
    "ofile.close()        \n"
   ]
  },
  {
   "cell_type": "markdown",
   "id": "5a018be7-0c39-4ff2-83aa-825e821be775",
   "metadata": {
    "tags": []
   },
   "source": [
    "#### Check matches"
   ]
  },
  {
   "cell_type": "raw",
   "id": "0101e71f-05b5-4531-adc4-a1aa7f0f5e99",
   "metadata": {},
   "source": [
    "makeblastdb -in ./output/Caproicproducens_CH14_bin_0/CH14-bin.0.faa -dbtype prot\n",
    "blastp -query ./output/Caproicproducens_CH14_bin_0/transporters.faa -db ./output/Caproicproducens_CH14_bin_0/CH14-bin.0.faa -out ./output/Caproicproducens_CH14_bin_0/CH14-bin.0.tsv -outfmt 6"
   ]
  },
  {
   "cell_type": "markdown",
   "id": "333b132c-3173-4408-90f9-740c08ae2e56",
   "metadata": {},
   "source": [
    "**No good match** \n",
    "- Best matches (F:ATP binding): https://www.tcdb.org/search/result.php?acc=q2pgb8"
   ]
  },
  {
   "cell_type": "code",
   "execution_count": 8,
   "id": "a7e15324-9a5f-4836-b70c-ee0f8e1509fb",
   "metadata": {},
   "outputs": [],
   "source": [
    "transporters_CH14_bin_0 = pd.read_csv(\"../output/Caproicproducens_CH14_bin_0/CH14-bin.0_transporters.tsv\",\n",
    "            sep=\"\\t\",\n",
    "            header=None)\n",
    "\n",
    "transporters_CH14_bin_0.columns=[\"query acc.ver\", \"subject acc.ver\", \"% identity\", \"alignment length\", \"mismatches\", \"gap opens\", \"q. start\", \"q. end\", \"s. start\", \"s. end\", \"evalue\", \"bit score\"]\n",
    "transporters_CH14_bin_0 = transporters_CH14_bin_0[[\"query acc.ver\",\"subject acc.ver\",\"% identity\",\"evalue\",\"bit score\"]]"
   ]
  },
  {
   "cell_type": "code",
   "execution_count": 9,
   "id": "6e69b5f5-45d0-4a7b-a408-15e6394743eb",
   "metadata": {},
   "outputs": [
    {
     "data": {
      "text/html": [
       "<div>\n",
       "<style scoped>\n",
       "    .dataframe tbody tr th:only-of-type {\n",
       "        vertical-align: middle;\n",
       "    }\n",
       "\n",
       "    .dataframe tbody tr th {\n",
       "        vertical-align: top;\n",
       "    }\n",
       "\n",
       "    .dataframe thead th {\n",
       "        text-align: right;\n",
       "    }\n",
       "</style>\n",
       "<table border=\"1\" class=\"dataframe\">\n",
       "  <thead>\n",
       "    <tr style=\"text-align: right;\">\n",
       "      <th></th>\n",
       "      <th>query acc.ver</th>\n",
       "      <th>subject acc.ver</th>\n",
       "      <th>% identity</th>\n",
       "      <th>evalue</th>\n",
       "      <th>bit score</th>\n",
       "    </tr>\n",
       "  </thead>\n",
       "  <tbody>\n",
       "    <tr>\n",
       "      <th>66</th>\n",
       "      <td>gnl|TC-DB|Q2PGB8|3.A.1.120.5</td>\n",
       "      <td>gene9840</td>\n",
       "      <td>31.239</td>\n",
       "      <td>4.750000e-84</td>\n",
       "      <td>273.0</td>\n",
       "    </tr>\n",
       "    <tr>\n",
       "      <th>68</th>\n",
       "      <td>gnl|TC-DB|Q2PGB8|3.A.1.120.5</td>\n",
       "      <td>gene948</td>\n",
       "      <td>27.273</td>\n",
       "      <td>6.300000e-57</td>\n",
       "      <td>200.0</td>\n",
       "    </tr>\n",
       "    <tr>\n",
       "      <th>67</th>\n",
       "      <td>gnl|TC-DB|Q2PGB8|3.A.1.120.5</td>\n",
       "      <td>gene9840</td>\n",
       "      <td>35.398</td>\n",
       "      <td>7.070000e-33</td>\n",
       "      <td>131.0</td>\n",
       "    </tr>\n",
       "    <tr>\n",
       "      <th>69</th>\n",
       "      <td>gnl|TC-DB|Q2PGB8|3.A.1.120.5</td>\n",
       "      <td>gene948</td>\n",
       "      <td>34.555</td>\n",
       "      <td>2.580000e-23</td>\n",
       "      <td>102.0</td>\n",
       "    </tr>\n",
       "    <tr>\n",
       "      <th>70</th>\n",
       "      <td>gnl|TC-DB|Q2PGB8|3.A.1.120.5</td>\n",
       "      <td>gene2822</td>\n",
       "      <td>26.142</td>\n",
       "      <td>1.120000e-22</td>\n",
       "      <td>99.8</td>\n",
       "    </tr>\n",
       "    <tr>\n",
       "      <th>73</th>\n",
       "      <td>gnl|TC-DB|Q2PGB8|3.A.1.120.5</td>\n",
       "      <td>gene11089</td>\n",
       "      <td>23.387</td>\n",
       "      <td>1.230000e-21</td>\n",
       "      <td>96.3</td>\n",
       "    </tr>\n",
       "    <tr>\n",
       "      <th>78</th>\n",
       "      <td>gnl|TC-DB|Q2PGB8|3.A.1.120.5</td>\n",
       "      <td>gene12059</td>\n",
       "      <td>24.440</td>\n",
       "      <td>2.630000e-17</td>\n",
       "      <td>82.8</td>\n",
       "    </tr>\n",
       "    <tr>\n",
       "      <th>76</th>\n",
       "      <td>gnl|TC-DB|Q2PGB8|3.A.1.120.5</td>\n",
       "      <td>gene10468</td>\n",
       "      <td>30.244</td>\n",
       "      <td>8.670000e-18</td>\n",
       "      <td>82.4</td>\n",
       "    </tr>\n",
       "    <tr>\n",
       "      <th>81</th>\n",
       "      <td>gnl|TC-DB|Q2PGB8|3.A.1.120.5</td>\n",
       "      <td>gene45</td>\n",
       "      <td>23.664</td>\n",
       "      <td>1.350000e-16</td>\n",
       "      <td>80.9</td>\n",
       "    </tr>\n",
       "    <tr>\n",
       "      <th>82</th>\n",
       "      <td>gnl|TC-DB|Q2PGB8|3.A.1.120.5</td>\n",
       "      <td>gene4578</td>\n",
       "      <td>23.379</td>\n",
       "      <td>1.430000e-16</td>\n",
       "      <td>80.9</td>\n",
       "    </tr>\n",
       "  </tbody>\n",
       "</table>\n",
       "</div>"
      ],
      "text/plain": [
       "                   query acc.ver subject acc.ver  % identity        evalue  \\\n",
       "66  gnl|TC-DB|Q2PGB8|3.A.1.120.5        gene9840      31.239  4.750000e-84   \n",
       "68  gnl|TC-DB|Q2PGB8|3.A.1.120.5         gene948      27.273  6.300000e-57   \n",
       "67  gnl|TC-DB|Q2PGB8|3.A.1.120.5        gene9840      35.398  7.070000e-33   \n",
       "69  gnl|TC-DB|Q2PGB8|3.A.1.120.5         gene948      34.555  2.580000e-23   \n",
       "70  gnl|TC-DB|Q2PGB8|3.A.1.120.5        gene2822      26.142  1.120000e-22   \n",
       "73  gnl|TC-DB|Q2PGB8|3.A.1.120.5       gene11089      23.387  1.230000e-21   \n",
       "78  gnl|TC-DB|Q2PGB8|3.A.1.120.5       gene12059      24.440  2.630000e-17   \n",
       "76  gnl|TC-DB|Q2PGB8|3.A.1.120.5       gene10468      30.244  8.670000e-18   \n",
       "81  gnl|TC-DB|Q2PGB8|3.A.1.120.5          gene45      23.664  1.350000e-16   \n",
       "82  gnl|TC-DB|Q2PGB8|3.A.1.120.5        gene4578      23.379  1.430000e-16   \n",
       "\n",
       "    bit score  \n",
       "66      273.0  \n",
       "68      200.0  \n",
       "67      131.0  \n",
       "69      102.0  \n",
       "70       99.8  \n",
       "73       96.3  \n",
       "78       82.8  \n",
       "76       82.4  \n",
       "81       80.9  \n",
       "82       80.9  "
      ]
     },
     "execution_count": 9,
     "metadata": {},
     "output_type": "execute_result"
    }
   ],
   "source": [
    "transporters_CH14_bin_0.sort_values(\"bit score\",ascending=False).head(10)"
   ]
  },
  {
   "cell_type": "markdown",
   "id": "d9fb4820-a81e-4d91-9fc1-eadcac5a4b0e",
   "metadata": {
    "tags": []
   },
   "source": [
    "## Create model"
   ]
  },
  {
   "cell_type": "raw",
   "id": "5822691e-7674-4d82-b9a0-bc6177f16fb8",
   "metadata": {},
   "source": [
    "carve ./output/Caproicproducens_CH14_bin_0/CH14-bin.0.faa --fbc2 -o ./output/Caproicproducens_CH14_bin_0/CH14-bin.0_no_constraints.xml --verbose --gapfill 'LB[-O2]' --solver gurobi"
   ]
  },
  {
   "cell_type": "markdown",
   "id": "7a462177-f383-4ec2-8998-6ab3f36f6a1d",
   "metadata": {
    "tags": []
   },
   "source": [
    "carve ./output/Caproicproducens_CH14_bin_0/CH14-bin.0.faa --fbc2 -o ./output/Caproicproducens_CH14_bin_0/CH14-bin.0.xml --verbose --gapfill 'LB[-O2]' --solver gurobi --soft  ./output/Caproicproducens_CH14_bin_0/soft_constraints.tsv     "
   ]
  },
  {
   "cell_type": "raw",
   "id": "66dccdc9-c313-45c2-94ee-fad15207cf3d",
   "metadata": {},
   "source": [
    "carve ./output/Caproicproducens_CH14_bin_0/CH14-bin.0.faa --fbc2 -o ./output/Caproicproducens_CH14_bin_0/CH14-bin.0_etoh_constraint.xml --verbose --gapfill 'LB[-O2]' --solver gurobi --soft  ./output/Caproicproducens_CH14_bin_0/soft_constraints_etoh.tsv     "
   ]
  },
  {
   "cell_type": "markdown",
   "id": "ea157105-e79b-46b7-99e7-5a8100220bbe",
   "metadata": {},
   "source": [
    "### Constraints"
   ]
  },
  {
   "cell_type": "code",
   "execution_count": 115,
   "id": "5eb010ef-8b9c-42ae-90c8-2b1a1c109b85",
   "metadata": {
    "tags": []
   },
   "outputs": [],
   "source": [
    "soft_constraints = {\"R_EX_hxa_e\":1,\n",
    "\"R_EX_but_e\":1,\n",
    "\"R_EX_ac_e\":1,\n",
    "\"R_EX_h2_e\":1,\n",
    "\"R_EX_co2_e\":1}"
   ]
  },
  {
   "cell_type": "code",
   "execution_count": 116,
   "id": "f6791f8d-8be0-4ebe-94d2-6f75ca96df5d",
   "metadata": {},
   "outputs": [],
   "source": [
    "pd.Series(soft_constraints).to_csv(\"../output/Caproicproducens_CH14_bin_0/soft_constraints.tsv\",sep=\"\\t\",index_label=None,header=None)"
   ]
  },
  {
   "cell_type": "code",
   "execution_count": 148,
   "id": "afae5f36-a147-4b53-a7b5-0ece9599be4d",
   "metadata": {
    "tags": []
   },
   "outputs": [],
   "source": [
    "soft_constraints_etoh = {\"R_EX_hxa_e\":1,\n",
    "\"R_EX_but_e\":1,\n",
    "\"R_EX_ac_e\":1,\n",
    "\"R_EX_h2_e\":1,\n",
    "\"R_EX_etoh_e\":1,\n",
    "\"R_EX_co2_e\":1}"
   ]
  },
  {
   "cell_type": "code",
   "execution_count": 149,
   "id": "baf0726c-b982-4425-8c8b-9b6c8f82f81b",
   "metadata": {},
   "outputs": [],
   "source": [
    "pd.Series(soft_constraints_etoh).to_csv(\"../output/Caproicproducens_CH14_bin_0/soft_constraints_etoh.tsv\",sep=\"\\t\",index_label=None,header=None)"
   ]
  },
  {
   "cell_type": "markdown",
   "id": "28b10af1-683f-41ad-ba26-c08e5404e752",
   "metadata": {},
   "source": [
    "### Difference between models"
   ]
  },
  {
   "cell_type": "code",
   "execution_count": 160,
   "id": "2af4a6d8-a62d-4e3c-a1ba-59fd9f782a82",
   "metadata": {},
   "outputs": [],
   "source": [
    "model = reframed.load_cbmodel(\"../output/Caproicproducens_CH14_bin_0/CH14-bin.0.xml\")\n",
    "model_etoh_constr = reframed.load_cbmodel(\"../output/Caproicproducens_CH14_bin_0/CH14-bin.0_etoh_constraint.xml\")\n",
    "model_no_constr = reframed.load_cbmodel(\"../output/Caproicproducens_CH14_bin_0/CH14-bin.0_no_constraints.xml\")"
   ]
  },
  {
   "cell_type": "markdown",
   "id": "44aecab7-e4cc-4765-ba32-c4b0fea93e38",
   "metadata": {},
   "source": [
    "##### Symmetric difference"
   ]
  },
  {
   "cell_type": "code",
   "execution_count": 161,
   "id": "0bdbf60f-fa97-4f63-aa26-ee9de67305ba",
   "metadata": {},
   "outputs": [
    {
     "data": {
      "text/plain": [
       "50"
      ]
     },
     "execution_count": 161,
     "metadata": {},
     "output_type": "execute_result"
    }
   ],
   "source": [
    "len(set(model_no_constr.reactions)-set(model.reactions)) + len(set(model.reactions) - set(model_no_constr.reactions))\n"
   ]
  },
  {
   "cell_type": "code",
   "execution_count": 162,
   "id": "3b59b6ef-be27-4c2c-bfec-e4871db95cb2",
   "metadata": {},
   "outputs": [
    {
     "data": {
      "text/plain": [
       "283"
      ]
     },
     "execution_count": 162,
     "metadata": {},
     "output_type": "execute_result"
    }
   ],
   "source": [
    "len(set(model_etoh_constr.reactions)-set(model_no_constr.reactions)) + len(set(model_no_constr.reactions) - set(model_etoh_constr.reactions))\n"
   ]
  },
  {
   "cell_type": "markdown",
   "id": "fe62b303-ec82-4040-a2dd-da76f27608e6",
   "metadata": {},
   "source": [
    "## Fixing acetate transport"
   ]
  },
  {
   "cell_type": "code",
   "execution_count": 142,
   "id": "d9daafd6-42bd-4899-95f1-e58255063f54",
   "metadata": {},
   "outputs": [],
   "source": [
    "media_db = pd.read_csv(\"https://raw.githubusercontent.com/cdanielmachado/carveme/master/carveme/data/input/media_db.tsv\",sep=\"\\t\")"
   ]
  },
  {
   "cell_type": "code",
   "execution_count": 119,
   "id": "f9204f6c-08b7-4d00-8e4e-f9336b742e75",
   "metadata": {},
   "outputs": [
    {
     "data": {
      "text/plain": [
       "{'R_Growth': 1.0}"
      ]
     },
     "execution_count": 119,
     "metadata": {},
     "output_type": "execute_result"
    }
   ],
   "source": [
    "model.get_objective()"
   ]
  },
  {
   "cell_type": "markdown",
   "id": "ec767122-8265-4fbc-b7bb-4eb5834d4734",
   "metadata": {},
   "source": [
    "**Model has the wrong acetate transporter**"
   ]
  },
  {
   "cell_type": "code",
   "execution_count": 120,
   "id": "c115d08c-ef6c-4b71-abb7-f29acdfeda59",
   "metadata": {},
   "outputs": [
    {
     "data": {
      "text/plain": [
       "['R_EX_ac_e', 'R_Acabc']"
      ]
     },
     "execution_count": 120,
     "metadata": {},
     "output_type": "execute_result"
    }
   ],
   "source": [
    "model.get_metabolite_reactions(\"M_ac_e\")"
   ]
  },
  {
   "cell_type": "code",
   "execution_count": 121,
   "id": "c64bac54-e1d6-4428-b54a-ea24f1934ca4",
   "metadata": {},
   "outputs": [
    {
     "data": {
      "text/plain": [
       "R_ACKr: M_ac_c + M_atp_c <-> M_actp_c + M_adp_c"
      ]
     },
     "execution_count": 121,
     "metadata": {},
     "output_type": "execute_result"
    }
   ],
   "source": [
    "model.reactions.R_ACKr"
   ]
  },
  {
   "cell_type": "code",
   "execution_count": 122,
   "id": "826ad2b2-b973-4201-b3b0-ef1458e1cf8b",
   "metadata": {},
   "outputs": [
    {
     "data": {
      "text/plain": [
       "R_PTAr: M_accoa_c + M_pi_c <-> M_actp_c + M_coa_c"
      ]
     },
     "execution_count": 122,
     "metadata": {},
     "output_type": "execute_result"
    }
   ],
   "source": [
    "model.reactions.R_PTAr"
   ]
  },
  {
   "cell_type": "markdown",
   "id": "4d382924-655e-427e-b686-2f196ad0cac6",
   "metadata": {},
   "source": [
    "**Removing previous and adding new acetate transporter**"
   ]
  },
  {
   "cell_type": "code",
   "execution_count": 123,
   "id": "fb0ae84f-ff40-4646-ad67-f6dbc78c5a8c",
   "metadata": {},
   "outputs": [
    {
     "data": {
      "text/plain": [
       "R_ACt2r: M_ac_e + M_h_e --> M_ac_c + M_h_c"
      ]
     },
     "execution_count": 123,
     "metadata": {},
     "output_type": "execute_result"
    }
   ],
   "source": [
    "model_uni = reframed.load_cbmodel(\"../input/universe_bacteria.xml\")\n",
    "model_uni.reactions.R_ACt2r"
   ]
  },
  {
   "cell_type": "code",
   "execution_count": 124,
   "id": "67f85414-2f5d-433e-943e-310474c5cd80",
   "metadata": {},
   "outputs": [],
   "source": [
    "R_ACt2r = copy.copy(model_uni.reactions.R_ACt2r)\n",
    "\n",
    "model.remove_reaction(\"R_Acabc\")\n",
    "\n",
    "model.add_reaction(R_ACt2r)"
   ]
  },
  {
   "cell_type": "code",
   "execution_count": 125,
   "id": "052718cc-428f-48b4-9ab7-2c3958ce63fd",
   "metadata": {},
   "outputs": [
    {
     "data": {
      "text/plain": [
       "True"
      ]
     },
     "execution_count": 125,
     "metadata": {},
     "output_type": "execute_result"
    }
   ],
   "source": [
    "\n",
    "model.reactions.R_ACt2r.reversible=True\n",
    "model.reactions.R_ACt2r.lb=-1000\n",
    "model.update()\n",
    "\n",
    "model.reactions.R_ACt2r.reversible"
   ]
  },
  {
   "cell_type": "markdown",
   "id": "dd08349f-d9e1-4603-8933-774e3aaaa403",
   "metadata": {},
   "source": [
    "#### Save temporary model"
   ]
  },
  {
   "cell_type": "code",
   "execution_count": 126,
   "id": "c0ef56c0-6acf-4cf6-bc05-971273898fc5",
   "metadata": {},
   "outputs": [],
   "source": [
    "model.update()\n",
    "\n",
    "reframed.save_cbmodel(model=model,filename=\"../output/Caproicproducens_CH14_bin_0/CH14-bin.0_acetate.xml\")"
   ]
  },
  {
   "cell_type": "markdown",
   "id": "2addf266-1327-41d6-a9e4-35e583fef742",
   "metadata": {},
   "source": [
    "### RNF -  H+/Na+-translocating ferredoxin:NAD+ oxidoreductase"
   ]
  },
  {
   "cell_type": "code",
   "execution_count": 127,
   "id": "b71bef4b-6639-43bc-98bb-32dc82c76313",
   "metadata": {},
   "outputs": [],
   "source": [
    "from reframed.io.sbml import parse_gpr_rule"
   ]
  },
  {
   "cell_type": "code",
   "execution_count": 128,
   "id": "3562ae8c-d7d9-4c1c-bdd2-00ecd649dd84",
   "metadata": {},
   "outputs": [
    {
     "data": {
      "text/plain": [
       "R_ATPS4rpp: M_adp_c + 4.0 M_h_p + M_pi_c <-> M_atp_c + M_h2o_c + 3.0 M_h_c"
      ]
     },
     "execution_count": 128,
     "metadata": {},
     "output_type": "execute_result"
    }
   ],
   "source": [
    "model.reactions.R_ATPS4rpp"
   ]
  },
  {
   "cell_type": "markdown",
   "id": "ee455d40-f944-41ce-a945-7c21499afaa3",
   "metadata": {},
   "source": [
    "**Results from BlastKOALA search (14.08.24) show that RNF-related proteins exist in our MAG**"
   ]
  },
  {
   "cell_type": "code",
   "execution_count": 129,
   "id": "4cff667c-0df8-4ec5-8a94-a975e7d24980",
   "metadata": {},
   "outputs": [
    {
     "data": {
      "text/html": [
       "<div>\n",
       "<style scoped>\n",
       "    .dataframe tbody tr th:only-of-type {\n",
       "        vertical-align: middle;\n",
       "    }\n",
       "\n",
       "    .dataframe tbody tr th {\n",
       "        vertical-align: top;\n",
       "    }\n",
       "\n",
       "    .dataframe thead th {\n",
       "        text-align: right;\n",
       "    }\n",
       "</style>\n",
       "<table border=\"1\" class=\"dataframe\">\n",
       "  <thead>\n",
       "    <tr style=\"text-align: right;\">\n",
       "      <th></th>\n",
       "      <th>gene</th>\n",
       "      <th>KO</th>\n",
       "      <th>description</th>\n",
       "    </tr>\n",
       "  </thead>\n",
       "  <tbody>\n",
       "    <tr>\n",
       "      <th>966</th>\n",
       "      <td>gene3270</td>\n",
       "      <td>K03616</td>\n",
       "      <td>rnfB; H+/Na+-translocating ferredoxin:NAD+ oxi...</td>\n",
       "    </tr>\n",
       "    <tr>\n",
       "      <th>967</th>\n",
       "      <td>gene3275</td>\n",
       "      <td>K03617</td>\n",
       "      <td>rnfA; H+/Na+-translocating ferredoxin:NAD+ oxi...</td>\n",
       "    </tr>\n",
       "    <tr>\n",
       "      <th>968</th>\n",
       "      <td>gene3277</td>\n",
       "      <td>K03613</td>\n",
       "      <td>rnfE; H+/Na+-translocating ferredoxin:NAD+ oxi...</td>\n",
       "    </tr>\n",
       "    <tr>\n",
       "      <th>969</th>\n",
       "      <td>gene3280</td>\n",
       "      <td>K03612</td>\n",
       "      <td>rnfG; H+/Na+-translocating ferredoxin:NAD+ oxi...</td>\n",
       "    </tr>\n",
       "    <tr>\n",
       "      <th>970</th>\n",
       "      <td>gene3282</td>\n",
       "      <td>K03614</td>\n",
       "      <td>rnfD; H+/Na+-translocating ferredoxin:NAD+ oxi...</td>\n",
       "    </tr>\n",
       "    <tr>\n",
       "      <th>971</th>\n",
       "      <td>gene3286</td>\n",
       "      <td>K03615</td>\n",
       "      <td>rnfC; H+/Na+-translocating ferredoxin:NAD+ oxi...</td>\n",
       "    </tr>\n",
       "    <tr>\n",
       "      <th>2692</th>\n",
       "      <td>gene9189</td>\n",
       "      <td>K03614</td>\n",
       "      <td>rnfD; H+/Na+-translocating ferredoxin:NAD+ oxi...</td>\n",
       "    </tr>\n",
       "    <tr>\n",
       "      <th>2693</th>\n",
       "      <td>gene9195</td>\n",
       "      <td>K03613</td>\n",
       "      <td>rnfE; H+/Na+-translocating ferredoxin:NAD+ oxi...</td>\n",
       "    </tr>\n",
       "  </tbody>\n",
       "</table>\n",
       "</div>"
      ],
      "text/plain": [
       "          gene      KO                                        description\n",
       "966   gene3270  K03616  rnfB; H+/Na+-translocating ferredoxin:NAD+ oxi...\n",
       "967   gene3275  K03617  rnfA; H+/Na+-translocating ferredoxin:NAD+ oxi...\n",
       "968   gene3277  K03613  rnfE; H+/Na+-translocating ferredoxin:NAD+ oxi...\n",
       "969   gene3280  K03612  rnfG; H+/Na+-translocating ferredoxin:NAD+ oxi...\n",
       "970   gene3282  K03614  rnfD; H+/Na+-translocating ferredoxin:NAD+ oxi...\n",
       "971   gene3286  K03615  rnfC; H+/Na+-translocating ferredoxin:NAD+ oxi...\n",
       "2692  gene9189  K03614  rnfD; H+/Na+-translocating ferredoxin:NAD+ oxi...\n",
       "2693  gene9195  K03613  rnfE; H+/Na+-translocating ferredoxin:NAD+ oxi..."
      ]
     },
     "execution_count": 129,
     "metadata": {},
     "output_type": "execute_result"
    }
   ],
   "source": [
    "blast_koala_results = pd.read_table(\"../output/Caproicproducens_CH14_bin_0/user_ko_definition.txt\",header=None)\n",
    "blast_koala_results = blast_koala_results[[0,1,2]].copy()\n",
    "blast_koala_results.columns=[\"gene\",\"KO\",\"description\"]\n",
    "blast_koala_results = blast_koala_results.dropna()\n",
    "\n",
    "blast_koala_results[blast_koala_results.description.str.contains(\"rnf\")]"
   ]
  },
  {
   "cell_type": "markdown",
   "id": "61a259bb-f2ef-4c28-9146-eb0e847f4182",
   "metadata": {},
   "source": [
    "**Adding this protein**"
   ]
  },
  {
   "cell_type": "code",
   "execution_count": 130,
   "id": "f423410b-4a6b-4aa6-a404-ee791c5ee1a5",
   "metadata": {},
   "outputs": [],
   "source": [
    "gpr = parse_gpr_rule(\"G_gene3275 and G_gene3270 and G_gene3286 and (G_gene3282 or G_gene9189) and (G_gene9195 or G_gene3277) and G_gene3280\")"
   ]
  },
  {
   "cell_type": "code",
   "execution_count": 131,
   "id": "a855a63b-af82-4051-8707-c6c2f489b3c9",
   "metadata": {},
   "outputs": [],
   "source": [
    "R_RnfH2_2 = reframed.CBReaction(\"R_RnfH2_2\",\n",
    "                    name=\"energy-converting NADH:ferredoxin oxidoreductase transport of H+\",\n",
    "                   reversible=False,\n",
    "                   stoichiometry={'M_nad_c':-1,'M_fdxrd_c':-2, 'M_h_c':-2, 'M_nadh_c':1,'M_fdxo_2_2_c':2,'M_h_p':1},\n",
    "                    gpr_association=gpr\n",
    "                   )"
   ]
  },
  {
   "cell_type": "code",
   "execution_count": 132,
   "id": "3b769801-ff12-4a5a-858c-90ab19d5c18b",
   "metadata": {},
   "outputs": [
    {
     "name": "stdout",
     "output_type": "stream",
     "text": [
      "\u001b[92mThere are NO energy producing cycles in the model\u001b[0m\n"
     ]
    }
   ],
   "source": [
    "results = EGC.EGC_identifier(model)"
   ]
  },
  {
   "cell_type": "code",
   "execution_count": 133,
   "id": "8565e42d-39e1-41b2-a99f-950bfbc7a317",
   "metadata": {},
   "outputs": [],
   "source": [
    "model.add_reaction(R_RnfH2_2)\n",
    "model.update()"
   ]
  },
  {
   "cell_type": "code",
   "execution_count": 134,
   "id": "c4c88ce8-f278-46e2-82cd-1d1cd82c4c64",
   "metadata": {},
   "outputs": [
    {
     "name": "stdout",
     "output_type": "stream",
     "text": [
      "\u001b[91mThere ARE energy producing cycles in the model\u001b[0m\n"
     ]
    }
   ],
   "source": [
    "results = EGC.EGC_identifier(model)"
   ]
  },
  {
   "cell_type": "code",
   "execution_count": 135,
   "id": "91e4ed7f-9dd2-4b8a-8c6c-49734c727432",
   "metadata": {},
   "outputs": [
    {
     "data": {
      "text/plain": [
       "{'R_FNOR', 'R_RnfH2_2'}"
      ]
     },
     "execution_count": 135,
     "metadata": {},
     "output_type": "execute_result"
    }
   ],
   "source": [
    "reaction_sets = [set(reaction for reaction, value in reactions) for reactions in results.values()]\n",
    "set.intersection(*reaction_sets)"
   ]
  },
  {
   "cell_type": "markdown",
   "id": "891e6070-236c-4732-a61c-fa0a0b41943d",
   "metadata": {},
   "source": [
    "**These reactions (FNOR and Hnd) are likely only going in this direction**"
   ]
  },
  {
   "cell_type": "code",
   "execution_count": 136,
   "id": "b3964f8f-6b52-4101-a1f8-f8cad8b2c174",
   "metadata": {},
   "outputs": [],
   "source": [
    "model.reactions.R_FNOR.reversible=False\n",
    "model.reactions.R_FNOR.lb=0"
   ]
  },
  {
   "cell_type": "code",
   "execution_count": 137,
   "id": "eacbb487-c964-494a-b0d3-f655260b1d9c",
   "metadata": {},
   "outputs": [],
   "source": [
    "model.reactions.R_Hnd.reversible=False\n",
    "model.reactions.R_Hnd.lb=0"
   ]
  },
  {
   "cell_type": "code",
   "execution_count": 138,
   "id": "42393ec7-2d32-45b7-b40a-3c8c0d95e413",
   "metadata": {},
   "outputs": [
    {
     "name": "stdout",
     "output_type": "stream",
     "text": [
      "\u001b[92mThere are NO energy producing cycles in the model\u001b[0m\n"
     ]
    }
   ],
   "source": [
    "results = EGC.EGC_identifier(model)"
   ]
  },
  {
   "cell_type": "markdown",
   "id": "3d60b7da-71d4-453c-a460-9762c87d812c",
   "metadata": {
    "tags": []
   },
   "source": [
    "### Removing oxygen related reactions"
   ]
  },
  {
   "cell_type": "code",
   "execution_count": 139,
   "id": "7da42e47-d461-427d-b012-b977681effc5",
   "metadata": {},
   "outputs": [],
   "source": [
    "model.update()\n",
    "model.remove_reactions(model.get_metabolite_reactions(\"M_o2_e\"))\n",
    "model.remove_metabolite(\"M_o2_e\")\n",
    "model.update()"
   ]
  },
  {
   "cell_type": "markdown",
   "id": "00664b14-ae8c-45cd-b344-5a0f0e55a0e2",
   "metadata": {},
   "source": [
    "### Save models"
   ]
  },
  {
   "cell_type": "code",
   "execution_count": 140,
   "id": "7da15e8f-3dae-49c7-9e75-f04fe236cb35",
   "metadata": {},
   "outputs": [],
   "source": [
    "model.update()\n",
    "\n",
    "reframed.save_cbmodel(model=model,filename=\"../output/GEMs/GEMs_final/CH14-bin.0.xml\")"
   ]
  },
  {
   "cell_type": "markdown",
   "id": "cd3ef78a-da89-40b9-be8b-e6b72d7c74fe",
   "metadata": {},
   "source": [
    "## Production of butyrate"
   ]
  },
  {
   "cell_type": "raw",
   "id": "ef769794-2a1b-4cd9-afc0-41d0bd78fc29",
   "metadata": {
    "tags": []
   },
   "source": [
    "constrained_medium_env[\"R_EX_lac__L_e\"]=(-10,0)\n",
    "constrained_medium_env.pop(\"R_EX_gcald_e\")"
   ]
  },
  {
   "cell_type": "raw",
   "id": "f2e051ae-1d37-4c11-9778-fa2b0c3c59df",
   "metadata": {
    "tags": []
   },
   "source": [
    "constrained_medium_env[\"R_EX_lac__L_e\"]=(-10,0)\n",
    "constrained_medium_env.pop(\"R_EX_glc__D_e\")"
   ]
  },
  {
   "cell_type": "raw",
   "id": "c7ff3629-aae5-408d-ae9d-00381f66b6fb",
   "metadata": {},
   "source": [
    "constrained_medium_env.apply(model,warning=False,inplace=True)\n",
    "\n",
    "# constraints={\"R_ALCD4y\":0,\"R_G3PD1ir\":0,\"R_HSDxi\":0,\"R_SKDH_1\":0,\"R_GLUDxi\":0,\"R_GDH1\":0}\n",
    "sol = reframed.pFBA(model,constraints={})\n",
    "print(sol.values[\"R_Growth\"])\n",
    "sol.show_values(pattern=\"R_EX_\",sort=True,abstol=1e-3)"
   ]
  },
  {
   "cell_type": "raw",
   "id": "9454d647-c64d-46e2-92c6-7a76a0e1ab34",
   "metadata": {},
   "source": [
    "reframed.FVA(model,obj_frac=1,reactions=[\"R_EX_hxa_e\"])"
   ]
  },
  {
   "cell_type": "raw",
   "id": "46df7f7f-7631-4939-bfcb-5ae363e578d7",
   "metadata": {},
   "source": [
    "sol.show_metabolite_balance(\"M_atp_c\",model,abstol=1e-1,equations=True)"
   ]
  },
  {
   "cell_type": "raw",
   "id": "d4a84959-fb93-4cb9-b2d2-f4ef7ca3a95f",
   "metadata": {},
   "source": [
    "sol.show_metabolite_balance(\"M_fdxrd_c\",model,abstol=1e-1,equations=True)"
   ]
  },
  {
   "cell_type": "raw",
   "id": "a8e29d2e-fcff-4ccc-9f4a-4a627ee55382",
   "metadata": {},
   "source": [
    "sol.show_metabolite_balance(\"M_nadh_c\",model,abstol=1e-1,equations=True)"
   ]
  },
  {
   "cell_type": "markdown",
   "id": "6cd06cd5-69ff-43f6-b6cd-ccb10a550569",
   "metadata": {},
   "source": [
    "**Here butyrate is preferred**"
   ]
  },
  {
   "cell_type": "raw",
   "id": "a6083741-6b6f-4762-b63c-7c5ca153c4fe",
   "metadata": {},
   "source": [
    "sol = reframed.pFBA(model,constraints={\"R_GLUDxi\":(0,1000),\"R_ALCD4\":(0,1000),\"R_HSDxi\":(0,1000),\"R_G3PD2\":0,\"R_SHK3Dr\":(0,1000),\"R_HSDxi\":0,\"R_GDH1\":(0,1000)})\n",
    "print(sol.values[\"R_Growth\"])\n",
    "sol.show_values(pattern=\"R_EX_\",sort=True,abstol=1e-3)"
   ]
  },
  {
   "cell_type": "raw",
   "id": "7ea87dc4-ef25-49cf-b6b2-33f2456b65a8",
   "metadata": {},
   "source": [
    "sol.show_metabolite_balance(\"M_nadh_c\",model,abstol=1e-1,equations=True)"
   ]
  },
  {
   "cell_type": "raw",
   "id": "bc8c6d87-7b2f-481d-9d06-163deff83cb2",
   "metadata": {},
   "source": [
    "model.reactions.R_G3PD2"
   ]
  },
  {
   "cell_type": "raw",
   "id": "55a6ea3f-4c2c-4e75-ac4b-0cc660d94176",
   "metadata": {},
   "source": [
    "model.reactions.R_G3PD2.gpr"
   ]
  },
  {
   "cell_type": "raw",
   "id": "415bff13-3211-4d17-a6b5-47b2b412871f",
   "metadata": {},
   "source": [
    "model.reactions.R_G3PD1ir"
   ]
  },
  {
   "cell_type": "raw",
   "id": "33e350ee-77a5-4ddc-a9ed-19a0b4921da1",
   "metadata": {},
   "source": [
    "model.reactions.R_G3PD1ir.gpr"
   ]
  },
  {
   "cell_type": "raw",
   "id": "18c7ee92-108e-4ba6-81a2-3d61e6323b4e",
   "metadata": {},
   "source": [
    "model.reactions.R_HSDxi"
   ]
  },
  {
   "cell_type": "raw",
   "id": "2db230d8-d362-4119-87f9-0d3cb17a0512",
   "metadata": {},
   "source": [
    "model.reactions.R_HSDxi.gpr"
   ]
  },
  {
   "cell_type": "raw",
   "id": "9ccf4d39-eae8-4961-a11b-bb3b2d3874b4",
   "metadata": {},
   "source": [
    "for rxn in model.get_metabolite_reactions(\"M_hom__L_c\"):\n",
    "    print(model.reactions[rxn])"
   ]
  },
  {
   "cell_type": "raw",
   "id": "79f0be57-d176-4147-8635-9988b3c3e75f",
   "metadata": {},
   "source": [
    "model.reactions.R_HSDy.gpr"
   ]
  },
  {
   "cell_type": "raw",
   "id": "bfb4d68b-44ef-4407-b5a4-69c2d7381b38",
   "metadata": {},
   "source": [
    "reframed.FVA(model,obj_frac=1,reactions=[\"R_EX_ac_e\",\"R_EX_but_e\",\"R_EX_hxa_e\"],constraints={\"R_GLUDxi\":(0,1000),\"R_ALCD4\":(0,1000),\"R_HSDxi\":(0,1000),\"R_G3PD2\":0,\"R_SHK3Dr\":(0,1000),\"R_HSDxi\":0,\"R_GDH1\":(0,1000)})"
   ]
  },
  {
   "cell_type": "markdown",
   "id": "f2e53bb8-6324-4bda-89ea-d16b2bfd5f6e",
   "metadata": {},
   "source": [
    "#### From glucose"
   ]
  },
  {
   "cell_type": "raw",
   "id": "9e753747-3c1d-41bf-9ffe-d1501f8ea899",
   "metadata": {
    "tags": []
   },
   "source": [
    "constrained_medium_env[\"R_EX_glc__D_e\"]=(-10,0)\n",
    "constrained_medium_env.pop(\"R_EX_lac__L_e\")"
   ]
  },
  {
   "cell_type": "raw",
   "id": "a8b8fd68-577e-4a9d-9341-74b7eb0130d9",
   "metadata": {},
   "source": [
    "constrained_medium_env.apply(model,warning=False,inplace=True)\n",
    "\n",
    "# constraints={\"R_ALCD4y\":0,\"R_G3PD1ir\":0,\"R_HSDxi\":0,\"R_SKDH_1\":0,\"R_GLUDxi\":0,\"R_GDH1\":0}\n",
    "sol = reframed.pFBA(model,constraints={})\n",
    "print(sol.values[\"R_Growth\"])\n",
    "sol.show_values(pattern=\"R_EX_\",sort=True,abstol=1e-3)"
   ]
  },
  {
   "cell_type": "raw",
   "id": "9400ea20-469b-4e00-a349-2d38cd007aac",
   "metadata": {},
   "source": [
    "sol = reframed.pFBA(model,constraints={\"R_GLUDxi\":(0,1000),\"R_ALCD4\":(0,1000),\"R_HSDxi\":(0,1000),\"R_G3PD2\":0,\"R_SHK3Dr\":(0,1000),\"R_HSDxi\":0,\"R_GDH1\":(0,1000)})\n",
    "print(sol.values[\"R_Growth\"])\n",
    "sol.show_values(pattern=\"R_EX_\",sort=True,abstol=1e-3)"
   ]
  },
  {
   "cell_type": "raw",
   "id": "320230ee-e4b4-4cb2-b27c-5373d5800472",
   "metadata": {},
   "source": [
    "sol.show_metabolite_balance(\"M_fdxrd_c\",model,abstol=1e-1,equations=True)"
   ]
  },
  {
   "cell_type": "raw",
   "id": "18f235d5-4e8e-437c-a585-9473c2a6784d",
   "metadata": {},
   "source": [
    "sol.show_metabolite_balance(\"M_nadh_c\",model,abstol=1e-1,equations=True)"
   ]
  },
  {
   "cell_type": "raw",
   "id": "2a423a3d-b949-49c4-841a-7acdf1d14510",
   "metadata": {},
   "source": [
    "sol.show_metabolite_balance(\"M_atp_c\",model,abstol=1e-1,equations=True)"
   ]
  },
  {
   "cell_type": "raw",
   "id": "cac038d3-3a22-4528-97c0-96e1b64f034b",
   "metadata": {},
   "source": [
    "reframed.FVA(model,obj_frac=0.9,reactions=[\"R_EX_ac_e\",\"R_EX_but_e\",\"R_EX_hxa_e\",\"R_RnfH2_2\"],constraints={\"R_GLUDxi\":(0,1000),\"R_ALCD4\":(0,1000),\"R_HSDxi\":(0,1000),\"R_G3PD2\":0,\"R_SHK3Dr\":(0,1000),\"R_HSDxi\":0,\"R_GDH1\":(0,1000)})"
   ]
  }
 ],
 "metadata": {
  "kernelspec": {
   "display_name": "MAGs_RecAndAn2",
   "language": "python",
   "name": "mags_recandan2"
  },
  "language_info": {
   "codemirror_mode": {
    "name": "ipython",
    "version": 3
   },
   "file_extension": ".py",
   "mimetype": "text/x-python",
   "name": "python",
   "nbconvert_exporter": "python",
   "pygments_lexer": "ipython3",
   "version": "3.9.13"
  }
 },
 "nbformat": 4,
 "nbformat_minor": 5
}

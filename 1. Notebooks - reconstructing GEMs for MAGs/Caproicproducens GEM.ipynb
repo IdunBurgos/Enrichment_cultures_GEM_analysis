{
 "cells": [
  {
   "cell_type": "markdown",
   "id": "4b6e141b-42f0-440f-b747-ae13d732141c",
   "metadata": {},
   "source": [
    "## Caproicproducens"
   ]
  },
  {
   "cell_type": "code",
   "execution_count": 1,
   "id": "75f721a0-0954-4a48-8fca-1bb4bc37c296",
   "metadata": {},
   "outputs": [],
   "source": [
    "from Bio import Entrez, SeqIO\n",
    "import pandas as pd\n",
    "import os\n",
    "\n",
    "import sys \n",
    "sys.path.append(\"../functions/\")\n",
    "\n",
    "import EGC"
   ]
  },
  {
   "cell_type": "markdown",
   "id": "d3b73a1a-77be-41ca-9681-d2c9eb5a8cab",
   "metadata": {},
   "source": [
    "### Find ORFs and translate sequences -> fasta file"
   ]
  },
  {
   "cell_type": "code",
   "execution_count": 2,
   "id": "53d7888a-5e38-42d9-a16f-d6679f3c3c8a",
   "metadata": {},
   "outputs": [],
   "source": [
    "table = 11\n",
    "min_pro_len = 100\n",
    "\n",
    "# https://biopython.org/DIST/docs/tutorial/Tutorial.html#sec443\n",
    "\n",
    "def find_orfs_with_trans(seq, trans_table, min_protein_length):\n",
    "    answer = []\n",
    "    seq_len = len(seq)\n",
    "    for strand, nuc in [(+1, seq), (-1, seq.reverse_complement())]:\n",
    "        for frame in range(3):\n",
    "            trans = nuc[frame:].translate(trans_table)\n",
    "            trans_len = len(trans)\n",
    "            aa_start = 0\n",
    "            aa_end = 0\n",
    "            while aa_start < trans_len:\n",
    "                aa_end = trans.find(\"*\", aa_start)\n",
    "                if aa_end == -1:\n",
    "                    aa_end = trans_len\n",
    "                if aa_end - aa_start >= min_protein_length:\n",
    "                    if strand == 1:\n",
    "                        start = frame + aa_start * 3\n",
    "                        end = min(seq_len, frame + aa_end * 3 + 3)\n",
    "                    else:\n",
    "                        start = seq_len - frame - aa_end * 3 - 3\n",
    "                        end = seq_len - frame - aa_start * 3\n",
    "                    answer.append((start, end, strand, trans[aa_start:aa_end]))\n",
    "                aa_start = aa_end + 1\n",
    "    answer.sort()\n",
    "    return answer"
   ]
  },
  {
   "cell_type": "code",
   "execution_count": 3,
   "id": "4209f2e1-751f-4f1c-b2b0-6d921ae4fa10",
   "metadata": {},
   "outputs": [
    {
     "name": "stderr",
     "output_type": "stream",
     "text": [
      "/Users/idunmariaburgos/opt/anaconda3/envs/MAGs_RecAndAn2/lib/python3.9/site-packages/Bio/Seq.py:2880: BiopythonWarning: Partial codon, len(sequence) not a multiple of three. Explicitly trim the sequence or add trailing N before translation. This may become an error in future.\n",
      "  warnings.warn(\n"
     ]
    }
   ],
   "source": [
    "all_recs = []\n",
    "i = 1\n",
    "\n",
    "ofile = open(\"../output/Caproicproducens_CH14_bin_0/CH14-bin.0.faa\",\"w\")     \n",
    "for record in SeqIO.parse(\"../input/CH14-bin.0.fa\",\"fasta\"):\n",
    "    orf_list = find_orfs_with_trans(record.seq, table, min_pro_len)\n",
    "    \n",
    "    for start, end, strand, pro in orf_list:\n",
    "        ofile.write(\">\"+\"gene\"+str(i)+\"\\n\"+str(pro)+\"\\n\")\n",
    "        i +=1\n",
    "ofile.close()"
   ]
  },
  {
   "cell_type": "markdown",
   "id": "8c3bbb63-e7be-493e-a9a8-7bf7690427eb",
   "metadata": {},
   "source": [
    "### Acetate transport\n",
    "\n",
    "\n",
    "- 3.A.1.120.5 - abc\n",
    "- 1.A.14.2.2 - acetate uptake\n",
    "- 2.A.23.1.10 - uptake\n",
    "- 2.A.6.2.9 - abc\n",
    "- 2.A.96.1.11 - uptake\n",
    "\n",
    "\n",
    "- 2.A.1.13.1 - proton linked efflux/influx\n",
    "- 2.A.1.6.11 - Acetate/haloacid transporter (no mechanism)\n",
    "- 2.A.102.4.13 - acetate transporter\n",
    "- 2.A.21.7.3 - Pyruvate/acetate/propionate: H+ symporter\n",
    "- 2.A.96.1.4 - acetate permease"
   ]
  },
  {
   "cell_type": "code",
   "execution_count": 4,
   "id": "215d093a-6638-45e7-9f5d-f68cf8011443",
   "metadata": {},
   "outputs": [],
   "source": [
    "from io import TextIOWrapper\n",
    "from Bio import SeqIO \n",
    "from urllib.request import urlopen\n",
    "import re"
   ]
  },
  {
   "cell_type": "code",
   "execution_count": 5,
   "id": "d5aa341c-1761-4199-aa04-c43e72904a7e",
   "metadata": {},
   "outputs": [],
   "source": [
    "possible_transporters = pd.read_excel(\"/Users/idunmariaburgos/Documents/Work/Project/chain elongation/Clostridia BL3 and BL4/possible_transporters_tcdb.xlsx\",sheet_name=\"overview\")\n",
    "\n",
    "possible_transporters_regex = \"|\".join(possible_transporters[\"Acetate\"].values)"
   ]
  },
  {
   "cell_type": "markdown",
   "id": "62d78a8d-b05c-41aa-a80b-b492c11bcb3c",
   "metadata": {},
   "source": [
    "**Filter data from tcdb**"
   ]
  },
  {
   "cell_type": "code",
   "execution_count": 6,
   "id": "30267139-0b25-4846-9976-f1152db589fc",
   "metadata": {},
   "outputs": [],
   "source": [
    "handle = TextIOWrapper(urlopen(\"https://www.tcdb.org/public/tcdb\"))\n",
    "recs = list(SeqIO.parse(handle, 'fasta'))\n",
    "handle.close()"
   ]
  },
  {
   "cell_type": "code",
   "execution_count": 7,
   "id": "f38035b0-f618-4153-8ff3-6b5d112bee19",
   "metadata": {},
   "outputs": [],
   "source": [
    "ofile = open(\"../output/Caproicproducens_CH14_bin_0/transporters.faa\",\"w\")\n",
    "\n",
    "for rec in recs:\n",
    "    id_ = str(rec.id)\n",
    "    \n",
    "    if re.search(possible_transporters_regex, id_):\n",
    "        \n",
    "        \n",
    "        sequence = str(rec.seq)\n",
    "        \n",
    "        ofile.write(\">\"+id_+\"\\n\"+sequence+\"\\n\")\n",
    "ofile.close()        \n"
   ]
  },
  {
   "cell_type": "markdown",
   "id": "5a018be7-0c39-4ff2-83aa-825e821be775",
   "metadata": {
    "tags": []
   },
   "source": [
    "#### Check matches"
   ]
  },
  {
   "cell_type": "raw",
   "id": "0101e71f-05b5-4531-adc4-a1aa7f0f5e99",
   "metadata": {},
   "source": [
    "makeblastdb -in ./output/Caproicproducens_CH14_bin_0/CH14-bin.0.faa -dbtype prot\n",
    "blastp -query ./output/Caproicproducens_CH14_bin_0/transporters.faa -db ./output/Caproicproducens_CH14_bin_0/CH14-bin.0.faa -out ./output/Caproicproducens_CH14_bin_0/CH14-bin.0.tsv -outfmt 6"
   ]
  },
  {
   "cell_type": "markdown",
   "id": "333b132c-3173-4408-90f9-740c08ae2e56",
   "metadata": {},
   "source": [
    "**No good match** \n",
    "- Best matches (F:ATP binding): https://www.tcdb.org/search/result.php?acc=q2pgb8"
   ]
  },
  {
   "cell_type": "code",
   "execution_count": 8,
   "id": "a7e15324-9a5f-4836-b70c-ee0f8e1509fb",
   "metadata": {},
   "outputs": [],
   "source": [
    "transporters_CH14_bin_0 = pd.read_csv(\"../output/Caproicproducens_CH14_bin_0/CH14-bin.0_transporters.tsv\",\n",
    "            sep=\"\\t\",\n",
    "            header=None)\n",
    "\n",
    "transporters_CH14_bin_0.columns=[\"query acc.ver\", \"subject acc.ver\", \"% identity\", \"alignment length\", \"mismatches\", \"gap opens\", \"q. start\", \"q. end\", \"s. start\", \"s. end\", \"evalue\", \"bit score\"]\n",
    "transporters_CH14_bin_0 = transporters_CH14_bin_0[[\"query acc.ver\",\"subject acc.ver\",\"% identity\",\"evalue\",\"bit score\"]]"
   ]
  },
  {
   "cell_type": "code",
   "execution_count": 9,
   "id": "6e69b5f5-45d0-4a7b-a408-15e6394743eb",
   "metadata": {},
   "outputs": [
    {
     "data": {
      "text/html": [
       "<div>\n",
       "<style scoped>\n",
       "    .dataframe tbody tr th:only-of-type {\n",
       "        vertical-align: middle;\n",
       "    }\n",
       "\n",
       "    .dataframe tbody tr th {\n",
       "        vertical-align: top;\n",
       "    }\n",
       "\n",
       "    .dataframe thead th {\n",
       "        text-align: right;\n",
       "    }\n",
       "</style>\n",
       "<table border=\"1\" class=\"dataframe\">\n",
       "  <thead>\n",
       "    <tr style=\"text-align: right;\">\n",
       "      <th></th>\n",
       "      <th>query acc.ver</th>\n",
       "      <th>subject acc.ver</th>\n",
       "      <th>% identity</th>\n",
       "      <th>evalue</th>\n",
       "      <th>bit score</th>\n",
       "    </tr>\n",
       "  </thead>\n",
       "  <tbody>\n",
       "    <tr>\n",
       "      <th>66</th>\n",
       "      <td>gnl|TC-DB|Q2PGB8|3.A.1.120.5</td>\n",
       "      <td>gene9840</td>\n",
       "      <td>31.239</td>\n",
       "      <td>4.750000e-84</td>\n",
       "      <td>273.0</td>\n",
       "    </tr>\n",
       "    <tr>\n",
       "      <th>68</th>\n",
       "      <td>gnl|TC-DB|Q2PGB8|3.A.1.120.5</td>\n",
       "      <td>gene948</td>\n",
       "      <td>27.273</td>\n",
       "      <td>6.300000e-57</td>\n",
       "      <td>200.0</td>\n",
       "    </tr>\n",
       "    <tr>\n",
       "      <th>67</th>\n",
       "      <td>gnl|TC-DB|Q2PGB8|3.A.1.120.5</td>\n",
       "      <td>gene9840</td>\n",
       "      <td>35.398</td>\n",
       "      <td>7.070000e-33</td>\n",
       "      <td>131.0</td>\n",
       "    </tr>\n",
       "    <tr>\n",
       "      <th>69</th>\n",
       "      <td>gnl|TC-DB|Q2PGB8|3.A.1.120.5</td>\n",
       "      <td>gene948</td>\n",
       "      <td>34.555</td>\n",
       "      <td>2.580000e-23</td>\n",
       "      <td>102.0</td>\n",
       "    </tr>\n",
       "    <tr>\n",
       "      <th>70</th>\n",
       "      <td>gnl|TC-DB|Q2PGB8|3.A.1.120.5</td>\n",
       "      <td>gene2822</td>\n",
       "      <td>26.142</td>\n",
       "      <td>1.120000e-22</td>\n",
       "      <td>99.8</td>\n",
       "    </tr>\n",
       "    <tr>\n",
       "      <th>73</th>\n",
       "      <td>gnl|TC-DB|Q2PGB8|3.A.1.120.5</td>\n",
       "      <td>gene11089</td>\n",
       "      <td>23.387</td>\n",
       "      <td>1.230000e-21</td>\n",
       "      <td>96.3</td>\n",
       "    </tr>\n",
       "    <tr>\n",
       "      <th>78</th>\n",
       "      <td>gnl|TC-DB|Q2PGB8|3.A.1.120.5</td>\n",
       "      <td>gene12059</td>\n",
       "      <td>24.440</td>\n",
       "      <td>2.630000e-17</td>\n",
       "      <td>82.8</td>\n",
       "    </tr>\n",
       "    <tr>\n",
       "      <th>76</th>\n",
       "      <td>gnl|TC-DB|Q2PGB8|3.A.1.120.5</td>\n",
       "      <td>gene10468</td>\n",
       "      <td>30.244</td>\n",
       "      <td>8.670000e-18</td>\n",
       "      <td>82.4</td>\n",
       "    </tr>\n",
       "    <tr>\n",
       "      <th>81</th>\n",
       "      <td>gnl|TC-DB|Q2PGB8|3.A.1.120.5</td>\n",
       "      <td>gene45</td>\n",
       "      <td>23.664</td>\n",
       "      <td>1.350000e-16</td>\n",
       "      <td>80.9</td>\n",
       "    </tr>\n",
       "    <tr>\n",
       "      <th>82</th>\n",
       "      <td>gnl|TC-DB|Q2PGB8|3.A.1.120.5</td>\n",
       "      <td>gene4578</td>\n",
       "      <td>23.379</td>\n",
       "      <td>1.430000e-16</td>\n",
       "      <td>80.9</td>\n",
       "    </tr>\n",
       "  </tbody>\n",
       "</table>\n",
       "</div>"
      ],
      "text/plain": [
       "                   query acc.ver subject acc.ver  % identity        evalue  \\\n",
       "66  gnl|TC-DB|Q2PGB8|3.A.1.120.5        gene9840      31.239  4.750000e-84   \n",
       "68  gnl|TC-DB|Q2PGB8|3.A.1.120.5         gene948      27.273  6.300000e-57   \n",
       "67  gnl|TC-DB|Q2PGB8|3.A.1.120.5        gene9840      35.398  7.070000e-33   \n",
       "69  gnl|TC-DB|Q2PGB8|3.A.1.120.5         gene948      34.555  2.580000e-23   \n",
       "70  gnl|TC-DB|Q2PGB8|3.A.1.120.5        gene2822      26.142  1.120000e-22   \n",
       "73  gnl|TC-DB|Q2PGB8|3.A.1.120.5       gene11089      23.387  1.230000e-21   \n",
       "78  gnl|TC-DB|Q2PGB8|3.A.1.120.5       gene12059      24.440  2.630000e-17   \n",
       "76  gnl|TC-DB|Q2PGB8|3.A.1.120.5       gene10468      30.244  8.670000e-18   \n",
       "81  gnl|TC-DB|Q2PGB8|3.A.1.120.5          gene45      23.664  1.350000e-16   \n",
       "82  gnl|TC-DB|Q2PGB8|3.A.1.120.5        gene4578      23.379  1.430000e-16   \n",
       "\n",
       "    bit score  \n",
       "66      273.0  \n",
       "68      200.0  \n",
       "67      131.0  \n",
       "69      102.0  \n",
       "70       99.8  \n",
       "73       96.3  \n",
       "78       82.8  \n",
       "76       82.4  \n",
       "81       80.9  \n",
       "82       80.9  "
      ]
     },
     "execution_count": 9,
     "metadata": {},
     "output_type": "execute_result"
    }
   ],
   "source": [
    "transporters_CH14_bin_0.sort_values(\"bit score\",ascending=False).head(10)"
   ]
  },
  {
   "cell_type": "markdown",
   "id": "d9fb4820-a81e-4d91-9fc1-eadcac5a4b0e",
   "metadata": {
    "tags": []
   },
   "source": [
    "## Create model"
   ]
  },
  {
   "cell_type": "raw",
   "id": "631c52b2-cd4c-4943-b503-d7a7a1e2322c",
   "metadata": {
    "tags": []
   },
   "source": [
    "carve ./output/Caproicproducens_CH14_bin_0/CH14-bin.0.faa --fbc2 -o ./output/Caproicproducens_CH14_bin_0/CH14-bin.0.xml --verbose --gapfill 'LB[-O2]' --solver gurobi --soft  ./output/Caproicproducens_CH14_bin_0/soft_constraints.tsv                 "
   ]
  },
  {
   "cell_type": "markdown",
   "id": "ea157105-e79b-46b7-99e7-5a8100220bbe",
   "metadata": {},
   "source": [
    "### Constraints"
   ]
  },
  {
   "cell_type": "code",
   "execution_count": 10,
   "id": "5eb010ef-8b9c-42ae-90c8-2b1a1c109b85",
   "metadata": {},
   "outputs": [],
   "source": [
    "soft_constraints = {\"R_EX_hxa_e\":1,\n",
    "\"R_EX_but_e\":1,\n",
    "\"R_EX_ac_e\":1,\n",
    "\"R_EX_eoth_e\":1,\n",
    "\"R_EX_h2_e\":1,\n",
    "\"R_EX_co2_e\":1}"
   ]
  },
  {
   "cell_type": "code",
   "execution_count": 11,
   "id": "f6791f8d-8be0-4ebe-94d2-6f75ca96df5d",
   "metadata": {},
   "outputs": [],
   "source": [
    "pd.Series(soft_constraints).to_csv(\"../output/Caproicproducens_CH14_bin_0/soft_constraints.tsv\",sep=\"\\t\",index_label=None,header=None)"
   ]
  },
  {
   "cell_type": "markdown",
   "id": "fe62b303-ec82-4040-a2dd-da76f27608e6",
   "metadata": {},
   "source": [
    "## Fixing acetate transport"
   ]
  },
  {
   "cell_type": "code",
   "execution_count": 12,
   "id": "67e1f2a6-f8b0-43aa-bfb0-d7bb86ade2ac",
   "metadata": {},
   "outputs": [],
   "source": [
    "import reframed\n",
    "import pandas as pd\n",
    "\n",
    "import copy"
   ]
  },
  {
   "cell_type": "code",
   "execution_count": 13,
   "id": "d9daafd6-42bd-4899-95f1-e58255063f54",
   "metadata": {},
   "outputs": [],
   "source": [
    "model = reframed.load_cbmodel(\"../output/Caproicproducens_CH14_bin_0/CH14-bin.0.xml\")\n",
    "\n",
    "media_db = pd.read_csv(\"https://raw.githubusercontent.com/cdanielmachado/carveme/master/carveme/data/input/media_db.tsv\",sep=\"\\t\")"
   ]
  },
  {
   "cell_type": "code",
   "execution_count": 14,
   "id": "f9204f6c-08b7-4d00-8e4e-f9336b742e75",
   "metadata": {},
   "outputs": [
    {
     "data": {
      "text/plain": [
       "{'R_Growth': 1.0}"
      ]
     },
     "execution_count": 14,
     "metadata": {},
     "output_type": "execute_result"
    }
   ],
   "source": [
    "model.get_objective()"
   ]
  },
  {
   "cell_type": "markdown",
   "id": "ec767122-8265-4fbc-b7bb-4eb5834d4734",
   "metadata": {},
   "source": [
    "**Model has the wrong acetate transporter**"
   ]
  },
  {
   "cell_type": "code",
   "execution_count": 15,
   "id": "c115d08c-ef6c-4b71-abb7-f29acdfeda59",
   "metadata": {},
   "outputs": [
    {
     "data": {
      "text/plain": [
       "['R_EX_ac_e', 'R_Acabc']"
      ]
     },
     "execution_count": 15,
     "metadata": {},
     "output_type": "execute_result"
    }
   ],
   "source": [
    "model.get_metabolite_reactions(\"M_ac_e\")"
   ]
  },
  {
   "cell_type": "code",
   "execution_count": 16,
   "id": "c64bac54-e1d6-4428-b54a-ea24f1934ca4",
   "metadata": {},
   "outputs": [
    {
     "data": {
      "text/plain": [
       "R_ACKr: M_ac_c + M_atp_c <-> M_actp_c + M_adp_c"
      ]
     },
     "execution_count": 16,
     "metadata": {},
     "output_type": "execute_result"
    }
   ],
   "source": [
    "model.reactions.R_ACKr"
   ]
  },
  {
   "cell_type": "code",
   "execution_count": 17,
   "id": "826ad2b2-b973-4201-b3b0-ef1458e1cf8b",
   "metadata": {},
   "outputs": [
    {
     "data": {
      "text/plain": [
       "R_PTAr: M_accoa_c + M_pi_c <-> M_actp_c + M_coa_c"
      ]
     },
     "execution_count": 17,
     "metadata": {},
     "output_type": "execute_result"
    }
   ],
   "source": [
    "model.reactions.R_PTAr"
   ]
  },
  {
   "cell_type": "markdown",
   "id": "4d382924-655e-427e-b686-2f196ad0cac6",
   "metadata": {},
   "source": [
    "**Removing previous and adding new acetate transporter**"
   ]
  },
  {
   "cell_type": "code",
   "execution_count": 18,
   "id": "fb0ae84f-ff40-4646-ad67-f6dbc78c5a8c",
   "metadata": {},
   "outputs": [
    {
     "data": {
      "text/plain": [
       "R_ACt2r: M_ac_e + M_h_e --> M_ac_c + M_h_c"
      ]
     },
     "execution_count": 18,
     "metadata": {},
     "output_type": "execute_result"
    }
   ],
   "source": [
    "model_uni = reframed.load_cbmodel(\"../input/universe_bacteria.xml\")\n",
    "model_uni.reactions.R_ACt2r"
   ]
  },
  {
   "cell_type": "code",
   "execution_count": 19,
   "id": "67f85414-2f5d-433e-943e-310474c5cd80",
   "metadata": {},
   "outputs": [],
   "source": [
    "R_ACt2r = copy.copy(model_uni.reactions.R_ACt2r)\n",
    "\n",
    "model.remove_reaction(\"R_Acabc\")\n",
    "\n",
    "model.add_reaction(R_ACt2r)"
   ]
  },
  {
   "cell_type": "code",
   "execution_count": 20,
   "id": "052718cc-428f-48b4-9ab7-2c3958ce63fd",
   "metadata": {},
   "outputs": [
    {
     "data": {
      "text/plain": [
       "True"
      ]
     },
     "execution_count": 20,
     "metadata": {},
     "output_type": "execute_result"
    }
   ],
   "source": [
    "\n",
    "model.reactions.R_ACt2r.reversible=True\n",
    "model.reactions.R_ACt2r.lb=-1000\n",
    "model.update()\n",
    "\n",
    "model.reactions.R_ACt2r.reversible"
   ]
  },
  {
   "cell_type": "markdown",
   "id": "906e119c-075c-4695-88d1-ce3cbaa11e26",
   "metadata": {},
   "source": [
    "### Test model"
   ]
  },
  {
   "cell_type": "code",
   "execution_count": 21,
   "id": "dc955681-efa0-4940-a7e2-4aa9f712ffc7",
   "metadata": {},
   "outputs": [
    {
     "name": "stdout",
     "output_type": "stream",
     "text": [
      "Set parameter Username\n",
      "Academic license - for non-commercial use only - expires 2025-03-14\n",
      "R_EX_ala__L_e -10\n",
      "R_EX_cys__L_e -10\n",
      "R_EX_glc__D_e -10\n",
      "R_EX_gsn_e   -10\n",
      "R_EX_h2o_e   -10\n",
      "R_EX_so4_e   -10\n",
      "R_EX_gly_e   -2.01094\n",
      "R_EX_pi_e    -1.20899\n",
      "R_EX_glu__L_e -0.768834\n",
      "R_EX_asp__L_e -0.716604\n",
      "R_EX_thr__L_e -0.667229\n",
      "R_EX_leu__L_e -0.552368\n",
      "R_EX_lys__L_e -0.420728\n",
      "R_EX_ura_e   -0.405567\n",
      "R_EX_arg__L_e -0.362652\n",
      "R_EX_pro__L_e -0.271022\n",
      "R_EX_hxan_e  -0.250476\n",
      "R_EX_k_e     -0.239314\n",
      "R_EX_phe__L_e -0.227142\n",
      "R_EX_met__L_e -0.188698\n",
      "R_EX_tyr__L_e -0.169112\n",
      "R_EX_his__L_e -0.116152\n",
      "R_EX_trp__L_e -0.0696916\n",
      "R_EX_mg2_e   -0.0106359\n",
      "R_EX_but_e    4.62522\n",
      "R_EX_h_e      4.74912\n",
      "R_EX_gua_e    9.70234\n",
      "R_EX_nh4_e    17.9287\n",
      "R_EX_h2s_e    19.8816\n",
      "R_EX_h2_e     36.6746\n",
      "R_EX_ac_e     39.981\n",
      "R_EX_co2_e    52.3525\n"
     ]
    }
   ],
   "source": [
    "LB_env = reframed.Environment.from_compounds(media_db[media_db.medium==\"LB[-O2]\"].compound.values)\n",
    "\n",
    "LB_env.apply(model,warning=False,inplace=True)\n",
    "\n",
    "reframed.pFBA(model).show_values(pattern=\"R_EX_\",sort=True,abstol=1e-2)"
   ]
  },
  {
   "cell_type": "code",
   "execution_count": 22,
   "id": "32452a30-d720-463f-a25a-cea52db10939",
   "metadata": {},
   "outputs": [
    {
     "data": {
      "text/plain": [
       "{'R_EX_ac_e': [39.72765181372839, 40.25205685021697],\n",
       " 'R_EX_hxa_e': [0.0, 3.9945308624399694],\n",
       " 'R_EX_but_e': [0.6306934267398674, 5.149629325669899]}"
      ]
     },
     "execution_count": 22,
     "metadata": {},
     "output_type": "execute_result"
    }
   ],
   "source": [
    "reframed.FVA(model,obj_frac=1,reactions=[\"R_EX_ac_e\",\"R_EX_hxa_e\",\"R_EX_but_e\"])"
   ]
  },
  {
   "cell_type": "markdown",
   "id": "f144783c-f63c-45f1-ac77-ebf1ba736405",
   "metadata": {},
   "source": [
    "#### Model can use lactate"
   ]
  },
  {
   "cell_type": "code",
   "execution_count": 23,
   "id": "7f6627df-b3e6-4879-bc44-fdf1b1e57af2",
   "metadata": {},
   "outputs": [
    {
     "name": "stdout",
     "output_type": "stream",
     "text": [
      "R_EX_h_e     -10\n",
      "R_EX_cys__L_e -10\n",
      "R_EX_gsn_e   -10\n",
      "R_EX_h2o_e   -10\n",
      "R_EX_lac__L_e -10\n",
      "R_EX_so4_e   -9.73513\n",
      "R_EX_ala__L_e -9.00093\n",
      "R_EX_gly_e   -0.870872\n",
      "R_EX_pi_e    -0.801721\n",
      "R_EX_glu__L_e -0.509841\n",
      "R_EX_thr__L_e -0.442463\n",
      "R_EX_leu__L_e -0.366294\n",
      "R_EX_lys__L_e -0.279\n",
      "R_EX_ura_e   -0.268946\n",
      "R_EX_arg__L_e -0.240487\n",
      "R_EX_pro__L_e -0.179724\n",
      "R_EX_hxan_e  -0.166099\n",
      "R_EX_k_e     -0.158697\n",
      "R_EX_phe__L_e -0.150626\n",
      "R_EX_met__L_e -0.125132\n",
      "R_EX_tyr__L_e -0.112144\n",
      "R_EX_his__L_e -0.0770247\n",
      "R_EX_trp__L_e -0.046215\n",
      "R_EX_but_e    3.06715\n",
      "R_EX_gua_e    9.80261\n",
      "R_EX_nh4_e    16.6895\n",
      "R_EX_h2s_e    19.6566\n",
      "R_EX_h2_e     23.3033\n",
      "R_EX_ac_e     33.8962\n",
      "R_EX_co2_e    41.3937\n"
     ]
    }
   ],
   "source": [
    "LB_env = reframed.Environment.from_compounds(media_db[media_db.medium==\"LB[-O2]\"].compound.values)\n",
    "\n",
    "LB_env.pop(\"R_EX_glc__D_e\")\n",
    "LB_env[\"R_EX_lac__L_e\"]=(-10,0)\n",
    "LB_env.apply(model,warning=False,inplace=True)\n",
    "reframed.pFBA(model).show_values(pattern=\"R_EX_\",sort=True,abstol=1e-2)"
   ]
  },
  {
   "cell_type": "code",
   "execution_count": 24,
   "id": "5e7094ce-3e96-4ef2-aceb-6858b60713e4",
   "metadata": {},
   "outputs": [
    {
     "data": {
      "text/plain": [
       "{'R_EX_ac_e': [33.89623868670155, 34.596546573222334],\n",
       " 'R_EX_hxa_e': [0.0, -0.0],\n",
       " 'R_EX_but_e': [3.0671483091190956, 3.0671483091190526]}"
      ]
     },
     "execution_count": 24,
     "metadata": {},
     "output_type": "execute_result"
    }
   ],
   "source": [
    "reframed.FVA(model,obj_frac=1,reactions=[\"R_EX_ac_e\",\"R_EX_hxa_e\",\"R_EX_but_e\"])"
   ]
  },
  {
   "cell_type": "markdown",
   "id": "de18fad1-de85-417d-9848-cd246022e20e",
   "metadata": {},
   "source": [
    "#### Model cannot grow on M9"
   ]
  },
  {
   "cell_type": "code",
   "execution_count": 25,
   "id": "875a4e31-befd-4791-bcaf-3d2e14578902",
   "metadata": {},
   "outputs": [
    {
     "name": "stdout",
     "output_type": "stream",
     "text": [
      "\n"
     ]
    }
   ],
   "source": [
    "M9_env = reframed.Environment.from_compounds(media_db[media_db.medium==\"M9[-O2]\"].compound.values)\n",
    "\n",
    "M9_env.apply(model,warning=False,inplace=True)\n",
    "\n",
    "reframed.pFBA(model).show_values(pattern=\"R_EX_\",sort=True,abstol=1e-2)"
   ]
  },
  {
   "cell_type": "markdown",
   "id": "8510ed4b-e7f5-4e98-968d-a547857c8c54",
   "metadata": {},
   "source": [
    "#### Model grows on gapfill medium"
   ]
  },
  {
   "cell_type": "code",
   "execution_count": 26,
   "id": "069cef09-1fac-4a03-8dd0-b1662937db01",
   "metadata": {},
   "outputs": [],
   "source": [
    "gapfill_media = pd.read_csv(\"../output/gapfill_media/gapfill_media.tsv\",sep=\"\\t\")"
   ]
  },
  {
   "cell_type": "code",
   "execution_count": 27,
   "id": "1813a9a2-0b6d-4988-ace8-fb30ef1bea73",
   "metadata": {},
   "outputs": [
    {
     "name": "stdout",
     "output_type": "stream",
     "text": [
      "R_EX_ascb__L_e -10\n",
      "R_EX_cys__L_e -10\n",
      "R_EX_xyl__D_e -10\n",
      "R_EX_so4_e   -8.06239\n",
      "R_EX_h2o_e   -1.14268\n",
      "R_EX_pi_e    -0.725947\n",
      "R_EX_ura_e   -0.243526\n",
      "R_EX_gua_e   -0.178733\n",
      "R_EX_k_e     -0.143698\n",
      "R_EX_nh4_e    3.13973\n",
      "R_EX_h_e      12.7415\n",
      "R_EX_h2s_e    17.878\n",
      "R_EX_h2_e     23.8928\n",
      "R_EX_ac_e     32.7424\n",
      "R_EX_co2_e    44.9839\n"
     ]
    }
   ],
   "source": [
    "gapfill_env = reframed.Environment.from_compounds(gapfill_media[gapfill_media.medium==\"CD_X\"].compound.values)\n",
    "gapfill_env.apply(model,warning=False,inplace=True)\n",
    "reframed.pFBA(model).show_values(pattern=\"R_EX_\",sort=True,abstol=1e-2)"
   ]
  },
  {
   "cell_type": "code",
   "execution_count": 28,
   "id": "a89a8ec6-627a-4406-b535-4ca6bb61015c",
   "metadata": {},
   "outputs": [
    {
     "data": {
      "text/plain": [
       "{'R_EX_ac_e': [32.742372929457396, 41.59969725107186],\n",
       " 'R_EX_hxa_e': [0.0, -0.0],\n",
       " 'R_EX_but_e': [0.0, -1.8271098919545435e-12]}"
      ]
     },
     "execution_count": 28,
     "metadata": {},
     "output_type": "execute_result"
    }
   ],
   "source": [
    "reframed.FVA(model,obj_frac=1,reactions=[\"R_EX_ac_e\",\"R_EX_hxa_e\",\"R_EX_but_e\"])"
   ]
  },
  {
   "cell_type": "markdown",
   "id": "4ac33b56-e3ac-40d2-928d-4df572f53532",
   "metadata": {},
   "source": [
    "#### Model does not grow on medium used in simulations"
   ]
  },
  {
   "cell_type": "code",
   "execution_count": 29,
   "id": "806351fa-03ff-48dc-ae3b-b1aa01b37bc0",
   "metadata": {},
   "outputs": [
    {
     "data": {
      "text/plain": [
       "{'R_Growth': 1}"
      ]
     },
     "execution_count": 29,
     "metadata": {},
     "output_type": "execute_result"
    }
   ],
   "source": [
    "model.set_objective({\"R_Growth\":1,\"R_ATPM\":0})\n",
    "model.get_objective()"
   ]
  },
  {
   "cell_type": "code",
   "execution_count": 30,
   "id": "e4e5fed9-5362-4753-853d-dcd10b68ab53",
   "metadata": {},
   "outputs": [],
   "source": [
    "media_db_constrained = pd.read_csv(\"../output/steadiercom_sample_0.1.3/media_db_constrained.tsv\",sep=\"\\t\")\n",
    "\n",
    "constrained_medium_env = reframed.Environment.from_compounds(media_db_constrained[media_db_constrained.medium==\"SC2_X\"].compound.values)\n",
    "\n",
    "SC1_X = media_db_constrained[media_db_constrained.medium==\"SC1_X\"].copy()\n",
    "bound_dict = SC1_X[[\"compound\",\"bound\"]].set_index(\"compound\",drop=True)[\"bound\"].to_dict()\n",
    "\n",
    "for met, bound in bound_dict.items():\n",
    "    constrained_medium_env[\"R_EX_\"+met+\"_e\"]=(-bound,1000)"
   ]
  },
  {
   "cell_type": "code",
   "execution_count": 31,
   "id": "1ae0fc28-fa43-4d0e-bf6a-838363115579",
   "metadata": {},
   "outputs": [
    {
     "name": "stdout",
     "output_type": "stream",
     "text": [
      "R_EX_h2o_e   -0.01408\n",
      "R_EX_cys__L_e -0.01\n",
      "R_EX_h_e     -0.00138825\n",
      "R_EX_so4_e   -0.000474832\n",
      "R_EX_pi_e    -9.18536e-05\n",
      "R_EX_k_e     -1.8182e-05\n",
      "R_EX_ascb__L_e -1e-05\n",
      "R_EX_mg2_e   -8.08068e-07\n",
      "R_EX_fe3_e   -7.27307e-07\n",
      "R_EX_fe2_e   -6.2666e-07\n",
      "R_EX_ca2_e   -4.8484e-07\n",
      "R_EX_cl_e    -4.8484e-07\n",
      "R_EX_cu2_e   -6.60426e-08\n",
      "R_EX_mn2_e   -6.4366e-08\n",
      "R_EX_pnto__R_e -5.36538e-08\n",
      "R_EX_ribflv_e -4.15445e-08\n",
      "R_EX_zn2_e   -3.17638e-08\n",
      "R_EX_thm_e   -1.72791e-08\n",
      "R_EX_cobalt2_e -9.31493e-09\n",
      "R_EX_pheme_e  1.16436e-09\n",
      "R_EX_5drib_e  2.32872e-09\n",
      "R_EX_4hba_e   3.49309e-09\n",
      "R_EX_h2_e     0.0055515\n",
      "R_EX_ac_e     0.00861186\n",
      "R_EX_co2_e    0.00886337\n",
      "R_EX_nh4_e    0.00895727\n",
      "R_EX_h2s_e    0.0104515\n"
     ]
    }
   ],
   "source": [
    "constrained_medium_env.apply(model,warning=False,inplace=True)\n",
    "reframed.pFBA(model).show_values(pattern=\"R_EX_\",sort=True)"
   ]
  },
  {
   "cell_type": "code",
   "execution_count": 32,
   "id": "2305eac0-61b3-4a5f-8311-5483a19a57cf",
   "metadata": {},
   "outputs": [
    {
     "data": {
      "text/plain": [
       "{'R_EX_ac_e': [0.008611864868608111, 0.008611864868607783],\n",
       " 'R_EX_hxa_e': [0.0, -0.0],\n",
       " 'R_EX_but_e': [0.0, -0.0]}"
      ]
     },
     "execution_count": 32,
     "metadata": {},
     "output_type": "execute_result"
    }
   ],
   "source": [
    "reframed.FVA(model,obj_frac=1,reactions=[\"R_EX_ac_e\",\"R_EX_hxa_e\",\"R_EX_but_e\"])"
   ]
  },
  {
   "cell_type": "markdown",
   "id": "95918cef-0c90-4c21-a67d-fa8c97dc08b0",
   "metadata": {},
   "source": [
    "##### SynCon1 with lactate"
   ]
  },
  {
   "cell_type": "code",
   "execution_count": 33,
   "id": "51f5544c-0be6-4405-8a77-2394cf55aa62",
   "metadata": {},
   "outputs": [],
   "source": [
    "constrained_medium_env[\"R_EX_lac__L_e\"]=(-10,0)"
   ]
  },
  {
   "cell_type": "code",
   "execution_count": 34,
   "id": "bef98171-cd4b-49c3-9cf1-f4871189fb91",
   "metadata": {},
   "outputs": [
    {
     "name": "stdout",
     "output_type": "stream",
     "text": [
      "0.09753270309327292\n",
      "R_EX_lac__L_e -10\n",
      "R_EX_h2o_e   -5.72448\n",
      "R_EX_nh4_e   -1.0818\n",
      "R_EX_h_e     -0.50551\n",
      "R_EX_pi_e    -0.0961763\n",
      "R_EX_k_e     -0.0190377\n",
      "R_EX_so4_e   -0.0144261\n",
      "R_EX_cys__L_e -0.01\n",
      "R_EX_ac_e     8.5391\n",
      "R_EX_co2_e    8.79198\n",
      "R_EX_h2_e     17.2483\n"
     ]
    }
   ],
   "source": [
    "constrained_medium_env.apply(model,warning=False,inplace=True)\n",
    "sol = reframed.pFBA(model)\n",
    "print(sol.values[\"R_Growth\"])\n",
    "sol.show_values(pattern=\"R_EX_\",sort=True,abstol=1e-3)"
   ]
  },
  {
   "cell_type": "code",
   "execution_count": 35,
   "id": "40f82159-805e-40d6-96d5-cfc649784b20",
   "metadata": {},
   "outputs": [
    {
     "name": "stdout",
     "output_type": "stream",
     "text": [
      "10.010033333333332\n",
      "R_EX_h2o_e   -10.02\n",
      "R_EX_lac__L_e -10\n",
      "R_EX_cys__L_e -0.01\n",
      "R_EX_nh4_e    0.01\n",
      "R_EX_h2s_e    0.01\n",
      "R_EX_ac_e     10.01\n",
      "R_EX_co2_e    10.01\n",
      "R_EX_h2_e     20.01\n"
     ]
    }
   ],
   "source": [
    "sol = reframed.pFBA(model,objective={\"R_ATPM\":1,\"R_Growth\":0})\n",
    "print(sol.values[\"R_ATPM\"])\n",
    "sol.show_values(pattern=\"R_EX_\",sort=True,abstol=1e-3)"
   ]
  },
  {
   "cell_type": "code",
   "execution_count": 36,
   "id": "988c54e1-4adc-4333-8d6a-b6d65187f4e2",
   "metadata": {},
   "outputs": [
    {
     "name": "stdout",
     "output_type": "stream",
     "text": [
      "[ --> o ] R_POR_syn     20.02    \tM_coa_c + 2.0 M_fdxo_2_2_c + M_pyr_c --> M_accoa_c + M_co2_c + 2.0 M_fdxrd_c + M_h_c\n",
      "[ o --> ] R_FRROX      -20       \tM_nadh_c + 2.0 M_fdxrd_c + M_h_c + 2.0 M_nadp_c --> 2.0 M_fdxo_2_2_c + M_nad_c + 2.0 M_nadph_c\n",
      "[ <-- o ] R_FNRR3_1    -0.02     \t2.0 M_fdxo_2_2_c + M_h2_c <-> 2.0 M_fdxrd_c + 2.0 M_h_c\n"
     ]
    }
   ],
   "source": [
    "sol.show_metabolite_balance(\"M_fdxrd_c\",model,abstol=1e-4,equations=True)"
   ]
  },
  {
   "cell_type": "code",
   "execution_count": 37,
   "id": "9a982235-8c16-4240-9255-e90f5b37080e",
   "metadata": {
    "tags": []
   },
   "outputs": [
    {
     "name": "stdout",
     "output_type": "stream",
     "text": [
      "[ o <-- ] R_ACKr        10.01    \tM_ac_c + M_atp_c <-> M_actp_c + M_adp_c\n",
      "[ o --> ] R_ATPM       -10.01    \tM_atp_c + M_h2o_c --> M_adp_c + M_h_c + M_pi_c\n"
     ]
    }
   ],
   "source": [
    "sol.show_metabolite_balance(\"M_atp_c\",model,abstol=1e-1,equations=True)"
   ]
  },
  {
   "cell_type": "code",
   "execution_count": 38,
   "id": "3089175b-5703-4bb6-b5c0-5737ffb43529",
   "metadata": {},
   "outputs": [
    {
     "data": {
      "text/plain": [
       "{'R_EX_ac_e': [8.53910317304766, 8.53910317304766],\n",
       " 'R_EX_hxa_e': [0.0, -0.0],\n",
       " 'R_EX_but_e': [0.0, -0.0]}"
      ]
     },
     "execution_count": 38,
     "metadata": {},
     "output_type": "execute_result"
    }
   ],
   "source": [
    "reframed.FVA(model,obj_frac=1,reactions=[\"R_EX_ac_e\",\"R_EX_hxa_e\",\"R_EX_but_e\"])"
   ]
  },
  {
   "cell_type": "markdown",
   "id": "2b57184c-74ff-4341-bf30-92a5a4df2853",
   "metadata": {},
   "source": [
    "##### SynCon1 with D-xylose"
   ]
  },
  {
   "cell_type": "code",
   "execution_count": 39,
   "id": "5482bdfe-2d07-49f0-94a0-40d4638fe06e",
   "metadata": {},
   "outputs": [],
   "source": [
    "constrained_medium_env.pop(\"R_EX_lac__L_e\")\n",
    "constrained_medium_env[\"R_EX_xyl__D_e\"]=(-10,0)"
   ]
  },
  {
   "cell_type": "code",
   "execution_count": 40,
   "id": "67fe3d54-c1cd-4a4e-a4e1-328286049191",
   "metadata": {},
   "outputs": [
    {
     "name": "stdout",
     "output_type": "stream",
     "text": [
      "0.27556816862128863\n",
      "R_EX_xyl__D_e -10\n",
      "R_EX_so4_e   -6.40472\n",
      "R_EX_nh4_e   -3.07476\n",
      "R_EX_pi_e    -0.271736\n",
      "R_EX_k_e     -0.053789\n",
      "R_EX_cys__L_e -0.01\n",
      "R_EX_mg2_e   -0.00239055\n",
      "R_EX_fe3_e   -0.00215164\n",
      "R_EX_fe2_e   -0.00185388\n",
      "R_EX_ca2_e   -0.00143433\n",
      "R_EX_cl_e    -0.00143433\n",
      "R_EX_h2_e     0.0844972\n",
      "R_EX_h_e      2.51044\n",
      "R_EX_h2s_e    6.34571\n",
      "R_EX_ac_e     12.5208\n",
      "R_EX_co2_e    13.2352\n",
      "R_EX_h2o_e    20.9058\n"
     ]
    }
   ],
   "source": [
    "constrained_medium_env.apply(model,warning=False,inplace=True)\n",
    "sol = reframed.pFBA(model)\n",
    "print(sol.values[\"R_Growth\"])\n",
    "sol.show_values(pattern=\"R_EX_\",sort=True,abstol=1e-3)"
   ]
  },
  {
   "cell_type": "code",
   "execution_count": 41,
   "id": "95fd3aab-a46c-47df-8673-4588b2b62b1c",
   "metadata": {},
   "outputs": [
    {
     "name": "stdout",
     "output_type": "stream",
     "text": [
      "28.34336666666667\n",
      "R_EX_xyl__D_e -10\n",
      "R_EX_so4_e   -5\n",
      "R_EX_cys__L_e -0.01\n",
      "R_EX_nh4_e    0.01\n",
      "R_EX_h2o_e    3.31331\n",
      "R_EX_h2s_e    5.01\n",
      "R_EX_h_e      6.66668\n",
      "R_EX_h2_e     13.3434\n",
      "R_EX_ac_e     16.6767\n",
      "R_EX_co2_e    16.6767\n"
     ]
    }
   ],
   "source": [
    "sol = reframed.pFBA(model,objective={\"R_ATPM\":1,\"R_Growth\":0})\n",
    "print(sol.values[\"R_ATPM\"])\n",
    "sol.show_values(pattern=\"R_EX_\",sort=True,abstol=1e-3)"
   ]
  },
  {
   "cell_type": "code",
   "execution_count": 42,
   "id": "bee8c1d0-3dac-48f7-a1dc-e6f9e6ec5c37",
   "metadata": {},
   "outputs": [
    {
     "name": "stdout",
     "output_type": "stream",
     "text": [
      "[ --> o ] R_POR_syn     33.3534  \tM_coa_c + 2.0 M_fdxo_2_2_c + M_pyr_c --> M_accoa_c + M_co2_c + 2.0 M_fdxrd_c + M_h_c\n",
      "[ o --> ] R_FRROX      -33.3334  \tM_nadh_c + 2.0 M_fdxrd_c + M_h_c + 2.0 M_nadp_c --> 2.0 M_fdxo_2_2_c + M_nad_c + 2.0 M_nadph_c\n",
      "[ <-- o ] R_FNRR3_1    -0.02     \t2.0 M_fdxo_2_2_c + M_h2_c <-> 2.0 M_fdxrd_c + 2.0 M_h_c\n"
     ]
    }
   ],
   "source": [
    "sol.show_metabolite_balance(\"M_fdxrd_c\",model,abstol=1e-4,equations=True)"
   ]
  },
  {
   "cell_type": "code",
   "execution_count": 43,
   "id": "93642b11-0669-4a25-bc5f-6068271789d2",
   "metadata": {
    "tags": []
   },
   "outputs": [
    {
     "name": "stdout",
     "output_type": "stream",
     "text": [
      "[ --> o ] R_PYK         13.3333  \tM_adp_c + M_h_c + M_pep_c --> M_atp_c + M_pyr_c\n",
      "[ o <-- ] R_ACKr        16.6767  \tM_ac_c + M_atp_c <-> M_actp_c + M_adp_c\n",
      "[ o <-- ] R_PGK         16.6667  \tM_3pg_c + M_atp_c <-> M_13dpg_c + M_adp_c\n",
      "[ o --> ] R_PFK_3      -3.33334  \tM_atp_c + M_s7p_c --> M_adp_c + M_h_c + M_s17bp_c\n",
      "[ o --> ] R_SULabc     -5        \tM_atp_c + M_h2o_c + M_so4_e --> M_adp_c + M_h_c + M_pi_c + M_so4_c\n",
      "[ o --> ] R_XYLK       -10       \tM_atp_c + M_xylu__D_c --> M_adp_c + M_h_c + M_xu5p__D_c\n",
      "[ o --> ] R_ATPM       -28.3434  \tM_atp_c + M_h2o_c --> M_adp_c + M_h_c + M_pi_c\n"
     ]
    }
   ],
   "source": [
    "sol.show_metabolite_balance(\"M_atp_c\",model,abstol=1e-1,equations=True)"
   ]
  },
  {
   "cell_type": "markdown",
   "id": "2addf266-1327-41d6-a9e4-35e583fef742",
   "metadata": {},
   "source": [
    "### RNF -  H+/Na+-translocating ferredoxin:NAD+ oxidoreductase"
   ]
  },
  {
   "cell_type": "code",
   "execution_count": 44,
   "id": "b71bef4b-6639-43bc-98bb-32dc82c76313",
   "metadata": {},
   "outputs": [],
   "source": [
    "from reframed.io.sbml import parse_gpr_rule"
   ]
  },
  {
   "cell_type": "code",
   "execution_count": 45,
   "id": "3562ae8c-d7d9-4c1c-bdd2-00ecd649dd84",
   "metadata": {},
   "outputs": [
    {
     "data": {
      "text/plain": [
       "R_ATPS4rpp: M_adp_c + 4.0 M_h_p + M_pi_c <-> M_atp_c + M_h2o_c + 3.0 M_h_c"
      ]
     },
     "execution_count": 45,
     "metadata": {},
     "output_type": "execute_result"
    }
   ],
   "source": [
    "model.reactions.R_ATPS4rpp"
   ]
  },
  {
   "cell_type": "markdown",
   "id": "ee455d40-f944-41ce-a945-7c21499afaa3",
   "metadata": {},
   "source": [
    "**Results from BlastKOALA search (14.08.24) show that RNF-related proteins exist in our MAG**"
   ]
  },
  {
   "cell_type": "code",
   "execution_count": 46,
   "id": "4cff667c-0df8-4ec5-8a94-a975e7d24980",
   "metadata": {},
   "outputs": [
    {
     "data": {
      "text/html": [
       "<div>\n",
       "<style scoped>\n",
       "    .dataframe tbody tr th:only-of-type {\n",
       "        vertical-align: middle;\n",
       "    }\n",
       "\n",
       "    .dataframe tbody tr th {\n",
       "        vertical-align: top;\n",
       "    }\n",
       "\n",
       "    .dataframe thead th {\n",
       "        text-align: right;\n",
       "    }\n",
       "</style>\n",
       "<table border=\"1\" class=\"dataframe\">\n",
       "  <thead>\n",
       "    <tr style=\"text-align: right;\">\n",
       "      <th></th>\n",
       "      <th>gene</th>\n",
       "      <th>KO</th>\n",
       "      <th>description</th>\n",
       "    </tr>\n",
       "  </thead>\n",
       "  <tbody>\n",
       "    <tr>\n",
       "      <th>966</th>\n",
       "      <td>gene3270</td>\n",
       "      <td>K03616</td>\n",
       "      <td>rnfB; H+/Na+-translocating ferredoxin:NAD+ oxi...</td>\n",
       "    </tr>\n",
       "    <tr>\n",
       "      <th>967</th>\n",
       "      <td>gene3275</td>\n",
       "      <td>K03617</td>\n",
       "      <td>rnfA; H+/Na+-translocating ferredoxin:NAD+ oxi...</td>\n",
       "    </tr>\n",
       "    <tr>\n",
       "      <th>968</th>\n",
       "      <td>gene3277</td>\n",
       "      <td>K03613</td>\n",
       "      <td>rnfE; H+/Na+-translocating ferredoxin:NAD+ oxi...</td>\n",
       "    </tr>\n",
       "    <tr>\n",
       "      <th>969</th>\n",
       "      <td>gene3280</td>\n",
       "      <td>K03612</td>\n",
       "      <td>rnfG; H+/Na+-translocating ferredoxin:NAD+ oxi...</td>\n",
       "    </tr>\n",
       "    <tr>\n",
       "      <th>970</th>\n",
       "      <td>gene3282</td>\n",
       "      <td>K03614</td>\n",
       "      <td>rnfD; H+/Na+-translocating ferredoxin:NAD+ oxi...</td>\n",
       "    </tr>\n",
       "    <tr>\n",
       "      <th>971</th>\n",
       "      <td>gene3286</td>\n",
       "      <td>K03615</td>\n",
       "      <td>rnfC; H+/Na+-translocating ferredoxin:NAD+ oxi...</td>\n",
       "    </tr>\n",
       "    <tr>\n",
       "      <th>2692</th>\n",
       "      <td>gene9189</td>\n",
       "      <td>K03614</td>\n",
       "      <td>rnfD; H+/Na+-translocating ferredoxin:NAD+ oxi...</td>\n",
       "    </tr>\n",
       "    <tr>\n",
       "      <th>2693</th>\n",
       "      <td>gene9195</td>\n",
       "      <td>K03613</td>\n",
       "      <td>rnfE; H+/Na+-translocating ferredoxin:NAD+ oxi...</td>\n",
       "    </tr>\n",
       "  </tbody>\n",
       "</table>\n",
       "</div>"
      ],
      "text/plain": [
       "          gene      KO                                        description\n",
       "966   gene3270  K03616  rnfB; H+/Na+-translocating ferredoxin:NAD+ oxi...\n",
       "967   gene3275  K03617  rnfA; H+/Na+-translocating ferredoxin:NAD+ oxi...\n",
       "968   gene3277  K03613  rnfE; H+/Na+-translocating ferredoxin:NAD+ oxi...\n",
       "969   gene3280  K03612  rnfG; H+/Na+-translocating ferredoxin:NAD+ oxi...\n",
       "970   gene3282  K03614  rnfD; H+/Na+-translocating ferredoxin:NAD+ oxi...\n",
       "971   gene3286  K03615  rnfC; H+/Na+-translocating ferredoxin:NAD+ oxi...\n",
       "2692  gene9189  K03614  rnfD; H+/Na+-translocating ferredoxin:NAD+ oxi...\n",
       "2693  gene9195  K03613  rnfE; H+/Na+-translocating ferredoxin:NAD+ oxi..."
      ]
     },
     "execution_count": 46,
     "metadata": {},
     "output_type": "execute_result"
    }
   ],
   "source": [
    "blast_koala_results = pd.read_table(\"../output/Caproicproducens_CH14_bin_0/user_ko_definition.txt\",header=None)\n",
    "blast_koala_results = blast_koala_results[[0,1,2]].copy()\n",
    "blast_koala_results.columns=[\"gene\",\"KO\",\"description\"]\n",
    "blast_koala_results = blast_koala_results.dropna()\n",
    "\n",
    "blast_koala_results[blast_koala_results.description.str.contains(\"rnf\")]"
   ]
  },
  {
   "cell_type": "markdown",
   "id": "61a259bb-f2ef-4c28-9146-eb0e847f4182",
   "metadata": {},
   "source": [
    "**Adding this protein**"
   ]
  },
  {
   "cell_type": "code",
   "execution_count": 47,
   "id": "f423410b-4a6b-4aa6-a404-ee791c5ee1a5",
   "metadata": {},
   "outputs": [],
   "source": [
    "gpr = parse_gpr_rule(\"G_gene3275 and G_gene3270 and G_gene3286 and (G_gene3282 or G_gene9189) and (G_gene9195 or G_gene3277) and G_gene3280\")"
   ]
  },
  {
   "cell_type": "code",
   "execution_count": 48,
   "id": "a855a63b-af82-4051-8707-c6c2f489b3c9",
   "metadata": {},
   "outputs": [],
   "source": [
    "R_RnfH2_2 = reframed.CBReaction(\"R_RnfH2_2\",\n",
    "                    name=\"energy-converting NADH:ferredoxin oxidoreductase transport of H+\",\n",
    "                   reversible=False,\n",
    "                   stoichiometry={'M_nad_c':-1,'M_fdxrd_c':-2, 'M_h_c':-2, 'M_nadh_c':1,'M_fdxo_2_2_c':2,'M_h_p':1},\n",
    "                    gpr_association=gpr\n",
    "                   )"
   ]
  },
  {
   "cell_type": "code",
   "execution_count": 49,
   "id": "3b769801-ff12-4a5a-858c-90ab19d5c18b",
   "metadata": {},
   "outputs": [
    {
     "name": "stdout",
     "output_type": "stream",
     "text": [
      "\u001b[92mThere are NO energy producing cycles in the model\u001b[0m\n"
     ]
    }
   ],
   "source": [
    "results = EGC.EGC_identifier(model)"
   ]
  },
  {
   "cell_type": "code",
   "execution_count": 50,
   "id": "8565e42d-39e1-41b2-a99f-950bfbc7a317",
   "metadata": {},
   "outputs": [],
   "source": [
    "model.add_reaction(R_RnfH2_2)\n",
    "model.update()"
   ]
  },
  {
   "cell_type": "code",
   "execution_count": 51,
   "id": "c4c88ce8-f278-46e2-82cd-1d1cd82c4c64",
   "metadata": {},
   "outputs": [
    {
     "name": "stdout",
     "output_type": "stream",
     "text": [
      "\u001b[91mThere ARE energy producing cycles in the model\u001b[0m\n"
     ]
    }
   ],
   "source": [
    "results = EGC.EGC_identifier(model)"
   ]
  },
  {
   "cell_type": "code",
   "execution_count": 52,
   "id": "099c1d71-414e-4a07-8031-e0bab94d79de",
   "metadata": {},
   "outputs": [
    {
     "data": {
      "text/plain": [
       "{'R_ATPM': [('R_ATPS4rpp', 250.0),\n",
       "  ('R_FNOR', -1000.0),\n",
       "  ('R_G3PD1ir', 1000.0),\n",
       "  ('R_G3PD2', 1000.0),\n",
       "  ('R_ATPM', 250.0),\n",
       "  ('R_RnfH2_2', 1000.0)],\n",
       " 'R_CTPM': [('R_ALCD4', -1000.0),\n",
       "  ('R_ALCD4y', 1000.0),\n",
       "  ('R_ATPS4rpp', 250.0),\n",
       "  ('R_FNOR', -1000.0),\n",
       "  ('R_NDPK3', 250.0),\n",
       "  ('R_RnfH2_2', 1000.0),\n",
       "  ('R_CTPM', 250.0)],\n",
       " 'R_GTPM': [('R_ATPS4rpp', 250.0),\n",
       "  ('R_FNOR', -1000.0),\n",
       "  ('R_GLUDxi', -1000.0),\n",
       "  ('R_GLUDy', 1000.0),\n",
       "  ('R_PPK50_B', 5.319148936170213),\n",
       "  ('R_PPK50r', 5.319148936170222),\n",
       "  ('R_RnfH2_2', 1000.0),\n",
       "  ('R_GTPM', 250.0)],\n",
       " 'R_UTPM': [('R_ATPS4rpp', 250.0),\n",
       "  ('R_FNOR', -1000.0000000000001),\n",
       "  ('R_NDPK2', 250.0),\n",
       "  ('R_SHK3Dr', -1000.0000000000002),\n",
       "  ('R_SKDH_1', 1000.0000000000002),\n",
       "  ('R_RnfH2_2', 1000.0000000000001),\n",
       "  ('R_UTPM', 250.00000000000003)],\n",
       " 'R_ITPM': [('R_ADK1', 250.0),\n",
       "  ('R_ADK4', -250.0),\n",
       "  ('R_ATPS4rpp', 250.0),\n",
       "  ('R_FNOR', -1000.0),\n",
       "  ('R_SHK3Dr', -1000.0),\n",
       "  ('R_SKDH_1', 1000.0),\n",
       "  ('R_RnfH2_2', 1000.0),\n",
       "  ('R_ITPM', 250.0)],\n",
       " 'R_accoaM': [('R_ACKr', 250.0),\n",
       "  ('R_ATPS4rpp', 250.0),\n",
       "  ('R_FNOR', -1000.0),\n",
       "  ('R_GLUDxi', -1000.0),\n",
       "  ('R_GLUDy', 1000.0),\n",
       "  ('R_PTAr', -250.0),\n",
       "  ('R_RnfH2_2', 1000.0),\n",
       "  ('R_accoaM', 250.0)],\n",
       " 'R_protonM': [('R_ALCD4', -1000.0),\n",
       "  ('R_ALCD4y', 1000.0),\n",
       "  ('R_FNOR', -1000.0),\n",
       "  ('R_RnfH2_2', 1000.0),\n",
       "  ('R_protonM', 1000.0)]}"
      ]
     },
     "execution_count": 52,
     "metadata": {},
     "output_type": "execute_result"
    }
   ],
   "source": [
    "results"
   ]
  },
  {
   "cell_type": "markdown",
   "id": "891e6070-236c-4732-a61c-fa0a0b41943d",
   "metadata": {},
   "source": [
    "**These reactions (FNOR and Hnd) are likely only going in this direction**"
   ]
  },
  {
   "cell_type": "code",
   "execution_count": 53,
   "id": "79c03fde-0224-4570-8f69-c8f962652398",
   "metadata": {},
   "outputs": [
    {
     "data": {
      "text/plain": [
       "R_FNOR: 2.0 M_fdxrd_c + M_h_c + M_nadp_c <-> 2.0 M_fdxo_2_2_c + M_nadph_c"
      ]
     },
     "execution_count": 53,
     "metadata": {},
     "output_type": "execute_result"
    }
   ],
   "source": [
    "model.reactions.R_FNOR"
   ]
  },
  {
   "cell_type": "code",
   "execution_count": 54,
   "id": "a327b907-993f-4052-95e9-a155b67a3cc2",
   "metadata": {},
   "outputs": [
    {
     "data": {
      "text/plain": [
       "'Ferredoxin---NADP+ reductase'"
      ]
     },
     "execution_count": 54,
     "metadata": {},
     "output_type": "execute_result"
    }
   ],
   "source": [
    "model.reactions.R_FNOR.name"
   ]
  },
  {
   "cell_type": "code",
   "execution_count": 55,
   "id": "b3964f8f-6b52-4101-a1f8-f8cad8b2c174",
   "metadata": {},
   "outputs": [],
   "source": [
    "model.reactions.R_FNOR.reversible=False\n",
    "model.reactions.R_FNOR.lb=0"
   ]
  },
  {
   "cell_type": "code",
   "execution_count": 56,
   "id": "43d98525-e3d4-4b34-b3f1-a926bc46c149",
   "metadata": {},
   "outputs": [
    {
     "name": "stdout",
     "output_type": "stream",
     "text": [
      "\u001b[91mThere ARE energy producing cycles in the model\u001b[0m\n"
     ]
    }
   ],
   "source": [
    "results = EGC.EGC_identifier(model)"
   ]
  },
  {
   "cell_type": "code",
   "execution_count": 57,
   "id": "7c4721ae-774e-43f6-8fde-e973d7969415",
   "metadata": {},
   "outputs": [
    {
     "data": {
      "text/plain": [
       "{'R_ATPM': [('R_ATPS4rpp', 250.0),\n",
       "  ('R_G3PD1ir', 1000.0),\n",
       "  ('R_G3PD2', 1000.0),\n",
       "  ('R_ATPM', 250.0),\n",
       "  ('R_FNRR3_1', 1000.0),\n",
       "  ('R_Hnd', -1000.0),\n",
       "  ('R_RnfH2_2', 1000.0)],\n",
       " 'R_CTPM': [('R_ATPS4rpp', 250.0),\n",
       "  ('R_GLUDxi', -1000.0),\n",
       "  ('R_GLUDy', 1000.0),\n",
       "  ('R_NDPK3', 250.0),\n",
       "  ('R_FNRR3_1', 1000.0),\n",
       "  ('R_Hnd', -1000.0),\n",
       "  ('R_RnfH2_2', 1000.0),\n",
       "  ('R_CTPM', 250.0)],\n",
       " 'R_GTPM': [('R_ATPS4rpp', 250.0),\n",
       "  ('R_G3PD1ir', 1000.0),\n",
       "  ('R_G3PD2', 1000.0),\n",
       "  ('R_PPK50_B', 5.319148936170213),\n",
       "  ('R_PPK50r', 5.319148936170222),\n",
       "  ('R_FNRR3_1', 1000.0),\n",
       "  ('R_Hnd', -1000.0),\n",
       "  ('R_RnfH2_2', 1000.0),\n",
       "  ('R_GTPM', 250.0)],\n",
       " 'R_UTPM': [('R_ATPS4rpp', 250.0),\n",
       "  ('R_G3PD1ir', 1000.0),\n",
       "  ('R_G3PD2', 1000.0),\n",
       "  ('R_NDPK2', 250.0),\n",
       "  ('R_FNRR3_1', 1000.0),\n",
       "  ('R_Hnd', -1000.0),\n",
       "  ('R_RnfH2_2', 1000.0),\n",
       "  ('R_UTPM', 250.0)],\n",
       " 'R_ITPM': [('R_ADK1', 250.0),\n",
       "  ('R_ADK4', -250.0),\n",
       "  ('R_ATPS4rpp', 250.0),\n",
       "  ('R_G3PD1ir', 1000.0),\n",
       "  ('R_G3PD2', 1000.0),\n",
       "  ('R_FNRR3_1', 1000.0),\n",
       "  ('R_Hnd', -1000.0),\n",
       "  ('R_RnfH2_2', 1000.0),\n",
       "  ('R_ITPM', 250.0)],\n",
       " 'R_accoaM': [('R_ACKr', 250.0),\n",
       "  ('R_ATPS4rpp', 250.0),\n",
       "  ('R_G3PD1ir', 1000.0),\n",
       "  ('R_G3PD2', 1000.0),\n",
       "  ('R_PTAr', -250.0),\n",
       "  ('R_FNRR3_1', 1000.0),\n",
       "  ('R_Hnd', -1000.0),\n",
       "  ('R_RnfH2_2', 1000.0),\n",
       "  ('R_accoaM', 250.0)],\n",
       " 'R_protonM': [('R_SHK3Dr', -1000.0000000000001),\n",
       "  ('R_SKDH_1', 1000.0000000000001),\n",
       "  ('R_FNRR3_1', 1000.0),\n",
       "  ('R_Hnd', -1000.0000000000001),\n",
       "  ('R_RnfH2_2', 1000.0000000000001),\n",
       "  ('R_protonM', 1000.0)]}"
      ]
     },
     "execution_count": 57,
     "metadata": {},
     "output_type": "execute_result"
    }
   ],
   "source": [
    "results"
   ]
  },
  {
   "cell_type": "code",
   "execution_count": 58,
   "id": "9b457c53-4496-45d8-9e1b-98c65426d79d",
   "metadata": {},
   "outputs": [
    {
     "data": {
      "text/plain": [
       "R_Hnd: M_h2_c + M_nadp_c <-> M_nadph_c + M_h_c"
      ]
     },
     "execution_count": 58,
     "metadata": {},
     "output_type": "execute_result"
    }
   ],
   "source": [
    "model.reactions.R_Hnd"
   ]
  },
  {
   "cell_type": "code",
   "execution_count": 59,
   "id": "29bdd569-ade6-4891-9951-4579ace38afa",
   "metadata": {},
   "outputs": [
    {
     "data": {
      "text/plain": [
       "'hydrogen:NADP+ oxidoreductase'"
      ]
     },
     "execution_count": 59,
     "metadata": {},
     "output_type": "execute_result"
    }
   ],
   "source": [
    "model.reactions.R_Hnd.name"
   ]
  },
  {
   "cell_type": "code",
   "execution_count": 60,
   "id": "eacbb487-c964-494a-b0d3-f655260b1d9c",
   "metadata": {},
   "outputs": [],
   "source": [
    "model.reactions.R_Hnd.reversible=False\n",
    "model.reactions.R_Hnd.lb=0"
   ]
  },
  {
   "cell_type": "code",
   "execution_count": 61,
   "id": "42393ec7-2d32-45b7-b40a-3c8c0d95e413",
   "metadata": {},
   "outputs": [
    {
     "name": "stdout",
     "output_type": "stream",
     "text": [
      "\u001b[92mThere are NO energy producing cycles in the model\u001b[0m\n"
     ]
    }
   ],
   "source": [
    "results = EGC.EGC_identifier(model)"
   ]
  },
  {
   "cell_type": "code",
   "execution_count": 62,
   "id": "65dd9723-e89e-43e4-a0a3-52f6b37a545a",
   "metadata": {},
   "outputs": [
    {
     "data": {
      "text/plain": [
       "{}"
      ]
     },
     "execution_count": 62,
     "metadata": {},
     "output_type": "execute_result"
    }
   ],
   "source": [
    "results"
   ]
  },
  {
   "cell_type": "code",
   "execution_count": 63,
   "id": "46f16229-4f27-4b74-8d54-914a189304f1",
   "metadata": {},
   "outputs": [],
   "source": [
    "model.update()"
   ]
  },
  {
   "cell_type": "code",
   "execution_count": 64,
   "id": "33577031-085e-4a19-94ed-1351e71661e6",
   "metadata": {},
   "outputs": [
    {
     "name": "stdout",
     "output_type": "stream",
     "text": [
      "0.30326536830876416\n",
      "R_EX_xyl__D_e -10\n",
      "R_EX_so4_e   -6.23388\n",
      "R_EX_nh4_e   -3.3848\n",
      "R_EX_pi_e    -0.299048\n",
      "R_EX_k_e     -0.0591953\n",
      "R_EX_cys__L_e -0.01\n",
      "R_EX_mg2_e   -0.00263083\n",
      "R_EX_fe3_e   -0.0023679\n",
      "R_EX_fe2_e   -0.00204022\n",
      "R_EX_ca2_e   -0.0015785\n",
      "R_EX_cl_e    -0.0015785\n",
      "R_EX_h_e      2.71441\n",
      "R_EX_h2s_e    6.16793\n",
      "R_EX_ac_e     12.1031\n",
      "R_EX_co2_e    12.8893\n",
      "R_EX_h2o_e    21.4258\n"
     ]
    }
   ],
   "source": [
    "constrained_medium_env.apply(model,warning=False,inplace=True)\n",
    "sol = reframed.pFBA(model)#,constraints={\"R_EX_but_e\":0})\n",
    "print(sol.values[\"R_Growth\"])\n",
    "sol.show_values(pattern=\"R_EX_\",sort=True,abstol=1e-3)"
   ]
  },
  {
   "cell_type": "code",
   "execution_count": 65,
   "id": "222e5351-e99e-425f-833e-98ec0f86709d",
   "metadata": {},
   "outputs": [
    {
     "data": {
      "text/plain": [
       "(-10, 0)"
      ]
     },
     "execution_count": 65,
     "metadata": {},
     "output_type": "execute_result"
    }
   ],
   "source": [
    "constrained_medium_env[\"R_EX_lac__L_e\"]=(-10,0)\n",
    "constrained_medium_env.pop(\"R_EX_xyl__D_e\")"
   ]
  },
  {
   "cell_type": "code",
   "execution_count": 66,
   "id": "f166190b-8fa9-401e-9635-777ac79bb672",
   "metadata": {},
   "outputs": [
    {
     "name": "stdout",
     "output_type": "stream",
     "text": [
      "0.08057991722761619\n",
      "R_EX_lac__L_e -10\n",
      "R_EX_h_e     -4.35479\n",
      "R_EX_so4_e   -1.52316\n",
      "R_EX_nh4_e   -0.892025\n",
      "R_EX_pi_e    -0.0794593\n",
      "R_EX_k_e     -0.0157286\n",
      "R_EX_cys__L_e -0.01\n",
      "R_EX_but_e    0.914658\n",
      "R_EX_h2o_e    1.40318\n",
      "R_EX_h2s_e    1.51298\n",
      "R_EX_ac_e     6.96546\n",
      "R_EX_co2_e    9.0037\n",
      "R_EX_h2_e     9.85403\n"
     ]
    }
   ],
   "source": [
    "constrained_medium_env.apply(model,warning=False,inplace=True)\n",
    "sol = reframed.pFBA(model)#,constraints={\"R_EX_but_e\":0})\n",
    "print(sol.values[\"R_Growth\"])\n",
    "sol.show_values(pattern=\"R_EX_\",sort=True,abstol=1e-3)"
   ]
  },
  {
   "cell_type": "code",
   "execution_count": 72,
   "id": "711cafbd-917a-4805-9683-ae919f05b800",
   "metadata": {},
   "outputs": [
    {
     "data": {
      "text/plain": [
       "(-10, 0)"
      ]
     },
     "execution_count": 72,
     "metadata": {},
     "output_type": "execute_result"
    }
   ],
   "source": [
    "constrained_medium_env[\"R_EX_etoh_e\"]=(-10,0)\n",
    "constrained_medium_env.pop(\"R_EX_lac__L_e\")"
   ]
  },
  {
   "cell_type": "code",
   "execution_count": 73,
   "id": "54057383-0b49-45c9-81ec-78216dc2b3c1",
   "metadata": {},
   "outputs": [
    {
     "name": "stdout",
     "output_type": "stream",
     "text": [
      "0.0001074239472689649\n",
      "R_EX_cys__L_e -0.01\n",
      "R_EX_h2o_e   -0.00830398\n",
      "R_EX_h_e     -0.00403588\n",
      "R_EX_so4_e   -0.00117447\n",
      "R_EX_but_e    0.00117859\n",
      "R_EX_ac_e     0.00603939\n",
      "R_EX_co2_e    0.00868509\n",
      "R_EX_nh4_e    0.00879748\n",
      "R_EX_h2s_e    0.0111476\n"
     ]
    }
   ],
   "source": [
    "constrained_medium_env.apply(model,warning=False,inplace=True)\n",
    "sol = reframed.pFBA(model)#,constraints={\"R_EX_but_e\":0})\n",
    "print(sol.values[\"R_Growth\"])\n",
    "sol.show_values(pattern=\"R_EX_\",sort=True,abstol=1e-3)"
   ]
  },
  {
   "cell_type": "code",
   "execution_count": 76,
   "id": "a80761aa-1b67-4242-9214-73b5190468ae",
   "metadata": {},
   "outputs": [
    {
     "data": {
      "text/plain": [
       "(-10, 0)"
      ]
     },
     "execution_count": 76,
     "metadata": {},
     "output_type": "execute_result"
    }
   ],
   "source": [
    "constrained_medium_env[\"R_EX_glyc_e\"]=(-10,0)\n",
    "constrained_medium_env.pop(\"R_EX_etoh_e\")"
   ]
  },
  {
   "cell_type": "code",
   "execution_count": 77,
   "id": "8317edc0-1fab-43fc-bd2f-c2b6fd62a159",
   "metadata": {},
   "outputs": [
    {
     "name": "stdout",
     "output_type": "stream",
     "text": [
      "0.16349690345146778\n",
      "R_EX_glyc_e  -10\n",
      "R_EX_so4_e   -3.71675\n",
      "R_EX_nh4_e   -1.82021\n",
      "R_EX_pi_e    -0.161223\n",
      "R_EX_k_e     -0.0319135\n",
      "R_EX_cys__L_e -0.01\n",
      "R_EX_mg2_e   -0.00141834\n",
      "R_EX_fe3_e   -0.00127658\n",
      "R_EX_fe2_e   -0.00109993\n",
      "R_EX_h_e      0.843284\n",
      "R_EX_but_e    0.924163\n",
      "R_EX_h2s_e    3.68581\n",
      "R_EX_ac_e     5.69596\n",
      "R_EX_co2_e    7.96818\n",
      "R_EX_h2_e     8.76183\n",
      "R_EX_h2o_e    13.7993\n"
     ]
    }
   ],
   "source": [
    "constrained_medium_env.apply(model,warning=False,inplace=True)\n",
    "sol = reframed.pFBA(model)#,constraints={\"R_EX_but_e\":0})\n",
    "print(sol.values[\"R_Growth\"])\n",
    "sol.show_values(pattern=\"R_EX_\",sort=True,abstol=1e-3)"
   ]
  },
  {
   "cell_type": "code",
   "execution_count": 78,
   "id": "b1e7fb18-c8db-4091-86c9-136c09037e8e",
   "metadata": {},
   "outputs": [
    {
     "data": {
      "text/plain": [
       "(-10, 0)"
      ]
     },
     "execution_count": 78,
     "metadata": {},
     "output_type": "execute_result"
    }
   ],
   "source": [
    "constrained_medium_env[\"R_EX_glyald_e\"]=(-10,0)\n",
    "constrained_medium_env.pop(\"R_EX_glyc_e\")"
   ]
  },
  {
   "cell_type": "code",
   "execution_count": 79,
   "id": "c30c3011-8907-439d-843c-9a0f15b93481",
   "metadata": {},
   "outputs": [
    {
     "name": "stdout",
     "output_type": "stream",
     "text": [
      "0.19071004270073835\n",
      "R_EX_glyald_e -10\n",
      "R_EX_nh4_e   -2.12484\n",
      "R_EX_so4_e   -1.60524\n",
      "R_EX_pi_e    -0.188058\n",
      "R_EX_k_e     -0.0372253\n",
      "R_EX_cys__L_e -0.01\n",
      "R_EX_mg2_e   -0.00165441\n",
      "R_EX_fe3_e   -0.00148906\n",
      "R_EX_fe2_e   -0.001283\n",
      "R_EX_but_e    1.07798\n",
      "R_EX_h2s_e    1.56748\n",
      "R_EX_h_e      4.77948\n",
      "R_EX_ac_e     4.9779\n",
      "R_EX_h2_e     6.14577\n",
      "R_EX_h2o_e    6.84335\n",
      "R_EX_co2_e    7.62833\n"
     ]
    }
   ],
   "source": [
    "constrained_medium_env.apply(model,warning=False,inplace=True)\n",
    "sol = reframed.pFBA(model)#,constraints={\"R_EX_but_e\":0})\n",
    "print(sol.values[\"R_Growth\"])\n",
    "sol.show_values(pattern=\"R_EX_\",sort=True,abstol=1e-3)"
   ]
  },
  {
   "cell_type": "code",
   "execution_count": 67,
   "id": "730511c3-53a5-4786-b23f-506a4deadd85",
   "metadata": {},
   "outputs": [
    {
     "name": "stdout",
     "output_type": "stream",
     "text": [
      "[ o <-- ] R_ACKr        6.89393  \tM_ac_c + M_atp_c <-> M_actp_c + M_adp_c\n",
      "[ o <-- ] R_ADK1        0.24961  \tM_amp_c + M_atp_c <-> 2.0 M_adp_c\n",
      "[ o <-- ] R_HMR_0156    0.914658 \tM_atp_c + M_but_c + M_coa_c <-> M_amp_c + M_btcoa_c + M_ppi_c\n",
      "[ o --> ] R_CBPS_1     -0.100981 \t2.0 M_atp_c + M_gln__L_c + M_h2o_c + M_hco3_c --> 2.0 M_adp_c + M_cbp_c + M_glu__L_c + 2.0 M_h_c + M_pi_c\n",
      "[ o --> ] R_GLNS       -0.186888 \tM_atp_c + M_glu__L_c + M_nh4_c --> M_adp_c + M_gln__L_c + M_h_c + M_pi_c\n",
      "[ o --> ] R_PC         -0.249838 \tM_atp_c + M_hco3_c + M_pyr_c --> M_adp_c + M_h_c + M_oaa_c + M_pi_c\n",
      "[ o --> ] R_PGK        -0.282531 \tM_3pg_c + M_atp_c <-> M_13dpg_c + M_adp_c\n",
      "[ o --> ] R_PPDK       -0.459183 \tM_atp_c + M_pi_c + M_pyr_c --> M_amp_c + M_h_c + M_pep_c + M_ppi_c\n",
      "[ o --> ] R_SULabc     -1.52316  \tM_atp_c + M_h2o_c + M_so4_e --> M_adp_c + M_h_c + M_pi_c + M_so4_c\n",
      "[ o --> ] R_Growth     -4.36137  \t0.000223 M_10fthf_c + 0.513689 M_ala__L_c + 0.000223 M_amet_c + 0.295792 M_arg__L_c + 0.241055 M_asn__L_c + 0.241055 M_asp__L_c + 54.124831 M_atp_c + 0.005205 M_ca2_c + 0.005205 M_cl_c + 0.000576 M_coa_c + 0.0001 M_cobalt2_c + 0.133508 M_ctp_c + 0.000709 M_cu2_c + 0.09158 M_cys__L_c + 0.026166 M_datp_c + 0.027017 M_dctp_c + 0.027017 M_dgtp_c + 0.026166 M_dttp_c + 0.000223 M_fad_c + 0.006715 M_fe2_c + 0.007808 M_fe3_c + 0.26316 M_gln__L_c + 0.26316 M_glu__L_c + 0.612638 M_gly_c + 0.215096 M_gtp_c + 48.601527 M_h2o_c + 0.094738 M_his__L_c + 0.290529 M_ile__L_c + 0.195193 M_k_c + 0.450531 M_leu__L_c + 0.343161 M_lys__L_c + 0.153686 M_met__L_c + 0.008675 M_mg2_c + 0.000223 M_mlthf_c + 0.000691 M_mn2_c + 0.0001 M_mql8_c + 0.001831 M_nad_c + 0.000447 M_nadp_c + 0.185265 M_phe__L_c + 0.221055 M_pro__L_c + 0.000223 M_pydx5p_c + 0.000223 M_ribflv_c + 0.215792 M_ser__L_c + 0.004338 M_so4_c + 0.000223 M_thf_c + 0.000223 M_thmpp_c + 0.253687 M_thr__L_c + 0.056843 M_trp__L_c + 0.137896 M_tyr__L_c + 0.1 M_uaagmda_c + 0.144104 M_utp_c + 0.423162 M_val__L_c + 0.000341 M_zn2_c --> 53.95 M_adp_c + 53.95 M_h_c + 53.945662 M_pi_c + 0.773903 M_ppi_c\n"
     ]
    }
   ],
   "source": [
    "sol.show_metabolite_balance(\"M_atp_c\",model,abstol=1e-1,equations=True)"
   ]
  },
  {
   "cell_type": "code",
   "execution_count": 68,
   "id": "f53b3b6c-dce0-4317-b652-23df3e8bdc22",
   "metadata": {},
   "outputs": [
    {
     "name": "stdout",
     "output_type": "stream",
     "text": [
      "[ --> o ] R_POR_syn     17.8787  \tM_coa_c + 2.0 M_fdxo_2_2_c + M_pyr_c --> M_accoa_c + M_co2_c + 2.0 M_fdxrd_c + M_h_c\n",
      "[ --> o ] R_BCD1        1.82932  \tM_b2coa_c + 2.0 M_nadh_c + 2.0 M_fdxo_2_2_c <-> M_btcoa_c + 2.0 M_nad_c + 2.0 M_fdxrd_c\n",
      "[ <-- o ] R_FNRR3_1    -19.7081  \t2.0 M_fdxo_2_2_c + M_h2_c <-> 2.0 M_fdxrd_c + 2.0 M_h_c\n"
     ]
    }
   ],
   "source": [
    "sol.show_metabolite_balance(\"M_fdxrd_c\",model,abstol=1e-1,equations=True)"
   ]
  },
  {
   "cell_type": "code",
   "execution_count": 69,
   "id": "e8030621-2cee-4f8c-9946-e0ca07e94ba1",
   "metadata": {},
   "outputs": [
    {
     "data": {
      "text/plain": [
       "{'R_RnfH2_2': [0.0, 16.683361111111108]}"
      ]
     },
     "execution_count": 69,
     "metadata": {},
     "output_type": "execute_result"
    }
   ],
   "source": [
    "reframed.FVA(model,reactions=[\"R_RnfH2_2\"])"
   ]
  },
  {
   "cell_type": "markdown",
   "id": "3d60b7da-71d4-453c-a460-9762c87d812c",
   "metadata": {},
   "source": [
    "### Removing oxygen related reactions"
   ]
  },
  {
   "cell_type": "code",
   "execution_count": 70,
   "id": "7da42e47-d461-427d-b012-b977681effc5",
   "metadata": {},
   "outputs": [],
   "source": [
    "model.update()\n",
    "model.remove_reactions(model.get_metabolite_reactions(\"M_o2_e\"))\n",
    "model.remove_metabolite(\"M_o2_e\")\n",
    "model.update()"
   ]
  },
  {
   "cell_type": "markdown",
   "id": "00664b14-ae8c-45cd-b344-5a0f0e55a0e2",
   "metadata": {},
   "source": [
    "### Save models"
   ]
  },
  {
   "cell_type": "code",
   "execution_count": 71,
   "id": "7da15e8f-3dae-49c7-9e75-f04fe236cb35",
   "metadata": {},
   "outputs": [],
   "source": [
    "model.update()\n",
    "\n",
    "reframed.save_cbmodel(model=model,filename=\"../output/GEMs/GEMs_final/CH14-bin.0.xml\")"
   ]
  },
  {
   "cell_type": "markdown",
   "id": "a669ecb9-713f-404f-858b-e9bd47d727eb",
   "metadata": {},
   "source": [
    "## CH14-bin.1 (Lacrimispora)"
   ]
  },
  {
   "cell_type": "code",
   "execution_count": 80,
   "id": "16de1f2e-4bf6-48ed-9f13-f2b71034caaa",
   "metadata": {},
   "outputs": [],
   "source": [
    "model_lac = reframed.load_cbmodel(\"../output/GEMs/GEMs_final/CH14-bin.1.xml\")"
   ]
  },
  {
   "cell_type": "code",
   "execution_count": 81,
   "id": "8041ff39-994b-4bf1-b7dd-be0cb3e5b3a0",
   "metadata": {},
   "outputs": [
    {
     "data": {
      "text/plain": [
       "(-10, 0)"
      ]
     },
     "execution_count": 81,
     "metadata": {},
     "output_type": "execute_result"
    }
   ],
   "source": [
    "constrained_medium_env.pop(\"R_EX_glyald_e\")"
   ]
  },
  {
   "cell_type": "code",
   "execution_count": 82,
   "id": "2e1a63d3-daa4-4ffc-93d4-26a4b6fb0363",
   "metadata": {},
   "outputs": [
    {
     "name": "stdout",
     "output_type": "stream",
     "text": [
      "0.026112947575043\n",
      "R_EX_h2o_e   -0.676629\n",
      "R_EX_nh4_e   -0.316847\n",
      "R_EX_xylan4_e -0.0923077\n",
      "R_EX_so4_e   -0.0486008\n",
      "R_EX_xylan8_e -0.0461538\n",
      "R_EX_pi_e    -0.0257498\n",
      "R_EX_cys__L_e -0.01\n",
      "R_EX_k_e     -0.00509706\n",
      "R_EX_thm_e    0.00863221\n",
      "R_EX_4hba_e   0.00863803\n",
      "R_EX_gcald_e  0.0086555\n",
      "R_EX_h2s_e    0.043424\n",
      "R_EX_h_e      1.16369\n",
      "R_EX_ac_e     1.1637\n",
      "R_EX_co2_e    1.20761\n",
      "R_EX_h2_e     1.75254\n"
     ]
    }
   ],
   "source": [
    "constrained_medium_env.apply(model_lac,warning=False,inplace=True)\n",
    "sol = reframed.pFBA(model_lac)#,constraints={\"R_EX_but_e\":0})\n",
    "print(sol.values[\"R_Growth\"])\n",
    "sol.show_values(pattern=\"R_EX_\",sort=True,abstol=1e-3)"
   ]
  },
  {
   "cell_type": "code",
   "execution_count": 85,
   "id": "31e4feae-2b72-4557-a840-776cd47cedcd",
   "metadata": {},
   "outputs": [
    {
     "data": {
      "text/plain": [
       "{'R_EX_gua_e': [0.0, -0.0]}"
      ]
     },
     "execution_count": 85,
     "metadata": {},
     "output_type": "execute_result"
    }
   ],
   "source": [
    "reframed.FVA(model=model_lac,reactions=[\"R_EX_gua_e\"],obj_frac=1)"
   ]
  },
  {
   "cell_type": "code",
   "execution_count": 86,
   "id": "119f7b6c-7ec9-4628-86e8-7466ac78ddbe",
   "metadata": {},
   "outputs": [
    {
     "data": {
      "text/plain": [
       "{'R_EX_gua_e': [0.0, 0.016591278627310205]}"
      ]
     },
     "execution_count": 86,
     "metadata": {},
     "output_type": "execute_result"
    }
   ],
   "source": [
    "reframed.FVA(model=model_lac,reactions=[\"R_EX_gua_e\"],obj_frac=0.9)"
   ]
  },
  {
   "cell_type": "code",
   "execution_count": 87,
   "id": "f4ec5dca-babf-460c-a336-9a48ee9315fb",
   "metadata": {},
   "outputs": [
    {
     "data": {
      "text/plain": [
       "{'R_EX_gua_e': [0.0, 0.1643522267206475]}"
      ]
     },
     "execution_count": 87,
     "metadata": {},
     "output_type": "execute_result"
    }
   ],
   "source": [
    "reframed.FVA(model=model_lac,reactions=[\"R_EX_gua_e\"],obj_frac=0.)"
   ]
  },
  {
   "cell_type": "code",
   "execution_count": null,
   "id": "c6d55044-5ae3-4871-bf2b-feec58169c76",
   "metadata": {},
   "outputs": [],
   "source": []
  }
 ],
 "metadata": {
  "kernelspec": {
   "display_name": "MAGs_RecAndAn2",
   "language": "python",
   "name": "mags_recandan2"
  },
  "language_info": {
   "codemirror_mode": {
    "name": "ipython",
    "version": 3
   },
   "file_extension": ".py",
   "mimetype": "text/x-python",
   "name": "python",
   "nbconvert_exporter": "python",
   "pygments_lexer": "ipython3",
   "version": "3.9.13"
  }
 },
 "nbformat": 4,
 "nbformat_minor": 5
}

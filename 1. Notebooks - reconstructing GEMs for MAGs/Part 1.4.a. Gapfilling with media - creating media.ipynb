{
 "cells": [
  {
   "cell_type": "markdown",
   "id": "08be32b4-16db-42ee-8250-c2b91d8696c6",
   "metadata": {
    "tags": []
   },
   "source": [
    "# Defining gapfill media (vol. 3)\n",
    "\n",
    "This part builds on the reconstruction with soft constraints. The models selected from that process are further used here. \n",
    "\n",
    "\n",
    "Strategy:\n",
    "- **Make media based on..**\n",
    "    - **product prediction of models able to grow**\n",
    "    - **Filter by CHEBI class**"
   ]
  },
  {
   "cell_type": "code",
   "execution_count": 1,
   "id": "9b002e53-31f4-4c13-9345-5b5a1bd95ded",
   "metadata": {},
   "outputs": [],
   "source": [
    "import pandas as pd\n",
    "import reframed\n",
    "import os\n",
    "import json\n",
    "import copy\n",
    "\n",
    "import sys \n",
    "sys.path.append(\"../functions/\")\n",
    "import translation_dicts\n",
    "import general_functions as general_func\n",
    "import MAG_environments"
   ]
  },
  {
   "cell_type": "code",
   "execution_count": 2,
   "id": "e6c47c59-bbc7-434f-af25-19d4186710a9",
   "metadata": {},
   "outputs": [],
   "source": [
    "%load_ext autoreload\n",
    "%autoreload 2"
   ]
  },
  {
   "cell_type": "code",
   "execution_count": 3,
   "id": "eaa80935-6762-4403-a4fc-ac477058bcde",
   "metadata": {},
   "outputs": [],
   "source": [
    "compounds_dict, source_dict,substrate_dict, gas_sheet_dict, community_dict = translation_dicts.translation_dicts()"
   ]
  },
  {
   "cell_type": "markdown",
   "id": "fe1b940a-01e7-4778-9297-e84f33c38521",
   "metadata": {},
   "source": [
    "**Load data**"
   ]
  },
  {
   "cell_type": "code",
   "execution_count": 4,
   "id": "f3529538-0b80-4c52-ae45-caa770a262b1",
   "metadata": {},
   "outputs": [],
   "source": [
    "MAG2community_id= pd.read_csv(\"../output/MAG2community_id.tsv\",sep=\"\\t\",header=None,index_col=0)\n",
    "MAG2community_id.columns=[\"community_id\"]"
   ]
  },
  {
   "cell_type": "code",
   "execution_count": 5,
   "id": "6beb4e5a-2029-41c8-9e8d-04c3817718f2",
   "metadata": {},
   "outputs": [],
   "source": [
    "all_mags_paper = general_func.read_allmags_data()"
   ]
  },
  {
   "cell_type": "markdown",
   "id": "b87186f2-048d-4ae0-ae63-68b4e7faf7b7",
   "metadata": {},
   "source": [
    "**Load models made without soft constraints**"
   ]
  },
  {
   "cell_type": "code",
   "execution_count": 6,
   "id": "edcd195c-b745-4d82-8ec0-273d0cdccdd1",
   "metadata": {
    "scrolled": true,
    "tags": []
   },
   "outputs": [
    {
     "name": "stdout",
     "output_type": "stream",
     "text": [
      "CH7-bin.18.xml\n",
      "CH15-bin.7.xml\n",
      "CH13-bin.0.xml\n",
      "CH1-bin.4.xml\n",
      "CH13-bin.1.xml\n",
      "CH13-bin.11.xml\n",
      "CH15-bin.6.xml\n",
      "CH7-bin.2.xml\n",
      "CH13-bin.13.xml\n",
      "CH1-bin.10.xml\n",
      "CH1-bin.6.xml\n",
      "CH13-bin.2.xml\n",
      "CH13-bin.12.xml\n",
      "CH15-bin.5.xml\n",
      "CH7-bin.1.xml\n",
      "CH15-bin.1.xml\n",
      "CH1-bin.3.xml\n",
      "CH13-bin.17.xml\n",
      "CH15-bin.0.xml\n",
      "CH7-bin.4.xml\n",
      "CH7-bin.23.xml\n",
      "CH7-bin.6.xml\n",
      "CH15-bin.22.xml\n",
      "CH15-bin.2.xml\n",
      "CH1-bin.1.xml\n",
      "CH13-bin.4.xml\n",
      "CH13-bin.14.xml\n",
      "CH15-bin.23.xml\n",
      "CH7-bin.20.xml\n",
      "CH8-bin.8.xml\n",
      "CH8-bin.9.xml\n",
      "CH8-bin.25.xml\n",
      "CH14-bin.4.xml\n",
      "CH14-bin.1.xml\n",
      "CH8-bin.21.xml\n",
      "CH14-bin.2.xml\n",
      "CH8-bin.22.xml\n",
      "CH8-bin.2.xml\n",
      "CH8-bin.29.xml\n",
      "CH8-bin.7.xml\n",
      "CH8-bin.6.xml\n",
      "CH3-bin.2.xml\n",
      "CH8-bin.14.xml\n",
      "CH8-bin.16.xml\n",
      "CH3-bin.0.xml\n",
      "CH8-bin.5.xml\n",
      "CH3-bin.1.xml\n",
      "CH8-bin.17.xml\n",
      "CH7-bin.11.xml\n",
      "CH9-bin.1.xml\n",
      "CH15-bin.12.xml\n",
      "CH13-bin.25.xml\n",
      "CH15-bin.13.xml\n",
      "CH9-bin.0.xml\n",
      "CH7-bin.12.xml\n",
      "CH9-bin.2.xml\n",
      "CH7-bin.9.xml\n",
      "CH15-bin.10.xml\n",
      "CH7-bin.8.xml\n",
      "CH7-bin.13.xml\n",
      "CH7-bin.17.xml\n",
      "CH15-bin.8.xml\n",
      "CH15-bin.15.xml\n",
      "CH7-bin.16.xml\n",
      "CH9-bin.6.xml\n",
      "CH9-bin.4.xml\n",
      "CH15-bin.17.xml\n",
      "CH1-bin.8.xml\n",
      "CH1-bin.9.xml\n",
      "CH15-bin.16.xml\n",
      "CH7-bin.15.xml\n",
      "CH9-bin.5.xml\n"
     ]
    }
   ],
   "source": [
    "directory = os \n",
    "\n",
    "directory = os.fsencode(\"../output/GEMs/GEMs_intermediate/GEMs_ACt2r/\")\n",
    "\n",
    "GEMs_dict = {}\n",
    "for file in os.listdir(directory):\n",
    "    \n",
    "    filename = os.fsdecode(file)\n",
    "    if filename.endswith(\".xml\"): \n",
    "        print(filename)\n",
    "        GEMs_dict[filename[:-4]]= reframed.load_cbmodel(\"../output/GEMs/GEMs_intermediate/GEMs_ACt2r/\"+filename)\n"
   ]
  },
  {
   "cell_type": "markdown",
   "id": "eca9e23e-bb02-403e-b72d-2d9210c8a889",
   "metadata": {
    "tags": []
   },
   "source": [
    "### Define environment"
   ]
  },
  {
   "cell_type": "code",
   "execution_count": 7,
   "id": "15cfb05b-a8fc-4d48-9ba5-23ddd5f153ea",
   "metadata": {},
   "outputs": [
    {
     "data": {
      "text/plain": [
       "dict_keys(['CD_A', 'CD_P', 'CD_X', 'CM_A', 'CM_P', 'CM_X', 'M_P', 'M_X'])"
      ]
     },
     "execution_count": 7,
     "metadata": {},
     "output_type": "execute_result"
    }
   ],
   "source": [
    "syncon_environments = MAG_environments.community_syncon_environments()\n",
    "\n",
    "syncon_environments.keys()"
   ]
  },
  {
   "cell_type": "markdown",
   "id": "a64f3f68-477d-4b63-b76f-9b54d0d80d10",
   "metadata": {
    "tags": []
   },
   "source": [
    "### Determine abundance\n"
   ]
  },
  {
   "cell_type": "markdown",
   "id": "76392743-e532-4ccb-96a0-2f6b03506e56",
   "metadata": {},
   "source": [
    "**Get 99% most abundant species (>1%)**"
   ]
  },
  {
   "cell_type": "code",
   "execution_count": 8,
   "id": "683e6233-70c7-4863-b355-7a4623792b14",
   "metadata": {},
   "outputs": [],
   "source": [
    "relevant_MAGs = list(all_mags_paper[all_mags_paper[\"new_coverage\"]>1].index)"
   ]
  },
  {
   "cell_type": "code",
   "execution_count": 9,
   "id": "2c63fde1-b878-43ba-8fcd-c89144acc175",
   "metadata": {},
   "outputs": [
    {
     "data": {
      "text/plain": [
       "72"
      ]
     },
     "execution_count": 9,
     "metadata": {},
     "output_type": "execute_result"
    }
   ],
   "source": [
    "len(relevant_MAGs)"
   ]
  },
  {
   "cell_type": "markdown",
   "id": "9b4b5937-62b0-44e6-9a4e-77bda5af65d1",
   "metadata": {},
   "source": [
    "## Modify Environment to support community growth"
   ]
  },
  {
   "cell_type": "markdown",
   "id": "4288d93e-0808-48d4-b973-578def83908d",
   "metadata": {
    "tags": []
   },
   "source": [
    "### FBA growth predictions (SynCon2)"
   ]
  },
  {
   "cell_type": "code",
   "execution_count": 10,
   "id": "1f9d7b76-0bab-496d-8212-b198917e4ccc",
   "metadata": {},
   "outputs": [],
   "source": [
    "community_groups = MAG2community_id.groupby(by=\"community_id\").groups"
   ]
  },
  {
   "cell_type": "code",
   "execution_count": 11,
   "id": "f54c9eae-fb36-4380-aac3-26cd6f5bd4f1",
   "metadata": {
    "scrolled": true,
    "tags": []
   },
   "outputs": [
    {
     "name": "stdout",
     "output_type": "stream",
     "text": [
      "CH13-bin.12\n",
      "Set parameter Username\n",
      "Academic license - for non-commercial use only - expires 2025-03-14\n",
      "CH13-bin.11\n",
      "CH13-bin.4\n",
      "CH13-bin.14\n",
      "CH13-bin.25\n",
      "CH13-bin.17\n",
      "CH13-bin.0\n",
      "CH13-bin.1\n",
      "CH13-bin.13\n",
      "CH13-bin.2\n",
      "CH15-bin.0\n",
      "CH15-bin.23\n",
      "CH15-bin.1\n",
      "CH15-bin.7\n",
      "CH15-bin.8\n",
      "CH15-bin.22\n",
      "CH15-bin.6\n",
      "CH15-bin.17\n",
      "CH15-bin.16\n",
      "CH15-bin.13\n",
      "CH15-bin.12\n",
      "CH15-bin.5\n",
      "CH15-bin.10\n",
      "CH15-bin.15\n",
      "CH15-bin.2\n",
      "CH14-bin.1\n",
      "CH14-bin.2\n",
      "CH14-bin.4\n",
      "CH8-bin.22\n",
      "CH8-bin.17\n",
      "CH8-bin.7\n",
      "CH8-bin.2\n",
      "CH8-bin.6\n",
      "CH8-bin.25\n",
      "CH8-bin.5\n",
      "CH8-bin.9\n",
      "CH8-bin.16\n",
      "CH8-bin.21\n",
      "CH8-bin.8\n",
      "CH8-bin.29\n",
      "CH8-bin.14\n",
      "CH7-bin.23\n",
      "CH7-bin.16\n",
      "CH7-bin.11\n",
      "CH7-bin.13\n",
      "CH7-bin.2\n",
      "CH7-bin.8\n",
      "CH7-bin.18\n",
      "CH7-bin.1\n",
      "CH7-bin.17\n",
      "CH7-bin.4\n",
      "CH7-bin.12\n",
      "CH7-bin.20\n",
      "CH7-bin.9\n",
      "CH7-bin.6\n",
      "CH7-bin.15\n",
      "CH9-bin.0\n",
      "CH9-bin.6\n",
      "CH9-bin.5\n",
      "CH9-bin.1\n",
      "CH9-bin.2\n",
      "CH9-bin.4\n",
      "CH1-bin.6\n",
      "CH1-bin.9\n",
      "CH1-bin.3\n",
      "CH1-bin.4\n",
      "CH1-bin.8\n",
      "CH1-bin.1\n",
      "CH1-bin.10\n",
      "CH3-bin.2\n",
      "CH3-bin.1\n",
      "CH3-bin.0\n"
     ]
    }
   ],
   "source": [
    "FBA_growth = {}\n",
    "for community_id, MAGs in community_groups.items(): \n",
    "    FBA_growth[community_id]={}\n",
    "    for MAG in MAGs:\n",
    "        if MAG in relevant_MAGs:\n",
    "            print(MAG)\n",
    "            model = GEMs_dict[MAG]\n",
    "            syncon_environments[community_id].apply(model,inplace=True,exclusive=True,warning=False)\n",
    "            sol = reframed.FBA(model)\n",
    "\n",
    "            if sol is None:\n",
    "                FBA_growth[community_id][MAG]=None\n",
    "            else:\n",
    "                FBA_growth[community_id][MAG]=sol"
   ]
  },
  {
   "cell_type": "code",
   "execution_count": 12,
   "id": "58bf602a-5e32-4df9-b4fd-fe1c89a9a4d9",
   "metadata": {},
   "outputs": [],
   "source": [
    "# Add the source and substrate to this data\n",
    "growth_community_df = pd.concat([MAG2community_id,pd.Series({GEM:sol.fobj for community_id,GEM_sol_dict in FBA_growth.items() for GEM,sol in GEM_sol_dict.items()})],axis=1)\n",
    "# Change from float to False or positive\n",
    "growth_community_df[\"Grows\"] = growth_community_df[0].map(lambda x:x>1e-6)\n",
    "# Drop the growth float column\n",
    "growth_community_df.drop(0,axis=1,inplace=True)"
   ]
  },
  {
   "cell_type": "markdown",
   "id": "b8ca4530-4ab6-4b12-b274-95281662248e",
   "metadata": {},
   "source": [
    "**When considering top 99 of members all but Cow_Manure on xylan have a growing community member**"
   ]
  },
  {
   "cell_type": "code",
   "execution_count": 13,
   "id": "cfe61edc-c72d-44ef-a04e-cc18f5d176dd",
   "metadata": {},
   "outputs": [],
   "source": [
    "growth_groupby = growth_community_df[growth_community_df.index.isin(all_mags_paper[all_mags_paper[\"new_coverage\"]>1].index)]\n",
    "MAG_can_grow = growth_community_df[growth_community_df.Grows].index"
   ]
  },
  {
   "cell_type": "markdown",
   "id": "093ea29d-5c45-4a99-a282-4c19d73a3255",
   "metadata": {},
   "source": [
    "### FVA prediction of bacteria that can survive in the media (SynCon2) at obj_frac=0\n",
    "\n",
    "1. Find compounds produced by growing community members\n",
    "2. Filter by CHEBI class"
   ]
  },
  {
   "cell_type": "markdown",
   "id": "a79e67de-0832-478e-a75d-73f1b51a6a03",
   "metadata": {},
   "source": [
    "#### Run FVA and find produced compounds"
   ]
  },
  {
   "cell_type": "markdown",
   "id": "b7c0f086-805d-471e-a907-3ae1909828e5",
   "metadata": {},
   "source": [
    "**Run FVA for exchange reactions of growing community members**"
   ]
  },
  {
   "cell_type": "code",
   "execution_count": 14,
   "id": "0ce9c4bb-d118-4283-841a-5f974e48e0ef",
   "metadata": {
    "scrolled": true,
    "tags": []
   },
   "outputs": [
    {
     "name": "stdout",
     "output_type": "stream",
     "text": [
      "CH13-bin.2\n",
      "CH15-bin.23\n",
      "CH14-bin.1\n",
      "CH8-bin.17\n",
      "CH8-bin.6\n",
      "CH8-bin.14\n",
      "CH7-bin.16\n",
      "CH7-bin.2\n",
      "CH7-bin.1\n",
      "CH7-bin.20\n",
      "CH1-bin.8\n",
      "CH1-bin.10\n",
      "CH3-bin.2\n"
     ]
    }
   ],
   "source": [
    "FVA_production = {}\n",
    "\n",
    "for community_id, MAGs in community_groups.items(): \n",
    "    \n",
    "    FVA_production[community_id]={}\n",
    "    \n",
    "    for MAG in MAGs:\n",
    "        \n",
    "        # If MAG is among the ones who cannot grow -> continue\n",
    "        if MAG not in MAG_can_grow:\n",
    "            continue\n",
    "        print(MAG)\n",
    "        \n",
    "        model = GEMs_dict[MAG]\n",
    "        \n",
    "        # Apply medium\n",
    "        syncon_environments[community_id].apply(model,inplace=True,exclusive=True,warning=False)\n",
    "        # Find FVA solution and obj_frac=0\n",
    "        FVA_production[community_id][MAG] = reframed.FVA(model,reactions=model.get_exchange_reactions(),obj_frac=0.0)\n",
    "        "
   ]
  },
  {
   "cell_type": "markdown",
   "id": "c5080878-dd5f-4d2d-94fd-ba8441daa290",
   "metadata": {},
   "source": [
    "**Find compounds that are being produced**"
   ]
  },
  {
   "cell_type": "code",
   "execution_count": 15,
   "id": "52a69d0a-6c1f-4624-b66c-f44db87c63cc",
   "metadata": {},
   "outputs": [],
   "source": [
    "FVA_production_copy = FVA_production.copy()\n",
    "FVA_production_copy = {community:{MAG:[rxn for rxn,sol in FVA_production_copy[community][MAG].items() if sol[1]>1e-6] for MAG in FVA_production_copy[community].keys()}\n",
    "                       for community in FVA_production_copy.keys()}"
   ]
  },
  {
   "cell_type": "markdown",
   "id": "bad12d93-e360-4f46-8e8c-b0dd5a64d97f",
   "metadata": {},
   "source": [
    "**Combine the results from each community member into community level**"
   ]
  },
  {
   "cell_type": "code",
   "execution_count": 16,
   "id": "8756d9d9-5dbb-447d-b106-646a3aa7cc5c",
   "metadata": {
    "tags": []
   },
   "outputs": [],
   "source": [
    "community_prod = {community_name:[] for community_name in FVA_production_copy.keys()}\n",
    "\n",
    "for community_name,mag_prod in FVA_production_copy.items():\n",
    "    for MAG,rxns in mag_prod.items():\n",
    "        community_prod[community_name].extend(rxns)\n",
    "    \n",
    "    community_prod[community_name] = list(set(community_prod[community_name]))"
   ]
  },
  {
   "cell_type": "code",
   "execution_count": 17,
   "id": "f979d994-cdd3-41f9-a681-bdc6145f5468",
   "metadata": {
    "scrolled": true,
    "tags": []
   },
   "outputs": [
    {
     "data": {
      "text/plain": [
       "{'CD_A': ['R_EX_m4po_e',\n",
       "  'R_EX_co2_e',\n",
       "  'R_sink_hmfurn_c',\n",
       "  'R_EX_4hba_e',\n",
       "  'R_EX_h_e',\n",
       "  'R_EX_nh4_e',\n",
       "  'R_EX_glc__D_e',\n",
       "  'R_EX_glyc3p_e',\n",
       "  'R_EX_gcald_e',\n",
       "  'R_EX_h2o_e',\n",
       "  'R_sink_5drib_c',\n",
       "  'R_EX_lac__L_e',\n",
       "  'R_EX_acald_e',\n",
       "  'R_EX_ppap_e',\n",
       "  'R_EX_ocdcea_e',\n",
       "  'R_EX_thym_e',\n",
       "  'R_EX_h2s_e',\n",
       "  'R_EX_5mdru1p_e',\n",
       "  'R_EX_gua_e',\n",
       "  'R_EX_mal__L_e',\n",
       "  'R_EX_thm_e',\n",
       "  'R_EX_ac_e',\n",
       "  'R_EX_anhgm_e',\n",
       "  'R_EX_pheme_e',\n",
       "  'R_EX_glyc_e',\n",
       "  'R_EX_h2_e',\n",
       "  'R_EX_acglu_e',\n",
       "  'R_EX_inost_e',\n",
       "  'R_EX_pacald_e',\n",
       "  'R_EX_ura_e',\n",
       "  'R_EX_g3pg_e',\n",
       "  'R_EX_spmd_e',\n",
       "  'R_EX_rib__D_e'],\n",
       " 'CD_P': ['R_EX_co2_e',\n",
       "  'R_EX_h_e',\n",
       "  'R_EX_nh4_e',\n",
       "  'R_EX_ibtol_e',\n",
       "  'R_EX_glc__D_e',\n",
       "  'R_EX_glyald_e',\n",
       "  'R_EX_gcald_e',\n",
       "  'R_EX_h2o_e',\n",
       "  'R_EX_ibt_e',\n",
       "  'R_EX_pta_e',\n",
       "  'R_EX_15dap_e',\n",
       "  'R_EX_acald_e',\n",
       "  'R_EX_co_e',\n",
       "  'R_EX_glyclt_e',\n",
       "  'R_EX_LalaDgluMdapDala_e',\n",
       "  'R_EX_ocdcea_e',\n",
       "  'R_EX_thym_e',\n",
       "  'R_EX_h2s_e',\n",
       "  'R_EX_gua_e',\n",
       "  'R_EX_urea_e',\n",
       "  'R_EX_ac_e',\n",
       "  'R_EX_anhgm_e',\n",
       "  'R_EX_but_e',\n",
       "  'R_EX_pheme_e',\n",
       "  'R_EX_glyc_e',\n",
       "  'R_EX_bz_e',\n",
       "  'R_EX_nac_e',\n",
       "  'R_EX_alaala_e',\n",
       "  'R_EX_acglu_e',\n",
       "  'R_sink_2ohph_c',\n",
       "  'R_EX_ura_e',\n",
       "  'R_EX_5drib_e',\n",
       "  'R_EX_spmd_e',\n",
       "  'R_EX_LalaDgluMdap_e',\n",
       "  'R_EX_ncam_e'],\n",
       " 'CD_X': ['R_EX_co2_e',\n",
       "  'R_EX_h_e',\n",
       "  'R_EX_4hba_e',\n",
       "  'R_EX_xyl__D_e',\n",
       "  'R_EX_nh4_e',\n",
       "  'R_EX_ibtol_e',\n",
       "  'R_EX_glyald_e',\n",
       "  'R_EX_for_e',\n",
       "  'R_EX_gcald_e',\n",
       "  'R_EX_isocap_e',\n",
       "  'R_EX_h2o_e',\n",
       "  'R_EX_ppa_e',\n",
       "  'R_sink_5drib_c',\n",
       "  'R_EX_ibt_e',\n",
       "  'R_EX_acald_e',\n",
       "  'R_sink_sheme_c',\n",
       "  'R_EX_fe3pyovd_kt_e',\n",
       "  'R_EX_etoh_e',\n",
       "  'R_EX_LalaDgluMdapDala_e',\n",
       "  'R_EX_thym_e',\n",
       "  'R_EX_5mdru1p_e',\n",
       "  'R_EX_h2s_e',\n",
       "  'R_EX_gua_e',\n",
       "  'R_EX_mal__L_e',\n",
       "  'R_EX_thm_e',\n",
       "  'R_EX_ac_e',\n",
       "  'R_EX_anhgm_e',\n",
       "  'R_EX_but_e',\n",
       "  'R_EX_pheme_e',\n",
       "  'R_EX_glyc_e',\n",
       "  'R_EX_h2_e',\n",
       "  'R_EX_man1p_e',\n",
       "  'R_EX_asp__D_e',\n",
       "  'R_EX_pyovd_kt_e',\n",
       "  'R_EX_ura_e',\n",
       "  'R_EX_xylan4_e',\n",
       "  'R_EX_spmd_e',\n",
       "  'R_EX_rib__D_e',\n",
       "  'R_EX_d23hb_e'],\n",
       " 'CM_A': ['R_EX_co2_e',\n",
       "  'R_EX_h_e',\n",
       "  'R_EX_4hba_e',\n",
       "  'R_EX_btd_RR_e',\n",
       "  'R_EX_etha_e',\n",
       "  'R_EX_ibtol_e',\n",
       "  'R_EX_nh4_e',\n",
       "  'R_EX_2mpa_e',\n",
       "  'R_EX_actn__R_e',\n",
       "  'R_EX_glc__D_e',\n",
       "  'R_EX_gcald_e',\n",
       "  'R_sink_4crsol_c',\n",
       "  'R_EX_ppa_e',\n",
       "  'R_EX_h2o_e',\n",
       "  'R_EX_lac__L_e',\n",
       "  'R_sink_5drib_c',\n",
       "  'R_EX_ibt_e',\n",
       "  'R_EX_15dap_e',\n",
       "  'R_EX_acald_e',\n",
       "  'R_EX_tol_e',\n",
       "  'R_sink_sheme_c',\n",
       "  'R_EX_ppap_e',\n",
       "  'R_EX_etoh_e',\n",
       "  'R_EX_thym_e',\n",
       "  'R_EX_ocdcea_e',\n",
       "  'R_EX_h2s_e',\n",
       "  'R_EX_5mdru1p_e',\n",
       "  'R_EX_12ppd__S_e',\n",
       "  'R_EX_gua_e',\n",
       "  'R_EX_indole_e',\n",
       "  'R_EX_urea_e',\n",
       "  'R_EX_mal__L_e',\n",
       "  'R_EX_thm_e',\n",
       "  'R_EX_12ppd__R_e',\n",
       "  'R_EX_ac_e',\n",
       "  'R_EX_anhgm_e',\n",
       "  'R_EX_but_e',\n",
       "  'R_EX_pheme_e',\n",
       "  'R_EX_bz_e',\n",
       "  'R_EX_R_3hhdca_e',\n",
       "  'R_EX_g3pe_e',\n",
       "  'R_EX_nac_e',\n",
       "  'R_EX_ala__D_e',\n",
       "  'R_EX_R_3httdca_e',\n",
       "  'R_EX_4abutn_e',\n",
       "  'R_EX_acglu_e',\n",
       "  'R_EX_inost_e',\n",
       "  'R_EX_man1p_e',\n",
       "  'R_sink_2ohph_c',\n",
       "  'R_EX_ura_e',\n",
       "  'R_EX_5drib_e',\n",
       "  'R_EX_2h3mb_e',\n",
       "  'R_sink_4hba_c',\n",
       "  'R_EX_spmd_e',\n",
       "  'R_EX_rib__D_e',\n",
       "  'R_EX_d23hb_e',\n",
       "  'R_EX_ch4s_e'],\n",
       " 'CM_P': ['R_EX_isobuta_e',\n",
       "  'R_EX_co2_e',\n",
       "  'R_EX_h_e',\n",
       "  'R_EX_4hba_e',\n",
       "  'R_EX_2obut_e',\n",
       "  'R_EX_etha_e',\n",
       "  'R_sink_hmfurn_c',\n",
       "  'R_EX_ibtol_e',\n",
       "  'R_EX_2mpa_e',\n",
       "  'R_EX_nh4_e',\n",
       "  'R_EX_actn__R_e',\n",
       "  'R_EX_glc__D_e',\n",
       "  'R_EX_orn_e',\n",
       "  'R_EX_for_e',\n",
       "  'R_EX_gcald_e',\n",
       "  'R_EX_fald_e',\n",
       "  'R_EX_orn__L_e',\n",
       "  'R_sink_4crsol_c',\n",
       "  'R_EX_ppa_e',\n",
       "  'R_EX_h2o_e',\n",
       "  'R_EX_lac__L_e',\n",
       "  'R_sink_5drib_c',\n",
       "  'R_EX_3mba_e',\n",
       "  'R_EX_15dap_e',\n",
       "  'R_EX_acald_e',\n",
       "  'R_EX_co_e',\n",
       "  'R_EX_tol_e',\n",
       "  'R_sink_sheme_c',\n",
       "  'R_EX_ppap_e',\n",
       "  'R_EX_glyclt_e',\n",
       "  'R_EX_ocdcea_e',\n",
       "  'R_EX_thym_e',\n",
       "  'R_EX_h2s_e',\n",
       "  'R_EX_5mdru1p_e',\n",
       "  'R_EX_gua_e',\n",
       "  'R_EX_12ppd__S_e',\n",
       "  'R_EX_indole_e',\n",
       "  'R_EX_cit_e',\n",
       "  'R_EX_urea_e',\n",
       "  'R_EX_mal__L_e',\n",
       "  'R_EX_thm_e',\n",
       "  'R_EX_ac_e',\n",
       "  'R_EX_meoh_e',\n",
       "  'R_EX_anhgm_e',\n",
       "  'R_EX_12ppd__R_e',\n",
       "  'R_EX_but_e',\n",
       "  'R_EX_arg__L_e',\n",
       "  'R_EX_ptrc_e',\n",
       "  'R_EX_pheme_e',\n",
       "  'R_EX_bz_e',\n",
       "  'R_EX_glyc_e',\n",
       "  'R_EX_R_3hhdca_e',\n",
       "  'R_EX_g3pe_e',\n",
       "  'R_EX_ala__D_e',\n",
       "  'R_EX_R_3httdca_e',\n",
       "  'R_EX_4abutn_e',\n",
       "  'R_EX_acglu_e',\n",
       "  'R_EX_inost_e',\n",
       "  'R_EX_man1p_e',\n",
       "  'R_sink_2ohph_c',\n",
       "  'R_EX_ura_e',\n",
       "  'R_EX_fe2_e',\n",
       "  'R_EX_lys__L_e',\n",
       "  'R_EX_5drib_e',\n",
       "  'R_EX_mnl1p_e',\n",
       "  'R_EX_spmd_e',\n",
       "  'R_EX_rib__D_e',\n",
       "  'R_EX_fe3_e',\n",
       "  'R_EX_gal_e'],\n",
       " 'CM_X': [],\n",
       " 'M_P': ['R_EX_co2_e',\n",
       "  'R_EX_h_e',\n",
       "  'R_EX_etha_e',\n",
       "  'R_EX_dhptd_e',\n",
       "  'R_EX_ibtol_e',\n",
       "  'R_EX_2mpa_e',\n",
       "  'R_EX_nh4_e',\n",
       "  'R_EX_glc__D_e',\n",
       "  'R_EX_cys__L_e',\n",
       "  'R_EX_glyald_e',\n",
       "  'R_sink_hemeO_c',\n",
       "  'R_sink_4crsol_c',\n",
       "  'R_EX_isocap_e',\n",
       "  'R_EX_h2o_e',\n",
       "  'R_EX_ppa_e',\n",
       "  'R_EX_lac__L_e',\n",
       "  'R_EX_pta_e',\n",
       "  'R_EX_acald_e',\n",
       "  'R_EX_co_e',\n",
       "  'R_EX_ind3ac_e',\n",
       "  'R_sink_sheme_c',\n",
       "  'R_EX_ppap_e',\n",
       "  'R_EX_ocdcea_e',\n",
       "  'R_EX_thym_e',\n",
       "  'R_EX_5mdru1p_e',\n",
       "  'R_EX_h2s_e',\n",
       "  'R_EX_gua_e',\n",
       "  'R_EX_mal__L_e',\n",
       "  'R_EX_12ppd__S_e',\n",
       "  'R_EX_indole_e',\n",
       "  'R_EX_met__L_e',\n",
       "  'R_EX_urea_e',\n",
       "  'R_EX_hxan_e',\n",
       "  'R_EX_ac_e',\n",
       "  'R_EX_anhgm_e',\n",
       "  'R_EX_but_e',\n",
       "  'R_EX_arg__L_e',\n",
       "  'R_EX_xan_e',\n",
       "  'R_EX_pheme_e',\n",
       "  'R_EX_bz_e',\n",
       "  'R_EX_glyc_e',\n",
       "  'R_EX_s_e',\n",
       "  'R_EX_alaala_e',\n",
       "  'R_EX_ala__D_e',\n",
       "  'R_EX_hxa_e',\n",
       "  'R_EX_inost_e',\n",
       "  'R_EX_acgam1p_e',\n",
       "  'R_sink_2ohph_c',\n",
       "  'R_EX_asp__D_e',\n",
       "  'R_EX_ura_e',\n",
       "  'R_sink_4hba_c',\n",
       "  'R_EX_5drib_e',\n",
       "  'R_EX_fe2_e',\n",
       "  'R_EX_lys__L_e',\n",
       "  'R_EX_spmd_e',\n",
       "  'R_EX_rib__D_e',\n",
       "  'R_EX_d23hb_e'],\n",
       " 'M_X': ['R_EX_co2_e',\n",
       "  'R_EX_h_e',\n",
       "  'R_EX_xyl__D_e',\n",
       "  'R_EX_nh4_e',\n",
       "  'R_EX_glyald_e',\n",
       "  'R_EX_for_e',\n",
       "  'R_EX_gcald_e',\n",
       "  'R_EX_fald_e',\n",
       "  'R_EX_ppa_e',\n",
       "  'R_EX_h2o_e',\n",
       "  'R_EX_lac__L_e',\n",
       "  'R_EX_ibt_e',\n",
       "  'R_EX_pta_e',\n",
       "  'R_EX_acald_e',\n",
       "  'R_sink_sheme_c',\n",
       "  'R_EX_etoh_e',\n",
       "  'R_EX_ocdcea_e',\n",
       "  'R_EX_thym_e',\n",
       "  'R_EX_5mdru1p_e',\n",
       "  'R_EX_h2s_e',\n",
       "  'R_EX_gua_e',\n",
       "  'R_EX_mal__L_e',\n",
       "  'R_EX_fmn_e',\n",
       "  'R_EX_indole_e',\n",
       "  'R_EX_thm_e',\n",
       "  'R_EX_ac_e',\n",
       "  'R_EX_anhgm_e',\n",
       "  'R_EX_fad_e',\n",
       "  'R_EX_d23hb_e',\n",
       "  'R_EX_but_e',\n",
       "  'R_EX_pheme_e',\n",
       "  'R_EX_glyc_e',\n",
       "  'R_EX_s_e',\n",
       "  'R_EX_succ_e',\n",
       "  'R_EX_4abutn_e',\n",
       "  'R_EX_h2_e',\n",
       "  'R_EX_pacald_e',\n",
       "  'R_EX_asp__D_e',\n",
       "  'R_EX_ura_e',\n",
       "  'R_sink_4hba_c',\n",
       "  'R_EX_5drib_e',\n",
       "  'R_EX_xylan4_e',\n",
       "  'R_EX_spmd_e',\n",
       "  'R_EX_rib__D_e',\n",
       "  'R_EX_gal_e',\n",
       "  'R_EX_ch4s_e']}"
      ]
     },
     "execution_count": 17,
     "metadata": {},
     "output_type": "execute_result"
    }
   ],
   "source": [
    "community_prod"
   ]
  },
  {
   "cell_type": "markdown",
   "id": "2370fb3f-1aff-4c58-b23f-8c32731665fc",
   "metadata": {},
   "source": [
    "#### Filter by chebi_class"
   ]
  },
  {
   "cell_type": "code",
   "execution_count": 18,
   "id": "89c8f710-54e7-4828-a64d-c505283c1440",
   "metadata": {},
   "outputs": [],
   "source": [
    "# Some compounds are not interesting for us when it comes to exchange\n",
    "ignore_classes = [\"other\",\"inorganic ion\",\"oligopeptide\",\"monosaccharide\",\"cellodextrin\",\"carbohydrate derivative\",\"carbohydrate acid\",\"nonmetal atom\"]"
   ]
  },
  {
   "cell_type": "code",
   "execution_count": 19,
   "id": "d9c4bcde-7377-4e93-82ef-1e7713d0b08c",
   "metadata": {
    "tags": []
   },
   "outputs": [],
   "source": [
    "met_chebi_class = pd.read_csv(\"../output/met_chebi_class.tsv\",sep=\"\\t\",index_col=0)\n",
    "\n",
    "met_chebi_class_dict = met_chebi_class[\"chebi class\"].to_dict()\n",
    "\n",
    "community_prod_dfs = {community_name: pd.DataFrame({\"rxns\":rxns,\n",
    "                                                   \"chebi_class\":[met_chebi_class_dict[\"M_\"+rxn[5:]] if \"M_\"+rxn[5:] in met_chebi_class_dict.keys() else \"other\" for rxn in rxns]}) \n",
    "                      for community_name,rxns in community_prod.items()}"
   ]
  },
  {
   "cell_type": "code",
   "execution_count": 20,
   "id": "d02f8eb4-76f4-4cfe-8186-e4ba96811351",
   "metadata": {
    "tags": []
   },
   "outputs": [],
   "source": [
    "for community_name,df in community_prod_dfs.items():\n",
    "    community_prod_dfs[community_name] = community_prod_dfs[community_name][~community_prod_dfs[community_name].chebi_class.isin(ignore_classes)]"
   ]
  },
  {
   "cell_type": "markdown",
   "id": "a3d07b7d-05aa-4a6f-ae2b-563b34a57018",
   "metadata": {
    "tags": []
   },
   "source": [
    "#### Plot data"
   ]
  },
  {
   "cell_type": "code",
   "execution_count": 21,
   "id": "5e7739e7-e522-4773-a9e5-74edd9f88f46",
   "metadata": {},
   "outputs": [],
   "source": [
    "community_prod_count_dfs ={}\n",
    "\n",
    "for community_name, df in community_prod_dfs.items():\n",
    "    \n",
    "    community_prod_count_dfs[community_name] = df.groupby(\"chebi_class\").count()"
   ]
  },
  {
   "cell_type": "code",
   "execution_count": 22,
   "id": "b66c9e74-27ac-4947-a05a-f9bc85597099",
   "metadata": {},
   "outputs": [
    {
     "data": {
      "image/png": "[encoded data removed]",
      "text/plain": [
       "<Figure size 1000x1000 with 1 Axes>"
      ]
     },
     "metadata": {},
     "output_type": "display_data"
    }
   ],
   "source": [
    "ax = pd.concat(community_prod_count_dfs,axis=1).fillna(0).plot(kind=\"barh\",figsize=(10,10))"
   ]
  },
  {
   "cell_type": "markdown",
   "id": "ad2652da-1e5c-436f-83c4-e546016dcd1b",
   "metadata": {},
   "source": [
    "### Make new environments"
   ]
  },
  {
   "cell_type": "code",
   "execution_count": 23,
   "id": "81f92d8f-370a-4e9a-a2a4-c0e894ed49bc",
   "metadata": {},
   "outputs": [],
   "source": [
    "substrate_dict = {'X': 'Xylan', 'A': 'Avicel', 'P': 'PASC'}\n",
    "source_dict = {'M':'Marshland soil','CD':'Compost and Digestate', 'CM':'Cow manure'}"
   ]
  },
  {
   "cell_type": "code",
   "execution_count": 24,
   "id": "3a24c577-cf01-4827-806a-67065cee2696",
   "metadata": {},
   "outputs": [],
   "source": [
    "model_uni = reframed.load_cbmodel(\"../input/universe_bacteria.xml\")"
   ]
  },
  {
   "cell_type": "code",
   "execution_count": 25,
   "id": "061a9ea1-081e-412b-bd30-db5049a611fe",
   "metadata": {},
   "outputs": [],
   "source": [
    "syncon_media = {}\n",
    "for community_id in MAG2community_id.community_id.unique():\n",
    "    \n",
    "    # Mets from original syncon environment\n",
    "    mets_syncon = [rxn[5:-2] for rxn in syncon_environments[community_id].keys()]\n",
    "    \n",
    "    # Mets produced by the community members\n",
    "    mets_produced = [rxn[5:-2] for rxn in community_prod_dfs[community_id].rxns.values]\n",
    "    mets_syncon.extend(mets_produced)\n",
    "    \n",
    "    if community_id.endswith(\"_P\") or community_id.endswith(\"_C\"):\n",
    "        mets_syncon.append(\"glc__D\")\n",
    "    elif community_id.endswith(\"_X\"):\n",
    "        mets_syncon.append(\"xyl__D\")\n",
    "\n",
    "    syncon_media[community_id]=set(mets_syncon)"
   ]
  },
  {
   "cell_type": "code",
   "execution_count": 26,
   "id": "4e879fa6-3356-4ba4-b291-52de35eb46b1",
   "metadata": {},
   "outputs": [],
   "source": [
    "media_dfs = []\n",
    "\n",
    "for community_id,compounds in syncon_media.items():\n",
    "    media_id_list = community_id.split(\"_\")\n",
    "\n",
    "    source = media_id_list[0]\n",
    "    substrate = media_id_list[1]\n",
    "\n",
    "    # NB! Some of the compounds they used are not in the universal model!\n",
    "    compounds = [met for met in compounds if \"M_\"+met+\"_e\" in model_uni.metabolites]\n",
    "    compounds_names = [model_uni.metabolites[\"M_\"+met+\"_e\"].name for met in compounds]\n",
    "    \n",
    "    media_df = pd.DataFrame({\"medium\":[community_id for met in compounds],\n",
    "               \"description\": [\"Media + produced compounds in \"+source_dict[source]+\" on \" +substrate_dict[substrate] for met in compounds],\n",
    "               \"compound\":compounds,\n",
    "               \"name\":compounds_names})\n",
    "    media_dfs.append(media_df)"
   ]
  },
  {
   "cell_type": "code",
   "execution_count": 27,
   "id": "ddaae44f-b3e4-4f54-b531-bf14cccac9ea",
   "metadata": {},
   "outputs": [
    {
     "data": {
      "text/html": [
       "<div>\n",
       "<style scoped>\n",
       "    .dataframe tbody tr th:only-of-type {\n",
       "        vertical-align: middle;\n",
       "    }\n",
       "\n",
       "    .dataframe tbody tr th {\n",
       "        vertical-align: top;\n",
       "    }\n",
       "\n",
       "    .dataframe thead th {\n",
       "        text-align: right;\n",
       "    }\n",
       "</style>\n",
       "<table border=\"1\" class=\"dataframe\">\n",
       "  <thead>\n",
       "    <tr style=\"text-align: right;\">\n",
       "      <th></th>\n",
       "      <th>medium</th>\n",
       "      <th>description</th>\n",
       "      <th>compound</th>\n",
       "      <th>name</th>\n",
       "    </tr>\n",
       "  </thead>\n",
       "  <tbody>\n",
       "    <tr>\n",
       "      <th>0</th>\n",
       "      <td>CD_A</td>\n",
       "      <td>Media + produced compounds in Compost and Dige...</td>\n",
       "      <td>cell3</td>\n",
       "      <td>Cellulose (n=3 repeating units)</td>\n",
       "    </tr>\n",
       "    <tr>\n",
       "      <th>1</th>\n",
       "      <td>CD_A</td>\n",
       "      <td>Media + produced compounds in Compost and Dige...</td>\n",
       "      <td>cell4</td>\n",
       "      <td>Cellulose (n=4 repeating units)</td>\n",
       "    </tr>\n",
       "    <tr>\n",
       "      <th>2</th>\n",
       "      <td>CD_A</td>\n",
       "      <td>Media + produced compounds in Compost and Dige...</td>\n",
       "      <td>pnto__R</td>\n",
       "      <td>(R)-Pantothenate</td>\n",
       "    </tr>\n",
       "    <tr>\n",
       "      <th>3</th>\n",
       "      <td>CD_A</td>\n",
       "      <td>Media + produced compounds in Compost and Dige...</td>\n",
       "      <td>nac</td>\n",
       "      <td>Nicotinate</td>\n",
       "    </tr>\n",
       "    <tr>\n",
       "      <th>4</th>\n",
       "      <td>CD_A</td>\n",
       "      <td>Media + produced compounds in Compost and Dige...</td>\n",
       "      <td>cellb</td>\n",
       "      <td>Cellobiose</td>\n",
       "    </tr>\n",
       "    <tr>\n",
       "      <th>...</th>\n",
       "      <td>...</td>\n",
       "      <td>...</td>\n",
       "      <td>...</td>\n",
       "      <td>...</td>\n",
       "    </tr>\n",
       "    <tr>\n",
       "      <th>59</th>\n",
       "      <td>M_X</td>\n",
       "      <td>Media + produced compounds in Marshland soil o...</td>\n",
       "      <td>spmd</td>\n",
       "      <td>Spermidine</td>\n",
       "    </tr>\n",
       "    <tr>\n",
       "      <th>60</th>\n",
       "      <td>M_X</td>\n",
       "      <td>Media + produced compounds in Marshland soil o...</td>\n",
       "      <td>cys__L</td>\n",
       "      <td>L-Cysteine</td>\n",
       "    </tr>\n",
       "    <tr>\n",
       "      <th>61</th>\n",
       "      <td>M_X</td>\n",
       "      <td>Media + produced compounds in Marshland soil o...</td>\n",
       "      <td>fe3</td>\n",
       "      <td>Iron (Fe3+)</td>\n",
       "    </tr>\n",
       "    <tr>\n",
       "      <th>62</th>\n",
       "      <td>M_X</td>\n",
       "      <td>Media + produced compounds in Marshland soil o...</td>\n",
       "      <td>k</td>\n",
       "      <td>Potassium</td>\n",
       "    </tr>\n",
       "    <tr>\n",
       "      <th>63</th>\n",
       "      <td>M_X</td>\n",
       "      <td>Media + produced compounds in Marshland soil o...</td>\n",
       "      <td>pydxn</td>\n",
       "      <td>Pyridoxine</td>\n",
       "    </tr>\n",
       "  </tbody>\n",
       "</table>\n",
       "<p>483 rows × 4 columns</p>\n",
       "</div>"
      ],
      "text/plain": [
       "   medium                                        description compound  \\\n",
       "0    CD_A  Media + produced compounds in Compost and Dige...    cell3   \n",
       "1    CD_A  Media + produced compounds in Compost and Dige...    cell4   \n",
       "2    CD_A  Media + produced compounds in Compost and Dige...  pnto__R   \n",
       "3    CD_A  Media + produced compounds in Compost and Dige...      nac   \n",
       "4    CD_A  Media + produced compounds in Compost and Dige...    cellb   \n",
       "..    ...                                                ...      ...   \n",
       "59    M_X  Media + produced compounds in Marshland soil o...     spmd   \n",
       "60    M_X  Media + produced compounds in Marshland soil o...   cys__L   \n",
       "61    M_X  Media + produced compounds in Marshland soil o...      fe3   \n",
       "62    M_X  Media + produced compounds in Marshland soil o...        k   \n",
       "63    M_X  Media + produced compounds in Marshland soil o...    pydxn   \n",
       "\n",
       "                               name  \n",
       "0   Cellulose (n=3 repeating units)  \n",
       "1   Cellulose (n=4 repeating units)  \n",
       "2                  (R)-Pantothenate  \n",
       "3                        Nicotinate  \n",
       "4                        Cellobiose  \n",
       "..                              ...  \n",
       "59                       Spermidine  \n",
       "60                       L-Cysteine  \n",
       "61                      Iron (Fe3+)  \n",
       "62                        Potassium  \n",
       "63                       Pyridoxine  \n",
       "\n",
       "[483 rows x 4 columns]"
      ]
     },
     "execution_count": 27,
     "metadata": {},
     "output_type": "execute_result"
    }
   ],
   "source": [
    "media_total_df = pd.concat(media_dfs)\n",
    "media_total_df"
   ]
  },
  {
   "cell_type": "code",
   "execution_count": 28,
   "id": "7c7c753b-c1c7-4445-b9cb-4f6d22757ccb",
   "metadata": {},
   "outputs": [],
   "source": [
    "media_total_df.to_csv(\"../output/gapfill_media/gapfill_media.tsv\",sep=\"\\t\",index=None)"
   ]
  },
  {
   "cell_type": "code",
   "execution_count": null,
   "id": "01849209-11f1-4b06-8aee-b98a556d0a39",
   "metadata": {},
   "outputs": [],
   "source": []
  }
 ],
 "metadata": {
  "kernelspec": {
   "display_name": "MAGs_RecAndAn2",
   "language": "python",
   "name": "mags_recandan2"
  },
  "language_info": {
   "codemirror_mode": {
    "name": "ipython",
    "version": 3
   },
   "file_extension": ".py",
   "mimetype": "text/x-python",
   "name": "python",
   "nbconvert_exporter": "python",
   "pygments_lexer": "ipython3",
   "version": "3.9.13"
  }
 },
 "nbformat": 4,
 "nbformat_minor": 5
}

{
 "cells": [
  {
   "cell_type": "markdown",
   "id": "24e8b65d-b0b4-4aa1-82d8-7232cd529475",
   "metadata": {},
   "source": [
    "# Single model pFBA predictions"
   ]
  },
  {
   "cell_type": "code",
   "execution_count": 7,
   "id": "5a3685e0-1a61-4419-b54c-c827aeb82ddb",
   "metadata": {},
   "outputs": [],
   "source": [
    "import reframed\n",
    "import pandas as pd\n",
    "import numpy as np\n",
    "\n",
    "import seaborn as sns\n",
    "\n",
    "import os\n",
    "import json\n",
    "import copy"
   ]
  },
  {
   "cell_type": "code",
   "execution_count": 8,
   "id": "d5de392e-429b-4736-b817-1de1b4803f48",
   "metadata": {},
   "outputs": [],
   "source": [
    "import functions.EGC as EGC\n",
    "\n",
    "import functions.general_functions as general_func"
   ]
  },
  {
   "cell_type": "markdown",
   "id": "6bd0e6ed-3438-4ef6-97b8-ec9c28186906",
   "metadata": {},
   "source": [
    "#### Load data"
   ]
  },
  {
   "cell_type": "code",
   "execution_count": 9,
   "id": "c6f61a02-4a56-4f69-bc47-dfcb16bc3dad",
   "metadata": {},
   "outputs": [
    {
     "data": {
      "text/html": [
       "<div>\n",
       "<style scoped>\n",
       "    .dataframe tbody tr th:only-of-type {\n",
       "        vertical-align: middle;\n",
       "    }\n",
       "\n",
       "    .dataframe tbody tr th {\n",
       "        vertical-align: top;\n",
       "    }\n",
       "\n",
       "    .dataframe thead th {\n",
       "        text-align: right;\n",
       "    }\n",
       "</style>\n",
       "<table border=\"1\" class=\"dataframe\">\n",
       "  <thead>\n",
       "    <tr style=\"text-align: right;\">\n",
       "      <th></th>\n",
       "      <th>Source</th>\n",
       "      <th>Substrate</th>\n",
       "      <th>Completeness (%)</th>\n",
       "      <th>Contamination (%)</th>\n",
       "      <th>Domain</th>\n",
       "      <th>Phylum</th>\n",
       "      <th>Class</th>\n",
       "      <th>Order</th>\n",
       "      <th>Family</th>\n",
       "      <th>Genus</th>\n",
       "      <th>Species</th>\n",
       "      <th>Genome size (bp)</th>\n",
       "      <th>Scaffolds</th>\n",
       "      <th>N50</th>\n",
       "      <th>CDS prediction (DRAM)</th>\n",
       "      <th>Coverage (%)</th>\n",
       "    </tr>\n",
       "    <tr>\n",
       "      <th>MAG</th>\n",
       "      <th></th>\n",
       "      <th></th>\n",
       "      <th></th>\n",
       "      <th></th>\n",
       "      <th></th>\n",
       "      <th></th>\n",
       "      <th></th>\n",
       "      <th></th>\n",
       "      <th></th>\n",
       "      <th></th>\n",
       "      <th></th>\n",
       "      <th></th>\n",
       "      <th></th>\n",
       "      <th></th>\n",
       "      <th></th>\n",
       "      <th></th>\n",
       "    </tr>\n",
       "  </thead>\n",
       "  <tbody>\n",
       "    <tr>\n",
       "      <th>CH3-bin.2</th>\n",
       "      <td>Marshland</td>\n",
       "      <td>Xylan</td>\n",
       "      <td>99.19</td>\n",
       "      <td>1.61</td>\n",
       "      <td>Bacteria</td>\n",
       "      <td>Firmicutes</td>\n",
       "      <td>Clostridia</td>\n",
       "      <td>Clostridiales</td>\n",
       "      <td>Clostridiaceae</td>\n",
       "      <td>Clostridium</td>\n",
       "      <td>Clostridium sp000230835</td>\n",
       "      <td>6175525</td>\n",
       "      <td>63</td>\n",
       "      <td>230012</td>\n",
       "      <td>5840</td>\n",
       "      <td>74.31</td>\n",
       "    </tr>\n",
       "    <tr>\n",
       "      <th>CH9-bin.0</th>\n",
       "      <td>Cow_Manure</td>\n",
       "      <td>Xylan</td>\n",
       "      <td>99.03</td>\n",
       "      <td>2.82</td>\n",
       "      <td>Bacteria</td>\n",
       "      <td>Actinobacteriota</td>\n",
       "      <td>Actinomycetia</td>\n",
       "      <td>Actinomycetales</td>\n",
       "      <td>Bifidobacteriaceae</td>\n",
       "      <td>Bifidobacterium</td>\n",
       "      <td>NaN</td>\n",
       "      <td>2513253</td>\n",
       "      <td>38</td>\n",
       "      <td>128964</td>\n",
       "      <td>2055</td>\n",
       "      <td>65.10</td>\n",
       "    </tr>\n",
       "  </tbody>\n",
       "</table>\n",
       "</div>"
      ],
      "text/plain": [
       "               Source Substrate  Completeness (%)  Contamination (%)  \\\n",
       "MAG                                                                    \n",
       "CH3-bin.2   Marshland     Xylan             99.19               1.61   \n",
       "CH9-bin.0  Cow_Manure     Xylan             99.03               2.82   \n",
       "\n",
       "             Domain            Phylum          Class            Order  \\\n",
       "MAG                                                                     \n",
       "CH3-bin.2  Bacteria        Firmicutes     Clostridia    Clostridiales   \n",
       "CH9-bin.0  Bacteria  Actinobacteriota  Actinomycetia  Actinomycetales   \n",
       "\n",
       "                       Family            Genus                  Species  \\\n",
       "MAG                                                                       \n",
       "CH3-bin.2      Clostridiaceae      Clostridium  Clostridium sp000230835   \n",
       "CH9-bin.0  Bifidobacteriaceae  Bifidobacterium                      NaN   \n",
       "\n",
       "           Genome size (bp)  Scaffolds     N50  CDS prediction (DRAM)  \\\n",
       "MAG                                                                     \n",
       "CH3-bin.2           6175525         63  230012                   5840   \n",
       "CH9-bin.0           2513253         38  128964                   2055   \n",
       "\n",
       "           Coverage (%)  \n",
       "MAG                      \n",
       "CH3-bin.2         74.31  \n",
       "CH9-bin.0         65.10  "
      ]
     },
     "execution_count": 9,
     "metadata": {},
     "output_type": "execute_result"
    }
   ],
   "source": [
    "all_mags_paper=general_func.read_allmags_data()\n",
    "all_mags_paper.head(2)"
   ]
  },
  {
   "cell_type": "markdown",
   "id": "f4f18bd3-8b3b-43e2-b89c-cfa0a816f1a2",
   "metadata": {},
   "source": [
    "#### Load models"
   ]
  },
  {
   "cell_type": "code",
   "execution_count": 10,
   "id": "23ee2ed9-0772-4bc0-9c73-ffe4e5ef313d",
   "metadata": {
    "scrolled": true,
    "tags": []
   },
   "outputs": [
    {
     "name": "stdout",
     "output_type": "stream",
     "text": [
      "CH9-bin.8.xml\n",
      "CH7-bin.24.xml\n",
      "CH7-bin.18.xml\n",
      "CH15-bin.7.xml\n",
      "CH13-bin.10.xml\n",
      "CH13-bin.0.xml\n",
      "CH1-bin.4.xml\n",
      "CH1-bin.5.xml\n",
      "CH13-bin.1.xml\n",
      "CH13-bin.11.xml\n",
      "CH15-bin.6.xml\n",
      "CH7-bin.2.xml\n",
      "CH7-bin.25.xml\n",
      "CH15-bin.4.xml\n",
      "CH15-bin.18.xml\n",
      "CH13-bin.13.xml\n",
      "CH1-bin.10.xml\n",
      "CH1-bin.7.xml\n",
      "CH1-bin.6.xml\n",
      "CH13-bin.2.xml\n",
      "CH13-bin.12.xml\n",
      "CH15-bin.5.xml\n",
      "CH7-bin.1.xml\n",
      "CH15-bin.1.xml\n",
      "CH13-bin.16.xml\n",
      "CH13-bin.6.xml\n",
      "CH1-bin.2.xml\n",
      "CH1-bin.3.xml\n",
      "CH13-bin.17.xml\n",
      "CH15-bin.0.xml\n",
      "CH15-bin.20.xml\n",
      "CH7-bin.4.xml\n",
      "CH7-bin.23.xml\n",
      "CH7-bin.21.xml\n",
      "CH7-bin.6.xml\n",
      "CH15-bin.22.xml\n",
      "CH15-bin.2.xml\n",
      "CH1-bin.1.xml\n",
      "CH1-bin.0.xml\n",
      "CH13-bin.4.xml\n",
      "CH13-bin.14.xml\n",
      "CH15-bin.3.xml\n",
      "CH15-bin.23.xml\n",
      "CH7-bin.20.xml\n",
      "CH8-bin.8.xml\n",
      "CH8-bin.9.xml\n",
      "CH8-bin.27.xml\n",
      "CH8-bin.25.xml\n",
      "CH14-bin.4.xml\n",
      "CH8-bin.20.xml\n",
      "CH14-bin.1.xml\n",
      "CH8-bin.21.xml\n",
      "CH14-bin.2.xml\n",
      "CH8-bin.22.xml\n",
      "CH8-bin.0.xml\n",
      "CH8-bin.12.xml\n",
      "CH8-bin.2.xml\n",
      "CH8-bin.11.xml\n",
      "CH8-bin.29.xml\n",
      "CH8-bin.7.xml\n",
      "CH8-bin.6.xml\n",
      "CH3-bin.2.xml\n",
      "CH8-bin.14.xml\n",
      "CH8-bin.16.xml\n",
      "CH3-bin.0.xml\n",
      "CH8-bin.4.xml\n",
      "CH8-bin.5.xml\n",
      "CH3-bin.1.xml\n",
      "CH8-bin.17.xml\n",
      "CH7-bin.11.xml\n",
      "CH9-bin.1.xml\n",
      "CH15-bin.12.xml\n",
      "CH13-bin.19.xml\n",
      "CH13-bin.25.xml\n",
      "CH13-bin.8.xml\n",
      "CH13-bin.24.xml\n",
      "CH15-bin.13.xml\n",
      "CH9-bin.0.xml\n",
      "CH7-bin.12.xml\n",
      "CH9-bin.2.xml\n",
      "CH7-bin.9.xml\n",
      "CH15-bin.11.xml\n",
      "CH15-bin.10.xml\n",
      "CH7-bin.8.xml\n",
      "CH7-bin.13.xml\n",
      "CH7-bin.17.xml\n",
      "CH15-bin.8.xml\n",
      "CH13-bin.22.xml\n",
      "CH15-bin.15.xml\n",
      "CH7-bin.16.xml\n",
      "CH9-bin.6.xml\n",
      "CH9-bin.4.xml\n",
      "CH7-bin.14.xml\n",
      "CH15-bin.17.xml\n",
      "CH13-bin.20.xml\n",
      "CH1-bin.8.xml\n",
      "CH1-bin.9.xml\n",
      "CH13-bin.21.xml\n",
      "CH15-bin.16.xml\n",
      "CH7-bin.15.xml\n",
      "CH9-bin.5.xml\n"
     ]
    }
   ],
   "source": [
    "directory = os.fsencode(\"output/GEMs/GEMs_no_constraints/\")\n",
    "\n",
    "GEMs_dict = {}\n",
    "for file in os.listdir(directory):\n",
    "    filename = os.fsdecode(file)\n",
    "    if filename.endswith(\".xml\"): \n",
    "        print(filename)\n",
    "        GEMs_dict[filename[:-4]]= reframed.load_cbmodel(\"output/GEMs/GEMs_no_constraints/\"+filename)\n",
    "        continue\n",
    "    else:\n",
    "        continue\n"
   ]
  },
  {
   "cell_type": "code",
   "execution_count": 11,
   "id": "b7b08296-4876-4024-8e17-82bfcfd3e709",
   "metadata": {
    "scrolled": true,
    "tags": []
   },
   "outputs": [
    {
     "name": "stdout",
     "output_type": "stream",
     "text": [
      "CH9-bin.8\n",
      "Set parameter Username\n",
      "Academic license - for non-commercial use only - expires 2025-03-14\n",
      "\u001b[92mThere are NO energy producing cycles in the model\u001b[0m\n",
      "CH7-bin.24\n",
      "\u001b[92mThere are NO energy producing cycles in the model\u001b[0m\n",
      "CH7-bin.18\n",
      "\u001b[92mThere are NO energy producing cycles in the model\u001b[0m\n",
      "CH15-bin.7\n",
      "\u001b[92mThere are NO energy producing cycles in the model\u001b[0m\n",
      "CH13-bin.10\n",
      "\u001b[92mThere are NO energy producing cycles in the model\u001b[0m\n",
      "CH13-bin.0\n",
      "\u001b[92mThere are NO energy producing cycles in the model\u001b[0m\n",
      "CH1-bin.4\n",
      "\u001b[92mThere are NO energy producing cycles in the model\u001b[0m\n",
      "CH1-bin.5\n",
      "\u001b[92mThere are NO energy producing cycles in the model\u001b[0m\n",
      "CH13-bin.1\n",
      "\u001b[92mThere are NO energy producing cycles in the model\u001b[0m\n",
      "CH13-bin.11\n",
      "\u001b[92mThere are NO energy producing cycles in the model\u001b[0m\n",
      "CH15-bin.6\n",
      "\u001b[92mThere are NO energy producing cycles in the model\u001b[0m\n",
      "CH7-bin.2\n",
      "\u001b[92mThere are NO energy producing cycles in the model\u001b[0m\n",
      "CH7-bin.25\n",
      "\u001b[92mThere are NO energy producing cycles in the model\u001b[0m\n",
      "CH15-bin.4\n",
      "\u001b[92mThere are NO energy producing cycles in the model\u001b[0m\n",
      "CH15-bin.18\n",
      "\u001b[92mThere are NO energy producing cycles in the model\u001b[0m\n",
      "CH13-bin.13\n",
      "\u001b[92mThere are NO energy producing cycles in the model\u001b[0m\n",
      "CH1-bin.10\n",
      "\u001b[92mThere are NO energy producing cycles in the model\u001b[0m\n",
      "CH1-bin.7\n",
      "\u001b[92mThere are NO energy producing cycles in the model\u001b[0m\n",
      "CH1-bin.6\n",
      "\u001b[92mThere are NO energy producing cycles in the model\u001b[0m\n",
      "CH13-bin.2\n",
      "\u001b[92mThere are NO energy producing cycles in the model\u001b[0m\n",
      "CH13-bin.12\n",
      "\u001b[92mThere are NO energy producing cycles in the model\u001b[0m\n",
      "CH15-bin.5\n",
      "\u001b[92mThere are NO energy producing cycles in the model\u001b[0m\n",
      "CH7-bin.1\n",
      "\u001b[92mThere are NO energy producing cycles in the model\u001b[0m\n",
      "CH15-bin.1\n",
      "\u001b[92mThere are NO energy producing cycles in the model\u001b[0m\n",
      "CH13-bin.16\n",
      "\u001b[92mThere are NO energy producing cycles in the model\u001b[0m\n",
      "CH13-bin.6\n",
      "\u001b[92mThere are NO energy producing cycles in the model\u001b[0m\n",
      "CH1-bin.2\n",
      "\u001b[92mThere are NO energy producing cycles in the model\u001b[0m\n",
      "CH1-bin.3\n",
      "\u001b[92mThere are NO energy producing cycles in the model\u001b[0m\n",
      "CH13-bin.17\n",
      "\u001b[92mThere are NO energy producing cycles in the model\u001b[0m\n",
      "CH15-bin.0\n",
      "\u001b[92mThere are NO energy producing cycles in the model\u001b[0m\n",
      "CH15-bin.20\n",
      "\u001b[92mThere are NO energy producing cycles in the model\u001b[0m\n",
      "CH7-bin.4\n",
      "\u001b[92mThere are NO energy producing cycles in the model\u001b[0m\n",
      "CH7-bin.23\n",
      "\u001b[92mThere are NO energy producing cycles in the model\u001b[0m\n",
      "CH7-bin.21\n",
      "\u001b[92mThere are NO energy producing cycles in the model\u001b[0m\n",
      "CH7-bin.6\n",
      "\u001b[92mThere are NO energy producing cycles in the model\u001b[0m\n",
      "CH15-bin.22\n",
      "\u001b[92mThere are NO energy producing cycles in the model\u001b[0m\n",
      "CH15-bin.2\n",
      "\u001b[92mThere are NO energy producing cycles in the model\u001b[0m\n",
      "CH1-bin.1\n",
      "\u001b[92mThere are NO energy producing cycles in the model\u001b[0m\n",
      "CH1-bin.0\n",
      "\u001b[92mThere are NO energy producing cycles in the model\u001b[0m\n",
      "CH13-bin.4\n",
      "\u001b[92mThere are NO energy producing cycles in the model\u001b[0m\n",
      "CH13-bin.14\n",
      "\u001b[92mThere are NO energy producing cycles in the model\u001b[0m\n",
      "CH15-bin.3\n",
      "\u001b[92mThere are NO energy producing cycles in the model\u001b[0m\n",
      "CH15-bin.23\n",
      "\u001b[92mThere are NO energy producing cycles in the model\u001b[0m\n",
      "CH7-bin.20\n",
      "\u001b[92mThere are NO energy producing cycles in the model\u001b[0m\n",
      "CH8-bin.8\n",
      "\u001b[92mThere are NO energy producing cycles in the model\u001b[0m\n",
      "CH8-bin.9\n",
      "\u001b[92mThere are NO energy producing cycles in the model\u001b[0m\n",
      "CH8-bin.27\n",
      "\u001b[92mThere are NO energy producing cycles in the model\u001b[0m\n",
      "CH8-bin.25\n",
      "\u001b[92mThere are NO energy producing cycles in the model\u001b[0m\n",
      "CH14-bin.4\n",
      "\u001b[92mThere are NO energy producing cycles in the model\u001b[0m\n",
      "CH8-bin.20\n",
      "\u001b[92mThere are NO energy producing cycles in the model\u001b[0m\n",
      "CH14-bin.1\n",
      "\u001b[92mThere are NO energy producing cycles in the model\u001b[0m\n",
      "CH8-bin.21\n",
      "\u001b[92mThere are NO energy producing cycles in the model\u001b[0m\n",
      "CH14-bin.2\n",
      "\u001b[92mThere are NO energy producing cycles in the model\u001b[0m\n",
      "CH8-bin.22\n",
      "\u001b[92mThere are NO energy producing cycles in the model\u001b[0m\n",
      "CH8-bin.0\n",
      "\u001b[92mThere are NO energy producing cycles in the model\u001b[0m\n",
      "CH8-bin.12\n",
      "\u001b[92mThere are NO energy producing cycles in the model\u001b[0m\n",
      "CH8-bin.2\n",
      "\u001b[92mThere are NO energy producing cycles in the model\u001b[0m\n",
      "CH8-bin.11\n",
      "\u001b[92mThere are NO energy producing cycles in the model\u001b[0m\n",
      "CH8-bin.29\n",
      "\u001b[92mThere are NO energy producing cycles in the model\u001b[0m\n",
      "CH8-bin.7\n",
      "\u001b[92mThere are NO energy producing cycles in the model\u001b[0m\n",
      "CH8-bin.6\n",
      "\u001b[92mThere are NO energy producing cycles in the model\u001b[0m\n",
      "CH3-bin.2\n",
      "\u001b[92mThere are NO energy producing cycles in the model\u001b[0m\n",
      "CH8-bin.14\n",
      "\u001b[92mThere are NO energy producing cycles in the model\u001b[0m\n",
      "CH8-bin.16\n",
      "\u001b[92mThere are NO energy producing cycles in the model\u001b[0m\n",
      "CH3-bin.0\n",
      "\u001b[92mThere are NO energy producing cycles in the model\u001b[0m\n",
      "CH8-bin.4\n",
      "\u001b[92mThere are NO energy producing cycles in the model\u001b[0m\n",
      "CH8-bin.5\n",
      "\u001b[92mThere are NO energy producing cycles in the model\u001b[0m\n",
      "CH3-bin.1\n",
      "\u001b[92mThere are NO energy producing cycles in the model\u001b[0m\n",
      "CH8-bin.17\n",
      "\u001b[92mThere are NO energy producing cycles in the model\u001b[0m\n",
      "CH7-bin.11\n",
      "\u001b[92mThere are NO energy producing cycles in the model\u001b[0m\n",
      "CH9-bin.1\n",
      "\u001b[92mThere are NO energy producing cycles in the model\u001b[0m\n",
      "CH15-bin.12\n",
      "\u001b[92mThere are NO energy producing cycles in the model\u001b[0m\n",
      "CH13-bin.19\n",
      "\u001b[92mThere are NO energy producing cycles in the model\u001b[0m\n",
      "CH13-bin.25\n",
      "\u001b[92mThere are NO energy producing cycles in the model\u001b[0m\n",
      "CH13-bin.8\n",
      "\u001b[92mThere are NO energy producing cycles in the model\u001b[0m\n",
      "CH13-bin.24\n",
      "\u001b[92mThere are NO energy producing cycles in the model\u001b[0m\n",
      "CH15-bin.13\n",
      "\u001b[92mThere are NO energy producing cycles in the model\u001b[0m\n",
      "CH9-bin.0\n",
      "\u001b[92mThere are NO energy producing cycles in the model\u001b[0m\n",
      "CH7-bin.12\n",
      "\u001b[92mThere are NO energy producing cycles in the model\u001b[0m\n",
      "CH9-bin.2\n",
      "\u001b[92mThere are NO energy producing cycles in the model\u001b[0m\n",
      "CH7-bin.9\n",
      "\u001b[92mThere are NO energy producing cycles in the model\u001b[0m\n",
      "CH15-bin.11\n",
      "\u001b[92mThere are NO energy producing cycles in the model\u001b[0m\n",
      "CH15-bin.10\n",
      "\u001b[92mThere are NO energy producing cycles in the model\u001b[0m\n",
      "CH7-bin.8\n",
      "\u001b[92mThere are NO energy producing cycles in the model\u001b[0m\n",
      "CH7-bin.13\n",
      "\u001b[92mThere are NO energy producing cycles in the model\u001b[0m\n",
      "CH7-bin.17\n",
      "\u001b[92mThere are NO energy producing cycles in the model\u001b[0m\n",
      "CH15-bin.8\n",
      "\u001b[92mThere are NO energy producing cycles in the model\u001b[0m\n",
      "CH13-bin.22\n",
      "\u001b[92mThere are NO energy producing cycles in the model\u001b[0m\n",
      "CH15-bin.15\n",
      "\u001b[92mThere are NO energy producing cycles in the model\u001b[0m\n",
      "CH7-bin.16\n",
      "\u001b[92mThere are NO energy producing cycles in the model\u001b[0m\n",
      "CH9-bin.6\n",
      "\u001b[92mThere are NO energy producing cycles in the model\u001b[0m\n",
      "CH9-bin.4\n",
      "\u001b[92mThere are NO energy producing cycles in the model\u001b[0m\n",
      "CH7-bin.14\n",
      "\u001b[92mThere are NO energy producing cycles in the model\u001b[0m\n",
      "CH15-bin.17\n",
      "\u001b[92mThere are NO energy producing cycles in the model\u001b[0m\n",
      "CH13-bin.20\n",
      "\u001b[92mThere are NO energy producing cycles in the model\u001b[0m\n",
      "CH1-bin.8\n",
      "\u001b[92mThere are NO energy producing cycles in the model\u001b[0m\n",
      "CH1-bin.9\n",
      "\u001b[92mThere are NO energy producing cycles in the model\u001b[0m\n",
      "CH13-bin.21\n",
      "\u001b[92mThere are NO energy producing cycles in the model\u001b[0m\n",
      "CH15-bin.16\n",
      "\u001b[92mThere are NO energy producing cycles in the model\u001b[0m\n",
      "CH7-bin.15\n",
      "\u001b[92mThere are NO energy producing cycles in the model\u001b[0m\n",
      "CH9-bin.5\n",
      "\u001b[92mThere are NO energy producing cycles in the model\u001b[0m\n"
     ]
    }
   ],
   "source": [
    "for MAG,model in GEMs_dict.items():\n",
    "    print(MAG)\n",
    "    EGC.EGC_identifier(model)"
   ]
  },
  {
   "cell_type": "markdown",
   "id": "9ddc4ddc-ca7d-46ad-8fd1-306c495dd6b8",
   "metadata": {
    "tags": []
   },
   "source": [
    "### Define environment"
   ]
  },
  {
   "cell_type": "markdown",
   "id": "8d513587-6661-47e7-b985-352c4d21ba2e",
   "metadata": {},
   "source": [
    "**From SynCon2 to SynCon1**\n",
    "\n",
    "\"SynCon2 had the same composition, but it lacked ascorbic acid, and it had two additional trace elements (selenium and wolfram)\"\n",
    "\n",
    "Add\n",
    "- Ascorbate: ascb__L\n",
    "\n",
    "Remove\n",
    "- Selenite (inorganic selenium): slnt\n",
    "- (wolfram: not in BiGG database)"
   ]
  },
  {
   "cell_type": "code",
   "execution_count": 12,
   "id": "8939a676-7a6d-44e0-a81e-4de53863deb4",
   "metadata": {
    "tags": []
   },
   "outputs": [],
   "source": [
    "syncon2 = list(pd.read_csv(\"input/syncon2media_combined.csv\",header=None)[0].values)\n",
    "\n",
    "syncon1 = copy.copy(syncon2)\n",
    "syncon1.remove(\"slnt\")\n",
    "syncon1.append(\"ascb__L\")"
   ]
  },
  {
   "cell_type": "code",
   "execution_count": 13,
   "id": "0d3193bb-aef9-4ab4-a9ea-317caff23621",
   "metadata": {
    "tags": []
   },
   "outputs": [],
   "source": [
    "substrate_composition = {\"Avicel\":[\"cellb\",\"cell3\",\"cell4\",\"cell5\"],\n",
    "                         \"PASC\":[\"cellb\",\"cell3\",\"cell4\",\"cell5\"],\n",
    "                         \"Xylan\":[\"xylb\",\"xyl3\",\"xylan4\",\"xylan8\"]}"
   ]
  },
  {
   "cell_type": "code",
   "execution_count": 15,
   "id": "dff5d768-bc12-48a6-8a6e-90f0027ded4e",
   "metadata": {},
   "outputs": [],
   "source": [
    "syncon2_environments = {}\n",
    "for substrate_name,met_mols in substrate_composition.items():\n",
    "    syncon2_environments[substrate_name]= reframed.Environment.from_compounds(syncon2)\n",
    "    for met in met_mols:\n",
    "        syncon2_environments[substrate_name][\"R_EX_\"+met+\"_e\"]=(-10,0)"
   ]
  },
  {
   "cell_type": "markdown",
   "id": "58813386-0d80-4a6f-a057-8dd6d3008782",
   "metadata": {
    "tags": []
   },
   "source": [
    "### FBA growth predictions (SynCon2)"
   ]
  },
  {
   "cell_type": "code",
   "execution_count": 16,
   "id": "883072ed-176a-4a2a-98ba-bdc23a233bbc",
   "metadata": {},
   "outputs": [],
   "source": [
    "community_groups = all_mags_paper.groupby(by= [\"Source\",\"Substrate\"]).groups"
   ]
  },
  {
   "cell_type": "code",
   "execution_count": 18,
   "id": "523af704-c3ba-4b0e-90f5-90ac3ffb324b",
   "metadata": {
    "scrolled": true,
    "tags": []
   },
   "outputs": [
    {
     "name": "stdout",
     "output_type": "stream",
     "text": [
      "CH13-bin.12\n",
      "CH13-bin.14\n",
      "CH13-bin.4\n",
      "CH13-bin.11\n"
     ]
    },
    {
     "name": "stderr",
     "output_type": "stream",
     "text": [
      "/Users/idunmariaburgos/opt/anaconda3/envs/MAGs_RecAndAn2/lib/python3.9/site-packages/reframed/core/environment.py:75: UserWarning: Exchange reaction not in model: R_EX_b12_e\n",
      "  warn(f'Exchange reaction not in model: {r_id}')\n",
      "/Users/idunmariaburgos/opt/anaconda3/envs/MAGs_RecAndAn2/lib/python3.9/site-packages/reframed/core/environment.py:75: UserWarning: Exchange reaction not in model: R_EX_slnt_e\n",
      "  warn(f'Exchange reaction not in model: {r_id}')\n",
      "/Users/idunmariaburgos/opt/anaconda3/envs/MAGs_RecAndAn2/lib/python3.9/site-packages/reframed/core/environment.py:75: UserWarning: Exchange reaction not in model: R_EX_ribflv_e\n",
      "  warn(f'Exchange reaction not in model: {r_id}')\n",
      "/Users/idunmariaburgos/opt/anaconda3/envs/MAGs_RecAndAn2/lib/python3.9/site-packages/reframed/core/environment.py:75: UserWarning: Exchange reaction not in model: R_EX_pydxn_e\n",
      "  warn(f'Exchange reaction not in model: {r_id}')\n",
      "/Users/idunmariaburgos/opt/anaconda3/envs/MAGs_RecAndAn2/lib/python3.9/site-packages/reframed/core/environment.py:75: UserWarning: Exchange reaction not in model: R_EX_ni2_e\n",
      "  warn(f'Exchange reaction not in model: {r_id}')\n",
      "/Users/idunmariaburgos/opt/anaconda3/envs/MAGs_RecAndAn2/lib/python3.9/site-packages/reframed/core/environment.py:75: UserWarning: Exchange reaction not in model: R_EX_rbflvrd_e\n",
      "  warn(f'Exchange reaction not in model: {r_id}')\n",
      "/Users/idunmariaburgos/opt/anaconda3/envs/MAGs_RecAndAn2/lib/python3.9/site-packages/reframed/core/environment.py:75: UserWarning: Exchange reaction not in model: R_EX_fol_e\n",
      "  warn(f'Exchange reaction not in model: {r_id}')\n",
      "/Users/idunmariaburgos/opt/anaconda3/envs/MAGs_RecAndAn2/lib/python3.9/site-packages/reframed/core/environment.py:75: UserWarning: Exchange reaction not in model: R_EX_pnto__R_e\n",
      "  warn(f'Exchange reaction not in model: {r_id}')\n",
      "/Users/idunmariaburgos/opt/anaconda3/envs/MAGs_RecAndAn2/lib/python3.9/site-packages/reframed/core/environment.py:75: UserWarning: Exchange reaction not in model: R_EX_na1_e\n",
      "  warn(f'Exchange reaction not in model: {r_id}')\n",
      "/Users/idunmariaburgos/opt/anaconda3/envs/MAGs_RecAndAn2/lib/python3.9/site-packages/reframed/core/environment.py:75: UserWarning: Exchange reaction not in model: R_EX_tungs_e\n",
      "  warn(f'Exchange reaction not in model: {r_id}')\n",
      "/Users/idunmariaburgos/opt/anaconda3/envs/MAGs_RecAndAn2/lib/python3.9/site-packages/reframed/core/environment.py:75: UserWarning: Exchange reaction not in model: R_EX_mobd_e\n",
      "  warn(f'Exchange reaction not in model: {r_id}')\n",
      "/Users/idunmariaburgos/opt/anaconda3/envs/MAGs_RecAndAn2/lib/python3.9/site-packages/reframed/core/environment.py:75: UserWarning: Exchange reaction not in model: R_EX_4abz_e\n",
      "  warn(f'Exchange reaction not in model: {r_id}')\n",
      "/Users/idunmariaburgos/opt/anaconda3/envs/MAGs_RecAndAn2/lib/python3.9/site-packages/reframed/core/environment.py:75: UserWarning: Exchange reaction not in model: R_EX_nac_e\n",
      "  warn(f'Exchange reaction not in model: {r_id}')\n",
      "/Users/idunmariaburgos/opt/anaconda3/envs/MAGs_RecAndAn2/lib/python3.9/site-packages/reframed/core/environment.py:75: UserWarning: Exchange reaction not in model: R_EX_thm_e\n",
      "  warn(f'Exchange reaction not in model: {r_id}')\n",
      "/Users/idunmariaburgos/opt/anaconda3/envs/MAGs_RecAndAn2/lib/python3.9/site-packages/reframed/core/environment.py:75: UserWarning: Exchange reaction not in model: R_EX_cell3_e\n",
      "  warn(f'Exchange reaction not in model: {r_id}')\n",
      "/Users/idunmariaburgos/opt/anaconda3/envs/MAGs_RecAndAn2/lib/python3.9/site-packages/reframed/core/environment.py:75: UserWarning: Exchange reaction not in model: R_EX_btn_e\n",
      "  warn(f'Exchange reaction not in model: {r_id}')\n",
      "/Users/idunmariaburgos/opt/anaconda3/envs/MAGs_RecAndAn2/lib/python3.9/site-packages/reframed/core/environment.py:75: UserWarning: Exchange reaction not in model: R_EX_cellb_e\n",
      "  warn(f'Exchange reaction not in model: {r_id}')\n",
      "/Users/idunmariaburgos/opt/anaconda3/envs/MAGs_RecAndAn2/lib/python3.9/site-packages/reframed/core/environment.py:75: UserWarning: Exchange reaction not in model: R_EX_cell4_e\n",
      "  warn(f'Exchange reaction not in model: {r_id}')\n",
      "/Users/idunmariaburgos/opt/anaconda3/envs/MAGs_RecAndAn2/lib/python3.9/site-packages/reframed/core/environment.py:75: UserWarning: Exchange reaction not in model: R_EX_cell5_e\n",
      "  warn(f'Exchange reaction not in model: {r_id}')\n"
     ]
    },
    {
     "name": "stdout",
     "output_type": "stream",
     "text": [
      "CH13-bin.25\n",
      "CH13-bin.0\n",
      "CH13-bin.17\n",
      "CH13-bin.1\n",
      "CH13-bin.13\n",
      "CH13-bin.2\n",
      "CH13-bin.10\n",
      "CH13-bin.6\n",
      "CH13-bin.8\n",
      "CH13-bin.19\n",
      "CH13-bin.24\n",
      "CH13-bin.20\n",
      "CH13-bin.21\n"
     ]
    },
    {
     "name": "stderr",
     "output_type": "stream",
     "text": [
      "/Users/idunmariaburgos/opt/anaconda3/envs/MAGs_RecAndAn2/lib/python3.9/site-packages/reframed/core/environment.py:75: UserWarning: Exchange reaction not in model: R_EX_so4_e\n",
      "  warn(f'Exchange reaction not in model: {r_id}')\n"
     ]
    },
    {
     "name": "stdout",
     "output_type": "stream",
     "text": [
      "CH13-bin.22\n",
      "CH13-bin.16\n",
      "CH15-bin.0\n",
      "CH15-bin.1\n",
      "CH15-bin.23\n",
      "CH15-bin.7\n",
      "CH15-bin.16\n",
      "CH15-bin.8\n",
      "CH15-bin.17\n",
      "CH15-bin.22\n",
      "CH15-bin.6\n",
      "CH15-bin.5\n",
      "CH15-bin.13\n",
      "CH15-bin.10\n",
      "CH15-bin.12\n",
      "CH15-bin.15\n",
      "CH15-bin.18\n",
      "CH15-bin.2\n",
      "CH15-bin.20\n",
      "CH15-bin.11\n",
      "CH15-bin.3\n",
      "CH15-bin.4\n",
      "CH14-bin.1\n",
      "CH14-bin.2\n",
      "CH14-bin.4\n",
      "CH8-bin.22\n"
     ]
    },
    {
     "name": "stderr",
     "output_type": "stream",
     "text": [
      "/Users/idunmariaburgos/opt/anaconda3/envs/MAGs_RecAndAn2/lib/python3.9/site-packages/reframed/core/environment.py:75: UserWarning: Exchange reaction not in model: R_EX_xyl3_e\n",
      "  warn(f'Exchange reaction not in model: {r_id}')\n",
      "/Users/idunmariaburgos/opt/anaconda3/envs/MAGs_RecAndAn2/lib/python3.9/site-packages/reframed/core/environment.py:75: UserWarning: Exchange reaction not in model: R_EX_xylb_e\n",
      "  warn(f'Exchange reaction not in model: {r_id}')\n",
      "/Users/idunmariaburgos/opt/anaconda3/envs/MAGs_RecAndAn2/lib/python3.9/site-packages/reframed/core/environment.py:75: UserWarning: Exchange reaction not in model: R_EX_xylan8_e\n",
      "  warn(f'Exchange reaction not in model: {r_id}')\n",
      "/Users/idunmariaburgos/opt/anaconda3/envs/MAGs_RecAndAn2/lib/python3.9/site-packages/reframed/core/environment.py:75: UserWarning: Exchange reaction not in model: R_EX_xylan4_e\n",
      "  warn(f'Exchange reaction not in model: {r_id}')\n"
     ]
    },
    {
     "name": "stdout",
     "output_type": "stream",
     "text": [
      "CH8-bin.17\n",
      "CH8-bin.25\n",
      "CH8-bin.2\n",
      "CH8-bin.6\n"
     ]
    },
    {
     "name": "stderr",
     "output_type": "stream",
     "text": [
      "/Users/idunmariaburgos/opt/anaconda3/envs/MAGs_RecAndAn2/lib/python3.9/site-packages/reframed/core/environment.py:75: UserWarning: Exchange reaction not in model: R_EX_cys__L_e\n",
      "  warn(f'Exchange reaction not in model: {r_id}')\n"
     ]
    },
    {
     "name": "stdout",
     "output_type": "stream",
     "text": [
      "CH8-bin.7\n",
      "CH8-bin.5\n",
      "CH8-bin.8\n",
      "CH8-bin.16\n",
      "CH8-bin.9\n",
      "CH8-bin.21\n",
      "CH8-bin.14\n",
      "CH8-bin.4\n",
      "CH8-bin.29\n",
      "CH8-bin.12\n",
      "CH8-bin.0\n",
      "CH8-bin.11\n",
      "CH8-bin.20\n",
      "CH8-bin.27\n",
      "CH7-bin.23\n",
      "CH7-bin.16\n",
      "CH7-bin.11\n",
      "CH7-bin.13\n",
      "CH7-bin.8\n",
      "CH7-bin.18\n",
      "CH7-bin.2\n",
      "CH7-bin.4\n",
      "CH7-bin.1\n",
      "CH7-bin.17\n",
      "CH7-bin.12\n",
      "CH7-bin.20\n",
      "CH7-bin.9\n",
      "CH7-bin.6\n",
      "CH7-bin.15\n",
      "CH7-bin.24\n",
      "CH7-bin.14\n",
      "CH7-bin.21\n",
      "CH7-bin.25\n",
      "CH9-bin.0\n",
      "CH9-bin.6\n",
      "CH9-bin.1\n",
      "CH9-bin.2\n",
      "CH9-bin.5\n",
      "CH9-bin.4\n",
      "CH9-bin.8\n",
      "CH1-bin.6\n",
      "CH1-bin.9\n",
      "CH1-bin.8\n",
      "CH1-bin.3\n",
      "CH1-bin.4\n",
      "CH1-bin.7\n",
      "CH1-bin.1\n",
      "CH1-bin.10\n"
     ]
    },
    {
     "name": "stderr",
     "output_type": "stream",
     "text": [
      "/Users/idunmariaburgos/opt/anaconda3/envs/MAGs_RecAndAn2/lib/python3.9/site-packages/reframed/core/environment.py:75: UserWarning: Exchange reaction not in model: R_EX_fe2_e\n",
      "  warn(f'Exchange reaction not in model: {r_id}')\n"
     ]
    },
    {
     "name": "stdout",
     "output_type": "stream",
     "text": [
      "CH1-bin.2\n",
      "CH1-bin.5\n",
      "CH1-bin.0\n",
      "CH3-bin.2\n",
      "CH3-bin.1\n",
      "CH3-bin.0\n"
     ]
    }
   ],
   "source": [
    "FBA_growth = {}\n",
    "for community, MAGs in community_groups.items(): \n",
    "    FBA_growth[community]={}\n",
    "    for MAG in MAGs:\n",
    "    \n",
    "        print(MAG)\n",
    "        model = GEMs_dict[MAG]\n",
    "        syncon2_environments[community[1]].apply(model,inplace=True,exclusive=True)\n",
    "        sol = reframed.FBA(model)\n",
    "        \n",
    "        if sol is None:\n",
    "            FBA_growth[community][MAG]=None\n",
    "        else:\n",
    "            FBA_growth[community][MAG]=sol"
   ]
  },
  {
   "cell_type": "markdown",
   "id": "22a5089c-1de6-44f8-91c7-f5ac6bfb950b",
   "metadata": {},
   "source": [
    "**Process solution from FBA**"
   ]
  },
  {
   "cell_type": "code",
   "execution_count": 19,
   "id": "1ee97348-78d8-4efc-bdbc-923db9bf6fc5",
   "metadata": {},
   "outputs": [],
   "source": [
    "# Add the source and substrate to this data\n",
    "growth_community_df = pd.concat([all_mags_paper.loc[:,[\"Source\",\"Substrate\"]],pd.Series({GEM:sol.fobj for sour_sub,GEM_sol_dict in FBA_growth.items() for GEM,sol in GEM_sol_dict.items()})],axis=1)\n",
    "\n",
    "# Change from float to False or positive\n",
    "growth_community_df[\"Grows\"] = growth_community_df[0].map(lambda x:x>1e-6)\n",
    "\n",
    "# Drop the growth float column\n",
    "growth_community_df.drop(0,axis=1,inplace=True)\n",
    "\n",
    "# Group by source and substrate\n",
    "growth_community_grouped_df = growth_community_df.groupby([\"Source\",\"Substrate\"]).value_counts()\n",
    "\n",
    "# Change grows index to column\n",
    "growth_community_grouped_df = growth_community_grouped_df.reset_index(level=\"Grows\")\n",
    "\n",
    "# Make different columns for grows and does not grow\n",
    "growth_community_grouped_df = pd.concat([growth_community_grouped_df[growth_community_grouped_df[\"Grows\"]].drop(\"Grows\",axis=1),growth_community_grouped_df[~growth_community_grouped_df[\"Grows\"]].drop(\"Grows\",axis=1)],axis=1)\n",
    "\n",
    "# Name columns\n",
    "growth_community_grouped_df.columns = [\"# growing\",\"# not growing\"]\n",
    "\n",
    "growth_community_grouped_df.fillna(0,inplace=True)\n",
    "growth_community_grouped_df[\"# growing\"] = growth_community_grouped_df[\"# growing\"].map(int)"
   ]
  },
  {
   "cell_type": "code",
   "execution_count": 20,
   "id": "7b05ec15-db72-4cb8-be4e-890ba55cf275",
   "metadata": {},
   "outputs": [
    {
     "data": {
      "image/png": "[encoded data removed]",
      "text/plain": [
       "<Figure size 640x480 with 1 Axes>"
      ]
     },
     "metadata": {},
     "output_type": "display_data"
    }
   ],
   "source": [
    "import matplotlib.pyplot as plt\n",
    "\n",
    "growth_community_grouped_df.plot(kind=\"bar\",color=['mediumseagreen','indianred'])\n",
    "plt.savefig(\"grows_count.png\",bbox_inches='tight')"
   ]
  },
  {
   "cell_type": "markdown",
   "id": "8a99096e-faf6-46c1-874f-d7ccdffd4002",
   "metadata": {},
   "source": [
    "### FBA product production"
   ]
  },
  {
   "cell_type": "code",
   "execution_count": 22,
   "id": "8380f954-a533-4a56-a42e-9e9c8695f880",
   "metadata": {
    "scrolled": true,
    "tags": []
   },
   "outputs": [
    {
     "name": "stdout",
     "output_type": "stream",
     "text": [
      "CH13-bin.12\n",
      "CH13-bin.14\n"
     ]
    },
    {
     "name": "stderr",
     "output_type": "stream",
     "text": [
      "/Users/idunmariaburgos/opt/anaconda3/envs/MAGs_RecAndAn2/lib/python3.9/site-packages/reframed/core/environment.py:75: UserWarning: Exchange reaction not in model: R_EX_b12_e\n",
      "  warn(f'Exchange reaction not in model: {r_id}')\n",
      "/Users/idunmariaburgos/opt/anaconda3/envs/MAGs_RecAndAn2/lib/python3.9/site-packages/reframed/core/environment.py:75: UserWarning: Exchange reaction not in model: R_EX_slnt_e\n",
      "  warn(f'Exchange reaction not in model: {r_id}')\n",
      "/Users/idunmariaburgos/opt/anaconda3/envs/MAGs_RecAndAn2/lib/python3.9/site-packages/reframed/core/environment.py:75: UserWarning: Exchange reaction not in model: R_EX_ribflv_e\n",
      "  warn(f'Exchange reaction not in model: {r_id}')\n",
      "/Users/idunmariaburgos/opt/anaconda3/envs/MAGs_RecAndAn2/lib/python3.9/site-packages/reframed/core/environment.py:75: UserWarning: Exchange reaction not in model: R_EX_pydxn_e\n",
      "  warn(f'Exchange reaction not in model: {r_id}')\n",
      "/Users/idunmariaburgos/opt/anaconda3/envs/MAGs_RecAndAn2/lib/python3.9/site-packages/reframed/core/environment.py:75: UserWarning: Exchange reaction not in model: R_EX_ni2_e\n",
      "  warn(f'Exchange reaction not in model: {r_id}')\n",
      "/Users/idunmariaburgos/opt/anaconda3/envs/MAGs_RecAndAn2/lib/python3.9/site-packages/reframed/core/environment.py:75: UserWarning: Exchange reaction not in model: R_EX_rbflvrd_e\n",
      "  warn(f'Exchange reaction not in model: {r_id}')\n",
      "/Users/idunmariaburgos/opt/anaconda3/envs/MAGs_RecAndAn2/lib/python3.9/site-packages/reframed/core/environment.py:75: UserWarning: Exchange reaction not in model: R_EX_fol_e\n",
      "  warn(f'Exchange reaction not in model: {r_id}')\n",
      "/Users/idunmariaburgos/opt/anaconda3/envs/MAGs_RecAndAn2/lib/python3.9/site-packages/reframed/core/environment.py:75: UserWarning: Exchange reaction not in model: R_EX_pnto__R_e\n",
      "  warn(f'Exchange reaction not in model: {r_id}')\n",
      "/Users/idunmariaburgos/opt/anaconda3/envs/MAGs_RecAndAn2/lib/python3.9/site-packages/reframed/core/environment.py:75: UserWarning: Exchange reaction not in model: R_EX_na1_e\n",
      "  warn(f'Exchange reaction not in model: {r_id}')\n",
      "/Users/idunmariaburgos/opt/anaconda3/envs/MAGs_RecAndAn2/lib/python3.9/site-packages/reframed/core/environment.py:75: UserWarning: Exchange reaction not in model: R_EX_tungs_e\n",
      "  warn(f'Exchange reaction not in model: {r_id}')\n",
      "/Users/idunmariaburgos/opt/anaconda3/envs/MAGs_RecAndAn2/lib/python3.9/site-packages/reframed/core/environment.py:75: UserWarning: Exchange reaction not in model: R_EX_mobd_e\n",
      "  warn(f'Exchange reaction not in model: {r_id}')\n",
      "/Users/idunmariaburgos/opt/anaconda3/envs/MAGs_RecAndAn2/lib/python3.9/site-packages/reframed/core/environment.py:75: UserWarning: Exchange reaction not in model: R_EX_4abz_e\n",
      "  warn(f'Exchange reaction not in model: {r_id}')\n",
      "/Users/idunmariaburgos/opt/anaconda3/envs/MAGs_RecAndAn2/lib/python3.9/site-packages/reframed/core/environment.py:75: UserWarning: Exchange reaction not in model: R_EX_nac_e\n",
      "  warn(f'Exchange reaction not in model: {r_id}')\n",
      "/Users/idunmariaburgos/opt/anaconda3/envs/MAGs_RecAndAn2/lib/python3.9/site-packages/reframed/core/environment.py:75: UserWarning: Exchange reaction not in model: R_EX_thm_e\n",
      "  warn(f'Exchange reaction not in model: {r_id}')\n",
      "/Users/idunmariaburgos/opt/anaconda3/envs/MAGs_RecAndAn2/lib/python3.9/site-packages/reframed/core/environment.py:75: UserWarning: Exchange reaction not in model: R_EX_cell3_e\n",
      "  warn(f'Exchange reaction not in model: {r_id}')\n",
      "/Users/idunmariaburgos/opt/anaconda3/envs/MAGs_RecAndAn2/lib/python3.9/site-packages/reframed/core/environment.py:75: UserWarning: Exchange reaction not in model: R_EX_btn_e\n",
      "  warn(f'Exchange reaction not in model: {r_id}')\n"
     ]
    },
    {
     "name": "stdout",
     "output_type": "stream",
     "text": [
      "CH13-bin.4\n"
     ]
    },
    {
     "name": "stderr",
     "output_type": "stream",
     "text": [
      "/Users/idunmariaburgos/opt/anaconda3/envs/MAGs_RecAndAn2/lib/python3.9/site-packages/reframed/core/environment.py:75: UserWarning: Exchange reaction not in model: R_EX_cellb_e\n",
      "  warn(f'Exchange reaction not in model: {r_id}')\n",
      "/Users/idunmariaburgos/opt/anaconda3/envs/MAGs_RecAndAn2/lib/python3.9/site-packages/reframed/core/environment.py:75: UserWarning: Exchange reaction not in model: R_EX_cell4_e\n",
      "  warn(f'Exchange reaction not in model: {r_id}')\n",
      "/Users/idunmariaburgos/opt/anaconda3/envs/MAGs_RecAndAn2/lib/python3.9/site-packages/reframed/core/environment.py:75: UserWarning: Exchange reaction not in model: R_EX_cell5_e\n",
      "  warn(f'Exchange reaction not in model: {r_id}')\n"
     ]
    },
    {
     "name": "stdout",
     "output_type": "stream",
     "text": [
      "CH13-bin.11\n",
      "CH13-bin.25\n",
      "CH13-bin.0\n",
      "CH13-bin.17\n",
      "CH13-bin.1\n",
      "CH13-bin.13\n",
      "CH13-bin.2\n",
      "CH13-bin.10\n",
      "CH13-bin.6\n",
      "CH13-bin.8\n",
      "CH13-bin.19\n",
      "CH13-bin.24\n"
     ]
    },
    {
     "name": "stderr",
     "output_type": "stream",
     "text": [
      "/Users/idunmariaburgos/opt/anaconda3/envs/MAGs_RecAndAn2/lib/python3.9/site-packages/reframed/core/environment.py:75: UserWarning: Exchange reaction not in model: R_EX_so4_e\n",
      "  warn(f'Exchange reaction not in model: {r_id}')\n"
     ]
    },
    {
     "name": "stdout",
     "output_type": "stream",
     "text": [
      "CH13-bin.20\n",
      "CH13-bin.21\n",
      "CH13-bin.22\n",
      "CH13-bin.16\n",
      "CH15-bin.0\n",
      "CH15-bin.1\n",
      "CH15-bin.23\n",
      "CH15-bin.7\n",
      "CH15-bin.16\n",
      "CH15-bin.8\n",
      "CH15-bin.17\n",
      "CH15-bin.22\n",
      "CH15-bin.6\n",
      "CH15-bin.5\n",
      "CH15-bin.13\n",
      "CH15-bin.10\n",
      "CH15-bin.12\n",
      "CH15-bin.15\n",
      "CH15-bin.18\n",
      "CH15-bin.2\n",
      "CH15-bin.20\n",
      "CH15-bin.11\n",
      "CH15-bin.3\n",
      "CH15-bin.4\n",
      "CH14-bin.1\n"
     ]
    },
    {
     "name": "stderr",
     "output_type": "stream",
     "text": [
      "/Users/idunmariaburgos/opt/anaconda3/envs/MAGs_RecAndAn2/lib/python3.9/site-packages/reframed/core/environment.py:75: UserWarning: Exchange reaction not in model: R_EX_xyl3_e\n",
      "  warn(f'Exchange reaction not in model: {r_id}')\n"
     ]
    },
    {
     "name": "stdout",
     "output_type": "stream",
     "text": [
      "CH14-bin.2\n",
      "CH14-bin.4\n"
     ]
    },
    {
     "name": "stderr",
     "output_type": "stream",
     "text": [
      "/Users/idunmariaburgos/opt/anaconda3/envs/MAGs_RecAndAn2/lib/python3.9/site-packages/reframed/core/environment.py:75: UserWarning: Exchange reaction not in model: R_EX_xylb_e\n",
      "  warn(f'Exchange reaction not in model: {r_id}')\n",
      "/Users/idunmariaburgos/opt/anaconda3/envs/MAGs_RecAndAn2/lib/python3.9/site-packages/reframed/core/environment.py:75: UserWarning: Exchange reaction not in model: R_EX_xylan8_e\n",
      "  warn(f'Exchange reaction not in model: {r_id}')\n",
      "/Users/idunmariaburgos/opt/anaconda3/envs/MAGs_RecAndAn2/lib/python3.9/site-packages/reframed/core/environment.py:75: UserWarning: Exchange reaction not in model: R_EX_xylan4_e\n",
      "  warn(f'Exchange reaction not in model: {r_id}')\n"
     ]
    },
    {
     "name": "stdout",
     "output_type": "stream",
     "text": [
      "CH8-bin.22\n",
      "CH8-bin.17\n",
      "CH8-bin.25\n",
      "CH8-bin.2\n",
      "CH8-bin.6\n"
     ]
    },
    {
     "name": "stderr",
     "output_type": "stream",
     "text": [
      "/Users/idunmariaburgos/opt/anaconda3/envs/MAGs_RecAndAn2/lib/python3.9/site-packages/reframed/core/environment.py:75: UserWarning: Exchange reaction not in model: R_EX_cys__L_e\n",
      "  warn(f'Exchange reaction not in model: {r_id}')\n"
     ]
    },
    {
     "name": "stdout",
     "output_type": "stream",
     "text": [
      "CH8-bin.7\n",
      "CH8-bin.5\n",
      "CH8-bin.8\n",
      "CH8-bin.16\n",
      "CH8-bin.9\n",
      "CH8-bin.21\n",
      "CH8-bin.14\n",
      "CH8-bin.4\n",
      "CH8-bin.29\n",
      "CH8-bin.12\n",
      "CH8-bin.0\n",
      "CH8-bin.11\n",
      "CH8-bin.20\n",
      "CH8-bin.27\n",
      "CH7-bin.23\n",
      "CH7-bin.16\n",
      "CH7-bin.11\n",
      "CH7-bin.13\n",
      "CH7-bin.8\n",
      "CH7-bin.18\n",
      "CH7-bin.2\n",
      "CH7-bin.4\n",
      "CH7-bin.1\n",
      "CH7-bin.17\n",
      "CH7-bin.12\n",
      "CH7-bin.20\n",
      "CH7-bin.9\n",
      "CH7-bin.6\n",
      "CH7-bin.15\n",
      "CH7-bin.24\n",
      "CH7-bin.14\n",
      "CH7-bin.21\n",
      "CH7-bin.25\n",
      "CH9-bin.0\n",
      "CH9-bin.6\n",
      "CH9-bin.1\n",
      "CH9-bin.2\n",
      "CH9-bin.5\n",
      "CH9-bin.4\n",
      "CH9-bin.8\n",
      "CH1-bin.6\n",
      "CH1-bin.9\n",
      "CH1-bin.8\n",
      "CH1-bin.3\n",
      "CH1-bin.4\n",
      "CH1-bin.7\n"
     ]
    },
    {
     "name": "stderr",
     "output_type": "stream",
     "text": [
      "/Users/idunmariaburgos/opt/anaconda3/envs/MAGs_RecAndAn2/lib/python3.9/site-packages/reframed/core/environment.py:75: UserWarning: Exchange reaction not in model: R_EX_fe2_e\n",
      "  warn(f'Exchange reaction not in model: {r_id}')\n"
     ]
    },
    {
     "name": "stdout",
     "output_type": "stream",
     "text": [
      "CH1-bin.1\n",
      "CH1-bin.10\n",
      "CH1-bin.2\n",
      "CH1-bin.5\n",
      "CH1-bin.0\n",
      "CH3-bin.2\n",
      "CH3-bin.1\n",
      "CH3-bin.0\n"
     ]
    }
   ],
   "source": [
    "FBA_production = {}\n",
    "\n",
    "interesting_compounds = [\"etoh\",\"lac__L\",\"ac\",\"ppa\",\"but\",\"2mpa\",\"isobuta\",\"ibt\",\"pta\",\"hxa\",\"isocap\"]\n",
    "\n",
    "for community, MAGs in community_groups.items(): \n",
    "    FBA_production[community]={}\n",
    "    \n",
    "    for MAG in MAGs:\n",
    "        print(MAG)\n",
    "            \n",
    "        model = GEMs_dict[MAG]\n",
    "        syncon2_environments[community[1]].apply(model,inplace=True,exclusive=True)\n",
    "        \n",
    "        FBA_production[community][MAG] = {}\n",
    "        \n",
    "        for met in interesting_compounds:\n",
    "            if \"R_EX_\"+met+\"_e\" not in model.get_exchange_reactions():\n",
    "                FBA_production[community][MAG][met]=None\n",
    "                continue\n",
    "            \n",
    "            sol = reframed.FBA(model,objective={\"R_EX_\"+met+\"_e\":1})\n",
    "\n",
    "            if sol is None:\n",
    "                FBA_production[community][MAG][met]=None\n",
    "            else:\n",
    "                FBA_production[community][MAG][met]=sol.fobj"
   ]
  },
  {
   "cell_type": "code",
   "execution_count": 23,
   "id": "010a496e-d452-44c9-8053-3aa2cc0d6ffc",
   "metadata": {},
   "outputs": [],
   "source": [
    "# Add the source and substrate to this data\n",
    "prod_sour_sub_df= pd.concat([all_mags_paper.loc[:,[\"Source\",\"Substrate\"]],pd.DataFrame({GEM:sol for sour_sub,GEM_sol_dict in FBA_production.items() for GEM,sol in GEM_sol_dict.items()}).transpose()],axis=1)\n",
    "\n",
    "prod_sour_sub_df.fillna(0,inplace=True)"
   ]
  },
  {
   "cell_type": "code",
   "execution_count": 26,
   "id": "3fb2785f-c69f-46bb-949a-4c05d5695410",
   "metadata": {},
   "outputs": [],
   "source": [
    "# Change from floats to binary\n",
    "prod_sour_sub_df_bools =  prod_sour_sub_df.iloc[:,:2]\n",
    "prod_sour_sub_df_bools = pd.concat([prod_sour_sub_df_bools,prod_sour_sub_df.iloc[:,2:].map(lambda x:x>1e-6)],axis=1)"
   ]
  },
  {
   "cell_type": "code",
   "execution_count": 27,
   "id": "1b5ccb6e-0517-478e-b992-7cf2ce19f907",
   "metadata": {},
   "outputs": [
    {
     "data": {
      "image/png": "[encoded data removed]",
      "text/plain": [
       "<Figure size 1200x1000 with 1 Axes>"
      ]
     },
     "metadata": {},
     "output_type": "display_data"
    }
   ],
   "source": [
    "prod_sour_sub_df_bools.groupby([\"Source\",\"Substrate\"]).sum().transpose().plot(kind=\"barh\",figsize=(12,10))\n",
    "plt.xlabel(\"Count\")\n",
    "plt.ylabel(\"fermentation product\")\n",
    "plt.title(\"Count of fermentation products producers\")\n",
    "plt.show()"
   ]
  },
  {
   "cell_type": "code",
   "execution_count": null,
   "id": "e538365d-e0bd-4351-9551-9e3c81131c0e",
   "metadata": {},
   "outputs": [],
   "source": []
  }
 ],
 "metadata": {
  "kernelspec": {
   "display_name": "MAGs_RecAndAn2",
   "language": "python",
   "name": "mags_recandan2"
  },
  "language_info": {
   "codemirror_mode": {
    "name": "ipython",
    "version": 3
   },
   "file_extension": ".py",
   "mimetype": "text/x-python",
   "name": "python",
   "nbconvert_exporter": "python",
   "pygments_lexer": "ipython3",
   "version": "3.9.13"
  }
 },
 "nbformat": 4,
 "nbformat_minor": 5
}

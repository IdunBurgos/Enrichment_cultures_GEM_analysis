{
 "cells": [
  {
   "cell_type": "markdown",
   "id": "1c38950f-7ec8-4f64-81ca-36df8f5693f6",
   "metadata": {
    "tags": []
   },
   "source": [
    "# Statistics\n",
    "\n",
    "\n",
    "**IDEAS**\n",
    "- SMETANA\n",
    "    - Find likelyhood that a community member from family X is dependent on a community member in family Y.\n",
    "    - Find likelyhood that a community member from family X is dependent on a compound A.\n",
    "\n",
    "- SteadierCOM\n",
    "    - No statistics?"
   ]
  },
  {
   "cell_type": "code",
   "execution_count": 2,
   "id": "b8e94fda-0181-48d5-9b2c-af7cad0a5586",
   "metadata": {},
   "outputs": [],
   "source": [
    "import math\n",
    "\n",
    "import pandas as pd\n",
    "from molmass import Formula\n",
    "import reframed"
   ]
  },
  {
   "cell_type": "code",
   "execution_count": 3,
   "id": "1dcbc1be-9c78-417f-bfc5-655465b122f8",
   "metadata": {},
   "outputs": [],
   "source": [
    "import sys\n",
    "sys.path.append(\"../functions/\")\n",
    "import general_functions as general_func\n",
    "\n",
    "import colors_MAGs\n",
    "import scipy.stats as stats"
   ]
  },
  {
   "cell_type": "code",
   "execution_count": 4,
   "id": "c2bf5f9c-9a84-439f-bfa5-0d1812fde8ed",
   "metadata": {},
   "outputs": [],
   "source": [
    "import numpy as np"
   ]
  },
  {
   "cell_type": "markdown",
   "id": "5d670260-e7e6-4ec1-80e9-7e93d8f4f15b",
   "metadata": {},
   "source": [
    "### Load universal model"
   ]
  },
  {
   "cell_type": "code",
   "execution_count": 5,
   "id": "c2eb8f02-76ca-46bd-ad01-c2544cc1dd61",
   "metadata": {},
   "outputs": [],
   "source": [
    "model_uni = reframed.load_cbmodel(\"/Users/idunmariaburgos/universal_model_extension/output/universe_bacteria.xml\")"
   ]
  },
  {
   "cell_type": "markdown",
   "id": "462a2ca9-969f-47bb-a6b7-aa20310410f3",
   "metadata": {},
   "source": [
    "### Load data "
   ]
  },
  {
   "cell_type": "code",
   "execution_count": 6,
   "id": "63c9b039-b2ac-410a-b109-59e18e52d810",
   "metadata": {},
   "outputs": [],
   "source": [
    "all_mags_paper = general_func.read_allmags_data()"
   ]
  },
  {
   "cell_type": "code",
   "execution_count": 7,
   "id": "66005de7-0dab-47a6-a94b-d8cd8e0aa371",
   "metadata": {},
   "outputs": [],
   "source": [
    "SC1_C = pd.read_csv(\"../output/steadiercom_sample_0.1.3/results/results_99_SC1_C.tsv\",sep=\"\\t\")\n",
    "SC2_C = pd.read_csv(\"../output/steadiercom_sample_0.1.3/results/results_99_SC2_C.tsv\",sep=\"\\t\")\n",
    "SC1_X = pd.read_csv(\"../output/steadiercom_sample_0.1.3/results/results_99_SC1_X.tsv\",sep=\"\\t\")\n",
    "\n",
    "steadier_sample = pd.concat([SC1_C,SC2_C,SC1_X])\n",
    "steadier_sample = steadier_sample[(steadier_sample.frequency>0.1) & (steadier_sample.rate>1e-6)]"
   ]
  },
  {
   "cell_type": "code",
   "execution_count": 8,
   "id": "a274f04f-f6a1-43d8-ab28-b0fd938d543b",
   "metadata": {},
   "outputs": [],
   "source": [
    "steadier_sample_cross = steadier_sample[(steadier_sample.donor!=\"environment\") & (steadier_sample.receiver!=\"environment\") ].copy()"
   ]
  },
  {
   "cell_type": "markdown",
   "id": "1e13f64c-7d11-4278-8dff-f9e91d5fdea9",
   "metadata": {},
   "source": [
    "### Prepare to process data"
   ]
  },
  {
   "cell_type": "code",
   "execution_count": 9,
   "id": "678bbe76-dd66-43af-a314-0c1fc58b88db",
   "metadata": {},
   "outputs": [],
   "source": [
    "chebi_lut, chebi_interesting, chebi_colors_ser = colors_MAGs.chebi_rxn_color_func(rxn_based=False)"
   ]
  },
  {
   "cell_type": "markdown",
   "id": "f5ee6fee-d135-48ad-a741-50c44d82a99c",
   "metadata": {},
   "source": [
    "**Change names of family for readability and better grouping**"
   ]
  },
  {
   "cell_type": "code",
   "execution_count": 10,
   "id": "a2521342-ae6a-486b-ba6d-4c068d4c8608",
   "metadata": {},
   "outputs": [],
   "source": [
    "all_mags_paper_reduced = all_mags_paper.copy()\n",
    "\n",
    "all_mags_paper_reduced[all_mags_paper_reduced[\"new_coverage\"]>10][[\"Source\",\"Substrate\",\"Family\",\"new_coverage\"]].sort_values([\"Source\",\"Substrate\"])\n",
    "\n",
    "all_mags_paper_reduced[\"Family\"] = all_mags_paper.apply(lambda row: \"f_\"+row.Family,axis=1)\n",
    "\n",
    "total_members_family = all_mags_paper_reduced.groupby(\"Family\").count()[\"Source\"].to_dict()\n",
    "all_mags_paper_reduced[\"Family\"] = all_mags_paper_reduced.apply(lambda row: row.Family if total_members_family[row.Family]>1 else \"Other\",axis=1)\n"
   ]
  },
  {
   "cell_type": "code",
   "execution_count": 11,
   "id": "849359c1-e89b-4741-a23e-6a920306db76",
   "metadata": {},
   "outputs": [],
   "source": [
    "def mag2family(all_mags_paper):  \n",
    "    \n",
    "    family_groups = all_mags_paper.groupby(\"Family\").groups\n",
    "    mag2family_dict = {mag:family for family,mags in family_groups.items() for mag in mags}\n",
    "    \n",
    "    return family_groups,mag2family_dict"
   ]
  },
  {
   "cell_type": "markdown",
   "id": "10772df8-9071-4312-af6b-79475b2ce856",
   "metadata": {},
   "source": [
    "**Create dictionaries to translate components into larger groups - MAG-> family, compound-> super_class**"
   ]
  },
  {
   "cell_type": "code",
   "execution_count": 12,
   "id": "3873b020-9a1f-49a2-957b-29a6a8b97a00",
   "metadata": {},
   "outputs": [],
   "source": [
    "MAGs_steady_com = set(list(steadier_sample_cross.donor.values)+list(steadier_sample_cross.receiver.values))\n",
    "\n",
    "MAG2sour_sub_id = pd.read_csv(\"../output/MAG2community_id.tsv\",sep=\"\\t\",header=None)\n",
    "MAG2sour_sub_id.columns=[\"MAG\",\"community_id\"]\n",
    "\n",
    "met2superclass_dict = pd.read_csv(\"../output/met_chebi_class.tsv\",sep=\"\\t\",index_col=0)[\"self defined super class\"].to_dict()\n",
    "\n",
    "family_groups,mag2family_dict = mag2family(all_mags_paper_reduced)"
   ]
  },
  {
   "cell_type": "code",
   "execution_count": 13,
   "id": "15bde1be-24cc-43e9-87e1-21795e41e6e0",
   "metadata": {},
   "outputs": [],
   "source": [
    "def family_donor(row):\n",
    "    if row.donor==\"environment\":\n",
    "        return \"environment\"\n",
    "    else:\n",
    "        return mag2family_dict[row.donor]\n",
    "\n",
    "\n",
    "def family_receiver(row):\n",
    "    if row.receiver==\"environment\":\n",
    "        return \"environment\"\n",
    "    else:\n",
    "        return mag2family_dict[row.receiver]\n"
   ]
  },
  {
   "cell_type": "code",
   "execution_count": 14,
   "id": "2ae900fd-0635-4700-ba20-adee0f8aaa79",
   "metadata": {},
   "outputs": [],
   "source": [
    "def met2metname(met):\n",
    "    met_name = model_uni.metabolites[met].name\n",
    "    return met_name"
   ]
  },
  {
   "cell_type": "markdown",
   "id": "b862939d-3f25-473e-a792-6fa1dfe6c4d0",
   "metadata": {},
   "source": [
    "### Process data"
   ]
  },
  {
   "cell_type": "markdown",
   "id": "fa882c99-e243-4ab6-86a8-5006d511e068",
   "metadata": {},
   "source": [
    "**All compounds**"
   ]
  },
  {
   "cell_type": "code",
   "execution_count": 15,
   "id": "02f9218e-c72f-4ff5-901f-25b67ffb1f58",
   "metadata": {},
   "outputs": [],
   "source": [
    "steadier_sample.loc[:,\"family_donor\"] = steadier_sample.apply(family_donor,axis=1).copy()\n",
    "steadier_sample.loc[:,\"family_receiver\"] = steadier_sample.apply(family_receiver,axis=1).copy()\n",
    "steadier_sample = steadier_sample[steadier_sample.compound.isin(met2superclass_dict.keys())].copy()\n",
    "steadier_sample.loc[:,\"super_class\"] = steadier_sample.apply(lambda x: met2superclass_dict[x.compound],axis=1)\n",
    "\n",
    "compounds = steadier_sample[\"compound\"].map(met2metname)\n",
    "steadier_sample.drop(\"compound\",axis=1,inplace=True)\n",
    "steadier_sample.loc[:,\"compound\"] = compounds\n"
   ]
  },
  {
   "cell_type": "markdown",
   "id": "5e14c501-dfca-49bc-80d8-8ecf0301a7f6",
   "metadata": {},
   "source": [
    "**Compounds cross-fed**"
   ]
  },
  {
   "cell_type": "code",
   "execution_count": 16,
   "id": "1e42df2a-ff33-4088-80af-3ef70c53d428",
   "metadata": {
    "tags": []
   },
   "outputs": [],
   "source": [
    "steadier_sample_cross.loc[:,\"family_donor\"] = steadier_sample_cross.apply(family_donor,axis=1).copy()\n",
    "steadier_sample_cross.loc[:,\"family_receiver\"] = steadier_sample_cross.apply(family_receiver,axis=1).copy()\n",
    "steadier_sample_cross = steadier_sample_cross[steadier_sample_cross.compound.isin(met2superclass_dict.keys())].copy()\n",
    "steadier_sample_cross.loc[:,\"super_class\"] = steadier_sample_cross.apply(lambda x: met2superclass_dict[x.compound],axis=1)\n",
    "\n",
    "compounds = steadier_sample_cross[\"compound\"].map(met2metname)\n",
    "steadier_sample_cross.drop(\"compound\",axis=1,inplace=True)\n",
    "steadier_sample_cross.loc[:,\"compound\"] = compounds\n",
    "\n",
    "# FILTERS OUT UNINTERESTING COMPOUNDS\n",
    "steadier_sample_cross = steadier_sample_cross[steadier_sample_cross.super_class.isin(chebi_lut.keys())].copy()\n",
    "\n",
    "steadier_sample_cross[\"mass_rate*frequency\"]=steadier_sample_cross[\"mass_rate\"]*steadier_sample_cross[\"frequency\"]"
   ]
  },
  {
   "cell_type": "code",
   "execution_count": 17,
   "id": "d81f4ecf-5097-4ac1-aa62-ef3c2d8e0d6d",
   "metadata": {},
   "outputs": [
    {
     "data": {
      "text/html": [
       "<div>\n",
       "<style scoped>\n",
       "    .dataframe tbody tr th:only-of-type {\n",
       "        vertical-align: middle;\n",
       "    }\n",
       "\n",
       "    .dataframe tbody tr th {\n",
       "        vertical-align: top;\n",
       "    }\n",
       "\n",
       "    .dataframe thead th {\n",
       "        text-align: right;\n",
       "    }\n",
       "</style>\n",
       "<table border=\"1\" class=\"dataframe\">\n",
       "  <thead>\n",
       "    <tr style=\"text-align: right;\">\n",
       "      <th></th>\n",
       "      <th>donor</th>\n",
       "      <th>receiver</th>\n",
       "      <th>mass_rate</th>\n",
       "      <th>rate</th>\n",
       "      <th>frequency</th>\n",
       "      <th>community</th>\n",
       "      <th>medium</th>\n",
       "      <th>family_donor</th>\n",
       "      <th>family_receiver</th>\n",
       "      <th>super_class</th>\n",
       "      <th>compound</th>\n",
       "      <th>mass_rate*frequency</th>\n",
       "    </tr>\n",
       "  </thead>\n",
       "  <tbody>\n",
       "    <tr>\n",
       "      <th>13</th>\n",
       "      <td>CH15-bin.0</td>\n",
       "      <td>CH15-bin.7</td>\n",
       "      <td>4.921516e-03</td>\n",
       "      <td>0.027318</td>\n",
       "      <td>0.27</td>\n",
       "      <td>CD_P</td>\n",
       "      <td>SC1_C</td>\n",
       "      <td>f_Treponemataceae</td>\n",
       "      <td>f_Sphaerochaetaceae</td>\n",
       "      <td>simple sugars</td>\n",
       "      <td>D-Glucose</td>\n",
       "      <td>1.328809e-03</td>\n",
       "    </tr>\n",
       "    <tr>\n",
       "      <th>33</th>\n",
       "      <td>CH13-bin.11</td>\n",
       "      <td>CH13-bin.4</td>\n",
       "      <td>2.822338e-03</td>\n",
       "      <td>0.008245</td>\n",
       "      <td>0.11</td>\n",
       "      <td>CD_A</td>\n",
       "      <td>SC1_C</td>\n",
       "      <td>f_Desulfovibrionaceae</td>\n",
       "      <td>f_Bacteroidaceae</td>\n",
       "      <td>oligosaccharides</td>\n",
       "      <td>Cellobiose</td>\n",
       "      <td>3.104572e-04</td>\n",
       "    </tr>\n",
       "    <tr>\n",
       "      <th>36</th>\n",
       "      <td>CH13-bin.14</td>\n",
       "      <td>CH13-bin.25</td>\n",
       "      <td>2.705991e-03</td>\n",
       "      <td>0.015020</td>\n",
       "      <td>0.20</td>\n",
       "      <td>CD_A</td>\n",
       "      <td>SC1_C</td>\n",
       "      <td>f_Lachnospiraceae</td>\n",
       "      <td>f_Sphaerochaetaceae</td>\n",
       "      <td>simple sugars</td>\n",
       "      <td>D-Glucose</td>\n",
       "      <td>5.411983e-04</td>\n",
       "    </tr>\n",
       "    <tr>\n",
       "      <th>39</th>\n",
       "      <td>CH15-bin.7</td>\n",
       "      <td>CH15-bin.8</td>\n",
       "      <td>2.435377e-03</td>\n",
       "      <td>0.013518</td>\n",
       "      <td>0.12</td>\n",
       "      <td>CD_P</td>\n",
       "      <td>SC1_C</td>\n",
       "      <td>f_Sphaerochaetaceae</td>\n",
       "      <td>f_Desulfovibrionaceae</td>\n",
       "      <td>simple sugars</td>\n",
       "      <td>D-Glucose</td>\n",
       "      <td>2.922452e-04</td>\n",
       "    </tr>\n",
       "    <tr>\n",
       "      <th>41</th>\n",
       "      <td>CH15-bin.23</td>\n",
       "      <td>CH15-bin.8</td>\n",
       "      <td>2.385105e-03</td>\n",
       "      <td>0.013239</td>\n",
       "      <td>0.17</td>\n",
       "      <td>CD_P</td>\n",
       "      <td>SC1_C</td>\n",
       "      <td>Other</td>\n",
       "      <td>f_Desulfovibrionaceae</td>\n",
       "      <td>simple sugars</td>\n",
       "      <td>D-Glucose</td>\n",
       "      <td>4.054678e-04</td>\n",
       "    </tr>\n",
       "    <tr>\n",
       "      <th>...</th>\n",
       "      <td>...</td>\n",
       "      <td>...</td>\n",
       "      <td>...</td>\n",
       "      <td>...</td>\n",
       "      <td>...</td>\n",
       "      <td>...</td>\n",
       "      <td>...</td>\n",
       "      <td>...</td>\n",
       "      <td>...</td>\n",
       "      <td>...</td>\n",
       "      <td>...</td>\n",
       "      <td>...</td>\n",
       "    </tr>\n",
       "    <tr>\n",
       "      <th>313</th>\n",
       "      <td>CH9-bin.0</td>\n",
       "      <td>CH9-bin.4</td>\n",
       "      <td>6.053229e-07</td>\n",
       "      <td>0.000018</td>\n",
       "      <td>0.97</td>\n",
       "      <td>CM_X</td>\n",
       "      <td>SC1_X</td>\n",
       "      <td>Other</td>\n",
       "      <td>f_Lactobacillaceae</td>\n",
       "      <td>gases</td>\n",
       "      <td>Hydrogen sulfide</td>\n",
       "      <td>5.871632e-07</td>\n",
       "    </tr>\n",
       "    <tr>\n",
       "      <th>315</th>\n",
       "      <td>CH14-bin.1</td>\n",
       "      <td>CH14-bin.4</td>\n",
       "      <td>5.164134e-07</td>\n",
       "      <td>0.000256</td>\n",
       "      <td>0.16</td>\n",
       "      <td>CD_X</td>\n",
       "      <td>SC1_X</td>\n",
       "      <td>f_Lachnospiraceae</td>\n",
       "      <td>f_Desulfovibrionaceae</td>\n",
       "      <td>gases</td>\n",
       "      <td>Hydrogen</td>\n",
       "      <td>8.262614e-08</td>\n",
       "    </tr>\n",
       "    <tr>\n",
       "      <th>316</th>\n",
       "      <td>CH3-bin.2</td>\n",
       "      <td>CH3-bin.0</td>\n",
       "      <td>4.612004e-07</td>\n",
       "      <td>0.000004</td>\n",
       "      <td>0.26</td>\n",
       "      <td>M_X</td>\n",
       "      <td>SC1_X</td>\n",
       "      <td>f_Clostridiaceae</td>\n",
       "      <td>Other</td>\n",
       "      <td>nucleotides and derivatives</td>\n",
       "      <td>Thymine C5H6N2O2</td>\n",
       "      <td>1.199121e-07</td>\n",
       "    </tr>\n",
       "    <tr>\n",
       "      <th>319</th>\n",
       "      <td>CH9-bin.2</td>\n",
       "      <td>CH9-bin.5</td>\n",
       "      <td>3.689349e-07</td>\n",
       "      <td>0.000011</td>\n",
       "      <td>0.24</td>\n",
       "      <td>CM_X</td>\n",
       "      <td>SC1_X</td>\n",
       "      <td>f_Clostridiaceae</td>\n",
       "      <td>f_Lactobacillaceae</td>\n",
       "      <td>gases</td>\n",
       "      <td>Hydrogen sulfide</td>\n",
       "      <td>8.854438e-08</td>\n",
       "    </tr>\n",
       "    <tr>\n",
       "      <th>324</th>\n",
       "      <td>CH9-bin.2</td>\n",
       "      <td>CH9-bin.4</td>\n",
       "      <td>2.256520e-07</td>\n",
       "      <td>0.000007</td>\n",
       "      <td>0.24</td>\n",
       "      <td>CM_X</td>\n",
       "      <td>SC1_X</td>\n",
       "      <td>f_Clostridiaceae</td>\n",
       "      <td>f_Lactobacillaceae</td>\n",
       "      <td>gases</td>\n",
       "      <td>Hydrogen sulfide</td>\n",
       "      <td>5.415649e-08</td>\n",
       "    </tr>\n",
       "  </tbody>\n",
       "</table>\n",
       "<p>1048 rows × 12 columns</p>\n",
       "</div>"
      ],
      "text/plain": [
       "           donor     receiver     mass_rate      rate  frequency community  \\\n",
       "13    CH15-bin.0   CH15-bin.7  4.921516e-03  0.027318       0.27      CD_P   \n",
       "33   CH13-bin.11   CH13-bin.4  2.822338e-03  0.008245       0.11      CD_A   \n",
       "36   CH13-bin.14  CH13-bin.25  2.705991e-03  0.015020       0.20      CD_A   \n",
       "39    CH15-bin.7   CH15-bin.8  2.435377e-03  0.013518       0.12      CD_P   \n",
       "41   CH15-bin.23   CH15-bin.8  2.385105e-03  0.013239       0.17      CD_P   \n",
       "..           ...          ...           ...       ...        ...       ...   \n",
       "313    CH9-bin.0    CH9-bin.4  6.053229e-07  0.000018       0.97      CM_X   \n",
       "315   CH14-bin.1   CH14-bin.4  5.164134e-07  0.000256       0.16      CD_X   \n",
       "316    CH3-bin.2    CH3-bin.0  4.612004e-07  0.000004       0.26       M_X   \n",
       "319    CH9-bin.2    CH9-bin.5  3.689349e-07  0.000011       0.24      CM_X   \n",
       "324    CH9-bin.2    CH9-bin.4  2.256520e-07  0.000007       0.24      CM_X   \n",
       "\n",
       "    medium           family_donor        family_receiver  \\\n",
       "13   SC1_C      f_Treponemataceae    f_Sphaerochaetaceae   \n",
       "33   SC1_C  f_Desulfovibrionaceae       f_Bacteroidaceae   \n",
       "36   SC1_C      f_Lachnospiraceae    f_Sphaerochaetaceae   \n",
       "39   SC1_C    f_Sphaerochaetaceae  f_Desulfovibrionaceae   \n",
       "41   SC1_C                  Other  f_Desulfovibrionaceae   \n",
       "..     ...                    ...                    ...   \n",
       "313  SC1_X                  Other     f_Lactobacillaceae   \n",
       "315  SC1_X      f_Lachnospiraceae  f_Desulfovibrionaceae   \n",
       "316  SC1_X       f_Clostridiaceae                  Other   \n",
       "319  SC1_X       f_Clostridiaceae     f_Lactobacillaceae   \n",
       "324  SC1_X       f_Clostridiaceae     f_Lactobacillaceae   \n",
       "\n",
       "                     super_class          compound  mass_rate*frequency  \n",
       "13                 simple sugars         D-Glucose         1.328809e-03  \n",
       "33              oligosaccharides        Cellobiose         3.104572e-04  \n",
       "36                 simple sugars         D-Glucose         5.411983e-04  \n",
       "39                 simple sugars         D-Glucose         2.922452e-04  \n",
       "41                 simple sugars         D-Glucose         4.054678e-04  \n",
       "..                           ...               ...                  ...  \n",
       "313                        gases  Hydrogen sulfide         5.871632e-07  \n",
       "315                        gases          Hydrogen         8.262614e-08  \n",
       "316  nucleotides and derivatives  Thymine C5H6N2O2         1.199121e-07  \n",
       "319                        gases  Hydrogen sulfide         8.854438e-08  \n",
       "324                        gases  Hydrogen sulfide         5.415649e-08  \n",
       "\n",
       "[1048 rows x 12 columns]"
      ]
     },
     "execution_count": 17,
     "metadata": {},
     "output_type": "execute_result"
    }
   ],
   "source": [
    "steadier_sample_cross"
   ]
  },
  {
   "cell_type": "markdown",
   "id": "f59ac4d9-936e-4edc-bd4c-3f02c782ae3e",
   "metadata": {},
   "source": [
    "### Overview of groups"
   ]
  },
  {
   "cell_type": "code",
   "execution_count": 18,
   "id": "f7d4d5e6-a0e7-49f7-bb0a-179c6d2bfbfa",
   "metadata": {},
   "outputs": [
    {
     "data": {
      "text/plain": [
       "Other                    18\n",
       "f_Bacteroidaceae          4\n",
       "f_CAG-74                  2\n",
       "f_Clostridiaceae          3\n",
       "f_Desulfobulbaceae        2\n",
       "f_Desulfovibrionaceae    12\n",
       "f_Dysgonomonadaceae       4\n",
       "f_Fibrobacteraceae        2\n",
       "f_Lachnospiraceae         8\n",
       "f_Lactobacillaceae        2\n",
       "f_Lentimicrobiaceae       2\n",
       "f_Sphaerochaetaceae       6\n",
       "f_Treponemataceae         4\n",
       "f_Verruco-01              3\n",
       "dtype: int64"
      ]
     },
     "execution_count": 18,
     "metadata": {},
     "output_type": "execute_result"
    }
   ],
   "source": [
    "pd.Series({family:len(mags) for family,mags in family_groups.items()})"
   ]
  },
  {
   "cell_type": "code",
   "execution_count": 19,
   "id": "ad807158-9046-4950-930c-8d07637881c9",
   "metadata": {},
   "outputs": [
    {
     "data": {
      "text/html": [
       "<div>\n",
       "<style scoped>\n",
       "    .dataframe tbody tr th:only-of-type {\n",
       "        vertical-align: middle;\n",
       "    }\n",
       "\n",
       "    .dataframe tbody tr th {\n",
       "        vertical-align: top;\n",
       "    }\n",
       "\n",
       "    .dataframe thead th {\n",
       "        text-align: right;\n",
       "    }\n",
       "</style>\n",
       "<table border=\"1\" class=\"dataframe\">\n",
       "  <thead>\n",
       "    <tr style=\"text-align: right;\">\n",
       "      <th></th>\n",
       "      <th>Source</th>\n",
       "      <th>Substrate</th>\n",
       "      <th>Family</th>\n",
       "      <th>Genus</th>\n",
       "      <th>new_coverage</th>\n",
       "    </tr>\n",
       "    <tr>\n",
       "      <th>MAG</th>\n",
       "      <th></th>\n",
       "      <th></th>\n",
       "      <th></th>\n",
       "      <th></th>\n",
       "      <th></th>\n",
       "    </tr>\n",
       "  </thead>\n",
       "  <tbody>\n",
       "    <tr>\n",
       "      <th>CH13-bin.12</th>\n",
       "      <td>Compost_Digestate</td>\n",
       "      <td>Avicel</td>\n",
       "      <td>f_Fibrobacteraceae</td>\n",
       "      <td>Fibro-01</td>\n",
       "      <td>36.526676</td>\n",
       "    </tr>\n",
       "    <tr>\n",
       "      <th>CH13-bin.11</th>\n",
       "      <td>Compost_Digestate</td>\n",
       "      <td>Avicel</td>\n",
       "      <td>f_Desulfovibrionaceae</td>\n",
       "      <td>Desulfovibrio</td>\n",
       "      <td>10.155790</td>\n",
       "    </tr>\n",
       "    <tr>\n",
       "      <th>CH13-bin.4</th>\n",
       "      <td>Compost_Digestate</td>\n",
       "      <td>Avicel</td>\n",
       "      <td>f_Bacteroidaceae</td>\n",
       "      <td>Bacteroides</td>\n",
       "      <td>10.043970</td>\n",
       "    </tr>\n",
       "    <tr>\n",
       "      <th>CH15-bin.0</th>\n",
       "      <td>Compost_Digestate</td>\n",
       "      <td>PASC</td>\n",
       "      <td>f_Treponemataceae</td>\n",
       "      <td>DUOS01</td>\n",
       "      <td>23.919040</td>\n",
       "    </tr>\n",
       "    <tr>\n",
       "      <th>CH15-bin.23</th>\n",
       "      <td>Compost_Digestate</td>\n",
       "      <td>PASC</td>\n",
       "      <td>Other</td>\n",
       "      <td>DTFZ01</td>\n",
       "      <td>10.319866</td>\n",
       "    </tr>\n",
       "    <tr>\n",
       "      <th>CH14-bin.1</th>\n",
       "      <td>Compost_Digestate</td>\n",
       "      <td>Xylan</td>\n",
       "      <td>f_Lachnospiraceae</td>\n",
       "      <td>Lacrimispora</td>\n",
       "      <td>54.707294</td>\n",
       "    </tr>\n",
       "    <tr>\n",
       "      <th>CH14-bin.2</th>\n",
       "      <td>Compost_Digestate</td>\n",
       "      <td>Xylan</td>\n",
       "      <td>f_Lachnospiraceae</td>\n",
       "      <td>Robinsoniella</td>\n",
       "      <td>18.831114</td>\n",
       "    </tr>\n",
       "    <tr>\n",
       "      <th>CH8-bin.22</th>\n",
       "      <td>Cow_Manure</td>\n",
       "      <td>Avicel</td>\n",
       "      <td>f_Fibrobacteraceae</td>\n",
       "      <td>Fibro-01</td>\n",
       "      <td>42.725525</td>\n",
       "    </tr>\n",
       "    <tr>\n",
       "      <th>CH7-bin.23</th>\n",
       "      <td>Cow_Manure</td>\n",
       "      <td>PASC</td>\n",
       "      <td>f_Desulfovibrionaceae</td>\n",
       "      <td>Halodesulfovibrio</td>\n",
       "      <td>38.075882</td>\n",
       "    </tr>\n",
       "    <tr>\n",
       "      <th>CH9-bin.0</th>\n",
       "      <td>Cow_Manure</td>\n",
       "      <td>Xylan</td>\n",
       "      <td>Other</td>\n",
       "      <td>Bifidobacterium</td>\n",
       "      <td>70.451904</td>\n",
       "    </tr>\n",
       "    <tr>\n",
       "      <th>CH1-bin.6</th>\n",
       "      <td>Marshland</td>\n",
       "      <td>PASC</td>\n",
       "      <td>f_Lachnospiraceae</td>\n",
       "      <td>Lacrimispora</td>\n",
       "      <td>45.242630</td>\n",
       "    </tr>\n",
       "    <tr>\n",
       "      <th>CH1-bin.9</th>\n",
       "      <td>Marshland</td>\n",
       "      <td>PASC</td>\n",
       "      <td>f_Desulfovibrionaceae</td>\n",
       "      <td>Solidesulfovibrio</td>\n",
       "      <td>31.170460</td>\n",
       "    </tr>\n",
       "    <tr>\n",
       "      <th>CH3-bin.2</th>\n",
       "      <td>Marshland</td>\n",
       "      <td>Xylan</td>\n",
       "      <td>f_Clostridiaceae</td>\n",
       "      <td>Clostridium</td>\n",
       "      <td>74.153410</td>\n",
       "    </tr>\n",
       "    <tr>\n",
       "      <th>CH3-bin.1</th>\n",
       "      <td>Marshland</td>\n",
       "      <td>Xylan</td>\n",
       "      <td>f_Clostridiaceae</td>\n",
       "      <td>Clostridium_S</td>\n",
       "      <td>21.418886</td>\n",
       "    </tr>\n",
       "  </tbody>\n",
       "</table>\n",
       "</div>"
      ],
      "text/plain": [
       "                        Source Substrate                 Family  \\\n",
       "MAG                                                               \n",
       "CH13-bin.12  Compost_Digestate    Avicel     f_Fibrobacteraceae   \n",
       "CH13-bin.11  Compost_Digestate    Avicel  f_Desulfovibrionaceae   \n",
       "CH13-bin.4   Compost_Digestate    Avicel       f_Bacteroidaceae   \n",
       "CH15-bin.0   Compost_Digestate      PASC      f_Treponemataceae   \n",
       "CH15-bin.23  Compost_Digestate      PASC                  Other   \n",
       "CH14-bin.1   Compost_Digestate     Xylan      f_Lachnospiraceae   \n",
       "CH14-bin.2   Compost_Digestate     Xylan      f_Lachnospiraceae   \n",
       "CH8-bin.22          Cow_Manure    Avicel     f_Fibrobacteraceae   \n",
       "CH7-bin.23          Cow_Manure      PASC  f_Desulfovibrionaceae   \n",
       "CH9-bin.0           Cow_Manure     Xylan                  Other   \n",
       "CH1-bin.6            Marshland      PASC      f_Lachnospiraceae   \n",
       "CH1-bin.9            Marshland      PASC  f_Desulfovibrionaceae   \n",
       "CH3-bin.2            Marshland     Xylan       f_Clostridiaceae   \n",
       "CH3-bin.1            Marshland     Xylan       f_Clostridiaceae   \n",
       "\n",
       "                         Genus  new_coverage  \n",
       "MAG                                           \n",
       "CH13-bin.12           Fibro-01     36.526676  \n",
       "CH13-bin.11      Desulfovibrio     10.155790  \n",
       "CH13-bin.4         Bacteroides     10.043970  \n",
       "CH15-bin.0              DUOS01     23.919040  \n",
       "CH15-bin.23             DTFZ01     10.319866  \n",
       "CH14-bin.1        Lacrimispora     54.707294  \n",
       "CH14-bin.2       Robinsoniella     18.831114  \n",
       "CH8-bin.22            Fibro-01     42.725525  \n",
       "CH7-bin.23   Halodesulfovibrio     38.075882  \n",
       "CH9-bin.0      Bifidobacterium     70.451904  \n",
       "CH1-bin.6         Lacrimispora     45.242630  \n",
       "CH1-bin.9    Solidesulfovibrio     31.170460  \n",
       "CH3-bin.2          Clostridium     74.153410  \n",
       "CH3-bin.1        Clostridium_S     21.418886  "
      ]
     },
     "execution_count": 19,
     "metadata": {},
     "output_type": "execute_result"
    }
   ],
   "source": [
    "all_mags_paper_reduced[all_mags_paper_reduced[\"new_coverage\"]>10][[\"Source\",\"Substrate\",\"Family\",\"Genus\",\"new_coverage\"]].sort_values([\"Source\",\"Substrate\"])"
   ]
  },
  {
   "cell_type": "markdown",
   "id": "f3ed36e1-0c27-43ef-947a-32c1739ec58b",
   "metadata": {},
   "source": [
    "### Functions for statistics"
   ]
  },
  {
   "cell_type": "code",
   "execution_count": 20,
   "id": "e3554323-08db-42ed-afcf-ecee00773789",
   "metadata": {},
   "outputs": [],
   "source": [
    "def find_non_dependent(row,metric):\n",
    "    return len(family_groups[row.name[0]]) - row[metric] #row.flux_mg\n",
    "\n",
    "\n",
    "def statistics_adjustments(statistics_df):\n",
    "    \n",
    "    statistics_df = statistics_df.sort_values(by=\"p_value\").copy()\n",
    "    statistics_df[\"i\"] = statistics_df[\"p_value\"].rank(method=\"max\")\n",
    "    statistics_df[\"p_value_benjamini_h\"] = statistics_df.apply(lambda row: min(row.p_value*statistics_df.shape[0]/row.i,1),axis=1)\n",
    "    statistics_df.sort_index(inplace=True)\n",
    "    return statistics_df\n",
    "\n",
    "\n",
    "def statistics_function(steadier_sample_cross,dependent_variable,independent_variable,metric=\"flux_mg\",metric_thresh=1e-6,pvalue_thresh=0.1):\n",
    "\n",
    "    # Get average of each family according to each possible value of the independent variable\n",
    "    # dependent_variable,dependent_variable.split(\"_\")[1] here it decides if it is in the receiver or in the donor (dependent_variable.split(\"_\")[1]) and groups by the [family_receiver,receiver,compound] and takes the mean of this\n",
    "    steadiercom_crossfeeding_donor = steadier_sample_cross.loc[:,[dependent_variable,dependent_variable.split(\"_\")[1],independent_variable,metric]].groupby([dependent_variable,dependent_variable.split(\"_\")[1],independent_variable]).mean().copy()\n",
    "    dependent = steadiercom_crossfeeding_donor[steadiercom_crossfeeding_donor[metric]>metric_thresh].reset_index().groupby([dependent_variable,independent_variable]).count().copy()\n",
    "    not_dependent = dependent.apply(find_non_dependent,metric=metric,axis=1)\n",
    "\n",
    "    # Add data for the missing values\n",
    "    all_categories =set(not_dependent.index.get_level_values(1))\n",
    "\n",
    "    for family in dependent.index.get_level_values(0):\n",
    "        for category in all_categories-set(not_dependent.xs(family).index):\n",
    "            not_dependent[(family,category)]=len(family_groups[family]) \n",
    "            \n",
    "    concat_df = pd.concat({\"dependent\":dependent[metric],\"not_dependent\":not_dependent},axis=1).fillna(0)\n",
    "\n",
    "\n",
    "    statistics = {}\n",
    "    for independent_var in set(concat_df.index.get_level_values(1)):\n",
    "        # Get the sub_df for the super class\n",
    "        concat_df_sub = concat_df.xs(independent_var,level=1).copy()\n",
    "\n",
    "        statistics[independent_var] = {}\n",
    "\n",
    "        # For each row (each family)\n",
    "        for i,row in concat_df_sub.iterrows():\n",
    "            \n",
    "            # Get the data for all other family\n",
    "            other = concat_df_sub.loc[concat_df_sub.index[concat_df_sub.index!=i],:]\n",
    "            \n",
    "            data = pd.DataFrame({i:row,\"other\":other.sum()}).transpose().to_numpy()\n",
    "            statistics[independent_var][(i,\"data\")]= data\n",
    "            \n",
    "            \n",
    "            # Get odds ratio\n",
    "            odds_ratio_num = data[0][0]\n",
    "            odds_ratio_den = data[0][0] + data[0][1]\n",
    "            other_num = data[1][0]\n",
    "            other_den = data[1][0] + data[1][1]\n",
    "            \n",
    "            if odds_ratio_den == 0 or other_den == 0 or other_num==0:\n",
    "                odds_ratio = math.inf\n",
    "            else:\n",
    "                odds_ratio = (odds_ratio_num / odds_ratio_den) / (other_num / other_den)\n",
    "            statistics[independent_var][(i, \"odds_ratio\")] = odds_ratio\n",
    "            \n",
    "            \n",
    "            # Calculate the Barnard exact statistical \n",
    "            p_value = stats.barnard_exact(pd.DataFrame({i:row,\"other\":other.sum()}).transpose().to_numpy(),alternative=\"greater\")\n",
    "            statistics[independent_var][(i,\"p_value\")]= p_value.pvalue\n",
    "            \n",
    "\n",
    "    statistics_df = pd.DataFrame(statistics)\n",
    "    \n",
    "\n",
    "    category_values = statistics_df.xs('p_value', level=1)\n",
    "    \n",
    "\n",
    "    values = {}\n",
    "    for family,independent_var in category_values[category_values[category_values<pvalue_thresh].notnull()].stack().index:\n",
    "        values[family,independent_var]= {\"p_value\":statistics_df.loc[(family,\"p_value\"),independent_var],\"odds_ratio\":statistics_df.loc[(family,\"odds_ratio\"),independent_var],\"data\":statistics_df.loc[(family,\"data\"),independent_var],\"# interaction\":concat_df.loc[(family,independent_var),\"dependent\"],\"# no interaction\":concat_df.loc[(family,independent_var),\"not_dependent\"]}\n",
    "\n",
    "    significant = pd.DataFrame(values).transpose()\n",
    "    if significant.empty==False:\n",
    "        significant.index.names = (dependent_variable,independent_variable)\n",
    "\n",
    "    return significant"
   ]
  },
  {
   "cell_type": "markdown",
   "id": "0f2cdfb5-e6e4-46f2-94ba-9fccdc97c8c8",
   "metadata": {},
   "source": [
    "## Likelyhood that family X is receiving compound A"
   ]
  },
  {
   "cell_type": "code",
   "execution_count": 21,
   "id": "94a32e16-c6ac-438e-aa6c-7cbae857816c",
   "metadata": {},
   "outputs": [
    {
     "data": {
      "text/plain": [
       "(153, 7)"
      ]
     },
     "execution_count": 21,
     "metadata": {},
     "output_type": "execute_result"
    }
   ],
   "source": [
    "statistics_df = statistics_function(steadier_sample_cross,\"family_receiver\",\"compound\",metric=\"rate\",metric_thresh=1e-6,pvalue_thresh=1)\n",
    "statistics_df = statistics_adjustments(statistics_df)\n",
    "statistics_df.shape"
   ]
  },
  {
   "cell_type": "code",
   "execution_count": 22,
   "id": "fa44e973-700f-4a94-ae93-19b4c4403d54",
   "metadata": {},
   "outputs": [
    {
     "data": {
      "text/html": [
       "<div>\n",
       "<style scoped>\n",
       "    .dataframe tbody tr th:only-of-type {\n",
       "        vertical-align: middle;\n",
       "    }\n",
       "\n",
       "    .dataframe tbody tr th {\n",
       "        vertical-align: top;\n",
       "    }\n",
       "\n",
       "    .dataframe thead th {\n",
       "        text-align: right;\n",
       "    }\n",
       "</style>\n",
       "<table border=\"1\" class=\"dataframe\">\n",
       "  <thead>\n",
       "    <tr style=\"text-align: right;\">\n",
       "      <th></th>\n",
       "      <th></th>\n",
       "      <th>p_value</th>\n",
       "      <th>odds_ratio</th>\n",
       "      <th>data</th>\n",
       "      <th># interaction</th>\n",
       "      <th># no interaction</th>\n",
       "      <th>i</th>\n",
       "      <th>p_value_benjamini_h</th>\n",
       "    </tr>\n",
       "    <tr>\n",
       "      <th>family_receiver</th>\n",
       "      <th>compound</th>\n",
       "      <th></th>\n",
       "      <th></th>\n",
       "      <th></th>\n",
       "      <th></th>\n",
       "      <th></th>\n",
       "      <th></th>\n",
       "      <th></th>\n",
       "    </tr>\n",
       "  </thead>\n",
       "  <tbody>\n",
       "    <tr>\n",
       "      <th>f_Lactobacillaceae</th>\n",
       "      <th>L Ornithine C5H13N2O2</th>\n",
       "      <td>0.000107</td>\n",
       "      <td>inf</td>\n",
       "      <td>[[2.0, 0.0], [0.0, 70.0]]</td>\n",
       "      <td>2.0</td>\n",
       "      <td>0</td>\n",
       "      <td>1.0</td>\n",
       "      <td>0.016431</td>\n",
       "    </tr>\n",
       "    <tr>\n",
       "      <th>f_Sphaerochaetaceae</th>\n",
       "      <th>D-Glucose</th>\n",
       "      <td>0.000536</td>\n",
       "      <td>5.5</td>\n",
       "      <td>[[5.0, 1.0], [10.0, 56.0]]</td>\n",
       "      <td>5.0</td>\n",
       "      <td>1</td>\n",
       "      <td>2.0</td>\n",
       "      <td>0.041018</td>\n",
       "    </tr>\n",
       "  </tbody>\n",
       "</table>\n",
       "</div>"
      ],
      "text/plain": [
       "                                            p_value odds_ratio  \\\n",
       "family_receiver     compound                                     \n",
       "f_Lactobacillaceae  L Ornithine C5H13N2O2  0.000107        inf   \n",
       "f_Sphaerochaetaceae D-Glucose              0.000536        5.5   \n",
       "\n",
       "                                                                 data  \\\n",
       "family_receiver     compound                                            \n",
       "f_Lactobacillaceae  L Ornithine C5H13N2O2   [[2.0, 0.0], [0.0, 70.0]]   \n",
       "f_Sphaerochaetaceae D-Glucose              [[5.0, 1.0], [10.0, 56.0]]   \n",
       "\n",
       "                                          # interaction # no interaction    i  \\\n",
       "family_receiver     compound                                                    \n",
       "f_Lactobacillaceae  L Ornithine C5H13N2O2           2.0                0  1.0   \n",
       "f_Sphaerochaetaceae D-Glucose                       5.0                1  2.0   \n",
       "\n",
       "                                           p_value_benjamini_h  \n",
       "family_receiver     compound                                    \n",
       "f_Lactobacillaceae  L Ornithine C5H13N2O2             0.016431  \n",
       "f_Sphaerochaetaceae D-Glucose                         0.041018  "
      ]
     },
     "execution_count": 22,
     "metadata": {},
     "output_type": "execute_result"
    }
   ],
   "source": [
    "statistics_df[(statistics_df.p_value_benjamini_h<0.05) & (statistics_df[\"odds_ratio\"]>4.95)]"
   ]
  },
  {
   "cell_type": "code",
   "execution_count": 23,
   "id": "ddec0073-e7b7-4e84-9624-bcfddb11fe2f",
   "metadata": {},
   "outputs": [
    {
     "data": {
      "text/plain": [
       "(48, 7)"
      ]
     },
     "execution_count": 23,
     "metadata": {},
     "output_type": "execute_result"
    }
   ],
   "source": [
    "statistics_df = statistics_function(steadier_sample_cross,\"family_receiver\",\"super_class\",metric=\"rate\",metric_thresh=1e-6,pvalue_thresh=1)\n",
    "statistics_df = statistics_adjustments(statistics_df)\n",
    "statistics_df.shape"
   ]
  },
  {
   "cell_type": "code",
   "execution_count": 24,
   "id": "a90935fd-c57d-42cb-9530-435b5c4dbb35",
   "metadata": {},
   "outputs": [
    {
     "data": {
      "text/html": [
       "<div>\n",
       "<style scoped>\n",
       "    .dataframe tbody tr th:only-of-type {\n",
       "        vertical-align: middle;\n",
       "    }\n",
       "\n",
       "    .dataframe tbody tr th {\n",
       "        vertical-align: top;\n",
       "    }\n",
       "\n",
       "    .dataframe thead th {\n",
       "        text-align: right;\n",
       "    }\n",
       "</style>\n",
       "<table border=\"1\" class=\"dataframe\">\n",
       "  <thead>\n",
       "    <tr style=\"text-align: right;\">\n",
       "      <th></th>\n",
       "      <th></th>\n",
       "      <th>p_value</th>\n",
       "      <th>odds_ratio</th>\n",
       "      <th>data</th>\n",
       "      <th># interaction</th>\n",
       "      <th># no interaction</th>\n",
       "      <th>i</th>\n",
       "      <th>p_value_benjamini_h</th>\n",
       "    </tr>\n",
       "    <tr>\n",
       "      <th>family_receiver</th>\n",
       "      <th>super_class</th>\n",
       "      <th></th>\n",
       "      <th></th>\n",
       "      <th></th>\n",
       "      <th></th>\n",
       "      <th></th>\n",
       "      <th></th>\n",
       "      <th></th>\n",
       "    </tr>\n",
       "  </thead>\n",
       "  <tbody>\n",
       "  </tbody>\n",
       "</table>\n",
       "</div>"
      ],
      "text/plain": [
       "Empty DataFrame\n",
       "Columns: [p_value, odds_ratio, data, # interaction, # no interaction, i, p_value_benjamini_h]\n",
       "Index: []"
      ]
     },
     "execution_count": 24,
     "metadata": {},
     "output_type": "execute_result"
    }
   ],
   "source": [
    "statistics_df[(statistics_df.p_value_benjamini_h<0.1) & (statistics_df[\"odds_ratio\"]>4.95)]"
   ]
  },
  {
   "cell_type": "markdown",
   "id": "7030e3a9-b11c-4346-bf19-18067e6fb1b0",
   "metadata": {
    "tags": []
   },
   "source": [
    "## Likelyhood that family X is donating a compound A to another family"
   ]
  },
  {
   "cell_type": "code",
   "execution_count": 25,
   "id": "1f1e7d94-8680-4aa6-851f-4edd7574dfe2",
   "metadata": {
    "tags": []
   },
   "outputs": [
    {
     "data": {
      "text/plain": [
       "(134, 7)"
      ]
     },
     "execution_count": 25,
     "metadata": {},
     "output_type": "execute_result"
    }
   ],
   "source": [
    "statistics_df = statistics_function(steadier_sample_cross,\"family_donor\",\"compound\",metric=\"rate\",metric_thresh=1e-6,pvalue_thresh=1)\n",
    "statistics_df = statistics_adjustments(statistics_df)\n",
    "statistics_df.shape"
   ]
  },
  {
   "cell_type": "code",
   "execution_count": 26,
   "id": "89230c3a-870f-4299-b727-ce4152c593de",
   "metadata": {},
   "outputs": [
    {
     "data": {
      "text/html": [
       "<div>\n",
       "<style scoped>\n",
       "    .dataframe tbody tr th:only-of-type {\n",
       "        vertical-align: middle;\n",
       "    }\n",
       "\n",
       "    .dataframe tbody tr th {\n",
       "        vertical-align: top;\n",
       "    }\n",
       "\n",
       "    .dataframe thead th {\n",
       "        text-align: right;\n",
       "    }\n",
       "</style>\n",
       "<table border=\"1\" class=\"dataframe\">\n",
       "  <thead>\n",
       "    <tr style=\"text-align: right;\">\n",
       "      <th></th>\n",
       "      <th></th>\n",
       "      <th>p_value</th>\n",
       "      <th>odds_ratio</th>\n",
       "      <th>data</th>\n",
       "      <th># interaction</th>\n",
       "      <th># no interaction</th>\n",
       "      <th>i</th>\n",
       "      <th>p_value_benjamini_h</th>\n",
       "    </tr>\n",
       "    <tr>\n",
       "      <th>family_donor</th>\n",
       "      <th>compound</th>\n",
       "      <th></th>\n",
       "      <th></th>\n",
       "      <th></th>\n",
       "      <th></th>\n",
       "      <th></th>\n",
       "      <th></th>\n",
       "      <th></th>\n",
       "    </tr>\n",
       "  </thead>\n",
       "  <tbody>\n",
       "    <tr>\n",
       "      <th>f_Lachnospiraceae</th>\n",
       "      <th>Guanine</th>\n",
       "      <td>0.000949</td>\n",
       "      <td>6.666667</td>\n",
       "      <td>[[5.0, 3.0], [6.0, 58.0]]</td>\n",
       "      <td>5.0</td>\n",
       "      <td>3</td>\n",
       "      <td>5.0</td>\n",
       "      <td>0.025434</td>\n",
       "    </tr>\n",
       "    <tr>\n",
       "      <th>f_Lactobacillaceae</th>\n",
       "      <th>L Ornithine C5H13N2O2</th>\n",
       "      <td>0.000107</td>\n",
       "      <td>inf</td>\n",
       "      <td>[[2.0, 0.0], [0.0, 70.0]]</td>\n",
       "      <td>2.0</td>\n",
       "      <td>0</td>\n",
       "      <td>1.0</td>\n",
       "      <td>0.014391</td>\n",
       "    </tr>\n",
       "    <tr>\n",
       "      <th>f_Sphaerochaetaceae</th>\n",
       "      <th>D-Glucose</th>\n",
       "      <td>0.000536</td>\n",
       "      <td>5.5</td>\n",
       "      <td>[[5.0, 1.0], [10.0, 56.0]]</td>\n",
       "      <td>5.0</td>\n",
       "      <td>1</td>\n",
       "      <td>2.0</td>\n",
       "      <td>0.035924</td>\n",
       "    </tr>\n",
       "  </tbody>\n",
       "</table>\n",
       "</div>"
      ],
      "text/plain": [
       "                                            p_value odds_ratio  \\\n",
       "family_donor        compound                                     \n",
       "f_Lachnospiraceae   Guanine                0.000949   6.666667   \n",
       "f_Lactobacillaceae  L Ornithine C5H13N2O2  0.000107        inf   \n",
       "f_Sphaerochaetaceae D-Glucose              0.000536        5.5   \n",
       "\n",
       "                                                                 data  \\\n",
       "family_donor        compound                                            \n",
       "f_Lachnospiraceae   Guanine                 [[5.0, 3.0], [6.0, 58.0]]   \n",
       "f_Lactobacillaceae  L Ornithine C5H13N2O2   [[2.0, 0.0], [0.0, 70.0]]   \n",
       "f_Sphaerochaetaceae D-Glucose              [[5.0, 1.0], [10.0, 56.0]]   \n",
       "\n",
       "                                          # interaction # no interaction    i  \\\n",
       "family_donor        compound                                                    \n",
       "f_Lachnospiraceae   Guanine                         5.0                3  5.0   \n",
       "f_Lactobacillaceae  L Ornithine C5H13N2O2           2.0                0  1.0   \n",
       "f_Sphaerochaetaceae D-Glucose                       5.0                1  2.0   \n",
       "\n",
       "                                           p_value_benjamini_h  \n",
       "family_donor        compound                                    \n",
       "f_Lachnospiraceae   Guanine                           0.025434  \n",
       "f_Lactobacillaceae  L Ornithine C5H13N2O2             0.014391  \n",
       "f_Sphaerochaetaceae D-Glucose                         0.035924  "
      ]
     },
     "execution_count": 26,
     "metadata": {},
     "output_type": "execute_result"
    }
   ],
   "source": [
    "statistics_df[(statistics_df.p_value_benjamini_h<0.05) & (statistics_df[\"odds_ratio\"]>4.95)]"
   ]
  },
  {
   "cell_type": "code",
   "execution_count": 27,
   "id": "5f4eef19-9798-41c8-b46b-0d6ef3a19c61",
   "metadata": {
    "tags": []
   },
   "outputs": [
    {
     "data": {
      "text/plain": [
       "(54, 7)"
      ]
     },
     "execution_count": 27,
     "metadata": {},
     "output_type": "execute_result"
    }
   ],
   "source": [
    "statistics_df = statistics_function(steadier_sample_cross,\"family_donor\",\"super_class\",metric=\"rate\",metric_thresh=1e-6,pvalue_thresh=1)\n",
    "statistics_df = statistics_adjustments(statistics_df)\n",
    "statistics_df.shape"
   ]
  },
  {
   "cell_type": "code",
   "execution_count": 28,
   "id": "7bbdc0d6-a3bc-46fd-96c7-2c2bfabfbe4b",
   "metadata": {},
   "outputs": [
    {
     "data": {
      "text/html": [
       "<div>\n",
       "<style scoped>\n",
       "    .dataframe tbody tr th:only-of-type {\n",
       "        vertical-align: middle;\n",
       "    }\n",
       "\n",
       "    .dataframe tbody tr th {\n",
       "        vertical-align: top;\n",
       "    }\n",
       "\n",
       "    .dataframe thead th {\n",
       "        text-align: right;\n",
       "    }\n",
       "</style>\n",
       "<table border=\"1\" class=\"dataframe\">\n",
       "  <thead>\n",
       "    <tr style=\"text-align: right;\">\n",
       "      <th></th>\n",
       "      <th></th>\n",
       "      <th>p_value</th>\n",
       "      <th>odds_ratio</th>\n",
       "      <th>data</th>\n",
       "      <th># interaction</th>\n",
       "      <th># no interaction</th>\n",
       "      <th>i</th>\n",
       "      <th>p_value_benjamini_h</th>\n",
       "    </tr>\n",
       "    <tr>\n",
       "      <th>family_donor</th>\n",
       "      <th>super_class</th>\n",
       "      <th></th>\n",
       "      <th></th>\n",
       "      <th></th>\n",
       "      <th></th>\n",
       "      <th></th>\n",
       "      <th></th>\n",
       "      <th></th>\n",
       "    </tr>\n",
       "  </thead>\n",
       "  <tbody>\n",
       "  </tbody>\n",
       "</table>\n",
       "</div>"
      ],
      "text/plain": [
       "Empty DataFrame\n",
       "Columns: [p_value, odds_ratio, data, # interaction, # no interaction, i, p_value_benjamini_h]\n",
       "Index: []"
      ]
     },
     "execution_count": 28,
     "metadata": {},
     "output_type": "execute_result"
    }
   ],
   "source": [
    "statistics_df[(statistics_df.p_value_benjamini_h<0.1) & (statistics_df[\"odds_ratio\"]>4.95)]"
   ]
  },
  {
   "cell_type": "markdown",
   "id": "e491180e-3514-4b3a-bf2f-0102752a0820",
   "metadata": {},
   "source": [
    "## Likelyhood that family X is receiving from family Y"
   ]
  },
  {
   "cell_type": "code",
   "execution_count": 29,
   "id": "7efa033a-da04-4910-9a39-52c13d134002",
   "metadata": {},
   "outputs": [
    {
     "data": {
      "text/plain": [
       "(89, 7)"
      ]
     },
     "execution_count": 29,
     "metadata": {},
     "output_type": "execute_result"
    }
   ],
   "source": [
    "statistics_df = statistics_function(steadier_sample_cross,\"family_receiver\",\"family_donor\",metric=\"rate\",metric_thresh=1e-6,pvalue_thresh=1)\n",
    "statistics_df = statistics_adjustments(statistics_df)\n",
    "statistics_df.shape"
   ]
  },
  {
   "cell_type": "code",
   "execution_count": 30,
   "id": "e8093f1f-d231-445b-bca9-eb62fe291fd8",
   "metadata": {},
   "outputs": [
    {
     "data": {
      "text/html": [
       "<div>\n",
       "<style scoped>\n",
       "    .dataframe tbody tr th:only-of-type {\n",
       "        vertical-align: middle;\n",
       "    }\n",
       "\n",
       "    .dataframe tbody tr th {\n",
       "        vertical-align: top;\n",
       "    }\n",
       "\n",
       "    .dataframe thead th {\n",
       "        text-align: right;\n",
       "    }\n",
       "</style>\n",
       "<table border=\"1\" class=\"dataframe\">\n",
       "  <thead>\n",
       "    <tr style=\"text-align: right;\">\n",
       "      <th></th>\n",
       "      <th></th>\n",
       "      <th>p_value</th>\n",
       "      <th>odds_ratio</th>\n",
       "      <th>data</th>\n",
       "      <th># interaction</th>\n",
       "      <th># no interaction</th>\n",
       "      <th>i</th>\n",
       "      <th>p_value_benjamini_h</th>\n",
       "    </tr>\n",
       "    <tr>\n",
       "      <th>family_receiver</th>\n",
       "      <th>family_donor</th>\n",
       "      <th></th>\n",
       "      <th></th>\n",
       "      <th></th>\n",
       "      <th></th>\n",
       "      <th></th>\n",
       "      <th></th>\n",
       "      <th></th>\n",
       "    </tr>\n",
       "  </thead>\n",
       "  <tbody>\n",
       "  </tbody>\n",
       "</table>\n",
       "</div>"
      ],
      "text/plain": [
       "Empty DataFrame\n",
       "Columns: [p_value, odds_ratio, data, # interaction, # no interaction, i, p_value_benjamini_h]\n",
       "Index: []"
      ]
     },
     "execution_count": 30,
     "metadata": {},
     "output_type": "execute_result"
    }
   ],
   "source": [
    "statistics_df[(statistics_df.p_value_benjamini_h<0.05) & (statistics_df[\"odds_ratio\"]>4.95)]"
   ]
  },
  {
   "cell_type": "markdown",
   "id": "b46983c0-ce24-481b-8d5e-9e13ca0c96a1",
   "metadata": {},
   "source": [
    "### Who donates the most?"
   ]
  },
  {
   "cell_type": "code",
   "execution_count": 31,
   "id": "197495d5-c5fb-4d1b-8cce-2c7ba7a3579a",
   "metadata": {},
   "outputs": [],
   "source": [
    "total_members = steadier_sample_cross.groupby(\"family_donor\").nunique()[\"donor\"]"
   ]
  },
  {
   "cell_type": "markdown",
   "id": "d69a32d2-78ef-406a-ae39-584f00549059",
   "metadata": {},
   "source": [
    "### All communities - Relative abundance (above 10 %)"
   ]
  },
  {
   "cell_type": "code",
   "execution_count": 32,
   "id": "246730b2-f007-4d79-b410-2df795e298c1",
   "metadata": {},
   "outputs": [],
   "source": [
    "def abundance_statistic(abundance_communities,receiver_or_donor=\"receiver\"):\n",
    "    \n",
    "    \n",
    "    table_abundance_rec_don_dict = {}\n",
    "    table_not_abundant_rec_don_dict = {}\n",
    "\n",
    "    for compound in abundance_communities[abundance_communities.receiver_abundance_10].compound.unique():\n",
    "        if receiver_or_donor==\"receiver\":\n",
    "            abund_rec_don = len(abundance_communities[(abundance_communities.receiver_abundance_10) & (abundance_communities.compound==compound)].receiver.unique())\n",
    "            not_abund_rec_don = len(abundance_communities[(~abundance_communities.receiver_abundance_10) & (abundance_communities.compound==compound)].receiver.unique())\n",
    "        elif receiver_or_donor==\"donor\":\n",
    "            abund_rec_don = len(abundance_communities[(abundance_communities.donor_abundance_10) & (abundance_communities.compound==compound)].donor.unique())\n",
    "            not_abund_rec_don = len(abundance_communities[(~abundance_communities.donor_abundance_10) & (abundance_communities.compound==compound)].donor.unique())\n",
    "        \n",
    "        \n",
    "        abund_not_rec_don = len(high_abundance) - abund_rec_don\n",
    "        not_abund_not_rec_don = len(low_abunance) - not_abund_rec_don\n",
    "\n",
    "\n",
    "        table = [[abund_rec_don,not_abund_rec_don],[abund_not_rec_don,not_abund_not_rec_don]]\n",
    "        table_non_abundant = [[not_abund_rec_don,abund_rec_don],[not_abund_not_rec_don,abund_not_rec_don]]\n",
    "\n",
    "        try:\n",
    "            odds_ratio = (abund_rec_don/(abund_rec_don+abund_not_rec_don))/(not_abund_rec_don/(not_abund_rec_don+not_abund_not_rec_don))\n",
    "        except:\n",
    "            odds_ratio = math.inf\n",
    "\n",
    "\n",
    "        p_value = stats.barnard_exact(table,alternative=\"greater\")\n",
    "\n",
    "        table_abundance_rec_don_dict[compound] = {\"table\":table,\"p_value\":p_value.pvalue,\"odds_ratio\":odds_ratio}\n",
    "\n",
    "\n",
    "        p_value_not = stats.barnard_exact(table_non_abundant,alternative=\"greater\")\n",
    "\n",
    "        table_not_abundant_rec_don_dict[compound]= {\"table\":table,\"p_value\":p_value_not.pvalue,\"odds_ratio\":odds_ratio}\n",
    "        \n",
    "    return table_abundance_rec_don_dict, table_not_abundant_rec_don_dict\n",
    "        \n"
   ]
  },
  {
   "cell_type": "code",
   "execution_count": 33,
   "id": "ab34397c-edb0-4da4-ab4f-654910c246a8",
   "metadata": {},
   "outputs": [],
   "source": [
    "def abundance_statistic_super_class(abundance_communities,receiver_or_donor=\"receiver\"):\n",
    "    \n",
    "    \n",
    "    table_abundance_rec_don_dict = {}\n",
    "    table_not_abundant_rec_don_dict = {}\n",
    "\n",
    "    for super_class in abundance_communities[abundance_communities.receiver_abundance_10].super_class.unique():\n",
    "        if receiver_or_donor==\"receiver\":\n",
    "            abund_rec_don = len(abundance_communities[(abundance_communities.receiver_abundance_10) & (abundance_communities.super_class==super_class)].receiver.unique())\n",
    "            not_abund_rec_don = len(abundance_communities[(~abundance_communities.receiver_abundance_10) & (abundance_communities.super_class==super_class)].receiver.unique())\n",
    "        elif receiver_or_donor==\"donor\":\n",
    "            abund_rec_don = len(abundance_communities[(abundance_communities.donor_abundance_10) & (abundance_communities.super_class==super_class)].donor.unique())\n",
    "            not_abund_rec_don = len(abundance_communities[(~abundance_communities.donor_abundance_10) & (abundance_communities.super_class==super_class)].donor.unique())\n",
    "        \n",
    "        \n",
    "        abund_not_rec_don = len(high_abundance) - abund_rec_don\n",
    "        not_abund_not_rec_don = len(low_abunance) - not_abund_rec_don\n",
    "\n",
    "\n",
    "        table = [[abund_rec_don,not_abund_rec_don],[abund_not_rec_don,not_abund_not_rec_don]]\n",
    "        table_non_abundant = [[not_abund_rec_don,abund_rec_don],[not_abund_not_rec_don,abund_not_rec_don]]\n",
    "\n",
    "        try:\n",
    "            odds_ratio = (abund_rec_don/(abund_rec_don+abund_not_rec_don))/(not_abund_rec_don/(not_abund_rec_don+not_abund_not_rec_don))\n",
    "        except:\n",
    "            odds_ratio = math.inf\n",
    "\n",
    "\n",
    "        p_value = stats.barnard_exact(table,alternative=\"greater\")\n",
    "\n",
    "        table_abundance_rec_don_dict[super_class] = {\"table\":table,\"p_value\":p_value.pvalue,\"odds_ratio\":odds_ratio}\n",
    "\n",
    "\n",
    "        p_value_not = stats.barnard_exact(table_non_abundant,alternative=\"greater\")\n",
    "\n",
    "        table_not_abundant_rec_don_dict[super_class]= {\"table\":table,\"p_value\":p_value_not.pvalue,\"odds_ratio\":odds_ratio}\n",
    "        \n",
    "    return table_abundance_rec_don_dict, table_not_abundant_rec_don_dict\n",
    "        \n"
   ]
  },
  {
   "cell_type": "markdown",
   "id": "746595e4-2d01-436d-8430-e50b438c7283",
   "metadata": {},
   "source": [
    "**Assign abundant/not-abundant classifier**"
   ]
  },
  {
   "cell_type": "code",
   "execution_count": 34,
   "id": "69df69db-ece7-4176-9d51-4f5d9607c992",
   "metadata": {},
   "outputs": [],
   "source": [
    "abundance_communities = steadier_sample_cross.copy()\n",
    "abundance_communities[\"donor_abundance_10\"] = abundance_communities[\"donor\"].map(lambda x: all_mags_paper.loc[x,\"new_coverage\"]>10)\n",
    "abundance_communities[\"receiver_abundance_10\"] = abundance_communities[\"receiver\"].map(lambda x: all_mags_paper.loc[x,\"new_coverage\"]>10)"
   ]
  },
  {
   "cell_type": "markdown",
   "id": "802c4039-ee66-4237-8acf-4c3a020a3bd6",
   "metadata": {},
   "source": [
    "**Overview of abundant members**"
   ]
  },
  {
   "cell_type": "code",
   "execution_count": 35,
   "id": "655cb50e-6e9d-4efe-8699-584c416580b4",
   "metadata": {},
   "outputs": [],
   "source": [
    "high_abundance = set(list(abundance_communities[abundance_communities.donor_abundance_10].donor.unique()) + list(abundance_communities[abundance_communities.receiver_abundance_10].receiver.unique()))\n",
    "low_abunance = set(list(abundance_communities[~abundance_communities.donor_abundance_10].donor.unique()) + list(abundance_communities[~abundance_communities.receiver_abundance_10].receiver.unique()))"
   ]
  },
  {
   "cell_type": "markdown",
   "id": "0c955ed0-69a1-43bf-a2a3-80a0faea126b",
   "metadata": {},
   "source": [
    "#### Statistics for receiving"
   ]
  },
  {
   "cell_type": "code",
   "execution_count": 36,
   "id": "4e72bb61-0f20-4cea-bf2c-be4f0d77af6a",
   "metadata": {},
   "outputs": [],
   "source": [
    "table_abundance_rec_dict, table_not_abundant_rec_dict = abundance_statistic(abundance_communities,receiver_or_donor=\"receiver\")"
   ]
  },
  {
   "cell_type": "code",
   "execution_count": 37,
   "id": "afb33050-f98a-4fd1-84d3-3636aa5964fa",
   "metadata": {},
   "outputs": [
    {
     "data": {
      "text/html": [
       "<div>\n",
       "<style scoped>\n",
       "    .dataframe tbody tr th:only-of-type {\n",
       "        vertical-align: middle;\n",
       "    }\n",
       "\n",
       "    .dataframe tbody tr th {\n",
       "        vertical-align: top;\n",
       "    }\n",
       "\n",
       "    .dataframe thead th {\n",
       "        text-align: right;\n",
       "    }\n",
       "</style>\n",
       "<table border=\"1\" class=\"dataframe\">\n",
       "  <thead>\n",
       "    <tr style=\"text-align: right;\">\n",
       "      <th></th>\n",
       "      <th>table</th>\n",
       "      <th>p_value</th>\n",
       "      <th>odds_ratio</th>\n",
       "      <th>i</th>\n",
       "      <th>p_value_benjamini_h</th>\n",
       "    </tr>\n",
       "  </thead>\n",
       "  <tbody>\n",
       "  </tbody>\n",
       "</table>\n",
       "</div>"
      ],
      "text/plain": [
       "Empty DataFrame\n",
       "Columns: [table, p_value, odds_ratio, i, p_value_benjamini_h]\n",
       "Index: []"
      ]
     },
     "execution_count": 37,
     "metadata": {},
     "output_type": "execute_result"
    }
   ],
   "source": [
    "abund_rec_df = pd.DataFrame(table_abundance_rec_dict).T\n",
    "abund_rec_df = statistics_adjustments(abund_rec_df)\n",
    "\n",
    "abund_rec_df[abund_rec_df.p_value_benjamini_h<0.05].sort_values(\"p_value\")"
   ]
  },
  {
   "cell_type": "code",
   "execution_count": 38,
   "id": "d4fbaa76-2224-4592-adb2-08e09d150931",
   "metadata": {},
   "outputs": [
    {
     "data": {
      "text/html": [
       "<div>\n",
       "<style scoped>\n",
       "    .dataframe tbody tr th:only-of-type {\n",
       "        vertical-align: middle;\n",
       "    }\n",
       "\n",
       "    .dataframe tbody tr th {\n",
       "        vertical-align: top;\n",
       "    }\n",
       "\n",
       "    .dataframe thead th {\n",
       "        text-align: right;\n",
       "    }\n",
       "</style>\n",
       "<table border=\"1\" class=\"dataframe\">\n",
       "  <thead>\n",
       "    <tr style=\"text-align: right;\">\n",
       "      <th></th>\n",
       "      <th>table</th>\n",
       "      <th>p_value</th>\n",
       "      <th>odds_ratio</th>\n",
       "      <th>i</th>\n",
       "      <th>p_value_benjamini_h</th>\n",
       "    </tr>\n",
       "  </thead>\n",
       "  <tbody>\n",
       "    <tr>\n",
       "      <th>L-Lysine</th>\n",
       "      <td>[[3, 46], [11, 12]]</td>\n",
       "      <td>0.000251</td>\n",
       "      <td>3.701149</td>\n",
       "      <td>1.0</td>\n",
       "      <td>0.006031</td>\n",
       "    </tr>\n",
       "    <tr>\n",
       "      <th>Guanine</th>\n",
       "      <td>[[7, 53], [7, 5]]</td>\n",
       "      <td>0.000531</td>\n",
       "      <td>1.827586</td>\n",
       "      <td>2.0</td>\n",
       "      <td>0.006373</td>\n",
       "    </tr>\n",
       "  </tbody>\n",
       "</table>\n",
       "</div>"
      ],
      "text/plain": [
       "                        table   p_value  odds_ratio    i  p_value_benjamini_h\n",
       "L-Lysine  [[3, 46], [11, 12]]  0.000251    3.701149  1.0             0.006031\n",
       "Guanine     [[7, 53], [7, 5]]  0.000531    1.827586  2.0             0.006373"
      ]
     },
     "execution_count": 38,
     "metadata": {},
     "output_type": "execute_result"
    }
   ],
   "source": [
    "not_abund_rec_df = pd.DataFrame(table_not_abundant_rec_dict).T\n",
    "not_abund_rec_df = statistics_adjustments(not_abund_rec_df)\n",
    "not_abund_rec_df[\"odds_ratio\"] = not_abund_rec_df[\"odds_ratio\"].map(lambda x: 1/x)\n",
    "not_abund_rec_df[not_abund_rec_df.p_value_benjamini_h<0.05].sort_values(\"p_value\")"
   ]
  },
  {
   "cell_type": "code",
   "execution_count": 41,
   "id": "4ec850d1-4df7-42ec-a990-d184ae007a9b",
   "metadata": {},
   "outputs": [],
   "source": [
    "table_abundance_rec_dict, table_not_abundant_rec_dict = abundance_statistic_super_class(abundance_communities,receiver_or_donor=\"receiver\")"
   ]
  },
  {
   "cell_type": "code",
   "execution_count": 42,
   "id": "534e9527-68a7-4c25-98ec-ac4b9cebae13",
   "metadata": {},
   "outputs": [
    {
     "data": {
      "text/html": [
       "<div>\n",
       "<style scoped>\n",
       "    .dataframe tbody tr th:only-of-type {\n",
       "        vertical-align: middle;\n",
       "    }\n",
       "\n",
       "    .dataframe tbody tr th {\n",
       "        vertical-align: top;\n",
       "    }\n",
       "\n",
       "    .dataframe thead th {\n",
       "        text-align: right;\n",
       "    }\n",
       "</style>\n",
       "<table border=\"1\" class=\"dataframe\">\n",
       "  <thead>\n",
       "    <tr style=\"text-align: right;\">\n",
       "      <th></th>\n",
       "      <th>table</th>\n",
       "      <th>p_value</th>\n",
       "      <th>odds_ratio</th>\n",
       "      <th>i</th>\n",
       "      <th>p_value_benjamini_h</th>\n",
       "    </tr>\n",
       "  </thead>\n",
       "  <tbody>\n",
       "  </tbody>\n",
       "</table>\n",
       "</div>"
      ],
      "text/plain": [
       "Empty DataFrame\n",
       "Columns: [table, p_value, odds_ratio, i, p_value_benjamini_h]\n",
       "Index: []"
      ]
     },
     "execution_count": 42,
     "metadata": {},
     "output_type": "execute_result"
    }
   ],
   "source": [
    "abund_rec_df = pd.DataFrame(table_abundance_rec_dict).T\n",
    "abund_rec_df = statistics_adjustments(abund_rec_df)\n",
    "\n",
    "abund_rec_df[abund_rec_df.p_value_benjamini_h<0.05].sort_values(\"p_value\")"
   ]
  },
  {
   "cell_type": "code",
   "execution_count": 43,
   "id": "9cff1e29-a0dc-4080-8e6e-36b01686c58b",
   "metadata": {},
   "outputs": [
    {
     "data": {
      "text/html": [
       "<div>\n",
       "<style scoped>\n",
       "    .dataframe tbody tr th:only-of-type {\n",
       "        vertical-align: middle;\n",
       "    }\n",
       "\n",
       "    .dataframe tbody tr th {\n",
       "        vertical-align: top;\n",
       "    }\n",
       "\n",
       "    .dataframe thead th {\n",
       "        text-align: right;\n",
       "    }\n",
       "</style>\n",
       "<table border=\"1\" class=\"dataframe\">\n",
       "  <thead>\n",
       "    <tr style=\"text-align: right;\">\n",
       "      <th></th>\n",
       "      <th>table</th>\n",
       "      <th>p_value</th>\n",
       "      <th>odds_ratio</th>\n",
       "      <th>i</th>\n",
       "      <th>p_value_benjamini_h</th>\n",
       "    </tr>\n",
       "  </thead>\n",
       "  <tbody>\n",
       "    <tr>\n",
       "      <th>amino acids and derivatives</th>\n",
       "      <td>[[8, 53], [6, 5]]</td>\n",
       "      <td>0.002818</td>\n",
       "      <td>1.599138</td>\n",
       "      <td>1.0</td>\n",
       "      <td>0.022548</td>\n",
       "    </tr>\n",
       "    <tr>\n",
       "      <th>nucleotides and derivatives</th>\n",
       "      <td>[[10, 56], [4, 2]]</td>\n",
       "      <td>0.004512</td>\n",
       "      <td>1.351724</td>\n",
       "      <td>2.0</td>\n",
       "      <td>0.018049</td>\n",
       "    </tr>\n",
       "  </tbody>\n",
       "</table>\n",
       "</div>"
      ],
      "text/plain": [
       "                                          table   p_value  odds_ratio    i  \\\n",
       "amino acids and derivatives   [[8, 53], [6, 5]]  0.002818    1.599138  1.0   \n",
       "nucleotides and derivatives  [[10, 56], [4, 2]]  0.004512    1.351724  2.0   \n",
       "\n",
       "                             p_value_benjamini_h  \n",
       "amino acids and derivatives             0.022548  \n",
       "nucleotides and derivatives             0.018049  "
      ]
     },
     "execution_count": 43,
     "metadata": {},
     "output_type": "execute_result"
    }
   ],
   "source": [
    "not_abund_rec_df = pd.DataFrame(table_not_abundant_rec_dict).T\n",
    "not_abund_rec_df = statistics_adjustments(not_abund_rec_df)\n",
    "not_abund_rec_df[\"odds_ratio\"] = not_abund_rec_df[\"odds_ratio\"].map(lambda x: 1/x)\n",
    "not_abund_rec_df[not_abund_rec_df.p_value_benjamini_h<0.05].sort_values(\"p_value\")"
   ]
  },
  {
   "cell_type": "markdown",
   "id": "5c49fc20-ee9a-41aa-9d96-2857945d9753",
   "metadata": {
    "tags": []
   },
   "source": [
    "#### Statistics for donating"
   ]
  },
  {
   "cell_type": "code",
   "execution_count": 44,
   "id": "cd8973ab-a3cc-48ae-bca7-2dc34f201b50",
   "metadata": {},
   "outputs": [],
   "source": [
    "table_abundant_donation_dict, table_not_abundant_donation_dict = abundance_statistic(abundance_communities,receiver_or_donor=\"donor\")"
   ]
  },
  {
   "cell_type": "code",
   "execution_count": 46,
   "id": "510b51d8-ade0-491a-8d9b-4d277a122212",
   "metadata": {},
   "outputs": [
    {
     "data": {
      "text/html": [
       "<div>\n",
       "<style scoped>\n",
       "    .dataframe tbody tr th:only-of-type {\n",
       "        vertical-align: middle;\n",
       "    }\n",
       "\n",
       "    .dataframe tbody tr th {\n",
       "        vertical-align: top;\n",
       "    }\n",
       "\n",
       "    .dataframe thead th {\n",
       "        text-align: right;\n",
       "    }\n",
       "</style>\n",
       "<table border=\"1\" class=\"dataframe\">\n",
       "  <thead>\n",
       "    <tr style=\"text-align: right;\">\n",
       "      <th></th>\n",
       "      <th>table</th>\n",
       "      <th>p_value</th>\n",
       "      <th>odds_ratio</th>\n",
       "      <th>i</th>\n",
       "      <th>p_value_benjamini_h</th>\n",
       "    </tr>\n",
       "  </thead>\n",
       "  <tbody>\n",
       "    <tr>\n",
       "      <th>Uracil</th>\n",
       "      <td>[[7, 4], [7, 54]]</td>\n",
       "      <td>0.000372</td>\n",
       "      <td>7.25</td>\n",
       "      <td>1.0</td>\n",
       "      <td>0.008935</td>\n",
       "    </tr>\n",
       "    <tr>\n",
       "      <th>Thymine C5H6N2O2</th>\n",
       "      <td>[[6, 3], [8, 55]]</td>\n",
       "      <td>0.000469</td>\n",
       "      <td>8.285714</td>\n",
       "      <td>2.0</td>\n",
       "      <td>0.005626</td>\n",
       "    </tr>\n",
       "    <tr>\n",
       "      <th>Acetaldehyde</th>\n",
       "      <td>[[11, 18], [3, 40]]</td>\n",
       "      <td>0.00264</td>\n",
       "      <td>2.531746</td>\n",
       "      <td>3.0</td>\n",
       "      <td>0.021119</td>\n",
       "    </tr>\n",
       "    <tr>\n",
       "      <th>Guanine</th>\n",
       "      <td>[[6, 5], [8, 53]]</td>\n",
       "      <td>0.002818</td>\n",
       "      <td>4.971429</td>\n",
       "      <td>5.0</td>\n",
       "      <td>0.013529</td>\n",
       "    </tr>\n",
       "    <tr>\n",
       "      <th>L-Lysine</th>\n",
       "      <td>[[6, 5], [8, 53]]</td>\n",
       "      <td>0.002818</td>\n",
       "      <td>4.971429</td>\n",
       "      <td>5.0</td>\n",
       "      <td>0.013529</td>\n",
       "    </tr>\n",
       "  </tbody>\n",
       "</table>\n",
       "</div>"
      ],
      "text/plain": [
       "                                table   p_value odds_ratio    i  \\\n",
       "Uracil              [[7, 4], [7, 54]]  0.000372       7.25  1.0   \n",
       "Thymine C5H6N2O2    [[6, 3], [8, 55]]  0.000469   8.285714  2.0   \n",
       "Acetaldehyde      [[11, 18], [3, 40]]   0.00264   2.531746  3.0   \n",
       "Guanine             [[6, 5], [8, 53]]  0.002818   4.971429  5.0   \n",
       "L-Lysine            [[6, 5], [8, 53]]  0.002818   4.971429  5.0   \n",
       "\n",
       "                  p_value_benjamini_h  \n",
       "Uracil                       0.008935  \n",
       "Thymine C5H6N2O2             0.005626  \n",
       "Acetaldehyde                 0.021119  \n",
       "Guanine                      0.013529  \n",
       "L-Lysine                     0.013529  "
      ]
     },
     "execution_count": 46,
     "metadata": {},
     "output_type": "execute_result"
    }
   ],
   "source": [
    "abundance_don_df = pd.DataFrame(table_abundant_donation_dict).T\n",
    "abundance_don_df = statistics_adjustments(abundance_don_df)\n",
    "abundance_don_df[abundance_don_df.p_value_benjamini_h<0.05].sort_values(\"p_value\")\n"
   ]
  },
  {
   "cell_type": "code",
   "execution_count": 47,
   "id": "9bfbfabe-6c18-4ef7-80b4-c93558b213ed",
   "metadata": {},
   "outputs": [
    {
     "data": {
      "text/html": [
       "<div>\n",
       "<style scoped>\n",
       "    .dataframe tbody tr th:only-of-type {\n",
       "        vertical-align: middle;\n",
       "    }\n",
       "\n",
       "    .dataframe tbody tr th {\n",
       "        vertical-align: top;\n",
       "    }\n",
       "\n",
       "    .dataframe thead th {\n",
       "        text-align: right;\n",
       "    }\n",
       "</style>\n",
       "<table border=\"1\" class=\"dataframe\">\n",
       "  <thead>\n",
       "    <tr style=\"text-align: right;\">\n",
       "      <th></th>\n",
       "      <th>table</th>\n",
       "      <th>p_value</th>\n",
       "      <th>odds_ratio</th>\n",
       "      <th>i</th>\n",
       "      <th>p_value_benjamini_h</th>\n",
       "    </tr>\n",
       "  </thead>\n",
       "  <tbody>\n",
       "  </tbody>\n",
       "</table>\n",
       "</div>"
      ],
      "text/plain": [
       "Empty DataFrame\n",
       "Columns: [table, p_value, odds_ratio, i, p_value_benjamini_h]\n",
       "Index: []"
      ]
     },
     "execution_count": 47,
     "metadata": {},
     "output_type": "execute_result"
    }
   ],
   "source": [
    "not_abundant_don_df = pd.DataFrame(table_not_abundant_donation_dict).T\n",
    "not_abundant_don_df = statistics_adjustments(not_abundant_don_df)\n",
    "\n",
    "\n",
    "not_abundant_don_df[\"odds_ratio\"] = not_abundant_don_df[\"odds_ratio\"].map(lambda x: math.inf if x==0 else 1/x)\n",
    "not_abundant_don_df[not_abundant_don_df.p_value_benjamini_h<0.05].sort_values(\"p_value\")"
   ]
  },
  {
   "cell_type": "code",
   "execution_count": 48,
   "id": "f78d11d3-48f2-4133-ad90-1370c2fc5d0a",
   "metadata": {},
   "outputs": [],
   "source": [
    "table_abundant_donation_dict, table_not_abundant_donation_dict = abundance_statistic_super_class(abundance_communities,receiver_or_donor=\"donor\")"
   ]
  },
  {
   "cell_type": "code",
   "execution_count": 49,
   "id": "f0c18e0f-b0c7-4cd0-be82-db66c396dac1",
   "metadata": {},
   "outputs": [
    {
     "data": {
      "text/html": [
       "<div>\n",
       "<style scoped>\n",
       "    .dataframe tbody tr th:only-of-type {\n",
       "        vertical-align: middle;\n",
       "    }\n",
       "\n",
       "    .dataframe tbody tr th {\n",
       "        vertical-align: top;\n",
       "    }\n",
       "\n",
       "    .dataframe thead th {\n",
       "        text-align: right;\n",
       "    }\n",
       "</style>\n",
       "<table border=\"1\" class=\"dataframe\">\n",
       "  <thead>\n",
       "    <tr style=\"text-align: right;\">\n",
       "      <th></th>\n",
       "      <th>table</th>\n",
       "      <th>p_value</th>\n",
       "      <th>odds_ratio</th>\n",
       "      <th>i</th>\n",
       "      <th>p_value_benjamini_h</th>\n",
       "    </tr>\n",
       "  </thead>\n",
       "  <tbody>\n",
       "    <tr>\n",
       "      <th>nucleotides and derivatives</th>\n",
       "      <td>[[10, 15], [4, 43]]</td>\n",
       "      <td>0.002643</td>\n",
       "      <td>2.761905</td>\n",
       "      <td>1.0</td>\n",
       "      <td>0.021142</td>\n",
       "    </tr>\n",
       "    <tr>\n",
       "      <th>alcohols and aldehydes</th>\n",
       "      <td>[[12, 23], [2, 35]]</td>\n",
       "      <td>0.002818</td>\n",
       "      <td>2.161491</td>\n",
       "      <td>2.0</td>\n",
       "      <td>0.011274</td>\n",
       "    </tr>\n",
       "    <tr>\n",
       "      <th>amino acids and derivatives</th>\n",
       "      <td>[[10, 20], [4, 38]]</td>\n",
       "      <td>0.014672</td>\n",
       "      <td>2.071429</td>\n",
       "      <td>3.0</td>\n",
       "      <td>0.039124</td>\n",
       "    </tr>\n",
       "  </tbody>\n",
       "</table>\n",
       "</div>"
      ],
      "text/plain": [
       "                                           table   p_value odds_ratio    i  \\\n",
       "nucleotides and derivatives  [[10, 15], [4, 43]]  0.002643   2.761905  1.0   \n",
       "alcohols and aldehydes       [[12, 23], [2, 35]]  0.002818   2.161491  2.0   \n",
       "amino acids and derivatives  [[10, 20], [4, 38]]  0.014672   2.071429  3.0   \n",
       "\n",
       "                             p_value_benjamini_h  \n",
       "nucleotides and derivatives             0.021142  \n",
       "alcohols and aldehydes                  0.011274  \n",
       "amino acids and derivatives             0.039124  "
      ]
     },
     "execution_count": 49,
     "metadata": {},
     "output_type": "execute_result"
    }
   ],
   "source": [
    "abundance_don_df = pd.DataFrame(table_abundant_donation_dict).T\n",
    "abundance_don_df = statistics_adjustments(abundance_don_df)\n",
    "abundance_don_df[abundance_don_df.p_value_benjamini_h<0.05].sort_values(\"p_value\")\n"
   ]
  },
  {
   "cell_type": "code",
   "execution_count": 50,
   "id": "833f85cd-6188-4ef6-8284-be20638f9756",
   "metadata": {},
   "outputs": [
    {
     "data": {
      "text/html": [
       "<div>\n",
       "<style scoped>\n",
       "    .dataframe tbody tr th:only-of-type {\n",
       "        vertical-align: middle;\n",
       "    }\n",
       "\n",
       "    .dataframe tbody tr th {\n",
       "        vertical-align: top;\n",
       "    }\n",
       "\n",
       "    .dataframe thead th {\n",
       "        text-align: right;\n",
       "    }\n",
       "</style>\n",
       "<table border=\"1\" class=\"dataframe\">\n",
       "  <thead>\n",
       "    <tr style=\"text-align: right;\">\n",
       "      <th></th>\n",
       "      <th>table</th>\n",
       "      <th>p_value</th>\n",
       "      <th>odds_ratio</th>\n",
       "      <th>i</th>\n",
       "      <th>p_value_benjamini_h</th>\n",
       "    </tr>\n",
       "  </thead>\n",
       "  <tbody>\n",
       "  </tbody>\n",
       "</table>\n",
       "</div>"
      ],
      "text/plain": [
       "Empty DataFrame\n",
       "Columns: [table, p_value, odds_ratio, i, p_value_benjamini_h]\n",
       "Index: []"
      ]
     },
     "execution_count": 50,
     "metadata": {},
     "output_type": "execute_result"
    }
   ],
   "source": [
    "not_abundant_don_df = pd.DataFrame(table_not_abundant_donation_dict).T\n",
    "not_abundant_don_df = statistics_adjustments(not_abundant_don_df)\n",
    "\n",
    "\n",
    "not_abundant_don_df[\"odds_ratio\"] = not_abundant_don_df[\"odds_ratio\"].map(lambda x: math.inf if x==0 else 1/x)\n",
    "not_abundant_don_df[not_abundant_don_df.p_value_benjamini_h<0.05].sort_values(\"p_value\")"
   ]
  },
  {
   "cell_type": "markdown",
   "id": "e4b8b5ad-e7c5-4dd2-8b48-14fac88f7015",
   "metadata": {
    "tags": []
   },
   "source": [
    "## Mass flow"
   ]
  },
  {
   "cell_type": "markdown",
   "id": "96faec64-980e-4e41-8c1e-8b93524b56cc",
   "metadata": {},
   "source": [
    "#### Xylose"
   ]
  },
  {
   "cell_type": "markdown",
   "id": "9ade7762-1841-46b3-93fc-46189877b363",
   "metadata": {},
   "source": [
    "**Receiver of Xylose**"
   ]
  },
  {
   "cell_type": "code",
   "execution_count": 51,
   "id": "32effc73-6b2a-48e2-9006-703e9598e6b5",
   "metadata": {},
   "outputs": [
    {
     "data": {
      "text/plain": [
       "family_receiver\n",
       "Other                    2\n",
       "f_Desulfovibrionaceae    2\n",
       "f_Lachnospiraceae        2\n",
       "f_Lactobacillaceae       2\n",
       "f_Clostridiaceae         1\n",
       "dtype: int64"
      ]
     },
     "execution_count": 51,
     "metadata": {},
     "output_type": "execute_result"
    }
   ],
   "source": [
    "steadier_sample_cross[(steadier_sample_cross.compound==\"D-Xylose\")].value_counts(\"family_receiver\")"
   ]
  },
  {
   "cell_type": "code",
   "execution_count": 52,
   "id": "4bcae4b4-952a-456e-b9fe-4303a19040b6",
   "metadata": {},
   "outputs": [
    {
     "data": {
      "text/plain": [
       "family_receiver\n",
       "Other                    0.049099\n",
       "f_Clostridiaceae         0.009986\n",
       "f_Lachnospiraceae        0.003343\n",
       "f_Lactobacillaceae       0.002548\n",
       "f_Desulfovibrionaceae    0.000704\n",
       "Name: mass_rate*frequency, dtype: float64"
      ]
     },
     "execution_count": 52,
     "metadata": {},
     "output_type": "execute_result"
    }
   ],
   "source": [
    "steadier_sample_cross[(steadier_sample_cross.compound==\"D-Xylose\")].groupby([\"family_receiver\"]).sum()[\"mass_rate*frequency\"].sort_values(ascending=False)\n"
   ]
  },
  {
   "cell_type": "markdown",
   "id": "0c16ea4a-3804-456d-a63c-29600ea33d56",
   "metadata": {},
   "source": [
    "**Donor of Xylose**"
   ]
  },
  {
   "cell_type": "code",
   "execution_count": 53,
   "id": "718435f1-129e-4d9e-8b3d-a56ba3bd856b",
   "metadata": {},
   "outputs": [
    {
     "data": {
      "text/plain": [
       "family_donor\n",
       "Other                4\n",
       "f_Lachnospiraceae    3\n",
       "f_Clostridiaceae     2\n",
       "dtype: int64"
      ]
     },
     "execution_count": 53,
     "metadata": {},
     "output_type": "execute_result"
    }
   ],
   "source": [
    "steadier_sample_cross[(steadier_sample_cross.compound==\"D-Xylose\")].value_counts(\"family_donor\")"
   ]
  },
  {
   "cell_type": "code",
   "execution_count": 54,
   "id": "9fb78612-9639-43ea-b009-40473d77d987",
   "metadata": {},
   "outputs": [
    {
     "data": {
      "text/plain": [
       "family_donor\n",
       "Other                0.053750\n",
       "f_Clostridiaceae     0.010168\n",
       "f_Lachnospiraceae    0.001763\n",
       "Name: mass_rate*frequency, dtype: float64"
      ]
     },
     "execution_count": 54,
     "metadata": {},
     "output_type": "execute_result"
    }
   ],
   "source": [
    "steadier_sample_cross[(steadier_sample_cross.compound==\"D-Xylose\")].groupby([\"family_donor\"]).sum()[\"mass_rate*frequency\"].sort_values(ascending=False)\n"
   ]
  },
  {
   "cell_type": "code",
   "execution_count": 55,
   "id": "a7de7800-7743-453b-b611-23321e8ce18e",
   "metadata": {},
   "outputs": [
    {
     "data": {
      "text/plain": [
       "community  family_receiver      \n",
       "CD_X       f_Lachnospiraceae        0.001059\n",
       "           f_Desulfovibrionaceae    0.000704\n",
       "CM_X       Other                    0.048918\n",
       "           f_Lactobacillaceae       0.002548\n",
       "           f_Lachnospiraceae        0.002284\n",
       "M_X        f_Clostridiaceae         0.009986\n",
       "           Other                    0.000181\n",
       "Name: mass_rate*frequency, dtype: float64"
      ]
     },
     "execution_count": 55,
     "metadata": {},
     "output_type": "execute_result"
    }
   ],
   "source": [
    "steadier_sample_cross[(steadier_sample_cross.compound==\"D-Xylose\")].groupby([\"community\",\"family_receiver\"]).sum().sort_values([\"community\",\"mass_rate*frequency\"],ascending=[True,False])[\"mass_rate*frequency\"]\n"
   ]
  },
  {
   "cell_type": "code",
   "execution_count": 56,
   "id": "fa2d692b-eb53-41c1-bcba-071bedcc06a2",
   "metadata": {},
   "outputs": [
    {
     "data": {
      "text/plain": [
       "community  family_donor     \n",
       "CD_X       f_Lachnospiraceae    0.001763\n",
       "CM_X       Other                0.053750\n",
       "M_X        f_Clostridiaceae     0.010168\n",
       "Name: mass_rate*frequency, dtype: float64"
      ]
     },
     "execution_count": 56,
     "metadata": {},
     "output_type": "execute_result"
    }
   ],
   "source": [
    "steadier_sample_cross[(steadier_sample_cross.compound==\"D-Xylose\")].groupby([\"community\",\"family_donor\"]).sum().sort_values([\"community\",\"mass_rate*frequency\"],ascending=[True,False])[\"mass_rate*frequency\"]\n"
   ]
  },
  {
   "cell_type": "markdown",
   "id": "56d4dabb-e165-49dd-adea-5ace6b4f3cd0",
   "metadata": {},
   "source": [
    "#### Acetaldehyde"
   ]
  },
  {
   "cell_type": "markdown",
   "id": "a62134c4-f3d3-4bf5-949f-f87bda20f3e1",
   "metadata": {},
   "source": [
    "**Receiver of Acetaldehyde**"
   ]
  },
  {
   "cell_type": "code",
   "execution_count": 57,
   "id": "44387d6d-2c4e-452f-9482-c25dacc64b31",
   "metadata": {},
   "outputs": [
    {
     "data": {
      "text/plain": [
       "family_receiver\n",
       "Other                    32\n",
       "f_Desulfovibrionaceae    25\n",
       "f_Sphaerochaetaceae      23\n",
       "f_Lachnospiraceae        10\n",
       "f_Treponemataceae        10\n",
       "f_CAG-74                  8\n",
       "f_Desulfobulbaceae        8\n",
       "f_Verruco-01              6\n",
       "f_Lactobacillaceae        4\n",
       "f_Clostridiaceae          2\n",
       "f_Dysgonomonadaceae       2\n",
       "dtype: int64"
      ]
     },
     "execution_count": 57,
     "metadata": {},
     "output_type": "execute_result"
    }
   ],
   "source": [
    "steadier_sample_cross[(steadier_sample_cross.compound==\"Acetaldehyde\")].value_counts(\"family_receiver\")"
   ]
  },
  {
   "cell_type": "code",
   "execution_count": 58,
   "id": "067f4c5d-e3d0-468e-b920-b5ba08381806",
   "metadata": {},
   "outputs": [
    {
     "data": {
      "text/plain": [
       "family_receiver\n",
       "Other                    0.009356\n",
       "f_Desulfovibrionaceae    0.006491\n",
       "f_Sphaerochaetaceae      0.005201\n",
       "f_Lactobacillaceae       0.003951\n",
       "f_Lachnospiraceae        0.003795\n",
       "f_Verruco-01             0.002947\n",
       "f_Treponemataceae        0.001093\n",
       "f_Desulfobulbaceae       0.000695\n",
       "f_Clostridiaceae         0.000348\n",
       "f_CAG-74                 0.000263\n",
       "f_Dysgonomonadaceae      0.000002\n",
       "Name: mass_rate*frequency, dtype: float64"
      ]
     },
     "execution_count": 58,
     "metadata": {},
     "output_type": "execute_result"
    }
   ],
   "source": [
    "steadier_sample_cross[(steadier_sample_cross.compound==\"Acetaldehyde\")].groupby([\"family_receiver\"]).sum()[\"mass_rate*frequency\"].sort_values(ascending=False)\n"
   ]
  },
  {
   "cell_type": "markdown",
   "id": "f3978310-4a87-4066-ad68-03b84aa07e41",
   "metadata": {},
   "source": [
    "**Donor of Acetaldehyde**"
   ]
  },
  {
   "cell_type": "code",
   "execution_count": 59,
   "id": "8bba03e8-5088-41ce-8869-a6988d6d8c9e",
   "metadata": {},
   "outputs": [
    {
     "data": {
      "text/plain": [
       "family_donor\n",
       "Other                    40\n",
       "f_Lachnospiraceae        21\n",
       "f_Verruco-01             13\n",
       "f_Desulfovibrionaceae    11\n",
       "f_Dysgonomonadaceae      10\n",
       "f_Treponemataceae         9\n",
       "f_Clostridiaceae          8\n",
       "f_Fibrobacteraceae        8\n",
       "f_Lentimicrobiaceae       6\n",
       "f_Sphaerochaetaceae       4\n",
       "dtype: int64"
      ]
     },
     "execution_count": 59,
     "metadata": {},
     "output_type": "execute_result"
    }
   ],
   "source": [
    "steadier_sample_cross[(steadier_sample_cross.compound==\"Acetaldehyde\")].value_counts(\"family_donor\")"
   ]
  },
  {
   "cell_type": "code",
   "execution_count": 60,
   "id": "574f03d7-b9b1-4f8b-8126-bffd86405a3a",
   "metadata": {},
   "outputs": [
    {
     "data": {
      "text/plain": [
       "family_donor\n",
       "Other                    0.011941\n",
       "f_Lachnospiraceae        0.006076\n",
       "f_Desulfovibrionaceae    0.004056\n",
       "f_Treponemataceae        0.003374\n",
       "f_Clostridiaceae         0.003094\n",
       "f_Verruco-01             0.002553\n",
       "f_Fibrobacteraceae       0.002356\n",
       "f_Dysgonomonadaceae      0.000406\n",
       "f_Lentimicrobiaceae      0.000223\n",
       "f_Sphaerochaetaceae      0.000065\n",
       "Name: mass_rate*frequency, dtype: float64"
      ]
     },
     "execution_count": 60,
     "metadata": {},
     "output_type": "execute_result"
    }
   ],
   "source": [
    "steadier_sample_cross[(steadier_sample_cross.compound==\"Acetaldehyde\")].groupby([\"family_donor\"]).sum()[\"mass_rate*frequency\"].sort_values(ascending=False)\n"
   ]
  },
  {
   "cell_type": "code",
   "execution_count": 61,
   "id": "33b03275-5f21-4fa4-8dea-7926916262a3",
   "metadata": {},
   "outputs": [
    {
     "data": {
      "text/plain": [
       "community  family_receiver      \n",
       "CD_A       f_Sphaerochaetaceae      0.000995\n",
       "           f_Desulfovibrionaceae    0.000768\n",
       "           f_Lachnospiraceae        0.000514\n",
       "           f_Treponemataceae        0.000288\n",
       "           Other                    0.000014\n",
       "CD_P       Other                    0.002212\n",
       "           f_Desulfovibrionaceae    0.001372\n",
       "           f_Sphaerochaetaceae      0.000887\n",
       "           f_Lachnospiraceae        0.000178\n",
       "           f_Desulfobulbaceae       0.000164\n",
       "           f_Dysgonomonadaceae      0.000002\n",
       "CD_X       f_Lachnospiraceae        0.001546\n",
       "           f_Desulfovibrionaceae    0.000571\n",
       "CM_A       f_Verruco-01             0.002947\n",
       "           f_Treponemataceae        0.000805\n",
       "           f_Sphaerochaetaceae      0.000570\n",
       "           f_CAG-74                 0.000156\n",
       "           Other                    0.000036\n",
       "CM_P       f_Sphaerochaetaceae      0.002748\n",
       "           f_Desulfovibrionaceae    0.001479\n",
       "           f_Desulfobulbaceae       0.000531\n",
       "           Other                    0.000246\n",
       "           f_CAG-74                 0.000107\n",
       "CM_X       Other                    0.005382\n",
       "           f_Lactobacillaceae       0.003951\n",
       "           f_Lachnospiraceae        0.001321\n",
       "M_P        f_Desulfovibrionaceae    0.002302\n",
       "           Other                    0.001283\n",
       "           f_Lachnospiraceae        0.000236\n",
       "M_X        f_Clostridiaceae         0.000348\n",
       "           Other                    0.000183\n",
       "Name: mass_rate*frequency, dtype: float64"
      ]
     },
     "execution_count": 61,
     "metadata": {},
     "output_type": "execute_result"
    }
   ],
   "source": [
    "steadier_sample_cross[(steadier_sample_cross.compound==\"Acetaldehyde\")].groupby([\"community\",\"family_receiver\"]).sum().sort_values([\"community\",\"mass_rate*frequency\"],ascending=[True,False])[\"mass_rate*frequency\"]\n"
   ]
  },
  {
   "cell_type": "code",
   "execution_count": 62,
   "id": "8651d8c7-03f4-4847-94d2-918ee09a2243",
   "metadata": {},
   "outputs": [
    {
     "data": {
      "text/plain": [
       "community  family_donor         \n",
       "CD_A       f_Fibrobacteraceae       2.355715e-03\n",
       "           f_Lachnospiraceae        2.229468e-04\n",
       "           f_Desulfovibrionaceae    8.351066e-07\n",
       "CD_P       f_Treponemataceae        3.373540e-03\n",
       "           Other                    8.050396e-04\n",
       "           f_Dysgonomonadaceae      3.848677e-04\n",
       "           f_Lentimicrobiaceae      2.234827e-04\n",
       "           f_Lachnospiraceae        2.783310e-05\n",
       "CD_X       f_Lachnospiraceae        2.116405e-03\n",
       "CM_A       Other                    2.943162e-03\n",
       "           f_Verruco-01             1.535072e-03\n",
       "           f_Dysgonomonadaceae      2.159235e-05\n",
       "           f_Sphaerochaetaceae      1.520082e-05\n",
       "CM_P       f_Desulfovibrionaceae    3.942029e-03\n",
       "           f_Verruco-01             1.017542e-03\n",
       "           Other                    1.018360e-04\n",
       "           f_Sphaerochaetaceae      4.957513e-05\n",
       "CM_X       Other                    8.091292e-03\n",
       "           f_Clostridiaceae         2.562788e-03\n",
       "M_P        f_Lachnospiraceae        3.708412e-03\n",
       "           f_Desulfovibrionaceae    1.133479e-04\n",
       "M_X        f_Clostridiaceae         5.308915e-04\n",
       "Name: mass_rate*frequency, dtype: float64"
      ]
     },
     "execution_count": 62,
     "metadata": {},
     "output_type": "execute_result"
    }
   ],
   "source": [
    "steadier_sample_cross[(steadier_sample_cross.compound==\"Acetaldehyde\")].groupby([\"community\",\"family_donor\"]).sum().sort_values([\"community\",\"mass_rate*frequency\"],ascending=[True,False])[\"mass_rate*frequency\"]\n"
   ]
  },
  {
   "cell_type": "markdown",
   "id": "ba3b445c-b03a-4734-b797-f286df7212ce",
   "metadata": {},
   "source": [
    "#### Glucose"
   ]
  },
  {
   "cell_type": "markdown",
   "id": "1dca1176-51e6-434b-9207-c06a992c838d",
   "metadata": {},
   "source": [
    "**Receiver of Glucose**"
   ]
  },
  {
   "cell_type": "code",
   "execution_count": 63,
   "id": "e418eba7-7c67-41fd-b519-00f071d9e87d",
   "metadata": {},
   "outputs": [
    {
     "data": {
      "text/plain": [
       "family_receiver\n",
       "f_Desulfovibrionaceae    10\n",
       "Other                     7\n",
       "f_Sphaerochaetaceae       7\n",
       "f_Verruco-01              4\n",
       "f_Lentimicrobiaceae       3\n",
       "f_Desulfobulbaceae        1\n",
       "dtype: int64"
      ]
     },
     "execution_count": 63,
     "metadata": {},
     "output_type": "execute_result"
    }
   ],
   "source": [
    "steadier_sample_cross[(steadier_sample_cross.compound==\"D-Glucose\")].value_counts(\"family_receiver\")"
   ]
  },
  {
   "cell_type": "code",
   "execution_count": 64,
   "id": "d049799b-245c-4549-b9c9-d16d7eb2e98d",
   "metadata": {},
   "outputs": [
    {
     "data": {
      "text/plain": [
       "family_receiver\n",
       "f_Desulfovibrionaceae    0.006913\n",
       "f_Sphaerochaetaceae      0.005009\n",
       "f_Verruco-01             0.001583\n",
       "Other                    0.001222\n",
       "f_Lentimicrobiaceae      0.001204\n",
       "f_Desulfobulbaceae       0.000130\n",
       "Name: mass_rate*frequency, dtype: float64"
      ]
     },
     "execution_count": 64,
     "metadata": {},
     "output_type": "execute_result"
    }
   ],
   "source": [
    "steadier_sample_cross[(steadier_sample_cross.compound==\"D-Glucose\")].groupby([\"family_receiver\"]).sum()[\"mass_rate*frequency\"].sort_values(ascending=False)\n"
   ]
  },
  {
   "cell_type": "markdown",
   "id": "8b536400-57f0-45fe-b7f6-1df2a594f737",
   "metadata": {},
   "source": [
    "**Donor of Glucose**"
   ]
  },
  {
   "cell_type": "code",
   "execution_count": 65,
   "id": "ff7bcfac-643a-4d26-a69f-addbb07e259d",
   "metadata": {},
   "outputs": [
    {
     "data": {
      "text/plain": [
       "family_donor\n",
       "f_Sphaerochaetaceae      13\n",
       "Other                     6\n",
       "f_Treponemataceae         5\n",
       "f_Verruco-01              4\n",
       "f_Lachnospiraceae         3\n",
       "f_Desulfovibrionaceae     1\n",
       "dtype: int64"
      ]
     },
     "execution_count": 65,
     "metadata": {},
     "output_type": "execute_result"
    }
   ],
   "source": [
    "steadier_sample_cross[(steadier_sample_cross.compound==\"D-Glucose\")].value_counts(\"family_donor\")"
   ]
  },
  {
   "cell_type": "code",
   "execution_count": 66,
   "id": "2f4da38b-2e20-45c5-8f28-11bd6be7f450",
   "metadata": {},
   "outputs": [
    {
     "data": {
      "text/plain": [
       "family_donor\n",
       "f_Sphaerochaetaceae      0.006929\n",
       "f_Treponemataceae        0.003833\n",
       "Other                    0.002237\n",
       "f_Verruco-01             0.002197\n",
       "f_Lachnospiraceae        0.000681\n",
       "f_Desulfovibrionaceae    0.000185\n",
       "Name: mass_rate*frequency, dtype: float64"
      ]
     },
     "execution_count": 66,
     "metadata": {},
     "output_type": "execute_result"
    }
   ],
   "source": [
    "steadier_sample_cross[(steadier_sample_cross.compound==\"D-Glucose\")].groupby([\"family_donor\"]).sum()[\"mass_rate*frequency\"].sort_values(ascending=False)\n"
   ]
  },
  {
   "cell_type": "code",
   "execution_count": 67,
   "id": "6255b269-ae8e-4bca-a07d-e6ef7ca0916a",
   "metadata": {},
   "outputs": [
    {
     "data": {
      "text/plain": [
       "community  family_receiver      \n",
       "CD_A       f_Sphaerochaetaceae      0.000541\n",
       "           f_Desulfovibrionaceae    0.000250\n",
       "CD_P       f_Desulfovibrionaceae    0.002872\n",
       "           f_Sphaerochaetaceae      0.001329\n",
       "           f_Lentimicrobiaceae      0.001204\n",
       "CM_A       f_Verruco-01             0.001583\n",
       "           f_Sphaerochaetaceae      0.001527\n",
       "CM_P       f_Desulfovibrionaceae    0.003791\n",
       "           f_Sphaerochaetaceae      0.001612\n",
       "           Other                    0.001183\n",
       "           f_Desulfobulbaceae       0.000130\n",
       "M_P        Other                    0.000039\n",
       "Name: mass_rate*frequency, dtype: float64"
      ]
     },
     "execution_count": 67,
     "metadata": {},
     "output_type": "execute_result"
    }
   ],
   "source": [
    "steadier_sample_cross[(steadier_sample_cross.compound==\"D-Glucose\")].groupby([\"community\",\"family_receiver\"]).sum().sort_values([\"community\",\"mass_rate*frequency\"],ascending=[True,False])[\"mass_rate*frequency\"]\n"
   ]
  },
  {
   "cell_type": "code",
   "execution_count": 68,
   "id": "a6c426ee-8f34-4d89-8773-4cd0d136aac3",
   "metadata": {},
   "outputs": [
    {
     "data": {
      "text/plain": [
       "community  family_donor         \n",
       "CD_A       f_Lachnospiraceae        0.000642\n",
       "           f_Sphaerochaetaceae      0.000103\n",
       "           f_Treponemataceae        0.000047\n",
       "CD_P       f_Treponemataceae        0.003787\n",
       "           Other                    0.000924\n",
       "           f_Sphaerochaetaceae      0.000695\n",
       "CM_A       f_Verruco-01             0.001396\n",
       "           Other                    0.001225\n",
       "           f_Sphaerochaetaceae      0.000304\n",
       "           f_Desulfovibrionaceae    0.000185\n",
       "CM_P       f_Sphaerochaetaceae      0.005827\n",
       "           f_Verruco-01             0.000801\n",
       "           Other                    0.000088\n",
       "M_P        f_Lachnospiraceae        0.000039\n",
       "Name: mass_rate*frequency, dtype: float64"
      ]
     },
     "execution_count": 68,
     "metadata": {},
     "output_type": "execute_result"
    }
   ],
   "source": [
    "steadier_sample_cross[(steadier_sample_cross.compound==\"D-Glucose\")].groupby([\"community\",\"family_donor\"]).sum().sort_values([\"community\",\"mass_rate*frequency\"],ascending=[True,False])[\"mass_rate*frequency\"]\n"
   ]
  },
  {
   "cell_type": "markdown",
   "id": "c4837d35-66fb-42d3-bfcc-45e0d63986e9",
   "metadata": {},
   "source": [
    "#### CO2"
   ]
  },
  {
   "cell_type": "markdown",
   "id": "3778a9b0-8708-49ce-b5fb-268968da58b3",
   "metadata": {},
   "source": [
    "**Receiver of CO2**"
   ]
  },
  {
   "cell_type": "code",
   "execution_count": 69,
   "id": "e70b1b21-6b86-4fdf-b47f-3e0bbc8eda21",
   "metadata": {},
   "outputs": [
    {
     "data": {
      "text/plain": [
       "family_receiver\n",
       "f_Desulfovibrionaceae    67\n",
       "Other                    37\n",
       "f_Lachnospiraceae        18\n",
       "f_Bacteroidaceae         13\n",
       "f_Desulfobulbaceae       13\n",
       "f_Sphaerochaetaceae      11\n",
       "f_Treponemataceae         8\n",
       "f_Lactobacillaceae        4\n",
       "dtype: int64"
      ]
     },
     "execution_count": 69,
     "metadata": {},
     "output_type": "execute_result"
    }
   ],
   "source": [
    "steadier_sample_cross[(steadier_sample_cross.compound==\"CO2 CO2\")].value_counts(\"family_receiver\")"
   ]
  },
  {
   "cell_type": "code",
   "execution_count": 70,
   "id": "0a20a9ef-0d9e-40ae-86ba-f30bc32365d4",
   "metadata": {},
   "outputs": [
    {
     "data": {
      "text/plain": [
       "family_receiver\n",
       "f_Lachnospiraceae        0.002639\n",
       "Other                    0.002105\n",
       "f_Desulfovibrionaceae    0.001892\n",
       "f_Bacteroidaceae         0.000901\n",
       "f_Treponemataceae        0.000363\n",
       "f_Lactobacillaceae       0.000047\n",
       "f_Sphaerochaetaceae      0.000037\n",
       "f_Desulfobulbaceae       0.000002\n",
       "Name: mass_rate*frequency, dtype: float64"
      ]
     },
     "execution_count": 70,
     "metadata": {},
     "output_type": "execute_result"
    }
   ],
   "source": [
    "steadier_sample_cross[(steadier_sample_cross.compound==\"CO2 CO2\")].groupby([\"family_receiver\"]).sum()[\"mass_rate*frequency\"].sort_values(ascending=False)\n"
   ]
  },
  {
   "cell_type": "markdown",
   "id": "eaafd3a4-8c70-48cc-95e9-93da4b3c327b",
   "metadata": {},
   "source": [
    "**Donor of CO2**"
   ]
  },
  {
   "cell_type": "code",
   "execution_count": 71,
   "id": "b1ea9abd-aaba-4671-998f-fc3bcfd93f4e",
   "metadata": {},
   "outputs": [
    {
     "data": {
      "text/plain": [
       "family_donor\n",
       "Other                    38\n",
       "f_Desulfovibrionaceae    26\n",
       "f_Sphaerochaetaceae      20\n",
       "f_Dysgonomonadaceae      14\n",
       "f_Lachnospiraceae        14\n",
       "f_Treponemataceae        11\n",
       "f_Bacteroidaceae         10\n",
       "f_Lentimicrobiaceae       8\n",
       "f_Verruco-01              8\n",
       "f_CAG-74                  6\n",
       "f_Fibrobacteraceae        6\n",
       "f_Desulfobulbaceae        5\n",
       "f_Lactobacillaceae        3\n",
       "f_Clostridiaceae          2\n",
       "dtype: int64"
      ]
     },
     "execution_count": 71,
     "metadata": {},
     "output_type": "execute_result"
    }
   ],
   "source": [
    "steadier_sample_cross[(steadier_sample_cross.compound==\"CO2 CO2\")].value_counts(\"family_donor\")"
   ]
  },
  {
   "cell_type": "code",
   "execution_count": 72,
   "id": "629e951d-7bc0-4b10-b66b-3447ae4b6d38",
   "metadata": {},
   "outputs": [
    {
     "data": {
      "text/plain": [
       "family_donor\n",
       "f_Lachnospiraceae        0.002695\n",
       "Other                    0.001130\n",
       "f_Desulfovibrionaceae    0.001127\n",
       "f_Sphaerochaetaceae      0.000946\n",
       "f_Treponemataceae        0.000924\n",
       "f_Fibrobacteraceae       0.000391\n",
       "f_Bacteroidaceae         0.000313\n",
       "f_Lentimicrobiaceae      0.000227\n",
       "f_Dysgonomonadaceae      0.000125\n",
       "f_Desulfobulbaceae       0.000045\n",
       "f_Verruco-01             0.000043\n",
       "f_CAG-74                 0.000013\n",
       "f_Lactobacillaceae       0.000005\n",
       "f_Clostridiaceae         0.000001\n",
       "Name: mass_rate*frequency, dtype: float64"
      ]
     },
     "execution_count": 72,
     "metadata": {},
     "output_type": "execute_result"
    }
   ],
   "source": [
    "steadier_sample_cross[(steadier_sample_cross.compound==\"CO2 CO2\")].groupby([\"family_donor\"]).sum()[\"mass_rate*frequency\"].sort_values(ascending=False)\n"
   ]
  },
  {
   "cell_type": "code",
   "execution_count": 73,
   "id": "ebfcca29-ae6f-42df-9b16-4a76882e7688",
   "metadata": {},
   "outputs": [
    {
     "data": {
      "text/plain": [
       "community  family_receiver      \n",
       "CD_A       Other                    0.000491\n",
       "           f_Treponemataceae        0.000363\n",
       "           f_Lachnospiraceae        0.000060\n",
       "           f_Desulfovibrionaceae    0.000010\n",
       "CD_P       Other                    0.001575\n",
       "           f_Bacteroidaceae         0.000901\n",
       "           f_Desulfovibrionaceae    0.000211\n",
       "CD_X       f_Lachnospiraceae        0.001614\n",
       "CM_A       f_Desulfovibrionaceae    0.000069\n",
       "           f_Sphaerochaetaceae      0.000037\n",
       "CM_P       f_Desulfovibrionaceae    0.000474\n",
       "           Other                    0.000039\n",
       "           f_Desulfobulbaceae       0.000002\n",
       "CM_X       f_Lachnospiraceae        0.000157\n",
       "           f_Lactobacillaceae       0.000047\n",
       "M_P        f_Desulfovibrionaceae    0.001128\n",
       "           f_Lachnospiraceae        0.000808\n",
       "Name: mass_rate*frequency, dtype: float64"
      ]
     },
     "execution_count": 73,
     "metadata": {},
     "output_type": "execute_result"
    }
   ],
   "source": [
    "steadier_sample_cross[(steadier_sample_cross.compound==\"CO2 CO2\")].groupby([\"community\",\"family_receiver\"]).sum().sort_values([\"community\",\"mass_rate*frequency\"],ascending=[True,False])[\"mass_rate*frequency\"]\n"
   ]
  },
  {
   "cell_type": "code",
   "execution_count": 74,
   "id": "e4a51392-d60b-4f24-89c2-6bf74c9d1b08",
   "metadata": {},
   "outputs": [
    {
     "data": {
      "text/plain": [
       "community  family_donor         \n",
       "CD_A       f_Fibrobacteraceae       0.000374\n",
       "           f_Desulfovibrionaceae    0.000166\n",
       "           f_Bacteroidaceae         0.000143\n",
       "           f_Sphaerochaetaceae      0.000139\n",
       "           f_Lachnospiraceae        0.000088\n",
       "           f_Treponemataceae        0.000013\n",
       "CD_P       f_Treponemataceae        0.000908\n",
       "           f_Sphaerochaetaceae      0.000644\n",
       "           f_Desulfovibrionaceae    0.000290\n",
       "           Other                    0.000286\n",
       "           f_Lentimicrobiaceae      0.000204\n",
       "           f_Lachnospiraceae        0.000155\n",
       "           f_Dysgonomonadaceae      0.000113\n",
       "           f_Bacteroidaceae         0.000045\n",
       "           f_Desulfobulbaceae       0.000044\n",
       "CD_X       f_Lachnospiraceae        0.001585\n",
       "           f_Desulfovibrionaceae    0.000029\n",
       "CM_A       f_Verruco-01             0.000038\n",
       "           Other                    0.000031\n",
       "           f_Fibrobacteraceae       0.000017\n",
       "           f_Desulfovibrionaceae    0.000006\n",
       "           f_Sphaerochaetaceae      0.000004\n",
       "           f_Treponemataceae        0.000003\n",
       "           f_Bacteroidaceae         0.000003\n",
       "           f_Dysgonomonadaceae      0.000003\n",
       "           f_CAG-74                 0.000001\n",
       "CM_P       f_Sphaerochaetaceae      0.000159\n",
       "           f_Desulfovibrionaceae    0.000138\n",
       "           f_Bacteroidaceae         0.000122\n",
       "           Other                    0.000045\n",
       "           f_Lentimicrobiaceae      0.000024\n",
       "           f_CAG-74                 0.000012\n",
       "           f_Dysgonomonadaceae      0.000009\n",
       "           f_Verruco-01             0.000005\n",
       "           f_Desulfobulbaceae       0.000001\n",
       "CM_X       Other                    0.000198\n",
       "           f_Lactobacillaceae       0.000005\n",
       "           f_Clostridiaceae         0.000001\n",
       "M_P        f_Lachnospiraceae        0.000867\n",
       "           Other                    0.000570\n",
       "           f_Desulfovibrionaceae    0.000498\n",
       "Name: mass_rate*frequency, dtype: float64"
      ]
     },
     "execution_count": 74,
     "metadata": {},
     "output_type": "execute_result"
    }
   ],
   "source": [
    "steadier_sample_cross[(steadier_sample_cross.compound==\"CO2 CO2\")].groupby([\"community\",\"family_donor\"]).sum().sort_values([\"community\",\"mass_rate*frequency\"],ascending=[True,False])[\"mass_rate*frequency\"]\n"
   ]
  },
  {
   "cell_type": "markdown",
   "id": "c868fad3-c0ae-4165-aa6e-0e1d8be4f352",
   "metadata": {},
   "source": [
    "#### H2S"
   ]
  },
  {
   "cell_type": "markdown",
   "id": "a4d962d7-4f80-4450-bba7-fd33c281f7f2",
   "metadata": {},
   "source": [
    "**Receiver of H2S**"
   ]
  },
  {
   "cell_type": "code",
   "execution_count": 75,
   "id": "82573504-7a0a-4f40-bd10-a9769fb86b09",
   "metadata": {},
   "outputs": [
    {
     "data": {
      "text/plain": [
       "family_receiver\n",
       "Other                    48\n",
       "f_Lachnospiraceae        24\n",
       "f_Fibrobacteraceae       20\n",
       "f_Desulfobulbaceae       14\n",
       "f_Desulfovibrionaceae    14\n",
       "f_Treponemataceae        14\n",
       "f_Verruco-01             11\n",
       "f_Lactobacillaceae        6\n",
       "f_Clostridiaceae          3\n",
       "dtype: int64"
      ]
     },
     "execution_count": 75,
     "metadata": {},
     "output_type": "execute_result"
    }
   ],
   "source": [
    "steadier_sample_cross[(steadier_sample_cross.compound==\"Hydrogen sulfide\")].value_counts(\"family_receiver\")"
   ]
  },
  {
   "cell_type": "code",
   "execution_count": 76,
   "id": "59b1101e-7d70-4e4f-a71d-626f87898c37",
   "metadata": {},
   "outputs": [
    {
     "data": {
      "text/plain": [
       "family_receiver\n",
       "f_Fibrobacteraceae       4.533399e-05\n",
       "f_Clostridiaceae         4.377482e-05\n",
       "f_Lachnospiraceae        1.560263e-05\n",
       "Other                    1.264441e-05\n",
       "f_Lactobacillaceae       4.144504e-06\n",
       "f_Verruco-01             2.742478e-06\n",
       "f_Treponemataceae        1.266628e-06\n",
       "f_Desulfovibrionaceae    6.271221e-07\n",
       "f_Desulfobulbaceae       4.730234e-07\n",
       "Name: mass_rate*frequency, dtype: float64"
      ]
     },
     "execution_count": 76,
     "metadata": {},
     "output_type": "execute_result"
    }
   ],
   "source": [
    "steadier_sample_cross[(steadier_sample_cross.compound==\"Hydrogen sulfide\")].groupby([\"family_receiver\"]).sum()[\"mass_rate*frequency\"].sort_values(ascending=False)\n"
   ]
  },
  {
   "cell_type": "markdown",
   "id": "520cd7d0-3c7f-4053-bf0f-ddfd76119ebd",
   "metadata": {},
   "source": [
    "**Donor of H2S**"
   ]
  },
  {
   "cell_type": "code",
   "execution_count": 77,
   "id": "89072d99-52ef-4e7b-a612-e2a3baea5ae0",
   "metadata": {},
   "outputs": [
    {
     "data": {
      "text/plain": [
       "family_donor\n",
       "f_Desulfovibrionaceae    37\n",
       "Other                    26\n",
       "f_Sphaerochaetaceae      21\n",
       "f_Bacteroidaceae         15\n",
       "f_Lachnospiraceae        14\n",
       "f_Dysgonomonadaceae       8\n",
       "f_Treponemataceae         8\n",
       "f_Verruco-01              8\n",
       "f_Lentimicrobiaceae       6\n",
       "f_CAG-74                  4\n",
       "f_Clostridiaceae          4\n",
       "f_Desulfobulbaceae        3\n",
       "dtype: int64"
      ]
     },
     "execution_count": 77,
     "metadata": {},
     "output_type": "execute_result"
    }
   ],
   "source": [
    "steadier_sample_cross[(steadier_sample_cross.compound==\"Hydrogen sulfide\")].value_counts(\"family_donor\")"
   ]
  },
  {
   "cell_type": "code",
   "execution_count": 78,
   "id": "de8e803c-90ea-4fd9-824a-d9c5e585033a",
   "metadata": {},
   "outputs": [
    {
     "data": {
      "text/plain": [
       "family_donor\n",
       "f_Clostridiaceae         3.685406e-05\n",
       "f_Lachnospiraceae        2.115000e-05\n",
       "f_Desulfovibrionaceae    1.658480e-05\n",
       "Other                    1.535789e-05\n",
       "f_Sphaerochaetaceae      1.220223e-05\n",
       "f_Bacteroidaceae         1.074676e-05\n",
       "f_Verruco-01             1.004403e-05\n",
       "f_Treponemataceae        1.168954e-06\n",
       "f_Dysgonomonadaceae      1.096081e-06\n",
       "f_CAG-74                 8.487231e-07\n",
       "f_Lentimicrobiaceae      4.724953e-07\n",
       "f_Desulfobulbaceae       8.356908e-08\n",
       "Name: mass_rate*frequency, dtype: float64"
      ]
     },
     "execution_count": 78,
     "metadata": {},
     "output_type": "execute_result"
    }
   ],
   "source": [
    "steadier_sample_cross[(steadier_sample_cross.compound==\"Hydrogen sulfide\")].groupby([\"family_donor\"]).sum()[\"mass_rate*frequency\"].sort_values(ascending=False)\n"
   ]
  },
  {
   "cell_type": "code",
   "execution_count": 79,
   "id": "034b1ec2-b299-49bb-879d-9ded3f0eb36d",
   "metadata": {},
   "outputs": [
    {
     "data": {
      "text/plain": [
       "community  family_receiver      \n",
       "CD_A       f_Fibrobacteraceae       1.988441e-05\n",
       "           f_Lachnospiraceae        1.317535e-06\n",
       "           Other                    1.039135e-06\n",
       "           f_Treponemataceae        6.453562e-07\n",
       "           f_Desulfovibrionaceae    2.194237e-07\n",
       "CD_P       Other                    1.836857e-06\n",
       "           f_Lachnospiraceae        8.414832e-07\n",
       "           f_Desulfobulbaceae       4.738554e-08\n",
       "CD_X       f_Lachnospiraceae        1.045974e-05\n",
       "           f_Desulfovibrionaceae    1.969027e-07\n",
       "CM_A       f_Fibrobacteraceae       2.544958e-05\n",
       "           Other                    7.579815e-07\n",
       "           f_Treponemataceae        6.212718e-07\n",
       "           f_Desulfovibrionaceae    2.107956e-07\n",
       "CM_P       f_Verruco-01             2.742478e-06\n",
       "           Other                    9.474161e-07\n",
       "           f_Desulfobulbaceae       4.256378e-07\n",
       "CM_X       Other                    8.063021e-06\n",
       "           f_Clostridiaceae         7.337907e-06\n",
       "           f_Lactobacillaceae       4.144504e-06\n",
       "M_P        f_Lachnospiraceae        2.983865e-06\n",
       "M_X        f_Clostridiaceae         3.643691e-05\n",
       "Name: mass_rate*frequency, dtype: float64"
      ]
     },
     "execution_count": 79,
     "metadata": {},
     "output_type": "execute_result"
    }
   ],
   "source": [
    "steadier_sample_cross[(steadier_sample_cross.compound==\"Hydrogen sulfide\")].groupby([\"community\",\"family_receiver\"]).sum().sort_values([\"community\",\"mass_rate*frequency\"],ascending=[True,False])[\"mass_rate*frequency\"]\n"
   ]
  },
  {
   "cell_type": "code",
   "execution_count": 80,
   "id": "5f0aa8e5-5b20-4441-b48c-4bf6b38f38b4",
   "metadata": {},
   "outputs": [
    {
     "data": {
      "text/plain": [
       "community  family_donor         \n",
       "CD_A       f_Bacteroidaceae         8.553483e-06\n",
       "           f_Sphaerochaetaceae      6.338141e-06\n",
       "           f_Desulfovibrionaceae    6.063553e-06\n",
       "           f_Lachnospiraceae        1.311470e-06\n",
       "           Other                    4.435276e-07\n",
       "           f_Treponemataceae        3.956885e-07\n",
       "CD_P       f_Desulfovibrionaceae    5.644191e-07\n",
       "           f_Bacteroidaceae         5.579267e-07\n",
       "           f_Treponemataceae        5.343662e-07\n",
       "           f_Lentimicrobiaceae      4.116396e-07\n",
       "           f_Sphaerochaetaceae      3.040332e-07\n",
       "           Other                    1.798150e-07\n",
       "           f_Dysgonomonadaceae      1.051439e-07\n",
       "           f_Desulfobulbaceae       3.682744e-08\n",
       "           f_Lachnospiraceae        3.155476e-08\n",
       "CD_X       f_Lachnospiraceae        9.478362e-06\n",
       "           f_Desulfovibrionaceae    1.178285e-06\n",
       "CM_A       f_Verruco-01             1.004403e-05\n",
       "           Other                    5.285856e-06\n",
       "           f_Sphaerochaetaceae      4.711519e-06\n",
       "           f_Desulfovibrionaceae    3.633768e-06\n",
       "           f_Bacteroidaceae         1.323719e-06\n",
       "           f_Dysgonomonadaceae      9.909375e-07\n",
       "           f_CAG-74                 8.108958e-07\n",
       "           f_Treponemataceae        2.388989e-07\n",
       "CM_P       f_Desulfovibrionaceae    2.671233e-06\n",
       "           f_Sphaerochaetaceae      8.485356e-07\n",
       "           f_Bacteroidaceae         3.116261e-07\n",
       "           Other                    1.387124e-07\n",
       "           f_Lentimicrobiaceae      6.085570e-08\n",
       "           f_Desulfobulbaceae       4.674163e-08\n",
       "           f_CAG-74                 3.782733e-08\n",
       "CM_X       f_Lachnospiraceae        1.008516e-05\n",
       "           Other                    9.043119e-06\n",
       "           f_Clostridiaceae         4.171557e-07\n",
       "M_P        f_Desulfovibrionaceae    2.473542e-06\n",
       "           Other                    2.668641e-07\n",
       "           f_Lachnospiraceae        2.434590e-07\n",
       "M_X        f_Clostridiaceae         3.643691e-05\n",
       "Name: mass_rate*frequency, dtype: float64"
      ]
     },
     "execution_count": 80,
     "metadata": {},
     "output_type": "execute_result"
    }
   ],
   "source": [
    "steadier_sample_cross[(steadier_sample_cross.compound==\"Hydrogen sulfide\")].groupby([\"community\",\"family_donor\"]).sum().sort_values([\"community\",\"mass_rate*frequency\"],ascending=[True,False])[\"mass_rate*frequency\"]\n"
   ]
  },
  {
   "cell_type": "markdown",
   "id": "775e2214-83a2-485a-89d8-628e38aa0401",
   "metadata": {
    "tags": []
   },
   "source": [
    "#### Uracil"
   ]
  },
  {
   "cell_type": "markdown",
   "id": "e161ab82-0227-43c4-9968-dfd6522cb000",
   "metadata": {},
   "source": [
    "**Receiver of Uracil**"
   ]
  },
  {
   "cell_type": "code",
   "execution_count": 81,
   "id": "64c9e48d-0f55-4b62-9e86-d0bfedef58df",
   "metadata": {},
   "outputs": [
    {
     "data": {
      "text/plain": [
       "family_receiver\n",
       "Other                    23\n",
       "f_Desulfovibrionaceae    16\n",
       "f_Lachnospiraceae         9\n",
       "f_Bacteroidaceae          7\n",
       "f_Dysgonomonadaceae       6\n",
       "f_Treponemataceae         6\n",
       "f_Sphaerochaetaceae       5\n",
       "f_Fibrobacteraceae        4\n",
       "f_Desulfobulbaceae        3\n",
       "f_Lentimicrobiaceae       3\n",
       "f_CAG-74                  2\n",
       "f_Clostridiaceae          2\n",
       "f_Lactobacillaceae        2\n",
       "dtype: int64"
      ]
     },
     "execution_count": 81,
     "metadata": {},
     "output_type": "execute_result"
    }
   ],
   "source": [
    "steadier_sample_cross[(steadier_sample_cross.compound==\"Uracil\")].value_counts(\"family_receiver\")"
   ]
  },
  {
   "cell_type": "code",
   "execution_count": 82,
   "id": "28ef524d-fc84-4c65-9eb7-88c9019175ed",
   "metadata": {},
   "outputs": [
    {
     "data": {
      "text/plain": [
       "family_receiver\n",
       "Other                    0.000363\n",
       "f_Fibrobacteraceae       0.000300\n",
       "f_Lachnospiraceae        0.000298\n",
       "f_Desulfovibrionaceae    0.000132\n",
       "f_Bacteroidaceae         0.000085\n",
       "f_Clostridiaceae         0.000080\n",
       "f_Sphaerochaetaceae      0.000067\n",
       "f_Treponemataceae        0.000033\n",
       "f_Dysgonomonadaceae      0.000023\n",
       "f_Desulfobulbaceae       0.000019\n",
       "f_Lentimicrobiaceae      0.000016\n",
       "f_Lactobacillaceae       0.000012\n",
       "f_CAG-74                 0.000010\n",
       "Name: mass_rate*frequency, dtype: float64"
      ]
     },
     "execution_count": 82,
     "metadata": {},
     "output_type": "execute_result"
    }
   ],
   "source": [
    "steadier_sample_cross[(steadier_sample_cross.compound==\"Uracil\")].groupby([\"family_receiver\"]).sum()[\"mass_rate*frequency\"].sort_values(ascending=False)\n"
   ]
  },
  {
   "cell_type": "markdown",
   "id": "8da38f78-152b-41b1-944a-2a7b534e77d2",
   "metadata": {},
   "source": [
    "**Donor of Uracil**"
   ]
  },
  {
   "cell_type": "code",
   "execution_count": 83,
   "id": "612c2ba1-bd3f-4361-bf4e-b35bcda0da6d",
   "metadata": {},
   "outputs": [
    {
     "data": {
      "text/plain": [
       "family_donor\n",
       "f_Desulfovibrionaceae    27\n",
       "Other                    20\n",
       "f_Sphaerochaetaceae      18\n",
       "f_Treponemataceae        14\n",
       "f_Lachnospiraceae         7\n",
       "f_Clostridiaceae          2\n",
       "dtype: int64"
      ]
     },
     "execution_count": 83,
     "metadata": {},
     "output_type": "execute_result"
    }
   ],
   "source": [
    "steadier_sample_cross[(steadier_sample_cross.compound==\"Uracil\")].value_counts(\"family_donor\")"
   ]
  },
  {
   "cell_type": "code",
   "execution_count": 84,
   "id": "b56ee0f9-39b3-4928-a251-c371d4d60dcb",
   "metadata": {},
   "outputs": [
    {
     "data": {
      "text/plain": [
       "family_donor\n",
       "f_Desulfovibrionaceae    0.000445\n",
       "f_Sphaerochaetaceae      0.000435\n",
       "f_Lachnospiraceae        0.000261\n",
       "f_Treponemataceae        0.000191\n",
       "f_Clostridiaceae         0.000078\n",
       "Other                    0.000028\n",
       "Name: mass_rate*frequency, dtype: float64"
      ]
     },
     "execution_count": 84,
     "metadata": {},
     "output_type": "execute_result"
    }
   ],
   "source": [
    "steadier_sample_cross[(steadier_sample_cross.compound==\"Uracil\")].groupby([\"family_donor\"]).sum()[\"mass_rate*frequency\"].sort_values(ascending=False)\n"
   ]
  },
  {
   "cell_type": "code",
   "execution_count": 85,
   "id": "870d70f6-89d4-4f33-a64b-3e49a00fc756",
   "metadata": {},
   "outputs": [
    {
     "data": {
      "text/plain": [
       "community  family_receiver      \n",
       "CD_A       f_Fibrobacteraceae       0.000135\n",
       "           f_Lachnospiraceae        0.000036\n",
       "           f_Treponemataceae        0.000022\n",
       "           f_Bacteroidaceae         0.000022\n",
       "           f_Desulfovibrionaceae    0.000019\n",
       "           Other                    0.000015\n",
       "CD_P       Other                    0.000068\n",
       "           f_Desulfovibrionaceae    0.000048\n",
       "           f_Bacteroidaceae         0.000030\n",
       "           f_Sphaerochaetaceae      0.000020\n",
       "           f_Dysgonomonadaceae      0.000017\n",
       "           f_Lachnospiraceae        0.000014\n",
       "           f_Lentimicrobiaceae      0.000012\n",
       "           f_Desulfobulbaceae       0.000006\n",
       "CD_X       f_Lachnospiraceae        0.000081\n",
       "           f_Desulfovibrionaceae    0.000012\n",
       "CM_A       f_Fibrobacteraceae       0.000165\n",
       "           Other                    0.000035\n",
       "           f_Desulfovibrionaceae    0.000022\n",
       "           f_Treponemataceae        0.000011\n",
       "           f_Bacteroidaceae         0.000007\n",
       "           f_CAG-74                 0.000004\n",
       "           f_Dysgonomonadaceae      0.000002\n",
       "CM_P       f_Sphaerochaetaceae      0.000046\n",
       "           f_Desulfovibrionaceae    0.000032\n",
       "           Other                    0.000027\n",
       "           f_Bacteroidaceae         0.000026\n",
       "           f_Desulfobulbaceae       0.000013\n",
       "           f_CAG-74                 0.000007\n",
       "           f_Lentimicrobiaceae      0.000005\n",
       "           f_Dysgonomonadaceae      0.000004\n",
       "CM_X       Other                    0.000148\n",
       "           f_Lactobacillaceae       0.000012\n",
       "           f_Clostridiaceae         0.000008\n",
       "M_P        f_Lachnospiraceae        0.000167\n",
       "           Other                    0.000064\n",
       "M_X        f_Clostridiaceae         0.000073\n",
       "           Other                    0.000005\n",
       "Name: mass_rate*frequency, dtype: float64"
      ]
     },
     "execution_count": 85,
     "metadata": {},
     "output_type": "execute_result"
    }
   ],
   "source": [
    "steadier_sample_cross[(steadier_sample_cross.compound==\"Uracil\")].groupby([\"community\",\"family_receiver\"]).sum().sort_values([\"community\",\"mass_rate*frequency\"],ascending=[True,False])[\"mass_rate*frequency\"]\n"
   ]
  },
  {
   "cell_type": "code",
   "execution_count": 86,
   "id": "8232d643-5c21-45b3-8150-28a480df6d50",
   "metadata": {},
   "outputs": [
    {
     "data": {
      "text/plain": [
       "community  family_donor         \n",
       "CD_A       f_Sphaerochaetaceae      0.000194\n",
       "           f_Desulfovibrionaceae    0.000054\n",
       "CD_P       f_Treponemataceae        0.000191\n",
       "           Other                    0.000023\n",
       "CD_X       f_Lachnospiraceae        0.000093\n",
       "CM_A       f_Sphaerochaetaceae      0.000240\n",
       "           Other                    0.000005\n",
       "CM_P       f_Desulfovibrionaceae    0.000160\n",
       "CM_X       f_Lachnospiraceae        0.000168\n",
       "M_P        f_Desulfovibrionaceae    0.000231\n",
       "M_X        f_Clostridiaceae         0.000078\n",
       "Name: mass_rate*frequency, dtype: float64"
      ]
     },
     "execution_count": 86,
     "metadata": {},
     "output_type": "execute_result"
    }
   ],
   "source": [
    "steadier_sample_cross[(steadier_sample_cross.compound==\"Uracil\")].groupby([\"community\",\"family_donor\"]).sum().sort_values([\"community\",\"mass_rate*frequency\"],ascending=[True,False])[\"mass_rate*frequency\"]\n"
   ]
  },
  {
   "cell_type": "markdown",
   "id": "da3fa621-775d-4621-81ad-036c95ecd887",
   "metadata": {},
   "source": [
    "#### Guanine"
   ]
  },
  {
   "cell_type": "markdown",
   "id": "14fc9137-16ba-42ff-a5dd-3c453c5a3e64",
   "metadata": {},
   "source": [
    "**Receiver of Guanine**"
   ]
  },
  {
   "cell_type": "code",
   "execution_count": 87,
   "id": "c788b0ca-405a-4b93-be81-de408df10439",
   "metadata": {},
   "outputs": [
    {
     "data": {
      "text/plain": [
       "family_receiver\n",
       "Other                    25\n",
       "f_Desulfovibrionaceae    15\n",
       "f_Lachnospiraceae         7\n",
       "f_Sphaerochaetaceae       7\n",
       "f_Dysgonomonadaceae       6\n",
       "f_Treponemataceae         5\n",
       "f_Bacteroidaceae          4\n",
       "f_Lentimicrobiaceae       3\n",
       "f_Verruco-01              3\n",
       "f_CAG-74                  2\n",
       "f_Clostridiaceae          2\n",
       "f_Fibrobacteraceae        2\n",
       "f_Lactobacillaceae        2\n",
       "f_Desulfobulbaceae        1\n",
       "dtype: int64"
      ]
     },
     "execution_count": 87,
     "metadata": {},
     "output_type": "execute_result"
    }
   ],
   "source": [
    "steadier_sample_cross[(steadier_sample_cross.compound==\"Guanine\")].value_counts(\"family_receiver\")"
   ]
  },
  {
   "cell_type": "code",
   "execution_count": 88,
   "id": "fdabdb22-996c-4087-a8cf-edf3d23176e2",
   "metadata": {},
   "outputs": [
    {
     "data": {
      "text/plain": [
       "family_receiver\n",
       "Other                    0.000659\n",
       "f_Desulfovibrionaceae    0.000238\n",
       "f_Lachnospiraceae        0.000122\n",
       "f_Sphaerochaetaceae      0.000088\n",
       "f_Clostridiaceae         0.000086\n",
       "f_Bacteroidaceae         0.000062\n",
       "f_Verruco-01             0.000035\n",
       "f_Fibrobacteraceae       0.000034\n",
       "f_Treponemataceae        0.000032\n",
       "f_Lactobacillaceae       0.000027\n",
       "f_Dysgonomonadaceae      0.000026\n",
       "f_CAG-74                 0.000019\n",
       "f_Lentimicrobiaceae      0.000016\n",
       "f_Desulfobulbaceae       0.000013\n",
       "Name: mass_rate*frequency, dtype: float64"
      ]
     },
     "execution_count": 88,
     "metadata": {},
     "output_type": "execute_result"
    }
   ],
   "source": [
    "steadier_sample_cross[(steadier_sample_cross.compound==\"Guanine\")].groupby([\"family_receiver\"]).sum()[\"mass_rate*frequency\"].sort_values(ascending=False)\n"
   ]
  },
  {
   "cell_type": "markdown",
   "id": "08402fbf-c6af-4836-b317-56e1464a9bb9",
   "metadata": {},
   "source": [
    "**Donor of Guanine**"
   ]
  },
  {
   "cell_type": "code",
   "execution_count": 89,
   "id": "39061790-6efe-47d0-b61b-506f4bc45ce7",
   "metadata": {},
   "outputs": [
    {
     "data": {
      "text/plain": [
       "family_donor\n",
       "f_Lachnospiraceae        24\n",
       "f_Desulfovibrionaceae    23\n",
       "f_Bacteroidaceae         12\n",
       "f_Treponemataceae        12\n",
       "f_Sphaerochaetaceae      11\n",
       "f_Clostridiaceae          2\n",
       "dtype: int64"
      ]
     },
     "execution_count": 89,
     "metadata": {},
     "output_type": "execute_result"
    }
   ],
   "source": [
    "steadier_sample_cross[(steadier_sample_cross.compound==\"Guanine\")].value_counts(\"family_donor\")"
   ]
  },
  {
   "cell_type": "code",
   "execution_count": 90,
   "id": "a0a6ef22-54ee-490f-908a-976831bd7b89",
   "metadata": {},
   "outputs": [
    {
     "data": {
      "text/plain": [
       "family_donor\n",
       "f_Lachnospiraceae        0.000692\n",
       "f_Desulfovibrionaceae    0.000314\n",
       "f_Treponemataceae        0.000224\n",
       "f_Sphaerochaetaceae      0.000110\n",
       "f_Clostridiaceae         0.000078\n",
       "f_Bacteroidaceae         0.000040\n",
       "Name: mass_rate*frequency, dtype: float64"
      ]
     },
     "execution_count": 90,
     "metadata": {},
     "output_type": "execute_result"
    }
   ],
   "source": [
    "steadier_sample_cross[(steadier_sample_cross.compound==\"Guanine\")].groupby([\"family_donor\"]).sum()[\"mass_rate*frequency\"].sort_values(ascending=False)\n"
   ]
  },
  {
   "cell_type": "code",
   "execution_count": 91,
   "id": "aaa8093e-0575-4e21-b5a6-c3bae930b0c5",
   "metadata": {},
   "outputs": [
    {
     "data": {
      "text/plain": [
       "community  family_receiver      \n",
       "CD_A       f_Fibrobacteraceae       0.000034\n",
       "           f_Bacteroidaceae         0.000031\n",
       "           f_Sphaerochaetaceae      0.000025\n",
       "           f_Treponemataceae        0.000022\n",
       "           f_Lachnospiraceae        0.000021\n",
       "           Other                    0.000016\n",
       "           f_Desulfovibrionaceae    0.000005\n",
       "CD_P       Other                    0.000158\n",
       "           f_Desulfovibrionaceae    0.000053\n",
       "           f_Dysgonomonadaceae      0.000018\n",
       "           f_Sphaerochaetaceae      0.000016\n",
       "           f_Lentimicrobiaceae      0.000011\n",
       "           f_Lachnospiraceae        0.000008\n",
       "CD_X       f_Lachnospiraceae        0.000080\n",
       "           f_Desulfovibrionaceae    0.000012\n",
       "CM_A       Other                    0.000045\n",
       "           f_Verruco-01             0.000020\n",
       "           f_Desulfovibrionaceae    0.000019\n",
       "           f_Treponemataceae        0.000010\n",
       "           f_CAG-74                 0.000007\n",
       "           f_Bacteroidaceae         0.000005\n",
       "           f_Dysgonomonadaceae      0.000004\n",
       "CM_P       f_Sphaerochaetaceae      0.000048\n",
       "           f_Desulfovibrionaceae    0.000042\n",
       "           Other                    0.000041\n",
       "           f_Bacteroidaceae         0.000026\n",
       "           f_Verruco-01             0.000015\n",
       "           f_Desulfobulbaceae       0.000013\n",
       "           f_CAG-74                 0.000012\n",
       "           f_Lentimicrobiaceae      0.000005\n",
       "           f_Dysgonomonadaceae      0.000004\n",
       "CM_X       Other                    0.000292\n",
       "           f_Lactobacillaceae       0.000027\n",
       "           f_Clostridiaceae         0.000014\n",
       "M_P        f_Desulfovibrionaceae    0.000108\n",
       "           Other                    0.000099\n",
       "           f_Lachnospiraceae        0.000013\n",
       "M_X        f_Clostridiaceae         0.000072\n",
       "           Other                    0.000005\n",
       "Name: mass_rate*frequency, dtype: float64"
      ]
     },
     "execution_count": 91,
     "metadata": {},
     "output_type": "execute_result"
    }
   ],
   "source": [
    "steadier_sample_cross[(steadier_sample_cross.compound==\"Guanine\")].groupby([\"community\",\"family_receiver\"]).sum().sort_values([\"community\",\"mass_rate*frequency\"],ascending=[True,False])[\"mass_rate*frequency\"]\n"
   ]
  },
  {
   "cell_type": "code",
   "execution_count": 92,
   "id": "848d7adc-86ab-4157-931c-59ac836e8d78",
   "metadata": {},
   "outputs": [
    {
     "data": {
      "text/plain": [
       "community  family_donor         \n",
       "CD_A       f_Desulfovibrionaceae    1.076909e-04\n",
       "           f_Lachnospiraceae        4.626516e-05\n",
       "CD_P       f_Treponemataceae        2.239884e-04\n",
       "           f_Bacteroidaceae         3.971050e-05\n",
       "           f_Lachnospiraceae        4.633073e-07\n",
       "CD_X       f_Lachnospiraceae        9.215064e-05\n",
       "CM_A       f_Sphaerochaetaceae      1.098016e-04\n",
       "CM_P       f_Desulfovibrionaceae    2.061102e-04\n",
       "CM_X       f_Lachnospiraceae        3.325918e-04\n",
       "M_P        f_Lachnospiraceae        2.206873e-04\n",
       "M_X        f_Clostridiaceae         7.753084e-05\n",
       "Name: mass_rate*frequency, dtype: float64"
      ]
     },
     "execution_count": 92,
     "metadata": {},
     "output_type": "execute_result"
    }
   ],
   "source": [
    "steadier_sample_cross[(steadier_sample_cross.compound==\"Guanine\")].groupby([\"community\",\"family_donor\"]).sum().sort_values([\"community\",\"mass_rate*frequency\"],ascending=[True,False])[\"mass_rate*frequency\"]\n"
   ]
  },
  {
   "cell_type": "markdown",
   "id": "77c72fe3-f618-4824-9101-f6774d3ae087",
   "metadata": {
    "tags": []
   },
   "source": [
    "#### L-Lysine"
   ]
  },
  {
   "cell_type": "markdown",
   "id": "80f11e1d-4f01-4296-b7a6-0dfd3ac2b62a",
   "metadata": {},
   "source": [
    "**Receiver of L-Lysine**"
   ]
  },
  {
   "cell_type": "code",
   "execution_count": null,
   "id": "56fc286e-fa6e-433e-a4ad-624680ae5f1e",
   "metadata": {},
   "outputs": [],
   "source": [
    "steadier_sample_cross[(steadier_sample_cross.compound==\"L-Lysine\")].value_counts(\"family_receiver\")"
   ]
  },
  {
   "cell_type": "code",
   "execution_count": null,
   "id": "3f8fec4a-0efa-470d-8c09-dd3a57f7bedf",
   "metadata": {},
   "outputs": [],
   "source": [
    "steadier_sample_cross[(steadier_sample_cross.compound==\"L-Lysine\")].groupby([\"family_receiver\"]).sum()[\"mass_rate*frequency\"].sort_values(ascending=False)\n"
   ]
  },
  {
   "cell_type": "markdown",
   "id": "7c9cafcb-feca-4b94-857b-01cbfddd157f",
   "metadata": {},
   "source": [
    "**Donor of L-Lysine**"
   ]
  },
  {
   "cell_type": "code",
   "execution_count": null,
   "id": "54ffc4ab-1754-4140-aa1c-a1d95610ba3d",
   "metadata": {},
   "outputs": [],
   "source": [
    "steadier_sample_cross[(steadier_sample_cross.compound==\"L-Lysine\")].value_counts(\"family_donor\")"
   ]
  },
  {
   "cell_type": "code",
   "execution_count": null,
   "id": "f3d1f0f6-fde0-44e6-a4dc-3cc42ce75b56",
   "metadata": {},
   "outputs": [],
   "source": [
    "steadier_sample_cross[(steadier_sample_cross.compound==\"L-Lysine\")].groupby([\"family_donor\"]).sum()[\"mass_rate*frequency\"].sort_values(ascending=False)\n"
   ]
  },
  {
   "cell_type": "code",
   "execution_count": null,
   "id": "e27e9a78-7ea4-4fab-b8da-11e133354749",
   "metadata": {},
   "outputs": [],
   "source": [
    "steadier_sample_cross[(steadier_sample_cross.compound==\"L-Lysine\")].groupby([\"community\",\"family_receiver\"]).sum().sort_values([\"community\",\"mass_rate*frequency\"],ascending=[True,False])[\"mass_rate*frequency\"]\n"
   ]
  },
  {
   "cell_type": "code",
   "execution_count": null,
   "id": "4a11c9de-efc4-4a89-9d6e-edfae3cbb211",
   "metadata": {},
   "outputs": [],
   "source": [
    "steadier_sample_cross[(steadier_sample_cross.compound==\"L-Lysine\")].groupby([\"community\",\"family_donor\"]).sum().sort_values([\"community\",\"mass_rate*frequency\"],ascending=[True,False])[\"mass_rate*frequency\"]\n"
   ]
  },
  {
   "cell_type": "code",
   "execution_count": null,
   "id": "7f22602c-ae4e-4ff4-a278-70c6f6846ba4",
   "metadata": {},
   "outputs": [],
   "source": []
  },
  {
   "cell_type": "markdown",
   "id": "f3f8fd49-a3db-4759-9a60-22283a2a2d13",
   "metadata": {
    "tags": []
   },
   "source": [
    "#### L-Lactate"
   ]
  },
  {
   "cell_type": "markdown",
   "id": "bb7789d9-de24-4cd2-a35b-246ee7db9f1c",
   "metadata": {},
   "source": [
    "**Receiver of L-Lactate**"
   ]
  },
  {
   "cell_type": "code",
   "execution_count": null,
   "id": "68074b8c-ebfa-4cbc-8728-8c64b66a6d52",
   "metadata": {},
   "outputs": [],
   "source": [
    "steadier_sample_cross[(steadier_sample_cross.compound==\"L-Lactate\")].value_counts(\"family_receiver\")"
   ]
  },
  {
   "cell_type": "code",
   "execution_count": null,
   "id": "5df4fb13-4ffa-4d35-8628-8cff94e66cf8",
   "metadata": {},
   "outputs": [],
   "source": [
    "steadier_sample_cross[(steadier_sample_cross.compound==\"L-Lactate\")].groupby([\"family_receiver\"]).sum()[\"mass_rate*frequency\"].sort_values(ascending=False)\n"
   ]
  },
  {
   "cell_type": "markdown",
   "id": "5d999fa6-f142-4a89-843b-b1cc0dde5548",
   "metadata": {},
   "source": [
    "**Donor of L-Lactate**"
   ]
  },
  {
   "cell_type": "code",
   "execution_count": null,
   "id": "ae486d0e-962c-4e29-89ce-36e14dfa11ad",
   "metadata": {},
   "outputs": [],
   "source": [
    "steadier_sample_cross[(steadier_sample_cross.compound==\"L-Lactate\")].value_counts(\"family_donor\")"
   ]
  },
  {
   "cell_type": "code",
   "execution_count": null,
   "id": "a1b2995e-8dd9-4014-910b-48d4ff923716",
   "metadata": {},
   "outputs": [],
   "source": [
    "steadier_sample_cross[(steadier_sample_cross.compound==\"L-Lactate\")].groupby([\"family_donor\"]).sum()[\"mass_rate*frequency\"].sort_values(ascending=False)\n"
   ]
  },
  {
   "cell_type": "code",
   "execution_count": null,
   "id": "bc1f76d2-756a-4143-a840-4b6a0a9d2e6c",
   "metadata": {},
   "outputs": [],
   "source": [
    "steadier_sample_cross[(steadier_sample_cross.compound==\"L-Lactate\")].groupby([\"community\",\"family_receiver\"]).sum().sort_values([\"community\",\"mass_rate*frequency\"],ascending=[True,False])[\"mass_rate*frequency\"]\n"
   ]
  },
  {
   "cell_type": "code",
   "execution_count": null,
   "id": "71d44782-487c-4c25-817c-aac79da0dbdc",
   "metadata": {},
   "outputs": [],
   "source": [
    "steadier_sample_cross[(steadier_sample_cross.compound==\"L-Lactate\")].groupby([\"community\",\"family_donor\"]).sum().sort_values([\"community\",\"mass_rate*frequency\"],ascending=[True,False])[\"mass_rate*frequency\"]\n"
   ]
  },
  {
   "cell_type": "markdown",
   "id": "c85cf59e-bb8a-4e00-ab4c-63ac4aa68b06",
   "metadata": {
    "tags": []
   },
   "source": [
    "#### L-Malate"
   ]
  },
  {
   "cell_type": "markdown",
   "id": "b69b9c12-0a09-4645-bd96-6382b594a6db",
   "metadata": {},
   "source": [
    "**Receiver of L-Malate**"
   ]
  },
  {
   "cell_type": "code",
   "execution_count": null,
   "id": "cdf8e268-abc0-4bd8-a9b5-3989d9c4dc35",
   "metadata": {},
   "outputs": [],
   "source": [
    "steadier_sample_cross[(steadier_sample_cross.compound==\"L-Malate\")].value_counts(\"family_receiver\")"
   ]
  },
  {
   "cell_type": "code",
   "execution_count": null,
   "id": "0342a730-342c-4e1e-b49d-27eff31fcd6b",
   "metadata": {},
   "outputs": [],
   "source": [
    "steadier_sample_cross[(steadier_sample_cross.compound==\"L-Malate\")].groupby([\"family_receiver\"]).sum()[\"mass_rate*frequency\"].sort_values(ascending=False)\n"
   ]
  },
  {
   "cell_type": "markdown",
   "id": "a0dd5e69-00be-4c65-861b-7c91804449a4",
   "metadata": {},
   "source": [
    "**Donor of L-Malate**"
   ]
  },
  {
   "cell_type": "code",
   "execution_count": null,
   "id": "0cc2a1d5-9179-49f2-8ab5-7c8b9ef2e727",
   "metadata": {},
   "outputs": [],
   "source": [
    "steadier_sample_cross[(steadier_sample_cross.compound==\"L-Malate\")].value_counts(\"family_donor\")"
   ]
  },
  {
   "cell_type": "code",
   "execution_count": null,
   "id": "849c236d-84e9-4015-a099-ab70649a0988",
   "metadata": {},
   "outputs": [],
   "source": [
    "steadier_sample_cross[(steadier_sample_cross.compound==\"L-Malate\")].groupby([\"family_donor\"]).sum()[\"mass_rate*frequency\"].sort_values(ascending=False)\n"
   ]
  },
  {
   "cell_type": "code",
   "execution_count": null,
   "id": "86371ba6-d9a9-484c-8eaf-422854dea7fa",
   "metadata": {},
   "outputs": [],
   "source": [
    "steadier_sample_cross[(steadier_sample_cross.compound==\"L-Malate\")].groupby([\"community\",\"family_receiver\"]).sum().sort_values([\"community\",\"mass_rate*frequency\"],ascending=[True,False])[\"mass_rate*frequency\"]\n"
   ]
  },
  {
   "cell_type": "code",
   "execution_count": null,
   "id": "194a36eb-e300-4181-8c8d-95703deb98c9",
   "metadata": {},
   "outputs": [],
   "source": [
    "steadier_sample_cross[(steadier_sample_cross.compound==\"L-Malate\")].groupby([\"community\",\"family_donor\"]).sum().sort_values([\"community\",\"mass_rate*frequency\"],ascending=[True,False])[\"mass_rate*frequency\"]\n"
   ]
  },
  {
   "cell_type": "markdown",
   "id": "fbc86dce-1c64-4cf7-88ce-fc9e8a1261db",
   "metadata": {
    "tags": []
   },
   "source": [
    "#### Thymine"
   ]
  },
  {
   "cell_type": "markdown",
   "id": "12ea8a0c-dbe2-4902-8f0d-2fc0e7d8d695",
   "metadata": {},
   "source": [
    "**Receiver of L-Malate**"
   ]
  },
  {
   "cell_type": "code",
   "execution_count": null,
   "id": "3ecf32dc-297d-4c3e-b951-1ae19d41ad5b",
   "metadata": {},
   "outputs": [],
   "source": [
    "steadier_sample_cross[(steadier_sample_cross.compound==\"Thymine C5H6N2O2\")].value_counts(\"family_receiver\")"
   ]
  },
  {
   "cell_type": "code",
   "execution_count": null,
   "id": "9ba99061-92a9-4f0b-b394-80b2b364a1fb",
   "metadata": {},
   "outputs": [],
   "source": [
    "steadier_sample_cross[(steadier_sample_cross.compound==\"Thymine C5H6N2O2\")].groupby([\"family_receiver\"]).sum()[\"mass_rate*frequency\"].sort_values(ascending=False)\n"
   ]
  },
  {
   "cell_type": "markdown",
   "id": "c94fc377-8342-43db-8e4d-ef3f83249aa7",
   "metadata": {},
   "source": [
    "**Donor of L-Malate**"
   ]
  },
  {
   "cell_type": "code",
   "execution_count": null,
   "id": "e51f7cf6-a295-423f-ab2f-51850341f816",
   "metadata": {},
   "outputs": [],
   "source": [
    "steadier_sample_cross[(steadier_sample_cross.compound==\"Thymine C5H6N2O2\")].value_counts(\"family_donor\")"
   ]
  },
  {
   "cell_type": "code",
   "execution_count": null,
   "id": "30c9b1f9-2ffd-4912-96e8-2bda32668f6f",
   "metadata": {},
   "outputs": [],
   "source": [
    "steadier_sample_cross[(steadier_sample_cross.compound==\"Thymine C5H6N2O2\")].groupby([\"family_donor\"]).sum()[\"mass_rate*frequency\"].sort_values(ascending=False)\n"
   ]
  },
  {
   "cell_type": "code",
   "execution_count": null,
   "id": "e2b5a06f-f736-44bf-82f0-487e0b52adb4",
   "metadata": {},
   "outputs": [],
   "source": [
    "steadier_sample_cross[(steadier_sample_cross.compound==\"Thymine C5H6N2O2\")].groupby([\"community\",\"family_receiver\"]).sum().sort_values([\"community\",\"mass_rate*frequency\"],ascending=[True,False])[\"mass_rate*frequency\"]\n"
   ]
  },
  {
   "cell_type": "code",
   "execution_count": null,
   "id": "c0591cdc-739b-4bca-80cb-260bd5e6239a",
   "metadata": {},
   "outputs": [],
   "source": [
    "steadier_sample_cross[(steadier_sample_cross.compound==\"Thymine C5H6N2O2\")].groupby([\"community\",\"family_donor\"]).sum().sort_values([\"community\",\"mass_rate*frequency\"],ascending=[True,False])[\"mass_rate*frequency\"]\n"
   ]
  },
  {
   "cell_type": "code",
   "execution_count": null,
   "id": "018089c7-9aeb-467e-b493-ee0c0a45a600",
   "metadata": {},
   "outputs": [],
   "source": [
    "steadier_sample_cross[steadier_sample_cross.family_receiver==\"f_Desulfovibrionaceae\"].groupby([\"super_class\",\"compound\"]).sum()[\"mass_rate*frequency\"].sort_values()"
   ]
  },
  {
   "cell_type": "code",
   "execution_count": null,
   "id": "0d326226-47f0-42d4-9d57-5b3d234d7c6d",
   "metadata": {},
   "outputs": [],
   "source": [
    "steadier_sample_cross[steadier_sample_cross.family_donor==\"f_Desulfovibrionaceae\"].groupby([\"super_class\",\"compound\"]).sum()[\"mass_rate*frequency\"].sort_values()"
   ]
  },
  {
   "cell_type": "code",
   "execution_count": null,
   "id": "68045bb4-78f3-4be8-abe1-b0bae1734556",
   "metadata": {},
   "outputs": [],
   "source": []
  },
  {
   "cell_type": "code",
   "execution_count": null,
   "id": "7ebff9b8-9bd5-4e24-996d-e6dfa5c45f40",
   "metadata": {},
   "outputs": [],
   "source": []
  }
 ],
 "metadata": {
  "kernelspec": {
   "display_name": "MAGs_RecAndAn2",
   "language": "python",
   "name": "mags_recandan2"
  },
  "language_info": {
   "codemirror_mode": {
    "name": "ipython",
    "version": 3
   },
   "file_extension": ".py",
   "mimetype": "text/x-python",
   "name": "python",
   "nbconvert_exporter": "python",
   "pygments_lexer": "ipython3",
   "version": "3.9.13"
  }
 },
 "nbformat": 4,
 "nbformat_minor": 5
}

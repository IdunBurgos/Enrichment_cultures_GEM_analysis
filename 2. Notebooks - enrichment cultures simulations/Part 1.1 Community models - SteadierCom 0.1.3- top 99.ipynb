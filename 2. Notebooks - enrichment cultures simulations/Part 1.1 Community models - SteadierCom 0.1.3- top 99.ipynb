{
 "cells": [
  {
   "cell_type": "markdown",
   "id": "33589024-4da5-4838-b64b-710626339c4f",
   "metadata": {},
   "source": [
    "# SteadierCom simulations"
   ]
  },
  {
   "cell_type": "code",
   "execution_count": 90,
   "id": "1e37fcf7-9afb-4d21-89fd-bd09c71061c2",
   "metadata": {},
   "outputs": [],
   "source": [
    "import pandas as pd\n",
    "import reframed\n",
    "import os\n",
    "import json\n",
    "import numpy as np\n",
    "from matplotlib import pyplot as plt\n",
    "import re\n",
    "import sys\n",
    "sys.path.append('../functions')\n",
    "\n",
    "import translation_dicts\n",
    "import general_functions as general_func\n",
    "import colors_community as color_func\n",
    "\n",
    "import steadiercom_data_processing as steadier_data_func\n",
    "\n",
    "from steadiercom import steadiercom"
   ]
  },
  {
   "cell_type": "code",
   "execution_count": 91,
   "id": "b6033e1f-99de-45e4-b389-1f4cec22db56",
   "metadata": {},
   "outputs": [
    {
     "name": "stdout",
     "output_type": "stream",
     "text": [
      "The autoreload extension is already loaded. To reload it, use:\n",
      "  %reload_ext autoreload\n"
     ]
    }
   ],
   "source": [
    "%load_ext autoreload\n",
    "%autoreload 2"
   ]
  },
  {
   "cell_type": "code",
   "execution_count": 92,
   "id": "7da2e7ab-d1c5-4542-a1cd-e4c6a9a620b5",
   "metadata": {},
   "outputs": [],
   "source": [
    "compounds_dict, source_dict,substrate_dict, gas_sheet_dict, community_dict = translation_dicts.translation_dicts()"
   ]
  },
  {
   "cell_type": "markdown",
   "id": "e1d22eca-0d36-4566-81c9-c043364d0a75",
   "metadata": {},
   "source": [
    "### Load data"
   ]
  },
  {
   "cell_type": "code",
   "execution_count": 93,
   "id": "b82e6420-c164-4559-a9ec-f646d1237403",
   "metadata": {},
   "outputs": [],
   "source": [
    "all_mags_paper = general_func.read_allmags_data()\n",
    "\n",
    "with open('../output/community_production.json') as f:\n",
    "    community_production = json.load(f)\n",
    "\n",
    "top_99 = pd.read_csv(\"../output/steadiercom_sample_0.1.3/communities_top99.tsv\",sep=\"\\t\",header=None)\n",
    "top_99.set_index(1,inplace=True)\n",
    "top_99.index.name=\"MAG\"\n",
    "top_99.columns = [\"community\"]\n",
    "\n",
    "media_db = pd.read_csv(\"../output/steadiercom_sample_0.1.3/media_db.tsv\",sep=\"\\t\")\n",
    "media_db.set_index(\"medium\",inplace=True)\n",
    "\n",
    "met_chebi_class = pd.read_csv(\"../output/met_chebi_class.tsv\",index_col=0,sep=\"\\t\")"
   ]
  },
  {
   "cell_type": "markdown",
   "id": "69582957-fea6-4eba-9025-9922edca233d",
   "metadata": {},
   "source": [
    "**Define interesting classes**"
   ]
  },
  {
   "cell_type": "code",
   "execution_count": 94,
   "id": "38ce82f4-992a-4e23-a8ef-edf58bb5a6bb",
   "metadata": {},
   "outputs": [],
   "source": [
    "interesting_super_classes = list(met_chebi_class[\"self defined super class\"].unique())\n",
    "interesting_super_classes.remove(\"other\")\n",
    "interesting_super_classes.remove(\"aromatic compounds\")\n",
    "interesting_super_classes.remove(\"organophosphorus compounds\")\n",
    "interesting_super_classes.remove(\"organosulfur compounds\")\n",
    "interesting_super_classes.remove(\"organonitrogen compounds\")\n",
    "interesting_super_classes.remove(\"minerals and atoms\")\n",
    "\n",
    "chebi_interesting = met_chebi_class[met_chebi_class[\"self defined super class\"].isin(interesting_super_classes)]"
   ]
  },
  {
   "cell_type": "markdown",
   "id": "6aef06ed-3ecf-4893-9b21-0acb5f2a8b14",
   "metadata": {},
   "source": [
    "### Load models"
   ]
  },
  {
   "cell_type": "markdown",
   "id": "1dd4665f-6429-44a3-b897-21756a54291b",
   "metadata": {},
   "source": [
    "**Load universal model**"
   ]
  },
  {
   "cell_type": "code",
   "execution_count": 95,
   "id": "2ff38e34-cb03-42ee-9a25-b2f248308d81",
   "metadata": {},
   "outputs": [],
   "source": [
    "model_uni = reframed.load_cbmodel(\"../input/universe_bacteria.xml\")"
   ]
  },
  {
   "cell_type": "code",
   "execution_count": 96,
   "id": "3ae5e535-3a7e-4100-adbe-bb26786f119c",
   "metadata": {
    "scrolled": true,
    "tags": []
   },
   "outputs": [
    {
     "name": "stdout",
     "output_type": "stream",
     "text": [
      "CH7-bin.18.xml\n",
      "CH15-bin.7.xml\n",
      "CH13-bin.0.xml\n",
      "CH1-bin.4.xml\n",
      "CH13-bin.1.xml\n",
      "CH13-bin.11.xml\n",
      "CH15-bin.6.xml\n",
      "CH7-bin.2.xml\n",
      "CH13-bin.13.xml\n",
      "CH1-bin.10.xml\n",
      "CH1-bin.6.xml\n",
      "CH13-bin.2.xml\n",
      "CH13-bin.12.xml\n",
      "CH15-bin.5.xml\n",
      "CH7-bin.1.xml\n",
      "CH15-bin.1.xml\n",
      "CH1-bin.3.xml\n",
      "CH13-bin.17.xml\n",
      "CH15-bin.0.xml\n",
      "CH7-bin.4.xml\n",
      "CH7-bin.23.xml\n",
      "CH7-bin.6.xml\n",
      "CH15-bin.22.xml\n",
      "CH15-bin.2.xml\n",
      "CH1-bin.1.xml\n",
      "CH13-bin.4.xml\n",
      "CH13-bin.14.xml\n",
      "CH15-bin.23.xml\n",
      "CH7-bin.20.xml\n",
      "CH8-bin.8.xml\n",
      "CH8-bin.9.xml\n",
      "CH8-bin.25.xml\n",
      "CH14-bin.4.xml\n",
      "CH14-bin.1.xml\n",
      "CH8-bin.21.xml\n",
      "CH14-bin.2.xml\n",
      "CH8-bin.22.xml\n",
      "CH8-bin.2.xml\n",
      "CH8-bin.29.xml\n",
      "CH8-bin.7.xml\n",
      "CH8-bin.6.xml\n",
      "CH3-bin.2.xml\n",
      "CH8-bin.14.xml\n",
      "CH8-bin.16.xml\n",
      "CH3-bin.0.xml\n",
      "CH8-bin.5.xml\n",
      "CH3-bin.1.xml\n",
      "CH8-bin.17.xml\n",
      "CH7-bin.11.xml\n",
      "CH9-bin.1.xml\n",
      "CH15-bin.12.xml\n",
      "CH13-bin.25.xml\n",
      "CH15-bin.13.xml\n",
      "CH9-bin.0.xml\n",
      "CH7-bin.12.xml\n",
      "CH9-bin.2.xml\n",
      "CH7-bin.9.xml\n",
      "CH15-bin.10.xml\n",
      "CH7-bin.8.xml\n",
      "CH7-bin.13.xml\n",
      "CH7-bin.17.xml\n",
      "CH15-bin.8.xml\n",
      "CH15-bin.15.xml\n",
      "CH7-bin.16.xml\n",
      "CH9-bin.6.xml\n",
      "CH9-bin.4.xml\n",
      "CH15-bin.17.xml\n",
      "CH1-bin.8.xml\n",
      "CH1-bin.9.xml\n",
      "CH15-bin.16.xml\n",
      "CH7-bin.15.xml\n",
      "CH9-bin.5.xml\n"
     ]
    }
   ],
   "source": [
    "GEMs_dict = {}\n",
    "\n",
    "directory = os.fsencode(\"../output/GEMs/GEMs_adapt_media_ACt2r/\")\n",
    "\n",
    "for file in os.listdir(directory):\n",
    "    filename = os.fsdecode(file)\n",
    "    print(filename)\n",
    "    if filename.endswith(\".xml\"):\n",
    "        GEMs_dict[filename[:-4]]= reframed.load_cbmodel(\"../output/GEMs/GEMs_adapt_media_ACt2r/\"+filename,flavor=\"bigg\")\n"
   ]
  },
  {
   "cell_type": "code",
   "execution_count": 97,
   "id": "b9ae9e0b-31d1-4e31-a15b-14ed6afdd31b",
   "metadata": {},
   "outputs": [],
   "source": [
    "community_GEMs = {}\n",
    "for community,MAGs in top_99.groupby(\"community\").groups.items():\n",
    "    \n",
    "    community_GEMs[community]=[]\n",
    "    for MAG in MAGs:\n",
    "        reframed.Environment.empty(GEMs_dict[MAG],inplace=True)\n",
    "        community_GEMs[community].append(GEMs_dict[MAG])"
   ]
  },
  {
   "cell_type": "markdown",
   "id": "d6625930-e237-4b67-87a9-c01703b4ed27",
   "metadata": {},
   "source": [
    "### Process other data"
   ]
  },
  {
   "cell_type": "code",
   "execution_count": 98,
   "id": "5bbc88db-1817-4e68-86cc-4f075a3b2cb2",
   "metadata": {},
   "outputs": [],
   "source": [
    "medias = {}\n",
    "\n",
    "for media in set(media_db[\"compound\"].index):\n",
    "    \n",
    "    medias[media] = media_db[media_db.index==media].compound.values\n"
   ]
  },
  {
   "cell_type": "markdown",
   "id": "a197ac57-9883-4bd0-8857-3aff82feefd5",
   "metadata": {},
   "source": [
    "**Ensure that carbon is limiting**"
   ]
  },
  {
   "cell_type": "code",
   "execution_count": 130,
   "id": "45c461b3-eb39-49d3-8257-d825789adb38",
   "metadata": {},
   "outputs": [],
   "source": [
    "community_media = {}\n",
    "\n",
    "for community_id in community_GEMs.keys():\n",
    "    \n",
    "    if community_id in [\"CM_A\",\"CM_P\",\"M_A\",\"M_P\"]:\n",
    "        community_media[community_id] = reframed.Environment.from_compounds(medias[\"SC2_C\"])\n",
    "        #community_media[community_id].R_EX_glc__D_e = (-1/10,0)\n",
    "        community_media[community_id].R_EX_cellb_e = (-1/20,0)\n",
    "        community_media[community_id].R_EX_cell3_e = (-1/30,0)\n",
    "        community_media[community_id].R_EX_cell4_e = (-1/40,0)\n",
    "        community_media[community_id].R_EX_cell5_e = (-1/50,0)\n",
    "        \n",
    "       \n",
    "    \n",
    "    elif community_id.split(\"_\")[1]==\"X\":\n",
    "        community_media[community_id] = reframed.Environment.from_compounds(medias[\"SC1_X\"])\n",
    "        community_media[community_id].R_EX_xyl__D_e=((-6/50),0)\n",
    "        community_media[community_id].R_EX_xylb_e=((-6/100),0)\n",
    "        community_media[community_id].R_EX_xyl3_e=((-6/150),0)\n",
    "        community_media[community_id].R_EX_xylan4_e=((-6/260),0)\n",
    "        community_media[community_id].R_EX_xylan8_e=((-6/520),0)\n",
    "        community_media[community_id].R_EX_ascb__L_e = (-10,0)\n",
    "        \n",
    "\n",
    "    elif (community_id.split(\"_\")[1]==\"P\") or (community_id.split(\"_\")[1]==\"A\"):\n",
    "        community_media[community_id] = reframed.Environment.from_compounds(medias[\"SC1_C\"])\n",
    "        #community_media[community_id].R_EX_glc__D_e = (-1/10,0)\n",
    "        community_media[community_id].R_EX_cellb_e = (-1/20,0)\n",
    "        community_media[community_id].R_EX_cell3_e = (-1/30,0)\n",
    "        community_media[community_id].R_EX_cell4_e = (-1/40,0)\n",
    "        community_media[community_id].R_EX_cell5_e = (-1/50,0)\n",
    "        community_media[community_id].R_EX_ascb__L_e = (-1e-2,0)\n",
    "       \n",
    "    else:\n",
    "        continue\n",
    "\n",
    "    community_media[community_id].R_EX_so4_e = (-100,0)\n",
    "    community_media[community_id].R_EX_cys__L_e = (-10,1000)"
   ]
  },
  {
   "cell_type": "code",
   "execution_count": 126,
   "id": "dee5fd6a-625d-4ad1-8c8e-c3d05c2678b8",
   "metadata": {},
   "outputs": [
    {
     "data": {
      "text/plain": [
       "R_EX_zn2_e\t-10.0\tinf\n",
       "R_EX_mn2_e\t-10.0\tinf\n",
       "R_EX_fe3_e\t-10.0\tinf\n",
       "R_EX_k_e\t-10.0\tinf\n",
       "R_EX_so4_e\t-100\t0\n",
       "R_EX_ribflv_e\t-10.0\tinf\n",
       "R_EX_cl_e\t-10.0\tinf\n",
       "R_EX_nh4_e\t-10.0\tinf\n",
       "R_EX_btn_e\t-10.0\tinf\n",
       "R_EX_pydxn_e\t-10.0\tinf\n",
       "R_EX_ni2_e\t-10.0\tinf\n",
       "R_EX_h2o_e\t-10.0\tinf\n",
       "R_EX_pi_e\t-10.0\tinf\n",
       "R_EX_fe2_e\t-10.0\tinf\n",
       "R_EX_fol_e\t-10.0\tinf\n",
       "R_EX_pnto__R_e\t-10.0\tinf\n",
       "R_EX_cu2_e\t-10.0\tinf\n",
       "R_EX_na1_e\t-10.0\tinf\n",
       "R_EX_mobd_e\t-10.0\tinf\n",
       "R_EX_cys__L_e\t-0.1\t1000\n",
       "R_EX_mg2_e\t-10.0\tinf\n",
       "R_EX_4abz_e\t-10.0\tinf\n",
       "R_EX_h_e\t-10.0\tinf\n",
       "R_EX_nac_e\t-10.0\tinf\n",
       "R_EX_ca2_e\t-10.0\tinf\n",
       "R_EX_cobalt2_e\t-10.0\tinf\n",
       "R_EX_thm_e\t-10.0\tinf\n",
       "R_EX_ascb__L_e\t-0.1\t0\n",
       "R_EX_xylb_e\t-0.06\t0\n",
       "R_EX_xyl3_e\t-0.04\t0\n",
       "R_EX_xylan4_e\t-0.023076923076923078\t0\n",
       "R_EX_xylan8_e\t-0.011538461538461539\t0\n",
       "R_EX_xyl__D_e\t-0.12\t0"
      ]
     },
     "execution_count": 126,
     "metadata": {},
     "output_type": "execute_result"
    }
   ],
   "source": [
    "community_media[\"CD_X\"]"
   ]
  },
  {
   "cell_type": "code",
   "execution_count": 121,
   "id": "4d7617c5-b5d2-42ad-a66a-70bba45434cf",
   "metadata": {},
   "outputs": [],
   "source": [
    "relative_abundance_estimate = {}\n",
    "\n",
    "for MAG in GEMs_dict.keys():\n",
    "    relative_abundance_estimate[\"_\".join(re.split(\"[-.]\",MAG))] = all_mags_paper.loc[MAG,\"new_coverage\"]/100\n"
   ]
  },
  {
   "cell_type": "raw",
   "id": "ce53e46f-cc9b-4d45-a51c-1a33cc0d6177",
   "metadata": {},
   "source": [
    "constraints = {}\n",
    "\n",
    "for community_id,df in community_production.items():\n",
    "    constraints[community_id]={rxn:(1e-6,1000) for rxn in df.keys()}\n",
    "    "
   ]
  },
  {
   "cell_type": "markdown",
   "id": "d6c81fd0-2a73-40f6-b3a5-710e4a0e79e7",
   "metadata": {
    "tags": []
   },
   "source": [
    "### SteadierCom\n",
    "\n",
    "- w_R = protein fraction allocated to ribosomal proteins per unit of growth rate. \n",
    "    - Higher w_R means lower translation -> slower metabolism?\n",
    "- w_E: w_i is the proteome fraction to be invested in a enzyme i. The sum of w_i across all enzymes is w_e.\n",
    "    - Higher w_E means higher cost for enzymes."
   ]
  },
  {
   "cell_type": "code",
   "execution_count": 127,
   "id": "8fe8d3c4-4b09-45a4-9bab-b3b5fd0cb6bb",
   "metadata": {},
   "outputs": [
    {
     "name": "stdout",
     "output_type": "stream",
     "text": [
      "CD_X\n",
      "estimated_abundance: {'CH14_bin_1': 0.54707294, 'CH14_bin_2': 0.18831114, 'CH14_bin_4': 0.02741818}\n",
      "Community growth: 0.0089\n",
      "CH14_bin_1\t0.7171884100081193\n",
      "CH14_bin_2\t0.24686756958480957\n",
      "CH14_bin_4\t0.03594402040707116\n",
      "\n"
     ]
    },
    {
     "data": {
      "text/plain": [
       "(Community growth: 0.0089\n",
       " CH14_bin_1\t0.7171884100081193\n",
       " CH14_bin_2\t0.24686756958480957\n",
       " CH14_bin_4\t0.03594402040707116,\n",
       "          donor    receiver    compound      rate     mass_rate\n",
       " 0   CH14_bin_1        None    M_2mpa_e  0.037439  3.260813e-03\n",
       " 1   CH14_bin_1        None      M_ac_e  0.271160  1.601035e-02\n",
       " 2   CH14_bin_2        None      M_ac_e  0.077537  4.578116e-03\n",
       " 3   CH14_bin_4        None      M_ac_e  0.023570  1.391641e-03\n",
       " 4   CH14_bin_2  CH14_bin_1   M_acald_e  0.038021  1.674907e-03\n",
       " ..         ...         ...         ...       ...           ...\n",
       " 70        None  CH14_bin_1  M_xylan8_e  0.011538  1.644417e-02\n",
       " 71        None  CH14_bin_1     M_zn2_e  0.000002  1.423276e-07\n",
       " 72  CH14_bin_2        None      M_co_e  0.163834  4.589019e-03\n",
       " 73        None  CH14_bin_2     M_fol_e  0.000001  6.458346e-07\n",
       " 74  CH14_bin_4        None      M_h2_e  0.020946  4.222209e-05\n",
       " \n",
       " [75 rows x 5 columns])"
      ]
     },
     "execution_count": 127,
     "metadata": {},
     "output_type": "execute_result"
    }
   ],
   "source": [
    "determine_cross_feedding_community(\"CD_X\",community_GEMs,relative_abundance_estimate)\n"
   ]
  },
  {
   "cell_type": "code",
   "execution_count": null,
   "id": "f725f464-1164-48f8-bbed-552697532522",
   "metadata": {},
   "outputs": [
    {
     "name": "stdout",
     "output_type": "stream",
     "text": [
      "estimated_abundance: {'CH9_bin_0': 0.70451904, 'CH9_bin_6': 0.09662049, 'CH9_bin_5': 0.031182658999999998, 'CH9_bin_1': 0.022604775, 'CH9_bin_2': 0.020385466, 'CH9_bin_4': 0.019065527}\n"
     ]
    }
   ],
   "source": [
    "community_id = \"CM_X\"\n",
    "community_model = reframed.Community(community_id,community_GEMs[community_id])\n",
    "community_media[community_id].apply(community_model.merged_model,inplace=True,exclusive=True,warning=False)\n",
    "\n",
    "# estimate the abundance\n",
    "estimate_abundance = {model.id:relative_abundance_estimate[model.id] for model in community_GEMs[community_id]}\n",
    "print(\"estimated_abundance: \"+str(estimate_abundance))\n",
    "\n",
    "sol = steadiercom.SteadierCom(community_model,growth=0.0089, abundance=estimate_abundance,allocation=True,w_e=0.002,w_r=0.2)\n",
    "\n",
    "if sol.status.value==\"Infeasible\":\n",
    "    sol = steadiercom.SteadierCom(community_model, abundance=estimate_abundance,allocation=True,w_e=0.002,w_r=0.2)\n",
    "\n",
    "if sol.status.value==\"Infeasible\":\n",
    "    fitted_abundance = steadiercom.fit_abundance(community_model,growth=1e-3, abundance={model.id:relative_abundance_estimate[model.id] for model in community_GEMs[community_id]},allocation=True)\n",
    "    sol = steadiercom.SteadierCom(community_model, abundance=fitted_abundance,allocation=True,w_e=0.002,w_r=0.2)\n",
    "        "
   ]
  },
  {
   "cell_type": "code",
   "execution_count": 129,
   "id": "f34138d8-6b16-4ac8-a217-e578e6a5781f",
   "metadata": {},
   "outputs": [
    {
     "data": {
      "text/plain": [
       "'Infeasible'"
      ]
     },
     "execution_count": 129,
     "metadata": {},
     "output_type": "execute_result"
    }
   ],
   "source": [
    "sol.status.value"
   ]
  },
  {
   "cell_type": "code",
   "execution_count": 111,
   "id": "2457f3d3-c6a7-4b46-b8b3-cd64327efee4",
   "metadata": {
    "tags": []
   },
   "outputs": [],
   "source": [
    "#@jit\n",
    "def determine_cross_feedding_community(community_id,community_GEMs_ver,relative_abundance_estimate):\n",
    "    \n",
    "    try:\n",
    "        print(community_id)\n",
    "        community_model = reframed.Community(community_id,community_GEMs_ver[community_id])\n",
    "        community_media[community_id].apply(community_model.merged_model,inplace=True,exclusive=True,warning=False)\n",
    "\n",
    "        # estimate the abundance\n",
    "        estimate_abundance = {model.id:relative_abundance_estimate[model.id] for model in community_GEMs_ver[community_id]}\n",
    "        print(\"estimated_abundance: \"+str(estimate_abundance))\n",
    "        \n",
    "        sol = steadiercom.SteadierCom(community_model,growth=0.0089, abundance=estimate_abundance,allocation=True,w_e=0.002,w_r=0.2)\n",
    "        \n",
    "        if sol.status.value==\"Infeasible\":\n",
    "            sol = steadiercom.SteadierCom(community_model, abundance=estimate_abundance,allocation=True,w_e=0.002,w_r=0.2)\n",
    "           \n",
    "        if sol.status.value==\"Infeasible\":\n",
    "            fitted_abundance = steadiercom.fit_abundance(community_model,growth=1e-2, abundance={model.id:relative_abundance_estimate[model.id] for model in community_GEMs[community_id]},allocation=True)\n",
    "            sol = steadiercom.SteadierCom(community_model, abundance=fitted_abundance,allocation=True,w_e=0.002,w_r=0.2)\n",
    "        \n",
    "\n",
    "        print(str(sol)+\"\\n\")\n",
    "        \n",
    "        sol_df = pd.DataFrame(sol.cross_feeding())\n",
    "        sol_df.columns=[\"donor\",\"receiver\",\"compound\",\"rate\",\"mass_rate\"]\n",
    "\n",
    "    except Exception as error:\n",
    "        print(\"Unable to find solution for: \"+community_id+\"\\n\")\n",
    "        print(\"Error: \", error)\n",
    "        return sol,None\n",
    "    \n",
    "    return sol,sol_df"
   ]
  },
  {
   "cell_type": "code",
   "execution_count": null,
   "id": "1bf5a5d2-4dc3-4d1f-acc7-ccd8040ced2d",
   "metadata": {
    "tags": []
   },
   "outputs": [],
   "source": [
    "def determine_cross_feedding(community_GEMs_ver, community_media,relative_abundance_estimate):\n",
    "    steadiercom_crossfeeding = {}\n",
    "    steadiercom_sols = {}\n",
    "    \n",
    "    for community_id in community_GEMs_ver.keys():\n",
    "        #if community_id in [\"CM_X\"]: # I had issues with this community so I'm excluding it for now\n",
    "        #    continue\n",
    "        sol,sol_df = determine_cross_feedding_community(community_id,community_GEMs_ver,relative_abundance_estimate)\n",
    "        steadiercom_crossfeeding[community_id]=sol_df\n",
    "        steadiercom_sols[community_id]=sol\n",
    "        \n",
    "    return steadiercom_crossfeeding,steadiercom_sols\n",
    "   "
   ]
  },
  {
   "cell_type": "code",
   "execution_count": null,
   "id": "4f6ea9e9-4ac0-4f76-9f33-d39f49a038c6",
   "metadata": {},
   "outputs": [
    {
     "name": "stdout",
     "output_type": "stream",
     "text": [
      "CD_A\n",
      "estimated_abundance: {'CH13_bin_12': 0.36526676, 'CH13_bin_11': 0.10155789999999999, 'CH13_bin_4': 0.10043969999999999, 'CH13_bin_14': 0.09628596, 'CH13_bin_25': 0.066927886, 'CH13_bin_17': 0.047645993000000005, 'CH13_bin_0': 0.04455086, 'CH13_bin_1': 0.013032592999999999, 'CH13_bin_13': 0.011359399999999999, 'CH13_bin_2': 0.010196663}\n",
      "Community growth: 0.008899999999999998\n",
      "CH13_bin_12\t0.42608447506727853\n",
      "CH13_bin_11\t0.11846751264866029\n",
      "CH13_bin_4\t0.117163129901048\n",
      "CH13_bin_14\t0.11231778309898491\n",
      "CH13_bin_25\t0.07807152551650924\n",
      "CH13_bin_17\t0.05557915512614459\n",
      "CH13_bin_0\t0.05196867570675145\n",
      "CH13_bin_1\t0.015202548261359692\n",
      "CH13_bin_13\t0.013250764964431045\n",
      "CH13_bin_2\t0.011894429708832364\n",
      "\n",
      "CD_P\n",
      "estimated_abundance: {'CH15_bin_0': 0.2391904, 'CH15_bin_23': 0.10319866, 'CH15_bin_1': 0.09591573, 'CH15_bin_7': 0.078568373, 'CH15_bin_8': 0.056932935999999996, 'CH15_bin_22': 0.055164204, 'CH15_bin_6': 0.04528497, 'CH15_bin_17': 0.044137535000000006, 'CH15_bin_16': 0.042533417, 'CH15_bin_13': 0.03335992, 'CH15_bin_12': 0.025508058, 'CH15_bin_5': 0.023885744, 'CH15_bin_10': 0.022292529999999998, 'CH15_bin_15': 0.017424948, 'CH15_bin_2': 0.013271666}\n",
      "Community growth: 0.0089\n",
      "CH15_bin_0\t0.2667543717083474\n",
      "CH15_bin_23\t0.11509113120527982\n",
      "CH15_bin_1\t0.10696892639962763\n",
      "CH15_bin_7\t0.08762248391140316\n",
      "CH15_bin_8\t0.06349380899982422\n",
      "CH15_bin_22\t0.061521250764291165\n",
      "CH15_bin_6\t0.0505035474675462\n",
      "CH15_bin_17\t0.0492238836411503\n",
      "CH15_bin_16\t0.04743490929587535\n",
      "CH15_bin_13\t0.03720427115737394\n",
      "CH15_bin_12\t0.028447571412941682\n",
      "CH15_bin_5\t0.02663830418572999\n",
      "CH15_bin_10\t0.02486149040237186\n",
      "CH15_bin_15\t0.019432974968019726\n",
      "CH15_bin_2\t0.014801074480217589\n",
      "\n",
      "CD_X\n",
      "estimated_abundance: {'CH14_bin_1': 0.54707294, 'CH14_bin_2': 0.18831114, 'CH14_bin_4': 0.02741818}\n",
      "Objective: None\n",
      "Status: Infeasible\n",
      "\n",
      "\n",
      "Unable to find solution for: CD_X\n",
      "\n",
      "Error:  'Solution' object has no attribute 'cross_feeding'\n",
      "CM_A\n",
      "estimated_abundance: {'CH8_bin_22': 0.42725525, 'CH8_bin_17': 0.07817154, 'CH8_bin_7': 0.07117725, 'CH8_bin_2': 0.05387587, 'CH8_bin_6': 0.041550197999999997, 'CH8_bin_25': 0.04149167, 'CH8_bin_5': 0.028777613999999997, 'CH8_bin_9': 0.020432885, 'CH8_bin_16': 0.017494634, 'CH8_bin_21': 0.017138727, 'CH8_bin_8': 0.015743708999999998, 'CH8_bin_29': 0.010847283999999999, 'CH8_bin_14': 0.010511942000000002}\n",
      "Community growth: 0.0089\n",
      "CH8_bin_22\t0.512008796765076\n",
      "CH8_bin_17\t0.0936782313071004\n",
      "CH8_bin_7\t0.0852965016335013\n",
      "CH8_bin_2\t0.06456309050239091\n",
      "CH8_bin_6\t0.0497924060227011\n",
      "CH8_bin_25\t0.04972226797089937\n",
      "CH8_bin_5\t0.03448615673630647\n",
      "CH8_bin_9\t0.024486104882945666\n",
      "CH8_bin_16\t0.020965000439866772\n",
      "CH8_bin_21\t0.020538493065574082\n",
      "CH8_bin_8\t0.018866748861973016\n",
      "CH8_bin_29\t0.012999032379377573\n",
      "CH8_bin_14\t0.012597169432287298\n",
      "\n",
      "CM_P\n",
      "estimated_abundance: {'CH7_bin_23': 0.38075882, 'CH7_bin_16': 0.08489853, 'CH7_bin_11': 0.08088421, 'CH7_bin_13': 0.06914284999999999, 'CH7_bin_2': 0.04041395, 'CH7_bin_8': 0.037479181, 'CH7_bin_18': 0.034110510000000004, 'CH7_bin_1': 0.026102979999999998, 'CH7_bin_17': 0.0229711, 'CH7_bin_4': 0.022848897, 'CH7_bin_12': 0.020097792, 'CH7_bin_20': 0.01731405, 'CH7_bin_9': 0.01295525, 'CH7_bin_6': 0.011554302, 'CH7_bin_15': 0.010149655}\n"
     ]
    }
   ],
   "source": [
    "steadiercom_crossfeeding_conditions = {}\n",
    "steadiercom_sols_conditions = {}\n",
    "\n",
    "conditions = {\"basic\":[community_GEMs,community_media]}\n",
    "    \n",
    "for name,community_GEMs_data in conditions.items():\n",
    "\n",
    "    steadiercom_crossfeeding,steadiercom_sols = determine_cross_feedding(conditions[name][0], conditions[name][1],relative_abundance_estimate=relative_abundance_estimate)\n",
    "    \n",
    "    steadiercom_crossfeeding_conditions[name]=steadiercom_crossfeeding\n",
    "    steadiercom_sols_conditions[name]=steadiercom_sols\n",
    "    \n",
    "    steadiercom_crossfeeding_all =pd.concat(steadiercom_crossfeeding)\n",
    "    steadiercom_crossfeeding_all.to_csv(\"../output/steadiercom_single_sim_0.1.3/steadiercom_crossfeeding_\"+name+\".tsv\",sep=\"\\t\")\n",
    "    \n",
    "    steadier_com_production = {}\n",
    "    for community_id, df in steadiercom_crossfeeding.items():\n",
    "        community_exchange = df[df[\"receiver\"].isna()]\n",
    "        community_exchange = community_exchange[[\"compound\",\"mass_rate\"]].groupby(\"compound\").sum().sort_values(by=\"mass_rate\")\n",
    "\n",
    "        steadier_com_production[community_id]=community_exchange\n",
    "\n",
    "    steadier_com_production_all = pd.concat(steadier_com_production,axis=1).fillna(0)\n",
    "    steadier_com_production_all.to_csv(\"../output/steadiercom_single_sim_0.1.3/steadier_com_production_\"+name+\"_g.tsv\",sep=\"\\t\")\n",
    "\n"
   ]
  },
  {
   "cell_type": "code",
   "execution_count": null,
   "id": "4070c832-4206-4d5b-9687-7c5ed35d727b",
   "metadata": {},
   "outputs": [],
   "source": [
    "abundance_dict = {community:sol.abundance for community,sol in steadiercom_sols_conditions[\"basic\"].items()}\n",
    "abundance_dict = {(community,MAG):abundance for community,abundance_dict in abundance_dict.items() for MAG,abundance in abundance_dict.items()}\n",
    "\n",
    "pd.Series(abundance_dict).to_csv(\"../output/steadiercom_single_sim_0.1.3/abundance.tsv\",sep=\"\\t\")"
   ]
  },
  {
   "cell_type": "markdown",
   "id": "e29bf136-53c7-44ac-aa1a-f943f948571c",
   "metadata": {
    "tags": []
   },
   "source": [
    "# Results"
   ]
  },
  {
   "cell_type": "markdown",
   "id": "5cccbacb-efc1-47fb-b542-75ccbf91c9af",
   "metadata": {},
   "source": [
    "## Cross feeding plots"
   ]
  },
  {
   "cell_type": "code",
   "execution_count": null,
   "id": "e8f0e711-9fc2-4b2a-8f1b-8b497010b21b",
   "metadata": {},
   "outputs": [],
   "source": [
    "steadiercom_crossfeeding_basic=pd.read_csv(\"../output/steadiercom_single_sim_0.1.3/steadiercom_crossfeeding_basic.tsv\",sep=\"\\t\",index_col=(0,1))\n",
    "steadiercom_crossfeeding_basic.dropna(inplace=True)\n",
    "steadiercom_crossfeeding_basic"
   ]
  },
  {
   "cell_type": "code",
   "execution_count": null,
   "id": "f3a1bf5c-b631-4dff-b201-63bc5e1272e1",
   "metadata": {},
   "outputs": [],
   "source": [
    "cmap = color_func.cmap_community()\n",
    "\n",
    "cmap_lut = dict(zip(steadiercom_crossfeeding_basic.index.get_level_values(0).unique(),cmap.colors))"
   ]
  },
  {
   "cell_type": "code",
   "execution_count": null,
   "id": "bb5c0cda-9c9c-4372-9c51-058505687753",
   "metadata": {},
   "outputs": [],
   "source": [
    "from matplotlib import colors"
   ]
  },
  {
   "cell_type": "code",
   "execution_count": null,
   "id": "c3ac1d02-b41e-4730-abfe-abfe9b12b6e8",
   "metadata": {},
   "outputs": [],
   "source": [
    "import matplotlib.pyplot as plt\n",
    "\n",
    "def plot_interractions(steadiercom_crossfeeding_basic,selected_compounds=True,fig_title=False):\n",
    "    steady_com_count = steadiercom_crossfeeding_basic.reset_index().groupby([\"level_0\",\"compound\"]).count()[\"mass_rate\"]\n",
    "    \n",
    "    cmap_local = colors.ListedColormap([cmap_lut[community] for community in steadiercom_crossfeeding_basic.index.get_level_values(0).unique()])\n",
    "    \n",
    "    # Only allow members of selected categories to be involved (avoid minerals etc)\n",
    "    if selected_compounds:\n",
    "        steady_com_count = steady_com_count.reset_index()[steady_com_count.reset_index().compound.isin(chebi_interesting.index)].set_index([\"level_0\",\"compound\"])\n",
    "    steady_com_count.index.names = (\"Community\",\"Compound\")\n",
    "    \n",
    "    \n",
    "    #**Remove redundant information**\n",
    "    compounds = steady_com_count.reset_index()[\"Compound\"]\n",
    "    compounds = compounds.map(lambda x: model_uni.metabolites[x].name)\n",
    "    compounds = compounds.map(lambda x: x.split(\"C2H3O3\")[0])\n",
    "    compounds = compounds.map(lambda x: x.split(\"C5H6N2O2\")[0])\n",
    "    compounds = compounds.map(lambda x: x.split(\" CO2\")[0])\n",
    "    compounds = compounds.map(lambda x: x.split(\"C4H8O2\")[0])\n",
    "\n",
    "\n",
    "    steady_com_count = steady_com_count.reset_index().drop(\"Compound\",axis=1)\n",
    "    steady_com_count[\"Compound\"] = compounds\n",
    "    steady_com_count.set_index([\"Community\",\"Compound\"],inplace=True)\n",
    "    \n",
    "\n",
    "    # prepare dataframe for plot\n",
    "    all_compounds = steady_com_count.reset_index().groupby(\"Compound\").count()[\"mass_rate\"]\n",
    "    all_compounds=all_compounds[all_compounds>1].index ## NB only include exchanges that occur 1 time or more. \n",
    "    steady_com_count = steady_com_count.loc[(slice(None),list(all_compounds)),:]\n",
    "    steady_com_count_for_plot = steady_com_count[\"mass_rate\"].unstack(level=0).fillna(0)\n",
    "\n",
    "\n",
    "    #Sort by the sum of the columns\n",
    "    steady_com_count_for_plot = steady_com_count_for_plot.transpose()[steady_com_count_for_plot.sum(axis=1).sort_values().index].transpose()\n",
    "    \n",
    "    \"\"\"\n",
    "    communityid2name_dict = {\"CD_A\":\"Compost digestate - Avicel\",\n",
    "    \"CD_P\":\"Compost digestate - PASC\",\n",
    "    \"CD_X\":\"Compost digestate - Xylan\",\n",
    "    \"CM_A\":\"Cow manure - Avicel\",\n",
    "    \"CM_P\":\"Cow manure - PASC\",\n",
    "    \"CM_X\":\"Cow manure - Xylan\",\n",
    "    \"M_P\":\"Marshland soil - PASC\",\n",
    "    \"M_X\":\"Marshland soil - Xylan\",\n",
    "    }\n",
    "    \"\"\"\n",
    "\n",
    "    steady_com_count_for_plot = steady_com_count_for_plot.transpose().reset_index()\n",
    "    #steady_com_count_for_plot[\"Community\"]=steady_com_count_for_plot[\"Community\"].map(lambda x:communityid2name_dict[x])\n",
    "    steady_com_count_for_plot = steady_com_count_for_plot.set_index(\"Community\").transpose()\n",
    "\n",
    "    ax = steady_com_count_for_plot.plot(kind=\"bar\",figsize=(15,6),cmap=cmap_local,fontsize=12, rot=90)\n",
    "    plt.legend(fontsize=10)\n",
    "    plt.xlabel('Compound', fontsize=20)\n",
    "    plt.title(\"# of interactions\",fontsize=20)\n",
    "    if fig_title:\n",
    "        plt.savefig(fig_title,bbox_inches='tight')\n",
    "    plt.show()"
   ]
  },
  {
   "cell_type": "code",
   "execution_count": null,
   "id": "fa1c5d5d-666b-4699-9728-a8816e4c96c2",
   "metadata": {},
   "outputs": [],
   "source": [
    "plot_interractions(steadiercom_crossfeeding_basic,selected_compounds=True)\n"
   ]
  },
  {
   "cell_type": "code",
   "execution_count": null,
   "id": "6d50bc1d-37ca-4cb4-8cca-0fd311dc5290",
   "metadata": {},
   "outputs": [],
   "source": [
    "plot_interractions(steadiercom_crossfeeding_basic,selected_compounds=False)\n",
    "#plt.savefig(\"all_interractions.png\")"
   ]
  },
  {
   "cell_type": "code",
   "execution_count": null,
   "id": "84b85f18-4656-4a5a-b41c-cb582faa930c",
   "metadata": {},
   "outputs": [],
   "source": [
    "plot_interractions(steadiercom_crossfeeding_basic.loc[([\"CD_A\",\"CM_A\"],slice(None)),:].copy(),selected_compounds=False)\n",
    "#plt.savefig(\"Avicel_interractions.png\")"
   ]
  },
  {
   "cell_type": "code",
   "execution_count": null,
   "id": "0c6e0ac9-60d8-41e0-8e4c-edf435e3def6",
   "metadata": {},
   "outputs": [],
   "source": [
    "plot_interractions(steadiercom_crossfeeding_basic.loc[([\"CD_P\",\"CM_P\",\"M_P\"],slice(None)),:].copy(),selected_compounds=False)\n",
    "#plt.savefig(\"PASC_interractions.png\")"
   ]
  },
  {
   "cell_type": "code",
   "execution_count": null,
   "id": "c4b808cc-e8e6-4985-8db2-e61a11106d28",
   "metadata": {},
   "outputs": [],
   "source": [
    "plot_interractions(steadiercom_crossfeeding_basic.loc[([\"CD_X\",\"CM_X\",\"M_X\"],slice(None)),:].copy(),selected_compounds=False)\n",
    "#plt.savefig(\"xylan_interractions.png\")"
   ]
  },
  {
   "cell_type": "markdown",
   "id": "8752ee43-5b43-47c2-b7a4-274b51f953b1",
   "metadata": {},
   "source": [
    "### Consumption plot "
   ]
  },
  {
   "cell_type": "code",
   "execution_count": null,
   "id": "756c2205-c848-4bf2-868f-cf0b051316d5",
   "metadata": {
    "tags": []
   },
   "outputs": [],
   "source": [
    "def production_consumption_plot(steadiercom_crossfeeding_basic,production=True,title=None):\n",
    "    cmap_local = colors.ListedColormap([cmap_lut[community] for community in steadiercom_crossfeeding_basic.index.get_level_values(0).unique()])\n",
    "   \n",
    "    if production:\n",
    "        steadiercom_crossfeeding_basic = steadiercom_crossfeeding_basic[steadiercom_crossfeeding_basic.receiver.isna()]\n",
    "    else:\n",
    "        steadiercom_crossfeeding_basic = steadiercom_crossfeeding_basic[steadiercom_crossfeeding_basic.donor.isna()]\n",
    "        \n",
    "    steadiercom_crossfeeding_basic = steadiercom_crossfeeding_basic.drop([\"donor\",\"receiver\"],axis=1).set_index(\"compound\",append=True).droplevel(1)\n",
    "    steadiercom_crossfeeding_basic.index.names=[\"community\",\"compound\"]\n",
    "\n",
    "    #**Remove redundant information**\n",
    "    compounds = steadiercom_crossfeeding_basic.reset_index()[\"compound\"]\n",
    "    compounds = compounds.map(lambda x: model_uni.metabolites[x].name)\n",
    "    compounds = compounds.map(lambda x: x.split(\"C2H3O3\")[0])\n",
    "    compounds = compounds.map(lambda x: x.split(\"C5H6N2O2\")[0])\n",
    "    compounds = compounds.map(lambda x: x.split(\" CO2\")[0])\n",
    "    compounds = compounds.map(lambda x: x.split(\"C4H8O2\")[0])\n",
    "\n",
    "    steadiercom_crossfeeding_basic = steadiercom_crossfeeding_basic.reset_index().drop(\"compound\",axis=1)\n",
    "    steadiercom_crossfeeding_basic[\"compound\"] = compounds\n",
    "\n",
    "    \n",
    "    steadiercom_crossfeeding_basic = steadiercom_crossfeeding_basic.reset_index().groupby([\"community\",\"compound\"]).sum()[\"mass_rate\"].unstack().fillna(0).transpose()\n",
    "    steadiercom_crossfeeding_basic = steadiercom_crossfeeding_basic.transpose()[steadiercom_crossfeeding_basic.sum(axis=1).sort_values().index].transpose()\n",
    "    ax = steadiercom_crossfeeding_basic.loc[steadiercom_crossfeeding_basic.sum(axis=1)>1e-10,:].plot(kind=\"bar\",figsize=(20,10),cmap=cmap_local,ylabel=\"Flux rate [g/(h*g$_{bio}$)]\",ylim=(0,0.05))\n",
    "    return ax.get_figure()"
   ]
  },
  {
   "cell_type": "code",
   "execution_count": null,
   "id": "7a027a5b-438c-4d12-83cd-ca3dcf4b338b",
   "metadata": {},
   "outputs": [],
   "source": [
    "steadiercom_crossfeeding_basic=pd.read_csv(\"../output/steadiercom_single_sim_0.1.3/steadiercom_crossfeeding_basic.tsv\",sep=\"\\t\",index_col=[0,1])\n"
   ]
  },
  {
   "cell_type": "code",
   "execution_count": null,
   "id": "f5e41673-aa46-4a13-96aa-af74121298be",
   "metadata": {},
   "outputs": [],
   "source": [
    "fig = production_consumption_plot(steadiercom_crossfeeding_basic,production=False)\n",
    "#fig.savefig(\"figures_for_meeting/consumption_all.png\",bbox_inches='tight')"
   ]
  },
  {
   "cell_type": "code",
   "execution_count": null,
   "id": "30a8316c-3881-4ee8-b0a2-c05476c614d3",
   "metadata": {},
   "outputs": [],
   "source": [
    "fig = production_consumption_plot(steadiercom_crossfeeding_basic.loc[([\"CD_A\",\"CM_A\"],slice(None)),:].copy(),production=False)\n",
    "#fig.savefig(\"figures_for_meeting/consumption_Avicel.png\",bbox_inches='tight')"
   ]
  },
  {
   "cell_type": "code",
   "execution_count": null,
   "id": "38da5bc8-2557-491d-91a6-2ce67436890b",
   "metadata": {},
   "outputs": [],
   "source": [
    "fig = production_consumption_plot(steadiercom_crossfeeding_basic.loc[([\"CD_P\",\"CM_P\",\"M_P\"],slice(None)),:].copy(),production=False)\n",
    "#fig.savefig(\"figures_for_meeting/consumption_PASC.png\",bbox_inches='tight')"
   ]
  },
  {
   "cell_type": "code",
   "execution_count": null,
   "id": "83a83f7f-2169-4fdf-9d3f-6fa5ed32e645",
   "metadata": {},
   "outputs": [],
   "source": [
    "fig = production_consumption_plot(steadiercom_crossfeeding_basic.loc[([\"CD_X\",\"CM_X\",\"M_X\"],slice(None)),:].copy(),production=False)\n",
    "#fig.savefig(\"figures_for_meeting/consumption_Xylan.png\",bbox_inches='tight')"
   ]
  },
  {
   "cell_type": "markdown",
   "id": "02fa377e-b82f-4d1a-9093-3299705c1f5e",
   "metadata": {},
   "source": [
    "## Production"
   ]
  },
  {
   "cell_type": "code",
   "execution_count": null,
   "id": "3048e295-f644-4c09-80da-333a696de7c5",
   "metadata": {},
   "outputs": [],
   "source": [
    "fig = production_consumption_plot(steadiercom_crossfeeding_basic,production=True)\n",
    "#fig.savefig(\"figures_for_meeting/production_all.png\",bbox_inches='tight')"
   ]
  },
  {
   "cell_type": "code",
   "execution_count": null,
   "id": "88140a66-dbeb-4d16-96fd-83acf54bab14",
   "metadata": {},
   "outputs": [],
   "source": [
    "fig = production_consumption_plot(steadiercom_crossfeeding_basic.loc[([\"CD_A\",\"CM_A\"],slice(None)),:].copy(),production=True)\n",
    "#fig.savefig(\"figures_for_meeting/production_Avicel.png\",bbox_inches='tight')"
   ]
  },
  {
   "cell_type": "code",
   "execution_count": null,
   "id": "1edc10ad-8174-4736-a831-48dda2de0ce6",
   "metadata": {},
   "outputs": [],
   "source": [
    "fig = production_consumption_plot(steadiercom_crossfeeding_basic.loc[([\"CD_P\",\"CM_P\",\"M_P\"],slice(None)),:].copy(),production=True)\n",
    "#fig.savefig(\"figures_for_meeting/production_PASC.png\",bbox_inches='tight')"
   ]
  },
  {
   "cell_type": "code",
   "execution_count": null,
   "id": "51f4f832-0fb3-46f8-a653-3decf35baf0d",
   "metadata": {},
   "outputs": [],
   "source": [
    "fig = production_consumption_plot(steadiercom_crossfeeding_basic.loc[([\"CD_X\",\"CM_X\",\"M_X\"],slice(None)),:].copy(),production=True)\n",
    "#fig.savefig(\"figures_for_meeting/production_Xylan.png\",bbox_inches='tight')"
   ]
  },
  {
   "cell_type": "markdown",
   "id": "395d10d8-bd2d-497a-84f1-09003ee11a99",
   "metadata": {},
   "source": [
    "## False positive/false negative"
   ]
  },
  {
   "cell_type": "code",
   "execution_count": null,
   "id": "b665447d-e9c5-4cce-baf2-0a0d976191db",
   "metadata": {},
   "outputs": [],
   "source": [
    "steadier_com_production_basic = pd.read_csv(\"../output/steadiercom_single_sim_0.1.3/steadier_com_production_basic_g.tsv\",index_col=0,sep=\"\\t\")\n",
    "steadier_com_production_basic = steadier_com_production_basic.iloc[2:,:]\n",
    "steadier_com_production_basic = steadier_com_production_basic.map(float)"
   ]
  },
  {
   "cell_type": "code",
   "execution_count": null,
   "id": "2f895ad1-f481-426f-bb14-130d137526c8",
   "metadata": {},
   "outputs": [],
   "source": [
    "statistics = {}\n",
    "TP_mets = {}\n",
    "\n",
    "\n",
    "\n",
    "for type_,steadier_com_prod in {\"no_manipulation\":steadier_com_production_basic}.items():\n",
    "    statistics[type_] = {}\n",
    "    TP_mets[type_] = {}\n",
    "    for community_id in steadier_com_prod.columns:\n",
    "        statistics[type_][community_id]={}\n",
    "\n",
    "        mets_sim = steadier_com_prod[community_id][steadier_com_prod[community_id]>1e-8]##NB Check cutoff value here. What is meassurable?\n",
    "        mets_sim =[met.split(\"_\")[1] for met in mets_sim.index.values]\n",
    "        if \"h\" in mets_sim:\n",
    "            mets_sim.remove(\"h\")\n",
    "            \n",
    "        if \"h2o\" in mets_sim:\n",
    "            mets_sim.remove(\"h2o\")\n",
    "        \n",
    "        mets_exp = [string.split(\"_\")[2] for string in community_production[community_id].keys()]\n",
    "\n",
    "        TP = set(mets_exp).intersection(set(mets_sim))\n",
    "        FP = set(mets_sim)-TP\n",
    "        FN = set(mets_exp)-TP\n",
    "        \n",
    "        TP_mets[type_][community_id]=TP\n",
    "\n",
    "        precision = len(TP)/(len(TP)+len(FP))\n",
    "        sensitivity = len(TP)/(len(TP)+len(FN))\n",
    "\n",
    "        statistics[type_][community_id][\"precision\"]=precision\n",
    "        statistics[type_][community_id][\"sensitivity\"]=sensitivity"
   ]
  },
  {
   "cell_type": "markdown",
   "id": "5e05fdc2-9d15-46f5-ac28-516c7b197d60",
   "metadata": {},
   "source": [
    "**Relatively high amount of false positive (low precision) and lower amount of false negative (higher sensitivity)**"
   ]
  },
  {
   "cell_type": "code",
   "execution_count": null,
   "id": "2905d0ad-3284-4911-ac7d-6103cf875379",
   "metadata": {},
   "outputs": [],
   "source": [
    "pd.DataFrame({(outerKey, innerKey): values for outerKey, innerDict in statistics.items() for innerKey, values in innerDict.items()}).transpose()"
   ]
  },
  {
   "cell_type": "markdown",
   "id": "e4e0b508-ba41-45f7-95b5-dba9ee7776ed",
   "metadata": {},
   "source": [
    "## How close are the community members to the protein constraints set?"
   ]
  },
  {
   "cell_type": "markdown",
   "id": "dacef316-a691-419a-b927-9b41ab080016",
   "metadata": {},
   "source": [
    "1. Find sum of all fluxes. \n",
    "2. Compare with\n",
    "\n",
    "$$\\large \\sum_i{v_i} < \\frac{abundance(1 - \\mu * w_r)}{w_e},$$\n",
    "\n",
    "for each model"
   ]
  },
  {
   "cell_type": "code",
   "execution_count": null,
   "id": "cbb3aade-ad6a-4f6e-8654-429c04e9bb5c",
   "metadata": {},
   "outputs": [],
   "source": [
    "steadiercom_crossfeeding_basic=pd.read_csv(\"../output/steadiercom_single_sim_0.1.3/steadiercom_crossfeeding_basic.tsv\",sep=\"\\t\",index_col=(0,1))\n",
    "\n",
    "phyla_groups,mag2phyla_dict,MAGs_steadycom_dict = steadier_data_func.find_members(steadiercom_crossfeeding_basic,all_mags_paper)"
   ]
  },
  {
   "cell_type": "code",
   "execution_count": null,
   "id": "9c55fc75-9f76-431f-9f85-baee310e3927",
   "metadata": {},
   "outputs": [],
   "source": [
    "CD_A = steadiercom_sols[\"CD_A\"]\n",
    "\n",
    "allocation_constraint_sim = {}\n",
    "\n",
    "for community_member in CD_A.community.organisms.keys():\n",
    "    community_member_fluxes = {rxn:value for rxn,value in steadiercom_sols[\"CD_A\"].values.items() if (rxn.endswith(community_member) and \"growth\" not in rxn )}\n",
    "    community_member_fluxes_enzymatic = {rxn:value for rxn,value in community_member_fluxes.items() \n",
    "                                         if GEMs_dict[MAGs_steadycom_dict[community_member]].reactions[rxn.replace(\"_\"+community_member,\"\")].gpr is not None} # Check that GPR is not none\n",
    "                                         \n",
    "    #community_member_fluxes_enzymatic =  {rxn:value for rxn,value in community_member_fluxes_enzymatic.items()\n",
    "    #                                      if \"G_spontaneous\" not in GEMs_dict[MAGs_steadycom_dict[community_member]].reactions[rxn.replace(\"_\"+community_member,\"\")].gpr.get_genes()} # Check that rxn is not spontaneous\n",
    "    \n",
    "    \n",
    "    sum_flux_all = pd.Series(community_member_fluxes).abs().sum()\n",
    "    sum_flux_enzymatic = pd.Series(community_member_fluxes_enzymatic).abs().sum()\n",
    "    \n",
    "    abundance = CD_A.abundance[community_member]\n",
    "    \n",
    "    \n",
    "    constraint_sum_flux = abundance*(1 - 0.0089*0.2)/0.002\n",
    "    \n",
    "    allocation_constraint_sim[community_member]={\"sum_flux_all\":sum_flux_all,\"sum_flux_enzymatic\":sum_flux_enzymatic,\"constraint_sum_flux\":constraint_sum_flux,\"abundance_sim\":abundance}"
   ]
  },
  {
   "cell_type": "code",
   "execution_count": null,
   "id": "203d80c1-d661-49d6-949a-2d05ccc2a240",
   "metadata": {},
   "outputs": [],
   "source": [
    "pd.DataFrame(allocation_constraint_sim).transpose().sort_values(\"abundance_sim\")"
   ]
  },
  {
   "cell_type": "code",
   "execution_count": null,
   "id": "e5c9782f-068b-46f8-a79c-c4e9067ba88f",
   "metadata": {},
   "outputs": [],
   "source": [
    "mag2phyla_dict[\"CH13-bin.2\"]"
   ]
  },
  {
   "cell_type": "code",
   "execution_count": null,
   "id": "9e2d48a2-5562-476e-a221-d498529dd2be",
   "metadata": {},
   "outputs": [],
   "source": [
    "all_fluxes = pd.Series(community_member_fluxes)\n",
    "all_fluxes = all_fluxes[ (all_fluxes.index.str.contains(\"CH13_bin_2\")) & (all_fluxes.abs()>0) ].abs().sort_values(ascending=False)\n",
    "top_40_all_fluxes = all_fluxes.head(40)\n",
    "\n",
    "enzymatic_fluxes = pd.Series(community_member_fluxes_enzymatic)\n",
    "\n",
    "def highlight_rows(s, match_list):\n",
    "    \"\"\"Highlight rows based on a list of string matches in the index.\"\"\"\n",
    "    return ['background-color: red' if any(m in s.name for m in match_list) else '' for _ in s]\n",
    "\n",
    "pd.DataFrame(top_40_all_fluxes).style.apply(highlight_rows,match_list=top_40_all_fluxes[~top_40_all_fluxes.index.isin(enzymatic_fluxes.index)].index,axis=1)"
   ]
  }
 ],
 "metadata": {
  "kernelspec": {
   "display_name": "MAGs_RecAndAn2",
   "language": "python",
   "name": "mags_recandan2"
  },
  "language_info": {
   "codemirror_mode": {
    "name": "ipython",
    "version": 3
   },
   "file_extension": ".py",
   "mimetype": "text/x-python",
   "name": "python",
   "nbconvert_exporter": "python",
   "pygments_lexer": "ipython3",
   "version": "3.9.13"
  }
 },
 "nbformat": 4,
 "nbformat_minor": 5
}

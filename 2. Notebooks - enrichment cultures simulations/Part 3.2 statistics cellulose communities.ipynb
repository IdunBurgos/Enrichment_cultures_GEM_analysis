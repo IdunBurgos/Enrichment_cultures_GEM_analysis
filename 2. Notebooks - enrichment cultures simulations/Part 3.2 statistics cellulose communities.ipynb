{
 "cells": [
  {
   "cell_type": "markdown",
   "id": "1c38950f-7ec8-4f64-81ca-36df8f5693f6",
   "metadata": {
    "tags": []
   },
   "source": [
    "# Statistics\n",
    "\n",
    "\n",
    "**IDEAS**\n",
    "- SMETANA\n",
    "    - Find likelyhood that a community member from family X is dependent on a community member in family Y.\n",
    "    - Find likelyhood that a community member from family X is dependent on a compound A.\n",
    "\n",
    "- SteadierCOM\n",
    "    - No statistics?"
   ]
  },
  {
   "cell_type": "code",
   "execution_count": 111,
   "id": "b8e94fda-0181-48d5-9b2c-af7cad0a5586",
   "metadata": {},
   "outputs": [],
   "source": [
    "import math\n",
    "\n",
    "import pandas as pd\n",
    "from molmass import Formula\n",
    "import reframed"
   ]
  },
  {
   "cell_type": "code",
   "execution_count": 112,
   "id": "1dcbc1be-9c78-417f-bfc5-655465b122f8",
   "metadata": {},
   "outputs": [],
   "source": [
    "import sys\n",
    "sys.path.append(\"../functions/\")\n",
    "import general_functions as general_func\n",
    "\n",
    "import colors_MAGs\n",
    "import scipy.stats as stats"
   ]
  },
  {
   "cell_type": "code",
   "execution_count": 113,
   "id": "c2bf5f9c-9a84-439f-bfa5-0d1812fde8ed",
   "metadata": {},
   "outputs": [],
   "source": [
    "import numpy as np"
   ]
  },
  {
   "cell_type": "markdown",
   "id": "5d670260-e7e6-4ec1-80e9-7e93d8f4f15b",
   "metadata": {},
   "source": [
    "### Load universal model"
   ]
  },
  {
   "cell_type": "code",
   "execution_count": 114,
   "id": "c2eb8f02-76ca-46bd-ad01-c2544cc1dd61",
   "metadata": {},
   "outputs": [],
   "source": [
    "model_uni = reframed.load_cbmodel(\"/Users/idunmariaburgos/universal_model_extension/output/universe_bacteria.xml\")"
   ]
  },
  {
   "cell_type": "markdown",
   "id": "462a2ca9-969f-47bb-a6b7-aa20310410f3",
   "metadata": {},
   "source": [
    "### Load data "
   ]
  },
  {
   "cell_type": "code",
   "execution_count": 115,
   "id": "63c9b039-b2ac-410a-b109-59e18e52d810",
   "metadata": {},
   "outputs": [],
   "source": [
    "all_mags_paper = general_func.read_allmags_data()"
   ]
  },
  {
   "cell_type": "code",
   "execution_count": 116,
   "id": "66005de7-0dab-47a6-a94b-d8cd8e0aa371",
   "metadata": {},
   "outputs": [],
   "source": [
    "SC1_C = pd.read_csv(\"../output/steadiercom_sample_0.1.3/results/results_99_SC1_C.tsv\",sep=\"\\t\")\n",
    "SC2_C = pd.read_csv(\"../output/steadiercom_sample_0.1.3/results/results_99_SC2_C.tsv\",sep=\"\\t\")\n",
    "#SC1_X = pd.read_csv(\"../output/steadiercom_sample_0.1.3/results/results_99_SC1_X.tsv\",sep=\"\\t\")\n",
    "\n",
    "steadier_sample = pd.concat([SC1_C,SC2_C])#,SC1_X])\n",
    "steadier_sample = steadier_sample[(steadier_sample.frequency>0.1) & (steadier_sample.rate>1e-6)]"
   ]
  },
  {
   "cell_type": "code",
   "execution_count": 117,
   "id": "a274f04f-f6a1-43d8-ab28-b0fd938d543b",
   "metadata": {},
   "outputs": [],
   "source": [
    "steadier_sample_cross = steadier_sample[(steadier_sample.donor!=\"environment\") & (steadier_sample.receiver!=\"environment\") ].copy()"
   ]
  },
  {
   "cell_type": "markdown",
   "id": "1e13f64c-7d11-4278-8dff-f9e91d5fdea9",
   "metadata": {},
   "source": [
    "### Prepare to process data"
   ]
  },
  {
   "cell_type": "code",
   "execution_count": 118,
   "id": "678bbe76-dd66-43af-a314-0c1fc58b88db",
   "metadata": {},
   "outputs": [],
   "source": [
    "chebi_lut, chebi_interesting, chebi_colors_ser = colors_MAGs.chebi_rxn_color_func(rxn_based=False)"
   ]
  },
  {
   "cell_type": "markdown",
   "id": "f5ee6fee-d135-48ad-a741-50c44d82a99c",
   "metadata": {},
   "source": [
    "**Change names of family for readability and better grouping**"
   ]
  },
  {
   "cell_type": "code",
   "execution_count": 119,
   "id": "a2521342-ae6a-486b-ba6d-4c068d4c8608",
   "metadata": {},
   "outputs": [],
   "source": [
    "all_mags_paper_reduced = all_mags_paper[~(all_mags_paper.Substrate==\"Xylan\")].copy()\n",
    "\n",
    "all_mags_paper_reduced[all_mags_paper_reduced[\"new_coverage\"]>10][[\"Source\",\"Substrate\",\"Family\",\"new_coverage\"]].sort_values([\"Source\",\"Substrate\"])\n",
    "\n",
    "all_mags_paper_reduced[\"Family\"] = all_mags_paper.apply(lambda row: \"f_\"+row.Family,axis=1)\n",
    "\n",
    "total_members_family = all_mags_paper_reduced.groupby(\"Family\").count()[\"Source\"].to_dict()\n",
    "all_mags_paper_reduced[\"Family\"] = all_mags_paper_reduced.apply(lambda row: row.Family if total_members_family[row.Family]>1 else \"Other\",axis=1)\n"
   ]
  },
  {
   "cell_type": "code",
   "execution_count": 120,
   "id": "849359c1-e89b-4741-a23e-6a920306db76",
   "metadata": {},
   "outputs": [],
   "source": [
    "def mag2family(all_mags_paper):  \n",
    "    \n",
    "    family_groups = all_mags_paper.groupby(\"Family\").groups\n",
    "    mag2family_dict = {mag:family for family,mags in family_groups.items() for mag in mags}\n",
    "    \n",
    "    return family_groups,mag2family_dict"
   ]
  },
  {
   "cell_type": "markdown",
   "id": "10772df8-9071-4312-af6b-79475b2ce856",
   "metadata": {},
   "source": [
    "**Create dictionaries to translate components into larger groups - MAG-> family, compound-> super_class**"
   ]
  },
  {
   "cell_type": "code",
   "execution_count": 121,
   "id": "3873b020-9a1f-49a2-957b-29a6a8b97a00",
   "metadata": {},
   "outputs": [],
   "source": [
    "MAGs_steady_com = set(list(steadier_sample_cross.donor.values)+list(steadier_sample_cross.receiver.values))\n",
    "\n",
    "MAG2sour_sub_id = pd.read_csv(\"../output/MAG2community_id.tsv\",sep=\"\\t\",header=None)\n",
    "MAG2sour_sub_id.columns=[\"MAG\",\"community_id\"]\n",
    "\n",
    "met2superclass_dict = pd.read_csv(\"../output/met_chebi_class.tsv\",sep=\"\\t\",index_col=0)[\"self defined super class\"].to_dict()\n",
    "\n",
    "family_groups,mag2family_dict = mag2family(all_mags_paper_reduced)"
   ]
  },
  {
   "cell_type": "code",
   "execution_count": 122,
   "id": "15bde1be-24cc-43e9-87e1-21795e41e6e0",
   "metadata": {},
   "outputs": [],
   "source": [
    "def family_donor(row):\n",
    "    if row.donor==\"environment\":\n",
    "        return \"environment\"\n",
    "    else:\n",
    "        return mag2family_dict[row.donor]\n",
    "\n",
    "\n",
    "def family_receiver(row):\n",
    "    if row.receiver==\"environment\":\n",
    "        return \"environment\"\n",
    "    else:\n",
    "        return mag2family_dict[row.receiver]\n"
   ]
  },
  {
   "cell_type": "code",
   "execution_count": 123,
   "id": "2ae900fd-0635-4700-ba20-adee0f8aaa79",
   "metadata": {},
   "outputs": [],
   "source": [
    "def met2metname(met):\n",
    "    met_name = model_uni.metabolites[met].name\n",
    "    return met_name"
   ]
  },
  {
   "cell_type": "markdown",
   "id": "b862939d-3f25-473e-a792-6fa1dfe6c4d0",
   "metadata": {},
   "source": [
    "### Process data"
   ]
  },
  {
   "cell_type": "markdown",
   "id": "fa882c99-e243-4ab6-86a8-5006d511e068",
   "metadata": {},
   "source": [
    "**All compounds**"
   ]
  },
  {
   "cell_type": "code",
   "execution_count": 124,
   "id": "02f9218e-c72f-4ff5-901f-25b67ffb1f58",
   "metadata": {},
   "outputs": [],
   "source": [
    "steadier_sample.loc[:,\"family_donor\"] = steadier_sample.apply(family_donor,axis=1).copy()\n",
    "steadier_sample.loc[:,\"family_receiver\"] = steadier_sample.apply(family_receiver,axis=1).copy()\n",
    "steadier_sample = steadier_sample[steadier_sample.compound.isin(met2superclass_dict.keys())].copy()\n",
    "steadier_sample.loc[:,\"super_class\"] = steadier_sample.apply(lambda x: met2superclass_dict[x.compound],axis=1)\n",
    "\n",
    "compounds = steadier_sample[\"compound\"].map(met2metname)\n",
    "steadier_sample.drop(\"compound\",axis=1,inplace=True)\n",
    "steadier_sample.loc[:,\"compound\"] = compounds\n"
   ]
  },
  {
   "cell_type": "markdown",
   "id": "5e14c501-dfca-49bc-80d8-8ecf0301a7f6",
   "metadata": {},
   "source": [
    "**Compounds cross-fed**"
   ]
  },
  {
   "cell_type": "code",
   "execution_count": 125,
   "id": "1e42df2a-ff33-4088-80af-3ef70c53d428",
   "metadata": {
    "tags": []
   },
   "outputs": [],
   "source": [
    "steadier_sample_cross.loc[:,\"family_donor\"] = steadier_sample_cross.apply(family_donor,axis=1).copy()\n",
    "steadier_sample_cross.loc[:,\"family_receiver\"] = steadier_sample_cross.apply(family_receiver,axis=1).copy()\n",
    "steadier_sample_cross = steadier_sample_cross[steadier_sample_cross.compound.isin(met2superclass_dict.keys())].copy()\n",
    "steadier_sample_cross.loc[:,\"super_class\"] = steadier_sample_cross.apply(lambda x: met2superclass_dict[x.compound],axis=1)\n",
    "\n",
    "compounds = steadier_sample_cross[\"compound\"].map(met2metname)\n",
    "steadier_sample_cross.drop(\"compound\",axis=1,inplace=True)\n",
    "steadier_sample_cross.loc[:,\"compound\"] = compounds\n",
    "\n",
    "# FILTERS OUT UNINTERESTING COMPOUNDS\n",
    "steadier_sample_cross = steadier_sample_cross[steadier_sample_cross.super_class.isin(chebi_lut.keys())].copy()\n",
    "\n",
    "steadier_sample_cross[\"mass_rate*frequency\"]=steadier_sample_cross[\"mass_rate\"]*steadier_sample_cross[\"frequency\"]"
   ]
  },
  {
   "cell_type": "code",
   "execution_count": 126,
   "id": "d81f4ecf-5097-4ac1-aa62-ef3c2d8e0d6d",
   "metadata": {},
   "outputs": [
    {
     "data": {
      "text/html": [
       "<div>\n",
       "<style scoped>\n",
       "    .dataframe tbody tr th:only-of-type {\n",
       "        vertical-align: middle;\n",
       "    }\n",
       "\n",
       "    .dataframe tbody tr th {\n",
       "        vertical-align: top;\n",
       "    }\n",
       "\n",
       "    .dataframe thead th {\n",
       "        text-align: right;\n",
       "    }\n",
       "</style>\n",
       "<table border=\"1\" class=\"dataframe\">\n",
       "  <thead>\n",
       "    <tr style=\"text-align: right;\">\n",
       "      <th></th>\n",
       "      <th>donor</th>\n",
       "      <th>receiver</th>\n",
       "      <th>mass_rate</th>\n",
       "      <th>rate</th>\n",
       "      <th>frequency</th>\n",
       "      <th>community</th>\n",
       "      <th>medium</th>\n",
       "      <th>family_donor</th>\n",
       "      <th>family_receiver</th>\n",
       "      <th>super_class</th>\n",
       "      <th>compound</th>\n",
       "      <th>mass_rate*frequency</th>\n",
       "    </tr>\n",
       "  </thead>\n",
       "  <tbody>\n",
       "    <tr>\n",
       "      <th>13</th>\n",
       "      <td>CH15-bin.0</td>\n",
       "      <td>CH15-bin.7</td>\n",
       "      <td>4.921516e-03</td>\n",
       "      <td>0.027318</td>\n",
       "      <td>0.27</td>\n",
       "      <td>CD_P</td>\n",
       "      <td>SC1_C</td>\n",
       "      <td>f_Treponemataceae</td>\n",
       "      <td>f_Sphaerochaetaceae</td>\n",
       "      <td>simple sugars</td>\n",
       "      <td>D-Glucose</td>\n",
       "      <td>1.328809e-03</td>\n",
       "    </tr>\n",
       "    <tr>\n",
       "      <th>33</th>\n",
       "      <td>CH13-bin.11</td>\n",
       "      <td>CH13-bin.4</td>\n",
       "      <td>2.822338e-03</td>\n",
       "      <td>0.008245</td>\n",
       "      <td>0.11</td>\n",
       "      <td>CD_A</td>\n",
       "      <td>SC1_C</td>\n",
       "      <td>f_Desulfovibrionaceae</td>\n",
       "      <td>f_Bacteroidaceae</td>\n",
       "      <td>oligosaccharides</td>\n",
       "      <td>Cellobiose</td>\n",
       "      <td>3.104572e-04</td>\n",
       "    </tr>\n",
       "    <tr>\n",
       "      <th>36</th>\n",
       "      <td>CH13-bin.14</td>\n",
       "      <td>CH13-bin.25</td>\n",
       "      <td>2.705991e-03</td>\n",
       "      <td>0.015020</td>\n",
       "      <td>0.20</td>\n",
       "      <td>CD_A</td>\n",
       "      <td>SC1_C</td>\n",
       "      <td>f_Lachnospiraceae</td>\n",
       "      <td>f_Sphaerochaetaceae</td>\n",
       "      <td>simple sugars</td>\n",
       "      <td>D-Glucose</td>\n",
       "      <td>5.411983e-04</td>\n",
       "    </tr>\n",
       "    <tr>\n",
       "      <th>39</th>\n",
       "      <td>CH15-bin.7</td>\n",
       "      <td>CH15-bin.8</td>\n",
       "      <td>2.435377e-03</td>\n",
       "      <td>0.013518</td>\n",
       "      <td>0.12</td>\n",
       "      <td>CD_P</td>\n",
       "      <td>SC1_C</td>\n",
       "      <td>f_Sphaerochaetaceae</td>\n",
       "      <td>f_Desulfovibrionaceae</td>\n",
       "      <td>simple sugars</td>\n",
       "      <td>D-Glucose</td>\n",
       "      <td>2.922452e-04</td>\n",
       "    </tr>\n",
       "    <tr>\n",
       "      <th>41</th>\n",
       "      <td>CH15-bin.23</td>\n",
       "      <td>CH15-bin.8</td>\n",
       "      <td>2.385105e-03</td>\n",
       "      <td>0.013239</td>\n",
       "      <td>0.17</td>\n",
       "      <td>CD_P</td>\n",
       "      <td>SC1_C</td>\n",
       "      <td>Other</td>\n",
       "      <td>f_Desulfovibrionaceae</td>\n",
       "      <td>simple sugars</td>\n",
       "      <td>D-Glucose</td>\n",
       "      <td>4.054678e-04</td>\n",
       "    </tr>\n",
       "    <tr>\n",
       "      <th>...</th>\n",
       "      <td>...</td>\n",
       "      <td>...</td>\n",
       "      <td>...</td>\n",
       "      <td>...</td>\n",
       "      <td>...</td>\n",
       "      <td>...</td>\n",
       "      <td>...</td>\n",
       "      <td>...</td>\n",
       "      <td>...</td>\n",
       "      <td>...</td>\n",
       "      <td>...</td>\n",
       "      <td>...</td>\n",
       "    </tr>\n",
       "    <tr>\n",
       "      <th>1554</th>\n",
       "      <td>CH7-bin.8</td>\n",
       "      <td>CH7-bin.1</td>\n",
       "      <td>3.864340e-08</td>\n",
       "      <td>0.000001</td>\n",
       "      <td>0.69</td>\n",
       "      <td>CM_P</td>\n",
       "      <td>SC2_C</td>\n",
       "      <td>f_Sphaerochaetaceae</td>\n",
       "      <td>Other</td>\n",
       "      <td>gases</td>\n",
       "      <td>Hydrogen sulfide</td>\n",
       "      <td>2.666394e-08</td>\n",
       "    </tr>\n",
       "    <tr>\n",
       "      <th>1555</th>\n",
       "      <td>CH7-bin.15</td>\n",
       "      <td>CH7-bin.18</td>\n",
       "      <td>3.769972e-08</td>\n",
       "      <td>0.000001</td>\n",
       "      <td>0.24</td>\n",
       "      <td>CM_P</td>\n",
       "      <td>SC2_C</td>\n",
       "      <td>f_Sphaerochaetaceae</td>\n",
       "      <td>f_Desulfobulbaceae</td>\n",
       "      <td>gases</td>\n",
       "      <td>Hydrogen sulfide</td>\n",
       "      <td>9.047933e-09</td>\n",
       "    </tr>\n",
       "    <tr>\n",
       "      <th>1558</th>\n",
       "      <td>CH7-bin.9</td>\n",
       "      <td>CH7-bin.18</td>\n",
       "      <td>3.640885e-08</td>\n",
       "      <td>0.000001</td>\n",
       "      <td>0.24</td>\n",
       "      <td>CM_P</td>\n",
       "      <td>SC2_C</td>\n",
       "      <td>f_Lentimicrobiaceae</td>\n",
       "      <td>f_Desulfobulbaceae</td>\n",
       "      <td>gases</td>\n",
       "      <td>Hydrogen sulfide</td>\n",
       "      <td>8.738125e-09</td>\n",
       "    </tr>\n",
       "    <tr>\n",
       "      <th>1560</th>\n",
       "      <td>CH8-bin.14</td>\n",
       "      <td>CH8-bin.9</td>\n",
       "      <td>3.509299e-08</td>\n",
       "      <td>0.000001</td>\n",
       "      <td>0.66</td>\n",
       "      <td>CM_A</td>\n",
       "      <td>SC2_C</td>\n",
       "      <td>f_CAG-74</td>\n",
       "      <td>Other</td>\n",
       "      <td>gases</td>\n",
       "      <td>Hydrogen sulfide</td>\n",
       "      <td>2.316138e-08</td>\n",
       "    </tr>\n",
       "    <tr>\n",
       "      <th>1561</th>\n",
       "      <td>CH8-bin.29</td>\n",
       "      <td>CH8-bin.8</td>\n",
       "      <td>3.482131e-08</td>\n",
       "      <td>0.000001</td>\n",
       "      <td>0.25</td>\n",
       "      <td>CM_A</td>\n",
       "      <td>SC2_C</td>\n",
       "      <td>f_Dysgonomonadaceae</td>\n",
       "      <td>f_Desulfovibrionaceae</td>\n",
       "      <td>gases</td>\n",
       "      <td>Hydrogen sulfide</td>\n",
       "      <td>8.705327e-09</td>\n",
       "    </tr>\n",
       "  </tbody>\n",
       "</table>\n",
       "<p>934 rows × 12 columns</p>\n",
       "</div>"
      ],
      "text/plain": [
       "            donor     receiver     mass_rate      rate  frequency community  \\\n",
       "13     CH15-bin.0   CH15-bin.7  4.921516e-03  0.027318       0.27      CD_P   \n",
       "33    CH13-bin.11   CH13-bin.4  2.822338e-03  0.008245       0.11      CD_A   \n",
       "36    CH13-bin.14  CH13-bin.25  2.705991e-03  0.015020       0.20      CD_A   \n",
       "39     CH15-bin.7   CH15-bin.8  2.435377e-03  0.013518       0.12      CD_P   \n",
       "41    CH15-bin.23   CH15-bin.8  2.385105e-03  0.013239       0.17      CD_P   \n",
       "...           ...          ...           ...       ...        ...       ...   \n",
       "1554    CH7-bin.8    CH7-bin.1  3.864340e-08  0.000001       0.69      CM_P   \n",
       "1555   CH7-bin.15   CH7-bin.18  3.769972e-08  0.000001       0.24      CM_P   \n",
       "1558    CH7-bin.9   CH7-bin.18  3.640885e-08  0.000001       0.24      CM_P   \n",
       "1560   CH8-bin.14    CH8-bin.9  3.509299e-08  0.000001       0.66      CM_A   \n",
       "1561   CH8-bin.29    CH8-bin.8  3.482131e-08  0.000001       0.25      CM_A   \n",
       "\n",
       "     medium           family_donor        family_receiver       super_class  \\\n",
       "13    SC1_C      f_Treponemataceae    f_Sphaerochaetaceae     simple sugars   \n",
       "33    SC1_C  f_Desulfovibrionaceae       f_Bacteroidaceae  oligosaccharides   \n",
       "36    SC1_C      f_Lachnospiraceae    f_Sphaerochaetaceae     simple sugars   \n",
       "39    SC1_C    f_Sphaerochaetaceae  f_Desulfovibrionaceae     simple sugars   \n",
       "41    SC1_C                  Other  f_Desulfovibrionaceae     simple sugars   \n",
       "...     ...                    ...                    ...               ...   \n",
       "1554  SC2_C    f_Sphaerochaetaceae                  Other             gases   \n",
       "1555  SC2_C    f_Sphaerochaetaceae     f_Desulfobulbaceae             gases   \n",
       "1558  SC2_C    f_Lentimicrobiaceae     f_Desulfobulbaceae             gases   \n",
       "1560  SC2_C               f_CAG-74                  Other             gases   \n",
       "1561  SC2_C    f_Dysgonomonadaceae  f_Desulfovibrionaceae             gases   \n",
       "\n",
       "              compound  mass_rate*frequency  \n",
       "13           D-Glucose         1.328809e-03  \n",
       "33          Cellobiose         3.104572e-04  \n",
       "36           D-Glucose         5.411983e-04  \n",
       "39           D-Glucose         2.922452e-04  \n",
       "41           D-Glucose         4.054678e-04  \n",
       "...                ...                  ...  \n",
       "1554  Hydrogen sulfide         2.666394e-08  \n",
       "1555  Hydrogen sulfide         9.047933e-09  \n",
       "1558  Hydrogen sulfide         8.738125e-09  \n",
       "1560  Hydrogen sulfide         2.316138e-08  \n",
       "1561  Hydrogen sulfide         8.705327e-09  \n",
       "\n",
       "[934 rows x 12 columns]"
      ]
     },
     "execution_count": 126,
     "metadata": {},
     "output_type": "execute_result"
    }
   ],
   "source": [
    "steadier_sample_cross"
   ]
  },
  {
   "cell_type": "markdown",
   "id": "f59ac4d9-936e-4edc-bd4c-3f02c782ae3e",
   "metadata": {},
   "source": [
    "### Overview of groups"
   ]
  },
  {
   "cell_type": "code",
   "execution_count": 127,
   "id": "f7d4d5e6-a0e7-49f7-bb0a-179c6d2bfbfa",
   "metadata": {},
   "outputs": [
    {
     "data": {
      "text/plain": [
       "Other                    15\n",
       "f_Bacteroidaceae          4\n",
       "f_CAG-74                  2\n",
       "f_Desulfobulbaceae        2\n",
       "f_Desulfovibrionaceae    11\n",
       "f_Dysgonomonadaceae       4\n",
       "f_Fibrobacteraceae        2\n",
       "f_Lachnospiraceae         5\n",
       "f_Lentimicrobiaceae       2\n",
       "f_Sphaerochaetaceae       6\n",
       "f_Treponemataceae         4\n",
       "f_Verruco-01              3\n",
       "dtype: int64"
      ]
     },
     "execution_count": 127,
     "metadata": {},
     "output_type": "execute_result"
    }
   ],
   "source": [
    "pd.Series({family:len(mags) for family,mags in family_groups.items()})"
   ]
  },
  {
   "cell_type": "code",
   "execution_count": 128,
   "id": "ad807158-9046-4950-930c-8d07637881c9",
   "metadata": {},
   "outputs": [
    {
     "data": {
      "text/html": [
       "<div>\n",
       "<style scoped>\n",
       "    .dataframe tbody tr th:only-of-type {\n",
       "        vertical-align: middle;\n",
       "    }\n",
       "\n",
       "    .dataframe tbody tr th {\n",
       "        vertical-align: top;\n",
       "    }\n",
       "\n",
       "    .dataframe thead th {\n",
       "        text-align: right;\n",
       "    }\n",
       "</style>\n",
       "<table border=\"1\" class=\"dataframe\">\n",
       "  <thead>\n",
       "    <tr style=\"text-align: right;\">\n",
       "      <th></th>\n",
       "      <th>Source</th>\n",
       "      <th>Substrate</th>\n",
       "      <th>Family</th>\n",
       "      <th>Genus</th>\n",
       "      <th>new_coverage</th>\n",
       "    </tr>\n",
       "    <tr>\n",
       "      <th>MAG</th>\n",
       "      <th></th>\n",
       "      <th></th>\n",
       "      <th></th>\n",
       "      <th></th>\n",
       "      <th></th>\n",
       "    </tr>\n",
       "  </thead>\n",
       "  <tbody>\n",
       "    <tr>\n",
       "      <th>CH13-bin.12</th>\n",
       "      <td>Compost_Digestate</td>\n",
       "      <td>Avicel</td>\n",
       "      <td>f_Fibrobacteraceae</td>\n",
       "      <td>Fibro-01</td>\n",
       "      <td>36.526676</td>\n",
       "    </tr>\n",
       "    <tr>\n",
       "      <th>CH13-bin.11</th>\n",
       "      <td>Compost_Digestate</td>\n",
       "      <td>Avicel</td>\n",
       "      <td>f_Desulfovibrionaceae</td>\n",
       "      <td>Desulfovibrio</td>\n",
       "      <td>10.155790</td>\n",
       "    </tr>\n",
       "    <tr>\n",
       "      <th>CH13-bin.4</th>\n",
       "      <td>Compost_Digestate</td>\n",
       "      <td>Avicel</td>\n",
       "      <td>f_Bacteroidaceae</td>\n",
       "      <td>Bacteroides</td>\n",
       "      <td>10.043970</td>\n",
       "    </tr>\n",
       "    <tr>\n",
       "      <th>CH15-bin.0</th>\n",
       "      <td>Compost_Digestate</td>\n",
       "      <td>PASC</td>\n",
       "      <td>f_Treponemataceae</td>\n",
       "      <td>DUOS01</td>\n",
       "      <td>23.919040</td>\n",
       "    </tr>\n",
       "    <tr>\n",
       "      <th>CH15-bin.23</th>\n",
       "      <td>Compost_Digestate</td>\n",
       "      <td>PASC</td>\n",
       "      <td>Other</td>\n",
       "      <td>DTFZ01</td>\n",
       "      <td>10.319866</td>\n",
       "    </tr>\n",
       "    <tr>\n",
       "      <th>CH8-bin.22</th>\n",
       "      <td>Cow_Manure</td>\n",
       "      <td>Avicel</td>\n",
       "      <td>f_Fibrobacteraceae</td>\n",
       "      <td>Fibro-01</td>\n",
       "      <td>42.725525</td>\n",
       "    </tr>\n",
       "    <tr>\n",
       "      <th>CH7-bin.23</th>\n",
       "      <td>Cow_Manure</td>\n",
       "      <td>PASC</td>\n",
       "      <td>f_Desulfovibrionaceae</td>\n",
       "      <td>Halodesulfovibrio</td>\n",
       "      <td>38.075882</td>\n",
       "    </tr>\n",
       "    <tr>\n",
       "      <th>CH1-bin.6</th>\n",
       "      <td>Marshland</td>\n",
       "      <td>PASC</td>\n",
       "      <td>f_Lachnospiraceae</td>\n",
       "      <td>Lacrimispora</td>\n",
       "      <td>45.242630</td>\n",
       "    </tr>\n",
       "    <tr>\n",
       "      <th>CH1-bin.9</th>\n",
       "      <td>Marshland</td>\n",
       "      <td>PASC</td>\n",
       "      <td>f_Desulfovibrionaceae</td>\n",
       "      <td>Solidesulfovibrio</td>\n",
       "      <td>31.170460</td>\n",
       "    </tr>\n",
       "  </tbody>\n",
       "</table>\n",
       "</div>"
      ],
      "text/plain": [
       "                        Source Substrate                 Family  \\\n",
       "MAG                                                               \n",
       "CH13-bin.12  Compost_Digestate    Avicel     f_Fibrobacteraceae   \n",
       "CH13-bin.11  Compost_Digestate    Avicel  f_Desulfovibrionaceae   \n",
       "CH13-bin.4   Compost_Digestate    Avicel       f_Bacteroidaceae   \n",
       "CH15-bin.0   Compost_Digestate      PASC      f_Treponemataceae   \n",
       "CH15-bin.23  Compost_Digestate      PASC                  Other   \n",
       "CH8-bin.22          Cow_Manure    Avicel     f_Fibrobacteraceae   \n",
       "CH7-bin.23          Cow_Manure      PASC  f_Desulfovibrionaceae   \n",
       "CH1-bin.6            Marshland      PASC      f_Lachnospiraceae   \n",
       "CH1-bin.9            Marshland      PASC  f_Desulfovibrionaceae   \n",
       "\n",
       "                         Genus  new_coverage  \n",
       "MAG                                           \n",
       "CH13-bin.12           Fibro-01     36.526676  \n",
       "CH13-bin.11      Desulfovibrio     10.155790  \n",
       "CH13-bin.4         Bacteroides     10.043970  \n",
       "CH15-bin.0              DUOS01     23.919040  \n",
       "CH15-bin.23             DTFZ01     10.319866  \n",
       "CH8-bin.22            Fibro-01     42.725525  \n",
       "CH7-bin.23   Halodesulfovibrio     38.075882  \n",
       "CH1-bin.6         Lacrimispora     45.242630  \n",
       "CH1-bin.9    Solidesulfovibrio     31.170460  "
      ]
     },
     "execution_count": 128,
     "metadata": {},
     "output_type": "execute_result"
    }
   ],
   "source": [
    "all_mags_paper_reduced[all_mags_paper_reduced[\"new_coverage\"]>10][[\"Source\",\"Substrate\",\"Family\",\"Genus\",\"new_coverage\"]].sort_values([\"Source\",\"Substrate\"])"
   ]
  },
  {
   "cell_type": "markdown",
   "id": "f3ed36e1-0c27-43ef-947a-32c1739ec58b",
   "metadata": {},
   "source": [
    "### Functions for statistics"
   ]
  },
  {
   "cell_type": "code",
   "execution_count": 129,
   "id": "e3554323-08db-42ed-afcf-ecee00773789",
   "metadata": {},
   "outputs": [],
   "source": [
    "def find_non_dependent(row,metric):\n",
    "    return len(family_groups[row.name[0]]) - row[metric] #row.flux_mg\n",
    "\n",
    "\n",
    "def statistics_adjustments(statistics_df):\n",
    "    \n",
    "    statistics_df = statistics_df.sort_values(by=\"p_value\").copy()\n",
    "    statistics_df[\"i\"] = statistics_df[\"p_value\"].rank(method=\"max\")\n",
    "    statistics_df[\"p_value_benjamini_h\"] = statistics_df.apply(lambda row: min(row.p_value*statistics_df.shape[0]/row.i,1),axis=1)\n",
    "    statistics_df.sort_index(inplace=True)\n",
    "    return statistics_df\n",
    "\n",
    "\n",
    "def statistics_function(steadier_sample_cross,dependent_variable,independent_variable,metric=\"flux_mg\",metric_thresh=1e-6,pvalue_thresh=0.1):\n",
    "\n",
    "    # Get average of each family according to each possible value of the independent variable\n",
    "    # dependent_variable,dependent_variable.split(\"_\")[1] here it decides if it is in the receiver or in the donor (dependent_variable.split(\"_\")[1]) and groups by the [family_receiver,receiver,compound] and takes the mean of this\n",
    "    steadiercom_crossfeeding_donor = steadier_sample_cross.loc[:,[dependent_variable,dependent_variable.split(\"_\")[1],independent_variable,metric]].groupby([dependent_variable,dependent_variable.split(\"_\")[1],independent_variable]).mean().copy()\n",
    "    dependent = steadiercom_crossfeeding_donor[steadiercom_crossfeeding_donor[metric]>metric_thresh].reset_index().groupby([dependent_variable,independent_variable]).count().copy()\n",
    "    not_dependent = dependent.apply(find_non_dependent,metric=metric,axis=1)\n",
    "\n",
    "    # Add data for the missing values\n",
    "    all_categories =set(not_dependent.index.get_level_values(1))\n",
    "\n",
    "    for family in dependent.index.get_level_values(0):\n",
    "        for category in all_categories-set(not_dependent.xs(family).index):\n",
    "            not_dependent[(family,category)]=len(family_groups[family]) \n",
    "            \n",
    "    concat_df = pd.concat({\"dependent\":dependent[metric],\"not_dependent\":not_dependent},axis=1).fillna(0)\n",
    "\n",
    "\n",
    "    statistics = {}\n",
    "    for independent_var in set(concat_df.index.get_level_values(1)):\n",
    "        # Get the sub_df for the super class\n",
    "        concat_df_sub = concat_df.xs(independent_var,level=1).copy()\n",
    "\n",
    "        statistics[independent_var] = {}\n",
    "\n",
    "        # For each row (each family)\n",
    "        for i,row in concat_df_sub.iterrows():\n",
    "            \n",
    "            # Get the data for all other family\n",
    "            other = concat_df_sub.loc[concat_df_sub.index[concat_df_sub.index!=i],:]\n",
    "            \n",
    "            data = pd.DataFrame({i:row,\"other\":other.sum()}).transpose().to_numpy()\n",
    "            statistics[independent_var][(i,\"data\")]= data\n",
    "            \n",
    "            \n",
    "            # Get odds ratio\n",
    "            odds_ratio_num = data[0][0]\n",
    "            odds_ratio_den = data[0][0] + data[0][1]\n",
    "            other_num = data[1][0]\n",
    "            other_den = data[1][0] + data[1][1]\n",
    "            \n",
    "            if odds_ratio_den == 0 or other_den == 0 or other_num==0:\n",
    "                odds_ratio = math.inf\n",
    "            else:\n",
    "                odds_ratio = (odds_ratio_num / odds_ratio_den) / (other_num / other_den)\n",
    "            statistics[independent_var][(i, \"odds_ratio\")] = odds_ratio\n",
    "            \n",
    "            \n",
    "            # Calculate the Barnard exact statistical \n",
    "            p_value = stats.barnard_exact(pd.DataFrame({i:row,\"other\":other.sum()}).transpose().to_numpy(),alternative=\"greater\")\n",
    "            statistics[independent_var][(i,\"p_value\")]= p_value.pvalue\n",
    "            \n",
    "\n",
    "    statistics_df = pd.DataFrame(statistics)\n",
    "    \n",
    "\n",
    "    category_values = statistics_df.xs('p_value', level=1)\n",
    "    \n",
    "\n",
    "    values = {}\n",
    "    for family,independent_var in category_values[category_values[category_values<pvalue_thresh].notnull()].stack().index:\n",
    "        values[family,independent_var]= {\"p_value\":statistics_df.loc[(family,\"p_value\"),independent_var],\"odds_ratio\":statistics_df.loc[(family,\"odds_ratio\"),independent_var],\"data\":statistics_df.loc[(family,\"data\"),independent_var],\"# interaction\":concat_df.loc[(family,independent_var),\"dependent\"],\"# no interaction\":concat_df.loc[(family,independent_var),\"not_dependent\"]}\n",
    "\n",
    "    significant = pd.DataFrame(values).transpose()\n",
    "    if significant.empty==False:\n",
    "        significant.index.names = (dependent_variable,independent_variable)\n",
    "\n",
    "    return significant"
   ]
  },
  {
   "cell_type": "markdown",
   "id": "0f2cdfb5-e6e4-46f2-94ba-9fccdc97c8c8",
   "metadata": {},
   "source": [
    "## Likelyhood that family X is receiving compound A"
   ]
  },
  {
   "cell_type": "code",
   "execution_count": 130,
   "id": "94a32e16-c6ac-438e-aa6c-7cbae857816c",
   "metadata": {},
   "outputs": [
    {
     "data": {
      "text/plain": [
       "(134, 7)"
      ]
     },
     "execution_count": 130,
     "metadata": {},
     "output_type": "execute_result"
    }
   ],
   "source": [
    "statistics_df = statistics_function(steadier_sample_cross,\"family_receiver\",\"compound\",metric=\"rate\",metric_thresh=1e-6,pvalue_thresh=1)\n",
    "statistics_df = statistics_adjustments(statistics_df)\n",
    "statistics_df.shape"
   ]
  },
  {
   "cell_type": "code",
   "execution_count": 131,
   "id": "fa44e973-700f-4a94-ae93-19b4c4403d54",
   "metadata": {},
   "outputs": [
    {
     "data": {
      "text/html": [
       "<div>\n",
       "<style scoped>\n",
       "    .dataframe tbody tr th:only-of-type {\n",
       "        vertical-align: middle;\n",
       "    }\n",
       "\n",
       "    .dataframe tbody tr th {\n",
       "        vertical-align: top;\n",
       "    }\n",
       "\n",
       "    .dataframe thead th {\n",
       "        text-align: right;\n",
       "    }\n",
       "</style>\n",
       "<table border=\"1\" class=\"dataframe\">\n",
       "  <thead>\n",
       "    <tr style=\"text-align: right;\">\n",
       "      <th></th>\n",
       "      <th></th>\n",
       "      <th>p_value</th>\n",
       "      <th>odds_ratio</th>\n",
       "      <th>data</th>\n",
       "      <th># interaction</th>\n",
       "      <th># no interaction</th>\n",
       "      <th>i</th>\n",
       "      <th>p_value_benjamini_h</th>\n",
       "    </tr>\n",
       "    <tr>\n",
       "      <th>family_receiver</th>\n",
       "      <th>compound</th>\n",
       "      <th></th>\n",
       "      <th></th>\n",
       "      <th></th>\n",
       "      <th></th>\n",
       "      <th></th>\n",
       "      <th></th>\n",
       "      <th></th>\n",
       "    </tr>\n",
       "  </thead>\n",
       "  <tbody>\n",
       "    <tr>\n",
       "      <th>f_Lachnospiraceae</th>\n",
       "      <th>Thymine C5H6N2O2</th>\n",
       "      <td>0.000199</td>\n",
       "      <td>5.0</td>\n",
       "      <td>[[5.0, 0.0], [11.0, 44.0]]</td>\n",
       "      <td>5.0</td>\n",
       "      <td>0</td>\n",
       "      <td>1.0</td>\n",
       "      <td>0.026658</td>\n",
       "    </tr>\n",
       "  </tbody>\n",
       "</table>\n",
       "</div>"
      ],
      "text/plain": [
       "                                     p_value odds_ratio  \\\n",
       "family_receiver   compound                                \n",
       "f_Lachnospiraceae Thymine C5H6N2O2  0.000199        5.0   \n",
       "\n",
       "                                                          data # interaction  \\\n",
       "family_receiver   compound                                                     \n",
       "f_Lachnospiraceae Thymine C5H6N2O2  [[5.0, 0.0], [11.0, 44.0]]           5.0   \n",
       "\n",
       "                                   # no interaction    i  p_value_benjamini_h  \n",
       "family_receiver   compound                                                     \n",
       "f_Lachnospiraceae Thymine C5H6N2O2                0  1.0             0.026658  "
      ]
     },
     "execution_count": 131,
     "metadata": {},
     "output_type": "execute_result"
    }
   ],
   "source": [
    "statistics_df[(statistics_df.p_value_benjamini_h<0.05) & (statistics_df[\"odds_ratio\"]>4.95)]"
   ]
  },
  {
   "cell_type": "code",
   "execution_count": 132,
   "id": "ddec0073-e7b7-4e84-9624-bcfddb11fe2f",
   "metadata": {},
   "outputs": [
    {
     "data": {
      "text/plain": [
       "(43, 7)"
      ]
     },
     "execution_count": 132,
     "metadata": {},
     "output_type": "execute_result"
    }
   ],
   "source": [
    "statistics_df = statistics_function(steadier_sample_cross,\"family_receiver\",\"super_class\",metric=\"rate\",metric_thresh=1e-6,pvalue_thresh=1)\n",
    "statistics_df = statistics_adjustments(statistics_df)\n",
    "statistics_df.shape"
   ]
  },
  {
   "cell_type": "code",
   "execution_count": 133,
   "id": "a90935fd-c57d-42cb-9530-435b5c4dbb35",
   "metadata": {},
   "outputs": [
    {
     "data": {
      "text/html": [
       "<div>\n",
       "<style scoped>\n",
       "    .dataframe tbody tr th:only-of-type {\n",
       "        vertical-align: middle;\n",
       "    }\n",
       "\n",
       "    .dataframe tbody tr th {\n",
       "        vertical-align: top;\n",
       "    }\n",
       "\n",
       "    .dataframe thead th {\n",
       "        text-align: right;\n",
       "    }\n",
       "</style>\n",
       "<table border=\"1\" class=\"dataframe\">\n",
       "  <thead>\n",
       "    <tr style=\"text-align: right;\">\n",
       "      <th></th>\n",
       "      <th></th>\n",
       "      <th>p_value</th>\n",
       "      <th>odds_ratio</th>\n",
       "      <th>data</th>\n",
       "      <th># interaction</th>\n",
       "      <th># no interaction</th>\n",
       "      <th>i</th>\n",
       "      <th>p_value_benjamini_h</th>\n",
       "    </tr>\n",
       "    <tr>\n",
       "      <th>family_receiver</th>\n",
       "      <th>super_class</th>\n",
       "      <th></th>\n",
       "      <th></th>\n",
       "      <th></th>\n",
       "      <th></th>\n",
       "      <th></th>\n",
       "      <th></th>\n",
       "      <th></th>\n",
       "    </tr>\n",
       "  </thead>\n",
       "  <tbody>\n",
       "  </tbody>\n",
       "</table>\n",
       "</div>"
      ],
      "text/plain": [
       "Empty DataFrame\n",
       "Columns: [p_value, odds_ratio, data, # interaction, # no interaction, i, p_value_benjamini_h]\n",
       "Index: []"
      ]
     },
     "execution_count": 133,
     "metadata": {},
     "output_type": "execute_result"
    }
   ],
   "source": [
    "statistics_df[(statistics_df.p_value_benjamini_h<0.1) & (statistics_df[\"odds_ratio\"]>4.95)]"
   ]
  },
  {
   "cell_type": "markdown",
   "id": "7030e3a9-b11c-4346-bf19-18067e6fb1b0",
   "metadata": {
    "tags": []
   },
   "source": [
    "## Likelyhood that family X is donating a compound A to another family"
   ]
  },
  {
   "cell_type": "code",
   "execution_count": 134,
   "id": "1f1e7d94-8680-4aa6-851f-4edd7574dfe2",
   "metadata": {
    "tags": []
   },
   "outputs": [
    {
     "data": {
      "text/plain": [
       "(115, 7)"
      ]
     },
     "execution_count": 134,
     "metadata": {},
     "output_type": "execute_result"
    }
   ],
   "source": [
    "statistics_df = statistics_function(steadier_sample_cross,\"family_donor\",\"compound\",metric=\"rate\",metric_thresh=1e-6,pvalue_thresh=1)\n",
    "statistics_df = statistics_adjustments(statistics_df)\n",
    "statistics_df.shape"
   ]
  },
  {
   "cell_type": "code",
   "execution_count": 135,
   "id": "89230c3a-870f-4299-b727-ce4152c593de",
   "metadata": {},
   "outputs": [
    {
     "data": {
      "text/html": [
       "<div>\n",
       "<style scoped>\n",
       "    .dataframe tbody tr th:only-of-type {\n",
       "        vertical-align: middle;\n",
       "    }\n",
       "\n",
       "    .dataframe tbody tr th {\n",
       "        vertical-align: top;\n",
       "    }\n",
       "\n",
       "    .dataframe thead th {\n",
       "        text-align: right;\n",
       "    }\n",
       "</style>\n",
       "<table border=\"1\" class=\"dataframe\">\n",
       "  <thead>\n",
       "    <tr style=\"text-align: right;\">\n",
       "      <th></th>\n",
       "      <th></th>\n",
       "      <th>p_value</th>\n",
       "      <th>odds_ratio</th>\n",
       "      <th>data</th>\n",
       "      <th># interaction</th>\n",
       "      <th># no interaction</th>\n",
       "      <th>i</th>\n",
       "      <th>p_value_benjamini_h</th>\n",
       "    </tr>\n",
       "    <tr>\n",
       "      <th>family_donor</th>\n",
       "      <th>compound</th>\n",
       "      <th></th>\n",
       "      <th></th>\n",
       "      <th></th>\n",
       "      <th></th>\n",
       "      <th></th>\n",
       "      <th></th>\n",
       "      <th></th>\n",
       "    </tr>\n",
       "  </thead>\n",
       "  <tbody>\n",
       "  </tbody>\n",
       "</table>\n",
       "</div>"
      ],
      "text/plain": [
       "Empty DataFrame\n",
       "Columns: [p_value, odds_ratio, data, # interaction, # no interaction, i, p_value_benjamini_h]\n",
       "Index: []"
      ]
     },
     "execution_count": 135,
     "metadata": {},
     "output_type": "execute_result"
    }
   ],
   "source": [
    "statistics_df[(statistics_df.p_value_benjamini_h<0.05) & (statistics_df[\"odds_ratio\"]>4.95)]"
   ]
  },
  {
   "cell_type": "code",
   "execution_count": 136,
   "id": "5f4eef19-9798-41c8-b46b-0d6ef3a19c61",
   "metadata": {
    "tags": []
   },
   "outputs": [
    {
     "data": {
      "text/plain": [
       "(48, 7)"
      ]
     },
     "execution_count": 136,
     "metadata": {},
     "output_type": "execute_result"
    }
   ],
   "source": [
    "statistics_df = statistics_function(steadier_sample_cross,\"family_donor\",\"super_class\",metric=\"rate\",metric_thresh=1e-6,pvalue_thresh=1)\n",
    "statistics_df = statistics_adjustments(statistics_df)\n",
    "statistics_df.shape"
   ]
  },
  {
   "cell_type": "code",
   "execution_count": 137,
   "id": "7bbdc0d6-a3bc-46fd-96c7-2c2bfabfbe4b",
   "metadata": {},
   "outputs": [
    {
     "data": {
      "text/html": [
       "<div>\n",
       "<style scoped>\n",
       "    .dataframe tbody tr th:only-of-type {\n",
       "        vertical-align: middle;\n",
       "    }\n",
       "\n",
       "    .dataframe tbody tr th {\n",
       "        vertical-align: top;\n",
       "    }\n",
       "\n",
       "    .dataframe thead th {\n",
       "        text-align: right;\n",
       "    }\n",
       "</style>\n",
       "<table border=\"1\" class=\"dataframe\">\n",
       "  <thead>\n",
       "    <tr style=\"text-align: right;\">\n",
       "      <th></th>\n",
       "      <th></th>\n",
       "      <th>p_value</th>\n",
       "      <th>odds_ratio</th>\n",
       "      <th>data</th>\n",
       "      <th># interaction</th>\n",
       "      <th># no interaction</th>\n",
       "      <th>i</th>\n",
       "      <th>p_value_benjamini_h</th>\n",
       "    </tr>\n",
       "    <tr>\n",
       "      <th>family_donor</th>\n",
       "      <th>super_class</th>\n",
       "      <th></th>\n",
       "      <th></th>\n",
       "      <th></th>\n",
       "      <th></th>\n",
       "      <th></th>\n",
       "      <th></th>\n",
       "      <th></th>\n",
       "    </tr>\n",
       "  </thead>\n",
       "  <tbody>\n",
       "  </tbody>\n",
       "</table>\n",
       "</div>"
      ],
      "text/plain": [
       "Empty DataFrame\n",
       "Columns: [p_value, odds_ratio, data, # interaction, # no interaction, i, p_value_benjamini_h]\n",
       "Index: []"
      ]
     },
     "execution_count": 137,
     "metadata": {},
     "output_type": "execute_result"
    }
   ],
   "source": [
    "statistics_df[(statistics_df.p_value_benjamini_h<0.1) & (statistics_df[\"odds_ratio\"]>4.95)]"
   ]
  },
  {
   "cell_type": "markdown",
   "id": "e491180e-3514-4b3a-bf2f-0102752a0820",
   "metadata": {},
   "source": [
    "## Likelyhood that family X is receiving from family Y"
   ]
  },
  {
   "cell_type": "code",
   "execution_count": 138,
   "id": "7efa033a-da04-4910-9a39-52c13d134002",
   "metadata": {},
   "outputs": [
    {
     "data": {
      "text/plain": [
       "(72, 7)"
      ]
     },
     "execution_count": 138,
     "metadata": {},
     "output_type": "execute_result"
    }
   ],
   "source": [
    "statistics_df = statistics_function(steadier_sample_cross,\"family_receiver\",\"family_donor\",metric=\"rate\",metric_thresh=1e-6,pvalue_thresh=1)\n",
    "statistics_df = statistics_adjustments(statistics_df)\n",
    "statistics_df.shape"
   ]
  },
  {
   "cell_type": "code",
   "execution_count": 139,
   "id": "e8093f1f-d231-445b-bca9-eb62fe291fd8",
   "metadata": {},
   "outputs": [
    {
     "data": {
      "text/html": [
       "<div>\n",
       "<style scoped>\n",
       "    .dataframe tbody tr th:only-of-type {\n",
       "        vertical-align: middle;\n",
       "    }\n",
       "\n",
       "    .dataframe tbody tr th {\n",
       "        vertical-align: top;\n",
       "    }\n",
       "\n",
       "    .dataframe thead th {\n",
       "        text-align: right;\n",
       "    }\n",
       "</style>\n",
       "<table border=\"1\" class=\"dataframe\">\n",
       "  <thead>\n",
       "    <tr style=\"text-align: right;\">\n",
       "      <th></th>\n",
       "      <th></th>\n",
       "      <th>p_value</th>\n",
       "      <th>odds_ratio</th>\n",
       "      <th>data</th>\n",
       "      <th># interaction</th>\n",
       "      <th># no interaction</th>\n",
       "      <th>i</th>\n",
       "      <th>p_value_benjamini_h</th>\n",
       "    </tr>\n",
       "    <tr>\n",
       "      <th>family_receiver</th>\n",
       "      <th>family_donor</th>\n",
       "      <th></th>\n",
       "      <th></th>\n",
       "      <th></th>\n",
       "      <th></th>\n",
       "      <th></th>\n",
       "      <th></th>\n",
       "      <th></th>\n",
       "    </tr>\n",
       "  </thead>\n",
       "  <tbody>\n",
       "  </tbody>\n",
       "</table>\n",
       "</div>"
      ],
      "text/plain": [
       "Empty DataFrame\n",
       "Columns: [p_value, odds_ratio, data, # interaction, # no interaction, i, p_value_benjamini_h]\n",
       "Index: []"
      ]
     },
     "execution_count": 139,
     "metadata": {},
     "output_type": "execute_result"
    }
   ],
   "source": [
    "statistics_df[(statistics_df.p_value_benjamini_h<0.05) & (statistics_df[\"odds_ratio\"]>4.95)]"
   ]
  },
  {
   "cell_type": "markdown",
   "id": "d69a32d2-78ef-406a-ae39-584f00549059",
   "metadata": {},
   "source": [
    "### All communities - Relative abundance (above 10 %)"
   ]
  },
  {
   "cell_type": "code",
   "execution_count": 140,
   "id": "197495d5-c5fb-4d1b-8cce-2c7ba7a3579a",
   "metadata": {},
   "outputs": [],
   "source": [
    "total_members = steadier_sample_cross.groupby(\"family_donor\").nunique()[\"donor\"]"
   ]
  },
  {
   "cell_type": "code",
   "execution_count": 141,
   "id": "246730b2-f007-4d79-b410-2df795e298c1",
   "metadata": {},
   "outputs": [],
   "source": [
    "def abundance_statistic(abundance_communities,receiver_or_donor=\"receiver\"):\n",
    "    \n",
    "    \n",
    "    table_abundance_rec_don_dict = {}\n",
    "    table_not_abundant_rec_don_dict = {}\n",
    "\n",
    "    for compound in abundance_communities[abundance_communities.receiver_abundance_10].compound.unique():\n",
    "        if receiver_or_donor==\"receiver\":\n",
    "            abund_rec_don = len(abundance_communities[(abundance_communities.receiver_abundance_10) & (abundance_communities.compound==compound)].receiver.unique())\n",
    "            not_abund_rec_don = len(abundance_communities[(~abundance_communities.receiver_abundance_10) & (abundance_communities.compound==compound)].receiver.unique())\n",
    "        elif receiver_or_donor==\"donor\":\n",
    "            abund_rec_don = len(abundance_communities[(abundance_communities.donor_abundance_10) & (abundance_communities.compound==compound)].donor.unique())\n",
    "            not_abund_rec_don = len(abundance_communities[(~abundance_communities.donor_abundance_10) & (abundance_communities.compound==compound)].donor.unique())\n",
    "        \n",
    "        \n",
    "        abund_not_rec_don = len(high_abundance) - abund_rec_don\n",
    "        not_abund_not_rec_don = len(low_abunance) - not_abund_rec_don\n",
    "\n",
    "\n",
    "        table = [[abund_rec_don,not_abund_rec_don],[abund_not_rec_don,not_abund_not_rec_don]]\n",
    "        table_non_abundant = [[not_abund_rec_don,abund_rec_don],[not_abund_not_rec_don,abund_not_rec_don]]\n",
    "\n",
    "        try:\n",
    "            odds_ratio = (abund_rec_don/(abund_rec_don+abund_not_rec_don))/(not_abund_rec_don/(not_abund_rec_don+not_abund_not_rec_don))\n",
    "        except:\n",
    "            odds_ratio = math.inf\n",
    "\n",
    "\n",
    "        p_value = stats.barnard_exact(table,alternative=\"greater\")\n",
    "\n",
    "        table_abundance_rec_don_dict[compound] = {\"table\":table,\"p_value\":p_value.pvalue,\"odds_ratio\":odds_ratio}\n",
    "\n",
    "\n",
    "        p_value_not = stats.barnard_exact(table_non_abundant,alternative=\"greater\")\n",
    "\n",
    "        table_not_abundant_rec_don_dict[compound]= {\"table\":table,\"p_value\":p_value_not.pvalue,\"odds_ratio\":odds_ratio}\n",
    "        \n",
    "    return table_abundance_rec_don_dict, table_not_abundant_rec_don_dict\n",
    "        \n"
   ]
  },
  {
   "cell_type": "code",
   "execution_count": 142,
   "id": "ab34397c-edb0-4da4-ab4f-654910c246a8",
   "metadata": {},
   "outputs": [],
   "source": [
    "def abundance_statistic_super_class(abundance_communities,receiver_or_donor=\"receiver\"):\n",
    "    \n",
    "    \n",
    "    table_abundance_rec_don_dict = {}\n",
    "    table_not_abundant_rec_don_dict = {}\n",
    "\n",
    "    for super_class in abundance_communities[abundance_communities.receiver_abundance_10].super_class.unique():\n",
    "        if receiver_or_donor==\"receiver\":\n",
    "            abund_rec_don = len(abundance_communities[(abundance_communities.receiver_abundance_10) & (abundance_communities.super_class==super_class)].receiver.unique())\n",
    "            not_abund_rec_don = len(abundance_communities[(~abundance_communities.receiver_abundance_10) & (abundance_communities.super_class==super_class)].receiver.unique())\n",
    "        elif receiver_or_donor==\"donor\":\n",
    "            abund_rec_don = len(abundance_communities[(abundance_communities.donor_abundance_10) & (abundance_communities.super_class==super_class)].donor.unique())\n",
    "            not_abund_rec_don = len(abundance_communities[(~abundance_communities.donor_abundance_10) & (abundance_communities.super_class==super_class)].donor.unique())\n",
    "        \n",
    "        \n",
    "        abund_not_rec_don = len(high_abundance) - abund_rec_don\n",
    "        not_abund_not_rec_don = len(low_abunance) - not_abund_rec_don\n",
    "\n",
    "\n",
    "        table = [[abund_rec_don,not_abund_rec_don],[abund_not_rec_don,not_abund_not_rec_don]]\n",
    "        table_non_abundant = [[not_abund_rec_don,abund_rec_don],[not_abund_not_rec_don,abund_not_rec_don]]\n",
    "\n",
    "        try:\n",
    "            odds_ratio = (abund_rec_don/(abund_rec_don+abund_not_rec_don))/(not_abund_rec_don/(not_abund_rec_don+not_abund_not_rec_don))\n",
    "        except:\n",
    "            odds_ratio = math.inf\n",
    "\n",
    "\n",
    "        p_value = stats.barnard_exact(table,alternative=\"greater\")\n",
    "\n",
    "        table_abundance_rec_don_dict[super_class] = {\"table\":table,\"p_value\":p_value.pvalue,\"odds_ratio\":odds_ratio}\n",
    "\n",
    "\n",
    "        p_value_not = stats.barnard_exact(table_non_abundant,alternative=\"greater\")\n",
    "\n",
    "        table_not_abundant_rec_don_dict[super_class]= {\"table\":table,\"p_value\":p_value_not.pvalue,\"odds_ratio\":odds_ratio}\n",
    "        \n",
    "    return table_abundance_rec_don_dict, table_not_abundant_rec_don_dict\n",
    "        \n"
   ]
  },
  {
   "cell_type": "markdown",
   "id": "746595e4-2d01-436d-8430-e50b438c7283",
   "metadata": {},
   "source": [
    "**Assign abundant/not-abundant classifier**"
   ]
  },
  {
   "cell_type": "code",
   "execution_count": 143,
   "id": "69df69db-ece7-4176-9d51-4f5d9607c992",
   "metadata": {},
   "outputs": [],
   "source": [
    "abundance_communities = steadier_sample_cross.copy()\n",
    "abundance_communities[\"donor_abundance_10\"] = abundance_communities[\"donor\"].map(lambda x: all_mags_paper.loc[x,\"new_coverage\"]>10)\n",
    "abundance_communities[\"receiver_abundance_10\"] = abundance_communities[\"receiver\"].map(lambda x: all_mags_paper.loc[x,\"new_coverage\"]>10)"
   ]
  },
  {
   "cell_type": "markdown",
   "id": "802c4039-ee66-4237-8acf-4c3a020a3bd6",
   "metadata": {},
   "source": [
    "**Overview of abundant members**"
   ]
  },
  {
   "cell_type": "code",
   "execution_count": 144,
   "id": "655cb50e-6e9d-4efe-8699-584c416580b4",
   "metadata": {},
   "outputs": [],
   "source": [
    "high_abundance = set(list(abundance_communities[abundance_communities.donor_abundance_10].donor.unique()) + list(abundance_communities[abundance_communities.receiver_abundance_10].receiver.unique()))\n",
    "low_abunance = set(list(abundance_communities[~abundance_communities.donor_abundance_10].donor.unique()) + list(abundance_communities[~abundance_communities.receiver_abundance_10].receiver.unique()))"
   ]
  },
  {
   "cell_type": "markdown",
   "id": "33b347f5-1380-4ef6-a820-13f280ed15a8",
   "metadata": {},
   "source": [
    "#### Statistics for receiving"
   ]
  },
  {
   "cell_type": "code",
   "execution_count": 145,
   "id": "2756f7dd-119b-42a3-819e-07d98e204ffb",
   "metadata": {},
   "outputs": [],
   "source": [
    "table_abundance_rec_dict, table_not_abundant_rec_dict = abundance_statistic(abundance_communities,receiver_or_donor=\"receiver\")"
   ]
  },
  {
   "cell_type": "markdown",
   "id": "5eb4bb08-cbe4-4e41-bb7b-28027ccde863",
   "metadata": {},
   "source": [
    "**Abundant -compounds**"
   ]
  },
  {
   "cell_type": "code",
   "execution_count": 146,
   "id": "3dffd33d-4cae-494a-b31a-48a72ec15248",
   "metadata": {},
   "outputs": [
    {
     "data": {
      "text/html": [
       "<div>\n",
       "<style scoped>\n",
       "    .dataframe tbody tr th:only-of-type {\n",
       "        vertical-align: middle;\n",
       "    }\n",
       "\n",
       "    .dataframe tbody tr th {\n",
       "        vertical-align: top;\n",
       "    }\n",
       "\n",
       "    .dataframe thead th {\n",
       "        text-align: right;\n",
       "    }\n",
       "</style>\n",
       "<table border=\"1\" class=\"dataframe\">\n",
       "  <thead>\n",
       "    <tr style=\"text-align: right;\">\n",
       "      <th></th>\n",
       "      <th>table</th>\n",
       "      <th>p_value</th>\n",
       "      <th>odds_ratio</th>\n",
       "      <th>i</th>\n",
       "      <th>p_value_benjamini_h</th>\n",
       "    </tr>\n",
       "  </thead>\n",
       "  <tbody>\n",
       "  </tbody>\n",
       "</table>\n",
       "</div>"
      ],
      "text/plain": [
       "Empty DataFrame\n",
       "Columns: [table, p_value, odds_ratio, i, p_value_benjamini_h]\n",
       "Index: []"
      ]
     },
     "execution_count": 146,
     "metadata": {},
     "output_type": "execute_result"
    }
   ],
   "source": [
    "abund_rec_df = pd.DataFrame(table_abundance_rec_dict).T\n",
    "abund_rec_df = statistics_adjustments(abund_rec_df)\n",
    "\n",
    "abund_rec_df[(abund_rec_df.p_value_benjamini_h<0.05)&(abund_rec_df.odds_ratio>4.95)].sort_values(\"p_value\")"
   ]
  },
  {
   "cell_type": "markdown",
   "id": "53cc7ea1-99c4-4696-b2ef-345c0d6280c8",
   "metadata": {},
   "source": [
    "**Not abundant -compounds**"
   ]
  },
  {
   "cell_type": "code",
   "execution_count": 147,
   "id": "6cf66805-b6b2-4c20-81bb-9246df9127d9",
   "metadata": {},
   "outputs": [
    {
     "data": {
      "text/html": [
       "<div>\n",
       "<style scoped>\n",
       "    .dataframe tbody tr th:only-of-type {\n",
       "        vertical-align: middle;\n",
       "    }\n",
       "\n",
       "    .dataframe tbody tr th {\n",
       "        vertical-align: top;\n",
       "    }\n",
       "\n",
       "    .dataframe thead th {\n",
       "        text-align: right;\n",
       "    }\n",
       "</style>\n",
       "<table border=\"1\" class=\"dataframe\">\n",
       "  <thead>\n",
       "    <tr style=\"text-align: right;\">\n",
       "      <th></th>\n",
       "      <th>table</th>\n",
       "      <th>p_value</th>\n",
       "      <th>odds_ratio</th>\n",
       "      <th>i</th>\n",
       "      <th>p_value_benjamini_h</th>\n",
       "    </tr>\n",
       "  </thead>\n",
       "  <tbody>\n",
       "  </tbody>\n",
       "</table>\n",
       "</div>"
      ],
      "text/plain": [
       "Empty DataFrame\n",
       "Columns: [table, p_value, odds_ratio, i, p_value_benjamini_h]\n",
       "Index: []"
      ]
     },
     "execution_count": 147,
     "metadata": {},
     "output_type": "execute_result"
    }
   ],
   "source": [
    "not_abund_rec_df = pd.DataFrame(table_not_abundant_rec_dict).T\n",
    "not_abund_rec_df = statistics_adjustments(not_abund_rec_df)\n",
    "not_abund_rec_df[\"odds_ratio\"] = not_abund_rec_df[\"odds_ratio\"].map(lambda x: 1/x)\n",
    "not_abund_rec_df[(not_abund_rec_df.p_value_benjamini_h<0.05)& (not_abund_rec_df.odds_ratio>4.95)].sort_values(\"p_value\")"
   ]
  },
  {
   "cell_type": "markdown",
   "id": "c594718a-f5b4-4845-9c46-77ac16723280",
   "metadata": {},
   "source": [
    "**SUPER CLASS**"
   ]
  },
  {
   "cell_type": "code",
   "execution_count": 148,
   "id": "862d751a-7a78-43f5-ad9f-66b9cad392e4",
   "metadata": {},
   "outputs": [],
   "source": [
    "table_abundance_rec_dict, table_not_abundant_rec_dict = abundance_statistic_super_class(abundance_communities,receiver_or_donor=\"receiver\")"
   ]
  },
  {
   "cell_type": "markdown",
   "id": "9d8d2fc4-27d2-404a-a8d2-6bfedd75c4d0",
   "metadata": {},
   "source": [
    "**Not abundant -superclass**"
   ]
  },
  {
   "cell_type": "code",
   "execution_count": 149,
   "id": "71b2e837-9d26-4e96-9a2d-553e10c9fe7b",
   "metadata": {},
   "outputs": [
    {
     "data": {
      "text/html": [
       "<div>\n",
       "<style scoped>\n",
       "    .dataframe tbody tr th:only-of-type {\n",
       "        vertical-align: middle;\n",
       "    }\n",
       "\n",
       "    .dataframe tbody tr th {\n",
       "        vertical-align: top;\n",
       "    }\n",
       "\n",
       "    .dataframe thead th {\n",
       "        text-align: right;\n",
       "    }\n",
       "</style>\n",
       "<table border=\"1\" class=\"dataframe\">\n",
       "  <thead>\n",
       "    <tr style=\"text-align: right;\">\n",
       "      <th></th>\n",
       "      <th>table</th>\n",
       "      <th>p_value</th>\n",
       "      <th>odds_ratio</th>\n",
       "      <th>i</th>\n",
       "      <th>p_value_benjamini_h</th>\n",
       "    </tr>\n",
       "  </thead>\n",
       "  <tbody>\n",
       "  </tbody>\n",
       "</table>\n",
       "</div>"
      ],
      "text/plain": [
       "Empty DataFrame\n",
       "Columns: [table, p_value, odds_ratio, i, p_value_benjamini_h]\n",
       "Index: []"
      ]
     },
     "execution_count": 149,
     "metadata": {},
     "output_type": "execute_result"
    }
   ],
   "source": [
    "abund_rec_df = pd.DataFrame(table_abundance_rec_dict).T\n",
    "abund_rec_df = statistics_adjustments(abund_rec_df)\n",
    "\n",
    "abund_rec_df[(abund_rec_df.p_value_benjamini_h<0.05)& (abund_rec_df.odds_ratio>4.95)].sort_values(\"p_value\")"
   ]
  },
  {
   "cell_type": "markdown",
   "id": "211a5012-7292-42c0-85b2-73cb8201d99e",
   "metadata": {},
   "source": [
    "**Abundant -compounds**"
   ]
  },
  {
   "cell_type": "code",
   "execution_count": 150,
   "id": "af7e18f8-f1ec-4f22-b131-4581c8eb11f0",
   "metadata": {},
   "outputs": [
    {
     "data": {
      "text/html": [
       "<div>\n",
       "<style scoped>\n",
       "    .dataframe tbody tr th:only-of-type {\n",
       "        vertical-align: middle;\n",
       "    }\n",
       "\n",
       "    .dataframe tbody tr th {\n",
       "        vertical-align: top;\n",
       "    }\n",
       "\n",
       "    .dataframe thead th {\n",
       "        text-align: right;\n",
       "    }\n",
       "</style>\n",
       "<table border=\"1\" class=\"dataframe\">\n",
       "  <thead>\n",
       "    <tr style=\"text-align: right;\">\n",
       "      <th></th>\n",
       "      <th>table</th>\n",
       "      <th>p_value</th>\n",
       "      <th>odds_ratio</th>\n",
       "      <th>i</th>\n",
       "      <th>p_value_benjamini_h</th>\n",
       "    </tr>\n",
       "  </thead>\n",
       "  <tbody>\n",
       "  </tbody>\n",
       "</table>\n",
       "</div>"
      ],
      "text/plain": [
       "Empty DataFrame\n",
       "Columns: [table, p_value, odds_ratio, i, p_value_benjamini_h]\n",
       "Index: []"
      ]
     },
     "execution_count": 150,
     "metadata": {},
     "output_type": "execute_result"
    }
   ],
   "source": [
    "not_abund_rec_df = pd.DataFrame(table_not_abundant_rec_dict).T\n",
    "not_abund_rec_df = statistics_adjustments(not_abund_rec_df)\n",
    "not_abund_rec_df[\"odds_ratio\"] = not_abund_rec_df[\"odds_ratio\"].map(lambda x: 1/x)\n",
    "not_abund_rec_df[(not_abund_rec_df.p_value_benjamini_h<0.05)& (not_abund_rec_df.odds_ratio>4.95)].sort_values(\"p_value\")"
   ]
  },
  {
   "cell_type": "markdown",
   "id": "b1f9407c-9243-467c-a75a-a036f0722b72",
   "metadata": {
    "tags": []
   },
   "source": [
    "#### Statistics for donating"
   ]
  },
  {
   "cell_type": "code",
   "execution_count": 151,
   "id": "e8b785e1-5b4a-46e3-8495-236e052fa330",
   "metadata": {},
   "outputs": [],
   "source": [
    "table_abundant_donation_dict, table_not_abundant_donation_dict = abundance_statistic(abundance_communities,receiver_or_donor=\"donor\")"
   ]
  },
  {
   "cell_type": "markdown",
   "id": "2988c42a-2254-43df-bda0-b9221442d55f",
   "metadata": {},
   "source": [
    "**Abundant -compound**"
   ]
  },
  {
   "cell_type": "code",
   "execution_count": 152,
   "id": "e903a9df-6dd0-4776-b6ea-8a48b9b2d6b6",
   "metadata": {},
   "outputs": [
    {
     "data": {
      "text/html": [
       "<div>\n",
       "<style scoped>\n",
       "    .dataframe tbody tr th:only-of-type {\n",
       "        vertical-align: middle;\n",
       "    }\n",
       "\n",
       "    .dataframe tbody tr th {\n",
       "        vertical-align: top;\n",
       "    }\n",
       "\n",
       "    .dataframe thead th {\n",
       "        text-align: right;\n",
       "    }\n",
       "</style>\n",
       "<table border=\"1\" class=\"dataframe\">\n",
       "  <thead>\n",
       "    <tr style=\"text-align: right;\">\n",
       "      <th></th>\n",
       "      <th>table</th>\n",
       "      <th>p_value</th>\n",
       "      <th>odds_ratio</th>\n",
       "      <th>i</th>\n",
       "      <th>p_value_benjamini_h</th>\n",
       "    </tr>\n",
       "  </thead>\n",
       "  <tbody>\n",
       "    <tr>\n",
       "      <th>L-Lysine</th>\n",
       "      <td>[[6, 3], [3, 48]]</td>\n",
       "      <td>0.000079</td>\n",
       "      <td>11.333333</td>\n",
       "      <td>1.0</td>\n",
       "      <td>0.001580</td>\n",
       "    </tr>\n",
       "    <tr>\n",
       "      <th>Thymine C5H6N2O2</th>\n",
       "      <td>[[5, 3], [4, 48]]</td>\n",
       "      <td>0.000807</td>\n",
       "      <td>9.444444</td>\n",
       "      <td>3.0</td>\n",
       "      <td>0.005377</td>\n",
       "    </tr>\n",
       "    <tr>\n",
       "      <th>Uracil</th>\n",
       "      <td>[[5, 3], [4, 48]]</td>\n",
       "      <td>0.000807</td>\n",
       "      <td>9.444444</td>\n",
       "      <td>3.0</td>\n",
       "      <td>0.005377</td>\n",
       "    </tr>\n",
       "    <tr>\n",
       "      <th>Guanine</th>\n",
       "      <td>[[4, 4], [5, 47]]</td>\n",
       "      <td>0.007336</td>\n",
       "      <td>5.666667</td>\n",
       "      <td>4.0</td>\n",
       "      <td>0.036681</td>\n",
       "    </tr>\n",
       "  </tbody>\n",
       "</table>\n",
       "</div>"
      ],
      "text/plain": [
       "                              table   p_value odds_ratio    i  \\\n",
       "L-Lysine          [[6, 3], [3, 48]]  0.000079  11.333333  1.0   \n",
       "Thymine C5H6N2O2  [[5, 3], [4, 48]]  0.000807   9.444444  3.0   \n",
       "Uracil            [[5, 3], [4, 48]]  0.000807   9.444444  3.0   \n",
       "Guanine           [[4, 4], [5, 47]]  0.007336   5.666667  4.0   \n",
       "\n",
       "                  p_value_benjamini_h  \n",
       "L-Lysine                     0.001580  \n",
       "Thymine C5H6N2O2             0.005377  \n",
       "Uracil                       0.005377  \n",
       "Guanine                      0.036681  "
      ]
     },
     "execution_count": 152,
     "metadata": {},
     "output_type": "execute_result"
    }
   ],
   "source": [
    "abundance_don_df = pd.DataFrame(table_abundant_donation_dict).T\n",
    "abundance_don_df = statistics_adjustments(abundance_don_df)\n",
    "abundance_don_df[(abundance_don_df.p_value_benjamini_h<0.05) & (abundance_don_df.odds_ratio>4.95)].sort_values(\"p_value\")\n"
   ]
  },
  {
   "cell_type": "markdown",
   "id": "c5ef0f4a-8409-4787-828b-e8e0c551739b",
   "metadata": {},
   "source": [
    "**Not abundant -compound**"
   ]
  },
  {
   "cell_type": "code",
   "execution_count": 153,
   "id": "04736ec6-7c26-4294-8786-7d5b0abad947",
   "metadata": {},
   "outputs": [
    {
     "data": {
      "text/html": [
       "<div>\n",
       "<style scoped>\n",
       "    .dataframe tbody tr th:only-of-type {\n",
       "        vertical-align: middle;\n",
       "    }\n",
       "\n",
       "    .dataframe tbody tr th {\n",
       "        vertical-align: top;\n",
       "    }\n",
       "\n",
       "    .dataframe thead th {\n",
       "        text-align: right;\n",
       "    }\n",
       "</style>\n",
       "<table border=\"1\" class=\"dataframe\">\n",
       "  <thead>\n",
       "    <tr style=\"text-align: right;\">\n",
       "      <th></th>\n",
       "      <th>table</th>\n",
       "      <th>p_value</th>\n",
       "      <th>odds_ratio</th>\n",
       "      <th>i</th>\n",
       "      <th>p_value_benjamini_h</th>\n",
       "    </tr>\n",
       "  </thead>\n",
       "  <tbody>\n",
       "  </tbody>\n",
       "</table>\n",
       "</div>"
      ],
      "text/plain": [
       "Empty DataFrame\n",
       "Columns: [table, p_value, odds_ratio, i, p_value_benjamini_h]\n",
       "Index: []"
      ]
     },
     "execution_count": 153,
     "metadata": {},
     "output_type": "execute_result"
    }
   ],
   "source": [
    "not_abundant_don_df = pd.DataFrame(table_not_abundant_donation_dict).T\n",
    "not_abundant_don_df = statistics_adjustments(not_abundant_don_df)\n",
    "\n",
    "\n",
    "not_abundant_don_df[\"odds_ratio\"] = not_abundant_don_df[\"odds_ratio\"].map(lambda x: math.inf if x==0 else 1/x)\n",
    "not_abundant_don_df[(not_abundant_don_df.p_value_benjamini_h<0.05)& (not_abundant_don_df.odds_ratio>4.95)].sort_values(\"p_value\")"
   ]
  },
  {
   "cell_type": "markdown",
   "id": "60cd3f08-b3ea-4fed-a92a-0c31d5107260",
   "metadata": {},
   "source": [
    "**SUPER CLASS**"
   ]
  },
  {
   "cell_type": "code",
   "execution_count": 154,
   "id": "93ccc97a-7766-4ea6-ac8b-fd53ce52521b",
   "metadata": {},
   "outputs": [],
   "source": [
    "table_abundant_donation_dict, table_not_abundant_donation_dict = abundance_statistic_super_class(abundance_communities,receiver_or_donor=\"donor\")"
   ]
  },
  {
   "cell_type": "markdown",
   "id": "2b72c668-798c-419d-a5a1-05366e1fe378",
   "metadata": {},
   "source": [
    "**Abundant**"
   ]
  },
  {
   "cell_type": "code",
   "execution_count": 155,
   "id": "7d1f387a-a1df-49c6-a6c7-61fecb150bfe",
   "metadata": {},
   "outputs": [
    {
     "data": {
      "text/html": [
       "<div>\n",
       "<style scoped>\n",
       "    .dataframe tbody tr th:only-of-type {\n",
       "        vertical-align: middle;\n",
       "    }\n",
       "\n",
       "    .dataframe tbody tr th {\n",
       "        vertical-align: top;\n",
       "    }\n",
       "\n",
       "    .dataframe thead th {\n",
       "        text-align: right;\n",
       "    }\n",
       "</style>\n",
       "<table border=\"1\" class=\"dataframe\">\n",
       "  <thead>\n",
       "    <tr style=\"text-align: right;\">\n",
       "      <th></th>\n",
       "      <th>table</th>\n",
       "      <th>p_value</th>\n",
       "      <th>odds_ratio</th>\n",
       "      <th>i</th>\n",
       "      <th>p_value_benjamini_h</th>\n",
       "    </tr>\n",
       "  </thead>\n",
       "  <tbody>\n",
       "  </tbody>\n",
       "</table>\n",
       "</div>"
      ],
      "text/plain": [
       "Empty DataFrame\n",
       "Columns: [table, p_value, odds_ratio, i, p_value_benjamini_h]\n",
       "Index: []"
      ]
     },
     "execution_count": 155,
     "metadata": {},
     "output_type": "execute_result"
    }
   ],
   "source": [
    "abundance_don_df = pd.DataFrame(table_abundant_donation_dict).T\n",
    "abundance_don_df = statistics_adjustments(abundance_don_df)\n",
    "abundance_don_df[(abundance_don_df.p_value_benjamini_h<0.05)& (abundance_don_df.odds_ratio>4.95)].sort_values(\"p_value\")\n"
   ]
  },
  {
   "cell_type": "markdown",
   "id": "76c02b21-c34a-4919-a4be-d39611fb92c9",
   "metadata": {},
   "source": [
    "**Not abundant**"
   ]
  },
  {
   "cell_type": "code",
   "execution_count": 156,
   "id": "bca24fcd-d13e-435d-8352-e4598c592e59",
   "metadata": {},
   "outputs": [
    {
     "data": {
      "text/html": [
       "<div>\n",
       "<style scoped>\n",
       "    .dataframe tbody tr th:only-of-type {\n",
       "        vertical-align: middle;\n",
       "    }\n",
       "\n",
       "    .dataframe tbody tr th {\n",
       "        vertical-align: top;\n",
       "    }\n",
       "\n",
       "    .dataframe thead th {\n",
       "        text-align: right;\n",
       "    }\n",
       "</style>\n",
       "<table border=\"1\" class=\"dataframe\">\n",
       "  <thead>\n",
       "    <tr style=\"text-align: right;\">\n",
       "      <th></th>\n",
       "      <th>table</th>\n",
       "      <th>p_value</th>\n",
       "      <th>odds_ratio</th>\n",
       "      <th>i</th>\n",
       "      <th>p_value_benjamini_h</th>\n",
       "    </tr>\n",
       "  </thead>\n",
       "  <tbody>\n",
       "  </tbody>\n",
       "</table>\n",
       "</div>"
      ],
      "text/plain": [
       "Empty DataFrame\n",
       "Columns: [table, p_value, odds_ratio, i, p_value_benjamini_h]\n",
       "Index: []"
      ]
     },
     "execution_count": 156,
     "metadata": {},
     "output_type": "execute_result"
    }
   ],
   "source": [
    "not_abundant_don_df = pd.DataFrame(table_not_abundant_donation_dict).T\n",
    "not_abundant_don_df = statistics_adjustments(not_abundant_don_df)\n",
    "\n",
    "\n",
    "not_abundant_don_df[\"odds_ratio\"] = not_abundant_don_df[\"odds_ratio\"].map(lambda x: math.inf if x==0 else 1/x)\n",
    "not_abundant_don_df[(not_abundant_don_df.p_value_benjamini_h<0.05) & (not_abundant_don_df.odds_ratio>4.95)].sort_values(\"p_value\")"
   ]
  },
  {
   "cell_type": "markdown",
   "id": "e4b8b5ad-e7c5-4dd2-8b48-14fac88f7015",
   "metadata": {
    "tags": []
   },
   "source": [
    "## Mass flow"
   ]
  },
  {
   "cell_type": "markdown",
   "id": "056344ff-e427-4718-a3be-5eeac446e53e",
   "metadata": {
    "tags": []
   },
   "source": [
    "#### Thymine C5H6N2O2"
   ]
  },
  {
   "cell_type": "markdown",
   "id": "b9ec8eb1-bfd9-4327-b74d-d7cc9d236440",
   "metadata": {},
   "source": [
    "**Receiver of Thymine**"
   ]
  },
  {
   "cell_type": "code",
   "execution_count": 157,
   "id": "e418eba7-7c67-41fd-b519-00f071d9e87d",
   "metadata": {},
   "outputs": [
    {
     "data": {
      "text/plain": [
       "family_receiver\n",
       "f_Lachnospiraceae        8\n",
       "Other                    7\n",
       "f_CAG-74                 3\n",
       "f_Sphaerochaetaceae      3\n",
       "f_Desulfovibrionaceae    2\n",
       "dtype: int64"
      ]
     },
     "execution_count": 157,
     "metadata": {},
     "output_type": "execute_result"
    }
   ],
   "source": [
    "steadier_sample_cross[(steadier_sample_cross.compound==\"Thymine C5H6N2O2\")].value_counts(\"family_receiver\")"
   ]
  },
  {
   "cell_type": "code",
   "execution_count": 158,
   "id": "d049799b-245c-4549-b9c9-d16d7eb2e98d",
   "metadata": {},
   "outputs": [
    {
     "data": {
      "text/plain": [
       "family_receiver\n",
       "f_Lachnospiraceae        0.000017\n",
       "f_CAG-74                 0.000014\n",
       "Other                    0.000005\n",
       "f_Sphaerochaetaceae      0.000004\n",
       "f_Desulfovibrionaceae    0.000003\n",
       "Name: mass_rate*frequency, dtype: float64"
      ]
     },
     "execution_count": 158,
     "metadata": {},
     "output_type": "execute_result"
    }
   ],
   "source": [
    "steadier_sample_cross[(steadier_sample_cross.compound==\"Thymine C5H6N2O2\")].groupby([\"family_receiver\"]).sum()[\"mass_rate*frequency\"].sort_values(ascending=False)\n"
   ]
  },
  {
   "cell_type": "markdown",
   "id": "c86f5410-8cc1-49f5-b61f-c5d0b287701f",
   "metadata": {},
   "source": [
    "**Donor of Thymine C5H6N2O2**"
   ]
  },
  {
   "cell_type": "code",
   "execution_count": 159,
   "id": "ff7bcfac-643a-4d26-a69f-addbb07e259d",
   "metadata": {},
   "outputs": [
    {
     "data": {
      "text/plain": [
       "family_donor\n",
       "Other                    10\n",
       "f_Desulfovibrionaceae     8\n",
       "f_Fibrobacteraceae        3\n",
       "f_Lachnospiraceae         2\n",
       "dtype: int64"
      ]
     },
     "execution_count": 159,
     "metadata": {},
     "output_type": "execute_result"
    }
   ],
   "source": [
    "steadier_sample_cross[(steadier_sample_cross.compound==\"Thymine C5H6N2O2\")].value_counts(\"family_donor\")"
   ]
  },
  {
   "cell_type": "code",
   "execution_count": 160,
   "id": "2f4da38b-2e20-45c5-8f28-11bd6be7f450",
   "metadata": {},
   "outputs": [
    {
     "data": {
      "text/plain": [
       "family_donor\n",
       "f_Desulfovibrionaceae    0.000027\n",
       "Other                    0.000011\n",
       "f_Lachnospiraceae        0.000003\n",
       "f_Fibrobacteraceae       0.000002\n",
       "Name: mass_rate*frequency, dtype: float64"
      ]
     },
     "execution_count": 160,
     "metadata": {},
     "output_type": "execute_result"
    }
   ],
   "source": [
    "steadier_sample_cross[(steadier_sample_cross.compound==\"Thymine C5H6N2O2\")].groupby([\"family_donor\"]).sum()[\"mass_rate*frequency\"].sort_values(ascending=False)\n"
   ]
  },
  {
   "cell_type": "code",
   "execution_count": 161,
   "id": "6255b269-ae8e-4bca-a07d-e6ef7ca0916a",
   "metadata": {},
   "outputs": [
    {
     "data": {
      "text/plain": [
       "community  family_receiver      \n",
       "CD_A       f_Lachnospiraceae        3.334903e-06\n",
       "CD_P       Other                    3.877135e-06\n",
       "           f_Desulfovibrionaceae    3.036685e-06\n",
       "           f_Lachnospiraceae        1.485775e-06\n",
       "           f_Sphaerochaetaceae      5.755451e-07\n",
       "CM_A       f_CAG-74                 1.136637e-06\n",
       "CM_P       f_CAG-74                 1.245267e-05\n",
       "           f_Sphaerochaetaceae      3.190788e-06\n",
       "           Other                    7.530478e-07\n",
       "M_P        f_Lachnospiraceae        1.236434e-05\n",
       "           Other                    4.077591e-07\n",
       "Name: mass_rate*frequency, dtype: float64"
      ]
     },
     "execution_count": 161,
     "metadata": {},
     "output_type": "execute_result"
    }
   ],
   "source": [
    "steadier_sample_cross[(steadier_sample_cross.compound==\"Thymine C5H6N2O2\")].groupby([\"community\",\"family_receiver\"]).sum().sort_values([\"community\",\"mass_rate*frequency\"],ascending=[True,False])[\"mass_rate*frequency\"]\n"
   ]
  },
  {
   "cell_type": "code",
   "execution_count": 162,
   "id": "a6c426ee-8f34-4d89-8773-4cd0d136aac3",
   "metadata": {},
   "outputs": [
    {
     "data": {
      "text/plain": [
       "community  family_donor         \n",
       "CD_A       f_Desulfovibrionaceae    2.359785e-06\n",
       "           f_Fibrobacteraceae       9.751177e-07\n",
       "CD_P       Other                    8.975140e-06\n",
       "CM_A       f_Fibrobacteraceae       1.136637e-06\n",
       "CM_P       f_Desulfovibrionaceae    1.461857e-05\n",
       "           Other                    1.777932e-06\n",
       "M_P        f_Desulfovibrionaceae    1.023711e-05\n",
       "           f_Lachnospiraceae        2.534990e-06\n",
       "Name: mass_rate*frequency, dtype: float64"
      ]
     },
     "execution_count": 162,
     "metadata": {},
     "output_type": "execute_result"
    }
   ],
   "source": [
    "steadier_sample_cross[(steadier_sample_cross.compound==\"Thymine C5H6N2O2\")].groupby([\"community\",\"family_donor\"]).sum().sort_values([\"community\",\"mass_rate*frequency\"],ascending=[True,False])[\"mass_rate*frequency\"]\n"
   ]
  },
  {
   "cell_type": "code",
   "execution_count": null,
   "id": "89c0839e-1267-40f2-a87f-dfc860cd8ffb",
   "metadata": {},
   "outputs": [],
   "source": []
  }
 ],
 "metadata": {
  "kernelspec": {
   "display_name": "MAGs_RecAndAn2",
   "language": "python",
   "name": "mags_recandan2"
  },
  "language_info": {
   "codemirror_mode": {
    "name": "ipython",
    "version": 3
   },
   "file_extension": ".py",
   "mimetype": "text/x-python",
   "name": "python",
   "nbconvert_exporter": "python",
   "pygments_lexer": "ipython3",
   "version": "3.9.13"
  }
 },
 "nbformat": 4,
 "nbformat_minor": 5
}

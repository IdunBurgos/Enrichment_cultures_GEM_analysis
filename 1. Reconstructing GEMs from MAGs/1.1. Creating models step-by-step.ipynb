{
 "cells": [
  {
   "cell_type": "markdown",
   "id": "3c378ef2-ee80-4b0b-b23c-4ce8834aa161",
   "metadata": {},
   "source": [
    "# Creating models step-by-step"
   ]
  },
  {
   "cell_type": "code",
   "execution_count": null,
   "id": "fac02344-8377-4ecc-8e9c-16f1c1bc4a5f",
   "metadata": {},
   "outputs": [],
   "source": [
    "import os\n",
    "import json\n",
    "import numpy as np\n",
    "import pandas as pd\n",
    "import collections\n",
    "import sys\n",
    "import seaborn as sns\n",
    "import copy\n",
    "import subprocess\n",
    "\n",
    "from libchebipy._chebi_entity import ChebiEntity\n",
    "from Bio import Entrez, SeqIO\n",
    "import reframed\n",
    "from reframed.io.sbml import parse_gpr_rule\n",
    "\n",
    "sys.path.append('../functions')\n",
    "\n",
    "import translation_dicts\n",
    "import general_functions as general_func\n",
    "import EGC as EGC\n",
    "import MAG_environments"
   ]
  },
  {
   "cell_type": "markdown",
   "id": "b1f1725e-b9cb-4b97-a785-ccc9a3353263",
   "metadata": {},
   "source": [
    "# Prepare data "
   ]
  },
  {
   "cell_type": "code",
   "execution_count": null,
   "id": "95753d80-9e56-487b-bc1b-8bb62b4c392b",
   "metadata": {},
   "outputs": [],
   "source": [
    "! mkdir ../output/\n",
    "! mkdir ../output/MAGs_fasta/\n",
    "\n",
    "%run -i \"./python_scripts_process_data/1. Processing MAG data - From genbank to fasta.py\"\n",
    "\n",
    "%run -i \"./python_scripts_process_data/2. Defining metabolite classes.py\"\n",
    "\n",
    "%run -i \"./python_scripts_process_data/3. MAG-community association.py\"\n",
    "\n",
    "%run -i \"./python_scripts_process_data/4. Community production.py\"\n"
   ]
  },
  {
   "cell_type": "markdown",
   "id": "a4e80079-7a12-476a-8a46-ca61d7cbe7b7",
   "metadata": {},
   "source": [
    "# Build genome-scale metabolic models"
   ]
  },
  {
   "cell_type": "markdown",
   "id": "cc8a80c9-fb21-4515-b3bf-2965a8d28608",
   "metadata": {},
   "source": [
    "## Create models without constraints"
   ]
  },
  {
   "cell_type": "code",
   "execution_count": null,
   "id": "5e12ab8c-2a8c-495e-8e2e-ab00b09ada82",
   "metadata": {},
   "outputs": [],
   "source": [
    "! mkdir ../output/GEMs\n",
    "! mkdir ../output/GEMs/GEMs_no_constraints/"
   ]
  },
  {
   "cell_type": "code",
   "execution_count": null,
   "id": "5e8feea8-33f0-47e6-bf3e-20f575db1b56",
   "metadata": {
    "scrolled": true,
    "tags": []
   },
   "outputs": [],
   "source": [
    "! source activate MAGs_RecAndAn2; ./bash_scripts/make_GEMs2.sh"
   ]
  },
  {
   "cell_type": "markdown",
   "id": "de2a9bf6-e930-427b-bd43-e7593f7e9f01",
   "metadata": {},
   "source": [
    "## Create models with constraints"
   ]
  },
  {
   "cell_type": "markdown",
   "id": "a545e63a-ce2b-4f6e-adc6-c001bcfe81ac",
   "metadata": {
    "tags": []
   },
   "source": [
    "#### Create constraints"
   ]
  },
  {
   "cell_type": "code",
   "execution_count": null,
   "id": "6349dd31-4ee6-4f01-aa37-37cfe9c3746f",
   "metadata": {},
   "outputs": [],
   "source": [
    "! mkdir ../output/soft_constraints/"
   ]
  },
  {
   "cell_type": "code",
   "execution_count": null,
   "id": "001c7315-8468-4031-a9b2-5fa9e20af370",
   "metadata": {},
   "outputs": [],
   "source": [
    "%run -i \"python_scripts/1. create soft constraints.py\""
   ]
  },
  {
   "cell_type": "code",
   "execution_count": null,
   "id": "7856e39a-f034-4932-ab61-ee86e5a043f6",
   "metadata": {},
   "outputs": [],
   "source": [
    "SC_media_test_old = pd.read_csv(\"../output_30_08_24/soft_constraints/SC_CD_X.tsv\",\n",
    "                                          sep=\"\\t\",\n",
    "                                          header=None)\n",
    "SC_media_test_old"
   ]
  },
  {
   "cell_type": "code",
   "execution_count": null,
   "id": "0a524450-cb6e-48c5-8705-a22e11714589",
   "metadata": {},
   "outputs": [],
   "source": [
    "SC_media_test_new = pd.DataFrame(pd.Series(soft_constraints_new[\"CD_X\"])).reset_index()\n",
    "SC_media_test_new"
   ]
  },
  {
   "cell_type": "markdown",
   "id": "4fc8c42a-9ba2-4951-9d93-d1be44a894a7",
   "metadata": {
    "tags": []
   },
   "source": [
    "#### Create models "
   ]
  },
  {
   "cell_type": "code",
   "execution_count": null,
   "id": "c3f40b04-a94d-439b-9677-9f9bb2cf973d",
   "metadata": {},
   "outputs": [],
   "source": [
    "! mkdir ../output/GEMs/GEMs_intermediate/\n"
   ]
  },
  {
   "cell_type": "code",
   "execution_count": null,
   "id": "ab8bd11e-7396-42ff-87d6-55492346594b",
   "metadata": {
    "scrolled": true,
    "tags": []
   },
   "outputs": [],
   "source": [
    "! source activate MAGs_RecAndAn2; ./bash_scripts/make_GEMs_soft_constraints.sh 0.1\n"
   ]
  },
  {
   "cell_type": "markdown",
   "id": "b5102ce8-e516-4adb-9fac-b3c98ba4f965",
   "metadata": {},
   "source": [
    "## Select models"
   ]
  },
  {
   "cell_type": "markdown",
   "id": "6f47cea5-de99-472e-8440-d323f2a1ad50",
   "metadata": {
    "tags": []
   },
   "source": [
    "We have different sets of reconstructed models.\n",
    "\n",
    "- **no_constr**: no soft constraints included. This is the ideal, but not all metabolites were produced.\n",
    "- **constr0_1**: Will likely add reactions needed to support the phenotype, but it is a biased approach. May overpredict the amount of models carrying the ability. \n",
    "\n",
    "Strategy\n",
    "\n",
    "1. Find the difference between the models\n",
    "2. **Selection**: The models that required the least amount of changes (symmetric difference) to acquire the desired phenotype."
   ]
  },
  {
   "cell_type": "code",
   "execution_count": null,
   "id": "a9e9d8bd-7af8-4cdc-980a-de77d46559b5",
   "metadata": {},
   "outputs": [],
   "source": [
    "! mkdir ../output/GEMs/GEMs_intermediate/GEMs_adapt/"
   ]
  },
  {
   "cell_type": "code",
   "execution_count": null,
   "id": "acec2cd4-ebb5-40d0-851a-8977a7aa70b8",
   "metadata": {
    "tags": []
   },
   "outputs": [],
   "source": [
    "%run -i \"python_scripts/2. Select models.py\""
   ]
  },
  {
   "cell_type": "code",
   "execution_count": null,
   "id": "1204cfe3-ca06-49fd-82d6-4f09e23a24aa",
   "metadata": {
    "scrolled": true,
    "tags": []
   },
   "outputs": [],
   "source": [
    "print(\"\\t Assertions...\")\n",
    "\n",
    "\n",
    "directory = os.fsencode(\"../output_30_08_24/GEMs/GEMs_intermediate/GEMs_adapt/\")\n",
    "difference = {}\n",
    "\n",
    "\n",
    "for file in os.listdir(directory):\n",
    "\n",
    "    filename = os.fsdecode(file)\n",
    "    print(filename[:-4])\n",
    "    difference[filename[:-4]] = {}    \n",
    "    if filename.endswith(\".xml\"): \n",
    "        model = reframed.load_cbmodel(\"../output_30_08_24/GEMs/GEMs_intermediate/GEMs_adapt/\"+filename)\n",
    "        difference[filename[:-4]][\"original\"] = set(model.reactions) -set(GEMs_dict[\"adapt\"][filename[:-4]].reactions)\n",
    "        difference[filename[:-4]][\"new\"] = set(GEMs_dict[\"adapt\"][filename[:-4]].reactions)-set(model.reactions)\n",
    "        "
   ]
  },
  {
   "cell_type": "code",
   "execution_count": null,
   "id": "25ab0bee-fcfb-4d12-a21e-6b7753e758ca",
   "metadata": {},
   "outputs": [],
   "source": [
    "pd.DataFrame(difference).T.sort_values(\"new\",ascending=False)"
   ]
  },
  {
   "cell_type": "code",
   "execution_count": null,
   "id": "de5a4398-cd9e-47e0-9750-9fc0100374c0",
   "metadata": {},
   "outputs": [],
   "source": [
    "GEMs_dict.keys()"
   ]
  },
  {
   "cell_type": "code",
   "execution_count": null,
   "id": "d3c2e7e1-cb9a-4bdd-bd56-8b9ee1ca0f73",
   "metadata": {},
   "outputs": [],
   "source": [
    "len(set(GEMs_dict[\"no_constr\"][\"CH14-bin.1\"].reactions).symmetric_difference(set(GEMs_dict[\"constr0_1\"][\"CH14-bin.1\"].reactions)))"
   ]
  },
  {
   "cell_type": "code",
   "execution_count": null,
   "id": "af1e7f88-dec2-4709-ac55-de7ad1da7928",
   "metadata": {},
   "outputs": [],
   "source": [
    "len(set(GEMs_dict[\"no_constr\"][\"CH14-bin.2\"].reactions).symmetric_difference(set(GEMs_dict[\"constr0_1\"][\"CH14-bin.2\"].reactions)))"
   ]
  },
  {
   "cell_type": "code",
   "execution_count": null,
   "id": "b0917d93-315b-4523-8140-6a49f2280228",
   "metadata": {},
   "outputs": [],
   "source": [
    "best_candidates.dropna()"
   ]
  },
  {
   "cell_type": "code",
   "execution_count": null,
   "id": "21f1ac41-36f7-47e0-a834-c866676e2dd9",
   "metadata": {},
   "outputs": [],
   "source": [
    "set(model.reactions)-set(GEMs_dict[\"adapt\"][filename[:-4]].reactions)"
   ]
  },
  {
   "cell_type": "code",
   "execution_count": null,
   "id": "e8bd1fad-4175-4eb3-ac5b-7f3114315e4f",
   "metadata": {},
   "outputs": [],
   "source": [
    "set(GEMs_dict[\"adapt\"][filename[:-4]].reactions)-set(model.reactions)"
   ]
  },
  {
   "cell_type": "markdown",
   "id": "a75b1063-6780-4e7f-893c-de9bbde27145",
   "metadata": {},
   "source": [
    "## Fixing acetate, acetaldehyde, and O2 transporters "
   ]
  },
  {
   "cell_type": "markdown",
   "id": "7b6f2b46-8039-4abc-9c88-11c20ec32525",
   "metadata": {
    "tags": []
   },
   "source": [
    "####  Find transporters"
   ]
  },
  {
   "cell_type": "code",
   "execution_count": null,
   "id": "af61abdd-b804-4e34-9ffb-5b0a391b9acb",
   "metadata": {},
   "outputs": [],
   "source": [
    "! mkdir ../output/transporters"
   ]
  },
  {
   "cell_type": "code",
   "execution_count": null,
   "id": "b5207660-4901-4e22-9bef-a81dd8feddf3",
   "metadata": {
    "scrolled": true,
    "tags": []
   },
   "outputs": [],
   "source": [
    "! source activate MAGs_RecAndAn2; export PATH=$PATH:/usr/local/ncbi/blast/bin/; ./bash_scripts/acetate_transport_predict.sh"
   ]
  },
  {
   "cell_type": "markdown",
   "id": "f7043b4a-fbbc-4370-8ccd-d5edaa6f975d",
   "metadata": {
    "tags": []
   },
   "source": [
    "#### Fixing transporters"
   ]
  },
  {
   "cell_type": "code",
   "execution_count": null,
   "id": "a152f968-252c-4976-97c5-3a0318633f07",
   "metadata": {},
   "outputs": [],
   "source": [
    "! mkdir ../output/GEMs/GEMs_intermediate/GEMs_ACt2r/"
   ]
  },
  {
   "cell_type": "code",
   "execution_count": null,
   "id": "db52f79f-7ac4-4671-801a-41a65ae48879",
   "metadata": {},
   "outputs": [],
   "source": [
    "%run -i \"python_scripts/3. Fixing acetate acetaldehyde and O2 transporters.py\""
   ]
  },
  {
   "cell_type": "code",
   "execution_count": null,
   "id": "a385a175-3aa4-4741-8a75-ae4959ea2b8d",
   "metadata": {
    "tags": []
   },
   "outputs": [],
   "source": [
    "directory = os.fsencode(\"../output_30_08_24/GEMs/GEMs_intermediate/GEMs_ACt2r/\")\n",
    "for file in os.listdir(directory):\n",
    "    \n",
    "    filename = os.fsdecode(file)\n",
    "    if filename.endswith(\".xml\"): \n",
    "        model_old = reframed.load_cbmodel(\"../output_30_08_24/GEMs/GEMs_intermediate/GEMs_ACt2r/\"+filename)\n",
    "        \n",
    "        difference[filename[:-4]] = set(model_old.reactions).symmetric_difference(set(GEMs_dict3[filename[:-4]].reactions))\n",
    "        "
   ]
  },
  {
   "cell_type": "code",
   "execution_count": null,
   "id": "1e7cd71b-5417-4630-8b74-3bdd8dda5e6a",
   "metadata": {},
   "outputs": [],
   "source": [
    "pd.Series({mag:len(set_) for mag,set_ in difference.items()}).sort_values().tail(20)"
   ]
  },
  {
   "cell_type": "code",
   "execution_count": null,
   "id": "5c0305dd-ee50-474a-8aaa-e8b4a52525be",
   "metadata": {
    "tags": []
   },
   "outputs": [],
   "source": [
    "difference[\"CH15-bin.13\"]"
   ]
  },
  {
   "cell_type": "code",
   "execution_count": null,
   "id": "8f9e37ac-aaad-4fc3-a144-dbab9c96774d",
   "metadata": {
    "tags": []
   },
   "outputs": [],
   "source": [
    "difference[\"CH7-bin.8\"]"
   ]
  },
  {
   "cell_type": "markdown",
   "id": "d27647c0-7090-4624-9330-ba2c345b6ff4",
   "metadata": {
    "tags": []
   },
   "source": [
    "## Gap-filling with media - creating media "
   ]
  },
  {
   "cell_type": "markdown",
   "id": "44c65593-a977-4915-9c8a-13caf846d1a7",
   "metadata": {
    "tags": []
   },
   "source": [
    "This part builds on the reconstruction with soft constraints. The models selected from that process are further used here. \n",
    "\n",
    "\n",
    "Strategy:\n",
    "- **Make media based on..**\n",
    "    - **product prediction of models able to grow**\n",
    "    - **Filter by CHEBI class**"
   ]
  },
  {
   "cell_type": "code",
   "execution_count": null,
   "id": "15b41380-61c2-4b8c-9a1a-6abde4d0d86d",
   "metadata": {},
   "outputs": [],
   "source": [
    "! mkdir ../output/gapfill_media"
   ]
  },
  {
   "cell_type": "code",
   "execution_count": null,
   "id": "2973dd04-4368-4c63-9654-0695f98c9312",
   "metadata": {},
   "outputs": [],
   "source": [
    "%run -i \"python_scripts/4. Create media for gapfilling.py\""
   ]
  },
  {
   "cell_type": "markdown",
   "id": "34895481-9799-42ad-951d-e858f73eba18",
   "metadata": {},
   "source": [
    "##### Check that everything is as expected"
   ]
  },
  {
   "cell_type": "code",
   "execution_count": null,
   "id": "ceb2a9af-6605-4ef8-a738-e0b6272ec5b4",
   "metadata": {},
   "outputs": [],
   "source": [
    "media_total_df_old = pd.read_csv(\"../output_30_08_24/gapfill_media/gapfill_media.tsv\",sep=\"\\t\")\n",
    "media_total_df = pd.concat(media_dfs).reset_index(drop=True)"
   ]
  },
  {
   "cell_type": "code",
   "execution_count": null,
   "id": "ebe87aca-727d-431e-99b2-8dbaa5ba7a5b",
   "metadata": {},
   "outputs": [],
   "source": [
    "for community_id in media_total_df.medium.unique():\n",
    "    print(community_id)\n",
    "    if community_id==\"CD_X\" or community_id==\"CM_P\":\n",
    "        continue\n",
    "    assert set(media_total_df[media_total_df.medium==community_id].compound.values)==set(media_total_df_old[media_total_df_old.medium==community_id].compound.values)\n",
    "    "
   ]
  },
  {
   "cell_type": "code",
   "execution_count": null,
   "id": "71bbb066-bc37-4616-a98d-432659cd2d7c",
   "metadata": {},
   "outputs": [],
   "source": [
    "len(set(media_total_df[media_total_df.medium==\"CD_X\"].compound.values).intersection(set(media_total_df_old[media_total_df_old.medium==\"CD_X\"].compound.values)))"
   ]
  },
  {
   "cell_type": "code",
   "execution_count": null,
   "id": "964d2877-28bd-4c5c-a479-4a9c4bb5086b",
   "metadata": {},
   "outputs": [],
   "source": [
    "set(media_total_df[media_total_df.medium==\"CD_X\"].compound.values)-set(media_total_df_old[media_total_df_old.medium==\"CD_X\"].compound.values)\n"
   ]
  },
  {
   "cell_type": "code",
   "execution_count": null,
   "id": "729a529c-d19c-4bca-866e-28f67c17d339",
   "metadata": {},
   "outputs": [],
   "source": [
    "set(media_total_df_old[media_total_df_old.medium==\"CD_X\"].compound.values)-set(media_total_df[media_total_df.medium==\"CD_X\"].compound.values)"
   ]
  },
  {
   "cell_type": "code",
   "execution_count": null,
   "id": "59798881-28f6-4812-b3cb-352605676c32",
   "metadata": {},
   "outputs": [],
   "source": [
    "len(set(media_total_df[media_total_df.medium==\"CM_P\"].compound.values).intersection(set(media_total_df_old[media_total_df_old.medium==\"CM_P\"].compound.values)))\n"
   ]
  },
  {
   "cell_type": "code",
   "execution_count": null,
   "id": "4c3d294e-2fa8-4b02-8585-a65a6da7daa2",
   "metadata": {},
   "outputs": [],
   "source": [
    "set(media_total_df[media_total_df.medium==\"CM_P\"].compound.values)-set(media_total_df_old[media_total_df_old.medium==\"CM_P\"].compound.values)\n"
   ]
  },
  {
   "cell_type": "code",
   "execution_count": null,
   "id": "6937618f-7d27-4457-90ab-719c9cdfe5d1",
   "metadata": {},
   "outputs": [],
   "source": [
    "set(media_total_df_old[media_total_df_old.medium==\"CM_P\"].compound.values)-set(media_total_df[media_total_df.medium==\"CM_P\"].compound.values)"
   ]
  },
  {
   "cell_type": "markdown",
   "id": "585af52d-7e21-4a0a-948c-1203362daa56",
   "metadata": {},
   "source": [
    "## Gapfill models"
   ]
  },
  {
   "cell_type": "code",
   "execution_count": null,
   "id": "81d5e234-0a29-45e2-b3d9-a90544b43456",
   "metadata": {},
   "outputs": [],
   "source": [
    "! mkdir ../output/GEMs/GEMs_final"
   ]
  },
  {
   "cell_type": "code",
   "execution_count": null,
   "id": "08c8f0d0-a71f-46b3-9ac0-b57f5c43b681",
   "metadata": {
    "scrolled": true,
    "tags": []
   },
   "outputs": [],
   "source": [
    "! source activate MAGs_RecAndAn2; ./bash_scripts/gapfill_GEMs_media.sh\n"
   ]
  },
  {
   "cell_type": "markdown",
   "id": "c130c216-c955-48d2-a28f-6f78112a5443",
   "metadata": {},
   "source": [
    "## Final changes"
   ]
  },
  {
   "cell_type": "markdown",
   "id": "cb545ba2-1968-4cf3-a859-f1760839a3e6",
   "metadata": {},
   "source": [
    "#### Load models"
   ]
  },
  {
   "cell_type": "code",
   "execution_count": null,
   "id": "07cf5fef-ae1f-45c6-81f1-b5d42c5de869",
   "metadata": {
    "scrolled": true,
    "tags": []
   },
   "outputs": [],
   "source": [
    "GEMs_adapt_media = {}\n",
    "\n",
    "directory = os.fsencode(\"../output/GEMs/GEMs_final/\")\n",
    "\n",
    "for file in os.listdir(directory):\n",
    "    filename = os.fsdecode(file)\n",
    "\n",
    "    GEMs_adapt_media[filename[:-4]]= reframed.load_cbmodel(\"../output/GEMs/GEMs_final/\"+filename)\n"
   ]
  },
  {
   "cell_type": "code",
   "execution_count": null,
   "id": "3fed6d8d-f367-476b-92e0-3214beeb0400",
   "metadata": {},
   "outputs": [],
   "source": [
    "for MAG, model in GEMs_adapt_media.items():\n",
    "    \n",
    "    if \"R_EX_2h3mb_e\" in model.reactions:\n",
    "        print(MAG)     \n",
    "        rxns = model.get_metabolite_reactions(\"M_2h3mb_e\")\n",
    "        model.remove_reactions(rxns)\n",
    "        model.remove_metabolite(\"M_2h3mb_e\")\n",
    "        model.update()\n",
    "        GEMs_adapt_media[MAG]=model\n",
    "        \n",
    "        "
   ]
  },
  {
   "cell_type": "code",
   "execution_count": null,
   "id": "f87f4486-bb07-402b-9016-79b2fbfb56ab",
   "metadata": {},
   "outputs": [],
   "source": [
    "for MAG,model in GEMs_adapt_media.items():\n",
    "    reframed.save_cbmodel(model,filename=\"../output/GEMs/GEMs_final/\"+MAG+\".xml\")"
   ]
  },
  {
   "cell_type": "code",
   "execution_count": null,
   "id": "8fc9e76b-bd47-4371-8ca8-3449a00f1306",
   "metadata": {},
   "outputs": [],
   "source": []
  }
 ],
 "metadata": {
  "kernelspec": {
   "display_name": "MAGs_RecAndAn2",
   "language": "python",
   "name": "mags_recandan2"
  },
  "language_info": {
   "codemirror_mode": {
    "name": "ipython",
    "version": 3
   },
   "file_extension": ".py",
   "mimetype": "text/x-python",
   "name": "python",
   "nbconvert_exporter": "python",
   "pygments_lexer": "ipython3",
   "version": "3.9.13"
  }
 },
 "nbformat": 4,
 "nbformat_minor": 5
}

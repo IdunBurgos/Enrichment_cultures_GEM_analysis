{
 "cells": [
  {
   "cell_type": "markdown",
   "id": "1d3b4544-6cc8-455c-b94f-317842365e15",
   "metadata": {},
   "source": [
    "## Statistical tests"
   ]
  },
  {
   "cell_type": "code",
   "execution_count": 1,
   "id": "b3700d6f-9a6b-492d-b2bb-156e93c84709",
   "metadata": {},
   "outputs": [],
   "source": [
    "import pandas as pd\n",
    "import reframed\n",
    "\n",
    "from matplotlib import colors\n",
    "import sys\n",
    "sys.path.append(\"../functions_steadiercom/\")\n",
    "sys.path.append(\"../functions/\")\n",
    "import supplementary_process_data as process_data\n",
    "import supplementary_statistics\n",
    "import general_functions as general_func\n",
    "\n",
    "import steadiercom_samples_preprocessing as steadiercom_pre\n"
   ]
  },
  {
   "cell_type": "code",
   "execution_count": 2,
   "id": "6a942613-34c9-49de-977c-b05c5bb3b2be",
   "metadata": {},
   "outputs": [],
   "source": [
    "%load_ext autoreload\n",
    "%autoreload 2"
   ]
  },
  {
   "cell_type": "code",
   "execution_count": 61,
   "id": "9e84955f-ef02-4598-9d5e-cfbdced0889c",
   "metadata": {},
   "outputs": [],
   "source": [
    "communityid2name_dict = {\"CD_A\":\"Compost digestate - Avicel\",\n",
    "\"CD_P\":\"Compost digestate - PASC\",\n",
    "\"CD_X\":\"Compost digestate - Xylan\",\n",
    "\"CM_A\":\"Cow manure - Avicel\",\n",
    "\"CM_P\":\"Cow manure - PASC\",\n",
    "\"CM_X\":\"Cow manure - Xylan\",\n",
    "\"M_P\":\"Marshland soil - PASC\",\n",
    "\"M_X\":\"Marshland soil - Xylan\",\n",
    "}\n",
    "\n",
    "\n",
    "SC1_C = pd.read_csv(\"../output_30_08_24/steadiercom_sample_0.1.3/results/results_99_SC1_C.tsv\",sep=\"\\t\")\n",
    "SC2_C = pd.read_csv(\"../output_30_08_24/steadiercom_sample_0.1.3/results/results_99_SC2_C.tsv\",sep=\"\\t\")\n",
    "SC1_X = pd.read_csv(\"../output_30_08_24/steadiercom_sample_0.1.3/results/results_99_SC1_X.tsv\",sep=\"\\t\")\n",
    "\n",
    "steadier_sample = pd.concat([SC1_C,SC2_C,SC1_X])\n",
    "\n",
    "\n",
    "steadier_sample = steadier_sample[(steadier_sample.rate>1e-6)].copy()\n",
    "steadier_sample = steadier_sample[(steadier_sample.frequency>0.1)].copy()\n",
    "steadier_sample.mass_rate = steadier_sample.mass_rate*1000"
   ]
  },
  {
   "cell_type": "code",
   "execution_count": 62,
   "id": "4bd9ff43-3e59-44f8-ba49-cb4b056e1229",
   "metadata": {},
   "outputs": [],
   "source": [
    "all_mags_paper = general_func.read_allmags_data()\n",
    "all_mags_paper_reduced,total_members_genus = general_func.all_mags_paper_genus(all_mags_paper,prefix=True)\n",
    "all_mags_paper_reduced,total_members_family = general_func.all_mags_paper_family(all_mags_paper_reduced,prefix=True,combine=True)"
   ]
  },
  {
   "cell_type": "code",
   "execution_count": 63,
   "id": "10b11474-74ea-4260-aef4-45f887472acc",
   "metadata": {},
   "outputs": [],
   "source": [
    "steadier_sample = process_data.process_data(steadier_sample,all_mags_paper_reduced=all_mags_paper_reduced)"
   ]
  },
  {
   "cell_type": "code",
   "execution_count": 65,
   "id": "55c3f4b0-e4da-487e-bc1d-6a213f5c5e5c",
   "metadata": {},
   "outputs": [
    {
     "data": {
      "text/html": [
       "<div>\n",
       "<style scoped>\n",
       "    .dataframe tbody tr th:only-of-type {\n",
       "        vertical-align: middle;\n",
       "    }\n",
       "\n",
       "    .dataframe tbody tr th {\n",
       "        vertical-align: top;\n",
       "    }\n",
       "\n",
       "    .dataframe thead th {\n",
       "        text-align: right;\n",
       "    }\n",
       "</style>\n",
       "<table border=\"1\" class=\"dataframe\">\n",
       "  <thead>\n",
       "    <tr style=\"text-align: right;\">\n",
       "      <th></th>\n",
       "      <th>donor</th>\n",
       "      <th>receiver</th>\n",
       "      <th>compound</th>\n",
       "      <th>mass_rate</th>\n",
       "      <th>rate</th>\n",
       "      <th>frequency</th>\n",
       "      <th>community</th>\n",
       "      <th>medium</th>\n",
       "      <th>mass_rate*frequency</th>\n",
       "      <th>super_class</th>\n",
       "      <th>genus_donor</th>\n",
       "      <th>genus_receiver</th>\n",
       "      <th>family_donor</th>\n",
       "      <th>family_receiver</th>\n",
       "    </tr>\n",
       "  </thead>\n",
       "  <tbody>\n",
       "    <tr>\n",
       "      <th>13</th>\n",
       "      <td>CH15-bin.0</td>\n",
       "      <td>CH15-bin.7</td>\n",
       "      <td>D-Glucose</td>\n",
       "      <td>4.921516</td>\n",
       "      <td>0.027318</td>\n",
       "      <td>0.27</td>\n",
       "      <td>CD_P</td>\n",
       "      <td>SC1_C</td>\n",
       "      <td>1.328809</td>\n",
       "      <td>simple sugars</td>\n",
       "      <td>g_DUOS01</td>\n",
       "      <td>g_Sphaerochaeta</td>\n",
       "      <td>f_Treponemataceae</td>\n",
       "      <td>f_Sphaerochaetaceae</td>\n",
       "    </tr>\n",
       "    <tr>\n",
       "      <th>33</th>\n",
       "      <td>CH13-bin.11</td>\n",
       "      <td>CH13-bin.4</td>\n",
       "      <td>Cellobiose</td>\n",
       "      <td>2.822338</td>\n",
       "      <td>0.008245</td>\n",
       "      <td>0.11</td>\n",
       "      <td>CD_A</td>\n",
       "      <td>SC1_C</td>\n",
       "      <td>0.310457</td>\n",
       "      <td>oligosaccharides</td>\n",
       "      <td>g_Desulfovibrio</td>\n",
       "      <td>g_Bacteroides</td>\n",
       "      <td>f_Desulfovibrionaceae</td>\n",
       "      <td>f_Bacteroidaceae</td>\n",
       "    </tr>\n",
       "    <tr>\n",
       "      <th>36</th>\n",
       "      <td>CH13-bin.14</td>\n",
       "      <td>CH13-bin.25</td>\n",
       "      <td>D-Glucose</td>\n",
       "      <td>2.705991</td>\n",
       "      <td>0.015020</td>\n",
       "      <td>0.20</td>\n",
       "      <td>CD_A</td>\n",
       "      <td>SC1_C</td>\n",
       "      <td>0.541198</td>\n",
       "      <td>simple sugars</td>\n",
       "      <td>g_Lacrimispora</td>\n",
       "      <td>g_Sphaerochaeta</td>\n",
       "      <td>f_Lachnospiraceae</td>\n",
       "      <td>f_Sphaerochaetaceae</td>\n",
       "    </tr>\n",
       "    <tr>\n",
       "      <th>39</th>\n",
       "      <td>CH15-bin.7</td>\n",
       "      <td>CH15-bin.8</td>\n",
       "      <td>D-Glucose</td>\n",
       "      <td>2.435377</td>\n",
       "      <td>0.013518</td>\n",
       "      <td>0.12</td>\n",
       "      <td>CD_P</td>\n",
       "      <td>SC1_C</td>\n",
       "      <td>0.292245</td>\n",
       "      <td>simple sugars</td>\n",
       "      <td>g_Sphaerochaeta</td>\n",
       "      <td>g_Desulfocurvibacter</td>\n",
       "      <td>f_Sphaerochaetaceae</td>\n",
       "      <td>f_Desulfovibrionaceae</td>\n",
       "    </tr>\n",
       "    <tr>\n",
       "      <th>41</th>\n",
       "      <td>CH15-bin.23</td>\n",
       "      <td>CH15-bin.8</td>\n",
       "      <td>D-Glucose</td>\n",
       "      <td>2.385105</td>\n",
       "      <td>0.013239</td>\n",
       "      <td>0.17</td>\n",
       "      <td>CD_P</td>\n",
       "      <td>SC1_C</td>\n",
       "      <td>0.405468</td>\n",
       "      <td>simple sugars</td>\n",
       "      <td>g_DTFZ01</td>\n",
       "      <td>g_Desulfocurvibacter</td>\n",
       "      <td>Other</td>\n",
       "      <td>f_Desulfovibrionaceae</td>\n",
       "    </tr>\n",
       "    <tr>\n",
       "      <th>...</th>\n",
       "      <td>...</td>\n",
       "      <td>...</td>\n",
       "      <td>...</td>\n",
       "      <td>...</td>\n",
       "      <td>...</td>\n",
       "      <td>...</td>\n",
       "      <td>...</td>\n",
       "      <td>...</td>\n",
       "      <td>...</td>\n",
       "      <td>...</td>\n",
       "      <td>...</td>\n",
       "      <td>...</td>\n",
       "      <td>...</td>\n",
       "      <td>...</td>\n",
       "    </tr>\n",
       "    <tr>\n",
       "      <th>345</th>\n",
       "      <td>CH3-bin.2</td>\n",
       "      <td>CH3-bin.0</td>\n",
       "      <td>Thymine</td>\n",
       "      <td>0.000461</td>\n",
       "      <td>0.000004</td>\n",
       "      <td>0.33</td>\n",
       "      <td>M_X</td>\n",
       "      <td>SC1_X</td>\n",
       "      <td>0.000152</td>\n",
       "      <td>nucleotides and derivatives</td>\n",
       "      <td>g_Clostridium</td>\n",
       "      <td>g_Sporolactobacillus</td>\n",
       "      <td>f_Clostridiaceae</td>\n",
       "      <td>Other</td>\n",
       "    </tr>\n",
       "    <tr>\n",
       "      <th>347</th>\n",
       "      <td>CH14-bin.1</td>\n",
       "      <td>CH14-bin.4</td>\n",
       "      <td>Hydrogen</td>\n",
       "      <td>0.000415</td>\n",
       "      <td>0.000206</td>\n",
       "      <td>0.18</td>\n",
       "      <td>CD_X</td>\n",
       "      <td>SC1_X</td>\n",
       "      <td>0.000075</td>\n",
       "      <td>gases</td>\n",
       "      <td>g_Lacrimispora</td>\n",
       "      <td>g_Desulfovibrio</td>\n",
       "      <td>f_Lachnospiraceae</td>\n",
       "      <td>f_Desulfovibrionaceae</td>\n",
       "    </tr>\n",
       "    <tr>\n",
       "      <th>351</th>\n",
       "      <td>CH14-bin.4</td>\n",
       "      <td>CH14-bin.2</td>\n",
       "      <td>Hydrogen sulfide</td>\n",
       "      <td>0.000274</td>\n",
       "      <td>0.000008</td>\n",
       "      <td>0.73</td>\n",
       "      <td>CD_X</td>\n",
       "      <td>SC1_X</td>\n",
       "      <td>0.000200</td>\n",
       "      <td>gases</td>\n",
       "      <td>g_Desulfovibrio</td>\n",
       "      <td>g_Robinsoniella</td>\n",
       "      <td>f_Desulfovibrionaceae</td>\n",
       "      <td>f_Lachnospiraceae</td>\n",
       "    </tr>\n",
       "    <tr>\n",
       "      <th>353</th>\n",
       "      <td>CH9-bin.2</td>\n",
       "      <td>CH9-bin.5</td>\n",
       "      <td>Hydrogen sulfide</td>\n",
       "      <td>0.000254</td>\n",
       "      <td>0.000007</td>\n",
       "      <td>0.22</td>\n",
       "      <td>CM_X</td>\n",
       "      <td>SC1_X</td>\n",
       "      <td>0.000056</td>\n",
       "      <td>gases</td>\n",
       "      <td>g_Clostridium</td>\n",
       "      <td>g_Lentilactobacillus</td>\n",
       "      <td>f_Clostridiaceae</td>\n",
       "      <td>f_Lactobacillaceae</td>\n",
       "    </tr>\n",
       "    <tr>\n",
       "      <th>358</th>\n",
       "      <td>CH9-bin.2</td>\n",
       "      <td>CH9-bin.4</td>\n",
       "      <td>Hydrogen sulfide</td>\n",
       "      <td>0.000165</td>\n",
       "      <td>0.000005</td>\n",
       "      <td>0.22</td>\n",
       "      <td>CM_X</td>\n",
       "      <td>SC1_X</td>\n",
       "      <td>0.000036</td>\n",
       "      <td>gases</td>\n",
       "      <td>g_Clostridium</td>\n",
       "      <td>g_Lentilactobacillus</td>\n",
       "      <td>f_Clostridiaceae</td>\n",
       "      <td>f_Lactobacillaceae</td>\n",
       "    </tr>\n",
       "  </tbody>\n",
       "</table>\n",
       "<p>1178 rows × 14 columns</p>\n",
       "</div>"
      ],
      "text/plain": [
       "           donor     receiver          compound  mass_rate      rate  \\\n",
       "13    CH15-bin.0   CH15-bin.7         D-Glucose   4.921516  0.027318   \n",
       "33   CH13-bin.11   CH13-bin.4        Cellobiose   2.822338  0.008245   \n",
       "36   CH13-bin.14  CH13-bin.25         D-Glucose   2.705991  0.015020   \n",
       "39    CH15-bin.7   CH15-bin.8         D-Glucose   2.435377  0.013518   \n",
       "41   CH15-bin.23   CH15-bin.8         D-Glucose   2.385105  0.013239   \n",
       "..           ...          ...               ...        ...       ...   \n",
       "345    CH3-bin.2    CH3-bin.0           Thymine   0.000461  0.000004   \n",
       "347   CH14-bin.1   CH14-bin.4          Hydrogen   0.000415  0.000206   \n",
       "351   CH14-bin.4   CH14-bin.2  Hydrogen sulfide   0.000274  0.000008   \n",
       "353    CH9-bin.2    CH9-bin.5  Hydrogen sulfide   0.000254  0.000007   \n",
       "358    CH9-bin.2    CH9-bin.4  Hydrogen sulfide   0.000165  0.000005   \n",
       "\n",
       "     frequency community medium  mass_rate*frequency  \\\n",
       "13        0.27      CD_P  SC1_C             1.328809   \n",
       "33        0.11      CD_A  SC1_C             0.310457   \n",
       "36        0.20      CD_A  SC1_C             0.541198   \n",
       "39        0.12      CD_P  SC1_C             0.292245   \n",
       "41        0.17      CD_P  SC1_C             0.405468   \n",
       "..         ...       ...    ...                  ...   \n",
       "345       0.33       M_X  SC1_X             0.000152   \n",
       "347       0.18      CD_X  SC1_X             0.000075   \n",
       "351       0.73      CD_X  SC1_X             0.000200   \n",
       "353       0.22      CM_X  SC1_X             0.000056   \n",
       "358       0.22      CM_X  SC1_X             0.000036   \n",
       "\n",
       "                     super_class      genus_donor        genus_receiver  \\\n",
       "13                 simple sugars         g_DUOS01       g_Sphaerochaeta   \n",
       "33              oligosaccharides  g_Desulfovibrio         g_Bacteroides   \n",
       "36                 simple sugars   g_Lacrimispora       g_Sphaerochaeta   \n",
       "39                 simple sugars  g_Sphaerochaeta  g_Desulfocurvibacter   \n",
       "41                 simple sugars         g_DTFZ01  g_Desulfocurvibacter   \n",
       "..                           ...              ...                   ...   \n",
       "345  nucleotides and derivatives    g_Clostridium  g_Sporolactobacillus   \n",
       "347                        gases   g_Lacrimispora       g_Desulfovibrio   \n",
       "351                        gases  g_Desulfovibrio       g_Robinsoniella   \n",
       "353                        gases    g_Clostridium  g_Lentilactobacillus   \n",
       "358                        gases    g_Clostridium  g_Lentilactobacillus   \n",
       "\n",
       "              family_donor        family_receiver  \n",
       "13       f_Treponemataceae    f_Sphaerochaetaceae  \n",
       "33   f_Desulfovibrionaceae       f_Bacteroidaceae  \n",
       "36       f_Lachnospiraceae    f_Sphaerochaetaceae  \n",
       "39     f_Sphaerochaetaceae  f_Desulfovibrionaceae  \n",
       "41                   Other  f_Desulfovibrionaceae  \n",
       "..                     ...                    ...  \n",
       "345       f_Clostridiaceae                  Other  \n",
       "347      f_Lachnospiraceae  f_Desulfovibrionaceae  \n",
       "351  f_Desulfovibrionaceae      f_Lachnospiraceae  \n",
       "353       f_Clostridiaceae     f_Lactobacillaceae  \n",
       "358       f_Clostridiaceae     f_Lactobacillaceae  \n",
       "\n",
       "[1178 rows x 14 columns]"
      ]
     },
     "execution_count": 65,
     "metadata": {},
     "output_type": "execute_result"
    }
   ],
   "source": [
    "steadier_sample_cross = steadier_sample[(steadier_sample.donor!=\"environment\") & (steadier_sample.receiver!=\"environment\")]\n",
    "steadier_sample_cross"
   ]
  },
  {
   "cell_type": "markdown",
   "id": "88175f58-ecec-4e09-8b5b-52aa7750116e",
   "metadata": {},
   "source": [
    "### Interactions - Statistics"
   ]
  },
  {
   "cell_type": "code",
   "execution_count": 66,
   "id": "778e9679-b935-4f00-a5cd-e5bb11f384d3",
   "metadata": {},
   "outputs": [],
   "source": [
    "family_groups,mag2family_dict = general_func.mag2family(all_mags_paper_reduced)"
   ]
  },
  {
   "cell_type": "code",
   "execution_count": 67,
   "id": "6c2924b6-ede1-48b0-bd54-93726ae5839f",
   "metadata": {},
   "outputs": [
    {
     "data": {
      "text/plain": [
       "Other                    19\n",
       "f_Bacteroidaceae          4\n",
       "f_CAG-74                  2\n",
       "f_Clostridiaceae          3\n",
       "f_Desulfobulbaceae        2\n",
       "f_Desulfovibrionaceae    12\n",
       "f_Dysgonomonadaceae       4\n",
       "f_Fibrobacteraceae        2\n",
       "f_Lachnospiraceae         8\n",
       "f_Lactobacillaceae        2\n",
       "f_Lentimicrobiaceae       2\n",
       "f_Sphaerochaetaceae       6\n",
       "f_Treponemataceae         4\n",
       "f_Verruco-01              3\n",
       "dtype: int64"
      ]
     },
     "execution_count": 67,
     "metadata": {},
     "output_type": "execute_result"
    }
   ],
   "source": [
    "pd.Series({family:len(mags) for family,mags in family_groups.items()})"
   ]
  },
  {
   "cell_type": "code",
   "execution_count": 68,
   "id": "33d863dc-5bcb-44bc-a190-5e4afbe4e94a",
   "metadata": {},
   "outputs": [
    {
     "data": {
      "text/plain": [
       "73"
      ]
     },
     "execution_count": 68,
     "metadata": {},
     "output_type": "execute_result"
    }
   ],
   "source": [
    "pd.Series({family:len(mags) for family,mags in family_groups.items()}).sum()"
   ]
  },
  {
   "cell_type": "code",
   "execution_count": 69,
   "id": "4ed18d34-0274-436a-946c-f3c185869790",
   "metadata": {},
   "outputs": [
    {
     "data": {
      "text/html": [
       "<div>\n",
       "<style scoped>\n",
       "    .dataframe tbody tr th:only-of-type {\n",
       "        vertical-align: middle;\n",
       "    }\n",
       "\n",
       "    .dataframe tbody tr th {\n",
       "        vertical-align: top;\n",
       "    }\n",
       "\n",
       "    .dataframe thead th {\n",
       "        text-align: right;\n",
       "    }\n",
       "</style>\n",
       "<table border=\"1\" class=\"dataframe\">\n",
       "  <thead>\n",
       "    <tr style=\"text-align: right;\">\n",
       "      <th></th>\n",
       "      <th>Source</th>\n",
       "      <th>Substrate</th>\n",
       "      <th>Family</th>\n",
       "      <th>Genus</th>\n",
       "      <th>new_coverage</th>\n",
       "    </tr>\n",
       "    <tr>\n",
       "      <th>MAG</th>\n",
       "      <th></th>\n",
       "      <th></th>\n",
       "      <th></th>\n",
       "      <th></th>\n",
       "      <th></th>\n",
       "    </tr>\n",
       "  </thead>\n",
       "  <tbody>\n",
       "    <tr>\n",
       "      <th>CH13-bin.12</th>\n",
       "      <td>Compost_Digestate</td>\n",
       "      <td>Avicel</td>\n",
       "      <td>f_Fibrobacteraceae</td>\n",
       "      <td>g_Fibro-01</td>\n",
       "      <td>36.526676</td>\n",
       "    </tr>\n",
       "    <tr>\n",
       "      <th>CH13-bin.11</th>\n",
       "      <td>Compost_Digestate</td>\n",
       "      <td>Avicel</td>\n",
       "      <td>f_Desulfovibrionaceae</td>\n",
       "      <td>g_Desulfovibrio</td>\n",
       "      <td>10.155790</td>\n",
       "    </tr>\n",
       "    <tr>\n",
       "      <th>CH13-bin.4</th>\n",
       "      <td>Compost_Digestate</td>\n",
       "      <td>Avicel</td>\n",
       "      <td>f_Bacteroidaceae</td>\n",
       "      <td>g_Bacteroides</td>\n",
       "      <td>10.043970</td>\n",
       "    </tr>\n",
       "    <tr>\n",
       "      <th>CH15-bin.0</th>\n",
       "      <td>Compost_Digestate</td>\n",
       "      <td>PASC</td>\n",
       "      <td>f_Treponemataceae</td>\n",
       "      <td>g_DUOS01</td>\n",
       "      <td>23.919040</td>\n",
       "    </tr>\n",
       "    <tr>\n",
       "      <th>CH15-bin.23</th>\n",
       "      <td>Compost_Digestate</td>\n",
       "      <td>PASC</td>\n",
       "      <td>Other</td>\n",
       "      <td>g_DTFZ01</td>\n",
       "      <td>10.319866</td>\n",
       "    </tr>\n",
       "    <tr>\n",
       "      <th>CH14-bin.1</th>\n",
       "      <td>Compost_Digestate</td>\n",
       "      <td>Xylan</td>\n",
       "      <td>f_Lachnospiraceae</td>\n",
       "      <td>g_Lacrimispora</td>\n",
       "      <td>54.707294</td>\n",
       "    </tr>\n",
       "    <tr>\n",
       "      <th>CH14-bin.2</th>\n",
       "      <td>Compost_Digestate</td>\n",
       "      <td>Xylan</td>\n",
       "      <td>f_Lachnospiraceae</td>\n",
       "      <td>g_Robinsoniella</td>\n",
       "      <td>18.831114</td>\n",
       "    </tr>\n",
       "    <tr>\n",
       "      <th>CH14-bin.0</th>\n",
       "      <td>Compost_Digestate</td>\n",
       "      <td>Xylan</td>\n",
       "      <td>Other</td>\n",
       "      <td>g_Caproiciproducens</td>\n",
       "      <td>15.617491</td>\n",
       "    </tr>\n",
       "    <tr>\n",
       "      <th>CH8-bin.22</th>\n",
       "      <td>Cow_Manure</td>\n",
       "      <td>Avicel</td>\n",
       "      <td>f_Fibrobacteraceae</td>\n",
       "      <td>g_Fibro-01</td>\n",
       "      <td>42.725525</td>\n",
       "    </tr>\n",
       "    <tr>\n",
       "      <th>CH7-bin.23</th>\n",
       "      <td>Cow_Manure</td>\n",
       "      <td>PASC</td>\n",
       "      <td>f_Desulfovibrionaceae</td>\n",
       "      <td>g_Halodesulfovibrio</td>\n",
       "      <td>38.075882</td>\n",
       "    </tr>\n",
       "    <tr>\n",
       "      <th>CH9-bin.0</th>\n",
       "      <td>Cow_Manure</td>\n",
       "      <td>Xylan</td>\n",
       "      <td>Other</td>\n",
       "      <td>g_Bifidobacterium</td>\n",
       "      <td>70.451904</td>\n",
       "    </tr>\n",
       "    <tr>\n",
       "      <th>CH1-bin.6</th>\n",
       "      <td>Marshland</td>\n",
       "      <td>PASC</td>\n",
       "      <td>f_Lachnospiraceae</td>\n",
       "      <td>g_Lacrimispora</td>\n",
       "      <td>45.242630</td>\n",
       "    </tr>\n",
       "    <tr>\n",
       "      <th>CH1-bin.9</th>\n",
       "      <td>Marshland</td>\n",
       "      <td>PASC</td>\n",
       "      <td>f_Desulfovibrionaceae</td>\n",
       "      <td>g_Solidesulfovibrio</td>\n",
       "      <td>31.170460</td>\n",
       "    </tr>\n",
       "    <tr>\n",
       "      <th>CH3-bin.2</th>\n",
       "      <td>Marshland</td>\n",
       "      <td>Xylan</td>\n",
       "      <td>f_Clostridiaceae</td>\n",
       "      <td>g_Clostridium</td>\n",
       "      <td>74.153410</td>\n",
       "    </tr>\n",
       "    <tr>\n",
       "      <th>CH3-bin.1</th>\n",
       "      <td>Marshland</td>\n",
       "      <td>Xylan</td>\n",
       "      <td>f_Clostridiaceae</td>\n",
       "      <td>g_Clostridium_S</td>\n",
       "      <td>21.418886</td>\n",
       "    </tr>\n",
       "  </tbody>\n",
       "</table>\n",
       "</div>"
      ],
      "text/plain": [
       "                        Source Substrate                 Family  \\\n",
       "MAG                                                               \n",
       "CH13-bin.12  Compost_Digestate    Avicel     f_Fibrobacteraceae   \n",
       "CH13-bin.11  Compost_Digestate    Avicel  f_Desulfovibrionaceae   \n",
       "CH13-bin.4   Compost_Digestate    Avicel       f_Bacteroidaceae   \n",
       "CH15-bin.0   Compost_Digestate      PASC      f_Treponemataceae   \n",
       "CH15-bin.23  Compost_Digestate      PASC                  Other   \n",
       "CH14-bin.1   Compost_Digestate     Xylan      f_Lachnospiraceae   \n",
       "CH14-bin.2   Compost_Digestate     Xylan      f_Lachnospiraceae   \n",
       "CH14-bin.0   Compost_Digestate     Xylan                  Other   \n",
       "CH8-bin.22          Cow_Manure    Avicel     f_Fibrobacteraceae   \n",
       "CH7-bin.23          Cow_Manure      PASC  f_Desulfovibrionaceae   \n",
       "CH9-bin.0           Cow_Manure     Xylan                  Other   \n",
       "CH1-bin.6            Marshland      PASC      f_Lachnospiraceae   \n",
       "CH1-bin.9            Marshland      PASC  f_Desulfovibrionaceae   \n",
       "CH3-bin.2            Marshland     Xylan       f_Clostridiaceae   \n",
       "CH3-bin.1            Marshland     Xylan       f_Clostridiaceae   \n",
       "\n",
       "                           Genus  new_coverage  \n",
       "MAG                                             \n",
       "CH13-bin.12           g_Fibro-01     36.526676  \n",
       "CH13-bin.11      g_Desulfovibrio     10.155790  \n",
       "CH13-bin.4         g_Bacteroides     10.043970  \n",
       "CH15-bin.0              g_DUOS01     23.919040  \n",
       "CH15-bin.23             g_DTFZ01     10.319866  \n",
       "CH14-bin.1        g_Lacrimispora     54.707294  \n",
       "CH14-bin.2       g_Robinsoniella     18.831114  \n",
       "CH14-bin.0   g_Caproiciproducens     15.617491  \n",
       "CH8-bin.22            g_Fibro-01     42.725525  \n",
       "CH7-bin.23   g_Halodesulfovibrio     38.075882  \n",
       "CH9-bin.0      g_Bifidobacterium     70.451904  \n",
       "CH1-bin.6         g_Lacrimispora     45.242630  \n",
       "CH1-bin.9    g_Solidesulfovibrio     31.170460  \n",
       "CH3-bin.2          g_Clostridium     74.153410  \n",
       "CH3-bin.1        g_Clostridium_S     21.418886  "
      ]
     },
     "execution_count": 69,
     "metadata": {},
     "output_type": "execute_result"
    }
   ],
   "source": [
    "all_mags_paper_reduced[all_mags_paper_reduced[\"new_coverage\"]>10][[\"Source\",\"Substrate\",\"Family\",\"Genus\",\"new_coverage\"]].sort_values([\"Source\",\"Substrate\"])"
   ]
  },
  {
   "cell_type": "markdown",
   "id": "65220a15-c8d9-4743-8967-d230d2bc5dd3",
   "metadata": {},
   "source": [
    "### All communities"
   ]
  },
  {
   "cell_type": "markdown",
   "id": "29ac3a22-d126-4bb0-8bbe-79dae43fc468",
   "metadata": {},
   "source": [
    "#### Likelyhood that family X is receiving compound A"
   ]
  },
  {
   "cell_type": "code",
   "execution_count": 70,
   "id": "0b5b840a-18c3-4d8e-a4dd-04407b9568e9",
   "metadata": {},
   "outputs": [
    {
     "data": {
      "text/plain": [
       "(205, 7)"
      ]
     },
     "execution_count": 70,
     "metadata": {},
     "output_type": "execute_result"
    }
   ],
   "source": [
    "statistics_df = supplementary_statistics.statistics_function(steadier_sample_cross,\"family_receiver\",\"compound\",family_groups=family_groups,metric=\"rate\",metric_thresh=1e-6,pvalue_thresh=1)\n",
    "statistics_df = supplementary_statistics.statistics_adjustments(statistics_df)\n",
    "statistics_df.shape"
   ]
  },
  {
   "cell_type": "code",
   "execution_count": 71,
   "id": "ba5c38ac-f700-42af-8559-af3d94654712",
   "metadata": {},
   "outputs": [
    {
     "data": {
      "text/html": [
       "<div>\n",
       "<style scoped>\n",
       "    .dataframe tbody tr th:only-of-type {\n",
       "        vertical-align: middle;\n",
       "    }\n",
       "\n",
       "    .dataframe tbody tr th {\n",
       "        vertical-align: top;\n",
       "    }\n",
       "\n",
       "    .dataframe thead th {\n",
       "        text-align: right;\n",
       "    }\n",
       "</style>\n",
       "<table border=\"1\" class=\"dataframe\">\n",
       "  <thead>\n",
       "    <tr style=\"text-align: right;\">\n",
       "      <th></th>\n",
       "      <th></th>\n",
       "      <th>p_value</th>\n",
       "      <th>odds_ratio</th>\n",
       "      <th>data</th>\n",
       "      <th># interaction</th>\n",
       "      <th># no interaction</th>\n",
       "      <th>i</th>\n",
       "      <th>p_value_benjamini_h</th>\n",
       "    </tr>\n",
       "    <tr>\n",
       "      <th>family_receiver</th>\n",
       "      <th>compound</th>\n",
       "      <th></th>\n",
       "      <th></th>\n",
       "      <th></th>\n",
       "      <th></th>\n",
       "      <th></th>\n",
       "      <th></th>\n",
       "      <th></th>\n",
       "    </tr>\n",
       "  </thead>\n",
       "  <tbody>\n",
       "    <tr>\n",
       "      <th>f_Lactobacillaceae</th>\n",
       "      <th>L-Ornithine</th>\n",
       "      <td>0.000104</td>\n",
       "      <td>inf</td>\n",
       "      <td>[[2.0, 0.0], [0.0, 71.0]]</td>\n",
       "      <td>2.0</td>\n",
       "      <td>0</td>\n",
       "      <td>1.0</td>\n",
       "      <td>0.021409</td>\n",
       "    </tr>\n",
       "  </tbody>\n",
       "</table>\n",
       "</div>"
      ],
      "text/plain": [
       "                                 p_value odds_ratio  \\\n",
       "family_receiver    compound                           \n",
       "f_Lactobacillaceae L-Ornithine  0.000104        inf   \n",
       "\n",
       "                                                     data # interaction  \\\n",
       "family_receiver    compound                                               \n",
       "f_Lactobacillaceae L-Ornithine  [[2.0, 0.0], [0.0, 71.0]]           2.0   \n",
       "\n",
       "                               # no interaction    i  p_value_benjamini_h  \n",
       "family_receiver    compound                                                \n",
       "f_Lactobacillaceae L-Ornithine                0  1.0             0.021409  "
      ]
     },
     "execution_count": 71,
     "metadata": {},
     "output_type": "execute_result"
    }
   ],
   "source": [
    "statistics_df[(statistics_df.p_value_benjamini_h<0.05) & (statistics_df[\"odds_ratio\"]>4.95)]"
   ]
  },
  {
   "cell_type": "markdown",
   "id": "b085ba80-ff2a-437f-a4f2-4a77ebd77737",
   "metadata": {
    "tags": []
   },
   "source": [
    "#### Likelyhood that family X is donating a compound A to another family"
   ]
  },
  {
   "cell_type": "code",
   "execution_count": 72,
   "id": "de0f7084-195d-44af-a2ce-3a5aecd6b029",
   "metadata": {},
   "outputs": [
    {
     "data": {
      "text/plain": [
       "(172, 7)"
      ]
     },
     "execution_count": 72,
     "metadata": {},
     "output_type": "execute_result"
    }
   ],
   "source": [
    "statistics_df = supplementary_statistics.statistics_function(steadier_sample_cross,\"family_donor\",\"compound\",family_groups=family_groups,metric=\"rate\",metric_thresh=1e-6,pvalue_thresh=1)\n",
    "statistics_df = supplementary_statistics.statistics_adjustments(statistics_df)\n",
    "statistics_df.shape"
   ]
  },
  {
   "cell_type": "code",
   "execution_count": 73,
   "id": "3cc0a23c-112b-436f-bd46-2ef303bce661",
   "metadata": {},
   "outputs": [
    {
     "data": {
      "text/html": [
       "<div>\n",
       "<style scoped>\n",
       "    .dataframe tbody tr th:only-of-type {\n",
       "        vertical-align: middle;\n",
       "    }\n",
       "\n",
       "    .dataframe tbody tr th {\n",
       "        vertical-align: top;\n",
       "    }\n",
       "\n",
       "    .dataframe thead th {\n",
       "        text-align: right;\n",
       "    }\n",
       "</style>\n",
       "<table border=\"1\" class=\"dataframe\">\n",
       "  <thead>\n",
       "    <tr style=\"text-align: right;\">\n",
       "      <th></th>\n",
       "      <th></th>\n",
       "      <th>p_value</th>\n",
       "      <th>odds_ratio</th>\n",
       "      <th>data</th>\n",
       "      <th># interaction</th>\n",
       "      <th># no interaction</th>\n",
       "      <th>i</th>\n",
       "      <th>p_value_benjamini_h</th>\n",
       "    </tr>\n",
       "    <tr>\n",
       "      <th>family_donor</th>\n",
       "      <th>compound</th>\n",
       "      <th></th>\n",
       "      <th></th>\n",
       "      <th></th>\n",
       "      <th></th>\n",
       "      <th></th>\n",
       "      <th></th>\n",
       "      <th></th>\n",
       "    </tr>\n",
       "  </thead>\n",
       "  <tbody>\n",
       "    <tr>\n",
       "      <th>f_Fibrobacteraceae</th>\n",
       "      <th>Indole</th>\n",
       "      <td>0.00176</td>\n",
       "      <td>17.75</td>\n",
       "      <td>[[2.0, 0.0], [4.0, 67.0]]</td>\n",
       "      <td>2.0</td>\n",
       "      <td>0</td>\n",
       "      <td>7.0</td>\n",
       "      <td>0.043238</td>\n",
       "    </tr>\n",
       "    <tr>\n",
       "      <th>f_Lachnospiraceae</th>\n",
       "      <th>Guanine</th>\n",
       "      <td>0.000903</td>\n",
       "      <td>6.770833</td>\n",
       "      <td>[[5.0, 3.0], [6.0, 59.0]]</td>\n",
       "      <td>5.0</td>\n",
       "      <td>3</td>\n",
       "      <td>6.0</td>\n",
       "      <td>0.025897</td>\n",
       "    </tr>\n",
       "    <tr>\n",
       "      <th>f_Lactobacillaceae</th>\n",
       "      <th>L-Ornithine</th>\n",
       "      <td>0.000104</td>\n",
       "      <td>inf</td>\n",
       "      <td>[[2.0, 0.0], [0.0, 71.0]]</td>\n",
       "      <td>2.0</td>\n",
       "      <td>0</td>\n",
       "      <td>1.0</td>\n",
       "      <td>0.017962</td>\n",
       "    </tr>\n",
       "    <tr>\n",
       "      <th rowspan=\"2\" valign=\"top\">f_Sphaerochaetaceae</th>\n",
       "      <th>D-Glucose</th>\n",
       "      <td>0.000501</td>\n",
       "      <td>5.583333</td>\n",
       "      <td>[[5.0, 1.0], [10.0, 57.0]]</td>\n",
       "      <td>5.0</td>\n",
       "      <td>1</td>\n",
       "      <td>4.0</td>\n",
       "      <td>0.021544</td>\n",
       "    </tr>\n",
       "    <tr>\n",
       "      <th>D-Mannose 1-phosphate</th>\n",
       "      <td>0.000197</td>\n",
       "      <td>14.888889</td>\n",
       "      <td>[[4.0, 2.0], [3.0, 64.0]]</td>\n",
       "      <td>4.0</td>\n",
       "      <td>2</td>\n",
       "      <td>2.0</td>\n",
       "      <td>0.016979</td>\n",
       "    </tr>\n",
       "  </tbody>\n",
       "</table>\n",
       "</div>"
      ],
      "text/plain": [
       "                                            p_value odds_ratio  \\\n",
       "family_donor        compound                                     \n",
       "f_Fibrobacteraceae  Indole                  0.00176      17.75   \n",
       "f_Lachnospiraceae   Guanine                0.000903   6.770833   \n",
       "f_Lactobacillaceae  L-Ornithine            0.000104        inf   \n",
       "f_Sphaerochaetaceae D-Glucose              0.000501   5.583333   \n",
       "                    D-Mannose 1-phosphate  0.000197  14.888889   \n",
       "\n",
       "                                                                 data  \\\n",
       "family_donor        compound                                            \n",
       "f_Fibrobacteraceae  Indole                  [[2.0, 0.0], [4.0, 67.0]]   \n",
       "f_Lachnospiraceae   Guanine                 [[5.0, 3.0], [6.0, 59.0]]   \n",
       "f_Lactobacillaceae  L-Ornithine             [[2.0, 0.0], [0.0, 71.0]]   \n",
       "f_Sphaerochaetaceae D-Glucose              [[5.0, 1.0], [10.0, 57.0]]   \n",
       "                    D-Mannose 1-phosphate   [[4.0, 2.0], [3.0, 64.0]]   \n",
       "\n",
       "                                          # interaction # no interaction    i  \\\n",
       "family_donor        compound                                                    \n",
       "f_Fibrobacteraceae  Indole                          2.0                0  7.0   \n",
       "f_Lachnospiraceae   Guanine                         5.0                3  6.0   \n",
       "f_Lactobacillaceae  L-Ornithine                     2.0                0  1.0   \n",
       "f_Sphaerochaetaceae D-Glucose                       5.0                1  4.0   \n",
       "                    D-Mannose 1-phosphate           4.0                2  2.0   \n",
       "\n",
       "                                           p_value_benjamini_h  \n",
       "family_donor        compound                                    \n",
       "f_Fibrobacteraceae  Indole                            0.043238  \n",
       "f_Lachnospiraceae   Guanine                           0.025897  \n",
       "f_Lactobacillaceae  L-Ornithine                       0.017962  \n",
       "f_Sphaerochaetaceae D-Glucose                         0.021544  \n",
       "                    D-Mannose 1-phosphate             0.016979  "
      ]
     },
     "execution_count": 73,
     "metadata": {},
     "output_type": "execute_result"
    }
   ],
   "source": [
    "statistics_df[(statistics_df.p_value_benjamini_h<0.05) & (statistics_df[\"odds_ratio\"]>4.95)]"
   ]
  },
  {
   "cell_type": "markdown",
   "id": "18ebf064-a049-48ac-b269-31452269c214",
   "metadata": {},
   "source": [
    "#### Likelyhood that family X is receiving from family Y"
   ]
  },
  {
   "cell_type": "code",
   "execution_count": 75,
   "id": "57435ff6-dd83-4605-a0f2-cd46aa896b2d",
   "metadata": {},
   "outputs": [
    {
     "data": {
      "text/plain": [
       "(93, 7)"
      ]
     },
     "execution_count": 75,
     "metadata": {},
     "output_type": "execute_result"
    }
   ],
   "source": [
    "statistics_df = supplementary_statistics.statistics_function(steadier_sample_cross,\"family_receiver\",\"family_donor\",\n",
    "                                                             family_groups=family_groups,metric=\"rate\",metric_thresh=1e-6,pvalue_thresh=1)\n",
    "statistics_df = supplementary_statistics.statistics_adjustments(statistics_df)\n",
    "statistics_df.shape"
   ]
  },
  {
   "cell_type": "code",
   "execution_count": 76,
   "id": "fad470bd-a8fa-42f5-acb0-322b024d3765",
   "metadata": {},
   "outputs": [
    {
     "data": {
      "text/html": [
       "<div>\n",
       "<style scoped>\n",
       "    .dataframe tbody tr th:only-of-type {\n",
       "        vertical-align: middle;\n",
       "    }\n",
       "\n",
       "    .dataframe tbody tr th {\n",
       "        vertical-align: top;\n",
       "    }\n",
       "\n",
       "    .dataframe thead th {\n",
       "        text-align: right;\n",
       "    }\n",
       "</style>\n",
       "<table border=\"1\" class=\"dataframe\">\n",
       "  <thead>\n",
       "    <tr style=\"text-align: right;\">\n",
       "      <th></th>\n",
       "      <th></th>\n",
       "      <th>p_value</th>\n",
       "      <th>odds_ratio</th>\n",
       "      <th>data</th>\n",
       "      <th># interaction</th>\n",
       "      <th># no interaction</th>\n",
       "      <th>i</th>\n",
       "      <th>p_value_benjamini_h</th>\n",
       "    </tr>\n",
       "    <tr>\n",
       "      <th>family_receiver</th>\n",
       "      <th>family_donor</th>\n",
       "      <th></th>\n",
       "      <th></th>\n",
       "      <th></th>\n",
       "      <th></th>\n",
       "      <th></th>\n",
       "      <th></th>\n",
       "      <th></th>\n",
       "    </tr>\n",
       "  </thead>\n",
       "  <tbody>\n",
       "  </tbody>\n",
       "</table>\n",
       "</div>"
      ],
      "text/plain": [
       "Empty DataFrame\n",
       "Columns: [p_value, odds_ratio, data, # interaction, # no interaction, i, p_value_benjamini_h]\n",
       "Index: []"
      ]
     },
     "execution_count": 76,
     "metadata": {},
     "output_type": "execute_result"
    }
   ],
   "source": [
    "statistics_df[(statistics_df.p_value_benjamini_h<0.05) & (statistics_df[\"odds_ratio\"]>4.95)]"
   ]
  },
  {
   "cell_type": "markdown",
   "id": "fcc3d24c-4c9f-4f05-8273-a377e1094a8a",
   "metadata": {},
   "source": [
    "### Cellulose communities"
   ]
  },
  {
   "cell_type": "code",
   "execution_count": 77,
   "id": "2dcdb618-8494-47b7-88b0-0102cf447688",
   "metadata": {},
   "outputs": [],
   "source": [
    "all_mags_paper_reduced2 = all_mags_paper_reduced[(all_mags_paper_reduced.Substrate==\"PASC\")|(all_mags_paper_reduced.Substrate==\"Avicel\")].copy()\n",
    "family_groups,mag2family_dict = general_func.mag2family(all_mags_paper_reduced2)"
   ]
  },
  {
   "cell_type": "code",
   "execution_count": 78,
   "id": "55c5e2ed-0f57-4cca-8d2a-8c2d2689d7e9",
   "metadata": {},
   "outputs": [],
   "source": [
    "steadier_sample_cross_cell = steadier_sample_cross[(steadier_sample_cross.community.str.endswith(\"_A\")) | (steadier_sample_cross.community.str.endswith(\"_P\"))]"
   ]
  },
  {
   "cell_type": "markdown",
   "id": "3bde5a20-76cd-4cdb-b903-4b7dba53fd12",
   "metadata": {},
   "source": [
    "#### Likelyhood that family X is receiving compound A"
   ]
  },
  {
   "cell_type": "code",
   "execution_count": 79,
   "id": "1dffab90-e5c8-4335-b372-4c4f79d7309c",
   "metadata": {},
   "outputs": [
    {
     "data": {
      "text/plain": [
       "(170, 7)"
      ]
     },
     "execution_count": 79,
     "metadata": {},
     "output_type": "execute_result"
    }
   ],
   "source": [
    "statistics_df = supplementary_statistics.statistics_function(steadier_sample_cross_cell,\"family_receiver\",\"compound\",family_groups=family_groups,metric=\"rate\",metric_thresh=1e-6,pvalue_thresh=1)\n",
    "statistics_df = supplementary_statistics.statistics_adjustments(statistics_df)\n",
    "statistics_df.shape"
   ]
  },
  {
   "cell_type": "code",
   "execution_count": 82,
   "id": "e4c16078-a402-412e-bc8d-6ea64400eaa5",
   "metadata": {},
   "outputs": [
    {
     "data": {
      "text/html": [
       "<div>\n",
       "<style scoped>\n",
       "    .dataframe tbody tr th:only-of-type {\n",
       "        vertical-align: middle;\n",
       "    }\n",
       "\n",
       "    .dataframe tbody tr th {\n",
       "        vertical-align: top;\n",
       "    }\n",
       "\n",
       "    .dataframe thead th {\n",
       "        text-align: right;\n",
       "    }\n",
       "</style>\n",
       "<table border=\"1\" class=\"dataframe\">\n",
       "  <thead>\n",
       "    <tr style=\"text-align: right;\">\n",
       "      <th></th>\n",
       "      <th></th>\n",
       "      <th>p_value</th>\n",
       "      <th>odds_ratio</th>\n",
       "      <th>data</th>\n",
       "      <th># interaction</th>\n",
       "      <th># no interaction</th>\n",
       "      <th>i</th>\n",
       "      <th>p_value_benjamini_h</th>\n",
       "    </tr>\n",
       "    <tr>\n",
       "      <th>family_receiver</th>\n",
       "      <th>compound</th>\n",
       "      <th></th>\n",
       "      <th></th>\n",
       "      <th></th>\n",
       "      <th></th>\n",
       "      <th></th>\n",
       "      <th></th>\n",
       "      <th></th>\n",
       "    </tr>\n",
       "  </thead>\n",
       "  <tbody>\n",
       "    <tr>\n",
       "      <th>f_Lachnospiraceae</th>\n",
       "      <th>Thymine</th>\n",
       "      <td>0.000199</td>\n",
       "      <td>5.0</td>\n",
       "      <td>[[5.0, 0.0], [11.0, 44.0]]</td>\n",
       "      <td>5.0</td>\n",
       "      <td>0</td>\n",
       "      <td>1.0</td>\n",
       "      <td>0.03382</td>\n",
       "    </tr>\n",
       "  </tbody>\n",
       "</table>\n",
       "</div>"
      ],
      "text/plain": [
       "                             p_value odds_ratio                        data  \\\n",
       "family_receiver   compound                                                    \n",
       "f_Lachnospiraceae Thymine   0.000199        5.0  [[5.0, 0.0], [11.0, 44.0]]   \n",
       "\n",
       "                           # interaction # no interaction    i  \\\n",
       "family_receiver   compound                                       \n",
       "f_Lachnospiraceae Thymine            5.0                0  1.0   \n",
       "\n",
       "                            p_value_benjamini_h  \n",
       "family_receiver   compound                       \n",
       "f_Lachnospiraceae Thymine               0.03382  "
      ]
     },
     "execution_count": 82,
     "metadata": {},
     "output_type": "execute_result"
    }
   ],
   "source": [
    "statistics_df[(statistics_df.p_value_benjamini_h<0.05) & (statistics_df[\"odds_ratio\"]>4.95)]"
   ]
  },
  {
   "cell_type": "markdown",
   "id": "a8857982-050e-4de1-9b2f-0229f3bb4e58",
   "metadata": {
    "tags": []
   },
   "source": [
    "#### Likelyhood that family X is donating a compound A to another family"
   ]
  },
  {
   "cell_type": "code",
   "execution_count": 87,
   "id": "b3e8e472-b642-4f31-b071-bde9907a5a2c",
   "metadata": {},
   "outputs": [
    {
     "data": {
      "text/plain": [
       "(145, 7)"
      ]
     },
     "execution_count": 87,
     "metadata": {},
     "output_type": "execute_result"
    }
   ],
   "source": [
    "statistics_df = supplementary_statistics.statistics_function(steadier_sample_cross_cell,\"family_donor\",\"compound\",family_groups=family_groups,metric=\"rate\",metric_thresh=1e-6,pvalue_thresh=1)\n",
    "statistics_df = supplementary_statistics.statistics_adjustments(statistics_df)\n",
    "statistics_df.shape"
   ]
  },
  {
   "cell_type": "code",
   "execution_count": 88,
   "id": "adc2af31-e9f9-4ade-aa03-4a96742bbd7f",
   "metadata": {},
   "outputs": [
    {
     "data": {
      "text/html": [
       "<div>\n",
       "<style scoped>\n",
       "    .dataframe tbody tr th:only-of-type {\n",
       "        vertical-align: middle;\n",
       "    }\n",
       "\n",
       "    .dataframe tbody tr th {\n",
       "        vertical-align: top;\n",
       "    }\n",
       "\n",
       "    .dataframe thead th {\n",
       "        text-align: right;\n",
       "    }\n",
       "</style>\n",
       "<table border=\"1\" class=\"dataframe\">\n",
       "  <thead>\n",
       "    <tr style=\"text-align: right;\">\n",
       "      <th></th>\n",
       "      <th></th>\n",
       "      <th>p_value</th>\n",
       "      <th>odds_ratio</th>\n",
       "      <th>data</th>\n",
       "      <th># interaction</th>\n",
       "      <th># no interaction</th>\n",
       "      <th>i</th>\n",
       "      <th>p_value_benjamini_h</th>\n",
       "    </tr>\n",
       "    <tr>\n",
       "      <th>family_donor</th>\n",
       "      <th>compound</th>\n",
       "      <th></th>\n",
       "      <th></th>\n",
       "      <th></th>\n",
       "      <th></th>\n",
       "      <th></th>\n",
       "      <th></th>\n",
       "      <th></th>\n",
       "    </tr>\n",
       "  </thead>\n",
       "  <tbody>\n",
       "  </tbody>\n",
       "</table>\n",
       "</div>"
      ],
      "text/plain": [
       "Empty DataFrame\n",
       "Columns: [p_value, odds_ratio, data, # interaction, # no interaction, i, p_value_benjamini_h]\n",
       "Index: []"
      ]
     },
     "execution_count": 88,
     "metadata": {},
     "output_type": "execute_result"
    }
   ],
   "source": [
    "statistics_df[(statistics_df.p_value_benjamini_h<0.05) & (statistics_df[\"odds_ratio\"]>4.95)]"
   ]
  },
  {
   "cell_type": "markdown",
   "id": "b619306d-df60-4247-867f-417c1ec4972a",
   "metadata": {},
   "source": [
    "#### Likelyhood that family X is receiving from family Y"
   ]
  },
  {
   "cell_type": "code",
   "execution_count": 89,
   "id": "eae34db8-8fde-4e26-a1c0-a47e3666a658",
   "metadata": {},
   "outputs": [
    {
     "data": {
      "text/plain": [
       "(73, 7)"
      ]
     },
     "execution_count": 89,
     "metadata": {},
     "output_type": "execute_result"
    }
   ],
   "source": [
    "statistics_df = supplementary_statistics.statistics_function(steadier_sample_cross_cell,\"family_receiver\",\"family_donor\",family_groups=family_groups,metric=\"rate\",metric_thresh=1e-6,pvalue_thresh=1)\n",
    "statistics_df = supplementary_statistics.statistics_adjustments(statistics_df)\n",
    "statistics_df.shape"
   ]
  },
  {
   "cell_type": "code",
   "execution_count": 90,
   "id": "f24fba0d-e358-4573-8f72-3ba31ab6f7dd",
   "metadata": {},
   "outputs": [
    {
     "data": {
      "text/html": [
       "<div>\n",
       "<style scoped>\n",
       "    .dataframe tbody tr th:only-of-type {\n",
       "        vertical-align: middle;\n",
       "    }\n",
       "\n",
       "    .dataframe tbody tr th {\n",
       "        vertical-align: top;\n",
       "    }\n",
       "\n",
       "    .dataframe thead th {\n",
       "        text-align: right;\n",
       "    }\n",
       "</style>\n",
       "<table border=\"1\" class=\"dataframe\">\n",
       "  <thead>\n",
       "    <tr style=\"text-align: right;\">\n",
       "      <th></th>\n",
       "      <th></th>\n",
       "      <th>p_value</th>\n",
       "      <th>odds_ratio</th>\n",
       "      <th>data</th>\n",
       "      <th># interaction</th>\n",
       "      <th># no interaction</th>\n",
       "      <th>i</th>\n",
       "      <th>p_value_benjamini_h</th>\n",
       "    </tr>\n",
       "    <tr>\n",
       "      <th>family_receiver</th>\n",
       "      <th>family_donor</th>\n",
       "      <th></th>\n",
       "      <th></th>\n",
       "      <th></th>\n",
       "      <th></th>\n",
       "      <th></th>\n",
       "      <th></th>\n",
       "      <th></th>\n",
       "    </tr>\n",
       "  </thead>\n",
       "  <tbody>\n",
       "  </tbody>\n",
       "</table>\n",
       "</div>"
      ],
      "text/plain": [
       "Empty DataFrame\n",
       "Columns: [p_value, odds_ratio, data, # interaction, # no interaction, i, p_value_benjamini_h]\n",
       "Index: []"
      ]
     },
     "execution_count": 90,
     "metadata": {},
     "output_type": "execute_result"
    }
   ],
   "source": [
    "statistics_df[(statistics_df.p_value_benjamini_h<0.05) & (statistics_df[\"odds_ratio\"]>4.95)]"
   ]
  },
  {
   "cell_type": "code",
   "execution_count": null,
   "id": "f30c16c1-be47-4193-ba91-9a5aa9ce7400",
   "metadata": {},
   "outputs": [],
   "source": []
  },
  {
   "cell_type": "code",
   "execution_count": null,
   "id": "6609e835-6c6a-4395-8219-f8038aad9fab",
   "metadata": {},
   "outputs": [],
   "source": []
  }
 ],
 "metadata": {
  "kernelspec": {
   "display_name": "MAGs_RecAndAn2",
   "language": "python",
   "name": "mags_recandan2"
  },
  "language_info": {
   "codemirror_mode": {
    "name": "ipython",
    "version": 3
   },
   "file_extension": ".py",
   "mimetype": "text/x-python",
   "name": "python",
   "nbconvert_exporter": "python",
   "pygments_lexer": "ipython3",
   "version": "3.9.13"
  }
 },
 "nbformat": 4,
 "nbformat_minor": 5
}

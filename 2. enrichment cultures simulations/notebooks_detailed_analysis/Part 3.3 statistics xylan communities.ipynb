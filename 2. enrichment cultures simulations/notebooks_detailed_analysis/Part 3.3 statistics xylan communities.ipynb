{
 "cells": [
  {
   "cell_type": "markdown",
   "id": "1c38950f-7ec8-4f64-81ca-36df8f5693f6",
   "metadata": {
    "tags": []
   },
   "source": [
    "# Statistics\n",
    "\n",
    "\n",
    "**IDEAS**\n",
    "- SMETANA\n",
    "    - Find likelyhood that a community member from family X is dependent on a community member in family Y.\n",
    "    - Find likelyhood that a community member from family X is dependent on a compound A.\n",
    "\n",
    "- SteadierCOM\n",
    "    - No statistics?"
   ]
  },
  {
   "cell_type": "code",
   "execution_count": 358,
   "id": "b8e94fda-0181-48d5-9b2c-af7cad0a5586",
   "metadata": {},
   "outputs": [],
   "source": [
    "import math\n",
    "\n",
    "import pandas as pd\n",
    "from molmass import Formula\n",
    "import reframed"
   ]
  },
  {
   "cell_type": "code",
   "execution_count": 359,
   "id": "1dcbc1be-9c78-417f-bfc5-655465b122f8",
   "metadata": {},
   "outputs": [],
   "source": [
    "import sys\n",
    "sys.path.append(\"../functions/\")\n",
    "import general_functions as general_func\n",
    "\n",
    "import colors_MAGs\n",
    "import scipy.stats as stats"
   ]
  },
  {
   "cell_type": "code",
   "execution_count": 360,
   "id": "c2bf5f9c-9a84-439f-bfa5-0d1812fde8ed",
   "metadata": {},
   "outputs": [],
   "source": [
    "import numpy as np"
   ]
  },
  {
   "cell_type": "markdown",
   "id": "5d670260-e7e6-4ec1-80e9-7e93d8f4f15b",
   "metadata": {},
   "source": [
    "### Load universal model"
   ]
  },
  {
   "cell_type": "code",
   "execution_count": 361,
   "id": "c2eb8f02-76ca-46bd-ad01-c2544cc1dd61",
   "metadata": {},
   "outputs": [],
   "source": [
    "model_uni = reframed.load_cbmodel(\"/Users/idunmariaburgos/universal_model_extension/output/universe_bacteria.xml\")"
   ]
  },
  {
   "cell_type": "markdown",
   "id": "462a2ca9-969f-47bb-a6b7-aa20310410f3",
   "metadata": {},
   "source": [
    "### Load data "
   ]
  },
  {
   "cell_type": "code",
   "execution_count": 362,
   "id": "63c9b039-b2ac-410a-b109-59e18e52d810",
   "metadata": {},
   "outputs": [],
   "source": [
    "all_mags_paper = general_func.read_allmags_data()"
   ]
  },
  {
   "cell_type": "code",
   "execution_count": 363,
   "id": "66005de7-0dab-47a6-a94b-d8cd8e0aa371",
   "metadata": {},
   "outputs": [],
   "source": [
    "#SC1_C = pd.read_csv(\"../output/steadiercom_sample_0.1.3/results/results_99_SC1_C.tsv\",sep=\"\\t\")\n",
    "#SC2_C = pd.read_csv(\"../output/steadiercom_sample_0.1.3/results/results_99_SC2_C.tsv\",sep=\"\\t\")\n",
    "SC1_X = pd.read_csv(\"../output/steadiercom_sample_0.1.3/results/results_99_SC1_X.tsv\",sep=\"\\t\")\n",
    "\n",
    "steadier_sample = pd.concat([SC1_X])\n",
    "steadier_sample = steadier_sample[(steadier_sample.frequency>0.1) & (steadier_sample.rate>1e-6)]"
   ]
  },
  {
   "cell_type": "code",
   "execution_count": 364,
   "id": "a274f04f-f6a1-43d8-ab28-b0fd938d543b",
   "metadata": {},
   "outputs": [],
   "source": [
    "steadier_sample_cross = steadier_sample[(steadier_sample.donor!=\"environment\") & (steadier_sample.receiver!=\"environment\") ].copy()"
   ]
  },
  {
   "cell_type": "markdown",
   "id": "1e13f64c-7d11-4278-8dff-f9e91d5fdea9",
   "metadata": {},
   "source": [
    "### Prepare to process data"
   ]
  },
  {
   "cell_type": "code",
   "execution_count": 365,
   "id": "678bbe76-dd66-43af-a314-0c1fc58b88db",
   "metadata": {},
   "outputs": [],
   "source": [
    "chebi_lut, chebi_interesting, chebi_colors_ser = colors_MAGs.chebi_rxn_color_func(rxn_based=False)"
   ]
  },
  {
   "cell_type": "markdown",
   "id": "f5ee6fee-d135-48ad-a741-50c44d82a99c",
   "metadata": {},
   "source": [
    "**Change names of family for readability and better grouping**"
   ]
  },
  {
   "cell_type": "code",
   "execution_count": 366,
   "id": "a2521342-ae6a-486b-ba6d-4c068d4c8608",
   "metadata": {},
   "outputs": [],
   "source": [
    "all_mags_paper_reduced = all_mags_paper[all_mags_paper.Substrate==\"Xylan\"].copy()\n",
    "\n",
    "all_mags_paper_reduced[all_mags_paper_reduced[\"new_coverage\"]>10][[\"Source\",\"Substrate\",\"Family\",\"new_coverage\"]].sort_values([\"Source\",\"Substrate\"])\n",
    "\n",
    "all_mags_paper_reduced[\"Family\"] = all_mags_paper.apply(lambda row: \"f_\"+row.Family,axis=1)\n",
    "\n",
    "total_members_family = all_mags_paper_reduced.groupby(\"Family\").count()[\"Source\"].to_dict()\n",
    "all_mags_paper_reduced[\"Family\"] = all_mags_paper_reduced.apply(lambda row: row.Family if total_members_family[row.Family]>1 else \"Other\",axis=1)\n"
   ]
  },
  {
   "cell_type": "code",
   "execution_count": 367,
   "id": "849359c1-e89b-4741-a23e-6a920306db76",
   "metadata": {},
   "outputs": [],
   "source": [
    "def mag2family(all_mags_paper):  \n",
    "    \n",
    "    family_groups = all_mags_paper.groupby(\"Family\").groups\n",
    "    mag2family_dict = {mag:family for family,mags in family_groups.items() for mag in mags}\n",
    "    \n",
    "    return family_groups,mag2family_dict"
   ]
  },
  {
   "cell_type": "markdown",
   "id": "10772df8-9071-4312-af6b-79475b2ce856",
   "metadata": {},
   "source": [
    "**Create dictionaries to translate components into larger groups - MAG-> family, compound-> super_class**"
   ]
  },
  {
   "cell_type": "code",
   "execution_count": 368,
   "id": "3873b020-9a1f-49a2-957b-29a6a8b97a00",
   "metadata": {},
   "outputs": [],
   "source": [
    "MAGs_steady_com = set(list(steadier_sample_cross.donor.values)+list(steadier_sample_cross.receiver.values))\n",
    "\n",
    "MAG2sour_sub_id = pd.read_csv(\"../output/MAG2community_id.tsv\",sep=\"\\t\",header=None)\n",
    "MAG2sour_sub_id.columns=[\"MAG\",\"community_id\"]\n",
    "\n",
    "met2superclass_dict = pd.read_csv(\"../output/met_chebi_class.tsv\",sep=\"\\t\",index_col=0)[\"self defined super class\"].to_dict()\n",
    "\n",
    "family_groups,mag2family_dict = mag2family(all_mags_paper_reduced)"
   ]
  },
  {
   "cell_type": "code",
   "execution_count": 369,
   "id": "15bde1be-24cc-43e9-87e1-21795e41e6e0",
   "metadata": {},
   "outputs": [],
   "source": [
    "def family_donor(row):\n",
    "    if row.donor==\"environment\":\n",
    "        return \"environment\"\n",
    "    else:\n",
    "        return mag2family_dict[row.donor]\n",
    "\n",
    "\n",
    "def family_receiver(row):\n",
    "    if row.receiver==\"environment\":\n",
    "        return \"environment\"\n",
    "    else:\n",
    "        return mag2family_dict[row.receiver]\n"
   ]
  },
  {
   "cell_type": "code",
   "execution_count": 370,
   "id": "2ae900fd-0635-4700-ba20-adee0f8aaa79",
   "metadata": {},
   "outputs": [],
   "source": [
    "def met2metname(met):\n",
    "    met_name = model_uni.metabolites[met].name\n",
    "    return met_name"
   ]
  },
  {
   "cell_type": "markdown",
   "id": "b862939d-3f25-473e-a792-6fa1dfe6c4d0",
   "metadata": {},
   "source": [
    "### Process data"
   ]
  },
  {
   "cell_type": "markdown",
   "id": "fa882c99-e243-4ab6-86a8-5006d511e068",
   "metadata": {},
   "source": [
    "**All compounds**"
   ]
  },
  {
   "cell_type": "code",
   "execution_count": 371,
   "id": "02f9218e-c72f-4ff5-901f-25b67ffb1f58",
   "metadata": {},
   "outputs": [],
   "source": [
    "steadier_sample.loc[:,\"family_donor\"] = steadier_sample.apply(family_donor,axis=1).copy()\n",
    "steadier_sample.loc[:,\"family_receiver\"] = steadier_sample.apply(family_receiver,axis=1).copy()\n",
    "steadier_sample = steadier_sample[steadier_sample.compound.isin(met2superclass_dict.keys())].copy()\n",
    "steadier_sample.loc[:,\"super_class\"] = steadier_sample.apply(lambda x: met2superclass_dict[x.compound],axis=1)\n",
    "\n",
    "compounds = steadier_sample[\"compound\"].map(met2metname)\n",
    "steadier_sample.drop(\"compound\",axis=1,inplace=True)\n",
    "steadier_sample.loc[:,\"compound\"] = compounds\n"
   ]
  },
  {
   "cell_type": "markdown",
   "id": "5e14c501-dfca-49bc-80d8-8ecf0301a7f6",
   "metadata": {},
   "source": [
    "**Compounds cross-fed**"
   ]
  },
  {
   "cell_type": "code",
   "execution_count": 372,
   "id": "1e42df2a-ff33-4088-80af-3ef70c53d428",
   "metadata": {
    "tags": []
   },
   "outputs": [],
   "source": [
    "steadier_sample_cross.loc[:,\"family_donor\"] = steadier_sample_cross.apply(family_donor,axis=1).copy()\n",
    "steadier_sample_cross.loc[:,\"family_receiver\"] = steadier_sample_cross.apply(family_receiver,axis=1).copy()\n",
    "steadier_sample_cross = steadier_sample_cross[steadier_sample_cross.compound.isin(met2superclass_dict.keys())].copy()\n",
    "steadier_sample_cross.loc[:,\"super_class\"] = steadier_sample_cross.apply(lambda x: met2superclass_dict[x.compound],axis=1)\n",
    "\n",
    "compounds = steadier_sample_cross[\"compound\"].map(met2metname)\n",
    "steadier_sample_cross.drop(\"compound\",axis=1,inplace=True)\n",
    "steadier_sample_cross.loc[:,\"compound\"] = compounds\n",
    "\n",
    "# FILTERS OUT UNINTERESTING COMPOUNDS\n",
    "#steadier_sample_cross = steadier_sample_cross[steadier_sample_cross.super_class.isin(chebi_lut.keys())].copy()\n",
    "\n",
    "steadier_sample_cross[\"mass_rate*frequency\"]=steadier_sample_cross[\"mass_rate\"]*steadier_sample_cross[\"frequency\"]"
   ]
  },
  {
   "cell_type": "code",
   "execution_count": 373,
   "id": "d81f4ecf-5097-4ac1-aa62-ef3c2d8e0d6d",
   "metadata": {},
   "outputs": [
    {
     "data": {
      "text/html": [
       "<div>\n",
       "<style scoped>\n",
       "    .dataframe tbody tr th:only-of-type {\n",
       "        vertical-align: middle;\n",
       "    }\n",
       "\n",
       "    .dataframe tbody tr th {\n",
       "        vertical-align: top;\n",
       "    }\n",
       "\n",
       "    .dataframe thead th {\n",
       "        text-align: right;\n",
       "    }\n",
       "</style>\n",
       "<table border=\"1\" class=\"dataframe\">\n",
       "  <thead>\n",
       "    <tr style=\"text-align: right;\">\n",
       "      <th></th>\n",
       "      <th>donor</th>\n",
       "      <th>receiver</th>\n",
       "      <th>mass_rate</th>\n",
       "      <th>rate</th>\n",
       "      <th>frequency</th>\n",
       "      <th>community</th>\n",
       "      <th>medium</th>\n",
       "      <th>family_donor</th>\n",
       "      <th>family_receiver</th>\n",
       "      <th>super_class</th>\n",
       "      <th>compound</th>\n",
       "      <th>mass_rate*frequency</th>\n",
       "    </tr>\n",
       "  </thead>\n",
       "  <tbody>\n",
       "    <tr>\n",
       "      <th>4</th>\n",
       "      <td>CH9-bin.6</td>\n",
       "      <td>CH9-bin.0</td>\n",
       "      <td>4.915243e-02</td>\n",
       "      <td>0.327400</td>\n",
       "      <td>1.00</td>\n",
       "      <td>CM_X</td>\n",
       "      <td>SC1_X</td>\n",
       "      <td>Other</td>\n",
       "      <td>Other</td>\n",
       "      <td>simple sugars</td>\n",
       "      <td>D-Xylose</td>\n",
       "      <td>4.915243e-02</td>\n",
       "    </tr>\n",
       "    <tr>\n",
       "      <th>11</th>\n",
       "      <td>CH9-bin.0</td>\n",
       "      <td>CH9-bin.6</td>\n",
       "      <td>1.477037e-02</td>\n",
       "      <td>0.098384</td>\n",
       "      <td>1.00</td>\n",
       "      <td>CM_X</td>\n",
       "      <td>SC1_X</td>\n",
       "      <td>Other</td>\n",
       "      <td>Other</td>\n",
       "      <td>simple sugars</td>\n",
       "      <td>D-Ribose</td>\n",
       "      <td>1.477037e-02</td>\n",
       "    </tr>\n",
       "    <tr>\n",
       "      <th>16</th>\n",
       "      <td>CH3-bin.2</td>\n",
       "      <td>CH3-bin.1</td>\n",
       "      <td>1.159098e-02</td>\n",
       "      <td>0.077207</td>\n",
       "      <td>0.80</td>\n",
       "      <td>M_X</td>\n",
       "      <td>SC1_X</td>\n",
       "      <td>f_Clostridiaceae</td>\n",
       "      <td>f_Clostridiaceae</td>\n",
       "      <td>simple sugars</td>\n",
       "      <td>D-Xylose</td>\n",
       "      <td>9.272784e-03</td>\n",
       "    </tr>\n",
       "    <tr>\n",
       "      <th>30</th>\n",
       "      <td>CH14-bin.1</td>\n",
       "      <td>CH14-bin.2</td>\n",
       "      <td>4.777875e-03</td>\n",
       "      <td>0.108459</td>\n",
       "      <td>0.24</td>\n",
       "      <td>CD_X</td>\n",
       "      <td>SC1_X</td>\n",
       "      <td>f_Lachnospiraceae</td>\n",
       "      <td>f_Lachnospiraceae</td>\n",
       "      <td>alcohols and aldehydes</td>\n",
       "      <td>Acetaldehyde</td>\n",
       "      <td>1.146690e-03</td>\n",
       "    </tr>\n",
       "    <tr>\n",
       "      <th>32</th>\n",
       "      <td>CH14-bin.1</td>\n",
       "      <td>CH14-bin.0</td>\n",
       "      <td>4.675429e-03</td>\n",
       "      <td>0.031143</td>\n",
       "      <td>0.79</td>\n",
       "      <td>CD_X</td>\n",
       "      <td>SC1_X</td>\n",
       "      <td>f_Lachnospiraceae</td>\n",
       "      <td>Other</td>\n",
       "      <td>simple sugars</td>\n",
       "      <td>D-Xylose</td>\n",
       "      <td>3.693589e-03</td>\n",
       "    </tr>\n",
       "    <tr>\n",
       "      <th>...</th>\n",
       "      <td>...</td>\n",
       "      <td>...</td>\n",
       "      <td>...</td>\n",
       "      <td>...</td>\n",
       "      <td>...</td>\n",
       "      <td>...</td>\n",
       "      <td>...</td>\n",
       "      <td>...</td>\n",
       "      <td>...</td>\n",
       "      <td>...</td>\n",
       "      <td>...</td>\n",
       "      <td>...</td>\n",
       "    </tr>\n",
       "    <tr>\n",
       "      <th>345</th>\n",
       "      <td>CH3-bin.2</td>\n",
       "      <td>CH3-bin.0</td>\n",
       "      <td>4.612004e-07</td>\n",
       "      <td>0.000004</td>\n",
       "      <td>0.33</td>\n",
       "      <td>M_X</td>\n",
       "      <td>SC1_X</td>\n",
       "      <td>f_Clostridiaceae</td>\n",
       "      <td>Other</td>\n",
       "      <td>nucleotides and derivatives</td>\n",
       "      <td>Thymine C5H6N2O2</td>\n",
       "      <td>1.521961e-07</td>\n",
       "    </tr>\n",
       "    <tr>\n",
       "      <th>347</th>\n",
       "      <td>CH14-bin.1</td>\n",
       "      <td>CH14-bin.4</td>\n",
       "      <td>4.147959e-07</td>\n",
       "      <td>0.000206</td>\n",
       "      <td>0.18</td>\n",
       "      <td>CD_X</td>\n",
       "      <td>SC1_X</td>\n",
       "      <td>f_Lachnospiraceae</td>\n",
       "      <td>Other</td>\n",
       "      <td>gases</td>\n",
       "      <td>Hydrogen</td>\n",
       "      <td>7.466326e-08</td>\n",
       "    </tr>\n",
       "    <tr>\n",
       "      <th>351</th>\n",
       "      <td>CH14-bin.4</td>\n",
       "      <td>CH14-bin.2</td>\n",
       "      <td>2.743474e-07</td>\n",
       "      <td>0.000008</td>\n",
       "      <td>0.73</td>\n",
       "      <td>CD_X</td>\n",
       "      <td>SC1_X</td>\n",
       "      <td>Other</td>\n",
       "      <td>f_Lachnospiraceae</td>\n",
       "      <td>gases</td>\n",
       "      <td>Hydrogen sulfide</td>\n",
       "      <td>2.002736e-07</td>\n",
       "    </tr>\n",
       "    <tr>\n",
       "      <th>353</th>\n",
       "      <td>CH9-bin.2</td>\n",
       "      <td>CH9-bin.5</td>\n",
       "      <td>2.537980e-07</td>\n",
       "      <td>0.000007</td>\n",
       "      <td>0.22</td>\n",
       "      <td>CM_X</td>\n",
       "      <td>SC1_X</td>\n",
       "      <td>f_Clostridiaceae</td>\n",
       "      <td>f_Lactobacillaceae</td>\n",
       "      <td>gases</td>\n",
       "      <td>Hydrogen sulfide</td>\n",
       "      <td>5.583556e-08</td>\n",
       "    </tr>\n",
       "    <tr>\n",
       "      <th>358</th>\n",
       "      <td>CH9-bin.2</td>\n",
       "      <td>CH9-bin.4</td>\n",
       "      <td>1.647791e-07</td>\n",
       "      <td>0.000005</td>\n",
       "      <td>0.22</td>\n",
       "      <td>CM_X</td>\n",
       "      <td>SC1_X</td>\n",
       "      <td>f_Clostridiaceae</td>\n",
       "      <td>f_Lactobacillaceae</td>\n",
       "      <td>gases</td>\n",
       "      <td>Hydrogen sulfide</td>\n",
       "      <td>3.625141e-08</td>\n",
       "    </tr>\n",
       "  </tbody>\n",
       "</table>\n",
       "<p>139 rows × 12 columns</p>\n",
       "</div>"
      ],
      "text/plain": [
       "          donor    receiver     mass_rate      rate  frequency community  \\\n",
       "4     CH9-bin.6   CH9-bin.0  4.915243e-02  0.327400       1.00      CM_X   \n",
       "11    CH9-bin.0   CH9-bin.6  1.477037e-02  0.098384       1.00      CM_X   \n",
       "16    CH3-bin.2   CH3-bin.1  1.159098e-02  0.077207       0.80       M_X   \n",
       "30   CH14-bin.1  CH14-bin.2  4.777875e-03  0.108459       0.24      CD_X   \n",
       "32   CH14-bin.1  CH14-bin.0  4.675429e-03  0.031143       0.79      CD_X   \n",
       "..          ...         ...           ...       ...        ...       ...   \n",
       "345   CH3-bin.2   CH3-bin.0  4.612004e-07  0.000004       0.33       M_X   \n",
       "347  CH14-bin.1  CH14-bin.4  4.147959e-07  0.000206       0.18      CD_X   \n",
       "351  CH14-bin.4  CH14-bin.2  2.743474e-07  0.000008       0.73      CD_X   \n",
       "353   CH9-bin.2   CH9-bin.5  2.537980e-07  0.000007       0.22      CM_X   \n",
       "358   CH9-bin.2   CH9-bin.4  1.647791e-07  0.000005       0.22      CM_X   \n",
       "\n",
       "    medium       family_donor     family_receiver  \\\n",
       "4    SC1_X              Other               Other   \n",
       "11   SC1_X              Other               Other   \n",
       "16   SC1_X   f_Clostridiaceae    f_Clostridiaceae   \n",
       "30   SC1_X  f_Lachnospiraceae   f_Lachnospiraceae   \n",
       "32   SC1_X  f_Lachnospiraceae               Other   \n",
       "..     ...                ...                 ...   \n",
       "345  SC1_X   f_Clostridiaceae               Other   \n",
       "347  SC1_X  f_Lachnospiraceae               Other   \n",
       "351  SC1_X              Other   f_Lachnospiraceae   \n",
       "353  SC1_X   f_Clostridiaceae  f_Lactobacillaceae   \n",
       "358  SC1_X   f_Clostridiaceae  f_Lactobacillaceae   \n",
       "\n",
       "                     super_class          compound  mass_rate*frequency  \n",
       "4                  simple sugars          D-Xylose         4.915243e-02  \n",
       "11                 simple sugars          D-Ribose         1.477037e-02  \n",
       "16                 simple sugars          D-Xylose         9.272784e-03  \n",
       "30        alcohols and aldehydes      Acetaldehyde         1.146690e-03  \n",
       "32                 simple sugars          D-Xylose         3.693589e-03  \n",
       "..                           ...               ...                  ...  \n",
       "345  nucleotides and derivatives  Thymine C5H6N2O2         1.521961e-07  \n",
       "347                        gases          Hydrogen         7.466326e-08  \n",
       "351                        gases  Hydrogen sulfide         2.002736e-07  \n",
       "353                        gases  Hydrogen sulfide         5.583556e-08  \n",
       "358                        gases  Hydrogen sulfide         3.625141e-08  \n",
       "\n",
       "[139 rows x 12 columns]"
      ]
     },
     "execution_count": 373,
     "metadata": {},
     "output_type": "execute_result"
    }
   ],
   "source": [
    "steadier_sample_cross"
   ]
  },
  {
   "cell_type": "markdown",
   "id": "f59ac4d9-936e-4edc-bd4c-3f02c782ae3e",
   "metadata": {},
   "source": [
    "### Overview of groups"
   ]
  },
  {
   "cell_type": "code",
   "execution_count": 374,
   "id": "f7d4d5e6-a0e7-49f7-bb0a-179c6d2bfbfa",
   "metadata": {},
   "outputs": [
    {
     "data": {
      "text/plain": [
       "Other                 5\n",
       "f_Clostridiaceae      3\n",
       "f_Lachnospiraceae     3\n",
       "f_Lactobacillaceae    2\n",
       "dtype: int64"
      ]
     },
     "execution_count": 374,
     "metadata": {},
     "output_type": "execute_result"
    }
   ],
   "source": [
    "pd.Series({family:len(mags) for family,mags in family_groups.items()})"
   ]
  },
  {
   "cell_type": "code",
   "execution_count": 375,
   "id": "ad807158-9046-4950-930c-8d07637881c9",
   "metadata": {},
   "outputs": [
    {
     "data": {
      "text/html": [
       "<div>\n",
       "<style scoped>\n",
       "    .dataframe tbody tr th:only-of-type {\n",
       "        vertical-align: middle;\n",
       "    }\n",
       "\n",
       "    .dataframe tbody tr th {\n",
       "        vertical-align: top;\n",
       "    }\n",
       "\n",
       "    .dataframe thead th {\n",
       "        text-align: right;\n",
       "    }\n",
       "</style>\n",
       "<table border=\"1\" class=\"dataframe\">\n",
       "  <thead>\n",
       "    <tr style=\"text-align: right;\">\n",
       "      <th></th>\n",
       "      <th>Source</th>\n",
       "      <th>Substrate</th>\n",
       "      <th>Family</th>\n",
       "      <th>Genus</th>\n",
       "      <th>new_coverage</th>\n",
       "    </tr>\n",
       "    <tr>\n",
       "      <th>MAG</th>\n",
       "      <th></th>\n",
       "      <th></th>\n",
       "      <th></th>\n",
       "      <th></th>\n",
       "      <th></th>\n",
       "    </tr>\n",
       "  </thead>\n",
       "  <tbody>\n",
       "    <tr>\n",
       "      <th>CH14-bin.1</th>\n",
       "      <td>Compost_Digestate</td>\n",
       "      <td>Xylan</td>\n",
       "      <td>f_Lachnospiraceae</td>\n",
       "      <td>Lacrimispora</td>\n",
       "      <td>54.707294</td>\n",
       "    </tr>\n",
       "    <tr>\n",
       "      <th>CH14-bin.2</th>\n",
       "      <td>Compost_Digestate</td>\n",
       "      <td>Xylan</td>\n",
       "      <td>f_Lachnospiraceae</td>\n",
       "      <td>Robinsoniella</td>\n",
       "      <td>18.831114</td>\n",
       "    </tr>\n",
       "    <tr>\n",
       "      <th>CH14-bin.0</th>\n",
       "      <td>Compost_Digestate</td>\n",
       "      <td>Xylan</td>\n",
       "      <td>Other</td>\n",
       "      <td>Caproicproducens</td>\n",
       "      <td>15.617491</td>\n",
       "    </tr>\n",
       "    <tr>\n",
       "      <th>CH9-bin.0</th>\n",
       "      <td>Cow_Manure</td>\n",
       "      <td>Xylan</td>\n",
       "      <td>Other</td>\n",
       "      <td>Bifidobacterium</td>\n",
       "      <td>70.451904</td>\n",
       "    </tr>\n",
       "    <tr>\n",
       "      <th>CH3-bin.2</th>\n",
       "      <td>Marshland</td>\n",
       "      <td>Xylan</td>\n",
       "      <td>f_Clostridiaceae</td>\n",
       "      <td>Clostridium</td>\n",
       "      <td>74.153410</td>\n",
       "    </tr>\n",
       "    <tr>\n",
       "      <th>CH3-bin.1</th>\n",
       "      <td>Marshland</td>\n",
       "      <td>Xylan</td>\n",
       "      <td>f_Clostridiaceae</td>\n",
       "      <td>Clostridium_S</td>\n",
       "      <td>21.418886</td>\n",
       "    </tr>\n",
       "  </tbody>\n",
       "</table>\n",
       "</div>"
      ],
      "text/plain": [
       "                       Source Substrate             Family             Genus  \\\n",
       "MAG                                                                            \n",
       "CH14-bin.1  Compost_Digestate     Xylan  f_Lachnospiraceae      Lacrimispora   \n",
       "CH14-bin.2  Compost_Digestate     Xylan  f_Lachnospiraceae     Robinsoniella   \n",
       "CH14-bin.0  Compost_Digestate     Xylan              Other  Caproicproducens   \n",
       "CH9-bin.0          Cow_Manure     Xylan              Other   Bifidobacterium   \n",
       "CH3-bin.2           Marshland     Xylan   f_Clostridiaceae       Clostridium   \n",
       "CH3-bin.1           Marshland     Xylan   f_Clostridiaceae     Clostridium_S   \n",
       "\n",
       "            new_coverage  \n",
       "MAG                       \n",
       "CH14-bin.1     54.707294  \n",
       "CH14-bin.2     18.831114  \n",
       "CH14-bin.0     15.617491  \n",
       "CH9-bin.0      70.451904  \n",
       "CH3-bin.2      74.153410  \n",
       "CH3-bin.1      21.418886  "
      ]
     },
     "execution_count": 375,
     "metadata": {},
     "output_type": "execute_result"
    }
   ],
   "source": [
    "all_mags_paper_reduced[all_mags_paper_reduced[\"new_coverage\"]>10][[\"Source\",\"Substrate\",\"Family\",\"Genus\",\"new_coverage\"]].sort_values([\"Source\",\"Substrate\"])"
   ]
  },
  {
   "cell_type": "markdown",
   "id": "f3ed36e1-0c27-43ef-947a-32c1739ec58b",
   "metadata": {},
   "source": [
    "### Functions for statistics"
   ]
  },
  {
   "cell_type": "code",
   "execution_count": 376,
   "id": "e3554323-08db-42ed-afcf-ecee00773789",
   "metadata": {},
   "outputs": [],
   "source": [
    "def find_non_dependent(row,metric):\n",
    "    return len(family_groups[row.name[0]]) - row[metric] #row.flux_mg\n",
    "\n",
    "\n",
    "def statistics_adjustments(statistics_df):\n",
    "    \n",
    "    statistics_df = statistics_df.sort_values(by=\"p_value\").copy()\n",
    "    statistics_df[\"i\"] = statistics_df[\"p_value\"].rank(method=\"max\")\n",
    "    statistics_df[\"p_value_benjamini_h\"] = statistics_df.apply(lambda row: min(row.p_value*statistics_df.shape[0]/row.i,1),axis=1)\n",
    "    statistics_df.sort_index(inplace=True)\n",
    "    return statistics_df\n",
    "\n",
    "\n",
    "def statistics_function(steadier_sample_cross,dependent_variable,independent_variable,metric=\"flux_mg\",metric_thresh=1e-6,pvalue_thresh=0.1):\n",
    "\n",
    "    # Get average of each family according to each possible value of the independent variable\n",
    "    # dependent_variable,dependent_variable.split(\"_\")[1] here it decides if it is in the receiver or in the donor (dependent_variable.split(\"_\")[1]) and groups by the [family_receiver,receiver,compound] and takes the mean of this\n",
    "    steadiercom_crossfeeding_donor = steadier_sample_cross.loc[:,[dependent_variable,dependent_variable.split(\"_\")[1],independent_variable,metric]].groupby([dependent_variable,dependent_variable.split(\"_\")[1],independent_variable]).mean().copy()\n",
    "    dependent = steadiercom_crossfeeding_donor[steadiercom_crossfeeding_donor[metric]>metric_thresh].reset_index().groupby([dependent_variable,independent_variable]).count().copy()\n",
    "    not_dependent = dependent.apply(find_non_dependent,metric=metric,axis=1)\n",
    "\n",
    "    # Add data for the missing values\n",
    "    all_categories =set(not_dependent.index.get_level_values(1))\n",
    "\n",
    "    for family in dependent.index.get_level_values(0):\n",
    "        for category in all_categories-set(not_dependent.xs(family).index):\n",
    "            not_dependent[(family,category)]=len(family_groups[family]) \n",
    "            \n",
    "    concat_df = pd.concat({\"dependent\":dependent[metric],\"not_dependent\":not_dependent},axis=1).fillna(0)\n",
    "\n",
    "\n",
    "    statistics = {}\n",
    "    for independent_var in set(concat_df.index.get_level_values(1)):\n",
    "        # Get the sub_df for the super class\n",
    "        concat_df_sub = concat_df.xs(independent_var,level=1).copy()\n",
    "\n",
    "        statistics[independent_var] = {}\n",
    "\n",
    "        # For each row (each family)\n",
    "        for i,row in concat_df_sub.iterrows():\n",
    "            \n",
    "            # Get the data for all other family\n",
    "            other = concat_df_sub.loc[concat_df_sub.index[concat_df_sub.index!=i],:]\n",
    "            \n",
    "            data = pd.DataFrame({i:row,\"other\":other.sum()}).transpose().to_numpy()\n",
    "            statistics[independent_var][(i,\"data\")]= data\n",
    "            \n",
    "            \n",
    "            # Get odds ratio\n",
    "            odds_ratio_num = data[0][0]\n",
    "            odds_ratio_den = data[0][0] + data[0][1]\n",
    "            other_num = data[1][0]\n",
    "            other_den = data[1][0] + data[1][1]\n",
    "            \n",
    "            if odds_ratio_den == 0 or other_den == 0 or other_num==0:\n",
    "                odds_ratio = math.inf\n",
    "            else:\n",
    "                odds_ratio = (odds_ratio_num / odds_ratio_den) / (other_num / other_den)\n",
    "            statistics[independent_var][(i, \"odds_ratio\")] = odds_ratio\n",
    "            \n",
    "            \n",
    "            # Calculate the Barnard exact statistical \n",
    "            p_value = stats.barnard_exact(pd.DataFrame({i:row,\"other\":other.sum()}).transpose().to_numpy(),alternative=\"greater\")\n",
    "            statistics[independent_var][(i,\"p_value\")]= p_value.pvalue\n",
    "            \n",
    "\n",
    "    statistics_df = pd.DataFrame(statistics)\n",
    "    \n",
    "\n",
    "    category_values = statistics_df.xs('p_value', level=1)\n",
    "    \n",
    "\n",
    "    values = {}\n",
    "    for family,independent_var in category_values[category_values[category_values<pvalue_thresh].notnull()].stack().index:\n",
    "        values[family,independent_var]= {\"p_value\":statistics_df.loc[(family,\"p_value\"),independent_var],\"odds_ratio\":statistics_df.loc[(family,\"odds_ratio\"),independent_var],\"data\":statistics_df.loc[(family,\"data\"),independent_var],\"# interaction\":concat_df.loc[(family,independent_var),\"dependent\"],\"# no interaction\":concat_df.loc[(family,independent_var),\"not_dependent\"]}\n",
    "\n",
    "    significant = pd.DataFrame(values).transpose()\n",
    "    if significant.empty==False:\n",
    "        significant.index.names = (dependent_variable,independent_variable)\n",
    "\n",
    "    return significant"
   ]
  },
  {
   "cell_type": "markdown",
   "id": "0f2cdfb5-e6e4-46f2-94ba-9fccdc97c8c8",
   "metadata": {},
   "source": [
    "## Likelyhood that family X is receiving compound A"
   ]
  },
  {
   "cell_type": "code",
   "execution_count": 377,
   "id": "94a32e16-c6ac-438e-aa6c-7cbae857816c",
   "metadata": {},
   "outputs": [
    {
     "data": {
      "text/plain": [
       "(48, 7)"
      ]
     },
     "execution_count": 377,
     "metadata": {},
     "output_type": "execute_result"
    }
   ],
   "source": [
    "statistics_df = statistics_function(steadier_sample_cross,\"family_receiver\",\"compound\",metric=\"rate\",metric_thresh=1e-6,pvalue_thresh=1)\n",
    "statistics_df = statistics_adjustments(statistics_df)\n",
    "statistics_df.shape"
   ]
  },
  {
   "cell_type": "code",
   "execution_count": 378,
   "id": "fa44e973-700f-4a94-ae93-19b4c4403d54",
   "metadata": {},
   "outputs": [
    {
     "data": {
      "text/html": [
       "<div>\n",
       "<style scoped>\n",
       "    .dataframe tbody tr th:only-of-type {\n",
       "        vertical-align: middle;\n",
       "    }\n",
       "\n",
       "    .dataframe tbody tr th {\n",
       "        vertical-align: top;\n",
       "    }\n",
       "\n",
       "    .dataframe thead th {\n",
       "        text-align: right;\n",
       "    }\n",
       "</style>\n",
       "<table border=\"1\" class=\"dataframe\">\n",
       "  <thead>\n",
       "    <tr style=\"text-align: right;\">\n",
       "      <th></th>\n",
       "      <th></th>\n",
       "      <th>p_value</th>\n",
       "      <th>odds_ratio</th>\n",
       "      <th>data</th>\n",
       "      <th># interaction</th>\n",
       "      <th># no interaction</th>\n",
       "      <th>i</th>\n",
       "      <th>p_value_benjamini_h</th>\n",
       "    </tr>\n",
       "    <tr>\n",
       "      <th>family_receiver</th>\n",
       "      <th>compound</th>\n",
       "      <th></th>\n",
       "      <th></th>\n",
       "      <th></th>\n",
       "      <th></th>\n",
       "      <th></th>\n",
       "      <th></th>\n",
       "      <th></th>\n",
       "    </tr>\n",
       "  </thead>\n",
       "  <tbody>\n",
       "  </tbody>\n",
       "</table>\n",
       "</div>"
      ],
      "text/plain": [
       "Empty DataFrame\n",
       "Columns: [p_value, odds_ratio, data, # interaction, # no interaction, i, p_value_benjamini_h]\n",
       "Index: []"
      ]
     },
     "execution_count": 378,
     "metadata": {},
     "output_type": "execute_result"
    }
   ],
   "source": [
    "statistics_df[(statistics_df.p_value_benjamini_h<0.05) & (statistics_df[\"odds_ratio\"]>4.95)]"
   ]
  },
  {
   "cell_type": "code",
   "execution_count": 379,
   "id": "ddec0073-e7b7-4e84-9624-bcfddb11fe2f",
   "metadata": {},
   "outputs": [
    {
     "data": {
      "text/plain": [
       "(16, 7)"
      ]
     },
     "execution_count": 379,
     "metadata": {},
     "output_type": "execute_result"
    }
   ],
   "source": [
    "statistics_df = statistics_function(steadier_sample_cross,\"family_receiver\",\"super_class\",metric=\"rate\",metric_thresh=1e-6,pvalue_thresh=1)\n",
    "statistics_df = statistics_adjustments(statistics_df)\n",
    "statistics_df.shape"
   ]
  },
  {
   "cell_type": "code",
   "execution_count": 380,
   "id": "a90935fd-c57d-42cb-9530-435b5c4dbb35",
   "metadata": {},
   "outputs": [
    {
     "data": {
      "text/html": [
       "<div>\n",
       "<style scoped>\n",
       "    .dataframe tbody tr th:only-of-type {\n",
       "        vertical-align: middle;\n",
       "    }\n",
       "\n",
       "    .dataframe tbody tr th {\n",
       "        vertical-align: top;\n",
       "    }\n",
       "\n",
       "    .dataframe thead th {\n",
       "        text-align: right;\n",
       "    }\n",
       "</style>\n",
       "<table border=\"1\" class=\"dataframe\">\n",
       "  <thead>\n",
       "    <tr style=\"text-align: right;\">\n",
       "      <th></th>\n",
       "      <th></th>\n",
       "      <th>p_value</th>\n",
       "      <th>odds_ratio</th>\n",
       "      <th>data</th>\n",
       "      <th># interaction</th>\n",
       "      <th># no interaction</th>\n",
       "      <th>i</th>\n",
       "      <th>p_value_benjamini_h</th>\n",
       "    </tr>\n",
       "    <tr>\n",
       "      <th>family_receiver</th>\n",
       "      <th>super_class</th>\n",
       "      <th></th>\n",
       "      <th></th>\n",
       "      <th></th>\n",
       "      <th></th>\n",
       "      <th></th>\n",
       "      <th></th>\n",
       "      <th></th>\n",
       "    </tr>\n",
       "  </thead>\n",
       "  <tbody>\n",
       "  </tbody>\n",
       "</table>\n",
       "</div>"
      ],
      "text/plain": [
       "Empty DataFrame\n",
       "Columns: [p_value, odds_ratio, data, # interaction, # no interaction, i, p_value_benjamini_h]\n",
       "Index: []"
      ]
     },
     "execution_count": 380,
     "metadata": {},
     "output_type": "execute_result"
    }
   ],
   "source": [
    "statistics_df[(statistics_df.p_value_benjamini_h<0.1) & (statistics_df[\"odds_ratio\"]>4.95)]"
   ]
  },
  {
   "cell_type": "markdown",
   "id": "7030e3a9-b11c-4346-bf19-18067e6fb1b0",
   "metadata": {
    "tags": []
   },
   "source": [
    "## Likelyhood that family X is donating a compound A to another family"
   ]
  },
  {
   "cell_type": "code",
   "execution_count": 381,
   "id": "1f1e7d94-8680-4aa6-851f-4edd7574dfe2",
   "metadata": {
    "tags": []
   },
   "outputs": [
    {
     "data": {
      "text/plain": [
       "(47, 7)"
      ]
     },
     "execution_count": 381,
     "metadata": {},
     "output_type": "execute_result"
    }
   ],
   "source": [
    "statistics_df = statistics_function(steadier_sample_cross,\"family_donor\",\"compound\",metric=\"rate\",metric_thresh=1e-6,pvalue_thresh=1)\n",
    "statistics_df = statistics_adjustments(statistics_df)\n",
    "statistics_df.shape"
   ]
  },
  {
   "cell_type": "code",
   "execution_count": 382,
   "id": "89230c3a-870f-4299-b727-ce4152c593de",
   "metadata": {},
   "outputs": [
    {
     "data": {
      "text/html": [
       "<div>\n",
       "<style scoped>\n",
       "    .dataframe tbody tr th:only-of-type {\n",
       "        vertical-align: middle;\n",
       "    }\n",
       "\n",
       "    .dataframe tbody tr th {\n",
       "        vertical-align: top;\n",
       "    }\n",
       "\n",
       "    .dataframe thead th {\n",
       "        text-align: right;\n",
       "    }\n",
       "</style>\n",
       "<table border=\"1\" class=\"dataframe\">\n",
       "  <thead>\n",
       "    <tr style=\"text-align: right;\">\n",
       "      <th></th>\n",
       "      <th></th>\n",
       "      <th>p_value</th>\n",
       "      <th>odds_ratio</th>\n",
       "      <th>data</th>\n",
       "      <th># interaction</th>\n",
       "      <th># no interaction</th>\n",
       "      <th>i</th>\n",
       "      <th>p_value_benjamini_h</th>\n",
       "    </tr>\n",
       "    <tr>\n",
       "      <th>family_donor</th>\n",
       "      <th>compound</th>\n",
       "      <th></th>\n",
       "      <th></th>\n",
       "      <th></th>\n",
       "      <th></th>\n",
       "      <th></th>\n",
       "      <th></th>\n",
       "      <th></th>\n",
       "    </tr>\n",
       "  </thead>\n",
       "  <tbody>\n",
       "  </tbody>\n",
       "</table>\n",
       "</div>"
      ],
      "text/plain": [
       "Empty DataFrame\n",
       "Columns: [p_value, odds_ratio, data, # interaction, # no interaction, i, p_value_benjamini_h]\n",
       "Index: []"
      ]
     },
     "execution_count": 382,
     "metadata": {},
     "output_type": "execute_result"
    }
   ],
   "source": [
    "statistics_df[(statistics_df.p_value_benjamini_h<0.05) & (statistics_df[\"odds_ratio\"]>4.95)]"
   ]
  },
  {
   "cell_type": "code",
   "execution_count": 383,
   "id": "5f4eef19-9798-41c8-b46b-0d6ef3a19c61",
   "metadata": {
    "tags": []
   },
   "outputs": [
    {
     "data": {
      "text/plain": [
       "(14, 7)"
      ]
     },
     "execution_count": 383,
     "metadata": {},
     "output_type": "execute_result"
    }
   ],
   "source": [
    "statistics_df = statistics_function(steadier_sample_cross,\"family_donor\",\"super_class\",metric=\"rate\",metric_thresh=1e-6,pvalue_thresh=1)\n",
    "statistics_df = statistics_adjustments(statistics_df)\n",
    "statistics_df.shape"
   ]
  },
  {
   "cell_type": "code",
   "execution_count": 384,
   "id": "7bbdc0d6-a3bc-46fd-96c7-2c2bfabfbe4b",
   "metadata": {},
   "outputs": [
    {
     "data": {
      "text/html": [
       "<div>\n",
       "<style scoped>\n",
       "    .dataframe tbody tr th:only-of-type {\n",
       "        vertical-align: middle;\n",
       "    }\n",
       "\n",
       "    .dataframe tbody tr th {\n",
       "        vertical-align: top;\n",
       "    }\n",
       "\n",
       "    .dataframe thead th {\n",
       "        text-align: right;\n",
       "    }\n",
       "</style>\n",
       "<table border=\"1\" class=\"dataframe\">\n",
       "  <thead>\n",
       "    <tr style=\"text-align: right;\">\n",
       "      <th></th>\n",
       "      <th></th>\n",
       "      <th>p_value</th>\n",
       "      <th>odds_ratio</th>\n",
       "      <th>data</th>\n",
       "      <th># interaction</th>\n",
       "      <th># no interaction</th>\n",
       "      <th>i</th>\n",
       "      <th>p_value_benjamini_h</th>\n",
       "    </tr>\n",
       "    <tr>\n",
       "      <th>family_donor</th>\n",
       "      <th>super_class</th>\n",
       "      <th></th>\n",
       "      <th></th>\n",
       "      <th></th>\n",
       "      <th></th>\n",
       "      <th></th>\n",
       "      <th></th>\n",
       "      <th></th>\n",
       "    </tr>\n",
       "  </thead>\n",
       "  <tbody>\n",
       "  </tbody>\n",
       "</table>\n",
       "</div>"
      ],
      "text/plain": [
       "Empty DataFrame\n",
       "Columns: [p_value, odds_ratio, data, # interaction, # no interaction, i, p_value_benjamini_h]\n",
       "Index: []"
      ]
     },
     "execution_count": 384,
     "metadata": {},
     "output_type": "execute_result"
    }
   ],
   "source": [
    "statistics_df[(statistics_df.p_value_benjamini_h<0.1) & (statistics_df[\"odds_ratio\"]>4.95)]"
   ]
  },
  {
   "cell_type": "markdown",
   "id": "e491180e-3514-4b3a-bf2f-0102752a0820",
   "metadata": {},
   "source": [
    "## Likelyhood that family X is receiving from family Y"
   ]
  },
  {
   "cell_type": "code",
   "execution_count": 385,
   "id": "7efa033a-da04-4910-9a39-52c13d134002",
   "metadata": {},
   "outputs": [
    {
     "data": {
      "text/plain": [
       "(8, 7)"
      ]
     },
     "execution_count": 385,
     "metadata": {},
     "output_type": "execute_result"
    }
   ],
   "source": [
    "statistics_df = statistics_function(steadier_sample_cross,\"family_receiver\",\"family_donor\",metric=\"rate\",metric_thresh=1e-6,pvalue_thresh=1)\n",
    "statistics_df = statistics_adjustments(statistics_df)\n",
    "statistics_df.shape"
   ]
  },
  {
   "cell_type": "code",
   "execution_count": 386,
   "id": "e8093f1f-d231-445b-bca9-eb62fe291fd8",
   "metadata": {},
   "outputs": [
    {
     "data": {
      "text/html": [
       "<div>\n",
       "<style scoped>\n",
       "    .dataframe tbody tr th:only-of-type {\n",
       "        vertical-align: middle;\n",
       "    }\n",
       "\n",
       "    .dataframe tbody tr th {\n",
       "        vertical-align: top;\n",
       "    }\n",
       "\n",
       "    .dataframe thead th {\n",
       "        text-align: right;\n",
       "    }\n",
       "</style>\n",
       "<table border=\"1\" class=\"dataframe\">\n",
       "  <thead>\n",
       "    <tr style=\"text-align: right;\">\n",
       "      <th></th>\n",
       "      <th></th>\n",
       "      <th>p_value</th>\n",
       "      <th>odds_ratio</th>\n",
       "      <th>data</th>\n",
       "      <th># interaction</th>\n",
       "      <th># no interaction</th>\n",
       "      <th>i</th>\n",
       "      <th>p_value_benjamini_h</th>\n",
       "    </tr>\n",
       "    <tr>\n",
       "      <th>family_receiver</th>\n",
       "      <th>family_donor</th>\n",
       "      <th></th>\n",
       "      <th></th>\n",
       "      <th></th>\n",
       "      <th></th>\n",
       "      <th></th>\n",
       "      <th></th>\n",
       "      <th></th>\n",
       "    </tr>\n",
       "  </thead>\n",
       "  <tbody>\n",
       "  </tbody>\n",
       "</table>\n",
       "</div>"
      ],
      "text/plain": [
       "Empty DataFrame\n",
       "Columns: [p_value, odds_ratio, data, # interaction, # no interaction, i, p_value_benjamini_h]\n",
       "Index: []"
      ]
     },
     "execution_count": 386,
     "metadata": {},
     "output_type": "execute_result"
    }
   ],
   "source": [
    "statistics_df[(statistics_df.p_value_benjamini_h<0.05) & (statistics_df[\"odds_ratio\"]>4.95)]"
   ]
  },
  {
   "cell_type": "markdown",
   "id": "b46983c0-ce24-481b-8d5e-9e13ca0c96a1",
   "metadata": {},
   "source": [
    "### Who donates the most?"
   ]
  },
  {
   "cell_type": "code",
   "execution_count": 387,
   "id": "197495d5-c5fb-4d1b-8cce-2c7ba7a3579a",
   "metadata": {},
   "outputs": [],
   "source": [
    "total_members = steadier_sample_cross.groupby(\"family_donor\").nunique()[\"donor\"]"
   ]
  },
  {
   "cell_type": "markdown",
   "id": "d69a32d2-78ef-406a-ae39-584f00549059",
   "metadata": {},
   "source": [
    "### All communities - Relative abundance (above 10 %)"
   ]
  },
  {
   "cell_type": "code",
   "execution_count": 388,
   "id": "246730b2-f007-4d79-b410-2df795e298c1",
   "metadata": {},
   "outputs": [],
   "source": [
    "def abundance_statistic(abundance_communities,receiver_or_donor=\"receiver\"):\n",
    "    \n",
    "    \n",
    "    table_abundance_rec_don_dict = {}\n",
    "    table_not_abundant_rec_don_dict = {}\n",
    "\n",
    "    for compound in abundance_communities[abundance_communities.receiver_abundance_10].compound.unique():\n",
    "        if receiver_or_donor==\"receiver\":\n",
    "            abund_rec_don = len(abundance_communities[(abundance_communities.receiver_abundance_10) & (abundance_communities.compound==compound)].receiver.unique())\n",
    "            not_abund_rec_don = len(abundance_communities[(~abundance_communities.receiver_abundance_10) & (abundance_communities.compound==compound)].receiver.unique())\n",
    "        elif receiver_or_donor==\"donor\":\n",
    "            abund_rec_don = len(abundance_communities[(abundance_communities.donor_abundance_10) & (abundance_communities.compound==compound)].donor.unique())\n",
    "            not_abund_rec_don = len(abundance_communities[(~abundance_communities.donor_abundance_10) & (abundance_communities.compound==compound)].donor.unique())\n",
    "        \n",
    "        \n",
    "        abund_not_rec_don = len(high_abundance) - abund_rec_don\n",
    "        not_abund_not_rec_don = len(low_abunance) - not_abund_rec_don\n",
    "\n",
    "\n",
    "        table = [[abund_rec_don,not_abund_rec_don],[abund_not_rec_don,not_abund_not_rec_don]]\n",
    "        table_non_abundant = [[not_abund_rec_don,abund_rec_don],[not_abund_not_rec_don,abund_not_rec_don]]\n",
    "\n",
    "        try:\n",
    "            odds_ratio = (abund_rec_don/(abund_rec_don+abund_not_rec_don))/(not_abund_rec_don/(not_abund_rec_don+not_abund_not_rec_don))\n",
    "        except:\n",
    "            odds_ratio = math.inf\n",
    "\n",
    "\n",
    "        p_value = stats.barnard_exact(table,alternative=\"greater\")\n",
    "\n",
    "        table_abundance_rec_don_dict[compound] = {\"table\":table,\"p_value\":p_value.pvalue,\"odds_ratio\":odds_ratio}\n",
    "\n",
    "\n",
    "        p_value_not = stats.barnard_exact(table_non_abundant,alternative=\"greater\")\n",
    "\n",
    "        table_not_abundant_rec_don_dict[compound]= {\"table\":table,\"p_value\":p_value_not.pvalue,\"odds_ratio\":odds_ratio}\n",
    "        \n",
    "    return table_abundance_rec_don_dict, table_not_abundant_rec_don_dict\n",
    "        \n"
   ]
  },
  {
   "cell_type": "markdown",
   "id": "746595e4-2d01-436d-8430-e50b438c7283",
   "metadata": {},
   "source": [
    "**Assign abundant/not-abundant classifier**"
   ]
  },
  {
   "cell_type": "code",
   "execution_count": 389,
   "id": "69df69db-ece7-4176-9d51-4f5d9607c992",
   "metadata": {},
   "outputs": [],
   "source": [
    "abundance_communities = steadier_sample_cross.copy()\n",
    "abundance_communities[\"donor_abundance_10\"] = abundance_communities[\"donor\"].map(lambda x: all_mags_paper.loc[x,\"new_coverage\"]>10)\n",
    "abundance_communities[\"receiver_abundance_10\"] = abundance_communities[\"receiver\"].map(lambda x: all_mags_paper.loc[x,\"new_coverage\"]>10)"
   ]
  },
  {
   "cell_type": "markdown",
   "id": "802c4039-ee66-4237-8acf-4c3a020a3bd6",
   "metadata": {},
   "source": [
    "**Overview of abundant members**"
   ]
  },
  {
   "cell_type": "code",
   "execution_count": 390,
   "id": "655cb50e-6e9d-4efe-8699-584c416580b4",
   "metadata": {},
   "outputs": [],
   "source": [
    "high_abundance = set(list(abundance_communities[abundance_communities.donor_abundance_10].donor.unique()) + list(abundance_communities[abundance_communities.receiver_abundance_10].receiver.unique()))\n",
    "low_abunance = set(list(abundance_communities[~abundance_communities.donor_abundance_10].donor.unique()) + list(abundance_communities[~abundance_communities.receiver_abundance_10].receiver.unique()))"
   ]
  },
  {
   "cell_type": "markdown",
   "id": "0c955ed0-69a1-43bf-a2a3-80a0faea126b",
   "metadata": {},
   "source": [
    "#### Statistics for receiving"
   ]
  },
  {
   "cell_type": "code",
   "execution_count": 391,
   "id": "4e72bb61-0f20-4cea-bf2c-be4f0d77af6a",
   "metadata": {},
   "outputs": [],
   "source": [
    "table_abundance_rec_dict, table_not_abundant_rec_dict = abundance_statistic(abundance_communities,receiver_or_donor=\"receiver\")"
   ]
  },
  {
   "cell_type": "code",
   "execution_count": 392,
   "id": "afb33050-f98a-4fd1-84d3-3636aa5964fa",
   "metadata": {},
   "outputs": [
    {
     "data": {
      "text/html": [
       "<div>\n",
       "<style scoped>\n",
       "    .dataframe tbody tr th:only-of-type {\n",
       "        vertical-align: middle;\n",
       "    }\n",
       "\n",
       "    .dataframe tbody tr th {\n",
       "        vertical-align: top;\n",
       "    }\n",
       "\n",
       "    .dataframe thead th {\n",
       "        text-align: right;\n",
       "    }\n",
       "</style>\n",
       "<table border=\"1\" class=\"dataframe\">\n",
       "  <thead>\n",
       "    <tr style=\"text-align: right;\">\n",
       "      <th></th>\n",
       "      <th>table</th>\n",
       "      <th>p_value</th>\n",
       "      <th>odds_ratio</th>\n",
       "      <th>i</th>\n",
       "      <th>p_value_benjamini_h</th>\n",
       "    </tr>\n",
       "  </thead>\n",
       "  <tbody>\n",
       "  </tbody>\n",
       "</table>\n",
       "</div>"
      ],
      "text/plain": [
       "Empty DataFrame\n",
       "Columns: [table, p_value, odds_ratio, i, p_value_benjamini_h]\n",
       "Index: []"
      ]
     },
     "execution_count": 392,
     "metadata": {},
     "output_type": "execute_result"
    }
   ],
   "source": [
    "abund_rec_df = pd.DataFrame(table_abundance_rec_dict).T\n",
    "abund_rec_df = statistics_adjustments(abund_rec_df)\n",
    "\n",
    "abund_rec_df[abund_rec_df.p_value_benjamini_h<0.05].sort_values(\"p_value\")"
   ]
  },
  {
   "cell_type": "code",
   "execution_count": 393,
   "id": "d4fbaa76-2224-4592-adb2-08e09d150931",
   "metadata": {},
   "outputs": [
    {
     "data": {
      "text/html": [
       "<div>\n",
       "<style scoped>\n",
       "    .dataframe tbody tr th:only-of-type {\n",
       "        vertical-align: middle;\n",
       "    }\n",
       "\n",
       "    .dataframe tbody tr th {\n",
       "        vertical-align: top;\n",
       "    }\n",
       "\n",
       "    .dataframe thead th {\n",
       "        text-align: right;\n",
       "    }\n",
       "</style>\n",
       "<table border=\"1\" class=\"dataframe\">\n",
       "  <thead>\n",
       "    <tr style=\"text-align: right;\">\n",
       "      <th></th>\n",
       "      <th>table</th>\n",
       "      <th>p_value</th>\n",
       "      <th>odds_ratio</th>\n",
       "      <th>i</th>\n",
       "      <th>p_value_benjamini_h</th>\n",
       "    </tr>\n",
       "  </thead>\n",
       "  <tbody>\n",
       "  </tbody>\n",
       "</table>\n",
       "</div>"
      ],
      "text/plain": [
       "Empty DataFrame\n",
       "Columns: [table, p_value, odds_ratio, i, p_value_benjamini_h]\n",
       "Index: []"
      ]
     },
     "execution_count": 393,
     "metadata": {},
     "output_type": "execute_result"
    }
   ],
   "source": [
    "not_abund_rec_df = pd.DataFrame(table_not_abundant_rec_dict).T\n",
    "not_abund_rec_df = statistics_adjustments(not_abund_rec_df)\n",
    "not_abund_rec_df[\"odds_ratio\"] = not_abund_rec_df[\"odds_ratio\"].map(lambda x: 1/x)\n",
    "not_abund_rec_df[not_abund_rec_df.p_value_benjamini_h<0.05].sort_values(\"p_value\")"
   ]
  },
  {
   "cell_type": "markdown",
   "id": "5c49fc20-ee9a-41aa-9d96-2857945d9753",
   "metadata": {},
   "source": [
    "#### Statistics for donating"
   ]
  },
  {
   "cell_type": "code",
   "execution_count": 394,
   "id": "cd8973ab-a3cc-48ae-bca7-2dc34f201b50",
   "metadata": {},
   "outputs": [],
   "source": [
    "table_abundant_donation_dict, table_not_abundant_donation_dict = abundance_statistic(abundance_communities,receiver_or_donor=\"donor\")"
   ]
  },
  {
   "cell_type": "code",
   "execution_count": 395,
   "id": "96d1c3f2-ed7d-4449-92ea-9fa3130d9e2b",
   "metadata": {},
   "outputs": [
    {
     "data": {
      "text/html": [
       "<div>\n",
       "<style scoped>\n",
       "    .dataframe tbody tr th:only-of-type {\n",
       "        vertical-align: middle;\n",
       "    }\n",
       "\n",
       "    .dataframe tbody tr th {\n",
       "        vertical-align: top;\n",
       "    }\n",
       "\n",
       "    .dataframe thead th {\n",
       "        text-align: right;\n",
       "    }\n",
       "</style>\n",
       "<table border=\"1\" class=\"dataframe\">\n",
       "  <thead>\n",
       "    <tr style=\"text-align: right;\">\n",
       "      <th></th>\n",
       "      <th>table</th>\n",
       "      <th>p_value</th>\n",
       "      <th>odds_ratio</th>\n",
       "      <th>i</th>\n",
       "      <th>p_value_benjamini_h</th>\n",
       "    </tr>\n",
       "  </thead>\n",
       "  <tbody>\n",
       "  </tbody>\n",
       "</table>\n",
       "</div>"
      ],
      "text/plain": [
       "Empty DataFrame\n",
       "Columns: [table, p_value, odds_ratio, i, p_value_benjamini_h]\n",
       "Index: []"
      ]
     },
     "execution_count": 395,
     "metadata": {},
     "output_type": "execute_result"
    }
   ],
   "source": [
    "abundance_don_df = pd.DataFrame(table_abundant_donation_dict).T\n",
    "abundance_don_df = statistics_adjustments(abundance_don_df)\n",
    "abundance_don_df[abundance_don_df.p_value_benjamini_h<0.05].sort_values(\"p_value\")\n"
   ]
  },
  {
   "cell_type": "code",
   "execution_count": 396,
   "id": "9bfbfabe-6c18-4ef7-80b4-c93558b213ed",
   "metadata": {},
   "outputs": [
    {
     "data": {
      "text/html": [
       "<div>\n",
       "<style scoped>\n",
       "    .dataframe tbody tr th:only-of-type {\n",
       "        vertical-align: middle;\n",
       "    }\n",
       "\n",
       "    .dataframe tbody tr th {\n",
       "        vertical-align: top;\n",
       "    }\n",
       "\n",
       "    .dataframe thead th {\n",
       "        text-align: right;\n",
       "    }\n",
       "</style>\n",
       "<table border=\"1\" class=\"dataframe\">\n",
       "  <thead>\n",
       "    <tr style=\"text-align: right;\">\n",
       "      <th></th>\n",
       "      <th>table</th>\n",
       "      <th>p_value</th>\n",
       "      <th>odds_ratio</th>\n",
       "      <th>i</th>\n",
       "      <th>p_value_benjamini_h</th>\n",
       "    </tr>\n",
       "  </thead>\n",
       "  <tbody>\n",
       "  </tbody>\n",
       "</table>\n",
       "</div>"
      ],
      "text/plain": [
       "Empty DataFrame\n",
       "Columns: [table, p_value, odds_ratio, i, p_value_benjamini_h]\n",
       "Index: []"
      ]
     },
     "execution_count": 396,
     "metadata": {},
     "output_type": "execute_result"
    }
   ],
   "source": [
    "not_abundant_don_df = pd.DataFrame(table_not_abundant_donation_dict).T\n",
    "not_abundant_don_df = statistics_adjustments(not_abundant_don_df)\n",
    "\n",
    "\n",
    "not_abundant_don_df[\"odds_ratio\"] = not_abundant_don_df[\"odds_ratio\"].map(lambda x: math.inf if x==0 else 1/x)\n",
    "not_abundant_don_df[not_abundant_don_df.p_value_benjamini_h<0.05].sort_values(\"p_value\")"
   ]
  },
  {
   "cell_type": "markdown",
   "id": "e4b8b5ad-e7c5-4dd2-8b48-14fac88f7015",
   "metadata": {
    "tags": []
   },
   "source": [
    "## Mass flow"
   ]
  },
  {
   "cell_type": "markdown",
   "id": "056344ff-e427-4718-a3be-5eeac446e53e",
   "metadata": {},
   "source": [
    "#### Glucose"
   ]
  },
  {
   "cell_type": "markdown",
   "id": "b9ec8eb1-bfd9-4327-b74d-d7cc9d236440",
   "metadata": {},
   "source": [
    "**Receiver of Glucose**"
   ]
  },
  {
   "cell_type": "code",
   "execution_count": 397,
   "id": "e418eba7-7c67-41fd-b519-00f071d9e87d",
   "metadata": {},
   "outputs": [
    {
     "data": {
      "text/plain": [
       "Series([], dtype: int64)"
      ]
     },
     "execution_count": 397,
     "metadata": {},
     "output_type": "execute_result"
    }
   ],
   "source": [
    "steadier_sample_cross[(steadier_sample_cross.compound==\"D-Glucose\")].value_counts(\"family_receiver\")"
   ]
  },
  {
   "cell_type": "code",
   "execution_count": 398,
   "id": "d049799b-245c-4549-b9c9-d16d7eb2e98d",
   "metadata": {},
   "outputs": [
    {
     "data": {
      "text/plain": [
       "Series([], Name: mass_rate*frequency, dtype: float64)"
      ]
     },
     "execution_count": 398,
     "metadata": {},
     "output_type": "execute_result"
    }
   ],
   "source": [
    "steadier_sample_cross[(steadier_sample_cross.compound==\"D-Glucose\")].groupby([\"family_receiver\"]).sum()[\"mass_rate*frequency\"].sort_values(ascending=False)\n"
   ]
  },
  {
   "cell_type": "markdown",
   "id": "c86f5410-8cc1-49f5-b61f-c5d0b287701f",
   "metadata": {},
   "source": [
    "**Donor of Glucose**"
   ]
  },
  {
   "cell_type": "code",
   "execution_count": 399,
   "id": "ff7bcfac-643a-4d26-a69f-addbb07e259d",
   "metadata": {},
   "outputs": [
    {
     "data": {
      "text/plain": [
       "Series([], dtype: int64)"
      ]
     },
     "execution_count": 399,
     "metadata": {},
     "output_type": "execute_result"
    }
   ],
   "source": [
    "steadier_sample_cross[(steadier_sample_cross.compound==\"D-Glucose\")].value_counts(\"family_donor\")"
   ]
  },
  {
   "cell_type": "code",
   "execution_count": 400,
   "id": "2f4da38b-2e20-45c5-8f28-11bd6be7f450",
   "metadata": {},
   "outputs": [
    {
     "data": {
      "text/plain": [
       "Series([], Name: mass_rate*frequency, dtype: float64)"
      ]
     },
     "execution_count": 400,
     "metadata": {},
     "output_type": "execute_result"
    }
   ],
   "source": [
    "steadier_sample_cross[(steadier_sample_cross.compound==\"D-Glucose\")].groupby([\"family_donor\"]).sum()[\"mass_rate*frequency\"].sort_values(ascending=False)\n"
   ]
  },
  {
   "cell_type": "code",
   "execution_count": 401,
   "id": "6255b269-ae8e-4bca-a07d-e6ef7ca0916a",
   "metadata": {},
   "outputs": [
    {
     "data": {
      "text/plain": [
       "Series([], Name: mass_rate*frequency, dtype: float64)"
      ]
     },
     "execution_count": 401,
     "metadata": {},
     "output_type": "execute_result"
    }
   ],
   "source": [
    "steadier_sample_cross[(steadier_sample_cross.compound==\"D-Glucose\")].groupby([\"community\",\"family_receiver\"]).sum().sort_values([\"community\",\"mass_rate*frequency\"],ascending=[True,False])[\"mass_rate*frequency\"]\n"
   ]
  },
  {
   "cell_type": "code",
   "execution_count": 402,
   "id": "a6c426ee-8f34-4d89-8773-4cd0d136aac3",
   "metadata": {},
   "outputs": [
    {
     "data": {
      "text/plain": [
       "Series([], Name: mass_rate*frequency, dtype: float64)"
      ]
     },
     "execution_count": 402,
     "metadata": {},
     "output_type": "execute_result"
    }
   ],
   "source": [
    "steadier_sample_cross[(steadier_sample_cross.compound==\"D-Glucose\")].groupby([\"community\",\"family_donor\"]).sum().sort_values([\"community\",\"mass_rate*frequency\"],ascending=[True,False])[\"mass_rate*frequency\"]\n"
   ]
  },
  {
   "cell_type": "markdown",
   "id": "56d4dabb-e165-49dd-adea-5ace6b4f3cd0",
   "metadata": {},
   "source": [
    "#### Acetaldehyde"
   ]
  },
  {
   "cell_type": "markdown",
   "id": "a62134c4-f3d3-4bf5-949f-f87bda20f3e1",
   "metadata": {},
   "source": [
    "**Receiver of Acetaldehyde**"
   ]
  },
  {
   "cell_type": "code",
   "execution_count": 403,
   "id": "44387d6d-2c4e-452f-9482-c25dacc64b31",
   "metadata": {},
   "outputs": [
    {
     "data": {
      "text/plain": [
       "family_receiver\n",
       "Other                 6\n",
       "f_Lactobacillaceae    4\n",
       "f_Lachnospiraceae     3\n",
       "f_Clostridiaceae      2\n",
       "dtype: int64"
      ]
     },
     "execution_count": 403,
     "metadata": {},
     "output_type": "execute_result"
    }
   ],
   "source": [
    "steadier_sample_cross[(steadier_sample_cross.compound==\"Acetaldehyde\")].value_counts(\"family_receiver\")"
   ]
  },
  {
   "cell_type": "code",
   "execution_count": 404,
   "id": "067f4c5d-e3d0-468e-b920-b5ba08381806",
   "metadata": {},
   "outputs": [
    {
     "data": {
      "text/plain": [
       "family_receiver\n",
       "Other                 0.006709\n",
       "f_Lactobacillaceae    0.003790\n",
       "f_Lachnospiraceae     0.002421\n",
       "f_Clostridiaceae      0.001012\n",
       "Name: mass_rate*frequency, dtype: float64"
      ]
     },
     "execution_count": 404,
     "metadata": {},
     "output_type": "execute_result"
    }
   ],
   "source": [
    "steadier_sample_cross[(steadier_sample_cross.compound==\"Acetaldehyde\")].groupby([\"family_receiver\"]).sum()[\"mass_rate*frequency\"].sort_values(ascending=False)\n"
   ]
  },
  {
   "cell_type": "markdown",
   "id": "f3978310-4a87-4066-ad68-03b84aa07e41",
   "metadata": {},
   "source": [
    "**Donor of Acetaldehyde**"
   ]
  },
  {
   "cell_type": "code",
   "execution_count": 405,
   "id": "8bba03e8-5088-41ce-8869-a6988d6d8c9e",
   "metadata": {},
   "outputs": [
    {
     "data": {
      "text/plain": [
       "family_donor\n",
       "f_Clostridiaceae     8\n",
       "Other                4\n",
       "f_Lachnospiraceae    3\n",
       "dtype: int64"
      ]
     },
     "execution_count": 405,
     "metadata": {},
     "output_type": "execute_result"
    }
   ],
   "source": [
    "steadier_sample_cross[(steadier_sample_cross.compound==\"Acetaldehyde\")].value_counts(\"family_donor\")"
   ]
  },
  {
   "cell_type": "code",
   "execution_count": 406,
   "id": "574f03d7-b9b1-4f8b-8126-bffd86405a3a",
   "metadata": {},
   "outputs": [
    {
     "data": {
      "text/plain": [
       "family_donor\n",
       "Other                0.008201\n",
       "f_Clostridiaceae     0.004054\n",
       "f_Lachnospiraceae    0.001676\n",
       "Name: mass_rate*frequency, dtype: float64"
      ]
     },
     "execution_count": 406,
     "metadata": {},
     "output_type": "execute_result"
    }
   ],
   "source": [
    "steadier_sample_cross[(steadier_sample_cross.compound==\"Acetaldehyde\")].groupby([\"family_donor\"]).sum()[\"mass_rate*frequency\"].sort_values(ascending=False)\n"
   ]
  },
  {
   "cell_type": "code",
   "execution_count": 407,
   "id": "33b03275-5f21-4fa4-8dea-7926916262a3",
   "metadata": {},
   "outputs": [
    {
     "data": {
      "text/plain": [
       "community  family_receiver   \n",
       "CD_X       f_Lachnospiraceae     0.001147\n",
       "           Other                 0.000530\n",
       "CM_X       Other                 0.006025\n",
       "           f_Lactobacillaceae    0.003790\n",
       "           f_Lachnospiraceae     0.001274\n",
       "M_X        f_Clostridiaceae      0.001012\n",
       "           Other                 0.000153\n",
       "Name: mass_rate*frequency, dtype: float64"
      ]
     },
     "execution_count": 407,
     "metadata": {},
     "output_type": "execute_result"
    }
   ],
   "source": [
    "steadier_sample_cross[(steadier_sample_cross.compound==\"Acetaldehyde\")].groupby([\"community\",\"family_receiver\"]).sum().sort_values([\"community\",\"mass_rate*frequency\"],ascending=[True,False])[\"mass_rate*frequency\"]\n"
   ]
  },
  {
   "cell_type": "code",
   "execution_count": 408,
   "id": "8651d8c7-03f4-4847-94d2-918ee09a2243",
   "metadata": {},
   "outputs": [
    {
     "data": {
      "text/plain": [
       "community  family_donor     \n",
       "CD_X       f_Lachnospiraceae    0.001676\n",
       "CM_X       Other                0.008201\n",
       "           f_Clostridiaceae     0.002889\n",
       "M_X        f_Clostridiaceae     0.001165\n",
       "Name: mass_rate*frequency, dtype: float64"
      ]
     },
     "execution_count": 408,
     "metadata": {},
     "output_type": "execute_result"
    }
   ],
   "source": [
    "steadier_sample_cross[(steadier_sample_cross.compound==\"Acetaldehyde\")].groupby([\"community\",\"family_donor\"]).sum().sort_values([\"community\",\"mass_rate*frequency\"],ascending=[True,False])[\"mass_rate*frequency\"]\n"
   ]
  },
  {
   "cell_type": "markdown",
   "id": "c868fad3-c0ae-4165-aa6e-0e1d8be4f352",
   "metadata": {},
   "source": [
    "#### H2S"
   ]
  },
  {
   "cell_type": "markdown",
   "id": "a4d962d7-4f80-4450-bba7-fd33c281f7f2",
   "metadata": {},
   "source": [
    "**Receiver of H2S**"
   ]
  },
  {
   "cell_type": "code",
   "execution_count": 409,
   "id": "82573504-7a0a-4f40-bd10-a9769fb86b09",
   "metadata": {},
   "outputs": [
    {
     "data": {
      "text/plain": [
       "family_receiver\n",
       "f_Lactobacillaceae    6\n",
       "f_Lachnospiraceae     5\n",
       "f_Clostridiaceae      4\n",
       "Other                 3\n",
       "dtype: int64"
      ]
     },
     "execution_count": 409,
     "metadata": {},
     "output_type": "execute_result"
    }
   ],
   "source": [
    "steadier_sample_cross[(steadier_sample_cross.compound==\"Hydrogen sulfide\")].value_counts(\"family_receiver\")"
   ]
  },
  {
   "cell_type": "code",
   "execution_count": 410,
   "id": "59b1101e-7d70-4e4f-a71d-626f87898c37",
   "metadata": {},
   "outputs": [
    {
     "data": {
      "text/plain": [
       "family_receiver\n",
       "f_Clostridiaceae      0.000044\n",
       "f_Lachnospiraceae     0.000014\n",
       "Other                 0.000008\n",
       "f_Lactobacillaceae    0.000004\n",
       "Name: mass_rate*frequency, dtype: float64"
      ]
     },
     "execution_count": 410,
     "metadata": {},
     "output_type": "execute_result"
    }
   ],
   "source": [
    "steadier_sample_cross[(steadier_sample_cross.compound==\"Hydrogen sulfide\")].groupby([\"family_receiver\"]).sum()[\"mass_rate*frequency\"].sort_values(ascending=False)\n"
   ]
  },
  {
   "cell_type": "markdown",
   "id": "520cd7d0-3c7f-4053-bf0f-ddfd76119ebd",
   "metadata": {},
   "source": [
    "**Donor of H2S**"
   ]
  },
  {
   "cell_type": "code",
   "execution_count": 411,
   "id": "89072d99-52ef-4e7b-a612-e2a3baea5ae0",
   "metadata": {},
   "outputs": [
    {
     "data": {
      "text/plain": [
       "family_donor\n",
       "Other                9\n",
       "f_Lachnospiraceae    5\n",
       "f_Clostridiaceae     4\n",
       "dtype: int64"
      ]
     },
     "execution_count": 411,
     "metadata": {},
     "output_type": "execute_result"
    }
   ],
   "source": [
    "steadier_sample_cross[(steadier_sample_cross.compound==\"Hydrogen sulfide\")].value_counts(\"family_donor\")"
   ]
  },
  {
   "cell_type": "code",
   "execution_count": 412,
   "id": "de8e803c-90ea-4fd9-824a-d9c5e585033a",
   "metadata": {},
   "outputs": [
    {
     "data": {
      "text/plain": [
       "family_donor\n",
       "f_Clostridiaceae     0.000039\n",
       "Other                0.000020\n",
       "f_Lachnospiraceae    0.000012\n",
       "Name: mass_rate*frequency, dtype: float64"
      ]
     },
     "execution_count": 412,
     "metadata": {},
     "output_type": "execute_result"
    }
   ],
   "source": [
    "steadier_sample_cross[(steadier_sample_cross.compound==\"Hydrogen sulfide\")].groupby([\"family_donor\"]).sum()[\"mass_rate*frequency\"].sort_values(ascending=False)\n"
   ]
  },
  {
   "cell_type": "code",
   "execution_count": 413,
   "id": "034b1ec2-b299-49bb-879d-9ded3f0eb36d",
   "metadata": {},
   "outputs": [
    {
     "data": {
      "text/plain": [
       "community  family_receiver   \n",
       "CD_X       f_Lachnospiraceae     0.000014\n",
       "CM_X       Other                 0.000008\n",
       "           f_Clostridiaceae      0.000005\n",
       "           f_Lactobacillaceae    0.000004\n",
       "M_X        f_Clostridiaceae      0.000039\n",
       "Name: mass_rate*frequency, dtype: float64"
      ]
     },
     "execution_count": 413,
     "metadata": {},
     "output_type": "execute_result"
    }
   ],
   "source": [
    "steadier_sample_cross[(steadier_sample_cross.compound==\"Hydrogen sulfide\")].groupby([\"community\",\"family_receiver\"]).sum().sort_values([\"community\",\"mass_rate*frequency\"],ascending=[True,False])[\"mass_rate*frequency\"]\n"
   ]
  },
  {
   "cell_type": "code",
   "execution_count": 414,
   "id": "5f0aa8e5-5b20-4441-b48c-4bf6b38f38b4",
   "metadata": {},
   "outputs": [
    {
     "data": {
      "text/plain": [
       "community  family_donor     \n",
       "CD_X       Other                1.156144e-05\n",
       "           f_Lachnospiraceae    2.336506e-06\n",
       "CM_X       f_Lachnospiraceae    9.185359e-06\n",
       "           Other                7.683189e-06\n",
       "           f_Clostridiaceae     2.758023e-07\n",
       "M_X        f_Clostridiaceae     3.860965e-05\n",
       "           Other                6.359372e-07\n",
       "Name: mass_rate*frequency, dtype: float64"
      ]
     },
     "execution_count": 414,
     "metadata": {},
     "output_type": "execute_result"
    }
   ],
   "source": [
    "steadier_sample_cross[(steadier_sample_cross.compound==\"Hydrogen sulfide\")].groupby([\"community\",\"family_donor\"]).sum().sort_values([\"community\",\"mass_rate*frequency\"],ascending=[True,False])[\"mass_rate*frequency\"]\n"
   ]
  },
  {
   "cell_type": "markdown",
   "id": "743d84e3-3081-4be3-9c34-98ac6437f08a",
   "metadata": {},
   "source": [
    "#### CO2"
   ]
  },
  {
   "cell_type": "markdown",
   "id": "7d2d6b4e-e289-4645-84e1-e5815559c1a9",
   "metadata": {},
   "source": [
    "**Receiver of CO2**"
   ]
  },
  {
   "cell_type": "code",
   "execution_count": 415,
   "id": "e70b1b21-6b86-4fdf-b47f-3e0bbc8eda21",
   "metadata": {},
   "outputs": [
    {
     "data": {
      "text/plain": [
       "family_receiver\n",
       "f_Lachnospiraceae     8\n",
       "f_Lactobacillaceae    5\n",
       "dtype: int64"
      ]
     },
     "execution_count": 415,
     "metadata": {},
     "output_type": "execute_result"
    }
   ],
   "source": [
    "steadier_sample_cross[(steadier_sample_cross.compound==\"CO2 CO2\")].value_counts(\"family_receiver\")"
   ]
  },
  {
   "cell_type": "code",
   "execution_count": 416,
   "id": "0a20a9ef-0d9e-40ae-86ba-f30bc32365d4",
   "metadata": {},
   "outputs": [
    {
     "data": {
      "text/plain": [
       "family_receiver\n",
       "f_Lachnospiraceae     0.001586\n",
       "f_Lactobacillaceae    0.000037\n",
       "Name: mass_rate*frequency, dtype: float64"
      ]
     },
     "execution_count": 416,
     "metadata": {},
     "output_type": "execute_result"
    }
   ],
   "source": [
    "steadier_sample_cross[(steadier_sample_cross.compound==\"CO2 CO2\")].groupby([\"family_receiver\"]).sum()[\"mass_rate*frequency\"].sort_values(ascending=False)\n"
   ]
  },
  {
   "cell_type": "markdown",
   "id": "4570127f-f65c-4036-9af4-2e728baa1008",
   "metadata": {},
   "source": [
    "**Donor of CO2**"
   ]
  },
  {
   "cell_type": "code",
   "execution_count": 417,
   "id": "b1ea9abd-aaba-4671-998f-fc3bcfd93f4e",
   "metadata": {},
   "outputs": [
    {
     "data": {
      "text/plain": [
       "family_donor\n",
       "Other                 6\n",
       "f_Lactobacillaceae    3\n",
       "f_Clostridiaceae      2\n",
       "f_Lachnospiraceae     2\n",
       "dtype: int64"
      ]
     },
     "execution_count": 417,
     "metadata": {},
     "output_type": "execute_result"
    }
   ],
   "source": [
    "steadier_sample_cross[(steadier_sample_cross.compound==\"CO2 CO2\")].value_counts(\"family_donor\")"
   ]
  },
  {
   "cell_type": "code",
   "execution_count": 418,
   "id": "629e951d-7bc0-4b10-b66b-3447ae4b6d38",
   "metadata": {},
   "outputs": [
    {
     "data": {
      "text/plain": [
       "family_donor\n",
       "f_Lachnospiraceae     1.157005e-03\n",
       "Other                 4.597303e-04\n",
       "f_Lactobacillaceae    5.622164e-06\n",
       "f_Clostridiaceae      8.188731e-07\n",
       "Name: mass_rate*frequency, dtype: float64"
      ]
     },
     "execution_count": 418,
     "metadata": {},
     "output_type": "execute_result"
    }
   ],
   "source": [
    "steadier_sample_cross[(steadier_sample_cross.compound==\"CO2 CO2\")].groupby([\"family_donor\"]).sum()[\"mass_rate*frequency\"].sort_values(ascending=False)\n"
   ]
  },
  {
   "cell_type": "code",
   "execution_count": 419,
   "id": "ebfcca29-ae6f-42df-9b16-4a76882e7688",
   "metadata": {},
   "outputs": [
    {
     "data": {
      "text/plain": [
       "community  family_receiver   \n",
       "CD_X       f_Lachnospiraceae     0.001411\n",
       "CM_X       f_Lachnospiraceae     0.000175\n",
       "           f_Lactobacillaceae    0.000037\n",
       "Name: mass_rate*frequency, dtype: float64"
      ]
     },
     "execution_count": 419,
     "metadata": {},
     "output_type": "execute_result"
    }
   ],
   "source": [
    "steadier_sample_cross[(steadier_sample_cross.compound==\"CO2 CO2\")].groupby([\"community\",\"family_receiver\"]).sum().sort_values([\"community\",\"mass_rate*frequency\"],ascending=[True,False])[\"mass_rate*frequency\"]\n"
   ]
  },
  {
   "cell_type": "code",
   "execution_count": 420,
   "id": "e4a51392-d60b-4f24-89c2-6bf74c9d1b08",
   "metadata": {},
   "outputs": [
    {
     "data": {
      "text/plain": [
       "community  family_donor      \n",
       "CD_X       f_Lachnospiraceae     1.156611e-03\n",
       "           Other                 2.547838e-04\n",
       "CM_X       Other                 2.049465e-04\n",
       "           f_Lactobacillaceae    5.622164e-06\n",
       "           f_Clostridiaceae      8.188731e-07\n",
       "           f_Lachnospiraceae     3.932263e-07\n",
       "Name: mass_rate*frequency, dtype: float64"
      ]
     },
     "execution_count": 420,
     "metadata": {},
     "output_type": "execute_result"
    }
   ],
   "source": [
    "steadier_sample_cross[(steadier_sample_cross.compound==\"CO2 CO2\")].groupby([\"community\",\"family_donor\"]).sum().sort_values([\"community\",\"mass_rate*frequency\"],ascending=[True,False])[\"mass_rate*frequency\"]\n"
   ]
  },
  {
   "cell_type": "markdown",
   "id": "01ab653f-7555-44da-b564-279425ef19ad",
   "metadata": {},
   "source": [
    "#### Lactate"
   ]
  },
  {
   "cell_type": "markdown",
   "id": "8162b25b-0c37-4162-ae65-0230638ed841",
   "metadata": {},
   "source": [
    "**Receiver of L-Lactate**"
   ]
  },
  {
   "cell_type": "code",
   "execution_count": 421,
   "id": "408ae502-9847-4f2d-b530-86333defad61",
   "metadata": {},
   "outputs": [
    {
     "data": {
      "text/plain": [
       "family_receiver\n",
       "Other               2\n",
       "f_Clostridiaceae    1\n",
       "dtype: int64"
      ]
     },
     "execution_count": 421,
     "metadata": {},
     "output_type": "execute_result"
    }
   ],
   "source": [
    "steadier_sample_cross[(steadier_sample_cross.compound==\"L-Lactate\")].value_counts(\"family_receiver\")"
   ]
  },
  {
   "cell_type": "code",
   "execution_count": 422,
   "id": "a6b82910-a4f8-461f-9a37-a717d3482aa0",
   "metadata": {},
   "outputs": [
    {
     "data": {
      "text/plain": [
       "family_receiver\n",
       "f_Clostridiaceae    0.001763\n",
       "Other               0.000039\n",
       "Name: mass_rate*frequency, dtype: float64"
      ]
     },
     "execution_count": 422,
     "metadata": {},
     "output_type": "execute_result"
    }
   ],
   "source": [
    "steadier_sample_cross[(steadier_sample_cross.compound==\"L-Lactate\")].groupby([\"family_receiver\"]).sum()[\"mass_rate*frequency\"].sort_values(ascending=False)\n"
   ]
  },
  {
   "cell_type": "markdown",
   "id": "0552a943-bfce-466b-9a09-600f402dc0a0",
   "metadata": {},
   "source": [
    "**Donor of L-Lactate**"
   ]
  },
  {
   "cell_type": "code",
   "execution_count": 423,
   "id": "ff814d15-26ca-4694-b9b4-4515cefd018f",
   "metadata": {},
   "outputs": [
    {
     "data": {
      "text/plain": [
       "family_donor\n",
       "Other               2\n",
       "f_Clostridiaceae    1\n",
       "dtype: int64"
      ]
     },
     "execution_count": 423,
     "metadata": {},
     "output_type": "execute_result"
    }
   ],
   "source": [
    "steadier_sample_cross[(steadier_sample_cross.compound==\"L-Lactate\")].value_counts(\"family_donor\")"
   ]
  },
  {
   "cell_type": "code",
   "execution_count": 424,
   "id": "a870d188-da2f-42ac-a5dd-7c97a1004c06",
   "metadata": {},
   "outputs": [
    {
     "data": {
      "text/plain": [
       "family_donor\n",
       "f_Clostridiaceae    0.001763\n",
       "Other               0.000039\n",
       "Name: mass_rate*frequency, dtype: float64"
      ]
     },
     "execution_count": 424,
     "metadata": {},
     "output_type": "execute_result"
    }
   ],
   "source": [
    "steadier_sample_cross[(steadier_sample_cross.compound==\"L-Lactate\")].groupby([\"family_donor\"]).sum()[\"mass_rate*frequency\"].sort_values(ascending=False)\n"
   ]
  },
  {
   "cell_type": "code",
   "execution_count": 425,
   "id": "f15f44d2-e597-4250-bd5a-f306549a9445",
   "metadata": {},
   "outputs": [
    {
     "data": {
      "text/plain": [
       "community  family_receiver \n",
       "CD_X       Other               0.000039\n",
       "M_X        f_Clostridiaceae    0.001763\n",
       "Name: mass_rate*frequency, dtype: float64"
      ]
     },
     "execution_count": 425,
     "metadata": {},
     "output_type": "execute_result"
    }
   ],
   "source": [
    "steadier_sample_cross[(steadier_sample_cross.compound==\"L-Lactate\")].groupby([\"community\",\"family_receiver\"]).sum().sort_values([\"community\",\"mass_rate*frequency\"],ascending=[True,False])[\"mass_rate*frequency\"]\n"
   ]
  },
  {
   "cell_type": "code",
   "execution_count": 426,
   "id": "38dede8f-0cb3-41fc-aa1e-3c3139ac6439",
   "metadata": {},
   "outputs": [
    {
     "data": {
      "text/plain": [
       "community  family_donor    \n",
       "CD_X       Other               0.000039\n",
       "M_X        f_Clostridiaceae    0.001763\n",
       "Name: mass_rate*frequency, dtype: float64"
      ]
     },
     "execution_count": 426,
     "metadata": {},
     "output_type": "execute_result"
    }
   ],
   "source": [
    "steadier_sample_cross[(steadier_sample_cross.compound==\"L-Lactate\")].groupby([\"community\",\"family_donor\"]).sum().sort_values([\"community\",\"mass_rate*frequency\"],ascending=[True,False])[\"mass_rate*frequency\"]\n"
   ]
  },
  {
   "cell_type": "markdown",
   "id": "da3fa621-775d-4621-81ad-036c95ecd887",
   "metadata": {},
   "source": [
    "#### Guanine"
   ]
  },
  {
   "cell_type": "markdown",
   "id": "14fc9137-16ba-42ff-a5dd-3c453c5a3e64",
   "metadata": {},
   "source": [
    "**Receiver of Guanine**"
   ]
  },
  {
   "cell_type": "code",
   "execution_count": 427,
   "id": "c788b0ca-405a-4b93-be81-de408df10439",
   "metadata": {},
   "outputs": [
    {
     "data": {
      "text/plain": [
       "family_receiver\n",
       "Other                 5\n",
       "f_Clostridiaceae      2\n",
       "f_Lactobacillaceae    2\n",
       "f_Lachnospiraceae     1\n",
       "dtype: int64"
      ]
     },
     "execution_count": 427,
     "metadata": {},
     "output_type": "execute_result"
    }
   ],
   "source": [
    "steadier_sample_cross[(steadier_sample_cross.compound==\"Guanine\")].value_counts(\"family_receiver\")"
   ]
  },
  {
   "cell_type": "code",
   "execution_count": 428,
   "id": "fdabdb22-996c-4087-a8cf-edf3d23176e2",
   "metadata": {},
   "outputs": [
    {
     "data": {
      "text/plain": [
       "family_receiver\n",
       "Other                 0.000363\n",
       "f_Clostridiaceae      0.000086\n",
       "f_Lachnospiraceae     0.000067\n",
       "f_Lactobacillaceae    0.000027\n",
       "Name: mass_rate*frequency, dtype: float64"
      ]
     },
     "execution_count": 428,
     "metadata": {},
     "output_type": "execute_result"
    }
   ],
   "source": [
    "steadier_sample_cross[(steadier_sample_cross.compound==\"Guanine\")].groupby([\"family_receiver\"]).sum()[\"mass_rate*frequency\"].sort_values(ascending=False)\n"
   ]
  },
  {
   "cell_type": "markdown",
   "id": "08402fbf-c6af-4836-b317-56e1464a9bb9",
   "metadata": {},
   "source": [
    "**Donor of Guanine**"
   ]
  },
  {
   "cell_type": "code",
   "execution_count": 429,
   "id": "39061790-6efe-47d0-b61b-506f4bc45ce7",
   "metadata": {},
   "outputs": [
    {
     "data": {
      "text/plain": [
       "family_donor\n",
       "f_Lachnospiraceae    8\n",
       "f_Clostridiaceae     2\n",
       "dtype: int64"
      ]
     },
     "execution_count": 429,
     "metadata": {},
     "output_type": "execute_result"
    }
   ],
   "source": [
    "steadier_sample_cross[(steadier_sample_cross.compound==\"Guanine\")].value_counts(\"family_donor\")"
   ]
  },
  {
   "cell_type": "code",
   "execution_count": 430,
   "id": "a0a6ef22-54ee-490f-908a-976831bd7b89",
   "metadata": {},
   "outputs": [
    {
     "data": {
      "text/plain": [
       "family_donor\n",
       "f_Lachnospiraceae    0.000465\n",
       "f_Clostridiaceae     0.000077\n",
       "Name: mass_rate*frequency, dtype: float64"
      ]
     },
     "execution_count": 430,
     "metadata": {},
     "output_type": "execute_result"
    }
   ],
   "source": [
    "steadier_sample_cross[(steadier_sample_cross.compound==\"Guanine\")].groupby([\"family_donor\"]).sum()[\"mass_rate*frequency\"].sort_values(ascending=False)\n"
   ]
  },
  {
   "cell_type": "code",
   "execution_count": 431,
   "id": "aaa8093e-0575-4e21-b5a6-c3bae930b0c5",
   "metadata": {},
   "outputs": [
    {
     "data": {
      "text/plain": [
       "community  family_receiver   \n",
       "CD_X       f_Lachnospiraceae     0.000067\n",
       "           Other                 0.000065\n",
       "CM_X       Other                 0.000292\n",
       "           f_Lactobacillaceae    0.000027\n",
       "           f_Clostridiaceae      0.000014\n",
       "M_X        f_Clostridiaceae      0.000072\n",
       "           Other                 0.000005\n",
       "Name: mass_rate*frequency, dtype: float64"
      ]
     },
     "execution_count": 431,
     "metadata": {},
     "output_type": "execute_result"
    }
   ],
   "source": [
    "steadier_sample_cross[(steadier_sample_cross.compound==\"Guanine\")].groupby([\"community\",\"family_receiver\"]).sum().sort_values([\"community\",\"mass_rate*frequency\"],ascending=[True,False])[\"mass_rate*frequency\"]\n"
   ]
  },
  {
   "cell_type": "code",
   "execution_count": 432,
   "id": "848d7adc-86ab-4157-931c-59ac836e8d78",
   "metadata": {},
   "outputs": [
    {
     "data": {
      "text/plain": [
       "community  family_donor     \n",
       "CD_X       f_Lachnospiraceae    0.000132\n",
       "CM_X       f_Lachnospiraceae    0.000333\n",
       "M_X        f_Clostridiaceae     0.000077\n",
       "Name: mass_rate*frequency, dtype: float64"
      ]
     },
     "execution_count": 432,
     "metadata": {},
     "output_type": "execute_result"
    }
   ],
   "source": [
    "steadier_sample_cross[(steadier_sample_cross.compound==\"Guanine\")].groupby([\"community\",\"family_donor\"]).sum().sort_values([\"community\",\"mass_rate*frequency\"],ascending=[True,False])[\"mass_rate*frequency\"]\n"
   ]
  },
  {
   "cell_type": "markdown",
   "id": "fbf8a977-da83-4748-96c3-c57596aac7a9",
   "metadata": {
    "tags": []
   },
   "source": [
    "#### Uracil"
   ]
  },
  {
   "cell_type": "markdown",
   "id": "8a5e9605-deec-413e-9672-a184bb0b12fc",
   "metadata": {},
   "source": [
    "**Receiver of Uracil**"
   ]
  },
  {
   "cell_type": "code",
   "execution_count": 433,
   "id": "64c9e48d-0f55-4b62-9e86-d0bfedef58df",
   "metadata": {},
   "outputs": [
    {
     "data": {
      "text/plain": [
       "family_receiver\n",
       "Other                 6\n",
       "f_Lachnospiraceae     3\n",
       "f_Clostridiaceae      2\n",
       "f_Lactobacillaceae    2\n",
       "dtype: int64"
      ]
     },
     "execution_count": 433,
     "metadata": {},
     "output_type": "execute_result"
    }
   ],
   "source": [
    "steadier_sample_cross[(steadier_sample_cross.compound==\"Uracil\")].value_counts(\"family_receiver\")"
   ]
  },
  {
   "cell_type": "code",
   "execution_count": 434,
   "id": "28ef524d-fc84-4c65-9eb7-88c9019175ed",
   "metadata": {},
   "outputs": [
    {
     "data": {
      "text/plain": [
       "family_receiver\n",
       "Other                 0.000162\n",
       "f_Lachnospiraceae     0.000090\n",
       "f_Clostridiaceae      0.000080\n",
       "f_Lactobacillaceae    0.000012\n",
       "Name: mass_rate*frequency, dtype: float64"
      ]
     },
     "execution_count": 434,
     "metadata": {},
     "output_type": "execute_result"
    }
   ],
   "source": [
    "steadier_sample_cross[(steadier_sample_cross.compound==\"Uracil\")].groupby([\"family_receiver\"]).sum()[\"mass_rate*frequency\"].sort_values(ascending=False)\n"
   ]
  },
  {
   "cell_type": "markdown",
   "id": "adc6402a-e6aa-4729-b153-90e8d598fea5",
   "metadata": {},
   "source": [
    "**Donor of Uracil**"
   ]
  },
  {
   "cell_type": "code",
   "execution_count": 435,
   "id": "612c2ba1-bd3f-4361-bf4e-b35bcda0da6d",
   "metadata": {},
   "outputs": [
    {
     "data": {
      "text/plain": [
       "family_donor\n",
       "f_Lachnospiraceae    8\n",
       "Other                3\n",
       "f_Clostridiaceae     2\n",
       "dtype: int64"
      ]
     },
     "execution_count": 435,
     "metadata": {},
     "output_type": "execute_result"
    }
   ],
   "source": [
    "steadier_sample_cross[(steadier_sample_cross.compound==\"Uracil\")].value_counts(\"family_donor\")"
   ]
  },
  {
   "cell_type": "code",
   "execution_count": 436,
   "id": "b56ee0f9-39b3-4928-a251-c371d4d60dcb",
   "metadata": {},
   "outputs": [
    {
     "data": {
      "text/plain": [
       "family_donor\n",
       "f_Lachnospiraceae    0.000226\n",
       "f_Clostridiaceae     0.000078\n",
       "Other                0.000041\n",
       "Name: mass_rate*frequency, dtype: float64"
      ]
     },
     "execution_count": 436,
     "metadata": {},
     "output_type": "execute_result"
    }
   ],
   "source": [
    "steadier_sample_cross[(steadier_sample_cross.compound==\"Uracil\")].groupby([\"family_donor\"]).sum()[\"mass_rate*frequency\"].sort_values(ascending=False)\n"
   ]
  },
  {
   "cell_type": "code",
   "execution_count": 437,
   "id": "870d70f6-89d4-4f33-a64b-3e49a00fc756",
   "metadata": {},
   "outputs": [
    {
     "data": {
      "text/plain": [
       "community  family_receiver   \n",
       "CD_X       f_Lachnospiraceae     0.000090\n",
       "           Other                 0.000033\n",
       "CM_X       Other                 0.000124\n",
       "           f_Lactobacillaceae    0.000012\n",
       "           f_Clostridiaceae      0.000008\n",
       "M_X        f_Clostridiaceae      0.000073\n",
       "           Other                 0.000005\n",
       "Name: mass_rate*frequency, dtype: float64"
      ]
     },
     "execution_count": 437,
     "metadata": {},
     "output_type": "execute_result"
    }
   ],
   "source": [
    "steadier_sample_cross[(steadier_sample_cross.compound==\"Uracil\")].groupby([\"community\",\"family_receiver\"]).sum().sort_values([\"community\",\"mass_rate*frequency\"],ascending=[True,False])[\"mass_rate*frequency\"]\n"
   ]
  },
  {
   "cell_type": "code",
   "execution_count": 438,
   "id": "8232d643-5c21-45b3-8150-28a480df6d50",
   "metadata": {},
   "outputs": [
    {
     "data": {
      "text/plain": [
       "community  family_donor     \n",
       "CD_X       f_Lachnospiraceae    0.000082\n",
       "           Other                0.000041\n",
       "CM_X       f_Lachnospiraceae    0.000144\n",
       "M_X        f_Clostridiaceae     0.000078\n",
       "Name: mass_rate*frequency, dtype: float64"
      ]
     },
     "execution_count": 438,
     "metadata": {},
     "output_type": "execute_result"
    }
   ],
   "source": [
    "steadier_sample_cross[(steadier_sample_cross.compound==\"Uracil\")].groupby([\"community\",\"family_donor\"]).sum().sort_values([\"community\",\"mass_rate*frequency\"],ascending=[True,False])[\"mass_rate*frequency\"]\n"
   ]
  },
  {
   "cell_type": "markdown",
   "id": "cf48df68-b596-404c-b548-62cf8acd9a9e",
   "metadata": {
    "tags": []
   },
   "source": [
    "#### L-Aspartate"
   ]
  },
  {
   "cell_type": "markdown",
   "id": "233c4052-0070-43ff-ab0f-48f10c4e32a9",
   "metadata": {},
   "source": [
    "**Receiver of L-Aspartate**"
   ]
  },
  {
   "cell_type": "code",
   "execution_count": 439,
   "id": "f11e77ef-9815-4241-9d72-04571a4d1d7e",
   "metadata": {},
   "outputs": [
    {
     "data": {
      "text/plain": [
       "Series([], dtype: int64)"
      ]
     },
     "execution_count": 439,
     "metadata": {},
     "output_type": "execute_result"
    }
   ],
   "source": [
    "steadier_sample_cross[(steadier_sample_cross.compound==\"L-Aspartate\")].value_counts(\"family_receiver\")"
   ]
  },
  {
   "cell_type": "code",
   "execution_count": 440,
   "id": "fd3dcb7b-34bc-4b1f-a412-88218264b85c",
   "metadata": {},
   "outputs": [
    {
     "data": {
      "text/plain": [
       "Series([], Name: mass_rate*frequency, dtype: float64)"
      ]
     },
     "execution_count": 440,
     "metadata": {},
     "output_type": "execute_result"
    }
   ],
   "source": [
    "steadier_sample_cross[(steadier_sample_cross.compound==\"L-Aspartate\")].groupby([\"family_receiver\"]).sum()[\"mass_rate*frequency\"].sort_values(ascending=False)\n"
   ]
  },
  {
   "cell_type": "markdown",
   "id": "3bd49192-9e99-4417-99bc-06bbaa8486de",
   "metadata": {},
   "source": [
    "**Donor of L-Aspartate**"
   ]
  },
  {
   "cell_type": "code",
   "execution_count": 441,
   "id": "b3f00549-39f3-468d-b220-4f6e4dc70c44",
   "metadata": {},
   "outputs": [
    {
     "data": {
      "text/plain": [
       "Series([], dtype: int64)"
      ]
     },
     "execution_count": 441,
     "metadata": {},
     "output_type": "execute_result"
    }
   ],
   "source": [
    "steadier_sample_cross[(steadier_sample_cross.compound==\"L-Aspartate\")].value_counts(\"family_donor\")"
   ]
  },
  {
   "cell_type": "code",
   "execution_count": 442,
   "id": "9a4c74d0-4bf3-4429-aa70-cbc9c0fe6b79",
   "metadata": {},
   "outputs": [
    {
     "data": {
      "text/plain": [
       "Series([], Name: mass_rate*frequency, dtype: float64)"
      ]
     },
     "execution_count": 442,
     "metadata": {},
     "output_type": "execute_result"
    }
   ],
   "source": [
    "steadier_sample_cross[(steadier_sample_cross.compound==\"L-Aspartate\")].groupby([\"family_donor\"]).sum()[\"mass_rate*frequency\"].sort_values(ascending=False)\n"
   ]
  },
  {
   "cell_type": "code",
   "execution_count": 443,
   "id": "4a00c19a-ff87-42b4-94c8-7aa619e86642",
   "metadata": {},
   "outputs": [
    {
     "data": {
      "text/plain": [
       "Series([], Name: mass_rate*frequency, dtype: float64)"
      ]
     },
     "execution_count": 443,
     "metadata": {},
     "output_type": "execute_result"
    }
   ],
   "source": [
    "steadier_sample_cross[(steadier_sample_cross.compound==\"L-Aspartate\")].groupby([\"community\",\"family_receiver\"]).sum().sort_values([\"community\",\"mass_rate*frequency\"],ascending=[True,False])[\"mass_rate*frequency\"]\n"
   ]
  },
  {
   "cell_type": "code",
   "execution_count": 444,
   "id": "c1cba3cd-6d14-4db8-867c-7ed95fba5acd",
   "metadata": {},
   "outputs": [
    {
     "data": {
      "text/plain": [
       "Series([], Name: mass_rate*frequency, dtype: float64)"
      ]
     },
     "execution_count": 444,
     "metadata": {},
     "output_type": "execute_result"
    }
   ],
   "source": [
    "steadier_sample_cross[(steadier_sample_cross.compound==\"L-Aspartate\")].groupby([\"community\",\"family_donor\"]).sum().sort_values([\"community\",\"mass_rate*frequency\"],ascending=[True,False])[\"mass_rate*frequency\"]\n"
   ]
  },
  {
   "cell_type": "markdown",
   "id": "77c72fe3-f618-4824-9101-f6774d3ae087",
   "metadata": {
    "tags": []
   },
   "source": [
    "#### L-Lysine"
   ]
  },
  {
   "cell_type": "markdown",
   "id": "80f11e1d-4f01-4296-b7a6-0dfd3ac2b62a",
   "metadata": {},
   "source": [
    "**Receiver of L-Lysine**"
   ]
  },
  {
   "cell_type": "code",
   "execution_count": 445,
   "id": "56fc286e-fa6e-433e-a4ad-624680ae5f1e",
   "metadata": {},
   "outputs": [
    {
     "data": {
      "text/plain": [
       "family_receiver\n",
       "f_Clostridiaceae      2\n",
       "f_Lactobacillaceae    2\n",
       "Other                 1\n",
       "dtype: int64"
      ]
     },
     "execution_count": 445,
     "metadata": {},
     "output_type": "execute_result"
    }
   ],
   "source": [
    "steadier_sample_cross[(steadier_sample_cross.compound==\"L-Lysine\")].value_counts(\"family_receiver\")"
   ]
  },
  {
   "cell_type": "code",
   "execution_count": 446,
   "id": "3f8fec4a-0efa-470d-8c09-dd3a57f7bedf",
   "metadata": {},
   "outputs": [
    {
     "data": {
      "text/plain": [
       "family_receiver\n",
       "Other                 0.000167\n",
       "f_Lactobacillaceae    0.000012\n",
       "f_Clostridiaceae      0.000010\n",
       "Name: mass_rate*frequency, dtype: float64"
      ]
     },
     "execution_count": 446,
     "metadata": {},
     "output_type": "execute_result"
    }
   ],
   "source": [
    "steadier_sample_cross[(steadier_sample_cross.compound==\"L-Lysine\")].groupby([\"family_receiver\"]).sum()[\"mass_rate*frequency\"].sort_values(ascending=False)\n"
   ]
  },
  {
   "cell_type": "markdown",
   "id": "7c9cafcb-feca-4b94-857b-01cbfddd157f",
   "metadata": {},
   "source": [
    "**Donor of L-Lysine**"
   ]
  },
  {
   "cell_type": "code",
   "execution_count": 447,
   "id": "54ffc4ab-1754-4140-aa1c-a1d95610ba3d",
   "metadata": {},
   "outputs": [
    {
     "data": {
      "text/plain": [
       "family_donor\n",
       "f_Lactobacillaceae    5\n",
       "dtype: int64"
      ]
     },
     "execution_count": 447,
     "metadata": {},
     "output_type": "execute_result"
    }
   ],
   "source": [
    "steadier_sample_cross[(steadier_sample_cross.compound==\"L-Lysine\")].value_counts(\"family_donor\")"
   ]
  },
  {
   "cell_type": "code",
   "execution_count": 448,
   "id": "f3d1f0f6-fde0-44e6-a4dc-3cc42ce75b56",
   "metadata": {},
   "outputs": [
    {
     "data": {
      "text/plain": [
       "family_donor\n",
       "f_Lactobacillaceae    0.000189\n",
       "Name: mass_rate*frequency, dtype: float64"
      ]
     },
     "execution_count": 448,
     "metadata": {},
     "output_type": "execute_result"
    }
   ],
   "source": [
    "steadier_sample_cross[(steadier_sample_cross.compound==\"L-Lysine\")].groupby([\"family_donor\"]).sum()[\"mass_rate*frequency\"].sort_values(ascending=False)\n"
   ]
  },
  {
   "cell_type": "code",
   "execution_count": 449,
   "id": "e27e9a78-7ea4-4fab-b8da-11e133354749",
   "metadata": {},
   "outputs": [
    {
     "data": {
      "text/plain": [
       "community  family_receiver   \n",
       "CM_X       Other                 0.000167\n",
       "           f_Lactobacillaceae    0.000012\n",
       "           f_Clostridiaceae      0.000010\n",
       "Name: mass_rate*frequency, dtype: float64"
      ]
     },
     "execution_count": 449,
     "metadata": {},
     "output_type": "execute_result"
    }
   ],
   "source": [
    "steadier_sample_cross[(steadier_sample_cross.compound==\"L-Lysine\")].groupby([\"community\",\"family_receiver\"]).sum().sort_values([\"community\",\"mass_rate*frequency\"],ascending=[True,False])[\"mass_rate*frequency\"]\n"
   ]
  },
  {
   "cell_type": "code",
   "execution_count": 450,
   "id": "4a11c9de-efc4-4a89-9d6e-edfae3cbb211",
   "metadata": {},
   "outputs": [
    {
     "data": {
      "text/plain": [
       "community  family_donor      \n",
       "CM_X       f_Lactobacillaceae    0.000189\n",
       "Name: mass_rate*frequency, dtype: float64"
      ]
     },
     "execution_count": 450,
     "metadata": {},
     "output_type": "execute_result"
    }
   ],
   "source": [
    "steadier_sample_cross[(steadier_sample_cross.compound==\"L-Lysine\")].groupby([\"community\",\"family_donor\"]).sum().sort_values([\"community\",\"mass_rate*frequency\"],ascending=[True,False])[\"mass_rate*frequency\"]\n"
   ]
  },
  {
   "cell_type": "markdown",
   "id": "f52a0f2a-50cd-4d23-961e-02a937a21409",
   "metadata": {
    "tags": []
   },
   "source": [
    "#### L-Arginine"
   ]
  },
  {
   "cell_type": "markdown",
   "id": "a5e0afda-8fec-4133-b0c2-4ace88e72835",
   "metadata": {},
   "source": [
    "**Receiver of L-Arginine**"
   ]
  },
  {
   "cell_type": "code",
   "execution_count": 451,
   "id": "edcaca28-04c5-4966-b214-ddd28f08916b",
   "metadata": {},
   "outputs": [
    {
     "data": {
      "text/plain": [
       "family_receiver\n",
       "Other                 4\n",
       "f_Clostridiaceae      2\n",
       "f_Lactobacillaceae    2\n",
       "dtype: int64"
      ]
     },
     "execution_count": 451,
     "metadata": {},
     "output_type": "execute_result"
    }
   ],
   "source": [
    "steadier_sample_cross[(steadier_sample_cross.compound==\"L-Arginine\")].value_counts(\"family_receiver\")"
   ]
  },
  {
   "cell_type": "code",
   "execution_count": 452,
   "id": "401eb111-154c-45f1-a889-a5d09ad655d6",
   "metadata": {},
   "outputs": [
    {
     "data": {
      "text/plain": [
       "family_receiver\n",
       "Other                 0.000408\n",
       "f_Clostridiaceae      0.000348\n",
       "f_Lactobacillaceae    0.000021\n",
       "Name: mass_rate*frequency, dtype: float64"
      ]
     },
     "execution_count": 452,
     "metadata": {},
     "output_type": "execute_result"
    }
   ],
   "source": [
    "steadier_sample_cross[(steadier_sample_cross.compound==\"L-Arginine\")].groupby([\"family_receiver\"]).sum()[\"mass_rate*frequency\"].sort_values(ascending=False)\n"
   ]
  },
  {
   "cell_type": "markdown",
   "id": "63a757c3-737c-49f3-91e9-c751e239ae0e",
   "metadata": {},
   "source": [
    "**Donor of L-Arginine**"
   ]
  },
  {
   "cell_type": "code",
   "execution_count": 453,
   "id": "0e9c7141-401d-4a0b-a901-c0acee1c543d",
   "metadata": {},
   "outputs": [
    {
     "data": {
      "text/plain": [
       "family_donor\n",
       "f_Lactobacillaceae    8\n",
       "dtype: int64"
      ]
     },
     "execution_count": 453,
     "metadata": {},
     "output_type": "execute_result"
    }
   ],
   "source": [
    "steadier_sample_cross[(steadier_sample_cross.compound==\"L-Arginine\")].value_counts(\"family_donor\")"
   ]
  },
  {
   "cell_type": "code",
   "execution_count": 454,
   "id": "65f7778a-ff6b-495d-ab96-4627450183c5",
   "metadata": {},
   "outputs": [
    {
     "data": {
      "text/plain": [
       "family_donor\n",
       "f_Lactobacillaceae    0.000777\n",
       "Name: mass_rate*frequency, dtype: float64"
      ]
     },
     "execution_count": 454,
     "metadata": {},
     "output_type": "execute_result"
    }
   ],
   "source": [
    "steadier_sample_cross[(steadier_sample_cross.compound==\"L-Arginine\")].groupby([\"family_donor\"]).sum()[\"mass_rate*frequency\"].sort_values(ascending=False)\n"
   ]
  },
  {
   "cell_type": "code",
   "execution_count": 455,
   "id": "7929cd2d-9d47-44b2-a82b-ad4c346405df",
   "metadata": {},
   "outputs": [
    {
     "data": {
      "text/plain": [
       "community  family_receiver   \n",
       "CM_X       Other                 0.000408\n",
       "           f_Clostridiaceae      0.000348\n",
       "           f_Lactobacillaceae    0.000021\n",
       "Name: mass_rate*frequency, dtype: float64"
      ]
     },
     "execution_count": 455,
     "metadata": {},
     "output_type": "execute_result"
    }
   ],
   "source": [
    "steadier_sample_cross[(steadier_sample_cross.compound==\"L-Arginine\")].groupby([\"community\",\"family_receiver\"]).sum().sort_values([\"community\",\"mass_rate*frequency\"],ascending=[True,False])[\"mass_rate*frequency\"]\n"
   ]
  },
  {
   "cell_type": "code",
   "execution_count": 456,
   "id": "2f23d773-bbc8-4a77-b2c4-c43f8d466185",
   "metadata": {},
   "outputs": [
    {
     "data": {
      "text/plain": [
       "community  family_donor      \n",
       "CM_X       f_Lactobacillaceae    0.000777\n",
       "Name: mass_rate*frequency, dtype: float64"
      ]
     },
     "execution_count": 456,
     "metadata": {},
     "output_type": "execute_result"
    }
   ],
   "source": [
    "steadier_sample_cross[(steadier_sample_cross.compound==\"L-Arginine\")].groupby([\"community\",\"family_donor\"]).sum().sort_values([\"community\",\"mass_rate*frequency\"],ascending=[True,False])[\"mass_rate*frequency\"]\n"
   ]
  },
  {
   "cell_type": "markdown",
   "id": "502f7008-a9f6-41f2-b48f-964d1ab2652d",
   "metadata": {
    "tags": []
   },
   "source": [
    "#### Thymine C5H6N2O2"
   ]
  },
  {
   "cell_type": "markdown",
   "id": "76fce142-3824-4188-9ad0-d209180fb11d",
   "metadata": {},
   "source": [
    "**Receiver of Thymine C5H6N2O2**"
   ]
  },
  {
   "cell_type": "code",
   "execution_count": 457,
   "id": "ad2e7c1e-0249-4cf8-aa18-339ca3b508a1",
   "metadata": {},
   "outputs": [
    {
     "data": {
      "text/plain": [
       "family_receiver\n",
       "Other                1\n",
       "f_Lachnospiraceae    1\n",
       "dtype: int64"
      ]
     },
     "execution_count": 457,
     "metadata": {},
     "output_type": "execute_result"
    }
   ],
   "source": [
    "steadier_sample_cross[(steadier_sample_cross.compound==\"Thymine C5H6N2O2\")].value_counts(\"family_receiver\")"
   ]
  },
  {
   "cell_type": "code",
   "execution_count": 458,
   "id": "ed86c4b3-229d-45da-8649-ff1f0f272999",
   "metadata": {},
   "outputs": [
    {
     "data": {
      "text/plain": [
       "family_receiver\n",
       "f_Lachnospiraceae    1.636116e-06\n",
       "Other                1.521961e-07\n",
       "Name: mass_rate*frequency, dtype: float64"
      ]
     },
     "execution_count": 458,
     "metadata": {},
     "output_type": "execute_result"
    }
   ],
   "source": [
    "steadier_sample_cross[(steadier_sample_cross.compound==\"Thymine C5H6N2O2\")].groupby([\"family_receiver\"]).sum()[\"mass_rate*frequency\"].sort_values(ascending=False)\n"
   ]
  },
  {
   "cell_type": "markdown",
   "id": "f6e812c3-91d6-4f6c-9897-768e0c3315f8",
   "metadata": {},
   "source": [
    "**Donor of Thymine C5H6N2O2**"
   ]
  },
  {
   "cell_type": "code",
   "execution_count": 459,
   "id": "5d1b5e42-6443-486f-b0d7-f021f4898909",
   "metadata": {},
   "outputs": [
    {
     "data": {
      "text/plain": [
       "family_donor\n",
       "Other               1\n",
       "f_Clostridiaceae    1\n",
       "dtype: int64"
      ]
     },
     "execution_count": 459,
     "metadata": {},
     "output_type": "execute_result"
    }
   ],
   "source": [
    "steadier_sample_cross[(steadier_sample_cross.compound==\"Thymine C5H6N2O2\")].value_counts(\"family_donor\")"
   ]
  },
  {
   "cell_type": "code",
   "execution_count": 460,
   "id": "76155505-0b5b-4e5c-aca0-d1a1f259a6a9",
   "metadata": {},
   "outputs": [
    {
     "data": {
      "text/plain": [
       "family_donor\n",
       "Other               1.636116e-06\n",
       "f_Clostridiaceae    1.521961e-07\n",
       "Name: mass_rate*frequency, dtype: float64"
      ]
     },
     "execution_count": 460,
     "metadata": {},
     "output_type": "execute_result"
    }
   ],
   "source": [
    "steadier_sample_cross[(steadier_sample_cross.compound==\"Thymine C5H6N2O2\")].groupby([\"family_donor\"]).sum()[\"mass_rate*frequency\"].sort_values(ascending=False)\n"
   ]
  },
  {
   "cell_type": "code",
   "execution_count": 461,
   "id": "16fbea8a-65b1-4ba4-9c2d-8893212b47f9",
   "metadata": {},
   "outputs": [
    {
     "data": {
      "text/plain": [
       "community  family_receiver  \n",
       "CD_X       f_Lachnospiraceae    1.636116e-06\n",
       "M_X        Other                1.521961e-07\n",
       "Name: mass_rate*frequency, dtype: float64"
      ]
     },
     "execution_count": 461,
     "metadata": {},
     "output_type": "execute_result"
    }
   ],
   "source": [
    "steadier_sample_cross[(steadier_sample_cross.compound==\"Thymine C5H6N2O2\")].groupby([\"community\",\"family_receiver\"]).sum().sort_values([\"community\",\"mass_rate*frequency\"],ascending=[True,False])[\"mass_rate*frequency\"]\n"
   ]
  },
  {
   "cell_type": "code",
   "execution_count": 462,
   "id": "a74e987b-3021-4110-a231-05426a421573",
   "metadata": {},
   "outputs": [
    {
     "data": {
      "text/plain": [
       "community  family_donor    \n",
       "CD_X       Other               1.636116e-06\n",
       "M_X        f_Clostridiaceae    1.521961e-07\n",
       "Name: mass_rate*frequency, dtype: float64"
      ]
     },
     "execution_count": 462,
     "metadata": {},
     "output_type": "execute_result"
    }
   ],
   "source": [
    "steadier_sample_cross[(steadier_sample_cross.compound==\"Thymine C5H6N2O2\")].groupby([\"community\",\"family_donor\"]).sum().sort_values([\"community\",\"mass_rate*frequency\"],ascending=[True,False])[\"mass_rate*frequency\"]\n"
   ]
  },
  {
   "cell_type": "markdown",
   "id": "d66feafe-db18-4da9-8449-f71c6f9bc1a5",
   "metadata": {
    "tags": []
   },
   "source": [
    "#### L-Malate"
   ]
  },
  {
   "cell_type": "markdown",
   "id": "40cb1f0d-e62b-47e2-8b04-fa6aab6bcb65",
   "metadata": {},
   "source": [
    "**Receiver of L-Malate**"
   ]
  },
  {
   "cell_type": "code",
   "execution_count": 463,
   "id": "f74faa95-4a44-4335-9281-bf1ce9b421ae",
   "metadata": {},
   "outputs": [
    {
     "data": {
      "text/plain": [
       "family_receiver\n",
       "Other                 4\n",
       "f_Clostridiaceae      2\n",
       "f_Lactobacillaceae    2\n",
       "dtype: int64"
      ]
     },
     "execution_count": 463,
     "metadata": {},
     "output_type": "execute_result"
    }
   ],
   "source": [
    "steadier_sample_cross[(steadier_sample_cross.compound==\"L-Malate\")].value_counts(\"family_receiver\")"
   ]
  },
  {
   "cell_type": "code",
   "execution_count": 464,
   "id": "64949214-1739-48f2-aeac-d6465da25646",
   "metadata": {},
   "outputs": [
    {
     "data": {
      "text/plain": [
       "family_receiver\n",
       "f_Clostridiaceae      0.003305\n",
       "f_Lactobacillaceae    0.000476\n",
       "Other                 0.000115\n",
       "Name: mass_rate*frequency, dtype: float64"
      ]
     },
     "execution_count": 464,
     "metadata": {},
     "output_type": "execute_result"
    }
   ],
   "source": [
    "steadier_sample_cross[(steadier_sample_cross.compound==\"L-Malate\")].groupby([\"family_receiver\"]).sum()[\"mass_rate*frequency\"].sort_values(ascending=False)\n"
   ]
  },
  {
   "cell_type": "markdown",
   "id": "a00815ab-2cbc-4d18-b861-65f670fbd9ff",
   "metadata": {},
   "source": [
    "**Donor of L-Malate**"
   ]
  },
  {
   "cell_type": "code",
   "execution_count": 465,
   "id": "b2a5c124-4e2f-446d-806e-29ede44b1b06",
   "metadata": {},
   "outputs": [
    {
     "data": {
      "text/plain": [
       "family_donor\n",
       "f_Lachnospiraceae    4\n",
       "Other                2\n",
       "f_Clostridiaceae     2\n",
       "dtype: int64"
      ]
     },
     "execution_count": 465,
     "metadata": {},
     "output_type": "execute_result"
    }
   ],
   "source": [
    "steadier_sample_cross[(steadier_sample_cross.compound==\"L-Malate\")].value_counts(\"family_donor\")"
   ]
  },
  {
   "cell_type": "code",
   "execution_count": 466,
   "id": "096c3ded-fb66-448c-8072-f16bbb4e4015",
   "metadata": {},
   "outputs": [
    {
     "data": {
      "text/plain": [
       "family_donor\n",
       "Other                0.003570\n",
       "f_Lachnospiraceae    0.000256\n",
       "f_Clostridiaceae     0.000070\n",
       "Name: mass_rate*frequency, dtype: float64"
      ]
     },
     "execution_count": 466,
     "metadata": {},
     "output_type": "execute_result"
    }
   ],
   "source": [
    "steadier_sample_cross[(steadier_sample_cross.compound==\"L-Malate\")].groupby([\"family_donor\"]).sum()[\"mass_rate*frequency\"].sort_values(ascending=False)\n"
   ]
  },
  {
   "cell_type": "code",
   "execution_count": 467,
   "id": "65957f95-0a02-4727-8dc0-d6918b7d2efa",
   "metadata": {},
   "outputs": [
    {
     "data": {
      "text/plain": [
       "community  family_donor     \n",
       "CD_X       f_Lachnospiraceae    0.000045\n",
       "CM_X       Other                0.003570\n",
       "           f_Lachnospiraceae    0.000211\n",
       "M_X        f_Clostridiaceae     0.000070\n",
       "Name: mass_rate*frequency, dtype: float64"
      ]
     },
     "execution_count": 467,
     "metadata": {},
     "output_type": "execute_result"
    }
   ],
   "source": [
    "steadier_sample_cross[(steadier_sample_cross.compound==\"L-Malate\")].groupby([\"community\",\"family_donor\"]).sum().sort_values([\"community\",\"mass_rate*frequency\"],ascending=[True,False])[\"mass_rate*frequency\"]\n"
   ]
  },
  {
   "cell_type": "markdown",
   "id": "2b5a796c-d088-42fa-be0b-f7afbc323ac7",
   "metadata": {
    "tags": []
   },
   "source": [
    "#### Succinate"
   ]
  },
  {
   "cell_type": "markdown",
   "id": "b089abec-6128-4e5f-84ff-d3622d496b94",
   "metadata": {},
   "source": [
    "**Receiver of Succinate**"
   ]
  },
  {
   "cell_type": "code",
   "execution_count": 468,
   "id": "c99ecc04-5fd7-49ce-bba3-d22a3141d730",
   "metadata": {},
   "outputs": [
    {
     "data": {
      "text/plain": [
       "family_receiver\n",
       "f_Lactobacillaceae    1\n",
       "dtype: int64"
      ]
     },
     "execution_count": 468,
     "metadata": {},
     "output_type": "execute_result"
    }
   ],
   "source": [
    "steadier_sample_cross[(steadier_sample_cross.compound==\"Succinate\")].value_counts(\"family_receiver\")"
   ]
  },
  {
   "cell_type": "code",
   "execution_count": 469,
   "id": "6a13bff2-83ee-4682-a277-65d1a2650ba9",
   "metadata": {},
   "outputs": [
    {
     "data": {
      "text/plain": [
       "family_receiver\n",
       "f_Lactobacillaceae    0.000025\n",
       "Name: mass_rate*frequency, dtype: float64"
      ]
     },
     "execution_count": 469,
     "metadata": {},
     "output_type": "execute_result"
    }
   ],
   "source": [
    "steadier_sample_cross[(steadier_sample_cross.compound==\"Succinate\")].groupby([\"family_receiver\"]).sum()[\"mass_rate*frequency\"].sort_values(ascending=False)\n"
   ]
  },
  {
   "cell_type": "markdown",
   "id": "0452222d-9f9f-40cd-a7d1-6ffd8bf67e45",
   "metadata": {},
   "source": [
    "**Donor of Succinate**"
   ]
  },
  {
   "cell_type": "code",
   "execution_count": 470,
   "id": "adbda29e-ee7e-4799-8c72-d685dc20925a",
   "metadata": {},
   "outputs": [
    {
     "data": {
      "text/plain": [
       "family_donor\n",
       "f_Clostridiaceae    1\n",
       "dtype: int64"
      ]
     },
     "execution_count": 470,
     "metadata": {},
     "output_type": "execute_result"
    }
   ],
   "source": [
    "steadier_sample_cross[(steadier_sample_cross.compound==\"Succinate\")].value_counts(\"family_donor\")"
   ]
  },
  {
   "cell_type": "code",
   "execution_count": 471,
   "id": "90d29478-6c6f-49bb-a6b4-65516edc6665",
   "metadata": {},
   "outputs": [
    {
     "data": {
      "text/plain": [
       "family_donor\n",
       "f_Clostridiaceae    0.000025\n",
       "Name: mass_rate*frequency, dtype: float64"
      ]
     },
     "execution_count": 471,
     "metadata": {},
     "output_type": "execute_result"
    }
   ],
   "source": [
    "steadier_sample_cross[(steadier_sample_cross.compound==\"Succinate\")].groupby([\"family_donor\"]).sum()[\"mass_rate*frequency\"].sort_values(ascending=False)\n"
   ]
  },
  {
   "cell_type": "code",
   "execution_count": 472,
   "id": "afc5ad4d-ec62-495c-bcf0-bd149044da21",
   "metadata": {},
   "outputs": [
    {
     "data": {
      "text/plain": [
       "community  family_donor    \n",
       "CM_X       f_Clostridiaceae    0.000025\n",
       "Name: mass_rate*frequency, dtype: float64"
      ]
     },
     "execution_count": 472,
     "metadata": {},
     "output_type": "execute_result"
    }
   ],
   "source": [
    "steadier_sample_cross[(steadier_sample_cross.compound==\"Succinate\")].groupby([\"community\",\"family_donor\"]).sum().sort_values([\"community\",\"mass_rate*frequency\"],ascending=[True,False])[\"mass_rate*frequency\"]\n"
   ]
  },
  {
   "cell_type": "markdown",
   "id": "f6717a84-b141-4c0a-a8b6-f95a2c5e465e",
   "metadata": {
    "tags": []
   },
   "source": [
    "#### Acetate"
   ]
  },
  {
   "cell_type": "markdown",
   "id": "44bcdde1-63fa-4238-9181-9551dc9adb54",
   "metadata": {},
   "source": [
    "**Receiver of Acetate**"
   ]
  },
  {
   "cell_type": "code",
   "execution_count": 473,
   "id": "df822868-7e11-47bd-b469-d2dfad5863c0",
   "metadata": {},
   "outputs": [
    {
     "data": {
      "text/plain": [
       "Series([], dtype: int64)"
      ]
     },
     "execution_count": 473,
     "metadata": {},
     "output_type": "execute_result"
    }
   ],
   "source": [
    "steadier_sample_cross[(steadier_sample_cross.compound.str.contains(\"Acetate\"))].value_counts(\"family_receiver\")"
   ]
  },
  {
   "cell_type": "code",
   "execution_count": 474,
   "id": "a85d10a5-b372-49c0-a373-073505d93992",
   "metadata": {},
   "outputs": [
    {
     "data": {
      "text/plain": [
       "Series([], Name: mass_rate*frequency, dtype: float64)"
      ]
     },
     "execution_count": 474,
     "metadata": {},
     "output_type": "execute_result"
    }
   ],
   "source": [
    "steadier_sample_cross[(steadier_sample_cross.compound==\"Acetate\")].groupby([\"family_receiver\"]).sum()[\"mass_rate*frequency\"].sort_values(ascending=False)\n"
   ]
  },
  {
   "cell_type": "markdown",
   "id": "815387d3-f924-4275-829b-1ebf4d1e9acb",
   "metadata": {},
   "source": [
    "**Donor of Acetate**"
   ]
  },
  {
   "cell_type": "code",
   "execution_count": 475,
   "id": "31d213d1-4be9-4a50-961a-e8964ff2e619",
   "metadata": {},
   "outputs": [
    {
     "data": {
      "text/plain": [
       "Series([], dtype: int64)"
      ]
     },
     "execution_count": 475,
     "metadata": {},
     "output_type": "execute_result"
    }
   ],
   "source": [
    "steadier_sample_cross[(steadier_sample_cross.compound==\"Acetate\")].value_counts(\"family_donor\")"
   ]
  },
  {
   "cell_type": "code",
   "execution_count": 476,
   "id": "9a92eaea-6e08-4b53-8a10-cc390e41a668",
   "metadata": {},
   "outputs": [
    {
     "data": {
      "text/plain": [
       "Series([], Name: mass_rate*frequency, dtype: float64)"
      ]
     },
     "execution_count": 476,
     "metadata": {},
     "output_type": "execute_result"
    }
   ],
   "source": [
    "steadier_sample_cross[(steadier_sample_cross.compound==\"Acetate\")].groupby([\"family_donor\"]).sum()[\"mass_rate*frequency\"].sort_values(ascending=False)\n"
   ]
  },
  {
   "cell_type": "code",
   "execution_count": null,
   "id": "7f22602c-ae4e-4ff4-a278-70c6f6846ba4",
   "metadata": {},
   "outputs": [],
   "source": []
  }
 ],
 "metadata": {
  "kernelspec": {
   "display_name": "MAGs_RecAndAn2",
   "language": "python",
   "name": "mags_recandan2"
  },
  "language_info": {
   "codemirror_mode": {
    "name": "ipython",
    "version": 3
   },
   "file_extension": ".py",
   "mimetype": "text/x-python",
   "name": "python",
   "nbconvert_exporter": "python",
   "pygments_lexer": "ipython3",
   "version": "3.9.13"
  }
 },
 "nbformat": 4,
 "nbformat_minor": 5
}

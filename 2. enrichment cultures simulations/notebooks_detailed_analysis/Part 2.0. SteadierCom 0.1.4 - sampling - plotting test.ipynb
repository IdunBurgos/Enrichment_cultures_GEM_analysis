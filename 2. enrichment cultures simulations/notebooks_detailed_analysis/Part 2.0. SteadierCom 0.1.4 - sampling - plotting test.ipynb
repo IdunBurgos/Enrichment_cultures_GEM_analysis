{
 "cells": [
  {
   "cell_type": "code",
   "execution_count": 1,
   "id": "88920433-6cdd-4000-95ad-ab663ecb1c8d",
   "metadata": {},
   "outputs": [],
   "source": [
    "import pandas as pd\n",
    "\n",
    "import sys\n",
    "sys.path.append('../functions')\n",
    "sys.path.append('../functions_steadiercom/')\n",
    "\n",
    "import general_functions as general_func\n",
    "import steadiercom_samples_plotting"
   ]
  },
  {
   "cell_type": "code",
   "execution_count": 2,
   "id": "ca2c9a76-9e82-431e-bb22-32de8fd6a921",
   "metadata": {
    "tags": []
   },
   "outputs": [],
   "source": [
    "import numpy as np\n",
    "import pandas as pd"
   ]
  },
  {
   "cell_type": "code",
   "execution_count": 3,
   "id": "6a942613-34c9-49de-977c-b05c5bb3b2be",
   "metadata": {},
   "outputs": [],
   "source": [
    "%load_ext autoreload\n",
    "%autoreload 2"
   ]
  },
  {
   "cell_type": "markdown",
   "id": "67c50bf5-254d-43b7-baec-91cd9bb41f97",
   "metadata": {},
   "source": [
    "### Example"
   ]
  },
  {
   "cell_type": "code",
   "execution_count": 4,
   "id": "56e42fe0-66c6-4cd1-b24b-f49f79ff8e23",
   "metadata": {},
   "outputs": [
    {
     "data": {
      "text/html": [
       "<div>\n",
       "<style scoped>\n",
       "    .dataframe tbody tr th:only-of-type {\n",
       "        vertical-align: middle;\n",
       "    }\n",
       "\n",
       "    .dataframe tbody tr th {\n",
       "        vertical-align: top;\n",
       "    }\n",
       "\n",
       "    .dataframe thead th {\n",
       "        text-align: right;\n",
       "    }\n",
       "</style>\n",
       "<table border=\"1\" class=\"dataframe\">\n",
       "  <thead>\n",
       "    <tr style=\"text-align: right;\">\n",
       "      <th></th>\n",
       "      <th>donor</th>\n",
       "      <th>receiver</th>\n",
       "      <th>compound</th>\n",
       "      <th>mass_rate</th>\n",
       "      <th>rate</th>\n",
       "      <th>frequency</th>\n",
       "      <th>community</th>\n",
       "      <th>medium</th>\n",
       "    </tr>\n",
       "  </thead>\n",
       "  <tbody>\n",
       "    <tr>\n",
       "      <th>0</th>\n",
       "      <td>environment</td>\n",
       "      <td>member1</td>\n",
       "      <td>M_cell5_e</td>\n",
       "      <td>0.1</td>\n",
       "      <td>0.5</td>\n",
       "      <td>0.5</td>\n",
       "      <td>CD_X</td>\n",
       "      <td>SC1_C</td>\n",
       "    </tr>\n",
       "    <tr>\n",
       "      <th>1</th>\n",
       "      <td>member2</td>\n",
       "      <td>member1</td>\n",
       "      <td>M_ac_e</td>\n",
       "      <td>0.5</td>\n",
       "      <td>0.5</td>\n",
       "      <td>0.2</td>\n",
       "      <td>CD_X</td>\n",
       "      <td>SC1_C</td>\n",
       "    </tr>\n",
       "    <tr>\n",
       "      <th>2</th>\n",
       "      <td>member2</td>\n",
       "      <td>environment</td>\n",
       "      <td>M_hxa_e</td>\n",
       "      <td>0.1</td>\n",
       "      <td>0.5</td>\n",
       "      <td>0.7</td>\n",
       "      <td>CD_X</td>\n",
       "      <td>SC1_C</td>\n",
       "    </tr>\n",
       "    <tr>\n",
       "      <th>3</th>\n",
       "      <td>member1</td>\n",
       "      <td>member2</td>\n",
       "      <td>M_gua_e</td>\n",
       "      <td>0.5</td>\n",
       "      <td>0.5</td>\n",
       "      <td>0.2</td>\n",
       "      <td>CD_X</td>\n",
       "      <td>SC1_C</td>\n",
       "    </tr>\n",
       "  </tbody>\n",
       "</table>\n",
       "</div>"
      ],
      "text/plain": [
       "         donor     receiver   compound  mass_rate  rate  frequency community  \\\n",
       "0  environment      member1  M_cell5_e        0.1   0.5        0.5      CD_X   \n",
       "1      member2      member1     M_ac_e        0.5   0.5        0.2      CD_X   \n",
       "2      member2  environment    M_hxa_e        0.1   0.5        0.7      CD_X   \n",
       "3      member1      member2    M_gua_e        0.5   0.5        0.2      CD_X   \n",
       "\n",
       "  medium  \n",
       "0  SC1_C  \n",
       "1  SC1_C  \n",
       "2  SC1_C  \n",
       "3  SC1_C  "
      ]
     },
     "execution_count": 4,
     "metadata": {},
     "output_type": "execute_result"
    }
   ],
   "source": [
    "test = pd.DataFrame([[\"environment\",\"member1\",\"M_cell5_e\",0.1,0.5,0.5,\"CD_X\",\"SC1_C\"],\n",
    "[\"member2\",\"member1\",\"M_ac_e\",0.5,0.5,0.2,\"CD_X\",\"SC1_C\"],\n",
    "[\"member2\",\"environment\",\"M_hxa_e\",0.1,0.5,0.7,\"CD_X\",\"SC1_C\"],\n",
    "[\"member1\",\"member2\",\"M_gua_e\",0.5,0.5,0.2,\"CD_X\",\"SC1_C\"]],columns=['donor', 'receiver', 'compound', 'mass_rate', 'rate', 'frequency',\n",
    "       'community', 'medium'],)\n",
    "test"
   ]
  },
  {
   "cell_type": "code",
   "execution_count": 5,
   "id": "dbf8d38b-daac-4015-bfc9-9f9236f5f751",
   "metadata": {},
   "outputs": [
    {
     "data": {
      "text/html": [
       "<div>\n",
       "<style scoped>\n",
       "    .dataframe tbody tr th:only-of-type {\n",
       "        vertical-align: middle;\n",
       "    }\n",
       "\n",
       "    .dataframe tbody tr th {\n",
       "        vertical-align: top;\n",
       "    }\n",
       "\n",
       "    .dataframe thead th {\n",
       "        text-align: right;\n",
       "    }\n",
       "</style>\n",
       "<table border=\"1\" class=\"dataframe\">\n",
       "  <thead>\n",
       "    <tr style=\"text-align: right;\">\n",
       "      <th></th>\n",
       "      <th>Source</th>\n",
       "      <th>Substrate</th>\n",
       "      <th>new_coverage</th>\n",
       "    </tr>\n",
       "    <tr>\n",
       "      <th>MAG</th>\n",
       "      <th></th>\n",
       "      <th></th>\n",
       "      <th></th>\n",
       "    </tr>\n",
       "  </thead>\n",
       "  <tbody>\n",
       "    <tr>\n",
       "      <th>member1</th>\n",
       "      <td>Compost_Digestate</td>\n",
       "      <td>Xylan</td>\n",
       "      <td>0.4</td>\n",
       "    </tr>\n",
       "    <tr>\n",
       "      <th>member2</th>\n",
       "      <td>Compost_Digestate</td>\n",
       "      <td>Xylan</td>\n",
       "      <td>0.1</td>\n",
       "    </tr>\n",
       "  </tbody>\n",
       "</table>\n",
       "</div>"
      ],
      "text/plain": [
       "                    Source Substrate  new_coverage\n",
       "MAG                                               \n",
       "member1  Compost_Digestate     Xylan           0.4\n",
       "member2  Compost_Digestate     Xylan           0.1"
      ]
     },
     "execution_count": 5,
     "metadata": {},
     "output_type": "execute_result"
    }
   ],
   "source": [
    "all_mags_paper_test = pd.DataFrame([[\"Compost_Digestate\",\"Xylan\",0.4],[\"Compost_Digestate\",\"Xylan\",0.1]],index=[\"member1\",\"member2\"],columns=[\"Source\",\"Substrate\",\"new_coverage\"])\n",
    "all_mags_paper_test.index.name=\"MAG\"\n",
    "all_mags_paper_test"
   ]
  },
  {
   "cell_type": "code",
   "execution_count": 6,
   "id": "60fd1c83-a34f-4974-a01a-274ae32b7806",
   "metadata": {},
   "outputs": [
    {
     "ename": "KeyError",
     "evalue": "'member1'",
     "output_type": "error",
     "traceback": [
      "\u001b[0;31m---------------------------------------------------------------------------\u001b[0m",
      "\u001b[0;31mKeyError\u001b[0m                                  Traceback (most recent call last)",
      "Cell \u001b[0;32mIn[6], line 2\u001b[0m\n\u001b[1;32m      1\u001b[0m links,members \u001b[38;5;241m=\u001b[39m steadiercom_samples_plotting\u001b[38;5;241m.\u001b[39mcircos_plot_process_data(test,community_id\u001b[38;5;241m=\u001b[39m\u001b[38;5;124m\"\u001b[39m\u001b[38;5;124mCD_X\u001b[39m\u001b[38;5;124m\"\u001b[39m,all_mags_paper\u001b[38;5;241m=\u001b[39m all_mags_paper_test,min_flux\u001b[38;5;241m=\u001b[39m\u001b[38;5;241m0\u001b[39m,min_frequency\u001b[38;5;241m=\u001b[39m\u001b[38;5;241m0.1\u001b[39m)\n\u001b[0;32m----> 2\u001b[0m fig,mag2color_circos \u001b[38;5;241m=\u001b[39m \u001b[43msteadiercom_samples_plotting\u001b[49m\u001b[38;5;241;43m.\u001b[39;49m\u001b[43mplot_circos_plot\u001b[49m\u001b[43m(\u001b[49m\u001b[43mlinks\u001b[49m\u001b[43m,\u001b[49m\u001b[43mmembers\u001b[49m\u001b[43m,\u001b[49m\u001b[43mfontsize\u001b[49m\u001b[38;5;241;43m=\u001b[39;49m\u001b[38;5;241;43m15\u001b[39;49m\u001b[43m)\u001b[49m\n",
      "File \u001b[0;32m~/GEMs_from_MAGs/2. Notebooks - enrichment cultures simulations/../functions_steadiercom/steadiercom_samples_plotting.py:124\u001b[0m, in \u001b[0;36mplot_circos_plot\u001b[0;34m(links, members, fontsize, title)\u001b[0m\n\u001b[1;32m    121\u001b[0m track \u001b[38;5;241m=\u001b[39m sector\u001b[38;5;241m.\u001b[39madd_track((\u001b[38;5;241m95\u001b[39m, \u001b[38;5;241m100\u001b[39m))\n\u001b[1;32m    123\u001b[0m \u001b[38;5;66;03m#track.axis(fc=cmap(index_color[i]))\u001b[39;00m\n\u001b[0;32m--> 124\u001b[0m track\u001b[38;5;241m.\u001b[39maxis(fc\u001b[38;5;241m=\u001b[39mgenus2color_dict[\u001b[43mmag2genus_dict\u001b[49m\u001b[43m[\u001b[49m\u001b[43msector\u001b[49m\u001b[38;5;241;43m.\u001b[39;49m\u001b[43mname\u001b[49m\u001b[43m]\u001b[49m])\n\u001b[1;32m    125\u001b[0m genera_specific\u001b[38;5;241m.\u001b[39mappend(mag2genus_dict[sector\u001b[38;5;241m.\u001b[39mname])\n\u001b[1;32m    127\u001b[0m i\u001b[38;5;241m+\u001b[39m\u001b[38;5;241m=\u001b[39m\u001b[38;5;241m1\u001b[39m\n",
      "\u001b[0;31mKeyError\u001b[0m: 'member1'"
     ]
    }
   ],
   "source": [
    "links,members = steadiercom_samples_plotting.circos_plot_process_data(test,community_id=\"CD_X\",all_mags_paper= all_mags_paper_test,min_flux=0,min_frequency=0.1)\n",
    "fig,mag2color_circos = steadiercom_samples_plotting.plot_circos_plot(links,members,fontsize=15)"
   ]
  },
  {
   "cell_type": "code",
   "execution_count": null,
   "id": "9d2ee2e2-a374-482d-8907-b4238852c943",
   "metadata": {},
   "outputs": [],
   "source": [
    "data_receiver_df,data_donor_df,community_abundance = steadiercom_samples_plotting.data_uptake_prod(test,all_mags_paper=all_mags_paper_test,community_id=\"CD_X\",compound_type=False,only_media=False)\n",
    "\n",
    "\n",
    "fig,mag2color_bar = steadiercom_samples_plotting.plot_uptake_prod(data_receiver_df,data_donor_df,community_abundance)\n"
   ]
  },
  {
   "cell_type": "code",
   "execution_count": null,
   "id": "3a542030-e18b-4cd8-93a2-b1b8bf036e6c",
   "metadata": {},
   "outputs": [],
   "source": [
    "mag2color_bar"
   ]
  },
  {
   "cell_type": "code",
   "execution_count": null,
   "id": "b1666bf0-e6a7-4ad1-bfaa-31b9f750cdc5",
   "metadata": {},
   "outputs": [],
   "source": [
    "mag2color_circos"
   ]
  },
  {
   "cell_type": "code",
   "execution_count": null,
   "id": "b1f802e5-e3ec-4f1d-a103-489cab335b55",
   "metadata": {},
   "outputs": [],
   "source": []
  }
 ],
 "metadata": {
  "kernelspec": {
   "display_name": "MAGs_RecAndAn2",
   "language": "python",
   "name": "mags_recandan2"
  },
  "language_info": {
   "codemirror_mode": {
    "name": "ipython",
    "version": 3
   },
   "file_extension": ".py",
   "mimetype": "text/x-python",
   "name": "python",
   "nbconvert_exporter": "python",
   "pygments_lexer": "ipython3",
   "version": "3.9.13"
  }
 },
 "nbformat": 4,
 "nbformat_minor": 5
}
